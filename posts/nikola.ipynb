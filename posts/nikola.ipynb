{
 "cells": [
  {
   "cell_type": "code",
   "execution_count": 2,
   "metadata": {
    "collapsed": false,
    "tags": [
     "worksheet-0"
    ]
   },
   "outputs": [],
   "source": [
    "import shutil\n",
    "BASE=\"~/devel\"\n",
    "BLOG=\"openbermuda\"\n",
    "BLOG=\"peakrisk\""
   ]
  },
  {
   "cell_type": "code",
   "execution_count": 3,
   "metadata": {
    "collapsed": false,
    "tags": [
     "worksheet-0"
    ]
   },
   "outputs": [
    {
     "name": "stdout",
     "output_type": "stream",
     "text": [
      "/home/jng/devel/peakrisk\n"
     ]
    }
   ],
   "source": [
    "cd ~/devel/$BLOG"
   ]
  },
  {
   "cell_type": "code",
   "execution_count": 4,
   "metadata": {
    "collapsed": false,
    "tags": [
     "worksheet-0"
    ]
   },
   "outputs": [
    {
     "name": "stdout",
     "output_type": "stream",
     "text": [
      "/home/jng/devel/peakrisk\r\n"
     ]
    }
   ],
   "source": [
    "!pwd"
   ]
  },
  {
   "cell_type": "code",
   "execution_count": null,
   "metadata": {
    "collapsed": false,
    "tags": [
     "worksheet-0"
    ]
   },
   "outputs": [],
   "source": [
    "# oops created in wrong place\n",
    "OOPS=\"peakrisk\""
   ]
  },
  {
   "cell_type": "code",
   "execution_count": null,
   "metadata": {
    "collapsed": false,
    "tags": [
     "worksheet-0"
    ]
   },
   "outputs": [],
   "source": [
    "# mv stuff here\n",
    "!mv $BASE/$OOPS/experimenting-and-building-things.* ,,/../"
   ]
  },
  {
   "cell_type": "code",
   "execution_count": 5,
   "metadata": {
    "collapsed": false,
    "tags": [
     "worksheet-0"
    ]
   },
   "outputs": [
    {
     "name": "stdout",
     "output_type": "stream",
     "text": [
      "Creating New Post\n",
      "-----------------\n",
      "\n",
      "Title: Latest Weather\n",
      "Scanning posts.......done!\n",
      "\u001b[33;01m[2015-07-19T18:12:51Z] WARNING: new_post: This compiler does not support one-file posts.\u001b[39;49;00m\n",
      "\u001b[37m[2015-07-19T18:12:51Z] INFO: new_post: Your post's metadata is at: posts/latest-weather.meta\u001b[39;49;00m\n",
      "\u001b[37m[2015-07-19T18:12:51Z] INFO: new_post: Your post's text is at: posts/latest-weather.ipynb\u001b[39;49;00m\n"
     ]
    }
   ],
   "source": [
    "!nikola new_post -t \"Latest Weather\""
   ]
  },
  {
   "cell_type": "code",
   "execution_count": 2,
   "metadata": {
    "collapsed": false,
    "tags": [
     "worksheet-0"
    ]
   },
   "outputs": [
    {
     "name": "stdout",
     "output_type": "stream",
     "text": [
      "Scanning posts.......done!\n",
      ".  render_tags:output/categories/gpl.html\n",
      ".  render_tags:output/categories/weather.html\n",
      ".  render_tags:output/categories/open-data.html\n",
      ".  render_tags:output/categories/finance.html\n",
      ".  render_tags:output/categories/pyephem.html\n",
      ".  render_tags:output/categories/astronomy.html\n",
      ".  render_tags:output/categories/information-security.html\n",
      ".  render_tags:output/categories/git.html\n",
      ".  render_tags:output/categories/python-draft.html\n",
      ".  render_tags:output/categories/jupyter.html\n",
      ".  render_tags:output/categories/computer.html\n",
      ".  render_tags:output/categories/meta-data.html\n",
      ".  render_tags:output/categories/air-pressure.html\n",
      ".  render_tags:output/categories/moon.html\n",
      ".  render_tags:output/categories/tides.html\n",
      ".  render_tags:output/categories/free-software.html\n",
      ".  render_tags:output/categories/cyber-risk.html\n",
      ".  render_tags:output/categories/data-science.html\n",
      ".  render_tags:output/categories/astropy.html\n",
      ".  render_tags:output/categories/python.html\n"
     ]
    }
   ],
   "source": [
    "!nikola build"
   ]
  },
  {
   "cell_type": "code",
   "execution_count": null,
   "metadata": {
    "collapsed": false,
    "tags": [
     "worksheet-0"
    ]
   },
   "outputs": [
    {
     "name": "stdout",
     "output_type": "stream",
     "text": [
      "\u001b[37m[2015-07-07T15:08:16Z] INFO: github_deploy: ==> ['ghp-import', '-n', '-m', 'Nikola auto commit.\\n\\nSource commit: 05531ce91be94f033975ba6267a16e291309f447\\nNikola version: 7.5.1', '-p', '-r', 'origin', '-b', 'gh-pages', 'output']\u001b[39;49;00m\n",
      "Scanning posts.......done!\n",
      ".  render_pages:output/posts/nikola.html\n",
      ".  render_tags:output/categories/linux.html\n",
      ".  render_tags:output/categories/computer.html\n",
      ".  render_tags:output/categories/data-science.html\n",
      ".  render_tags:output/categories/free-software.html\n",
      ".  render_tags:output/categories/air-pressure.html\n",
      ".  render_tags:output/categories/python.html\n",
      ".  render_tags:output/categories/weather.html\n",
      ".  render_tags:output/categories/cyber-risk.html\n",
      ".  render_tags:output/categories/finance.html\n",
      ".  render_tags:output/categories/meta-data.html\n",
      ".  render_tags:output/categories/jupyter.html\n",
      ".  render_tags:output/categories/python-draft.html\n",
      ".  render_tags:output/categories/astropy.html\n",
      ".  render_tags:output/categories/moon.html\n",
      ".  render_tags:output/categories/information-security.html\n",
      ".  render_tags:output/categories/pyephem.html\n",
      ".  render_tags:output/categories/astronomy.html\n",
      ".  render_tags:output/categories/pandas.html\n",
      ".  render_sources:output/posts/nikola.ipynb\n",
      ".  render_posts:timeline_changes\n",
      ".  render_posts:cache/posts/nikola.html\n",
      "Scanning posts.......done!\n"
     ]
    }
   ],
   "source": [
    "!nikola github_deploy"
   ]
  }
 ],
 "metadata": {
  "kernelspec": {
   "display_name": "Python 3",
   "language": "python",
   "name": "python3"
  },
  "language_info": {
   "codemirror_mode": {
    "name": "ipython",
    "version": 3
   },
   "file_extension": ".py",
   "mimetype": "text/x-python",
   "name": "python",
   "nbconvert_exporter": "python",
   "pygments_lexer": "ipython3",
   "version": "3.4.3"
  }
 },
 "nbformat": 4,
 "nbformat_minor": 0
}
