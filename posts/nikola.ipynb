{
 "cells": [
  {
   "cell_type": "code",
   "execution_count": 17,
   "metadata": {
    "collapsed": false,
    "tags": [
     "worksheet-0"
    ]
   },
   "outputs": [],
   "source": [
    "import shutil\n",
    "BASE=\"~/devel\"\n",
    "BLOG=\"openbermuda\"\n",
    "#BLOG=\"peakrisk\""
   ]
  },
  {
   "cell_type": "code",
   "execution_count": 18,
   "metadata": {
    "collapsed": false,
    "tags": [
     "worksheet-0"
    ]
   },
   "outputs": [
    {
     "name": "stdout",
     "output_type": "stream",
     "text": [
      "/home/jng/devel/openbermuda\n"
     ]
    }
   ],
   "source": [
    "cd ~/devel/$BLOG"
   ]
  },
  {
   "cell_type": "code",
   "execution_count": 19,
   "metadata": {
    "collapsed": false,
    "tags": [
     "worksheet-0"
    ]
   },
   "outputs": [
    {
     "name": "stdout",
     "output_type": "stream",
     "text": [
      "/home/jng/devel/openbermuda\r\n"
     ]
    }
   ],
   "source": [
    "!pwd"
   ]
  },
  {
   "cell_type": "code",
   "execution_count": 27,
   "metadata": {
    "collapsed": false,
    "tags": [
     "worksheet-0"
    ]
   },
   "outputs": [],
   "source": [
    "# oops created in wrong place\n",
    "OOPS=\"peakrisk\""
   ]
  },
  {
   "cell_type": "code",
   "execution_count": 28,
   "metadata": {
    "collapsed": false,
    "tags": [
     "worksheet-0"
    ]
   },
   "outputs": [
    {
     "name": "stdout",
     "output_type": "stream",
     "text": [
      "mv: cannot stat ‘/home/jng/devel/peakrisk/experimenting-and-building-things.*’: No such file or directory\r\n"
     ]
    }
   ],
   "source": [
    "# mv stuff here\n",
    "!mv $BASE/$OOPS/experimenting-and-building-things.* ,,/../"
   ]
  },
  {
   "cell_type": "code",
   "execution_count": 16,
   "metadata": {
    "collapsed": false
   },
   "outputs": [
    {
     "name": "stdout",
     "output_type": "stream",
     "text": [
      "Creating New Post\n",
      "-----------------\n",
      "\n",
      "Title: More fourier transforms in the atmosphere\n",
      "Scanning posts.......done!\n",
      "\u001b[33;01m[2015-08-29T04:09:51Z] WARNING: new_post: This compiler does not support one-file posts.\u001b[39;49;00m\n",
      "\u001b[37m[2015-08-29T04:09:51Z] INFO: new_post: Your post's metadata is at: posts/more-fourier-transforms-in-the-atmosphere.meta\u001b[39;49;00m\n",
      "\u001b[37m[2015-08-29T04:09:51Z] INFO: new_post: Your post's text is at: posts/more-fourier-transforms-in-the-atmosphere.ipynb\u001b[39;49;00m\n"
     ]
    }
   ],
   "source": [
    "!nikola new_post -t \"More fourier transforms in the atmosphere\""
   ]
  },
  {
   "cell_type": "code",
   "execution_count": 24,
   "metadata": {
    "collapsed": false,
    "tags": [
     "worksheet-0"
    ]
   },
   "outputs": [
    {
     "name": "stdout",
     "output_type": "stream",
     "text": [
      "Creating New Post\n",
      "-----------------\n",
      "\n",
      "Title: Fred Update\n",
      "Scanning posts........done!\n",
      "\u001b[37m[2015-09-01T00:41:56Z] INFO: new_post: Your post's text is at: posts/fred-update.rst\u001b[39;49;00m\n"
     ]
    }
   ],
   "source": [
    "!nikola new_post -t \"Fred Update\" -f rest"
   ]
  },
  {
   "cell_type": "code",
   "execution_count": 30,
   "metadata": {
    "collapsed": false
   },
   "outputs": [
    {
     "name": "stdout",
     "output_type": "stream",
     "text": [
      "Purpose: create a new blog post or site page\r\n",
      "Usage:   nikola new_post [options] [path]\r\n",
      "\r\n",
      "Options:\r\n",
      "  -p, --page                Create a page instead of a blog post. (see also: `nikola new_page`)\r\n",
      "  -t ARG, --title=ARG       Title for the post.\r\n",
      "  -a ARG, --author=ARG      Author of the post.\r\n",
      "  --tags=ARG                Comma-separated tags for the post.\r\n",
      "  -1                        Create the post with embedded metadata (single file format)\r\n",
      "  -2                        Create the post with separate metadata (two file format)\r\n",
      "  -e                        Open the post (and meta file, if any) in $EDITOR after creation.\r\n",
      "  -f ARG, --format=ARG      Markup format for the post, one of rest, markdown, wiki, bbcode, html, textile, txt2tags\r\n",
      "  -s                        Schedule the post based on recurrence rule\r\n",
      "  -i ARG, --import=ARG      Import an existing file instead of creating a placeholder\r\n"
     ]
    }
   ],
   "source": [
    "!nikola new_post --help"
   ]
  },
  {
   "cell_type": "code",
   "execution_count": 28,
   "metadata": {
    "collapsed": false
   },
   "outputs": [
    {
     "name": "stdout",
     "output_type": "stream",
     "text": [
      "Scanning posts........done!\n",
      ".  render_sources:output/posts/fred-update.rst\n",
      ".  render_posts:timeline_changes\n",
      ".  render_posts:cache/posts/fred-update.html\n",
      ".  render_indexes:output/blog/index.html\n",
      ".  render_tags:output/categories/pycon.html\n",
      ".  render_tags:output/categories/cray.html\n",
      ".  render_tags:output/categories/art.html\n",
      ".  render_tags:output/categories/gardening.html\n",
      ".  render_tags:output/categories/open-source.html\n",
      ".  render_tags:output/categories/kindling.html\n",
      ".  render_tags:output/categories/67.html\n",
      ".  render_tags:output/categories/free-software.html\n",
      ".  render_tags:output/categories/education.html\n",
      ".  render_tags:output/categories/javascript.html\n",
      ".  render_tags:output/categories/python.html\n",
      ".  render_tags:output/categories/80days.html\n",
      ".  render_tags:output/categories/2015.html\n",
      ".  render_tags:output/categories/fred.html\n",
      ".  render_tags:output/categories/linux.html\n",
      ".  render_tags:output/categories/music.html\n",
      ".  render_tags:output/categories/net.html\n",
      ".  render_tags:output/categories/2014.html\n",
      ".  render_tags:output/categories/blades.html\n",
      ".  render_tags:output/categories/weather.html\n",
      ".  render_tags:output/categories/awesome.html\n",
      ".  render_tags:output/categories/cray-xmp.html\n",
      ".  render_tags:output/categories/silverlight.html\n",
      ".  render_tags:output/categories/giving.html\n",
      ".  render_tags:output/categories/spittal-pond.html\n",
      ".  render_tags:output/categories/chewstick.html\n",
      ".  render_tags:output/categories/pi.html\n",
      ".  render_tags:output/categories/hurricane.html\n",
      ".  render_tags:output/categories/football.html\n",
      ".  render_tags:output/categories/ottawa.html\n",
      ".  render_tags:output/categories/cat_bermuda-cricket-blades.html\n",
      ".  render_tags:output/categories/ferry.html\n",
      ".  render_tags:output/categories/sufc-sens.html\n",
      ".  render_tags:output/categories/bus.html\n",
      ".  render_tags:output/categories/sufc.html\n",
      ".  render_tags:output/categories/github.html\n",
      ".  render_tags:output/categories/hackathon.html\n",
      ".  render_tags:output/categories/raspberry-pi.html\n",
      ".  render_tags:output/categories/montreal.html\n",
      ".  render_tags:output/categories/mandela.html\n",
      ".  render_tags:output/categories/transit.html\n",
      ".  render_tags:output/categories/angular.html\n",
      ".  render_tags:output/categories/django.html\n",
      ".  render_tags:output/categories/bermuda.html\n",
      ".  render_tags:output/categories/take-a-minute.html\n",
      ".  render_tags:output/categories/moonlight.html\n",
      ".  render_indexes:output/blog/index-1.html\n",
      ".  render_indexes:output/blog/index-2.html\n",
      ".  render_indexes:output/blog/index-4.html\n",
      ".  render_indexes:output/blog/index-3.html\n",
      ".  render_tags:output/categories/hurricane.xml\n",
      ".  render_tags:output/categories/2015.xml\n",
      ".  render_tags:output/categories/weather.xml\n",
      ".  render_pages:output/posts/fred-update.html\n",
      ".  generate_rss:output/rss.xml\n",
      ".  render_tags:output/categories/fred.xml\n",
      ".  render_tags:output/categories/2014.xml\n",
      ".  sitemap:output/sitemap.xml\n",
      "Scanning posts........done!\n",
      "\u001b[37m[2015-09-01T14:40:09Z] INFO: github_deploy: ==> ['ghp-import', '-n', '-m', 'Nikola auto commit.\\n\\nSource commit: a0407213dc86c0c43a8b1421f7cd6a1b0861f029\\nNikola version: 7.5.1', '-p', '-r', 'origin', '-b', 'gh-pages', 'output']\u001b[39;49;00m\n",
      "Counting objects: 13, done.\n",
      "Delta compression using up to 4 threads.\n",
      "Compressing objects: 100% (7/7), done.\n",
      "Writing objects: 100% (13/13), 13.24 KiB | 0 bytes/s, done.\n",
      "Total 13 (delta 12), reused 7 (delta 6)\n",
      "To git@github.com:openbermuda/80days.git\n",
      "   738e7d9..6c35f80  gh-pages -> gh-pages\n",
      "\u001b[37m[2015-09-01T14:40:15Z] INFO: github_deploy: Successful deployment\u001b[39;49;00m\n"
     ]
    }
   ],
   "source": [
    "!nikola github_deploy"
   ]
  },
  {
   "cell_type": "code",
   "execution_count": 32,
   "metadata": {
    "collapsed": false,
    "tags": [
     "worksheet-0"
    ]
   },
   "outputs": [
    {
     "name": "stdout",
     "output_type": "stream",
     "text": [
      "Scanning posts........done!\n",
      ".  render_archive:output/2014/index.html\n",
      ".  render_archive:output/2015/index.html\n",
      ".  render_archive:output/archive.html\n",
      ".  render_tags:output/categories/ottawa.html\n",
      ".  render_tags:output/categories/free-software.html\n",
      ".  render_tags:output/categories/cray-xmp.html\n",
      ".  render_tags:output/categories/open-source.html\n",
      ".  render_tags:output/categories/python.html\n",
      ".  render_tags:output/categories/robots.html\n",
      ".  render_tags:output/categories/giving.html\n",
      ".  render_tags:output/categories/education.html\n",
      ".  render_tags:output/categories/linux.html\n",
      ".  render_tags:output/categories/raspberry-pi.html\n",
      ".  render_tags:output/categories/net.html\n",
      ".  render_tags:output/categories/pi.html\n",
      ".  render_tags:output/categories/spittal-pond.html\n",
      ".  render_tags:output/categories/angular.html\n",
      ".  render_tags:output/categories/blades.html\n",
      ".  render_tags:output/categories/cray.html\n",
      ".  render_tags:output/categories/moonlight.html\n",
      ".  render_tags:output/categories/hackathon.html\n",
      ".  render_tags:output/categories/ferry.html\n",
      ".  render_tags:output/categories/football.html\n",
      ".  render_tags:output/categories/sufc-sens.html\n",
      ".  render_tags:output/categories/chewstick.html\n",
      ".  render_tags:output/categories/kindling.html\n",
      ".  render_tags:output/categories/80days.html\n",
      ".  render_tags:output/categories/django.html\n",
      ".  render_tags:output/categories/sufc.html\n",
      ".  render_tags:output/categories/awesome.html\n",
      ".  render_tags:output/categories/javascript.html\n",
      ".  render_tags:output/categories/algorithms.html\n",
      ".  render_tags:output/categories/bermuda.html\n",
      ".  render_tags:output/categories/music.html\n",
      ".  render_tags:output/categories/github.html\n",
      ".  render_tags:output/categories/gardening.html\n",
      ".  render_tags:output/categories/silverlight.html\n",
      ".  render_tags:output/categories/art.html\n",
      ".  render_tags:output/categories/mandela.html\n",
      ".  render_tags:output/categories/transit.html\n",
      ".  render_tags:output/categories/bus.html\n",
      ".  render_tags:output/categories/pycon.html\n"
     ]
    }
   ],
   "source": [
    "!nikola build"
   ]
  },
  {
   "cell_type": "code",
   "execution_count": 33,
   "metadata": {
    "collapsed": false,
    "tags": [
     "worksheet-0"
    ]
   },
   "outputs": [
    {
     "name": "stdout",
     "output_type": "stream",
     "text": [
      "Scanning posts........done!\n",
      ".  render_tags:output/categories/sufc-sens.html\n",
      ".  render_tags:output/categories/raspberry-pi.html\n",
      ".  render_tags:output/categories/gardening.html\n",
      ".  render_tags:output/categories/awesome.html\n",
      ".  render_tags:output/categories/angular.html\n",
      ".  render_tags:output/categories/open-source.html\n",
      ".  render_tags:output/categories/education.html\n",
      ".  render_tags:output/categories/spittal-pond.html\n",
      ".  render_tags:output/categories/blades.html\n",
      ".  render_tags:output/categories/giving.html\n",
      ".  render_tags:output/categories/music.html\n",
      ".  render_tags:output/categories/github.html\n",
      ".  render_tags:output/categories/ottawa.html\n",
      ".  render_tags:output/categories/free-software.html\n",
      ".  render_tags:output/categories/net.html\n",
      ".  render_tags:output/categories/cray.html\n",
      ".  render_tags:output/categories/kindling.html\n",
      ".  render_tags:output/categories/javascript.html\n",
      ".  render_tags:output/categories/pi.html\n",
      ".  render_tags:output/categories/bermuda.html\n",
      ".  render_tags:output/categories/football.html\n",
      ".  render_tags:output/categories/cray-xmp.html\n",
      ".  render_tags:output/categories/silverlight.html\n",
      ".  render_tags:output/categories/robots.html\n",
      ".  render_tags:output/categories/sufc.html\n",
      ".  render_tags:output/categories/hackathon.html\n",
      ".  render_tags:output/categories/transit.html\n",
      ".  render_tags:output/categories/linux.html\n",
      ".  render_tags:output/categories/chewstick.html\n",
      ".  render_tags:output/categories/moonlight.html\n",
      ".  render_tags:output/categories/python.html\n",
      ".  render_tags:output/categories/pycon.html\n",
      ".  render_tags:output/categories/art.html\n",
      ".  render_tags:output/categories/ferry.html\n",
      ".  render_tags:output/categories/80days.html\n",
      "Scanning posts........done!\n",
      "\u001b[37m[2015-08-15T05:17:48Z] INFO: github_deploy: ==> ['ghp-import', '-n', '-m', 'Nikola auto commit.\\n\\nSource commit: 397dbfe4c2f29df72b2eddcc5167dbaf935c0af9\\nNikola version: 7.5.1', '-p', '-r', 'origin', '-b', 'gh-pages', 'output']\u001b[39;49;00m\n",
      "Counting objects: 1, done.\n",
      "Writing objects: 100% (1/1), 227 bytes | 0 bytes/s, done.\n",
      "Total 1 (delta 0), reused 1 (delta 0)\n",
      "To git@github.com:openbermuda/80days.git\n",
      "   e88a074..c2a1c2e  gh-pages -> gh-pages\n",
      "\u001b[37m[2015-08-15T05:17:50Z] INFO: github_deploy: Successful deployment\u001b[39;49;00m\n"
     ]
    }
   ],
   "source": [
    "!nikola github_deploy"
   ]
  },
  {
   "cell_type": "code",
   "execution_count": 34,
   "metadata": {
    "collapsed": false,
    "scrolled": true
   },
   "outputs": [
    {
     "name": "stdout",
     "output_type": "stream",
     "text": [
      "Scanning posts........done!\n",
      ".  render_tags:output/categories/transit.html\n",
      ".  render_tags:output/categories/robots.html\n",
      ".  render_tags:output/categories/bus.html\n",
      ".  render_tags:output/categories/take-a-minute.html\n",
      ".  render_tags:output/categories/chewstick.html\n",
      ".  render_tags:output/categories/javascript.html\n",
      ".  render_tags:output/categories/django.html\n",
      ".  render_tags:output/categories/art.html\n",
      ".  render_tags:output/categories/moonlight.html\n",
      ".  render_tags:output/categories/cray-xmp.html\n",
      ".  render_tags:output/categories/algorithms.html\n",
      ".  render_tags:output/categories/sufc-sens.html\n",
      ".  render_tags:output/categories/ferry.html\n",
      ".  render_tags:output/categories/jobs.html\n",
      ".  render_tags:output/categories/gardening.html\n",
      ".  render_tags:output/categories/blades.html\n",
      ".  render_tags:output/categories/education.html\n",
      ".  render_tags:output/categories/80days.html\n",
      ".  render_tags:output/categories/mandela.html\n",
      ".  render_tags:output/categories/raspberry-pi.html\n",
      ".  render_tags:output/categories/montreal.html\n",
      ".  render_tags:output/categories/cray.html\n",
      ".  render_tags:output/categories/awesome.html\n",
      ".  render_tags:output/categories/pi.html\n",
      ".  render_tags:output/categories/free-software.html\n",
      ".  render_tags:output/categories/python.html\n",
      ".  render_tags:output/categories/sufc.html\n",
      ".  render_tags:output/categories/kindling.html\n",
      ".  render_tags:output/categories/giving.html\n",
      ".  render_tags:output/categories/silverlight.html\n",
      ".  render_tags:output/categories/open-source.html\n",
      ".  render_tags:output/categories/github.html\n",
      ".  render_tags:output/categories/67.html\n",
      ".  render_tags:output/categories/linux.html\n",
      ".  render_tags:output/categories/pycon.html\n",
      ".  render_tags:output/categories/angular.html\n",
      ".  render_tags:output/categories/music.html\n",
      ".  render_tags:output/categories/football.html\n",
      ".  render_tags:output/categories/ottawa.html\n",
      ".  render_tags:output/categories/net.html\n",
      ".  render_tags:output/categories/hackathon.html\n",
      ".  render_tags:output/categories/bermuda.html\n"
     ]
    }
   ],
   "source": [
    "!nikola build"
   ]
  }
 ],
 "metadata": {
  "kernelspec": {
   "display_name": "Python 3",
   "language": "python",
   "name": "python3"
  },
  "language_info": {
   "codemirror_mode": {
    "name": "ipython",
    "version": 3
   },
   "file_extension": ".py",
   "mimetype": "text/x-python",
   "name": "python",
   "nbconvert_exporter": "python",
   "pygments_lexer": "ipython3",
   "version": "3.4.3"
  }
 },
 "nbformat": 4,
 "nbformat_minor": 0
}
