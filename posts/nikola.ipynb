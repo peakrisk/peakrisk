{
 "cells": [
  {
   "cell_type": "code",
   "execution_count": 1,
   "metadata": {
    "collapsed": false,
    "tags": [
     "worksheet-0"
    ]
   },
   "outputs": [
    {
     "name": "stdout",
     "output_type": "stream",
     "text": [
      "Scanning posts.......done!\r\n"
     ]
    },
    {
     "name": "stdout",
     "output_type": "stream",
     "text": [
      ".  render_tags:output/categories/gpl.html\r\n"
     ]
    },
    {
     "name": "stdout",
     "output_type": "stream",
     "text": [
      ".  render_tags:output/categories/astropy.html\r\n"
     ]
    },
    {
     "name": "stdout",
     "output_type": "stream",
     "text": [
      ".  render_tags:output/categories/linux.html\r\n",
      ".  render_tags:output/categories/jupyter.html\r\n",
      ".  render_tags:output/categories/computer.html\r\n",
      ".  render_tags:output/categories/astronomy.html\r\n"
     ]
    },
    {
     "name": "stdout",
     "output_type": "stream",
     "text": [
      ".  render_tags:output/categories/raspberry-pi.html\r\n",
      ".  render_tags:output/categories/cyber-risk.html\r\n"
     ]
    },
    {
     "name": "stdout",
     "output_type": "stream",
     "text": [
      ".  render_tags:output/categories/finance.html\r\n",
      ".  render_tags:output/categories/data-science.html\r\n",
      ".  render_tags:output/categories/air-pressure.html\r\n"
     ]
    },
    {
     "name": "stdout",
     "output_type": "stream",
     "text": [
      ".  render_tags:output/categories/meta-data.html\r\n",
      ".  render_tags:output/categories/information-security.html\r\n"
     ]
    },
    {
     "name": "stdout",
     "output_type": "stream",
     "text": [
      ".  render_tags:output/categories/free-software.html\r\n"
     ]
    }
   ],
   "source": [
    "!nikola build"
   ]
  },
  {
   "cell_type": "code",
   "execution_count": null,
   "metadata": {
    "collapsed": false,
    "tags": [
     "worksheet-0"
    ]
   },
   "outputs": [
    {
     "name": "stdout",
     "output_type": "stream",
     "text": [
      "\u001b[37m[2015-07-07T15:08:16Z] INFO: github_deploy: ==> ['ghp-import', '-n', '-m', 'Nikola auto commit.\\n\\nSource commit: 05531ce91be94f033975ba6267a16e291309f447\\nNikola version: 7.5.1', '-p', '-r', 'origin', '-b', 'gh-pages', 'output']\u001b[39;49;00m\r\n"
     ]
    },
    {
     "name": "stdout",
     "output_type": "stream",
     "text": [
      "Scanning posts.......done!\r\n"
     ]
    },
    {
     "name": "stdout",
     "output_type": "stream",
     "text": [
      ".  render_pages:output/posts/nikola.html\r\n"
     ]
    },
    {
     "name": "stdout",
     "output_type": "stream",
     "text": [
      ".  render_tags:output/categories/linux.html\r\n",
      ".  render_tags:output/categories/computer.html\r\n",
      ".  render_tags:output/categories/data-science.html\r\n",
      ".  render_tags:output/categories/free-software.html\r\n",
      ".  render_tags:output/categories/air-pressure.html\r\n",
      ".  render_tags:output/categories/python.html\r\n",
      ".  render_tags:output/categories/weather.html\r\n"
     ]
    },
    {
     "name": "stdout",
     "output_type": "stream",
     "text": [
      ".  render_tags:output/categories/cyber-risk.html\r\n",
      ".  render_tags:output/categories/finance.html\r\n",
      ".  render_tags:output/categories/meta-data.html\r\n",
      ".  render_tags:output/categories/jupyter.html\r\n",
      ".  render_tags:output/categories/python-draft.html\r\n",
      ".  render_tags:output/categories/astropy.html\r\n",
      ".  render_tags:output/categories/moon.html\r\n"
     ]
    },
    {
     "name": "stdout",
     "output_type": "stream",
     "text": [
      ".  render_tags:output/categories/information-security.html\r\n",
      ".  render_tags:output/categories/pyephem.html\r\n",
      ".  render_tags:output/categories/astronomy.html\r\n"
     ]
    },
    {
     "name": "stdout",
     "output_type": "stream",
     "text": [
      ".  render_tags:output/categories/pandas.html\r\n"
     ]
    },
    {
     "name": "stdout",
     "output_type": "stream",
     "text": [
      ".  render_sources:output/posts/nikola.ipynb\r\n",
      ".  render_posts:timeline_changes\r\n",
      ".  render_posts:cache/posts/nikola.html\r\n"
     ]
    },
    {
     "name": "stdout",
     "output_type": "stream",
     "text": [
      "Scanning posts.......done!\r\n"
     ]
    }
   ],
   "source": [
    "!nikola github_deploy"
   ]
  }
 ],
 "metadata": {},
 "nbformat": 4,
 "nbformat_minor": 0
}
