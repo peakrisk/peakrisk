{
 "cells": [
  {
   "cell_type": "code",
   "execution_count": 1,
   "metadata": {
    "collapsed": false,
    "tags": [
     "worksheet-0"
    ]
   },
   "outputs": [],
   "source": [
    "import shutil\n",
    "BASE=\"~/devel\"\n",
    "BLOG=\"openbermuda\"\n",
    "BLOG=\"peakrisk\""
   ]
  },
  {
   "cell_type": "code",
   "execution_count": 2,
   "metadata": {
    "collapsed": false,
    "tags": [
     "worksheet-0"
    ]
   },
   "outputs": [
    {
     "name": "stdout",
     "output_type": "stream",
     "text": [
      "/home/jng/devel/peakrisk\n"
     ]
    }
   ],
   "source": [
    "cd ~/devel/$BLOG"
   ]
  },
  {
   "cell_type": "code",
   "execution_count": 3,
   "metadata": {
    "collapsed": false,
    "tags": [
     "worksheet-0"
    ]
   },
   "outputs": [
    {
     "name": "stdout",
     "output_type": "stream",
     "text": [
      "/home/jng/devel/peakrisk\r\n"
     ]
    }
   ],
   "source": [
    "!pwd"
   ]
  },
  {
   "cell_type": "code",
   "execution_count": 18,
   "metadata": {
    "collapsed": false,
    "tags": [
     "worksheet-0"
    ]
   },
   "outputs": [],
   "source": [
    "# oops created in wrong place\n",
    "OOPS=\"peakrisk\""
   ]
  },
  {
   "cell_type": "code",
   "execution_count": 19,
   "metadata": {
    "collapsed": false,
    "tags": [
     "worksheet-0"
    ]
   },
   "outputs": [
    {
     "name": "stdout",
     "output_type": "stream",
     "text": [
      "mv: cannot stat ‘/home/jng/devel/peakrisk/experimenting-and-building-things.*’: No such file or directory\r\n"
     ]
    }
   ],
   "source": [
    "# mv stuff here\n",
    "!mv $BASE/$OOPS/experimenting-and-building-things.* ,,/../"
   ]
  },
  {
   "cell_type": "code",
   "execution_count": 4,
   "metadata": {
    "collapsed": false,
    "tags": [
     "worksheet-0"
    ]
   },
   "outputs": [
    {
     "name": "stdout",
     "output_type": "stream",
     "text": [
      "Creating New Post\n",
      "-----------------\n",
      "\n",
      "Title: xxx\n",
      "Scanning posts.......done!\n",
      "\u001b[37m[2015-07-28T18:34:23Z] INFO: new_post: Your post's text is at: posts/xxx.rst\u001b[39;49;00m\n"
     ]
    }
   ],
   "source": [
    "!nikola new_post -t \"xxx\" -f rest"
   ]
  },
  {
   "cell_type": "code",
   "execution_count": 21,
   "metadata": {
    "collapsed": false
   },
   "outputs": [
    {
     "name": "stdout",
     "output_type": "stream",
     "text": [
      "Purpose: create a new blog post or site page\r\n",
      "Usage:   nikola new_post [options] [path]\r\n",
      "\r\n",
      "Options:\r\n",
      "  -p, --page                Create a page instead of a blog post. (see also: `nikola new_page`)\r\n",
      "  -t ARG, --title=ARG       Title for the post.\r\n",
      "  -a ARG, --author=ARG      Author of the post.\r\n",
      "  --tags=ARG                Comma-separated tags for the post.\r\n",
      "  -1                        Create the post with embedded metadata (single file format)\r\n",
      "  -2                        Create the post with separate metadata (two file format)\r\n",
      "  -e                        Open the post (and meta file, if any) in $EDITOR after creation.\r\n",
      "  -f ARG, --format=ARG      Markup format for the post, one of rest, markdown, wiki, bbcode, html, textile, txt2tags\r\n",
      "  -s                        Schedule the post based on recurrence rule\r\n",
      "  -i ARG, --import=ARG      Import an existing file instead of creating a placeholder\r\n"
     ]
    }
   ],
   "source": [
    "!nikola new_post --help"
   ]
  },
  {
   "cell_type": "code",
   "execution_count": 26,
   "metadata": {
    "collapsed": false
   },
   "outputs": [
    {
     "name": "stdout",
     "output_type": "stream",
     "text": [
      "Scanning posts.......done!\n",
      ".  render_tags:output/categories/giving.html\n",
      ".  render_tags:output/categories/pyephem.html\n",
      ".  render_tags:output/categories/astronomy.html\n",
      ".  render_tags:output/categories/tides.html\n",
      ".  render_tags:output/categories/air-pressure.html\n",
      ".  render_tags:output/categories/mysql.html\n",
      ".  render_tags:output/categories/cyber-risk.html\n",
      ".  render_tags:output/categories/weather.html\n",
      ".  render_tags:output/categories/lamp.html\n",
      ".  render_tags:output/categories/open-data.html\n",
      ".  render_tags:output/categories/information-security.html\n",
      ".  render_tags:output/categories/pandas.html\n",
      ".  render_tags:output/categories/jupyter.html\n",
      ".  render_tags:output/categories/take-a-minute.html\n",
      ".  render_tags:output/categories/meta-data.html\n",
      ".  render_tags:output/categories/free-software.html\n",
      ".  render_tags:output/categories/fourier.html\n",
      ".  render_tags:output/categories/67.html\n",
      ".  render_tags:output/categories/limp.html\n",
      ".  render_tags:output/categories/astropy.html\n",
      ".  render_tags:output/categories/computer.html\n",
      ".  render_tags:output/categories/data-science.html\n",
      ".  render_tags:output/categories/python.html\n",
      ".  render_tags:output/categories/moon.html\n",
      ".  render_tags:output/categories/pi.html\n",
      ".  render_tags:output/categories/gpl.html\n",
      "Scanning posts.......done!\n",
      "\u001b[37m[2015-07-28T11:20:21Z] INFO: github_deploy: ==> ['ghp-import', '-n', '-m', 'Nikola auto commit.\\n\\nSource commit: 8ed58830bd209a8552c8320022ab8a3cd6ab3fe6\\nNikola version: 7.5.1', '-p', '-r', 'origin', '-b', 'gh-pages', 'output']\u001b[39;49;00m\n",
      "Counting objects: 1, done.\n",
      "Writing objects: 100% (1/1), 230 bytes | 0 bytes/s, done.\n",
      "Total 1 (delta 0), reused 1 (delta 0)\n",
      "To git@github.com:peakrisk/peakrisk.git\n",
      "   2bb8520..598d241  gh-pages -> gh-pages\n",
      "\u001b[37m[2015-07-28T11:20:22Z] INFO: github_deploy: Successful deployment\u001b[39;49;00m\n"
     ]
    }
   ],
   "source": [
    "!nikola github_deploy"
   ]
  },
  {
   "cell_type": "code",
   "execution_count": 23,
   "metadata": {
    "collapsed": false,
    "tags": [
     "worksheet-0"
    ]
   },
   "outputs": [
    {
     "name": "stdout",
     "output_type": "stream",
     "text": [
      "Scanning posts.......done!\n",
      ".  render_tags:output/categories/mysql.html\n",
      ".  render_tags:output/categories/information-security.html\n",
      ".  render_tags:output/categories/cyber-risk.html\n",
      ".  render_tags:output/categories/gpl.html\n",
      ".  render_tags:output/categories/jupyter.html\n",
      ".  render_tags:output/categories/67.html\n",
      ".  render_tags:output/categories/pi.html\n",
      ".  render_tags:output/categories/take-a-minute.html\n",
      ".  render_tags:output/categories/astropy.html\n",
      ".  render_tags:output/categories/python.html\n",
      ".  render_tags:output/categories/giving.html\n",
      ".  render_tags:output/categories/astronomy.html\n",
      ".  render_tags:output/categories/moon.html\n",
      ".  render_tags:output/categories/fourier.html\n",
      ".  render_tags:output/categories/pyephem.html\n",
      ".  render_tags:output/categories/raspberry-pi.html\n",
      ".  render_tags:output/categories/computer.html\n",
      ".  render_tags:output/categories/data-science.html\n",
      ".  render_tags:output/categories/python-draft.html\n",
      ".  render_tags:output/categories/weather.html\n",
      ".  render_tags:output/categories/finance.html\n",
      ".  render_tags:output/categories/git.html\n",
      ".  render_tags:output/categories/free-software.html\n",
      ".  render_tags:output/categories/air-pressure.html\n",
      ".  render_tags:output/categories/pandas.html\n",
      ".  render_tags:output/categories/tides.html\n",
      ".  sitemap:output/sitemap.xml\n"
     ]
    }
   ],
   "source": [
    "!nikola build"
   ]
  },
  {
   "cell_type": "code",
   "execution_count": 24,
   "metadata": {
    "collapsed": false,
    "tags": [
     "worksheet-0"
    ]
   },
   "outputs": [
    {
     "name": "stdout",
     "output_type": "stream",
     "text": [
      "Scanning posts.......done!\n",
      ".  render_tags:output/categories/moon.html\n",
      ".  render_tags:output/categories/pyephem.html\n",
      ".  render_tags:output/categories/air-pressure.html\n",
      ".  render_tags:output/categories/pandas.html\n",
      ".  render_tags:output/categories/jupyter.html\n",
      ".  render_tags:output/categories/cyber-risk.html\n",
      ".  render_tags:output/categories/python-draft.html\n",
      ".  render_tags:output/categories/computer.html\n",
      ".  render_tags:output/categories/weather.html\n",
      ".  render_tags:output/categories/raspberry-pi.html\n",
      ".  render_tags:output/categories/data-science.html\n",
      ".  render_tags:output/categories/tides.html\n",
      ".  render_tags:output/categories/67.html\n",
      ".  render_tags:output/categories/python.html\n",
      ".  render_tags:output/categories/astropy.html\n",
      ".  render_tags:output/categories/meta-data.html\n",
      ".  render_tags:output/categories/git.html\n",
      ".  render_tags:output/categories/astronomy.html\n",
      ".  render_tags:output/categories/gpl.html\n",
      ".  render_tags:output/categories/take-a-minute.html\n",
      ".  render_tags:output/categories/mysql.html\n",
      ".  render_tags:output/categories/finance.html\n",
      ".  render_tags:output/categories/fourier.html\n",
      ".  render_tags:output/categories/pi.html\n",
      ".  render_tags:output/categories/linux.html\n",
      ".  render_tags:output/categories/limp.html\n",
      ".  render_tags:output/categories/free-software.html\n",
      ".  render_tags:output/categories/giving.html\n",
      ".  render_tags:output/categories/information-security.html\n",
      ".  render_tags:output/categories/open-data.html\n",
      ".  sitemap:output/sitemap.xml\n",
      "Scanning posts.......done!\n",
      "\u001b[37m[2015-07-28T11:20:00Z] INFO: github_deploy: ==> ['ghp-import', '-n', '-m', 'Nikola auto commit.\\n\\nSource commit: 8ed58830bd209a8552c8320022ab8a3cd6ab3fe6\\nNikola version: 7.5.1', '-p', '-r', 'origin', '-b', 'gh-pages', 'output']\u001b[39;49;00m\n",
      "Counting objects: 29, done.\n",
      "Delta compression using up to 4 threads.\n",
      "Compressing objects: 100% (14/14), done.\n",
      "Writing objects: 100% (29/29), 4.44 MiB | 697.00 KiB/s, done.\n",
      "Total 29 (delta 23), reused 20 (delta 14)\n",
      "To git@github.com:peakrisk/peakrisk.git\n",
      "   665f0dd..2bb8520  gh-pages -> gh-pages\n",
      "\u001b[37m[2015-07-28T11:20:12Z] INFO: github_deploy: Successful deployment\u001b[39;49;00m\n"
     ]
    }
   ],
   "source": [
    "!nikola github_deploy"
   ]
  },
  {
   "cell_type": "code",
   "execution_count": 25,
   "metadata": {
    "collapsed": false
   },
   "outputs": [
    {
     "name": "stdout",
     "output_type": "stream",
     "text": [
      "Scanning posts.......done!\n",
      ".  render_tags:output/categories/tides.html\n",
      ".  render_tags:output/categories/free-software.html\n",
      ".  render_tags:output/categories/fourier.html\n",
      ".  render_tags:output/categories/jupyter.html\n",
      ".  render_tags:output/categories/moon.html\n",
      ".  render_tags:output/categories/open-data.html\n",
      ".  render_tags:output/categories/astropy.html\n",
      ".  render_tags:output/categories/cyber-risk.html\n",
      ".  render_tags:output/categories/pandas.html\n",
      ".  render_tags:output/categories/linux.html\n",
      ".  render_tags:output/categories/python-draft.html\n",
      ".  render_tags:output/categories/pyephem.html\n",
      ".  render_tags:output/categories/gpl.html\n",
      ".  render_tags:output/categories/air-pressure.html\n",
      ".  render_tags:output/categories/giving.html\n",
      ".  render_tags:output/categories/limp.html\n",
      ".  render_tags:output/categories/git.html\n",
      ".  render_tags:output/categories/information-security.html\n",
      ".  render_tags:output/categories/computer.html\n"
     ]
    }
   ],
   "source": [
    "!nikola build"
   ]
  }
 ],
 "metadata": {
  "kernelspec": {
   "display_name": "Python 3",
   "language": "python",
   "name": "python3"
  },
  "language_info": {
   "codemirror_mode": {
    "name": "ipython",
    "version": 3
   },
   "file_extension": ".py",
   "mimetype": "text/x-python",
   "name": "python",
   "nbconvert_exporter": "python",
   "pygments_lexer": "ipython3",
   "version": "3.4.3"
  }
 },
 "nbformat": 4,
 "nbformat_minor": 0
}
