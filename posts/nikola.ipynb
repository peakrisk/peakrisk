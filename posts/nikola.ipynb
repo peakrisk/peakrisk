{
 "cells": [
  {
   "cell_type": "code",
   "execution_count": 1,
   "metadata": {
    "collapsed": false,
    "tags": [
     "worksheet-0"
    ]
   },
   "outputs": [],
   "source": [
    "import shutil\n",
    "BASE=\"~/devel\"\n",
    "BLOG=\"openbermuda\"\n",
    "BLOG=\"peakrisk\""
   ]
  },
  {
   "cell_type": "code",
   "execution_count": 2,
   "metadata": {
    "collapsed": false,
    "tags": [
     "worksheet-0"
    ]
   },
   "outputs": [
    {
     "name": "stdout",
     "output_type": "stream",
     "text": [
      "/home/jng/devel/peakrisk\n"
     ]
    }
   ],
   "source": [
    "cd ~/devel/$BLOG"
   ]
  },
  {
   "cell_type": "code",
   "execution_count": 3,
   "metadata": {
    "collapsed": false,
    "tags": [
     "worksheet-0"
    ]
   },
   "outputs": [
    {
     "name": "stdout",
     "output_type": "stream",
     "text": [
      "/home/jng/devel/peakrisk\r\n"
     ]
    }
   ],
   "source": [
    "!pwd"
   ]
  },
  {
   "cell_type": "code",
   "execution_count": null,
   "metadata": {
    "collapsed": false,
    "tags": [
     "worksheet-0"
    ]
   },
   "outputs": [],
   "source": [
    "# oops created in wrong place\n",
    "OOPS=\"peakrisk\""
   ]
  },
  {
   "cell_type": "code",
   "execution_count": null,
   "metadata": {
    "collapsed": false,
    "tags": [
     "worksheet-0"
    ]
   },
   "outputs": [],
   "source": [
    "# mv stuff here\n",
    "!mv $BASE/$OOPS/experimenting-and-building-things.* ,,/../"
   ]
  },
  {
   "cell_type": "code",
   "execution_count": 9,
   "metadata": {
    "collapsed": false,
    "tags": [
     "worksheet-0"
    ]
   },
   "outputs": [
    {
     "name": "stdout",
     "output_type": "stream",
     "text": [
      "Creating New Post\n",
      "-----------------\n",
      "\n",
      "Title: Red and White v Blue and White\n",
      "Scanning posts........done!\n",
      "\u001b[37m[2015-07-20T00:35:52Z] INFO: new_post: Your post's text is at: posts/red-and-white-v-blue-and-white.rst\u001b[39;49;00m\n"
     ]
    }
   ],
   "source": [
    "!nikola new_post -t \"Red and White v Blue and White\" -f rest"
   ]
  },
  {
   "cell_type": "code",
   "execution_count": 8,
   "metadata": {
    "collapsed": false
   },
   "outputs": [
    {
     "name": "stdout",
     "output_type": "stream",
     "text": [
      "Purpose: create a new blog post or site page\r\n",
      "Usage:   nikola new_post [options] [path]\r\n",
      "\r\n",
      "Options:\r\n",
      "  -p, --page                Create a page instead of a blog post. (see also: `nikola new_page`)\r\n",
      "  -t ARG, --title=ARG       Title for the post.\r\n",
      "  -a ARG, --author=ARG      Author of the post.\r\n",
      "  --tags=ARG                Comma-separated tags for the post.\r\n",
      "  -1                        Create the post with embedded metadata (single file format)\r\n",
      "  -2                        Create the post with separate metadata (two file format)\r\n",
      "  -e                        Open the post (and meta file, if any) in $EDITOR after creation.\r\n",
      "  -f ARG, --format=ARG      Markup format for the post, one of rest, markdown, wiki, bbcode, html, textile, txt2tags\r\n",
      "  -s                        Schedule the post based on recurrence rule\r\n",
      "  -i ARG, --import=ARG      Import an existing file instead of creating a placeholder\r\n"
     ]
    }
   ],
   "source": [
    "!nikola new_post --help"
   ]
  },
  {
   "cell_type": "code",
   "execution_count": 28,
   "metadata": {
    "collapsed": false
   },
   "outputs": [
    {
     "name": "stdout",
     "output_type": "stream",
     "text": [
      "Scanning posts........done!\n",
      ".  render_sources:output/posts/red-and-white-v-blue-and-white.rst\n",
      ".  render_posts:timeline_changes\n",
      ".  render_posts:cache/posts/red-and-white-v-blue-and-white.html\n",
      ".  render_indexes:output/blog/index.html\n",
      ".  render_tags:output/categories/pi.html\n",
      ".  render_tags:output/categories/free-software.html\n",
      ".  render_tags:output/categories/giving.html\n",
      ".  render_tags:output/categories/art.html\n",
      ".  render_tags:output/categories/montreal.html\n",
      ".  render_tags:output/categories/awesome.html\n",
      ".  render_tags:output/categories/moonlight.html\n",
      ".  render_tags:output/categories/ferry.html\n",
      ".  render_tags:output/categories/chewstick.html\n",
      ".  render_tags:output/categories/sufc-sens.html\n",
      ".  render_tags:output/categories/ottawa.html\n",
      ".  render_tags:output/categories/angular.html\n",
      ".  render_tags:output/categories/spittal-pond.html\n",
      ".  render_tags:output/categories/transit.html\n",
      ".  render_tags:output/categories/bermuda.html\n",
      ".  render_tags:output/categories/football.html\n",
      ".  render_tags:output/categories/bus.html\n",
      ".  render_tags:output/categories/django.html\n",
      ".  render_tags:output/categories/kindling.html\n",
      ".  render_tags:output/categories/open-source.html\n",
      ".  render_tags:output/categories/net.html\n",
      ".  render_tags:output/categories/mandela.html\n",
      ".  render_tags:output/categories/raspberry-pi.html\n",
      ".  render_tags:output/categories/hackathon.html\n",
      ".  render_tags:output/categories/silverlight.html\n",
      ".  render_tags:output/categories/67.html\n",
      ".  render_tags:output/categories/80days.html\n",
      ".  render_tags:output/categories/pycon.html\n",
      ".  render_tags:output/categories/python.html\n",
      ".  render_tags:output/categories/education.html\n",
      ".  render_tags:output/categories/sufc.html\n",
      ".  render_tags:output/categories/gardening.html\n",
      ".  render_tags:output/categories/blades.html\n",
      ".  render_tags:output/categories/music.html\n",
      ".  render_tags:output/categories/github.html\n",
      ".  render_tags:output/categories/linux.html\n",
      ".  render_tags:output/categories/cat_bermuda-cricket-blades.html\n",
      ".  render_tags:output/categories/javascript.html\n",
      ".  render_tags:output/categories/take-a-minute.html\n",
      ".  render_indexes:output/blog/index-1.html\n",
      ".  render_indexes:output/blog/index-2.html\n",
      ".  render_indexes:output/blog/index-3.html\n",
      ".  render_pages:output/posts/red-and-white-v-blue-and-white.html\n",
      ".  generate_rss:output/rss.xml\n",
      ".  render_tags:output/categories/cat_bermuda-cricket-blades.xml\n",
      ".  sitemap:output/sitemap.xml\n",
      "Scanning posts........done!\n",
      "\u001b[37m[2015-07-21T00:01:13Z] INFO: github_deploy: ==> ['ghp-import', '-n', '-m', 'Nikola auto commit.\\n\\nSource commit: 1a27365e1989f85176df375375b60620e78a943a\\nNikola version: 7.5.1', '-p', '-r', 'origin', '-b', 'gh-pages', 'output']\u001b[39;49;00m\n",
      "Counting objects: 9, done.\n",
      "Delta compression using up to 4 threads.\n",
      "Compressing objects: 100% (7/7), done.\n",
      "Writing objects: 100% (9/9), 11.21 KiB | 0 bytes/s, done.\n",
      "Total 9 (delta 8), reused 3 (delta 2)\n",
      "To git@github.com:openbermuda/80days.git\n",
      "   e4ab377..f8749d3  gh-pages -> gh-pages\n",
      "\u001b[37m[2015-07-21T00:01:15Z] INFO: github_deploy: Successful deployment\u001b[39;49;00m\n"
     ]
    }
   ],
   "source": [
    "!nikola github_deploy"
   ]
  },
  {
   "cell_type": "code",
   "execution_count": 10,
   "metadata": {
    "collapsed": false,
    "tags": [
     "worksheet-0"
    ]
   },
   "outputs": [
    {
     "name": "stdout",
     "output_type": "stream",
     "text": [
      "Scanning posts.......done!\n",
      ".  render_sources:output/posts/nikola.ipynb\n",
      ".  render_posts:timeline_changes\n",
      ".  render_posts:cache/posts/nikola.html\n",
      ".  render_tags:output/categories/tides.html\n",
      ".  render_tags:output/categories/free-software.html\n",
      ".  render_tags:output/categories/mysql.html\n",
      ".  render_tags:output/categories/moon.html\n",
      ".  render_tags:output/categories/cyber-risk.html\n",
      ".  render_tags:output/categories/take-a-minute.html\n",
      ".  render_tags:output/categories/limp.html\n",
      ".  render_tags:output/categories/67.html\n",
      ".  render_tags:output/categories/jupyter.html\n",
      ".  render_tags:output/categories/weather.html\n",
      ".  render_tags:output/categories/git.html\n",
      ".  render_tags:output/categories/astropy.html\n",
      ".  render_tags:output/categories/open-data.html\n",
      ".  render_tags:output/categories/pyephem.html\n",
      ".  render_tags:output/categories/air-pressure.html\n",
      ".  render_tags:output/categories/giving.html\n",
      ".  render_tags:output/categories/fourier.html\n",
      ".  render_tags:output/categories/linux.html\n",
      ".  render_tags:output/categories/lamp.html\n",
      ".  render_tags:output/categories/pandas.html\n",
      ".  render_tags:output/categories/finance.html\n",
      ".  render_tags:output/categories/computer.html\n",
      ".  render_tags:output/categories/raspberry-pi.html\n",
      ".  render_tags:output/categories/pi.html\n",
      ".  render_tags:output/categories/data-science.html\n",
      ".  render_tags:output/categories/astronomy.html\n",
      ".  render_tags:output/categories/python.html\n",
      ".  render_tags:output/categories/information-security.html\n",
      ".  render_tags:output/categories/gpl.html\n",
      ".  render_tags:output/categories/python-draft.html\n",
      ".  render_pages:output/posts/nikola.html\n",
      ".  sitemap:output/sitemap.xml\n"
     ]
    }
   ],
   "source": [
    "!nikola build"
   ]
  },
  {
   "cell_type": "code",
   "execution_count": 9,
   "metadata": {
    "collapsed": false,
    "tags": [
     "worksheet-0"
    ]
   },
   "outputs": [
    {
     "name": "stdout",
     "output_type": "stream",
     "text": [
      "Scanning posts.......done!\n",
      ".  render_sources:output/posts/nikola.ipynb\n",
      ".  render_tags:output/assets/js/tag_cloud_data.json\n",
      ".  render_posts:timeline_changes\n",
      ".  render_posts:cache/posts/latest-weather-pijessie.html\n",
      ".  render_posts:cache/posts/latest-weather-kittycam.html\n",
      ".  render_posts:cache/posts/nikola.html\n",
      ".  render_tags:output/categories/pandas.html\n",
      ".  render_indexes:output/blog/index.html\n",
      ".  render_tags:output/categories/computer.html\n",
      ".  render_tags:output/categories/python-draft.html\n",
      ".  render_tags:output/categories/giving.html\n",
      ".  render_tags:output/categories/fourier.html\n",
      ".  render_tags:output/categories/astropy.html\n",
      ".  render_tags:output/categories/lamp.html\n",
      ".  render_tags:output/categories/astronomy.html\n",
      ".  render_tags:output/categories/jupyter.html\n",
      ".  render_tags:output/categories/cyber-risk.html\n",
      ".  render_tags:output/categories/information-security.html\n",
      ".  render_tags:output/categories/take-a-minute.html\n",
      ".  render_tags:output/categories/meta-data.html\n",
      ".  render_tags:output/categories/git.html\n",
      ".  render_tags:output/categories/weather.html\n",
      ".  render_tags:output/categories/67.html\n",
      ".  render_tags:output/categories/air-pressure.html\n",
      ".  render_tags:output/categories/pyephem.html\n",
      ".  render_tags:output/categories/python.html\n",
      ".  render_tags:output/categories/pi.html\n",
      ".  render_tags:output/categories/mysql.html\n",
      ".  render_tags:output/categories/limp.html\n",
      ".  render_tags:output/categories/gpl.html\n",
      ".  render_tags:output/categories/finance.html\n",
      ".  render_tags:output/categories/open-data.html\n",
      ".  render_tags:output/categories/tides.html\n",
      ".  render_tags:output/categories/raspberry-pi.html\n",
      ".  render_tags:output/categories/data-science.html\n",
      ".  render_tags:output/categories/mandela.html\n",
      ".  render_tags:output/categories/cat_mapping-satellite-weather-opendata.html\n",
      ".  render_tags:output/categories/weather.xml\n",
      ".  render_pages:output/posts/latest-weather-pijessie.html\n",
      ".  render_pages:output/posts/latest-weather-kittycam.html\n",
      ".  render_pages:output/posts/nikola.html\n",
      ".  render_tags:output/categories/raspberry-pi.xml\n",
      ".  sitemap:output/sitemap.xml\n",
      "Scanning posts.......done!\n",
      "\u001b[37m[2015-07-27T19:14:19Z] INFO: github_deploy: ==> ['ghp-import', '-n', '-m', 'Nikola auto commit.\\n\\nSource commit: 8ed58830bd209a8552c8320022ab8a3cd6ab3fe6\\nNikola version: 7.5.1', '-p', '-r', 'origin', '-b', 'gh-pages', 'output']\u001b[39;49;00m\n",
      "Counting objects: 17, done.\n",
      "Delta compression using up to 4 threads.\n",
      "Compressing objects: 100% (10/10), done.\n",
      "Writing objects: 100% (17/17), 625.09 KiB | 0 bytes/s, done.\n",
      "Total 17 (delta 15), reused 9 (delta 7)\n",
      "To git@github.com:peakrisk/peakrisk.git\n",
      "   de3a592..6b565f4  gh-pages -> gh-pages\n",
      "\u001b[37m[2015-07-27T19:14:22Z] INFO: github_deploy: Successful deployment\u001b[39;49;00m\n"
     ]
    }
   ],
   "source": [
    "!nikola github_deploy"
   ]
  },
  {
   "cell_type": "code",
   "execution_count": null,
   "metadata": {
    "collapsed": false
   },
   "outputs": [],
   "source": [
    "!nikola build"
   ]
  }
 ],
 "metadata": {
  "kernelspec": {
   "display_name": "Python 3",
   "language": "python",
   "name": "python3"
  },
  "language_info": {
   "codemirror_mode": {
    "name": "ipython",
    "version": 3
   },
   "file_extension": ".py",
   "mimetype": "text/x-python",
   "name": "python",
   "nbconvert_exporter": "python",
   "pygments_lexer": "ipython3",
   "version": "3.4.3"
  }
 },
 "nbformat": 4,
 "nbformat_minor": 0
}
