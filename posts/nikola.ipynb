{
 "cells": [
  {
   "cell_type": "code",
   "execution_count": 11,
   "metadata": {
    "collapsed": false,
    "tags": [
     "worksheet-0"
    ]
   },
   "outputs": [
    {
     "ename": "SyntaxError",
     "evalue": "invalid syntax (<ipython-input-11-b9f396883de5>, line 2)",
     "output_type": "error",
     "traceback": [
      "\u001b[1;36m  File \u001b[1;32m\"<ipython-input-11-b9f396883de5>\"\u001b[1;36m, line \u001b[1;32m2\u001b[0m\n\u001b[1;33m    BASE=~/devel\u001b[0m\n\u001b[1;37m          ^\u001b[0m\n\u001b[1;31mSyntaxError\u001b[0m\u001b[1;31m:\u001b[0m invalid syntax\n"
     ]
    }
   ],
   "source": [
    "import shutil\n",
    "BASE=\"~/devel\"\n",
    "BLOG=\"openbermuda\""
   ]
  },
  {
   "cell_type": "code",
   "execution_count": 5,
   "metadata": {
    "collapsed": false,
    "tags": [
     "worksheet-0"
    ]
   },
   "outputs": [],
   "source": [
    "!mv ~/devel/blog ~/devel/openbermuda"
   ]
  },
  {
   "cell_type": "code",
   "execution_count": 9,
   "metadata": {
    "collapsed": false,
    "tags": [
     "worksheet-0"
    ]
   },
   "outputs": [
    {
     "name": "stdout",
     "output_type": "stream",
     "text": [
      "/home/jng/devel/openbermuda\n"
     ]
    }
   ],
   "source": [
    "cd ~/devel/$BLOG"
   ]
  },
  {
   "cell_type": "code",
   "execution_count": 10,
   "metadata": {
    "collapsed": false,
    "tags": [
     "worksheet-0"
    ]
   },
   "outputs": [
    {
     "name": "stdout",
     "output_type": "stream",
     "text": [
      "/home/jng/devel/openbermuda\r\n"
     ]
    }
   ],
   "source": [
    "!pwd"
   ]
  },
  {
   "cell_type": "code",
   "execution_count": null,
   "metadata": {
    "collapsed": false,
    "tags": [
     "worksheet-0"
    ]
   },
   "outputs": [],
   "source": [
    "# oops created in wrong place\n",
    "OOPS=\"peakrisk\""
   ]
  },
  {
   "cell_type": "code",
   "execution_count": null,
   "metadata": {
    "collapsed": false,
    "tags": [
     "worksheet-0"
    ]
   },
   "outputs": [],
   "source": [
    "# mv stuff here\n",
    "!mv $BASE/$OOPS/experimenting-and-building-things.* ,,/../"
   ]
  },
  {
   "cell_type": "code",
   "execution_count": 2,
   "metadata": {
    "collapsed": false,
    "tags": [
     "worksheet-0"
    ]
   },
   "outputs": [
    {
     "name": "stdout",
     "output_type": "stream",
     "text": [
      "Scanning posts.......done!\r\n",
      "\u001b[33;01m[2015-07-11T17:51:52Z] WARNING: new_post: This compiler does not support one-file posts.\u001b[39;49;00m\r\n",
      "\u001b[37m[2015-07-11T17:51:52Z] INFO: new_post: Your post's metadata is at: posts/experimenting-and-building-things.meta\u001b[39;49;00m\r\n",
      "\u001b[37m[2015-07-11T17:51:52Z] INFO: new_post: Your post's text is at: posts/experimenting-and-building-things.ipynb\u001b[39;49;00m\r\n"
     ]
    },
    {
     "name": "stdout",
     "output_type": "stream",
     "text": [
      "Creating New Post\r\n",
      "-----------------\r\n",
      "\r\n",
      "Title: Experimenting and building things\r\n"
     ]
    }
   ],
   "source": [
    "!nikola new_post -t \"Experimenting and building things\""
   ]
  },
  {
   "cell_type": "code",
   "execution_count": 2,
   "metadata": {
    "collapsed": false,
    "tags": [
     "worksheet-0"
    ]
   },
   "outputs": [
    {
     "name": "stdout",
     "output_type": "stream",
     "text": [
      "Scanning posts.......done!\r\n"
     ]
    },
    {
     "name": "stdout",
     "output_type": "stream",
     "text": [
      ".  render_tags:output/categories/gpl.html\r\n"
     ]
    },
    {
     "name": "stdout",
     "output_type": "stream",
     "text": [
      ".  render_tags:output/categories/weather.html\r\n"
     ]
    },
    {
     "name": "stdout",
     "output_type": "stream",
     "text": [
      ".  render_tags:output/categories/open-data.html\r\n",
      ".  render_tags:output/categories/finance.html\r\n",
      ".  render_tags:output/categories/pyephem.html\r\n",
      ".  render_tags:output/categories/astronomy.html\r\n",
      ".  render_tags:output/categories/information-security.html\r\n"
     ]
    },
    {
     "name": "stdout",
     "output_type": "stream",
     "text": [
      ".  render_tags:output/categories/git.html\r\n",
      ".  render_tags:output/categories/python-draft.html\r\n",
      ".  render_tags:output/categories/jupyter.html\r\n"
     ]
    },
    {
     "name": "stdout",
     "output_type": "stream",
     "text": [
      ".  render_tags:output/categories/computer.html\r\n",
      ".  render_tags:output/categories/meta-data.html\r\n"
     ]
    },
    {
     "name": "stdout",
     "output_type": "stream",
     "text": [
      ".  render_tags:output/categories/air-pressure.html\r\n",
      ".  render_tags:output/categories/moon.html\r\n",
      ".  render_tags:output/categories/tides.html\r\n",
      ".  render_tags:output/categories/free-software.html\r\n",
      ".  render_tags:output/categories/cyber-risk.html\r\n"
     ]
    },
    {
     "name": "stdout",
     "output_type": "stream",
     "text": [
      ".  render_tags:output/categories/data-science.html\r\n"
     ]
    },
    {
     "name": "stdout",
     "output_type": "stream",
     "text": [
      ".  render_tags:output/categories/astropy.html\r\n",
      ".  render_tags:output/categories/python.html\r\n"
     ]
    }
   ],
   "source": [
    "!nikola build"
   ]
  },
  {
   "cell_type": "code",
   "execution_count": null,
   "metadata": {
    "collapsed": false,
    "tags": [
     "worksheet-0"
    ]
   },
   "outputs": [
    {
     "name": "stdout",
     "output_type": "stream",
     "text": [
      "\u001b[37m[2015-07-07T15:08:16Z] INFO: github_deploy: ==> ['ghp-import', '-n', '-m', 'Nikola auto commit.\\n\\nSource commit: 05531ce91be94f033975ba6267a16e291309f447\\nNikola version: 7.5.1', '-p', '-r', 'origin', '-b', 'gh-pages', 'output']\u001b[39;49;00m\r\n"
     ]
    },
    {
     "name": "stdout",
     "output_type": "stream",
     "text": [
      "Scanning posts.......done!\r\n"
     ]
    },
    {
     "name": "stdout",
     "output_type": "stream",
     "text": [
      ".  render_pages:output/posts/nikola.html\r\n"
     ]
    },
    {
     "name": "stdout",
     "output_type": "stream",
     "text": [
      ".  render_tags:output/categories/linux.html\r\n",
      ".  render_tags:output/categories/computer.html\r\n",
      ".  render_tags:output/categories/data-science.html\r\n",
      ".  render_tags:output/categories/free-software.html\r\n",
      ".  render_tags:output/categories/air-pressure.html\r\n",
      ".  render_tags:output/categories/python.html\r\n",
      ".  render_tags:output/categories/weather.html\r\n"
     ]
    },
    {
     "name": "stdout",
     "output_type": "stream",
     "text": [
      ".  render_tags:output/categories/cyber-risk.html\r\n",
      ".  render_tags:output/categories/finance.html\r\n",
      ".  render_tags:output/categories/meta-data.html\r\n",
      ".  render_tags:output/categories/jupyter.html\r\n",
      ".  render_tags:output/categories/python-draft.html\r\n",
      ".  render_tags:output/categories/astropy.html\r\n",
      ".  render_tags:output/categories/moon.html\r\n"
     ]
    },
    {
     "name": "stdout",
     "output_type": "stream",
     "text": [
      ".  render_tags:output/categories/information-security.html\r\n",
      ".  render_tags:output/categories/pyephem.html\r\n",
      ".  render_tags:output/categories/astronomy.html\r\n"
     ]
    },
    {
     "name": "stdout",
     "output_type": "stream",
     "text": [
      ".  render_tags:output/categories/pandas.html\r\n"
     ]
    },
    {
     "name": "stdout",
     "output_type": "stream",
     "text": [
      ".  render_sources:output/posts/nikola.ipynb\r\n",
      ".  render_posts:timeline_changes\r\n",
      ".  render_posts:cache/posts/nikola.html\r\n"
     ]
    },
    {
     "name": "stdout",
     "output_type": "stream",
     "text": [
      "Scanning posts.......done!\r\n"
     ]
    }
   ],
   "source": [
    "!nikola github_deploy"
   ]
  }
 ],
 "metadata": {},
 "nbformat": 4,
 "nbformat_minor": 0
}
