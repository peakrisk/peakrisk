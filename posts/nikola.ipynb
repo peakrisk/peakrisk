{
 "cells": [
  {
   "cell_type": "code",
   "execution_count": 1,
   "metadata": {
    "collapsed": false,
    "tags": [
     "worksheet-0"
    ]
   },
   "outputs": [],
   "source": [
    "import shutil\n",
    "BASE=\"~/devel\"\n",
    "BLOG=\"openbermuda\"\n",
    "BLOG=\"peakrisk\""
   ]
  },
  {
   "cell_type": "code",
   "execution_count": 2,
   "metadata": {
    "collapsed": false,
    "tags": [
     "worksheet-0"
    ]
   },
   "outputs": [
    {
     "name": "stdout",
     "output_type": "stream",
     "text": [
      "/home/jng/devel/peakrisk\n"
     ]
    }
   ],
   "source": [
    "cd ~/devel/$BLOG"
   ]
  },
  {
   "cell_type": "code",
   "execution_count": 3,
   "metadata": {
    "collapsed": false,
    "tags": [
     "worksheet-0"
    ]
   },
   "outputs": [
    {
     "name": "stdout",
     "output_type": "stream",
     "text": [
      "/home/jng/devel/peakrisk\r\n"
     ]
    }
   ],
   "source": [
    "!pwd"
   ]
  },
  {
   "cell_type": "code",
   "execution_count": null,
   "metadata": {
    "collapsed": false,
    "tags": [
     "worksheet-0"
    ]
   },
   "outputs": [],
   "source": [
    "# oops created in wrong place\n",
    "OOPS=\"peakrisk\""
   ]
  },
  {
   "cell_type": "code",
   "execution_count": null,
   "metadata": {
    "collapsed": false,
    "tags": [
     "worksheet-0"
    ]
   },
   "outputs": [],
   "source": [
    "# mv stuff here\n",
    "!mv $BASE/$OOPS/experimenting-and-building-things.* ,,/../"
   ]
  },
  {
   "cell_type": "code",
   "execution_count": 9,
   "metadata": {
    "collapsed": false,
    "tags": [
     "worksheet-0"
    ]
   },
   "outputs": [
    {
     "name": "stdout",
     "output_type": "stream",
     "text": [
      "Creating New Post\n",
      "-----------------\n",
      "\n",
      "Title: Red and White v Blue and White\n",
      "Scanning posts........done!\n",
      "\u001b[37m[2015-07-20T00:35:52Z] INFO: new_post: Your post's text is at: posts/red-and-white-v-blue-and-white.rst\u001b[39;49;00m\n"
     ]
    }
   ],
   "source": [
    "!nikola new_post -t \"Red and White v Blue and White\" -f rest"
   ]
  },
  {
   "cell_type": "code",
   "execution_count": 8,
   "metadata": {
    "collapsed": false
   },
   "outputs": [
    {
     "name": "stdout",
     "output_type": "stream",
     "text": [
      "Purpose: create a new blog post or site page\r\n",
      "Usage:   nikola new_post [options] [path]\r\n",
      "\r\n",
      "Options:\r\n",
      "  -p, --page                Create a page instead of a blog post. (see also: `nikola new_page`)\r\n",
      "  -t ARG, --title=ARG       Title for the post.\r\n",
      "  -a ARG, --author=ARG      Author of the post.\r\n",
      "  --tags=ARG                Comma-separated tags for the post.\r\n",
      "  -1                        Create the post with embedded metadata (single file format)\r\n",
      "  -2                        Create the post with separate metadata (two file format)\r\n",
      "  -e                        Open the post (and meta file, if any) in $EDITOR after creation.\r\n",
      "  -f ARG, --format=ARG      Markup format for the post, one of rest, markdown, wiki, bbcode, html, textile, txt2tags\r\n",
      "  -s                        Schedule the post based on recurrence rule\r\n",
      "  -i ARG, --import=ARG      Import an existing file instead of creating a placeholder\r\n"
     ]
    }
   ],
   "source": [
    "!nikola new_post --help"
   ]
  },
  {
   "cell_type": "code",
   "execution_count": 28,
   "metadata": {
    "collapsed": false
   },
   "outputs": [
    {
     "name": "stdout",
     "output_type": "stream",
     "text": [
      "Scanning posts........done!\n",
      ".  render_sources:output/posts/red-and-white-v-blue-and-white.rst\n",
      ".  render_posts:timeline_changes\n",
      ".  render_posts:cache/posts/red-and-white-v-blue-and-white.html\n",
      ".  render_indexes:output/blog/index.html\n",
      ".  render_tags:output/categories/pi.html\n",
      ".  render_tags:output/categories/free-software.html\n",
      ".  render_tags:output/categories/giving.html\n",
      ".  render_tags:output/categories/art.html\n",
      ".  render_tags:output/categories/montreal.html\n",
      ".  render_tags:output/categories/awesome.html\n",
      ".  render_tags:output/categories/moonlight.html\n",
      ".  render_tags:output/categories/ferry.html\n",
      ".  render_tags:output/categories/chewstick.html\n",
      ".  render_tags:output/categories/sufc-sens.html\n",
      ".  render_tags:output/categories/ottawa.html\n",
      ".  render_tags:output/categories/angular.html\n",
      ".  render_tags:output/categories/spittal-pond.html\n",
      ".  render_tags:output/categories/transit.html\n",
      ".  render_tags:output/categories/bermuda.html\n",
      ".  render_tags:output/categories/football.html\n",
      ".  render_tags:output/categories/bus.html\n",
      ".  render_tags:output/categories/django.html\n",
      ".  render_tags:output/categories/kindling.html\n",
      ".  render_tags:output/categories/open-source.html\n",
      ".  render_tags:output/categories/net.html\n",
      ".  render_tags:output/categories/mandela.html\n",
      ".  render_tags:output/categories/raspberry-pi.html\n",
      ".  render_tags:output/categories/hackathon.html\n",
      ".  render_tags:output/categories/silverlight.html\n",
      ".  render_tags:output/categories/67.html\n",
      ".  render_tags:output/categories/80days.html\n",
      ".  render_tags:output/categories/pycon.html\n",
      ".  render_tags:output/categories/python.html\n",
      ".  render_tags:output/categories/education.html\n",
      ".  render_tags:output/categories/sufc.html\n",
      ".  render_tags:output/categories/gardening.html\n",
      ".  render_tags:output/categories/blades.html\n",
      ".  render_tags:output/categories/music.html\n",
      ".  render_tags:output/categories/github.html\n",
      ".  render_tags:output/categories/linux.html\n",
      ".  render_tags:output/categories/cat_bermuda-cricket-blades.html\n",
      ".  render_tags:output/categories/javascript.html\n",
      ".  render_tags:output/categories/take-a-minute.html\n",
      ".  render_indexes:output/blog/index-1.html\n",
      ".  render_indexes:output/blog/index-2.html\n",
      ".  render_indexes:output/blog/index-3.html\n",
      ".  render_pages:output/posts/red-and-white-v-blue-and-white.html\n",
      ".  generate_rss:output/rss.xml\n",
      ".  render_tags:output/categories/cat_bermuda-cricket-blades.xml\n",
      ".  sitemap:output/sitemap.xml\n",
      "Scanning posts........done!\n",
      "\u001b[37m[2015-07-21T00:01:13Z] INFO: github_deploy: ==> ['ghp-import', '-n', '-m', 'Nikola auto commit.\\n\\nSource commit: 1a27365e1989f85176df375375b60620e78a943a\\nNikola version: 7.5.1', '-p', '-r', 'origin', '-b', 'gh-pages', 'output']\u001b[39;49;00m\n",
      "Counting objects: 9, done.\n",
      "Delta compression using up to 4 threads.\n",
      "Compressing objects: 100% (7/7), done.\n",
      "Writing objects: 100% (9/9), 11.21 KiB | 0 bytes/s, done.\n",
      "Total 9 (delta 8), reused 3 (delta 2)\n",
      "To git@github.com:openbermuda/80days.git\n",
      "   e4ab377..f8749d3  gh-pages -> gh-pages\n",
      "\u001b[37m[2015-07-21T00:01:15Z] INFO: github_deploy: Successful deployment\u001b[39;49;00m\n"
     ]
    }
   ],
   "source": [
    "!nikola github_deploy"
   ]
  },
  {
   "cell_type": "code",
   "execution_count": 10,
   "metadata": {
    "collapsed": false,
    "tags": [
     "worksheet-0"
    ]
   },
   "outputs": [
    {
     "name": "stdout",
     "output_type": "stream",
     "text": [
      "Scanning posts.......done!\n",
      ".  render_sources:output/posts/nikola.ipynb\n",
      ".  render_posts:timeline_changes\n",
      ".  render_posts:cache/posts/nikola.html\n",
      ".  render_tags:output/categories/tides.html\n",
      ".  render_tags:output/categories/free-software.html\n",
      ".  render_tags:output/categories/mysql.html\n",
      ".  render_tags:output/categories/moon.html\n",
      ".  render_tags:output/categories/cyber-risk.html\n",
      ".  render_tags:output/categories/take-a-minute.html\n",
      ".  render_tags:output/categories/limp.html\n",
      ".  render_tags:output/categories/67.html\n",
      ".  render_tags:output/categories/jupyter.html\n",
      ".  render_tags:output/categories/weather.html\n",
      ".  render_tags:output/categories/git.html\n",
      ".  render_tags:output/categories/astropy.html\n",
      ".  render_tags:output/categories/open-data.html\n",
      ".  render_tags:output/categories/pyephem.html\n",
      ".  render_tags:output/categories/air-pressure.html\n",
      ".  render_tags:output/categories/giving.html\n",
      ".  render_tags:output/categories/fourier.html\n",
      ".  render_tags:output/categories/linux.html\n",
      ".  render_tags:output/categories/lamp.html\n",
      ".  render_tags:output/categories/pandas.html\n",
      ".  render_tags:output/categories/finance.html\n",
      ".  render_tags:output/categories/computer.html\n",
      ".  render_tags:output/categories/raspberry-pi.html\n",
      ".  render_tags:output/categories/pi.html\n",
      ".  render_tags:output/categories/data-science.html\n",
      ".  render_tags:output/categories/astronomy.html\n",
      ".  render_tags:output/categories/python.html\n",
      ".  render_tags:output/categories/information-security.html\n",
      ".  render_tags:output/categories/gpl.html\n",
      ".  render_tags:output/categories/python-draft.html\n",
      ".  render_pages:output/posts/nikola.html\n",
      ".  sitemap:output/sitemap.xml\n"
     ]
    }
   ],
   "source": [
    "!nikola build"
   ]
  },
  {
   "cell_type": "code",
   "execution_count": 14,
   "metadata": {
    "collapsed": false,
    "tags": [
     "worksheet-0"
    ]
   },
   "outputs": [
    {
     "name": "stdout",
     "output_type": "stream",
     "text": [
      "Scanning posts.......done!\n",
      ".  render_tags:output/categories/jupyter.html\n",
      ".  render_tags:output/categories/tides.html\n",
      ".  render_tags:output/categories/information-security.html\n",
      ".  render_tags:output/categories/mysql.html\n",
      ".  render_tags:output/categories/data-science.html\n",
      ".  render_tags:output/categories/pi.html\n",
      ".  render_tags:output/categories/67.html\n",
      ".  render_tags:output/categories/git.html\n",
      ".  render_tags:output/categories/air-pressure.html\n",
      ".  render_tags:output/categories/raspberry-pi.html\n",
      ".  render_tags:output/categories/pyephem.html\n",
      ".  render_tags:output/categories/moon.html\n",
      ".  render_tags:output/categories/linux.html\n",
      ".  render_tags:output/categories/meta-data.html\n",
      ".  render_tags:output/categories/free-software.html\n",
      ".  render_tags:output/categories/giving.html\n",
      ".  render_tags:output/categories/astropy.html\n",
      ".  render_tags:output/categories/pandas.html\n",
      ".  render_tags:output/categories/python.html\n",
      ".  render_tags:output/categories/lamp.html\n",
      ".  render_tags:output/categories/gpl.html\n",
      ".  render_tags:output/categories/open-data.html\n",
      ".  render_tags:output/categories/mandela.html\n",
      ".  render_tags:output/categories/limp.html\n",
      ".  render_tags:output/categories/finance.html\n",
      ".  render_tags:output/categories/astronomy.html\n",
      ".  render_tags:output/categories/take-a-minute.html\n",
      ".  render_tags:output/categories/fourier.html\n",
      "Scanning posts.......done!\n",
      "\u001b[37m[2015-07-27T19:19:57Z] INFO: github_deploy: ==> ['ghp-import', '-n', '-m', 'Nikola auto commit.\\n\\nSource commit: 8ed58830bd209a8552c8320022ab8a3cd6ab3fe6\\nNikola version: 7.5.1', '-p', '-r', 'origin', '-b', 'gh-pages', 'output']\u001b[39;49;00m\n",
      "Counting objects: 55, done.\n",
      "Delta compression using up to 4 threads.\n",
      "Compressing objects: 100% (16/16), done.\n",
      "Writing objects: 100% (55/55), 2.61 MiB | 1020.00 KiB/s, done.\n",
      "Total 55 (delta 52), reused 41 (delta 38)\n",
      "To git@github.com:peakrisk/peakrisk.git\n",
      "   6b565f4..665f0dd  gh-pages -> gh-pages\n",
      "\u001b[37m[2015-07-27T19:20:04Z] INFO: github_deploy: Successful deployment\u001b[39;49;00m\n"
     ]
    }
   ],
   "source": [
    "!nikola github_deploy"
   ]
  },
  {
   "cell_type": "code",
   "execution_count": 13,
   "metadata": {
    "collapsed": false
   },
   "outputs": [
    {
     "name": "stdout",
     "output_type": "stream",
     "text": [
      "Scanning posts.......done!\n",
      ".  render_galleries:output/galleries\n",
      ".  render_galleries:output/galleries/GibbsHill\n",
      ".  render_galleries:output/galleries/index.html\n",
      ".  render_galleries:output/galleries/rss.xml\n",
      ".  render_galleries:output/galleries/GibbsHill/new_view.thumbnail.jpg\n",
      ".  render_galleries:output/galleries/GibbsHill/new_view.jpg\n",
      ".  render_galleries:output/galleries/GibbsHill/tree_down.thumbnail.jpg\n",
      ".  render_galleries:output/galleries/GibbsHill/tree_down.jpg\n",
      ".  render_galleries:output/galleries/GibbsHill/roof_damage.thumbnail.jpg\n",
      ".  render_galleries:output/galleries/GibbsHill/roof_damage.jpg\n",
      ".  render_galleries:output/galleries/GibbsHill/index.html\n",
      ".  render_galleries:output/galleries/GibbsHill/rss.xml\n",
      ".  copy_files:output/data_mining_dmen.xlsx\n",
      ".  copy_files:output/light.csv~\n",
      ".  copy_files:output/links.rst\n",
      ".  copy_files:output/kittycam_weather.csv\n",
      ".  copy_files:output/light.csv\n",
      ".  copy_files:output/pijessie_weather.csv\n",
      ".  copy_files:output/unrefined-bermuda_properties.xlsx\n",
      ".  copy_files:output/john_gill_cv.pdf\n",
      ".  copy_files:output/links.rst~\n",
      ".  copy_files:output/weather.csv\n",
      ".  copy_files:output/moon_weather.csv\n",
      ".  render_listings:output/listings/index.html\n",
      ".  copy_assets:output/assets/css/nikola_ipython.css\n",
      ".  copy_assets:output/assets/css/ipython.min.css\n",
      ".  copy_assets:output/assets/css/bootstrap-theme.css\n",
      ".  copy_assets:output/assets/css/bootstrap-theme.min.css\n",
      ".  copy_assets:output/assets/css/bootstrap.css\n",
      ".  copy_assets:output/assets/css/bootstrap.css.map\n",
      ".  copy_assets:output/assets/css/theme.css\n",
      ".  copy_assets:output/assets/css/bootstrap-theme.css.map\n",
      ".  copy_assets:output/assets/css/docs.css\n",
      ".  copy_assets:output/assets/css/bootstrap.min.css\n",
      ".  copy_assets:output/assets/css/rst.css\n",
      ".  copy_assets:output/assets/css/images/ie6/borderBottomCenter.png\n",
      ".  copy_assets:output/assets/css/images/ie6/borderTopRight.png\n",
      ".  copy_assets:output/assets/css/images/ie6/borderTopCenter.png\n",
      ".  copy_assets:output/assets/css/images/ie6/borderBottomLeft.png\n",
      ".  copy_assets:output/assets/css/images/ie6/borderTopLeft.png\n",
      ".  copy_assets:output/assets/css/images/ie6/borderBottomRight.png\n",
      ".  copy_assets:output/assets/css/images/ie6/borderMiddleLeft.png\n",
      ".  copy_assets:output/assets/css/images/ie6/borderMiddleRight.png\n",
      ".  copy_assets:output/assets/fonts/glyphicons-halflings-regular.eot\n",
      ".  copy_assets:output/assets/fonts/glyphicons-halflings-regular.ttf\n",
      ".  copy_assets:output/assets/fonts/glyphicons-halflings-regular.woff\n",
      ".  copy_assets:output/assets/fonts/glyphicons-halflings-regular.woff2\n",
      ".  copy_assets:output/assets/fonts/glyphicons-halflings-regular.svg\n",
      ".  copy_assets:output/assets/js/bootstrap.js\n",
      ".  copy_assets:output/assets/js/bootstrap.min.js\n",
      ".  copy_assets:output/assets/css/bootstrap-responsive.css\n",
      ".  copy_assets:output/assets/css/bootstrap-responsive.min.css\n",
      ".  copy_assets:output/assets/css/colorbox.css\n",
      ".  copy_assets:output/assets/css/images/controls.png\n",
      ".  copy_assets:output/assets/css/images/loading.gif\n",
      ".  copy_assets:output/assets/js/jquery.min.map\n",
      ".  copy_assets:output/assets/js/jquery.js\n",
      ".  copy_assets:output/assets/js/jquery.min.js\n",
      ".  copy_assets:output/assets/js/jquery.colorbox-min.js\n",
      ".  copy_assets:output/assets/js/jquery.colorbox.js\n",
      ".  copy_assets:output/assets/js/flowr.plugin.js\n",
      ".  copy_assets:output/assets/js/colorbox-i18n/jquery.colorbox-si.js\n",
      ".  copy_assets:output/assets/js/colorbox-i18n/jquery.colorbox-fr.js\n",
      ".  copy_assets:output/assets/js/colorbox-i18n/jquery.colorbox-ca.js\n",
      ".  copy_assets:output/assets/js/colorbox-i18n/jquery.colorbox-gr.js\n",
      ".  copy_assets:output/assets/js/colorbox-i18n/jquery.colorbox-he.js\n",
      ".  copy_assets:output/assets/js/colorbox-i18n/jquery.colorbox-da.js\n",
      ".  copy_assets:output/assets/js/colorbox-i18n/jquery.colorbox-it.js\n",
      ".  copy_assets:output/assets/js/colorbox-i18n/jquery.colorbox-et.js\n",
      ".  copy_assets:output/assets/js/colorbox-i18n/jquery.colorbox-zh-TW.js\n",
      ".  copy_assets:output/assets/js/colorbox-i18n/jquery.colorbox-sv.js\n",
      ".  copy_assets:output/assets/js/colorbox-i18n/jquery.colorbox-lv.js\n",
      ".  copy_assets:output/assets/js/colorbox-i18n/jquery.colorbox-ar.js\n",
      ".  copy_assets:output/assets/js/colorbox-i18n/jquery.colorbox-my.js\n",
      ".  copy_assets:output/assets/js/colorbox-i18n/jquery.colorbox-id.js\n",
      ".  copy_assets:output/assets/js/colorbox-i18n/jquery.colorbox-nl.js\n",
      ".  copy_assets:output/assets/js/colorbox-i18n/jquery.colorbox-hr.js\n",
      ".  copy_assets:output/assets/js/colorbox-i18n/jquery.colorbox-es.js\n",
      ".  copy_assets:output/assets/js/colorbox-i18n/jquery.colorbox-ru.js\n",
      ".  copy_assets:output/assets/js/colorbox-i18n/jquery.colorbox-bg.js\n",
      ".  copy_assets:output/assets/js/colorbox-i18n/jquery.colorbox-cs.js\n",
      ".  copy_assets:output/assets/js/colorbox-i18n/jquery.colorbox-zh-CN.js\n",
      ".  copy_assets:output/assets/js/colorbox-i18n/jquery.colorbox-pl.js\n",
      ".  copy_assets:output/assets/js/colorbox-i18n/jquery.colorbox-ja.js\n",
      ".  copy_assets:output/assets/js/colorbox-i18n/jquery.colorbox-fa.js\n",
      ".  copy_assets:output/assets/js/colorbox-i18n/jquery.colorbox-ro.js\n",
      ".  copy_assets:output/assets/js/colorbox-i18n/jquery.colorbox-pt-br.js\n",
      ".  copy_assets:output/assets/js/colorbox-i18n/jquery.colorbox-sr.js\n",
      ".  copy_assets:output/assets/js/colorbox-i18n/jquery.colorbox-sk.js\n",
      ".  copy_assets:output/assets/js/colorbox-i18n/jquery.colorbox-gl.js\n",
      ".  copy_assets:output/assets/js/colorbox-i18n/jquery.colorbox-lt.js\n",
      ".  copy_assets:output/assets/js/colorbox-i18n/jquery.colorbox-pt-BR.js\n",
      ".  copy_assets:output/assets/js/colorbox-i18n/jquery.colorbox-hu.js\n",
      ".  copy_assets:output/assets/js/colorbox-i18n/jquery.colorbox-fi.js\n",
      ".  copy_assets:output/assets/js/colorbox-i18n/jquery.colorbox-kr.js\n",
      ".  copy_assets:output/assets/js/colorbox-i18n/jquery.colorbox-bn.js\n",
      ".  copy_assets:output/assets/js/colorbox-i18n/jquery.colorbox-uk.js\n",
      ".  copy_assets:output/assets/js/colorbox-i18n/jquery.colorbox-no.js\n",
      ".  copy_assets:output/assets/js/colorbox-i18n/jquery.colorbox-de.js\n",
      ".  copy_assets:output/assets/js/colorbox-i18n/jquery.colorbox-tr.js\n",
      ".  copy_assets:output/assets/img/glyphicons-halflings.png\n",
      ".  copy_assets:output/assets/img/glyphicons-halflings-white.png\n",
      ".  copy_assets:output/assets/css/ipython.min.css.map\n",
      ".  copy_assets:output/assets/xml/atom.xsl\n",
      ".  copy_assets:output/assets/xml/rss.xsl\n",
      ".  copy_assets:output/assets/js/mathjax.js\n",
      ".  copy_assets:output/assets/js/fancydates.js\n",
      ".  copy_assets:output/assets/js/moment-with-locales.min.js\n",
      ".  copy_assets:output/assets/js/html5.js\n",
      ".  copy_assets:output/assets/css/code.css\n",
      ".  render_sources:output/posts/latest-weather-pijessie.ipynb\n",
      ".  render_sources:output/posts/latest-weather-kittycam.ipynb\n",
      ".  render_sources:output/posts/experimenting-and-building-things.ipynb\n",
      ".  render_sources:output/posts/machine-learning-in-the-atmosphere.ipynb\n",
      ".  render_sources:output/posts/sixty-seven-minutes.ipynb\n",
      ".  render_sources:output/posts/lamp-and-limp-stacks.ipynb\n",
      ".  render_sources:output/posts/air-pressure-and-the-tides.ipynb\n",
      ".  render_sources:output/posts/jupyter-venus-the-moon-and-gibbs-hill-weather.ipynb\n",
      ".  render_sources:output/posts/free-software-and-information-security.rst\n",
      ".  render_sources:output/posts/matplotlib.ipynb\n",
      ".  render_sources:output/posts/weather-station.ipynb\n",
      ".  render_sources:output/posts/tlf-free-software-test.ipynb\n",
      ".  render_sources:output/posts/nikola.ipynb\n",
      ".  render_sources:output/posts/weather-station-progress.rst\n",
      ".  render_sources:output/posts/debian-and-raspbian-package-management.rst\n",
      ".  render_sources:output/posts/free-software-and-computer-security.rst\n",
      ".  render_sources:output/posts/teaching-with-pis.rst\n",
      ".  render_sources:output/stories/opportunities-for-bermuda-in-the-21st-century.rst\n",
      ".  render_sources:output/posts/cyber-espionage-nightmare-and-the-case-for-open-data.rst\n",
      ".  render_sources:output/posts/more-raspberry-pi.rst\n",
      ".  render_sources:output/posts/references.rst\n",
      ".  render_sources:output/stories/contributors.rst\n",
      ".  render_sources:output/posts/more-data-mining-d-men.ipynb\n",
      ".  render_sources:output/posts/unreliable-internet-service-providers-are-part-of-the-security-problem.rst\n",
      ".  render_sources:output/posts/raspberry-pi-weather-station-for-schools.ipynb\n",
      ".  render_sources:output/posts/pygaarst.ipynb\n",
      ".  render_sources:output/posts/pydata-dallas.rst\n",
      ".  render_sources:output/posts/data-data-everywhere-nor-any-drop-to-drink.rst\n",
      ".  render_sources:output/posts/satellite-data-for-fay-and-gonzalo.ipynb\n",
      ".  render_sources:output/stories/crawl-hill.rst\n",
      ".  render_sources:output/stories/scaur-hill.rst\n",
      ".  render_sources:output/stories/gibbs-hill.rst\n",
      ".  render_sources:output/stories/john-gill.rst\n",
      ".  render_sources:output/index.rst\n",
      ".  render_sources:output/stories/snowdon.rst\n",
      ".  render_sources:output/stories/references.rst\n",
      ".  render_tags:output/categories/index.html\n",
      ".  render_tags:output/assets/js/tag_cloud_data.json\n",
      ".  render_archive:output/2015/index.html\n",
      ".  render_archive:output/archive.html\n",
      ".  render_posts:timeline_changes\n",
      ".  render_posts:cache/posts/latest-weather-pijessie.html\n",
      ".  render_posts:cache/posts/latest-weather-kittycam.html\n",
      ".  render_posts:cache/posts/experimenting-and-building-things.html\n",
      ".  render_posts:cache/posts/machine-learning-in-the-atmosphere.html\n",
      ".  render_posts:cache/posts/sixty-seven-minutes.html\n",
      ".  render_posts:cache/posts/lamp-and-limp-stacks.html\n",
      ".  render_posts:cache/posts/air-pressure-and-the-tides.html\n",
      ".  render_posts:cache/posts/jupyter-venus-the-moon-and-gibbs-hill-weather.html\n",
      ".  render_posts:cache/posts/free-software-and-information-security.html\n",
      ".  render_posts:cache/posts/matplotlib.html\n",
      ".  render_posts:cache/posts/weather-station.html\n",
      ".  render_posts:cache/posts/tlf-free-software-test.html\n",
      ".  render_posts:cache/posts/nikola.html\n",
      ".  render_posts:cache/posts/weather-station-progress.html\n",
      ".  render_posts:cache/posts/debian-and-raspbian-package-management.html\n",
      "\u001b[33;01m[2015-07-27T19:19:12Z] WARNING: compile_rest: [posts/debian-and-raspbian-package-management.rst:10] malformed hyperlink target.\u001b[39;49;00m\n",
      ".  render_posts:cache/posts/free-software-and-computer-security.html\n",
      "\u001b[31;01m[2015-07-27T19:19:12Z] ERROR: compile_rest: [posts/free-software-and-computer-security.rst:21] Unknown target name: \"openssl\".\u001b[39;49;00m\n",
      "\u001b[31;01m[2015-07-27T19:19:12Z] ERROR: compile_rest: [posts/free-software-and-computer-security.rst:52] Unknown target name: \"general public license\".\u001b[39;49;00m\n",
      "\u001b[31;01m[2015-07-27T19:19:12Z] ERROR: compile_rest: [posts/free-software-and-computer-security.rst:65] Unknown target name: \"apple's os is derived from bsd unix\".\u001b[39;49;00m\n",
      "\u001b[31;01m[2015-07-27T19:19:12Z] ERROR: compile_rest: [posts/free-software-and-computer-security.rst:73] Unknown target name: \"guido van rossum\".\u001b[39;49;00m\n",
      "\u001b[31;01m[2015-07-27T19:19:12Z] ERROR: compile_rest: [posts/free-software-and-computer-security.rst:78] Unknown target name: \"mysql\".\u001b[39;49;00m\n",
      "\u001b[31;01m[2015-07-27T19:19:12Z] ERROR: compile_rest: [posts/free-software-and-computer-security.rst:169] Unknown target name: \"sort of average\".\u001b[39;49;00m\n",
      "\u001b[31;01m[2015-07-27T19:19:12Z] ERROR: compile_rest: [posts/free-software-and-computer-security.rst:174] Unknown target name: \"higher quality\".\u001b[39;49;00m\n",
      ".  render_posts:cache/posts/teaching-with-pis.html\n",
      ".  render_posts:cache/stories/opportunities-for-bermuda-in-the-21st-century.html\n",
      ".  render_posts:cache/posts/cyber-espionage-nightmare-and-the-case-for-open-data.html\n",
      ".  render_posts:cache/posts/more-raspberry-pi.html\n",
      ".  render_posts:cache/posts/references.html\n",
      ".  render_posts:cache/stories/contributors.html\n",
      ".  render_posts:cache/posts/more-data-mining-d-men.html\n",
      ".  render_posts:cache/posts/unreliable-internet-service-providers-are-part-of-the-security-problem.html\n",
      ".  render_posts:cache/posts/raspberry-pi-weather-station-for-schools.html\n",
      ".  render_posts:cache/posts/pygaarst.html\n",
      ".  render_posts:cache/posts/pydata-dallas.html\n",
      ".  render_posts:cache/posts/data-data-everywhere-nor-any-drop-to-drink.html\n",
      ".  render_posts:cache/posts/satellite-data-for-fay-and-gonzalo.html\n",
      ".  render_posts:cache/stories/crawl-hill.html\n",
      ".  render_posts:cache/stories/scaur-hill.html\n",
      ".  render_posts:cache/stories/gibbs-hill.html\n",
      ".  render_posts:cache/stories/john-gill.html\n",
      ".  render_posts:cache/base/index.html\n",
      ".  render_posts:cache/stories/snowdon.html\n",
      ".  render_posts:cache/stories/references.html\n",
      ".  render_indexes:output/blog/index.html\n",
      ".  render_tags:output/categories/mandela.html\n",
      ".  render_tags:output/categories/information-security.html\n",
      ".  render_tags:output/categories/fourier.html\n",
      ".  render_tags:output/categories/pyephem.html\n",
      ".  render_tags:output/categories/astropy.html\n",
      ".  render_tags:output/categories/limp.html\n",
      ".  render_tags:output/categories/take-a-minute.html\n",
      ".  render_tags:output/categories/lamp.html\n",
      ".  render_tags:output/categories/git.html\n",
      ".  render_tags:output/categories/weather.html\n",
      ".  render_tags:output/categories/pi.html\n",
      ".  render_tags:output/categories/tides.html\n",
      ".  render_tags:output/categories/linux.html\n",
      ".  render_tags:output/categories/computer.html\n",
      ".  render_tags:output/categories/air-pressure.html\n",
      ".  render_tags:output/categories/python.html\n",
      ".  render_tags:output/categories/data-science.html\n",
      ".  render_tags:output/categories/jupyter.html\n",
      ".  render_tags:output/categories/open-data.html\n",
      ".  render_tags:output/categories/astronomy.html\n",
      ".  render_tags:output/categories/cyber-risk.html\n",
      ".  render_tags:output/categories/moon.html\n",
      ".  render_tags:output/categories/meta-data.html\n",
      ".  render_tags:output/categories/finance.html\n",
      ".  render_tags:output/categories/67.html\n",
      ".  render_tags:output/categories/python-draft.html\n",
      ".  render_tags:output/categories/giving.html\n",
      ".  render_tags:output/categories/pandas.html\n",
      ".  render_tags:output/categories/mysql.html\n",
      ".  render_tags:output/categories/raspberry-pi.html\n",
      ".  render_tags:output/categories/gpl.html\n",
      ".  render_tags:output/categories/free-software.html\n",
      ".  render_tags:output/categories/cat_mapping-satellite-weather-opendata.html\n",
      ".  render_indexes:output/blog/index-1.html\n",
      ".  render_tags:output/categories/raspberry-pi.xml\n",
      ".  render_tags:output/categories/mysql.xml\n",
      ".  render_tags:output/categories/pandas.xml\n",
      ".  render_tags:output/categories/limp.xml\n",
      ".  render_pages:output/posts/debian-and-raspbian-package-management.html\n",
      ".  render_pages:output/posts/air-pressure-and-the-tides.html\n",
      ".  render_pages:output/posts/teaching-with-pis.html\n",
      ".  render_tags:output/categories/open-data.xml\n",
      ".  render_tags:output/categories/gpl.xml\n",
      ".  render_pages:output/posts/experimenting-and-building-things.html\n",
      ".  render_pages:output/posts/sixty-seven-minutes.html\n",
      ".  render_pages:output/stories/contributors.html\n",
      ".  render_tags:output/categories/moon.xml\n",
      ".  render_tags:output/categories/astropy.xml\n",
      ".  render_tags:output/categories/lamp.xml\n",
      ".  render_pages:output/stories/references.html\n",
      ".  render_pages:output/posts/pydata-dallas.html\n",
      ".  render_tags:output/categories/air-pressure.xml\n",
      ".  render_pages:output/posts/free-software-and-information-security.html\n",
      ".  render_tags:output/categories/linux.xml\n",
      ".  render_pages:output/posts/free-software-and-computer-security.html\n",
      ".  render_tags:output/categories/free-software.xml\n",
      ".  render_pages:output/posts/more-raspberry-pi.html\n",
      ".  render_tags:output/categories/jupyter.xml\n",
      ".  render_tags:output/categories/giving.xml\n",
      ".  render_tags:output/categories/67.xml\n",
      ".  render_tags:output/categories/mandela.xml\n",
      ".  render_pages:output/stories/john-gill.html\n",
      ".  render_pages:output/posts/jupyter-venus-the-moon-and-gibbs-hill-weather.html\n",
      ".  render_tags:output/categories/finance.xml\n",
      ".  render_tags:output/categories/python-draft.xml\n",
      ".  render_tags:output/categories/information-security.xml\n",
      ".  render_tags:output/categories/take-a-minute.xml\n",
      ".  render_tags:output/categories/meta-data.xml\n",
      ".  render_tags:output/categories/data-science.xml\n",
      ".  render_pages:output/posts/data-data-everywhere-nor-any-drop-to-drink.html\n",
      ".  render_pages:output/posts/matplotlib.html\n",
      ".  generate_rss:output/rss.xml\n",
      ".  render_tags:output/categories/weather.xml\n",
      ".  render_pages:output/posts/machine-learning-in-the-atmosphere.html\n",
      ".  render_pages:output/posts/weather-station.html\n",
      ".  render_pages:output/posts/unreliable-internet-service-providers-are-part-of-the-security-problem.html\n",
      ".  render_pages:output/stories/crawl-hill.html\n",
      ".  render_pages:output/stories/snowdon.html\n",
      ".  render_pages:output/posts/satellite-data-for-fay-and-gonzalo.html\n",
      ".  render_tags:output/categories/cyber-risk.xml\n",
      ".  render_pages:output/index.html\n",
      ".  render_tags:output/categories/git.xml\n",
      ".  render_pages:output/posts/nikola.html\n",
      ".  render_pages:output/posts/more-data-mining-d-men.html\n",
      ".  render_pages:output/posts/latest-weather-pijessie.html\n",
      ".  render_tags:output/categories/pyephem.xml\n",
      ".  render_pages:output/posts/raspberry-pi-weather-station-for-schools.html\n",
      ".  render_tags:output/categories/tides.xml\n",
      ".  render_pages:output/posts/references.html\n",
      ".  render_pages:output/posts/latest-weather-kittycam.html\n",
      ".  render_pages:output/stories/scaur-hill.html\n",
      ".  render_pages:output/stories/opportunities-for-bermuda-in-the-21st-century.html\n",
      ".  render_pages:output/posts/lamp-and-limp-stacks.html\n",
      ".  render_pages:output/stories/gibbs-hill.html\n",
      ".  render_tags:output/categories/fourier.xml\n",
      ".  render_pages:output/posts/weather-station-progress.html\n",
      ".  render_tags:output/categories/cat_mapping-satellite-weather-opendata.xml\n",
      ".  render_pages:output/posts/pygaarst.html\n",
      ".  render_tags:output/categories/astronomy.xml\n",
      ".  render_tags:output/categories/python.xml\n",
      ".  render_tags:output/categories/computer.xml\n",
      ".  render_pages:output/posts/tlf-free-software-test.html\n",
      ".  render_pages:output/posts/cyber-espionage-nightmare-and-the-case-for-open-data.html\n",
      ".  render_tags:output/categories/pi.xml\n",
      ".  create_bundles:output/assets/js/all.js\n",
      ".  create_bundles:output/assets/js/all-nocdn.js\n",
      ".  create_bundles:output/assets/css/all.css\n",
      ".  create_bundles:output/assets/css/all-nocdn.css\n",
      ".  sitemap:output/sitemap.xml\n",
      ".  sitemap:output/sitemapindex.xml\n",
      ".  robots_file:output/robots.txt\n",
      "\u001b[33;01m[2015-07-27T19:19:19Z] WARNING: Nikola: robots.txt not ending up in server root, will be useless\u001b[39;49;00m\n"
     ]
    }
   ],
   "source": [
    "!nikola build"
   ]
  }
 ],
 "metadata": {
  "kernelspec": {
   "display_name": "Python 3",
   "language": "python",
   "name": "python3"
  },
  "language_info": {
   "codemirror_mode": {
    "name": "ipython",
    "version": 3
   },
   "file_extension": ".py",
   "mimetype": "text/x-python",
   "name": "python",
   "nbconvert_exporter": "python",
   "pygments_lexer": "ipython3",
   "version": "3.4.3"
  }
 },
 "nbformat": 4,
 "nbformat_minor": 0
}
