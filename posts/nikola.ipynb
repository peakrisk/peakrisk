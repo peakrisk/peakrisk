{
 "cells": [
  {
   "cell_type": "code",
   "execution_count": 1,
   "metadata": {
    "collapsed": false,
    "tags": [
     "worksheet-0"
    ]
   },
   "outputs": [
    {
     "name": "stdout",
     "output_type": "stream",
     "text": [
      ".  render_tags:output/categories/free-software.html\r\n"
     ]
    },
    {
     "name": "stdout",
     "output_type": "stream",
     "text": [
      ".  render_tags:output/categories/meta-data.html\r\n",
      ".  render_tags:output/categories/information-security.html\r\n"
     ]
    },
    {
     "name": "stdout",
     "output_type": "stream",
     "text": [
      ".  render_tags:output/categories/finance.html\r\n",
      ".  render_tags:output/categories/data-science.html\r\n",
      ".  render_tags:output/categories/air-pressure.html\r\n"
     ]
    },
    {
     "name": "stdout",
     "output_type": "stream",
     "text": [
      ".  render_tags:output/categories/raspberry-pi.html\r\n",
      ".  render_tags:output/categories/cyber-risk.html\r\n"
     ]
    },
    {
     "name": "stdout",
     "output_type": "stream",
     "text": [
      ".  render_tags:output/categories/linux.html\r\n",
      ".  render_tags:output/categories/jupyter.html\r\n",
      ".  render_tags:output/categories/computer.html\r\n",
      ".  render_tags:output/categories/astronomy.html\r\n"
     ]
    },
    {
     "name": "stdout",
     "output_type": "stream",
     "text": [
      ".  render_tags:output/categories/astropy.html\r\n"
     ]
    },
    {
     "name": "stdout",
     "output_type": "stream",
     "text": [
      ".  render_tags:output/categories/gpl.html\r\n"
     ]
    },
    {
     "name": "stdout",
     "output_type": "stream",
     "text": [
      "Scanning posts.......done!\r\n"
     ]
    }
   ],
   "source": [
    "!nikola build"
   ]
  }
 ],
 "metadata": {},
 "nbformat": 4,
 "nbformat_minor": 0
}
