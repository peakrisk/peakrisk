{
 "cells": [
  {
   "cell_type": "code",
   "execution_count": 2,
   "metadata": {
    "collapsed": false
   },
   "outputs": [
    {
     "name": "stdout",
     "output_type": "stream",
     "text": [
      "Successfully installed astropy\r\n",
      "Cleaning up...\r\n"
     ]
    },
    {
     "name": "stdout",
     "output_type": "stream",
     "text": [
      "    Installing fits2bitmap script to /home/jng/.virtualenvs/peakrisk2/bin\r\n",
      "    Installing volint script to /home/jng/.virtualenvs/peakrisk2/bin\r\n",
      "    Installing wcslint script to /home/jng/.virtualenvs/peakrisk2/bin\r\n",
      "    Installing fitsdiff script to /home/jng/.virtualenvs/peakrisk2/bin\r\n",
      "    Installing fitsheader script to /home/jng/.virtualenvs/peakrisk2/bin\r\n",
      "    Installing fitscheck script to /home/jng/.virtualenvs/peakrisk2/bin\r\n",
      "    Installing samp_hub script to /home/jng/.virtualenvs/peakrisk2/bin\r\n"
     ]
    },
    {
     "name": "stdout",
     "output_type": "stream",
     "text": [
      "    \r\n"
     ]
    },
    {
     "name": "stdout",
     "output_type": "stream",
     "text": [
      "    x86_64-linux-gnu-gcc -pthread -shared -Wl,-O1 -Wl,-Bsymbolic-functions -Wl,-Bsymbolic-functions -Wl,-z,relro -Wl,-Bsymbolic-functions -Wl,-z,relro -g -fstack-protector-strong -Wformat -Werror=format-security -D_FORTIFY_SOURCE=2 build/temp.linux-x86_64-3.4/astropy/convolution/boundary_extend.o -o build/lib.linux-x86_64-3.4/astropy/convolution/boundary_extend.cpython-34m.so\r\n"
     ]
    },
    {
     "name": "stdout",
     "output_type": "stream",
     "text": [
      "    In file included from /home/jng/.virtualenvs/peakrisk2/lib/python3.4/site-packages/numpy/core/include/numpy/ndarrayobject.h:26:0,\r\n",
      "                     from /home/jng/.virtualenvs/peakrisk2/lib/python3.4/site-packages/numpy/core/include/numpy/arrayobject.h:4,\r\n",
      "                     from astropy/convolution/boundary_extend.c:239:\r\n",
      "    /home/jng/.virtualenvs/peakrisk2/lib/python3.4/site-packages/numpy/core/include/numpy/__multiarray_api.h:1629:1: warning: ‘_import_array’ defined but not used [-Wunused-function]\r\n",
      "     _import_array(void)\r\n",
      "     ^\r\n",
      "    In file included from /home/jng/.virtualenvs/peakrisk2/lib/python3.4/site-packages/numpy/core/include/numpy/ufuncobject.h:317:0,\r\n",
      "                     from astropy/convolution/boundary_extend.c:240:\r\n",
      "    /home/jng/.virtualenvs/peakrisk2/lib/python3.4/site-packages/numpy/core/include/numpy/__ufunc_api.h:241:1: warning: ‘_import_umath’ defined but not used [-Wunused-function]\r\n",
      "     _import_umath(void)\r\n",
      "     ^\r\n"
     ]
    },
    {
     "name": "stdout",
     "output_type": "stream",
     "text": [
      "    In file included from /home/jng/.virtualenvs/peakrisk2/lib/python3.4/site-packages/numpy/core/include/numpy/ndarraytypes.h:1804:0,\r\n",
      "                     from /home/jng/.virtualenvs/peakrisk2/lib/python3.4/site-packages/numpy/core/include/numpy/ndarrayobject.h:17,\r\n",
      "                     from /home/jng/.virtualenvs/peakrisk2/lib/python3.4/site-packages/numpy/core/include/numpy/arrayobject.h:4,\r\n",
      "                     from astropy/convolution/boundary_extend.c:239:\r\n",
      "    /home/jng/.virtualenvs/peakrisk2/lib/python3.4/site-packages/numpy/core/include/numpy/npy_1_7_deprecated_api.h:15:2: warning: #warning \"Using deprecated NumPy API, disable it by \" \"#defining NPY_NO_DEPRECATED_API NPY_1_7_API_VERSION\" [-Wcpp]\r\n",
      "     #warning \"Using deprecated NumPy API, disable it by \" \\\r\n",
      "      ^\r\n"
     ]
    },
    {
     "name": "stdout",
     "output_type": "stream",
     "text": [
      "    building 'astropy.convolution.boundary_extend' extension\r\n",
      "    x86_64-linux-gnu-gcc -pthread -DNDEBUG -g -fwrapv -O2 -Wall -Wstrict-prototypes -g -fstack-protector-strong -Wformat -Werror=format-security -D_FORTIFY_SOURCE=2 -fPIC -I/home/jng/.virtualenvs/peakrisk2/lib/python3.4/site-packages/numpy/core/include -I/usr/include/python3.4m -I/home/jng/.virtualenvs/peakrisk2/include/python3.4m -c astropy/convolution/boundary_extend.c -o build/temp.linux-x86_64-3.4/astropy/convolution/boundary_extend.o\r\n"
     ]
    },
    {
     "name": "stdout",
     "output_type": "stream",
     "text": [
      "    x86_64-linux-gnu-gcc -pthread -shared -Wl,-O1 -Wl,-Bsymbolic-functions -Wl,-Bsymbolic-functions -Wl,-z,relro -Wl,-Bsymbolic-functions -Wl,-z,relro -g -fstack-protector-strong -Wformat -Werror=format-security -D_FORTIFY_SOURCE=2 build/temp.linux-x86_64-3.4/astropy/convolution/boundary_fill.o -o build/lib.linux-x86_64-3.4/astropy/convolution/boundary_fill.cpython-34m.so\r\n"
     ]
    },
    {
     "name": "stdout",
     "output_type": "stream",
     "text": [
      "    In file included from /home/jng/.virtualenvs/peakrisk2/lib/python3.4/site-packages/numpy/core/include/numpy/ndarrayobject.h:26:0,\r\n",
      "                     from /home/jng/.virtualenvs/peakrisk2/lib/python3.4/site-packages/numpy/core/include/numpy/arrayobject.h:4,\r\n",
      "                     from astropy/convolution/boundary_fill.c:239:\r\n",
      "    /home/jng/.virtualenvs/peakrisk2/lib/python3.4/site-packages/numpy/core/include/numpy/__multiarray_api.h:1629:1: warning: ‘_import_array’ defined but not used [-Wunused-function]\r\n",
      "     _import_array(void)\r\n",
      "     ^\r\n",
      "    In file included from /home/jng/.virtualenvs/peakrisk2/lib/python3.4/site-packages/numpy/core/include/numpy/ufuncobject.h:317:0,\r\n",
      "                     from astropy/convolution/boundary_fill.c:240:\r\n",
      "    /home/jng/.virtualenvs/peakrisk2/lib/python3.4/site-packages/numpy/core/include/numpy/__ufunc_api.h:241:1: warning: ‘_import_umath’ defined but not used [-Wunused-function]\r\n",
      "     _import_umath(void)\r\n",
      "     ^\r\n"
     ]
    },
    {
     "name": "stdout",
     "output_type": "stream",
     "text": [
      "    In file included from /home/jng/.virtualenvs/peakrisk2/lib/python3.4/site-packages/numpy/core/include/numpy/ndarraytypes.h:1804:0,\r\n",
      "                     from /home/jng/.virtualenvs/peakrisk2/lib/python3.4/site-packages/numpy/core/include/numpy/ndarrayobject.h:17,\r\n",
      "                     from /home/jng/.virtualenvs/peakrisk2/lib/python3.4/site-packages/numpy/core/include/numpy/arrayobject.h:4,\r\n",
      "                     from astropy/convolution/boundary_fill.c:239:\r\n",
      "    /home/jng/.virtualenvs/peakrisk2/lib/python3.4/site-packages/numpy/core/include/numpy/npy_1_7_deprecated_api.h:15:2: warning: #warning \"Using deprecated NumPy API, disable it by \" \"#defining NPY_NO_DEPRECATED_API NPY_1_7_API_VERSION\" [-Wcpp]\r\n",
      "     #warning \"Using deprecated NumPy API, disable it by \" \\\r\n",
      "      ^\r\n"
     ]
    },
    {
     "name": "stdout",
     "output_type": "stream",
     "text": [
      "    building 'astropy.convolution.boundary_fill' extension\r\n",
      "    x86_64-linux-gnu-gcc -pthread -DNDEBUG -g -fwrapv -O2 -Wall -Wstrict-prototypes -g -fstack-protector-strong -Wformat -Werror=format-security -D_FORTIFY_SOURCE=2 -fPIC -I/home/jng/.virtualenvs/peakrisk2/lib/python3.4/site-packages/numpy/core/include -I/usr/include/python3.4m -I/home/jng/.virtualenvs/peakrisk2/include/python3.4m -c astropy/convolution/boundary_fill.c -o build/temp.linux-x86_64-3.4/astropy/convolution/boundary_fill.o\r\n"
     ]
    },
    {
     "name": "stdout",
     "output_type": "stream",
     "text": [
      "    x86_64-linux-gnu-gcc -pthread -shared -Wl,-O1 -Wl,-Bsymbolic-functions -Wl,-Bsymbolic-functions -Wl,-z,relro -Wl,-Bsymbolic-functions -Wl,-z,relro -g -fstack-protector-strong -Wformat -Werror=format-security -D_FORTIFY_SOURCE=2 build/temp.linux-x86_64-3.4/astropy/convolution/boundary_none.o -o build/lib.linux-x86_64-3.4/astropy/convolution/boundary_none.cpython-34m.so\r\n"
     ]
    },
    {
     "name": "stdout",
     "output_type": "stream",
     "text": [
      "    In file included from /home/jng/.virtualenvs/peakrisk2/lib/python3.4/site-packages/numpy/core/include/numpy/ndarrayobject.h:26:0,\r\n",
      "                     from /home/jng/.virtualenvs/peakrisk2/lib/python3.4/site-packages/numpy/core/include/numpy/arrayobject.h:4,\r\n",
      "                     from astropy/convolution/boundary_none.c:239:\r\n",
      "    /home/jng/.virtualenvs/peakrisk2/lib/python3.4/site-packages/numpy/core/include/numpy/__multiarray_api.h:1629:1: warning: ‘_import_array’ defined but not used [-Wunused-function]\r\n",
      "     _import_array(void)\r\n",
      "     ^\r\n",
      "    In file included from /home/jng/.virtualenvs/peakrisk2/lib/python3.4/site-packages/numpy/core/include/numpy/ufuncobject.h:317:0,\r\n",
      "                     from astropy/convolution/boundary_none.c:240:\r\n",
      "    /home/jng/.virtualenvs/peakrisk2/lib/python3.4/site-packages/numpy/core/include/numpy/__ufunc_api.h:241:1: warning: ‘_import_umath’ defined but not used [-Wunused-function]\r\n",
      "     _import_umath(void)\r\n",
      "     ^\r\n"
     ]
    },
    {
     "name": "stdout",
     "output_type": "stream",
     "text": [
      "    In file included from /home/jng/.virtualenvs/peakrisk2/lib/python3.4/site-packages/numpy/core/include/numpy/ndarraytypes.h:1804:0,\r\n",
      "                     from /home/jng/.virtualenvs/peakrisk2/lib/python3.4/site-packages/numpy/core/include/numpy/ndarrayobject.h:17,\r\n",
      "                     from /home/jng/.virtualenvs/peakrisk2/lib/python3.4/site-packages/numpy/core/include/numpy/arrayobject.h:4,\r\n",
      "                     from astropy/convolution/boundary_none.c:239:\r\n",
      "    /home/jng/.virtualenvs/peakrisk2/lib/python3.4/site-packages/numpy/core/include/numpy/npy_1_7_deprecated_api.h:15:2: warning: #warning \"Using deprecated NumPy API, disable it by \" \"#defining NPY_NO_DEPRECATED_API NPY_1_7_API_VERSION\" [-Wcpp]\r\n",
      "     #warning \"Using deprecated NumPy API, disable it by \" \\\r\n",
      "      ^\r\n"
     ]
    },
    {
     "name": "stdout",
     "output_type": "stream",
     "text": [
      "    building 'astropy.convolution.boundary_none' extension\r\n",
      "    x86_64-linux-gnu-gcc -pthread -DNDEBUG -g -fwrapv -O2 -Wall -Wstrict-prototypes -g -fstack-protector-strong -Wformat -Werror=format-security -D_FORTIFY_SOURCE=2 -fPIC -I/home/jng/.virtualenvs/peakrisk2/lib/python3.4/site-packages/numpy/core/include -I/usr/include/python3.4m -I/home/jng/.virtualenvs/peakrisk2/include/python3.4m -c astropy/convolution/boundary_none.c -o build/temp.linux-x86_64-3.4/astropy/convolution/boundary_none.o\r\n"
     ]
    },
    {
     "name": "stdout",
     "output_type": "stream",
     "text": [
      "    x86_64-linux-gnu-gcc -pthread -shared -Wl,-O1 -Wl,-Bsymbolic-functions -Wl,-Bsymbolic-functions -Wl,-z,relro -Wl,-Bsymbolic-functions -Wl,-z,relro -g -fstack-protector-strong -Wformat -Werror=format-security -D_FORTIFY_SOURCE=2 build/temp.linux-x86_64-3.4/astropy/convolution/boundary_wrap.o -o build/lib.linux-x86_64-3.4/astropy/convolution/boundary_wrap.cpython-34m.so\r\n"
     ]
    },
    {
     "name": "stdout",
     "output_type": "stream",
     "text": [
      "    In file included from /home/jng/.virtualenvs/peakrisk2/lib/python3.4/site-packages/numpy/core/include/numpy/ndarrayobject.h:26:0,\r\n",
      "                     from /home/jng/.virtualenvs/peakrisk2/lib/python3.4/site-packages/numpy/core/include/numpy/arrayobject.h:4,\r\n",
      "                     from astropy/convolution/boundary_wrap.c:239:\r\n",
      "    /home/jng/.virtualenvs/peakrisk2/lib/python3.4/site-packages/numpy/core/include/numpy/__multiarray_api.h:1629:1: warning: ‘_import_array’ defined but not used [-Wunused-function]\r\n",
      "     _import_array(void)\r\n",
      "     ^\r\n",
      "    In file included from /home/jng/.virtualenvs/peakrisk2/lib/python3.4/site-packages/numpy/core/include/numpy/ufuncobject.h:317:0,\r\n",
      "                     from astropy/convolution/boundary_wrap.c:240:\r\n",
      "    /home/jng/.virtualenvs/peakrisk2/lib/python3.4/site-packages/numpy/core/include/numpy/__ufunc_api.h:241:1: warning: ‘_import_umath’ defined but not used [-Wunused-function]\r\n",
      "     _import_umath(void)\r\n",
      "     ^\r\n"
     ]
    },
    {
     "name": "stdout",
     "output_type": "stream",
     "text": [
      "    In file included from /home/jng/.virtualenvs/peakrisk2/lib/python3.4/site-packages/numpy/core/include/numpy/ndarraytypes.h:1804:0,\r\n",
      "                     from /home/jng/.virtualenvs/peakrisk2/lib/python3.4/site-packages/numpy/core/include/numpy/ndarrayobject.h:17,\r\n",
      "                     from /home/jng/.virtualenvs/peakrisk2/lib/python3.4/site-packages/numpy/core/include/numpy/arrayobject.h:4,\r\n",
      "                     from astropy/convolution/boundary_wrap.c:239:\r\n",
      "    /home/jng/.virtualenvs/peakrisk2/lib/python3.4/site-packages/numpy/core/include/numpy/npy_1_7_deprecated_api.h:15:2: warning: #warning \"Using deprecated NumPy API, disable it by \" \"#defining NPY_NO_DEPRECATED_API NPY_1_7_API_VERSION\" [-Wcpp]\r\n",
      "     #warning \"Using deprecated NumPy API, disable it by \" \\\r\n",
      "      ^\r\n"
     ]
    },
    {
     "name": "stdout",
     "output_type": "stream",
     "text": [
      "    building 'astropy.convolution.boundary_wrap' extension\r\n",
      "    x86_64-linux-gnu-gcc -pthread -DNDEBUG -g -fwrapv -O2 -Wall -Wstrict-prototypes -g -fstack-protector-strong -Wformat -Werror=format-security -D_FORTIFY_SOURCE=2 -fPIC -I/home/jng/.virtualenvs/peakrisk2/lib/python3.4/site-packages/numpy/core/include -I/usr/include/python3.4m -I/home/jng/.virtualenvs/peakrisk2/include/python3.4m -c astropy/convolution/boundary_wrap.c -o build/temp.linux-x86_64-3.4/astropy/convolution/boundary_wrap.o\r\n"
     ]
    },
    {
     "name": "stdout",
     "output_type": "stream",
     "text": [
      "    x86_64-linux-gnu-gcc -pthread -shared -Wl,-O1 -Wl,-Bsymbolic-functions -Wl,-Bsymbolic-functions -Wl,-z,relro -Wl,-Bsymbolic-functions -Wl,-z,relro -g -fstack-protector-strong -Wformat -Werror=format-security -D_FORTIFY_SOURCE=2 build/temp.linux-x86_64-3.4/astropy/utils/xml/src/iterparse.o build/temp.linux-x86_64-3.4/cextern/expat/lib/xmlparse.o build/temp.linux-x86_64-3.4/cextern/expat/lib/xmlrole.o build/temp.linux-x86_64-3.4/cextern/expat/lib/xmltok.o build/temp.linux-x86_64-3.4/cextern/expat/lib/xmltok_impl.o -o build/lib.linux-x86_64-3.4/astropy/utils/xml/_iterparser.cpython-34m.so -Wl,--version-script=astropy/utils/xml/src/iterparse.map\r\n"
     ]
    },
    {
     "name": "stdout",
     "output_type": "stream",
     "text": [
      "    x86_64-linux-gnu-gcc -pthread -DNDEBUG -g -fwrapv -O2 -Wall -Wstrict-prototypes -g -fstack-protector-strong -Wformat -Werror=format-security -D_FORTIFY_SOURCE=2 -fPIC -DHAVE_EXPAT_CONFIG_H=1 -DBYTEORDER=1234 -DHAVE_UNISTD_H -Iastropy/utils/xml/src -Icextern/expat/lib -I/usr/include/python3.4m -I/home/jng/.virtualenvs/peakrisk2/include/python3.4m -c cextern/expat/lib/xmltok_impl.c -o build/temp.linux-x86_64-3.4/cextern/expat/lib/xmltok_impl.o\r\n"
     ]
    },
    {
     "name": "stdout",
     "output_type": "stream",
     "text": [
      "    x86_64-linux-gnu-gcc -pthread -DNDEBUG -g -fwrapv -O2 -Wall -Wstrict-prototypes -g -fstack-protector-strong -Wformat -Werror=format-security -D_FORTIFY_SOURCE=2 -fPIC -DHAVE_EXPAT_CONFIG_H=1 -DBYTEORDER=1234 -DHAVE_UNISTD_H -Iastropy/utils/xml/src -Icextern/expat/lib -I/usr/include/python3.4m -I/home/jng/.virtualenvs/peakrisk2/include/python3.4m -c cextern/expat/lib/xmltok.c -o build/temp.linux-x86_64-3.4/cextern/expat/lib/xmltok.o\r\n"
     ]
    },
    {
     "name": "stdout",
     "output_type": "stream",
     "text": [
      "    x86_64-linux-gnu-gcc -pthread -DNDEBUG -g -fwrapv -O2 -Wall -Wstrict-prototypes -g -fstack-protector-strong -Wformat -Werror=format-security -D_FORTIFY_SOURCE=2 -fPIC -DHAVE_EXPAT_CONFIG_H=1 -DBYTEORDER=1234 -DHAVE_UNISTD_H -Iastropy/utils/xml/src -Icextern/expat/lib -I/usr/include/python3.4m -I/home/jng/.virtualenvs/peakrisk2/include/python3.4m -c cextern/expat/lib/xmlrole.c -o build/temp.linux-x86_64-3.4/cextern/expat/lib/xmlrole.o\r\n"
     ]
    },
    {
     "name": "stdout",
     "output_type": "stream",
     "text": [
      "    x86_64-linux-gnu-gcc -pthread -DNDEBUG -g -fwrapv -O2 -Wall -Wstrict-prototypes -g -fstack-protector-strong -Wformat -Werror=format-security -D_FORTIFY_SOURCE=2 -fPIC -DHAVE_EXPAT_CONFIG_H=1 -DBYTEORDER=1234 -DHAVE_UNISTD_H -Iastropy/utils/xml/src -Icextern/expat/lib -I/usr/include/python3.4m -I/home/jng/.virtualenvs/peakrisk2/include/python3.4m -c cextern/expat/lib/xmlparse.c -o build/temp.linux-x86_64-3.4/cextern/expat/lib/xmlparse.o\r\n"
     ]
    },
    {
     "name": "stdout",
     "output_type": "stream",
     "text": [
      "    building 'astropy.utils.xml._iterparser' extension\r\n",
      "    x86_64-linux-gnu-gcc -pthread -DNDEBUG -g -fwrapv -O2 -Wall -Wstrict-prototypes -g -fstack-protector-strong -Wformat -Werror=format-security -D_FORTIFY_SOURCE=2 -fPIC -DHAVE_EXPAT_CONFIG_H=1 -DBYTEORDER=1234 -DHAVE_UNISTD_H -Iastropy/utils/xml/src -Icextern/expat/lib -I/usr/include/python3.4m -I/home/jng/.virtualenvs/peakrisk2/include/python3.4m -c astropy/utils/xml/src/iterparse.c -o build/temp.linux-x86_64-3.4/astropy/utils/xml/src/iterparse.o\r\n"
     ]
    },
    {
     "name": "stdout",
     "output_type": "stream",
     "text": [
      "    x86_64-linux-gnu-gcc -pthread -shared -Wl,-O1 -Wl,-Bsymbolic-functions -Wl,-Bsymbolic-functions -Wl,-z,relro -Wl,-Bsymbolic-functions -Wl,-z,relro -g -fstack-protector-strong -Wformat -Werror=format-security -D_FORTIFY_SOURCE=2 build/temp.linux-x86_64-3.4/astropy/io/votable/src/tablewriter.o -o build/lib.linux-x86_64-3.4/astropy/io/votable/tablewriter.cpython-34m.so\r\n"
     ]
    },
    {
     "name": "stdout",
     "output_type": "stream",
     "text": [
      "    building 'astropy.io.votable.tablewriter' extension\r\n",
      "    x86_64-linux-gnu-gcc -pthread -DNDEBUG -g -fwrapv -O2 -Wall -Wstrict-prototypes -g -fstack-protector-strong -Wformat -Werror=format-security -D_FORTIFY_SOURCE=2 -fPIC -Iastropy/io/votable/src -I/usr/include/python3.4m -I/home/jng/.virtualenvs/peakrisk2/include/python3.4m -c astropy/io/votable/src/tablewriter.c -o build/temp.linux-x86_64-3.4/astropy/io/votable/src/tablewriter.o\r\n"
     ]
    },
    {
     "name": "stdout",
     "output_type": "stream",
     "text": [
      "    x86_64-linux-gnu-gcc -pthread -shared -Wl,-O1 -Wl,-Bsymbolic-functions -Wl,-Bsymbolic-functions -Wl,-z,relro -Wl,-Bsymbolic-functions -Wl,-z,relro -g -fstack-protector-strong -Wformat -Werror=format-security -D_FORTIFY_SOURCE=2 build/temp.linux-x86_64-3.4/astropy/io/ascii/cparser.o build/temp.linux-x86_64-3.4/astropy/io/ascii/src/tokenizer.o -o build/lib.linux-x86_64-3.4/astropy/io/ascii/cparser.cpython-34m.so\r\n"
     ]
    },
    {
     "name": "stdout",
     "output_type": "stream",
     "text": [
      "    x86_64-linux-gnu-gcc -pthread -DNDEBUG -g -fwrapv -O2 -Wall -Wstrict-prototypes -g -fstack-protector-strong -Wformat -Werror=format-security -D_FORTIFY_SOURCE=2 -fPIC -I/home/jng/.virtualenvs/peakrisk2/lib/python3.4/site-packages/numpy/core/include -I/usr/include/python3.4m -I/home/jng/.virtualenvs/peakrisk2/include/python3.4m -c astropy/io/ascii/src/tokenizer.c -o build/temp.linux-x86_64-3.4/astropy/io/ascii/src/tokenizer.o\r\n"
     ]
    },
    {
     "name": "stdout",
     "output_type": "stream",
     "text": [
      "    In file included from /home/jng/.virtualenvs/peakrisk2/lib/python3.4/site-packages/numpy/core/include/numpy/ndarrayobject.h:26:0,\r\n",
      "                     from /home/jng/.virtualenvs/peakrisk2/lib/python3.4/site-packages/numpy/core/include/numpy/arrayobject.h:4,\r\n",
      "                     from astropy/io/ascii/cparser.c:239:\r\n",
      "    astropy/io/ascii/cparser.c: At top level:\r\n",
      "    /home/jng/.virtualenvs/peakrisk2/lib/python3.4/site-packages/numpy/core/include/numpy/__multiarray_api.h:1629:1: warning: ‘_import_array’ defined but not used [-Wunused-function]\r\n",
      "     _import_array(void)\r\n",
      "     ^\r\n",
      "    In file included from /home/jng/.virtualenvs/peakrisk2/lib/python3.4/site-packages/numpy/core/include/numpy/ufuncobject.h:317:0,\r\n",
      "                     from astropy/io/ascii/cparser.c:240:\r\n",
      "    /home/jng/.virtualenvs/peakrisk2/lib/python3.4/site-packages/numpy/core/include/numpy/__ufunc_api.h:241:1: warning: ‘_import_umath’ defined but not used [-Wunused-function]\r\n",
      "     _import_umath(void)\r\n",
      "     ^\r\n"
     ]
    },
    {
     "name": "stdout",
     "output_type": "stream",
     "text": [
      "    astropy/io/ascii/cparser.c: In function ‘__pyx_pf_7astropy_2io_5ascii_7cparser_10FileString___cinit__’:\r\n",
      "    astropy/io/ascii/cparser.c:2615:38: warning: passing argument 2 of ‘PyObject_AsReadBuffer’ from incompatible pointer type\r\n",
      "         PyObject_AsReadBuffer(__pyx_t_2, (&__pyx_v_self->mmap_ptr), (&__pyx_v_buf_len));\r\n",
      "                                          ^\r\n",
      "    In file included from /usr/include/python3.4m/Python.h:120:0,\r\n",
      "                     from astropy/io/ascii/cparser.c:16:\r\n",
      "    /usr/include/python3.4m/abstract.h:481:22: note: expected ‘const void **’ but argument is of type ‘void **’\r\n",
      "          PyAPI_FUNC(int) PyObject_AsReadBuffer(PyObject *obj,\r\n",
      "                          ^\r\n"
     ]
    },
    {
     "name": "stdout",
     "output_type": "stream",
     "text": [
      "    In file included from /home/jng/.virtualenvs/peakrisk2/lib/python3.4/site-packages/numpy/core/include/numpy/ndarraytypes.h:1804:0,\r\n",
      "                     from /home/jng/.virtualenvs/peakrisk2/lib/python3.4/site-packages/numpy/core/include/numpy/ndarrayobject.h:17,\r\n",
      "                     from /home/jng/.virtualenvs/peakrisk2/lib/python3.4/site-packages/numpy/core/include/numpy/arrayobject.h:4,\r\n",
      "                     from astropy/io/ascii/cparser.c:239:\r\n",
      "    /home/jng/.virtualenvs/peakrisk2/lib/python3.4/site-packages/numpy/core/include/numpy/npy_1_7_deprecated_api.h:15:2: warning: #warning \"Using deprecated NumPy API, disable it by \" \"#defining NPY_NO_DEPRECATED_API NPY_1_7_API_VERSION\" [-Wcpp]\r\n",
      "     #warning \"Using deprecated NumPy API, disable it by \" \\\r\n",
      "      ^\r\n"
     ]
    },
    {
     "name": "stdout",
     "output_type": "stream",
     "text": [
      "    building 'astropy.io.ascii.cparser' extension\r\n",
      "    x86_64-linux-gnu-gcc -pthread -DNDEBUG -g -fwrapv -O2 -Wall -Wstrict-prototypes -g -fstack-protector-strong -Wformat -Werror=format-security -D_FORTIFY_SOURCE=2 -fPIC -I/home/jng/.virtualenvs/peakrisk2/lib/python3.4/site-packages/numpy/core/include -I/usr/include/python3.4m -I/home/jng/.virtualenvs/peakrisk2/include/python3.4m -c astropy/io/ascii/cparser.c -o build/temp.linux-x86_64-3.4/astropy/io/ascii/cparser.o\r\n"
     ]
    },
    {
     "name": "stdout",
     "output_type": "stream",
     "text": [
      "    x86_64-linux-gnu-gcc -pthread -shared -Wl,-O1 -Wl,-Bsymbolic-functions -Wl,-Bsymbolic-functions -Wl,-z,relro -Wl,-Bsymbolic-functions -Wl,-z,relro -g -fstack-protector-strong -Wformat -Werror=format-security -D_FORTIFY_SOURCE=2 build/temp.linux-x86_64-3.4/astropy/io/fits/src/compressionmodule.o build/temp.linux-x86_64-3.4/cextern/cfitsio/drvrsmem.o build/temp.linux-x86_64-3.4/cextern/cfitsio/getcolb.o build/temp.linux-x86_64-3.4/cextern/cfitsio/putcoli.o build/temp.linux-x86_64-3.4/cextern/cfitsio/eval_y.o build/temp.linux-x86_64-3.4/cextern/cfitsio/cfileio.o build/temp.linux-x86_64-3.4/cextern/cfitsio/getcole.o build/temp.linux-x86_64-3.4/cextern/cfitsio/fitscore.o build/temp.linux-x86_64-3.4/cextern/cfitsio/wcssub.o build/temp.linux-x86_64-3.4/cextern/cfitsio/scalnull.o build/temp.linux-x86_64-3.4/cextern/cfitsio/drvrnet.o build/temp.linux-x86_64-3.4/cextern/cfitsio/quantize.o build/temp.linux-x86_64-3.4/cextern/cfitsio/putcolb.o build/temp.linux-x86_64-3.4/cextern/cfitsio/grparser.o build/temp.linux-x86_64-3.4/cextern/cfitsio/putcold.o build/temp.linux-x86_64-3.4/cextern/cfitsio/zcompress.o build/temp.linux-x86_64-3.4/cextern/cfitsio/getcoluk.o build/temp.linux-x86_64-3.4/cextern/cfitsio/pliocomp.o build/temp.linux-x86_64-3.4/cextern/cfitsio/crc32.o build/temp.linux-x86_64-3.4/cextern/cfitsio/trees.o build/temp.linux-x86_64-3.4/cextern/cfitsio/modkey.o build/temp.linux-x86_64-3.4/cextern/cfitsio/getcol.o build/temp.linux-x86_64-3.4/cextern/cfitsio/drvrfile.o build/temp.linux-x86_64-3.4/cextern/cfitsio/uncompr.o build/temp.linux-x86_64-3.4/cextern/cfitsio/buffers.o build/temp.linux-x86_64-3.4/cextern/cfitsio/drvrgsiftp.o build/temp.linux-x86_64-3.4/cextern/cfitsio/eval_l.o build/temp.linux-x86_64-3.4/cextern/cfitsio/getcolui.o build/temp.linux-x86_64-3.4/cextern/cfitsio/getcold.o build/temp.linux-x86_64-3.4/cextern/cfitsio/deflate.o build/temp.linux-x86_64-3.4/cextern/cfitsio/inflate.o build/temp.linux-x86_64-3.4/cextern/cfitsio/putcolk.o build/temp.linux-x86_64-3.4/cextern/cfitsio/putkey.o build/temp.linux-x86_64-3.4/cextern/cfitsio/putcoluj.o build/temp.linux-x86_64-3.4/cextern/cfitsio/histo.o build/temp.linux-x86_64-3.4/cextern/cfitsio/group.o build/temp.linux-x86_64-3.4/cextern/cfitsio/drvrmem.o build/temp.linux-x86_64-3.4/cextern/cfitsio/putcoluk.o build/temp.linux-x86_64-3.4/cextern/cfitsio/editcol.o build/temp.linux-x86_64-3.4/cextern/cfitsio/region.o build/temp.linux-x86_64-3.4/cextern/cfitsio/adler32.o build/temp.linux-x86_64-3.4/cextern/cfitsio/wcsutil.o build/temp.linux-x86_64-3.4/cextern/cfitsio/inftrees.o build/temp.linux-x86_64-3.4/cextern/cfitsio/fits_hdecompress.o build/temp.linux-x86_64-3.4/cextern/cfitsio/getcols.o build/temp.linux-x86_64-3.4/cextern/cfitsio/edithdu.o build/temp.linux-x86_64-3.4/cextern/cfitsio/imcompress.o build/temp.linux-x86_64-3.4/cextern/cfitsio/checksum.o build/temp.linux-x86_64-3.4/cextern/cfitsio/zutil.o build/temp.linux-x86_64-3.4/cextern/cfitsio/putcols.o build/temp.linux-x86_64-3.4/cextern/cfitsio/getcoluj.o build/temp.linux-x86_64-3.4/cextern/cfitsio/zuncompress.o build/temp.linux-x86_64-3.4/cextern/cfitsio/getcoll.o build/temp.linux-x86_64-3.4/cextern/cfitsio/swapproc.o build/temp.linux-x86_64-3.4/cextern/cfitsio/iraffits.o build/temp.linux-x86_64-3.4/cextern/cfitsio/ricecomp.o build/temp.linux-x86_64-3.4/cextern/cfitsio/getkey.o build/temp.linux-x86_64-3.4/cextern/cfitsio/eval_f.o build/temp.linux-x86_64-3.4/cextern/cfitsio/getcolj.o build/temp.linux-x86_64-3.4/cextern/cfitsio/putcolsb.o build/temp.linux-x86_64-3.4/cextern/cfitsio/fits_hcompress.o build/temp.linux-x86_64-3.4/cextern/cfitsio/inffast.o build/temp.linux-x86_64-3.4/cextern/cfitsio/putcolui.o build/temp.linux-x86_64-3.4/cextern/cfitsio/putcole.o build/temp.linux-x86_64-3.4/cextern/cfitsio/getcoli.o build/temp.linux-x86_64-3.4/cextern/cfitsio/putcol.o build/temp.linux-x86_64-3.4/cextern/cfitsio/getcolk.o build/temp.linux-x86_64-3.4/cextern/cfitsio/infback.o build/temp.linux-x86_64-3.4/cextern/cfitsio/putcoll.o build/temp.linux-x86_64-3.4/cextern/cfitsio/putcolu.o build/temp.linux-x86_64-3.4/cextern/cfitsio/getcolsb.o build/temp.linux-x86_64-3.4/cextern/cfitsio/putcolj.o -o build/lib.linux-x86_64-3.4/astropy/io/fits/compression.cpython-34m.so\r\n"
     ]
    },
    {
     "name": "stdout",
     "output_type": "stream",
     "text": [
      "    x86_64-linux-gnu-gcc -pthread -DNDEBUG -g -fwrapv -O2 -Wall -Wstrict-prototypes -g -fstack-protector-strong -Wformat -Werror=format-security -D_FORTIFY_SOURCE=2 -fPIC -I/home/jng/.virtualenvs/peakrisk2/lib/python3.4/site-packages/numpy/core/include -Icextern/cfitsio -I/usr/include/python3.4m -I/home/jng/.virtualenvs/peakrisk2/include/python3.4m -c cextern/cfitsio/putcolj.c -o build/temp.linux-x86_64-3.4/cextern/cfitsio/putcolj.o -Wno-unused-variable -Wno-parentheses -Wno-uninitialized -Wno-format -Wno-strict-prototypes -Wno-unused -Wno-comments -Wno-switch -Wno-declaration-after-statement\r\n"
     ]
    },
    {
     "name": "stdout",
     "output_type": "stream",
     "text": [
      "    x86_64-linux-gnu-gcc -pthread -DNDEBUG -g -fwrapv -O2 -Wall -Wstrict-prototypes -g -fstack-protector-strong -Wformat -Werror=format-security -D_FORTIFY_SOURCE=2 -fPIC -I/home/jng/.virtualenvs/peakrisk2/lib/python3.4/site-packages/numpy/core/include -Icextern/cfitsio -I/usr/include/python3.4m -I/home/jng/.virtualenvs/peakrisk2/include/python3.4m -c cextern/cfitsio/getcolsb.c -o build/temp.linux-x86_64-3.4/cextern/cfitsio/getcolsb.o -Wno-unused-variable -Wno-parentheses -Wno-uninitialized -Wno-format -Wno-strict-prototypes -Wno-unused -Wno-comments -Wno-switch -Wno-declaration-after-statement\r\n"
     ]
    },
    {
     "name": "stdout",
     "output_type": "stream",
     "text": [
      "    x86_64-linux-gnu-gcc -pthread -DNDEBUG -g -fwrapv -O2 -Wall -Wstrict-prototypes -g -fstack-protector-strong -Wformat -Werror=format-security -D_FORTIFY_SOURCE=2 -fPIC -I/home/jng/.virtualenvs/peakrisk2/lib/python3.4/site-packages/numpy/core/include -Icextern/cfitsio -I/usr/include/python3.4m -I/home/jng/.virtualenvs/peakrisk2/include/python3.4m -c cextern/cfitsio/putcolu.c -o build/temp.linux-x86_64-3.4/cextern/cfitsio/putcolu.o -Wno-unused-variable -Wno-parentheses -Wno-uninitialized -Wno-format -Wno-strict-prototypes -Wno-unused -Wno-comments -Wno-switch -Wno-declaration-after-statement\r\n"
     ]
    },
    {
     "name": "stdout",
     "output_type": "stream",
     "text": [
      "    x86_64-linux-gnu-gcc -pthread -DNDEBUG -g -fwrapv -O2 -Wall -Wstrict-prototypes -g -fstack-protector-strong -Wformat -Werror=format-security -D_FORTIFY_SOURCE=2 -fPIC -I/home/jng/.virtualenvs/peakrisk2/lib/python3.4/site-packages/numpy/core/include -Icextern/cfitsio -I/usr/include/python3.4m -I/home/jng/.virtualenvs/peakrisk2/include/python3.4m -c cextern/cfitsio/putcoll.c -o build/temp.linux-x86_64-3.4/cextern/cfitsio/putcoll.o -Wno-unused-variable -Wno-parentheses -Wno-uninitialized -Wno-format -Wno-strict-prototypes -Wno-unused -Wno-comments -Wno-switch -Wno-declaration-after-statement\r\n"
     ]
    },
    {
     "name": "stdout",
     "output_type": "stream",
     "text": [
      "    x86_64-linux-gnu-gcc -pthread -DNDEBUG -g -fwrapv -O2 -Wall -Wstrict-prototypes -g -fstack-protector-strong -Wformat -Werror=format-security -D_FORTIFY_SOURCE=2 -fPIC -I/home/jng/.virtualenvs/peakrisk2/lib/python3.4/site-packages/numpy/core/include -Icextern/cfitsio -I/usr/include/python3.4m -I/home/jng/.virtualenvs/peakrisk2/include/python3.4m -c cextern/cfitsio/infback.c -o build/temp.linux-x86_64-3.4/cextern/cfitsio/infback.o -Wno-unused-variable -Wno-parentheses -Wno-uninitialized -Wno-format -Wno-strict-prototypes -Wno-unused -Wno-comments -Wno-switch -Wno-declaration-after-statement\r\n"
     ]
    },
    {
     "name": "stdout",
     "output_type": "stream",
     "text": [
      "    x86_64-linux-gnu-gcc -pthread -DNDEBUG -g -fwrapv -O2 -Wall -Wstrict-prototypes -g -fstack-protector-strong -Wformat -Werror=format-security -D_FORTIFY_SOURCE=2 -fPIC -I/home/jng/.virtualenvs/peakrisk2/lib/python3.4/site-packages/numpy/core/include -Icextern/cfitsio -I/usr/include/python3.4m -I/home/jng/.virtualenvs/peakrisk2/include/python3.4m -c cextern/cfitsio/getcolk.c -o build/temp.linux-x86_64-3.4/cextern/cfitsio/getcolk.o -Wno-unused-variable -Wno-parentheses -Wno-uninitialized -Wno-format -Wno-strict-prototypes -Wno-unused -Wno-comments -Wno-switch -Wno-declaration-after-statement\r\n"
     ]
    },
    {
     "name": "stdout",
     "output_type": "stream",
     "text": [
      "    x86_64-linux-gnu-gcc -pthread -DNDEBUG -g -fwrapv -O2 -Wall -Wstrict-prototypes -g -fstack-protector-strong -Wformat -Werror=format-security -D_FORTIFY_SOURCE=2 -fPIC -I/home/jng/.virtualenvs/peakrisk2/lib/python3.4/site-packages/numpy/core/include -Icextern/cfitsio -I/usr/include/python3.4m -I/home/jng/.virtualenvs/peakrisk2/include/python3.4m -c cextern/cfitsio/putcol.c -o build/temp.linux-x86_64-3.4/cextern/cfitsio/putcol.o -Wno-unused-variable -Wno-parentheses -Wno-uninitialized -Wno-format -Wno-strict-prototypes -Wno-unused -Wno-comments -Wno-switch -Wno-declaration-after-statement\r\n"
     ]
    },
    {
     "name": "stdout",
     "output_type": "stream",
     "text": [
      "    x86_64-linux-gnu-gcc -pthread -DNDEBUG -g -fwrapv -O2 -Wall -Wstrict-prototypes -g -fstack-protector-strong -Wformat -Werror=format-security -D_FORTIFY_SOURCE=2 -fPIC -I/home/jng/.virtualenvs/peakrisk2/lib/python3.4/site-packages/numpy/core/include -Icextern/cfitsio -I/usr/include/python3.4m -I/home/jng/.virtualenvs/peakrisk2/include/python3.4m -c cextern/cfitsio/getcoli.c -o build/temp.linux-x86_64-3.4/cextern/cfitsio/getcoli.o -Wno-unused-variable -Wno-parentheses -Wno-uninitialized -Wno-format -Wno-strict-prototypes -Wno-unused -Wno-comments -Wno-switch -Wno-declaration-after-statement\r\n"
     ]
    },
    {
     "name": "stdout",
     "output_type": "stream",
     "text": [
      "    x86_64-linux-gnu-gcc -pthread -DNDEBUG -g -fwrapv -O2 -Wall -Wstrict-prototypes -g -fstack-protector-strong -Wformat -Werror=format-security -D_FORTIFY_SOURCE=2 -fPIC -I/home/jng/.virtualenvs/peakrisk2/lib/python3.4/site-packages/numpy/core/include -Icextern/cfitsio -I/usr/include/python3.4m -I/home/jng/.virtualenvs/peakrisk2/include/python3.4m -c cextern/cfitsio/putcole.c -o build/temp.linux-x86_64-3.4/cextern/cfitsio/putcole.o -Wno-unused-variable -Wno-parentheses -Wno-uninitialized -Wno-format -Wno-strict-prototypes -Wno-unused -Wno-comments -Wno-switch -Wno-declaration-after-statement\r\n"
     ]
    },
    {
     "name": "stdout",
     "output_type": "stream",
     "text": [
      "    x86_64-linux-gnu-gcc -pthread -DNDEBUG -g -fwrapv -O2 -Wall -Wstrict-prototypes -g -fstack-protector-strong -Wformat -Werror=format-security -D_FORTIFY_SOURCE=2 -fPIC -I/home/jng/.virtualenvs/peakrisk2/lib/python3.4/site-packages/numpy/core/include -Icextern/cfitsio -I/usr/include/python3.4m -I/home/jng/.virtualenvs/peakrisk2/include/python3.4m -c cextern/cfitsio/putcolui.c -o build/temp.linux-x86_64-3.4/cextern/cfitsio/putcolui.o -Wno-unused-variable -Wno-parentheses -Wno-uninitialized -Wno-format -Wno-strict-prototypes -Wno-unused -Wno-comments -Wno-switch -Wno-declaration-after-statement\r\n"
     ]
    },
    {
     "name": "stdout",
     "output_type": "stream",
     "text": [
      "    x86_64-linux-gnu-gcc -pthread -DNDEBUG -g -fwrapv -O2 -Wall -Wstrict-prototypes -g -fstack-protector-strong -Wformat -Werror=format-security -D_FORTIFY_SOURCE=2 -fPIC -I/home/jng/.virtualenvs/peakrisk2/lib/python3.4/site-packages/numpy/core/include -Icextern/cfitsio -I/usr/include/python3.4m -I/home/jng/.virtualenvs/peakrisk2/include/python3.4m -c cextern/cfitsio/inffast.c -o build/temp.linux-x86_64-3.4/cextern/cfitsio/inffast.o -Wno-unused-variable -Wno-parentheses -Wno-uninitialized -Wno-format -Wno-strict-prototypes -Wno-unused -Wno-comments -Wno-switch -Wno-declaration-after-statement\r\n"
     ]
    },
    {
     "name": "stdout",
     "output_type": "stream",
     "text": [
      "    x86_64-linux-gnu-gcc -pthread -DNDEBUG -g -fwrapv -O2 -Wall -Wstrict-prototypes -g -fstack-protector-strong -Wformat -Werror=format-security -D_FORTIFY_SOURCE=2 -fPIC -I/home/jng/.virtualenvs/peakrisk2/lib/python3.4/site-packages/numpy/core/include -Icextern/cfitsio -I/usr/include/python3.4m -I/home/jng/.virtualenvs/peakrisk2/include/python3.4m -c cextern/cfitsio/fits_hcompress.c -o build/temp.linux-x86_64-3.4/cextern/cfitsio/fits_hcompress.o -Wno-unused-variable -Wno-parentheses -Wno-uninitialized -Wno-format -Wno-strict-prototypes -Wno-unused -Wno-comments -Wno-switch -Wno-declaration-after-statement\r\n"
     ]
    },
    {
     "name": "stdout",
     "output_type": "stream",
     "text": [
      "    x86_64-linux-gnu-gcc -pthread -DNDEBUG -g -fwrapv -O2 -Wall -Wstrict-prototypes -g -fstack-protector-strong -Wformat -Werror=format-security -D_FORTIFY_SOURCE=2 -fPIC -I/home/jng/.virtualenvs/peakrisk2/lib/python3.4/site-packages/numpy/core/include -Icextern/cfitsio -I/usr/include/python3.4m -I/home/jng/.virtualenvs/peakrisk2/include/python3.4m -c cextern/cfitsio/putcolsb.c -o build/temp.linux-x86_64-3.4/cextern/cfitsio/putcolsb.o -Wno-unused-variable -Wno-parentheses -Wno-uninitialized -Wno-format -Wno-strict-prototypes -Wno-unused -Wno-comments -Wno-switch -Wno-declaration-after-statement\r\n"
     ]
    },
    {
     "name": "stdout",
     "output_type": "stream",
     "text": [
      "    x86_64-linux-gnu-gcc -pthread -DNDEBUG -g -fwrapv -O2 -Wall -Wstrict-prototypes -g -fstack-protector-strong -Wformat -Werror=format-security -D_FORTIFY_SOURCE=2 -fPIC -I/home/jng/.virtualenvs/peakrisk2/lib/python3.4/site-packages/numpy/core/include -Icextern/cfitsio -I/usr/include/python3.4m -I/home/jng/.virtualenvs/peakrisk2/include/python3.4m -c cextern/cfitsio/getcolj.c -o build/temp.linux-x86_64-3.4/cextern/cfitsio/getcolj.o -Wno-unused-variable -Wno-parentheses -Wno-uninitialized -Wno-format -Wno-strict-prototypes -Wno-unused -Wno-comments -Wno-switch -Wno-declaration-after-statement\r\n"
     ]
    },
    {
     "name": "stdout",
     "output_type": "stream",
     "text": [
      "    x86_64-linux-gnu-gcc -pthread -DNDEBUG -g -fwrapv -O2 -Wall -Wstrict-prototypes -g -fstack-protector-strong -Wformat -Werror=format-security -D_FORTIFY_SOURCE=2 -fPIC -I/home/jng/.virtualenvs/peakrisk2/lib/python3.4/site-packages/numpy/core/include -Icextern/cfitsio -I/usr/include/python3.4m -I/home/jng/.virtualenvs/peakrisk2/include/python3.4m -c cextern/cfitsio/eval_f.c -o build/temp.linux-x86_64-3.4/cextern/cfitsio/eval_f.o -Wno-unused-variable -Wno-parentheses -Wno-uninitialized -Wno-format -Wno-strict-prototypes -Wno-unused -Wno-comments -Wno-switch -Wno-declaration-after-statement\r\n"
     ]
    },
    {
     "name": "stdout",
     "output_type": "stream",
     "text": [
      "    x86_64-linux-gnu-gcc -pthread -DNDEBUG -g -fwrapv -O2 -Wall -Wstrict-prototypes -g -fstack-protector-strong -Wformat -Werror=format-security -D_FORTIFY_SOURCE=2 -fPIC -I/home/jng/.virtualenvs/peakrisk2/lib/python3.4/site-packages/numpy/core/include -Icextern/cfitsio -I/usr/include/python3.4m -I/home/jng/.virtualenvs/peakrisk2/include/python3.4m -c cextern/cfitsio/getkey.c -o build/temp.linux-x86_64-3.4/cextern/cfitsio/getkey.o -Wno-unused-variable -Wno-parentheses -Wno-uninitialized -Wno-format -Wno-strict-prototypes -Wno-unused -Wno-comments -Wno-switch -Wno-declaration-after-statement\r\n"
     ]
    },
    {
     "name": "stdout",
     "output_type": "stream",
     "text": [
      "    x86_64-linux-gnu-gcc -pthread -DNDEBUG -g -fwrapv -O2 -Wall -Wstrict-prototypes -g -fstack-protector-strong -Wformat -Werror=format-security -D_FORTIFY_SOURCE=2 -fPIC -I/home/jng/.virtualenvs/peakrisk2/lib/python3.4/site-packages/numpy/core/include -Icextern/cfitsio -I/usr/include/python3.4m -I/home/jng/.virtualenvs/peakrisk2/include/python3.4m -c cextern/cfitsio/ricecomp.c -o build/temp.linux-x86_64-3.4/cextern/cfitsio/ricecomp.o -Wno-unused-variable -Wno-parentheses -Wno-uninitialized -Wno-format -Wno-strict-prototypes -Wno-unused -Wno-comments -Wno-switch -Wno-declaration-after-statement\r\n"
     ]
    },
    {
     "name": "stdout",
     "output_type": "stream",
     "text": [
      "    x86_64-linux-gnu-gcc -pthread -DNDEBUG -g -fwrapv -O2 -Wall -Wstrict-prototypes -g -fstack-protector-strong -Wformat -Werror=format-security -D_FORTIFY_SOURCE=2 -fPIC -I/home/jng/.virtualenvs/peakrisk2/lib/python3.4/site-packages/numpy/core/include -Icextern/cfitsio -I/usr/include/python3.4m -I/home/jng/.virtualenvs/peakrisk2/include/python3.4m -c cextern/cfitsio/iraffits.c -o build/temp.linux-x86_64-3.4/cextern/cfitsio/iraffits.o -Wno-unused-variable -Wno-parentheses -Wno-uninitialized -Wno-format -Wno-strict-prototypes -Wno-unused -Wno-comments -Wno-switch -Wno-declaration-after-statement\r\n"
     ]
    },
    {
     "name": "stdout",
     "output_type": "stream",
     "text": [
      "    x86_64-linux-gnu-gcc -pthread -DNDEBUG -g -fwrapv -O2 -Wall -Wstrict-prototypes -g -fstack-protector-strong -Wformat -Werror=format-security -D_FORTIFY_SOURCE=2 -fPIC -I/home/jng/.virtualenvs/peakrisk2/lib/python3.4/site-packages/numpy/core/include -Icextern/cfitsio -I/usr/include/python3.4m -I/home/jng/.virtualenvs/peakrisk2/include/python3.4m -c cextern/cfitsio/swapproc.c -o build/temp.linux-x86_64-3.4/cextern/cfitsio/swapproc.o -Wno-unused-variable -Wno-parentheses -Wno-uninitialized -Wno-format -Wno-strict-prototypes -Wno-unused -Wno-comments -Wno-switch -Wno-declaration-after-statement\r\n"
     ]
    },
    {
     "name": "stdout",
     "output_type": "stream",
     "text": [
      "    x86_64-linux-gnu-gcc -pthread -DNDEBUG -g -fwrapv -O2 -Wall -Wstrict-prototypes -g -fstack-protector-strong -Wformat -Werror=format-security -D_FORTIFY_SOURCE=2 -fPIC -I/home/jng/.virtualenvs/peakrisk2/lib/python3.4/site-packages/numpy/core/include -Icextern/cfitsio -I/usr/include/python3.4m -I/home/jng/.virtualenvs/peakrisk2/include/python3.4m -c cextern/cfitsio/getcoll.c -o build/temp.linux-x86_64-3.4/cextern/cfitsio/getcoll.o -Wno-unused-variable -Wno-parentheses -Wno-uninitialized -Wno-format -Wno-strict-prototypes -Wno-unused -Wno-comments -Wno-switch -Wno-declaration-after-statement\r\n"
     ]
    },
    {
     "name": "stdout",
     "output_type": "stream",
     "text": [
      "    x86_64-linux-gnu-gcc -pthread -DNDEBUG -g -fwrapv -O2 -Wall -Wstrict-prototypes -g -fstack-protector-strong -Wformat -Werror=format-security -D_FORTIFY_SOURCE=2 -fPIC -I/home/jng/.virtualenvs/peakrisk2/lib/python3.4/site-packages/numpy/core/include -Icextern/cfitsio -I/usr/include/python3.4m -I/home/jng/.virtualenvs/peakrisk2/include/python3.4m -c cextern/cfitsio/zuncompress.c -o build/temp.linux-x86_64-3.4/cextern/cfitsio/zuncompress.o -Wno-unused-variable -Wno-parentheses -Wno-uninitialized -Wno-format -Wno-strict-prototypes -Wno-unused -Wno-comments -Wno-switch -Wno-declaration-after-statement\r\n"
     ]
    },
    {
     "name": "stdout",
     "output_type": "stream",
     "text": [
      "    x86_64-linux-gnu-gcc -pthread -DNDEBUG -g -fwrapv -O2 -Wall -Wstrict-prototypes -g -fstack-protector-strong -Wformat -Werror=format-security -D_FORTIFY_SOURCE=2 -fPIC -I/home/jng/.virtualenvs/peakrisk2/lib/python3.4/site-packages/numpy/core/include -Icextern/cfitsio -I/usr/include/python3.4m -I/home/jng/.virtualenvs/peakrisk2/include/python3.4m -c cextern/cfitsio/getcoluj.c -o build/temp.linux-x86_64-3.4/cextern/cfitsio/getcoluj.o -Wno-unused-variable -Wno-parentheses -Wno-uninitialized -Wno-format -Wno-strict-prototypes -Wno-unused -Wno-comments -Wno-switch -Wno-declaration-after-statement\r\n"
     ]
    },
    {
     "name": "stdout",
     "output_type": "stream",
     "text": [
      "    x86_64-linux-gnu-gcc -pthread -DNDEBUG -g -fwrapv -O2 -Wall -Wstrict-prototypes -g -fstack-protector-strong -Wformat -Werror=format-security -D_FORTIFY_SOURCE=2 -fPIC -I/home/jng/.virtualenvs/peakrisk2/lib/python3.4/site-packages/numpy/core/include -Icextern/cfitsio -I/usr/include/python3.4m -I/home/jng/.virtualenvs/peakrisk2/include/python3.4m -c cextern/cfitsio/putcols.c -o build/temp.linux-x86_64-3.4/cextern/cfitsio/putcols.o -Wno-unused-variable -Wno-parentheses -Wno-uninitialized -Wno-format -Wno-strict-prototypes -Wno-unused -Wno-comments -Wno-switch -Wno-declaration-after-statement\r\n"
     ]
    },
    {
     "name": "stdout",
     "output_type": "stream",
     "text": [
      "    x86_64-linux-gnu-gcc -pthread -DNDEBUG -g -fwrapv -O2 -Wall -Wstrict-prototypes -g -fstack-protector-strong -Wformat -Werror=format-security -D_FORTIFY_SOURCE=2 -fPIC -I/home/jng/.virtualenvs/peakrisk2/lib/python3.4/site-packages/numpy/core/include -Icextern/cfitsio -I/usr/include/python3.4m -I/home/jng/.virtualenvs/peakrisk2/include/python3.4m -c cextern/cfitsio/zutil.c -o build/temp.linux-x86_64-3.4/cextern/cfitsio/zutil.o -Wno-unused-variable -Wno-parentheses -Wno-uninitialized -Wno-format -Wno-strict-prototypes -Wno-unused -Wno-comments -Wno-switch -Wno-declaration-after-statement\r\n"
     ]
    },
    {
     "name": "stdout",
     "output_type": "stream",
     "text": [
      "    x86_64-linux-gnu-gcc -pthread -DNDEBUG -g -fwrapv -O2 -Wall -Wstrict-prototypes -g -fstack-protector-strong -Wformat -Werror=format-security -D_FORTIFY_SOURCE=2 -fPIC -I/home/jng/.virtualenvs/peakrisk2/lib/python3.4/site-packages/numpy/core/include -Icextern/cfitsio -I/usr/include/python3.4m -I/home/jng/.virtualenvs/peakrisk2/include/python3.4m -c cextern/cfitsio/checksum.c -o build/temp.linux-x86_64-3.4/cextern/cfitsio/checksum.o -Wno-unused-variable -Wno-parentheses -Wno-uninitialized -Wno-format -Wno-strict-prototypes -Wno-unused -Wno-comments -Wno-switch -Wno-declaration-after-statement\r\n"
     ]
    },
    {
     "name": "stdout",
     "output_type": "stream",
     "text": [
      "    cextern/cfitsio/imcompress.c: In function ‘fits_unset_compression_param’:\r\n",
      "    cextern/cfitsio/imcompress.c:563:1: warning: control reaches end of non-void function [-Wreturn-type]\r\n",
      "     }\r\n",
      "     ^\r\n",
      "    cextern/cfitsio/imcompress.c: In function ‘fits_unset_compression_request’:\r\n",
      "    cextern/cfitsio/imcompress.c:584:1: warning: control reaches end of non-void function [-Wreturn-type]\r\n",
      "     }\r\n",
      "     ^\r\n"
     ]
    },
    {
     "name": "stdout",
     "output_type": "stream",
     "text": [
      "    x86_64-linux-gnu-gcc -pthread -DNDEBUG -g -fwrapv -O2 -Wall -Wstrict-prototypes -g -fstack-protector-strong -Wformat -Werror=format-security -D_FORTIFY_SOURCE=2 -fPIC -I/home/jng/.virtualenvs/peakrisk2/lib/python3.4/site-packages/numpy/core/include -Icextern/cfitsio -I/usr/include/python3.4m -I/home/jng/.virtualenvs/peakrisk2/include/python3.4m -c cextern/cfitsio/imcompress.c -o build/temp.linux-x86_64-3.4/cextern/cfitsio/imcompress.o -Wno-unused-variable -Wno-parentheses -Wno-uninitialized -Wno-format -Wno-strict-prototypes -Wno-unused -Wno-comments -Wno-switch -Wno-declaration-after-statement\r\n"
     ]
    },
    {
     "name": "stdout",
     "output_type": "stream",
     "text": [
      "    cextern/cfitsio/edithdu.c: In function ‘ffitab’:\r\n",
      "    cextern/cfitsio/edithdu.c:609:9: warning: the address of ‘extnm’ will always evaluate as ‘true’ [-Waddress]\r\n",
      "         if (extnm && *extnm)\r\n",
      "             ^\r\n",
      "    cextern/cfitsio/edithdu.c: In function ‘ffibin’:\r\n",
      "    cextern/cfitsio/edithdu.c:744:9: warning: the address of ‘extnm’ will always evaluate as ‘true’ [-Waddress]\r\n",
      "         if (extnm && *extnm)\r\n",
      "             ^\r\n"
     ]
    },
    {
     "name": "stdout",
     "output_type": "stream",
     "text": [
      "    x86_64-linux-gnu-gcc -pthread -DNDEBUG -g -fwrapv -O2 -Wall -Wstrict-prototypes -g -fstack-protector-strong -Wformat -Werror=format-security -D_FORTIFY_SOURCE=2 -fPIC -I/home/jng/.virtualenvs/peakrisk2/lib/python3.4/site-packages/numpy/core/include -Icextern/cfitsio -I/usr/include/python3.4m -I/home/jng/.virtualenvs/peakrisk2/include/python3.4m -c cextern/cfitsio/edithdu.c -o build/temp.linux-x86_64-3.4/cextern/cfitsio/edithdu.o -Wno-unused-variable -Wno-parentheses -Wno-uninitialized -Wno-format -Wno-strict-prototypes -Wno-unused -Wno-comments -Wno-switch -Wno-declaration-after-statement\r\n"
     ]
    },
    {
     "name": "stdout",
     "output_type": "stream",
     "text": [
      "    x86_64-linux-gnu-gcc -pthread -DNDEBUG -g -fwrapv -O2 -Wall -Wstrict-prototypes -g -fstack-protector-strong -Wformat -Werror=format-security -D_FORTIFY_SOURCE=2 -fPIC -I/home/jng/.virtualenvs/peakrisk2/lib/python3.4/site-packages/numpy/core/include -Icextern/cfitsio -I/usr/include/python3.4m -I/home/jng/.virtualenvs/peakrisk2/include/python3.4m -c cextern/cfitsio/getcols.c -o build/temp.linux-x86_64-3.4/cextern/cfitsio/getcols.o -Wno-unused-variable -Wno-parentheses -Wno-uninitialized -Wno-format -Wno-strict-prototypes -Wno-unused -Wno-comments -Wno-switch -Wno-declaration-after-statement\r\n"
     ]
    },
    {
     "name": "stdout",
     "output_type": "stream",
     "text": [
      "    x86_64-linux-gnu-gcc -pthread -DNDEBUG -g -fwrapv -O2 -Wall -Wstrict-prototypes -g -fstack-protector-strong -Wformat -Werror=format-security -D_FORTIFY_SOURCE=2 -fPIC -I/home/jng/.virtualenvs/peakrisk2/lib/python3.4/site-packages/numpy/core/include -Icextern/cfitsio -I/usr/include/python3.4m -I/home/jng/.virtualenvs/peakrisk2/include/python3.4m -c cextern/cfitsio/fits_hdecompress.c -o build/temp.linux-x86_64-3.4/cextern/cfitsio/fits_hdecompress.o -Wno-unused-variable -Wno-parentheses -Wno-uninitialized -Wno-format -Wno-strict-prototypes -Wno-unused -Wno-comments -Wno-switch -Wno-declaration-after-statement\r\n"
     ]
    },
    {
     "name": "stdout",
     "output_type": "stream",
     "text": [
      "    x86_64-linux-gnu-gcc -pthread -DNDEBUG -g -fwrapv -O2 -Wall -Wstrict-prototypes -g -fstack-protector-strong -Wformat -Werror=format-security -D_FORTIFY_SOURCE=2 -fPIC -I/home/jng/.virtualenvs/peakrisk2/lib/python3.4/site-packages/numpy/core/include -Icextern/cfitsio -I/usr/include/python3.4m -I/home/jng/.virtualenvs/peakrisk2/include/python3.4m -c cextern/cfitsio/inftrees.c -o build/temp.linux-x86_64-3.4/cextern/cfitsio/inftrees.o -Wno-unused-variable -Wno-parentheses -Wno-uninitialized -Wno-format -Wno-strict-prototypes -Wno-unused -Wno-comments -Wno-switch -Wno-declaration-after-statement\r\n"
     ]
    },
    {
     "name": "stdout",
     "output_type": "stream",
     "text": [
      "    x86_64-linux-gnu-gcc -pthread -DNDEBUG -g -fwrapv -O2 -Wall -Wstrict-prototypes -g -fstack-protector-strong -Wformat -Werror=format-security -D_FORTIFY_SOURCE=2 -fPIC -I/home/jng/.virtualenvs/peakrisk2/lib/python3.4/site-packages/numpy/core/include -Icextern/cfitsio -I/usr/include/python3.4m -I/home/jng/.virtualenvs/peakrisk2/include/python3.4m -c cextern/cfitsio/wcsutil.c -o build/temp.linux-x86_64-3.4/cextern/cfitsio/wcsutil.o -Wno-unused-variable -Wno-parentheses -Wno-uninitialized -Wno-format -Wno-strict-prototypes -Wno-unused -Wno-comments -Wno-switch -Wno-declaration-after-statement\r\n"
     ]
    },
    {
     "name": "stdout",
     "output_type": "stream",
     "text": [
      "    x86_64-linux-gnu-gcc -pthread -DNDEBUG -g -fwrapv -O2 -Wall -Wstrict-prototypes -g -fstack-protector-strong -Wformat -Werror=format-security -D_FORTIFY_SOURCE=2 -fPIC -I/home/jng/.virtualenvs/peakrisk2/lib/python3.4/site-packages/numpy/core/include -Icextern/cfitsio -I/usr/include/python3.4m -I/home/jng/.virtualenvs/peakrisk2/include/python3.4m -c cextern/cfitsio/adler32.c -o build/temp.linux-x86_64-3.4/cextern/cfitsio/adler32.o -Wno-unused-variable -Wno-parentheses -Wno-uninitialized -Wno-format -Wno-strict-prototypes -Wno-unused -Wno-comments -Wno-switch -Wno-declaration-after-statement\r\n"
     ]
    },
    {
     "name": "stdout",
     "output_type": "stream",
     "text": [
      "    cextern/cfitsio/region.c: In function ‘fits_read_ascii_region’:\r\n",
      "    cextern/cfitsio/region.c:119:10: warning: ignoring return value of ‘fgets’, declared with attribute warn_unused_result [-Wunused-result]\r\n",
      "              fgets( currLine+lineLen, allocLen+1, rgnFile );\r\n",
      "              ^\r\n"
     ]
    },
    {
     "name": "stdout",
     "output_type": "stream",
     "text": [
      "    x86_64-linux-gnu-gcc -pthread -DNDEBUG -g -fwrapv -O2 -Wall -Wstrict-prototypes -g -fstack-protector-strong -Wformat -Werror=format-security -D_FORTIFY_SOURCE=2 -fPIC -I/home/jng/.virtualenvs/peakrisk2/lib/python3.4/site-packages/numpy/core/include -Icextern/cfitsio -I/usr/include/python3.4m -I/home/jng/.virtualenvs/peakrisk2/include/python3.4m -c cextern/cfitsio/region.c -o build/temp.linux-x86_64-3.4/cextern/cfitsio/region.o -Wno-unused-variable -Wno-parentheses -Wno-uninitialized -Wno-format -Wno-strict-prototypes -Wno-unused -Wno-comments -Wno-switch -Wno-declaration-after-statement\r\n"
     ]
    },
    {
     "name": "stdout",
     "output_type": "stream",
     "text": [
      "    x86_64-linux-gnu-gcc -pthread -DNDEBUG -g -fwrapv -O2 -Wall -Wstrict-prototypes -g -fstack-protector-strong -Wformat -Werror=format-security -D_FORTIFY_SOURCE=2 -fPIC -I/home/jng/.virtualenvs/peakrisk2/lib/python3.4/site-packages/numpy/core/include -Icextern/cfitsio -I/usr/include/python3.4m -I/home/jng/.virtualenvs/peakrisk2/include/python3.4m -c cextern/cfitsio/editcol.c -o build/temp.linux-x86_64-3.4/cextern/cfitsio/editcol.o -Wno-unused-variable -Wno-parentheses -Wno-uninitialized -Wno-format -Wno-strict-prototypes -Wno-unused -Wno-comments -Wno-switch -Wno-declaration-after-statement\r\n"
     ]
    },
    {
     "name": "stdout",
     "output_type": "stream",
     "text": [
      "    x86_64-linux-gnu-gcc -pthread -DNDEBUG -g -fwrapv -O2 -Wall -Wstrict-prototypes -g -fstack-protector-strong -Wformat -Werror=format-security -D_FORTIFY_SOURCE=2 -fPIC -I/home/jng/.virtualenvs/peakrisk2/lib/python3.4/site-packages/numpy/core/include -Icextern/cfitsio -I/usr/include/python3.4m -I/home/jng/.virtualenvs/peakrisk2/include/python3.4m -c cextern/cfitsio/putcoluk.c -o build/temp.linux-x86_64-3.4/cextern/cfitsio/putcoluk.o -Wno-unused-variable -Wno-parentheses -Wno-uninitialized -Wno-format -Wno-strict-prototypes -Wno-unused -Wno-comments -Wno-switch -Wno-declaration-after-statement\r\n"
     ]
    },
    {
     "name": "stdout",
     "output_type": "stream",
     "text": [
      "    cextern/cfitsio/drvrmem.c: In function ‘mem_compress_open’:\r\n",
      "    cextern/cfitsio/drvrmem.c:595:9: warning: ignoring return value of ‘fread’, declared with attribute warn_unused_result [-Wunused-result]\r\n",
      "             fread(buffer, 1, 4L, diskfile);   /* read 4 bytes */\r\n",
      "             ^\r\n",
      "    cextern/cfitsio/drvrmem.c:636:9: warning: ignoring return value of ‘fread’, declared with attribute warn_unused_result [-Wunused-result]\r\n",
      "             fread(buffer, 1, 4L, diskfile);   /* read 4 bytes */\r\n",
      "             ^\r\n"
     ]
    },
    {
     "name": "stdout",
     "output_type": "stream",
     "text": [
      "    x86_64-linux-gnu-gcc -pthread -DNDEBUG -g -fwrapv -O2 -Wall -Wstrict-prototypes -g -fstack-protector-strong -Wformat -Werror=format-security -D_FORTIFY_SOURCE=2 -fPIC -I/home/jng/.virtualenvs/peakrisk2/lib/python3.4/site-packages/numpy/core/include -Icextern/cfitsio -I/usr/include/python3.4m -I/home/jng/.virtualenvs/peakrisk2/include/python3.4m -c cextern/cfitsio/drvrmem.c -o build/temp.linux-x86_64-3.4/cextern/cfitsio/drvrmem.o -Wno-unused-variable -Wno-parentheses -Wno-uninitialized -Wno-format -Wno-strict-prototypes -Wno-unused -Wno-comments -Wno-switch -Wno-declaration-after-statement\r\n"
     ]
    },
    {
     "name": "stdout",
     "output_type": "stream",
     "text": [
      "    cextern/cfitsio/group.c: In function ‘fits_get_cwd’:\r\n",
      "    cextern/cfitsio/group.c:5476:3: warning: ignoring return value of ‘getcwd’, declared with attribute warn_unused_result [-Wunused-result]\r\n",
      "       getcwd(buff,FLEN_FILENAME);\r\n",
      "       ^\r\n"
     ]
    },
    {
     "name": "stdout",
     "output_type": "stream",
     "text": [
      "    x86_64-linux-gnu-gcc -pthread -DNDEBUG -g -fwrapv -O2 -Wall -Wstrict-prototypes -g -fstack-protector-strong -Wformat -Werror=format-security -D_FORTIFY_SOURCE=2 -fPIC -I/home/jng/.virtualenvs/peakrisk2/lib/python3.4/site-packages/numpy/core/include -Icextern/cfitsio -I/usr/include/python3.4m -I/home/jng/.virtualenvs/peakrisk2/include/python3.4m -c cextern/cfitsio/group.c -o build/temp.linux-x86_64-3.4/cextern/cfitsio/group.o -Wno-unused-variable -Wno-parentheses -Wno-uninitialized -Wno-format -Wno-strict-prototypes -Wno-unused -Wno-comments -Wno-switch -Wno-declaration-after-statement\r\n"
     ]
    },
    {
     "name": "stdout",
     "output_type": "stream",
     "text": [
      "    x86_64-linux-gnu-gcc -pthread -DNDEBUG -g -fwrapv -O2 -Wall -Wstrict-prototypes -g -fstack-protector-strong -Wformat -Werror=format-security -D_FORTIFY_SOURCE=2 -fPIC -I/home/jng/.virtualenvs/peakrisk2/lib/python3.4/site-packages/numpy/core/include -Icextern/cfitsio -I/usr/include/python3.4m -I/home/jng/.virtualenvs/peakrisk2/include/python3.4m -c cextern/cfitsio/histo.c -o build/temp.linux-x86_64-3.4/cextern/cfitsio/histo.o -Wno-unused-variable -Wno-parentheses -Wno-uninitialized -Wno-format -Wno-strict-prototypes -Wno-unused -Wno-comments -Wno-switch -Wno-declaration-after-statement\r\n"
     ]
    },
    {
     "name": "stdout",
     "output_type": "stream",
     "text": [
      "    x86_64-linux-gnu-gcc -pthread -DNDEBUG -g -fwrapv -O2 -Wall -Wstrict-prototypes -g -fstack-protector-strong -Wformat -Werror=format-security -D_FORTIFY_SOURCE=2 -fPIC -I/home/jng/.virtualenvs/peakrisk2/lib/python3.4/site-packages/numpy/core/include -Icextern/cfitsio -I/usr/include/python3.4m -I/home/jng/.virtualenvs/peakrisk2/include/python3.4m -c cextern/cfitsio/putcoluj.c -o build/temp.linux-x86_64-3.4/cextern/cfitsio/putcoluj.o -Wno-unused-variable -Wno-parentheses -Wno-uninitialized -Wno-format -Wno-strict-prototypes -Wno-unused -Wno-comments -Wno-switch -Wno-declaration-after-statement\r\n"
     ]
    },
    {
     "name": "stdout",
     "output_type": "stream",
     "text": [
      "    cextern/cfitsio/putkey.c: In function ‘ffphbn’:\r\n",
      "    cextern/cfitsio/putkey.c:2692:9: warning: the address of ‘extnm’ will always evaluate as ‘true’ [-Waddress]\r\n",
      "         if (extnm)\r\n",
      "             ^\r\n"
     ]
    },
    {
     "name": "stdout",
     "output_type": "stream",
     "text": [
      "    cextern/cfitsio/putkey.c: In function ‘ffphtb’:\r\n",
      "    cextern/cfitsio/putkey.c:2453:9: warning: the address of ‘extnm’ will always evaluate as ‘true’ [-Waddress]\r\n",
      "         if (extnm)\r\n",
      "             ^\r\n"
     ]
    },
    {
     "name": "stdout",
     "output_type": "stream",
     "text": [
      "    x86_64-linux-gnu-gcc -pthread -DNDEBUG -g -fwrapv -O2 -Wall -Wstrict-prototypes -g -fstack-protector-strong -Wformat -Werror=format-security -D_FORTIFY_SOURCE=2 -fPIC -I/home/jng/.virtualenvs/peakrisk2/lib/python3.4/site-packages/numpy/core/include -Icextern/cfitsio -I/usr/include/python3.4m -I/home/jng/.virtualenvs/peakrisk2/include/python3.4m -c cextern/cfitsio/putkey.c -o build/temp.linux-x86_64-3.4/cextern/cfitsio/putkey.o -Wno-unused-variable -Wno-parentheses -Wno-uninitialized -Wno-format -Wno-strict-prototypes -Wno-unused -Wno-comments -Wno-switch -Wno-declaration-after-statement\r\n"
     ]
    },
    {
     "name": "stdout",
     "output_type": "stream",
     "text": [
      "    x86_64-linux-gnu-gcc -pthread -DNDEBUG -g -fwrapv -O2 -Wall -Wstrict-prototypes -g -fstack-protector-strong -Wformat -Werror=format-security -D_FORTIFY_SOURCE=2 -fPIC -I/home/jng/.virtualenvs/peakrisk2/lib/python3.4/site-packages/numpy/core/include -Icextern/cfitsio -I/usr/include/python3.4m -I/home/jng/.virtualenvs/peakrisk2/include/python3.4m -c cextern/cfitsio/putcolk.c -o build/temp.linux-x86_64-3.4/cextern/cfitsio/putcolk.o -Wno-unused-variable -Wno-parentheses -Wno-uninitialized -Wno-format -Wno-strict-prototypes -Wno-unused -Wno-comments -Wno-switch -Wno-declaration-after-statement\r\n"
     ]
    },
    {
     "name": "stdout",
     "output_type": "stream",
     "text": [
      "    x86_64-linux-gnu-gcc -pthread -DNDEBUG -g -fwrapv -O2 -Wall -Wstrict-prototypes -g -fstack-protector-strong -Wformat -Werror=format-security -D_FORTIFY_SOURCE=2 -fPIC -I/home/jng/.virtualenvs/peakrisk2/lib/python3.4/site-packages/numpy/core/include -Icextern/cfitsio -I/usr/include/python3.4m -I/home/jng/.virtualenvs/peakrisk2/include/python3.4m -c cextern/cfitsio/inflate.c -o build/temp.linux-x86_64-3.4/cextern/cfitsio/inflate.o -Wno-unused-variable -Wno-parentheses -Wno-uninitialized -Wno-format -Wno-strict-prototypes -Wno-unused -Wno-comments -Wno-switch -Wno-declaration-after-statement\r\n"
     ]
    },
    {
     "name": "stdout",
     "output_type": "stream",
     "text": [
      "\r\n"
     ]
    },
    {
     "name": "stdout",
     "output_type": "stream",
     "text": [
      "    x86_64-linux-gnu-gcc -pthread -DNDEBUG -g -fwrapv -O2 -Wall -Wstrict-prototypes -g -fstack-protector-strong -Wformat -Werror=format-security -D_FORTIFY_SOURCE=2 -fPIC -I/home/jng/.virtualenvs/peakrisk2/lib/python3.4/site-packages/numpy/core/include -Icextern/cfitsio -I/usr/include/python3.4m -I/home/jng/.virtualenvs/peakrisk2/include/python3.4m -c cextern/cfitsio/deflate.c -o build/temp.linux-x86_64-3.4/cextern/cfitsio/deflate.o -Wno-unused-variable -Wno-parentheses -Wno-uninitialized -Wno-format -Wno-strict-prototypes -Wno-unused -Wno-comments -Wno-switch -Wno-declaration-after-statement"
     ]
    },
    {
     "name": "stdout",
     "output_type": "stream",
     "text": [
      "    x86_64-linux-gnu-gcc -pthread -DNDEBUG -g -fwrapv -O2 -Wall -Wstrict-prototypes -g -fstack-protector-strong -Wformat -Werror=format-security -D_FORTIFY_SOURCE=2 -fPIC -I/home/jng/.virtualenvs/peakrisk2/lib/python3.4/site-packages/numpy/core/include -Icextern/cfitsio -I/usr/include/python3.4m -I/home/jng/.virtualenvs/peakrisk2/include/python3.4m -c cextern/cfitsio/getcold.c -o build/temp.linux-x86_64-3.4/cextern/cfitsio/getcold.o -Wno-unused-variable -Wno-parentheses -Wno-uninitialized -Wno-format -Wno-strict-prototypes -Wno-unused -Wno-comments -Wno-switch -Wno-declaration-after-statement\r\n"
     ]
    },
    {
     "name": "stdout",
     "output_type": "stream",
     "text": [
      "    x86_64-linux-gnu-gcc -pthread -DNDEBUG -g -fwrapv -O2 -Wall -Wstrict-prototypes -g -fstack-protector-strong -Wformat -Werror=format-security -D_FORTIFY_SOURCE=2 -fPIC -I/home/jng/.virtualenvs/peakrisk2/lib/python3.4/site-packages/numpy/core/include -Icextern/cfitsio -I/usr/include/python3.4m -I/home/jng/.virtualenvs/peakrisk2/include/python3.4m -c cextern/cfitsio/getcolui.c -o build/temp.linux-x86_64-3.4/cextern/cfitsio/getcolui.o -Wno-unused-variable -Wno-parentheses -Wno-uninitialized -Wno-format -Wno-strict-prototypes -Wno-unused -Wno-comments -Wno-switch -Wno-declaration-after-statement\r\n"
     ]
    },
    {
     "name": "stdout",
     "output_type": "stream",
     "text": [
      "    x86_64-linux-gnu-gcc -pthread -DNDEBUG -g -fwrapv -O2 -Wall -Wstrict-prototypes -g -fstack-protector-strong -Wformat -Werror=format-security -D_FORTIFY_SOURCE=2 -fPIC -I/home/jng/.virtualenvs/peakrisk2/lib/python3.4/site-packages/numpy/core/include -Icextern/cfitsio -I/usr/include/python3.4m -I/home/jng/.virtualenvs/peakrisk2/include/python3.4m -c cextern/cfitsio/eval_l.c -o build/temp.linux-x86_64-3.4/cextern/cfitsio/eval_l.o -Wno-unused-variable -Wno-parentheses -Wno-uninitialized -Wno-format -Wno-strict-prototypes -Wno-unused -Wno-comments -Wno-switch -Wno-declaration-after-statement\r\n"
     ]
    },
    {
     "name": "stdout",
     "output_type": "stream",
     "text": [
      "    x86_64-linux-gnu-gcc -pthread -DNDEBUG -g -fwrapv -O2 -Wall -Wstrict-prototypes -g -fstack-protector-strong -Wformat -Werror=format-security -D_FORTIFY_SOURCE=2 -fPIC -I/home/jng/.virtualenvs/peakrisk2/lib/python3.4/site-packages/numpy/core/include -Icextern/cfitsio -I/usr/include/python3.4m -I/home/jng/.virtualenvs/peakrisk2/include/python3.4m -c cextern/cfitsio/drvrgsiftp.c -o build/temp.linux-x86_64-3.4/cextern/cfitsio/drvrgsiftp.o -Wno-unused-variable -Wno-parentheses -Wno-uninitialized -Wno-format -Wno-strict-prototypes -Wno-unused -Wno-comments -Wno-switch -Wno-declaration-after-statement\r\n"
     ]
    },
    {
     "name": "stdout",
     "output_type": "stream",
     "text": [
      "    x86_64-linux-gnu-gcc -pthread -DNDEBUG -g -fwrapv -O2 -Wall -Wstrict-prototypes -g -fstack-protector-strong -Wformat -Werror=format-security -D_FORTIFY_SOURCE=2 -fPIC -I/home/jng/.virtualenvs/peakrisk2/lib/python3.4/site-packages/numpy/core/include -Icextern/cfitsio -I/usr/include/python3.4m -I/home/jng/.virtualenvs/peakrisk2/include/python3.4m -c cextern/cfitsio/buffers.c -o build/temp.linux-x86_64-3.4/cextern/cfitsio/buffers.o -Wno-unused-variable -Wno-parentheses -Wno-uninitialized -Wno-format -Wno-strict-prototypes -Wno-unused -Wno-comments -Wno-switch -Wno-declaration-after-statement\r\n"
     ]
    },
    {
     "name": "stdout",
     "output_type": "stream",
     "text": [
      "    x86_64-linux-gnu-gcc -pthread -DNDEBUG -g -fwrapv -O2 -Wall -Wstrict-prototypes -g -fstack-protector-strong -Wformat -Werror=format-security -D_FORTIFY_SOURCE=2 -fPIC -I/home/jng/.virtualenvs/peakrisk2/lib/python3.4/site-packages/numpy/core/include -Icextern/cfitsio -I/usr/include/python3.4m -I/home/jng/.virtualenvs/peakrisk2/include/python3.4m -c cextern/cfitsio/uncompr.c -o build/temp.linux-x86_64-3.4/cextern/cfitsio/uncompr.o -Wno-unused-variable -Wno-parentheses -Wno-uninitialized -Wno-format -Wno-strict-prototypes -Wno-unused -Wno-comments -Wno-switch -Wno-declaration-after-statement\r\n"
     ]
    },
    {
     "name": "stdout",
     "output_type": "stream",
     "text": [
      "    x86_64-linux-gnu-gcc -pthread -DNDEBUG -g -fwrapv -O2 -Wall -Wstrict-prototypes -g -fstack-protector-strong -Wformat -Werror=format-security -D_FORTIFY_SOURCE=2 -fPIC -I/home/jng/.virtualenvs/peakrisk2/lib/python3.4/site-packages/numpy/core/include -Icextern/cfitsio -I/usr/include/python3.4m -I/home/jng/.virtualenvs/peakrisk2/include/python3.4m -c cextern/cfitsio/drvrfile.c -o build/temp.linux-x86_64-3.4/cextern/cfitsio/drvrfile.o -Wno-unused-variable -Wno-parentheses -Wno-uninitialized -Wno-format -Wno-strict-prototypes -Wno-unused -Wno-comments -Wno-switch -Wno-declaration-after-statement\r\n"
     ]
    },
    {
     "name": "stdout",
     "output_type": "stream",
     "text": [
      "    x86_64-linux-gnu-gcc -pthread -DNDEBUG -g -fwrapv -O2 -Wall -Wstrict-prototypes -g -fstack-protector-strong -Wformat -Werror=format-security -D_FORTIFY_SOURCE=2 -fPIC -I/home/jng/.virtualenvs/peakrisk2/lib/python3.4/site-packages/numpy/core/include -Icextern/cfitsio -I/usr/include/python3.4m -I/home/jng/.virtualenvs/peakrisk2/include/python3.4m -c cextern/cfitsio/getcol.c -o build/temp.linux-x86_64-3.4/cextern/cfitsio/getcol.o -Wno-unused-variable -Wno-parentheses -Wno-uninitialized -Wno-format -Wno-strict-prototypes -Wno-unused -Wno-comments -Wno-switch -Wno-declaration-after-statement\r\n"
     ]
    },
    {
     "name": "stdout",
     "output_type": "stream",
     "text": [
      "    x86_64-linux-gnu-gcc -pthread -DNDEBUG -g -fwrapv -O2 -Wall -Wstrict-prototypes -g -fstack-protector-strong -Wformat -Werror=format-security -D_FORTIFY_SOURCE=2 -fPIC -I/home/jng/.virtualenvs/peakrisk2/lib/python3.4/site-packages/numpy/core/include -Icextern/cfitsio -I/usr/include/python3.4m -I/home/jng/.virtualenvs/peakrisk2/include/python3.4m -c cextern/cfitsio/modkey.c -o build/temp.linux-x86_64-3.4/cextern/cfitsio/modkey.o -Wno-unused-variable -Wno-parentheses -Wno-uninitialized -Wno-format -Wno-strict-prototypes -Wno-unused -Wno-comments -Wno-switch -Wno-declaration-after-statement\r\n"
     ]
    },
    {
     "name": "stdout",
     "output_type": "stream",
     "text": [
      "    x86_64-linux-gnu-gcc -pthread -DNDEBUG -g -fwrapv -O2 -Wall -Wstrict-prototypes -g -fstack-protector-strong -Wformat -Werror=format-security -D_FORTIFY_SOURCE=2 -fPIC -I/home/jng/.virtualenvs/peakrisk2/lib/python3.4/site-packages/numpy/core/include -Icextern/cfitsio -I/usr/include/python3.4m -I/home/jng/.virtualenvs/peakrisk2/include/python3.4m -c cextern/cfitsio/trees.c -o build/temp.linux-x86_64-3.4/cextern/cfitsio/trees.o -Wno-unused-variable -Wno-parentheses -Wno-uninitialized -Wno-format -Wno-strict-prototypes -Wno-unused -Wno-comments -Wno-switch -Wno-declaration-after-statement\r\n"
     ]
    },
    {
     "name": "stdout",
     "output_type": "stream",
     "text": [
      "    x86_64-linux-gnu-gcc -pthread -DNDEBUG -g -fwrapv -O2 -Wall -Wstrict-prototypes -g -fstack-protector-strong -Wformat -Werror=format-security -D_FORTIFY_SOURCE=2 -fPIC -I/home/jng/.virtualenvs/peakrisk2/lib/python3.4/site-packages/numpy/core/include -Icextern/cfitsio -I/usr/include/python3.4m -I/home/jng/.virtualenvs/peakrisk2/include/python3.4m -c cextern/cfitsio/crc32.c -o build/temp.linux-x86_64-3.4/cextern/cfitsio/crc32.o -Wno-unused-variable -Wno-parentheses -Wno-uninitialized -Wno-format -Wno-strict-prototypes -Wno-unused -Wno-comments -Wno-switch -Wno-declaration-after-statement\r\n"
     ]
    },
    {
     "name": "stdout",
     "output_type": "stream",
     "text": [
      "    x86_64-linux-gnu-gcc -pthread -DNDEBUG -g -fwrapv -O2 -Wall -Wstrict-prototypes -g -fstack-protector-strong -Wformat -Werror=format-security -D_FORTIFY_SOURCE=2 -fPIC -I/home/jng/.virtualenvs/peakrisk2/lib/python3.4/site-packages/numpy/core/include -Icextern/cfitsio -I/usr/include/python3.4m -I/home/jng/.virtualenvs/peakrisk2/include/python3.4m -c cextern/cfitsio/pliocomp.c -o build/temp.linux-x86_64-3.4/cextern/cfitsio/pliocomp.o -Wno-unused-variable -Wno-parentheses -Wno-uninitialized -Wno-format -Wno-strict-prototypes -Wno-unused -Wno-comments -Wno-switch -Wno-declaration-after-statement\r\n"
     ]
    },
    {
     "name": "stdout",
     "output_type": "stream",
     "text": [
      "    x86_64-linux-gnu-gcc -pthread -DNDEBUG -g -fwrapv -O2 -Wall -Wstrict-prototypes -g -fstack-protector-strong -Wformat -Werror=format-security -D_FORTIFY_SOURCE=2 -fPIC -I/home/jng/.virtualenvs/peakrisk2/lib/python3.4/site-packages/numpy/core/include -Icextern/cfitsio -I/usr/include/python3.4m -I/home/jng/.virtualenvs/peakrisk2/include/python3.4m -c cextern/cfitsio/getcoluk.c -o build/temp.linux-x86_64-3.4/cextern/cfitsio/getcoluk.o -Wno-unused-variable -Wno-parentheses -Wno-uninitialized -Wno-format -Wno-strict-prototypes -Wno-unused -Wno-comments -Wno-switch -Wno-declaration-after-statement\r\n"
     ]
    },
    {
     "name": "stdout",
     "output_type": "stream",
     "text": [
      "    x86_64-linux-gnu-gcc -pthread -DNDEBUG -g -fwrapv -O2 -Wall -Wstrict-prototypes -g -fstack-protector-strong -Wformat -Werror=format-security -D_FORTIFY_SOURCE=2 -fPIC -I/home/jng/.virtualenvs/peakrisk2/lib/python3.4/site-packages/numpy/core/include -Icextern/cfitsio -I/usr/include/python3.4m -I/home/jng/.virtualenvs/peakrisk2/include/python3.4m -c cextern/cfitsio/zcompress.c -o build/temp.linux-x86_64-3.4/cextern/cfitsio/zcompress.o -Wno-unused-variable -Wno-parentheses -Wno-uninitialized -Wno-format -Wno-strict-prototypes -Wno-unused -Wno-comments -Wno-switch -Wno-declaration-after-statement\r\n"
     ]
    },
    {
     "name": "stdout",
     "output_type": "stream",
     "text": [
      "    x86_64-linux-gnu-gcc -pthread -DNDEBUG -g -fwrapv -O2 -Wall -Wstrict-prototypes -g -fstack-protector-strong -Wformat -Werror=format-security -D_FORTIFY_SOURCE=2 -fPIC -I/home/jng/.virtualenvs/peakrisk2/lib/python3.4/site-packages/numpy/core/include -Icextern/cfitsio -I/usr/include/python3.4m -I/home/jng/.virtualenvs/peakrisk2/include/python3.4m -c cextern/cfitsio/putcold.c -o build/temp.linux-x86_64-3.4/cextern/cfitsio/putcold.o -Wno-unused-variable -Wno-parentheses -Wno-uninitialized -Wno-format -Wno-strict-prototypes -Wno-unused -Wno-comments -Wno-switch -Wno-declaration-after-statement\r\n"
     ]
    },
    {
     "name": "stdout",
     "output_type": "stream",
     "text": [
      "    x86_64-linux-gnu-gcc -pthread -DNDEBUG -g -fwrapv -O2 -Wall -Wstrict-prototypes -g -fstack-protector-strong -Wformat -Werror=format-security -D_FORTIFY_SOURCE=2 -fPIC -I/home/jng/.virtualenvs/peakrisk2/lib/python3.4/site-packages/numpy/core/include -Icextern/cfitsio -I/usr/include/python3.4m -I/home/jng/.virtualenvs/peakrisk2/include/python3.4m -c cextern/cfitsio/grparser.c -o build/temp.linux-x86_64-3.4/cextern/cfitsio/grparser.o -Wno-unused-variable -Wno-parentheses -Wno-uninitialized -Wno-format -Wno-strict-prototypes -Wno-unused -Wno-comments -Wno-switch -Wno-declaration-after-statement\r\n"
     ]
    },
    {
     "name": "stdout",
     "output_type": "stream",
     "text": [
      "    x86_64-linux-gnu-gcc -pthread -DNDEBUG -g -fwrapv -O2 -Wall -Wstrict-prototypes -g -fstack-protector-strong -Wformat -Werror=format-security -D_FORTIFY_SOURCE=2 -fPIC -I/home/jng/.virtualenvs/peakrisk2/lib/python3.4/site-packages/numpy/core/include -Icextern/cfitsio -I/usr/include/python3.4m -I/home/jng/.virtualenvs/peakrisk2/include/python3.4m -c cextern/cfitsio/putcolb.c -o build/temp.linux-x86_64-3.4/cextern/cfitsio/putcolb.o -Wno-unused-variable -Wno-parentheses -Wno-uninitialized -Wno-format -Wno-strict-prototypes -Wno-unused -Wno-comments -Wno-switch -Wno-declaration-after-statement\r\n"
     ]
    },
    {
     "name": "stdout",
     "output_type": "stream",
     "text": [
      "    x86_64-linux-gnu-gcc -pthread -DNDEBUG -g -fwrapv -O2 -Wall -Wstrict-prototypes -g -fstack-protector-strong -Wformat -Werror=format-security -D_FORTIFY_SOURCE=2 -fPIC -I/home/jng/.virtualenvs/peakrisk2/lib/python3.4/site-packages/numpy/core/include -Icextern/cfitsio -I/usr/include/python3.4m -I/home/jng/.virtualenvs/peakrisk2/include/python3.4m -c cextern/cfitsio/quantize.c -o build/temp.linux-x86_64-3.4/cextern/cfitsio/quantize.o -Wno-unused-variable -Wno-parentheses -Wno-uninitialized -Wno-format -Wno-strict-prototypes -Wno-unused -Wno-comments -Wno-switch -Wno-declaration-after-statement\r\n"
     ]
    },
    {
     "name": "stdout",
     "output_type": "stream",
     "text": [
      "    x86_64-linux-gnu-gcc -pthread -DNDEBUG -g -fwrapv -O2 -Wall -Wstrict-prototypes -g -fstack-protector-strong -Wformat -Werror=format-security -D_FORTIFY_SOURCE=2 -fPIC -I/home/jng/.virtualenvs/peakrisk2/lib/python3.4/site-packages/numpy/core/include -Icextern/cfitsio -I/usr/include/python3.4m -I/home/jng/.virtualenvs/peakrisk2/include/python3.4m -c cextern/cfitsio/drvrnet.c -o build/temp.linux-x86_64-3.4/cextern/cfitsio/drvrnet.o -Wno-unused-variable -Wno-parentheses -Wno-uninitialized -Wno-format -Wno-strict-prototypes -Wno-unused -Wno-comments -Wno-switch -Wno-declaration-after-statement\r\n"
     ]
    },
    {
     "name": "stdout",
     "output_type": "stream",
     "text": [
      "    x86_64-linux-gnu-gcc -pthread -DNDEBUG -g -fwrapv -O2 -Wall -Wstrict-prototypes -g -fstack-protector-strong -Wformat -Werror=format-security -D_FORTIFY_SOURCE=2 -fPIC -I/home/jng/.virtualenvs/peakrisk2/lib/python3.4/site-packages/numpy/core/include -Icextern/cfitsio -I/usr/include/python3.4m -I/home/jng/.virtualenvs/peakrisk2/include/python3.4m -c cextern/cfitsio/scalnull.c -o build/temp.linux-x86_64-3.4/cextern/cfitsio/scalnull.o -Wno-unused-variable -Wno-parentheses -Wno-uninitialized -Wno-format -Wno-strict-prototypes -Wno-unused -Wno-comments -Wno-switch -Wno-declaration-after-statement\r\n"
     ]
    },
    {
     "name": "stdout",
     "output_type": "stream",
     "text": [
      "    x86_64-linux-gnu-gcc -pthread -DNDEBUG -g -fwrapv -O2 -Wall -Wstrict-prototypes -g -fstack-protector-strong -Wformat -Werror=format-security -D_FORTIFY_SOURCE=2 -fPIC -I/home/jng/.virtualenvs/peakrisk2/lib/python3.4/site-packages/numpy/core/include -Icextern/cfitsio -I/usr/include/python3.4m -I/home/jng/.virtualenvs/peakrisk2/include/python3.4m -c cextern/cfitsio/wcssub.c -o build/temp.linux-x86_64-3.4/cextern/cfitsio/wcssub.o -Wno-unused-variable -Wno-parentheses -Wno-uninitialized -Wno-format -Wno-strict-prototypes -Wno-unused -Wno-comments -Wno-switch -Wno-declaration-after-statement\r\n"
     ]
    },
    {
     "name": "stdout",
     "output_type": "stream",
     "text": [
      "    x86_64-linux-gnu-gcc -pthread -DNDEBUG -g -fwrapv -O2 -Wall -Wstrict-prototypes -g -fstack-protector-strong -Wformat -Werror=format-security -D_FORTIFY_SOURCE=2 -fPIC -I/home/jng/.virtualenvs/peakrisk2/lib/python3.4/site-packages/numpy/core/include -Icextern/cfitsio -I/usr/include/python3.4m -I/home/jng/.virtualenvs/peakrisk2/include/python3.4m -c cextern/cfitsio/fitscore.c -o build/temp.linux-x86_64-3.4/cextern/cfitsio/fitscore.o -Wno-unused-variable -Wno-parentheses -Wno-uninitialized -Wno-format -Wno-strict-prototypes -Wno-unused -Wno-comments -Wno-switch -Wno-declaration-after-statement\r\n"
     ]
    },
    {
     "name": "stdout",
     "output_type": "stream",
     "text": [
      "    x86_64-linux-gnu-gcc -pthread -DNDEBUG -g -fwrapv -O2 -Wall -Wstrict-prototypes -g -fstack-protector-strong -Wformat -Werror=format-security -D_FORTIFY_SOURCE=2 -fPIC -I/home/jng/.virtualenvs/peakrisk2/lib/python3.4/site-packages/numpy/core/include -Icextern/cfitsio -I/usr/include/python3.4m -I/home/jng/.virtualenvs/peakrisk2/include/python3.4m -c cextern/cfitsio/getcole.c -o build/temp.linux-x86_64-3.4/cextern/cfitsio/getcole.o -Wno-unused-variable -Wno-parentheses -Wno-uninitialized -Wno-format -Wno-strict-prototypes -Wno-unused -Wno-comments -Wno-switch -Wno-declaration-after-statement\r\n"
     ]
    },
    {
     "name": "stdout",
     "output_type": "stream",
     "text": [
      "    x86_64-linux-gnu-gcc -pthread -DNDEBUG -g -fwrapv -O2 -Wall -Wstrict-prototypes -g -fstack-protector-strong -Wformat -Werror=format-security -D_FORTIFY_SOURCE=2 -fPIC -I/home/jng/.virtualenvs/peakrisk2/lib/python3.4/site-packages/numpy/core/include -Icextern/cfitsio -I/usr/include/python3.4m -I/home/jng/.virtualenvs/peakrisk2/include/python3.4m -c cextern/cfitsio/cfileio.c -o build/temp.linux-x86_64-3.4/cextern/cfitsio/cfileio.o -Wno-unused-variable -Wno-parentheses -Wno-uninitialized -Wno-format -Wno-strict-prototypes -Wno-unused -Wno-comments -Wno-switch -Wno-declaration-after-statement\r\n"
     ]
    },
    {
     "name": "stdout",
     "output_type": "stream",
     "text": [
      "    x86_64-linux-gnu-gcc -pthread -DNDEBUG -g -fwrapv -O2 -Wall -Wstrict-prototypes -g -fstack-protector-strong -Wformat -Werror=format-security -D_FORTIFY_SOURCE=2 -fPIC -I/home/jng/.virtualenvs/peakrisk2/lib/python3.4/site-packages/numpy/core/include -Icextern/cfitsio -I/usr/include/python3.4m -I/home/jng/.virtualenvs/peakrisk2/include/python3.4m -c cextern/cfitsio/eval_y.c -o build/temp.linux-x86_64-3.4/cextern/cfitsio/eval_y.o -Wno-unused-variable -Wno-parentheses -Wno-uninitialized -Wno-format -Wno-strict-prototypes -Wno-unused -Wno-comments -Wno-switch -Wno-declaration-after-statement\r\n"
     ]
    },
    {
     "name": "stdout",
     "output_type": "stream",
     "text": [
      "    x86_64-linux-gnu-gcc -pthread -DNDEBUG -g -fwrapv -O2 -Wall -Wstrict-prototypes -g -fstack-protector-strong -Wformat -Werror=format-security -D_FORTIFY_SOURCE=2 -fPIC -I/home/jng/.virtualenvs/peakrisk2/lib/python3.4/site-packages/numpy/core/include -Icextern/cfitsio -I/usr/include/python3.4m -I/home/jng/.virtualenvs/peakrisk2/include/python3.4m -c cextern/cfitsio/putcoli.c -o build/temp.linux-x86_64-3.4/cextern/cfitsio/putcoli.o -Wno-unused-variable -Wno-parentheses -Wno-uninitialized -Wno-format -Wno-strict-prototypes -Wno-unused -Wno-comments -Wno-switch -Wno-declaration-after-statement\r\n"
     ]
    },
    {
     "name": "stdout",
     "output_type": "stream",
     "text": [
      "    x86_64-linux-gnu-gcc -pthread -DNDEBUG -g -fwrapv -O2 -Wall -Wstrict-prototypes -g -fstack-protector-strong -Wformat -Werror=format-security -D_FORTIFY_SOURCE=2 -fPIC -I/home/jng/.virtualenvs/peakrisk2/lib/python3.4/site-packages/numpy/core/include -Icextern/cfitsio -I/usr/include/python3.4m -I/home/jng/.virtualenvs/peakrisk2/include/python3.4m -c cextern/cfitsio/getcolb.c -o build/temp.linux-x86_64-3.4/cextern/cfitsio/getcolb.o -Wno-unused-variable -Wno-parentheses -Wno-uninitialized -Wno-format -Wno-strict-prototypes -Wno-unused -Wno-comments -Wno-switch -Wno-declaration-after-statement\r\n"
     ]
    },
    {
     "name": "stdout",
     "output_type": "stream",
     "text": [
      "    x86_64-linux-gnu-gcc -pthread -DNDEBUG -g -fwrapv -O2 -Wall -Wstrict-prototypes -g -fstack-protector-strong -Wformat -Werror=format-security -D_FORTIFY_SOURCE=2 -fPIC -I/home/jng/.virtualenvs/peakrisk2/lib/python3.4/site-packages/numpy/core/include -Icextern/cfitsio -I/usr/include/python3.4m -I/home/jng/.virtualenvs/peakrisk2/include/python3.4m -c cextern/cfitsio/drvrsmem.c -o build/temp.linux-x86_64-3.4/cextern/cfitsio/drvrsmem.o -Wno-unused-variable -Wno-parentheses -Wno-uninitialized -Wno-format -Wno-strict-prototypes -Wno-unused -Wno-comments -Wno-switch -Wno-declaration-after-statement\r\n"
     ]
    },
    {
     "name": "stdout",
     "output_type": "stream",
     "text": [
      "    astropy/io/fits/src/compressionmodule.c: In function ‘get_header_string’:\r\n",
      "    astropy/io/fits/src/compressionmodule.c:273:14: warning: assignment makes integer from pointer without a cast\r\n",
      "             *val = def;\r\n",
      "                  ^\r\n"
     ]
    },
    {
     "name": "stdout",
     "output_type": "stream",
     "text": [
      "    In file included from /home/jng/.virtualenvs/peakrisk2/lib/python3.4/site-packages/numpy/core/include/numpy/ndarraytypes.h:1804:0,\r\n",
      "                     from /home/jng/.virtualenvs/peakrisk2/lib/python3.4/site-packages/numpy/core/include/numpy/ndarrayobject.h:17,\r\n",
      "                     from /home/jng/.virtualenvs/peakrisk2/lib/python3.4/site-packages/numpy/core/include/numpy/arrayobject.h:4,\r\n",
      "                     from astropy/io/fits/src/compressionmodule.c:96:\r\n",
      "    /home/jng/.virtualenvs/peakrisk2/lib/python3.4/site-packages/numpy/core/include/numpy/npy_1_7_deprecated_api.h:15:2: warning: #warning \"Using deprecated NumPy API, disable it by \" \"#defining NPY_NO_DEPRECATED_API NPY_1_7_API_VERSION\" [-Wcpp]\r\n",
      "     #warning \"Using deprecated NumPy API, disable it by \" \\\r\n",
      "      ^\r\n"
     ]
    },
    {
     "name": "stdout",
     "output_type": "stream",
     "text": [
      "    x86_64-linux-gnu-gcc -pthread -shared -Wl,-O1 -Wl,-Bsymbolic-functions -Wl,-Bsymbolic-functions -Wl,-z,relro -Wl,-Bsymbolic-functions -Wl,-z,relro -g -fstack-protector-strong -Wformat -Werror=format-security -D_FORTIFY_SOURCE=2 build/temp.linux-x86_64-3.4/astropy/table/_np_utils.o -o build/lib.linux-x86_64-3.4/astropy/table/_np_utils.cpython-34m.so\r\n",
      "    building 'astropy.io.fits.compression' extension\r\n",
      "    x86_64-linux-gnu-gcc -pthread -DNDEBUG -g -fwrapv -O2 -Wall -Wstrict-prototypes -g -fstack-protector-strong -Wformat -Werror=format-security -D_FORTIFY_SOURCE=2 -fPIC -I/home/jng/.virtualenvs/peakrisk2/lib/python3.4/site-packages/numpy/core/include -Icextern/cfitsio -I/usr/include/python3.4m -I/home/jng/.virtualenvs/peakrisk2/include/python3.4m -c astropy/io/fits/src/compressionmodule.c -o build/temp.linux-x86_64-3.4/astropy/io/fits/src/compressionmodule.o -Wno-unused-variable -Wno-parentheses -Wno-uninitialized -Wno-format -Wno-strict-prototypes -Wno-unused -Wno-comments -Wno-switch -Wno-declaration-after-statement\r\n"
     ]
    },
    {
     "name": "stdout",
     "output_type": "stream",
     "text": [
      "    In file included from /home/jng/.virtualenvs/peakrisk2/lib/python3.4/site-packages/numpy/core/include/numpy/ndarrayobject.h:26:0,\r\n",
      "                     from /home/jng/.virtualenvs/peakrisk2/lib/python3.4/site-packages/numpy/core/include/numpy/arrayobject.h:4,\r\n",
      "                     from astropy/table/_np_utils.c:239:\r\n",
      "    /home/jng/.virtualenvs/peakrisk2/lib/python3.4/site-packages/numpy/core/include/numpy/__multiarray_api.h:1629:1: warning: ‘_import_array’ defined but not used [-Wunused-function]\r\n",
      "     _import_array(void)\r\n",
      "     ^\r\n",
      "    In file included from /home/jng/.virtualenvs/peakrisk2/lib/python3.4/site-packages/numpy/core/include/numpy/ufuncobject.h:317:0,\r\n",
      "                     from astropy/table/_np_utils.c:240:\r\n",
      "    /home/jng/.virtualenvs/peakrisk2/lib/python3.4/site-packages/numpy/core/include/numpy/__ufunc_api.h:241:1: warning: ‘_import_umath’ defined but not used [-Wunused-function]\r\n",
      "     _import_umath(void)\r\n",
      "     ^\r\n"
     ]
    },
    {
     "name": "stdout",
     "output_type": "stream",
     "text": [
      "    In file included from /home/jng/.virtualenvs/peakrisk2/lib/python3.4/site-packages/numpy/core/include/numpy/ndarraytypes.h:1804:0,\r\n",
      "                     from /home/jng/.virtualenvs/peakrisk2/lib/python3.4/site-packages/numpy/core/include/numpy/ndarrayobject.h:17,\r\n",
      "                     from /home/jng/.virtualenvs/peakrisk2/lib/python3.4/site-packages/numpy/core/include/numpy/arrayobject.h:4,\r\n",
      "                     from astropy/table/_np_utils.c:239:\r\n",
      "    /home/jng/.virtualenvs/peakrisk2/lib/python3.4/site-packages/numpy/core/include/numpy/npy_1_7_deprecated_api.h:15:2: warning: #warning \"Using deprecated NumPy API, disable it by \" \"#defining NPY_NO_DEPRECATED_API NPY_1_7_API_VERSION\" [-Wcpp]\r\n",
      "     #warning \"Using deprecated NumPy API, disable it by \" \\\r\n",
      "      ^\r\n"
     ]
    },
    {
     "name": "stdout",
     "output_type": "stream",
     "text": [
      "    building 'astropy.table._np_utils' extension\r\n",
      "    x86_64-linux-gnu-gcc -pthread -DNDEBUG -g -fwrapv -O2 -Wall -Wstrict-prototypes -g -fstack-protector-strong -Wformat -Werror=format-security -D_FORTIFY_SOURCE=2 -fPIC -I/home/jng/.virtualenvs/peakrisk2/lib/python3.4/site-packages/numpy/core/include -I/usr/include/python3.4m -I/home/jng/.virtualenvs/peakrisk2/include/python3.4m -c astropy/table/_np_utils.c -o build/temp.linux-x86_64-3.4/astropy/table/_np_utils.o\r\n"
     ]
    },
    {
     "name": "stdout",
     "output_type": "stream",
     "text": [
      "    x86_64-linux-gnu-gcc -pthread -shared -Wl,-O1 -Wl,-Bsymbolic-functions -Wl,-Bsymbolic-functions -Wl,-z,relro -Wl,-Bsymbolic-functions -Wl,-z,relro -g -fstack-protector-strong -Wformat -Werror=format-security -D_FORTIFY_SOURCE=2 build/temp.linux-x86_64-3.4/astropy/utils/src/compiler.o -o build/lib.linux-x86_64-3.4/astropy/utils/_compiler.cpython-34m.so\r\n"
     ]
    },
    {
     "name": "stdout",
     "output_type": "stream",
     "text": [
      "    building 'astropy.utils._compiler' extension\r\n",
      "    x86_64-linux-gnu-gcc -pthread -DNDEBUG -g -fwrapv -O2 -Wall -Wstrict-prototypes -g -fstack-protector-strong -Wformat -Werror=format-security -D_FORTIFY_SOURCE=2 -fPIC -I/usr/include/python3.4m -I/home/jng/.virtualenvs/peakrisk2/include/python3.4m -c astropy/utils/src/compiler.c -o build/temp.linux-x86_64-3.4/astropy/utils/src/compiler.o\r\n"
     ]
    },
    {
     "name": "stdout",
     "output_type": "stream",
     "text": [
      "    x86_64-linux-gnu-gcc -pthread -shared -Wl,-O1 -Wl,-Bsymbolic-functions -Wl,-Bsymbolic-functions -Wl,-z,relro -Wl,-Bsymbolic-functions -Wl,-z,relro -g -fstack-protector-strong -Wformat -Werror=format-security -D_FORTIFY_SOURCE=2 build/temp.linux-x86_64-3.4/cextern/wcslib/C/flexed/wcsbth.o build/temp.linux-x86_64-3.4/cextern/wcslib/C/flexed/wcspih.o build/temp.linux-x86_64-3.4/cextern/wcslib/C/flexed/wcsulex.o build/temp.linux-x86_64-3.4/cextern/wcslib/C/flexed/wcsutrn.o build/temp.linux-x86_64-3.4/cextern/wcslib/C/cel.o build/temp.linux-x86_64-3.4/cextern/wcslib/C/lin.o build/temp.linux-x86_64-3.4/cextern/wcslib/C/log.o build/temp.linux-x86_64-3.4/cextern/wcslib/C/prj.o build/temp.linux-x86_64-3.4/cextern/wcslib/C/spc.o build/temp.linux-x86_64-3.4/cextern/wcslib/C/sph.o build/temp.linux-x86_64-3.4/cextern/wcslib/C/spx.o build/temp.linux-x86_64-3.4/cextern/wcslib/C/tab.o build/temp.linux-x86_64-3.4/cextern/wcslib/C/wcs.o build/temp.linux-x86_64-3.4/cextern/wcslib/C/wcserr.o build/temp.linux-x86_64-3.4/cextern/wcslib/C/wcsfix.o build/temp.linux-x86_64-3.4/cextern/wcslib/C/wcshdr.o build/temp.linux-x86_64-3.4/cextern/wcslib/C/wcsprintf.o build/temp.linux-x86_64-3.4/cextern/wcslib/C/wcsunits.o build/temp.linux-x86_64-3.4/cextern/wcslib/C/wcsutil.o build/temp.linux-x86_64-3.4/astropy/wcs/src/distortion.o build/temp.linux-x86_64-3.4/astropy/wcs/src/distortion_wrap.o build/temp.linux-x86_64-3.4/astropy/wcs/src/docstrings.o build/temp.linux-x86_64-3.4/astropy/wcs/src/pipeline.o build/temp.linux-x86_64-3.4/astropy/wcs/src/pyutil.o build/temp.linux-x86_64-3.4/astropy/wcs/src/astropy_wcs.o build/temp.linux-x86_64-3.4/astropy/wcs/src/astropy_wcs_api.o build/temp.linux-x86_64-3.4/astropy/wcs/src/sip.o build/temp.linux-x86_64-3.4/astropy/wcs/src/sip_wrap.o build/temp.linux-x86_64-3.4/astropy/wcs/src/str_list_proxy.o build/temp.linux-x86_64-3.4/astropy/wcs/src/unit_list_proxy.o build/temp.linux-x86_64-3.4/astropy/wcs/src/util.o build/temp.linux-x86_64-3.4/astropy/wcs/src/wcslib_wrap.o build/temp.linux-x86_64-3.4/astropy/wcs/src/wcslib_tabprm_wrap.o build/temp.linux-x86_64-3.4/astropy/wcs/src/wcslib_wtbarr_wrap.o -o build/lib.linux-x86_64-3.4/astropy/wcs/_wcs.cpython-34m.so\r\n"
     ]
    },
    {
     "name": "stdout",
     "output_type": "stream",
     "text": [
      "    In file included from /home/jng/.virtualenvs/peakrisk2/lib/python3.4/site-packages/numpy/core/include/numpy/ndarraytypes.h:1804:0,\r\n",
      "                     from /home/jng/.virtualenvs/peakrisk2/lib/python3.4/site-packages/numpy/core/include/numpy/ndarrayobject.h:17,\r\n",
      "                     from /home/jng/.virtualenvs/peakrisk2/lib/python3.4/site-packages/numpy/core/include/numpy/arrayobject.h:4,\r\n",
      "                     from astropy/wcs/include/astropy_wcs/pyutil.h:15,\r\n",
      "                     from astropy/wcs/include/astropy_wcs/wcslib_wtbarr_wrap.h:9,\r\n",
      "                     from astropy/wcs/src/wcslib_wtbarr_wrap.c:8:\r\n",
      "    /home/jng/.virtualenvs/peakrisk2/lib/python3.4/site-packages/numpy/core/include/numpy/npy_1_7_deprecated_api.h:15:2: warning: #warning \"Using deprecated NumPy API, disable it by \" \"#defining NPY_NO_DEPRECATED_API NPY_1_7_API_VERSION\" [-Wcpp]\r\n",
      "     #warning \"Using deprecated NumPy API, disable it by \" \\\r\n",
      "      ^\r\n"
     ]
    },
    {
     "name": "stdout",
     "output_type": "stream",
     "text": [
      "    x86_64-linux-gnu-gcc -pthread -DNDEBUG -g -fwrapv -O2 -Wall -Wstrict-prototypes -g -fstack-protector-strong -Wformat -Werror=format-security -D_FORTIFY_SOURCE=2 -fPIC -DECHO -DWCSTRIG_MACRO -DASTROPY_WCS_BUILD -D_GNU_SOURCE -DNDEBUG -DHAVE_SINCOS -UDEBUG -I/home/jng/.virtualenvs/peakrisk2/lib/python3.4/site-packages/numpy/core/include -Iastropy/wcs/include -Icextern/wcslib/C -I/usr/include/python3.4m -I/home/jng/.virtualenvs/peakrisk2/include/python3.4m -c astropy/wcs/src/wcslib_wtbarr_wrap.c -o build/temp.linux-x86_64-3.4/astropy/wcs/src/wcslib_wtbarr_wrap.o\r\n"
     ]
    },
    {
     "name": "stdout",
     "output_type": "stream",
     "text": [
      "    In file included from /home/jng/.virtualenvs/peakrisk2/lib/python3.4/site-packages/numpy/core/include/numpy/ndarraytypes.h:1804:0,\r\n",
      "                     from /home/jng/.virtualenvs/peakrisk2/lib/python3.4/site-packages/numpy/core/include/numpy/ndarrayobject.h:17,\r\n",
      "                     from /home/jng/.virtualenvs/peakrisk2/lib/python3.4/site-packages/numpy/core/include/numpy/arrayobject.h:4,\r\n",
      "                     from astropy/wcs/include/astropy_wcs/pyutil.h:15,\r\n",
      "                     from astropy/wcs/include/astropy_wcs/wcslib_tabprm_wrap.h:9,\r\n",
      "                     from astropy/wcs/src/wcslib_tabprm_wrap.c:8:\r\n",
      "    /home/jng/.virtualenvs/peakrisk2/lib/python3.4/site-packages/numpy/core/include/numpy/npy_1_7_deprecated_api.h:15:2: warning: #warning \"Using deprecated NumPy API, disable it by \" \"#defining NPY_NO_DEPRECATED_API NPY_1_7_API_VERSION\" [-Wcpp]\r\n",
      "     #warning \"Using deprecated NumPy API, disable it by \" \\\r\n",
      "      ^\r\n"
     ]
    },
    {
     "name": "stdout",
     "output_type": "stream",
     "text": [
      "    x86_64-linux-gnu-gcc -pthread -DNDEBUG -g -fwrapv -O2 -Wall -Wstrict-prototypes -g -fstack-protector-strong -Wformat -Werror=format-security -D_FORTIFY_SOURCE=2 -fPIC -DECHO -DWCSTRIG_MACRO -DASTROPY_WCS_BUILD -D_GNU_SOURCE -DNDEBUG -DHAVE_SINCOS -UDEBUG -I/home/jng/.virtualenvs/peakrisk2/lib/python3.4/site-packages/numpy/core/include -Iastropy/wcs/include -Icextern/wcslib/C -I/usr/include/python3.4m -I/home/jng/.virtualenvs/peakrisk2/include/python3.4m -c astropy/wcs/src/wcslib_tabprm_wrap.c -o build/temp.linux-x86_64-3.4/astropy/wcs/src/wcslib_tabprm_wrap.o\r\n"
     ]
    },
    {
     "name": "stdout",
     "output_type": "stream",
     "text": [
      "    astropy/wcs/src/wcslib_wrap.c:58:1: warning: function declaration isn’t a prototype [-Wstrict-prototypes]\r\n",
      "     convert_rejections_to_warnings() {\r\n",
      "     ^\r\n"
     ]
    },
    {
     "name": "stdout",
     "output_type": "stream",
     "text": [
      "    In file included from /home/jng/.virtualenvs/peakrisk2/lib/python3.4/site-packages/numpy/core/include/numpy/ndarraytypes.h:1804:0,\r\n",
      "                     from /home/jng/.virtualenvs/peakrisk2/lib/python3.4/site-packages/numpy/core/include/numpy/ndarrayobject.h:17,\r\n",
      "                     from /home/jng/.virtualenvs/peakrisk2/lib/python3.4/site-packages/numpy/core/include/numpy/arrayobject.h:4,\r\n",
      "                     from astropy/wcs/include/astropy_wcs/pyutil.h:15,\r\n",
      "                     from astropy/wcs/include/astropy_wcs/wcslib_wrap.h:9,\r\n",
      "                     from astropy/wcs/src/wcslib_wrap.c:8:\r\n",
      "    /home/jng/.virtualenvs/peakrisk2/lib/python3.4/site-packages/numpy/core/include/numpy/npy_1_7_deprecated_api.h:15:2: warning: #warning \"Using deprecated NumPy API, disable it by \" \"#defining NPY_NO_DEPRECATED_API NPY_1_7_API_VERSION\" [-Wcpp]\r\n",
      "     #warning \"Using deprecated NumPy API, disable it by \" \\\r\n",
      "      ^\r\n"
     ]
    },
    {
     "name": "stdout",
     "output_type": "stream",
     "text": [
      "    x86_64-linux-gnu-gcc -pthread -DNDEBUG -g -fwrapv -O2 -Wall -Wstrict-prototypes -g -fstack-protector-strong -Wformat -Werror=format-security -D_FORTIFY_SOURCE=2 -fPIC -DECHO -DWCSTRIG_MACRO -DASTROPY_WCS_BUILD -D_GNU_SOURCE -DNDEBUG -DHAVE_SINCOS -UDEBUG -I/home/jng/.virtualenvs/peakrisk2/lib/python3.4/site-packages/numpy/core/include -Iastropy/wcs/include -Icextern/wcslib/C -I/usr/include/python3.4m -I/home/jng/.virtualenvs/peakrisk2/include/python3.4m -c astropy/wcs/src/wcslib_wrap.c -o build/temp.linux-x86_64-3.4/astropy/wcs/src/wcslib_wrap.o\r\n"
     ]
    },
    {
     "name": "stdout",
     "output_type": "stream",
     "text": [
      "    x86_64-linux-gnu-gcc -pthread -DNDEBUG -g -fwrapv -O2 -Wall -Wstrict-prototypes -g -fstack-protector-strong -Wformat -Werror=format-security -D_FORTIFY_SOURCE=2 -fPIC -DECHO -DWCSTRIG_MACRO -DASTROPY_WCS_BUILD -D_GNU_SOURCE -DNDEBUG -DHAVE_SINCOS -UDEBUG -I/home/jng/.virtualenvs/peakrisk2/lib/python3.4/site-packages/numpy/core/include -Iastropy/wcs/include -Icextern/wcslib/C -I/usr/include/python3.4m -I/home/jng/.virtualenvs/peakrisk2/include/python3.4m -c astropy/wcs/src/util.c -o build/temp.linux-x86_64-3.4/astropy/wcs/src/util.o\r\n"
     ]
    },
    {
     "name": "stdout",
     "output_type": "stream",
     "text": [
      "    In file included from /home/jng/.virtualenvs/peakrisk2/lib/python3.4/site-packages/numpy/core/include/numpy/ndarraytypes.h:1804:0,\r\n",
      "                     from /home/jng/.virtualenvs/peakrisk2/lib/python3.4/site-packages/numpy/core/include/numpy/ndarrayobject.h:17,\r\n",
      "                     from /home/jng/.virtualenvs/peakrisk2/lib/python3.4/site-packages/numpy/core/include/numpy/arrayobject.h:4,\r\n",
      "                     from astropy/wcs/include/astropy_wcs/pyutil.h:15,\r\n",
      "                     from astropy/wcs/src/unit_list_proxy.c:8:\r\n",
      "    /home/jng/.virtualenvs/peakrisk2/lib/python3.4/site-packages/numpy/core/include/numpy/npy_1_7_deprecated_api.h:15:2: warning: #warning \"Using deprecated NumPy API, disable it by \" \"#defining NPY_NO_DEPRECATED_API NPY_1_7_API_VERSION\" [-Wcpp]\r\n",
      "     #warning \"Using deprecated NumPy API, disable it by \" \\\r\n",
      "      ^\r\n"
     ]
    },
    {
     "name": "stdout",
     "output_type": "stream",
     "text": [
      "    x86_64-linux-gnu-gcc -pthread -DNDEBUG -g -fwrapv -O2 -Wall -Wstrict-prototypes -g -fstack-protector-strong -Wformat -Werror=format-security -D_FORTIFY_SOURCE=2 -fPIC -DECHO -DWCSTRIG_MACRO -DASTROPY_WCS_BUILD -D_GNU_SOURCE -DNDEBUG -DHAVE_SINCOS -UDEBUG -I/home/jng/.virtualenvs/peakrisk2/lib/python3.4/site-packages/numpy/core/include -Iastropy/wcs/include -Icextern/wcslib/C -I/usr/include/python3.4m -I/home/jng/.virtualenvs/peakrisk2/include/python3.4m -c astropy/wcs/src/unit_list_proxy.c -o build/temp.linux-x86_64-3.4/astropy/wcs/src/unit_list_proxy.o\r\n"
     ]
    },
    {
     "name": "stdout",
     "output_type": "stream",
     "text": [
      "    In file included from /home/jng/.virtualenvs/peakrisk2/lib/python3.4/site-packages/numpy/core/include/numpy/ndarraytypes.h:1804:0,\r\n",
      "                     from /home/jng/.virtualenvs/peakrisk2/lib/python3.4/site-packages/numpy/core/include/numpy/ndarrayobject.h:17,\r\n",
      "                     from /home/jng/.virtualenvs/peakrisk2/lib/python3.4/site-packages/numpy/core/include/numpy/arrayobject.h:4,\r\n",
      "                     from astropy/wcs/include/astropy_wcs/pyutil.h:15,\r\n",
      "                     from astropy/wcs/src/str_list_proxy.c:8:\r\n",
      "    /home/jng/.virtualenvs/peakrisk2/lib/python3.4/site-packages/numpy/core/include/numpy/npy_1_7_deprecated_api.h:15:2: warning: #warning \"Using deprecated NumPy API, disable it by \" \"#defining NPY_NO_DEPRECATED_API NPY_1_7_API_VERSION\" [-Wcpp]\r\n",
      "     #warning \"Using deprecated NumPy API, disable it by \" \\\r\n",
      "      ^\r\n"
     ]
    },
    {
     "name": "stdout",
     "output_type": "stream",
     "text": [
      "    x86_64-linux-gnu-gcc -pthread -DNDEBUG -g -fwrapv -O2 -Wall -Wstrict-prototypes -g -fstack-protector-strong -Wformat -Werror=format-security -D_FORTIFY_SOURCE=2 -fPIC -DECHO -DWCSTRIG_MACRO -DASTROPY_WCS_BUILD -D_GNU_SOURCE -DNDEBUG -DHAVE_SINCOS -UDEBUG -I/home/jng/.virtualenvs/peakrisk2/lib/python3.4/site-packages/numpy/core/include -Iastropy/wcs/include -Icextern/wcslib/C -I/usr/include/python3.4m -I/home/jng/.virtualenvs/peakrisk2/include/python3.4m -c astropy/wcs/src/str_list_proxy.c -o build/temp.linux-x86_64-3.4/astropy/wcs/src/str_list_proxy.o\r\n"
     ]
    },
    {
     "name": "stdout",
     "output_type": "stream",
     "text": [
      "    astropy/wcs/src/sip_wrap.c: In function ‘PySip_foc2pix’:\r\n",
      "    astropy/wcs/src/sip_wrap.c:236:18: warning: unused variable ‘pixcrd_data’ [-Wunused-variable]\r\n",
      "       double*        pixcrd_data = NULL;\r\n",
      "                      ^\r\n"
     ]
    },
    {
     "name": "stdout",
     "output_type": "stream",
     "text": [
      "    In file included from /home/jng/.virtualenvs/peakrisk2/lib/python3.4/site-packages/numpy/core/include/numpy/ndarraytypes.h:1804:0,\r\n",
      "                     from /home/jng/.virtualenvs/peakrisk2/lib/python3.4/site-packages/numpy/core/include/numpy/ndarrayobject.h:17,\r\n",
      "                     from /home/jng/.virtualenvs/peakrisk2/lib/python3.4/site-packages/numpy/core/include/numpy/arrayobject.h:4,\r\n",
      "                     from astropy/wcs/include/astropy_wcs/pyutil.h:15,\r\n",
      "                     from astropy/wcs/include/astropy_wcs/sip_wrap.h:9,\r\n",
      "                     from astropy/wcs/src/sip_wrap.c:8:\r\n",
      "    /home/jng/.virtualenvs/peakrisk2/lib/python3.4/site-packages/numpy/core/include/numpy/npy_1_7_deprecated_api.h:15:2: warning: #warning \"Using deprecated NumPy API, disable it by \" \"#defining NPY_NO_DEPRECATED_API NPY_1_7_API_VERSION\" [-Wcpp]\r\n",
      "     #warning \"Using deprecated NumPy API, disable it by \" \\\r\n",
      "      ^\r\n"
     ]
    },
    {
     "name": "stdout",
     "output_type": "stream",
     "text": [
      "    x86_64-linux-gnu-gcc -pthread -DNDEBUG -g -fwrapv -O2 -Wall -Wstrict-prototypes -g -fstack-protector-strong -Wformat -Werror=format-security -D_FORTIFY_SOURCE=2 -fPIC -DECHO -DWCSTRIG_MACRO -DASTROPY_WCS_BUILD -D_GNU_SOURCE -DNDEBUG -DHAVE_SINCOS -UDEBUG -I/home/jng/.virtualenvs/peakrisk2/lib/python3.4/site-packages/numpy/core/include -Iastropy/wcs/include -Icextern/wcslib/C -I/usr/include/python3.4m -I/home/jng/.virtualenvs/peakrisk2/include/python3.4m -c astropy/wcs/src/sip_wrap.c -o build/temp.linux-x86_64-3.4/astropy/wcs/src/sip_wrap.o\r\n"
     ]
    },
    {
     "name": "stdout",
     "output_type": "stream",
     "text": [
      "    x86_64-linux-gnu-gcc -pthread -DNDEBUG -g -fwrapv -O2 -Wall -Wstrict-prototypes -g -fstack-protector-strong -Wformat -Werror=format-security -D_FORTIFY_SOURCE=2 -fPIC -DECHO -DWCSTRIG_MACRO -DASTROPY_WCS_BUILD -D_GNU_SOURCE -DNDEBUG -DHAVE_SINCOS -UDEBUG -I/home/jng/.virtualenvs/peakrisk2/lib/python3.4/site-packages/numpy/core/include -Iastropy/wcs/include -Icextern/wcslib/C -I/usr/include/python3.4m -I/home/jng/.virtualenvs/peakrisk2/include/python3.4m -c astropy/wcs/src/sip.c -o build/temp.linux-x86_64-3.4/astropy/wcs/src/sip.o\r\n"
     ]
    },
    {
     "name": "stdout",
     "output_type": "stream",
     "text": [
      "    In file included from /home/jng/.virtualenvs/peakrisk2/lib/python3.4/site-packages/numpy/core/include/numpy/ndarraytypes.h:1804:0,\r\n",
      "                     from /home/jng/.virtualenvs/peakrisk2/lib/python3.4/site-packages/numpy/core/include/numpy/ndarrayobject.h:17,\r\n",
      "                     from /home/jng/.virtualenvs/peakrisk2/lib/python3.4/site-packages/numpy/core/include/numpy/arrayobject.h:4,\r\n",
      "                     from astropy/wcs/include/astropy_wcs/pyutil.h:15,\r\n",
      "                     from astropy/wcs/include/astropy_wcs/astropy_wcs_api.h:5,\r\n",
      "                     from astropy/wcs/src/astropy_wcs_api.c:3:\r\n",
      "    /home/jng/.virtualenvs/peakrisk2/lib/python3.4/site-packages/numpy/core/include/numpy/npy_1_7_deprecated_api.h:15:2: warning: #warning \"Using deprecated NumPy API, disable it by \" \"#defining NPY_NO_DEPRECATED_API NPY_1_7_API_VERSION\" [-Wcpp]\r\n",
      "     #warning \"Using deprecated NumPy API, disable it by \" \\\r\n",
      "      ^\r\n"
     ]
    },
    {
     "name": "stdout",
     "output_type": "stream",
     "text": [
      "    x86_64-linux-gnu-gcc -pthread -DNDEBUG -g -fwrapv -O2 -Wall -Wstrict-prototypes -g -fstack-protector-strong -Wformat -Werror=format-security -D_FORTIFY_SOURCE=2 -fPIC -DECHO -DWCSTRIG_MACRO -DASTROPY_WCS_BUILD -D_GNU_SOURCE -DNDEBUG -DHAVE_SINCOS -UDEBUG -I/home/jng/.virtualenvs/peakrisk2/lib/python3.4/site-packages/numpy/core/include -Iastropy/wcs/include -Icextern/wcslib/C -I/usr/include/python3.4m -I/home/jng/.virtualenvs/peakrisk2/include/python3.4m -c astropy/wcs/src/astropy_wcs_api.c -o build/temp.linux-x86_64-3.4/astropy/wcs/src/astropy_wcs_api.o\r\n"
     ]
    },
    {
     "name": "stdout",
     "output_type": "stream",
     "text": [
      "    In file included from /home/jng/.virtualenvs/peakrisk2/lib/python3.4/site-packages/numpy/core/include/numpy/ndarraytypes.h:1804:0,\r\n",
      "                     from /home/jng/.virtualenvs/peakrisk2/lib/python3.4/site-packages/numpy/core/include/numpy/ndarrayobject.h:17,\r\n",
      "                     from /home/jng/.virtualenvs/peakrisk2/lib/python3.4/site-packages/numpy/core/include/numpy/arrayobject.h:4,\r\n",
      "                     from astropy/wcs/include/astropy_wcs/pyutil.h:15,\r\n",
      "                     from astropy/wcs/include/astropy_wcs/astropy_wcs.h:10,\r\n",
      "                     from astropy/wcs/src/astropy_wcs.c:6:\r\n",
      "    /home/jng/.virtualenvs/peakrisk2/lib/python3.4/site-packages/numpy/core/include/numpy/npy_1_7_deprecated_api.h:15:2: warning: #warning \"Using deprecated NumPy API, disable it by \" \"#defining NPY_NO_DEPRECATED_API NPY_1_7_API_VERSION\" [-Wcpp]\r\n",
      "     #warning \"Using deprecated NumPy API, disable it by \" \\\r\n",
      "      ^\r\n"
     ]
    },
    {
     "name": "stdout",
     "output_type": "stream",
     "text": [
      "    x86_64-linux-gnu-gcc -pthread -DNDEBUG -g -fwrapv -O2 -Wall -Wstrict-prototypes -g -fstack-protector-strong -Wformat -Werror=format-security -D_FORTIFY_SOURCE=2 -fPIC -DECHO -DWCSTRIG_MACRO -DASTROPY_WCS_BUILD -D_GNU_SOURCE -DNDEBUG -DHAVE_SINCOS -UDEBUG -I/home/jng/.virtualenvs/peakrisk2/lib/python3.4/site-packages/numpy/core/include -Iastropy/wcs/include -Icextern/wcslib/C -I/usr/include/python3.4m -I/home/jng/.virtualenvs/peakrisk2/include/python3.4m -c astropy/wcs/src/astropy_wcs.c -o build/temp.linux-x86_64-3.4/astropy/wcs/src/astropy_wcs.o\r\n"
     ]
    },
    {
     "name": "stdout",
     "output_type": "stream",
     "text": [
      "    In file included from /home/jng/.virtualenvs/peakrisk2/lib/python3.4/site-packages/numpy/core/include/numpy/ndarraytypes.h:1804:0,\r\n",
      "                     from /home/jng/.virtualenvs/peakrisk2/lib/python3.4/site-packages/numpy/core/include/numpy/ndarrayobject.h:17,\r\n",
      "                     from /home/jng/.virtualenvs/peakrisk2/lib/python3.4/site-packages/numpy/core/include/numpy/arrayobject.h:4,\r\n",
      "                     from astropy/wcs/include/astropy_wcs/pyutil.h:15,\r\n",
      "                     from astropy/wcs/src/pyutil.c:9:\r\n",
      "    /home/jng/.virtualenvs/peakrisk2/lib/python3.4/site-packages/numpy/core/include/numpy/npy_1_7_deprecated_api.h:15:2: warning: #warning \"Using deprecated NumPy API, disable it by \" \"#defining NPY_NO_DEPRECATED_API NPY_1_7_API_VERSION\" [-Wcpp]\r\n",
      "     #warning \"Using deprecated NumPy API, disable it by \" \\\r\n",
      "      ^\r\n"
     ]
    },
    {
     "name": "stdout",
     "output_type": "stream",
     "text": [
      "    x86_64-linux-gnu-gcc -pthread -DNDEBUG -g -fwrapv -O2 -Wall -Wstrict-prototypes -g -fstack-protector-strong -Wformat -Werror=format-security -D_FORTIFY_SOURCE=2 -fPIC -DECHO -DWCSTRIG_MACRO -DASTROPY_WCS_BUILD -D_GNU_SOURCE -DNDEBUG -DHAVE_SINCOS -UDEBUG -I/home/jng/.virtualenvs/peakrisk2/lib/python3.4/site-packages/numpy/core/include -Iastropy/wcs/include -Icextern/wcslib/C -I/usr/include/python3.4m -I/home/jng/.virtualenvs/peakrisk2/include/python3.4m -c astropy/wcs/src/pyutil.c -o build/temp.linux-x86_64-3.4/astropy/wcs/src/pyutil.o\r\n"
     ]
    },
    {
     "name": "stdout",
     "output_type": "stream",
     "text": [
      "    x86_64-linux-gnu-gcc -pthread -DNDEBUG -g -fwrapv -O2 -Wall -Wstrict-prototypes -g -fstack-protector-strong -Wformat -Werror=format-security -D_FORTIFY_SOURCE=2 -fPIC -DECHO -DWCSTRIG_MACRO -DASTROPY_WCS_BUILD -D_GNU_SOURCE -DNDEBUG -DHAVE_SINCOS -UDEBUG -I/home/jng/.virtualenvs/peakrisk2/lib/python3.4/site-packages/numpy/core/include -Iastropy/wcs/include -Icextern/wcslib/C -I/usr/include/python3.4m -I/home/jng/.virtualenvs/peakrisk2/include/python3.4m -c astropy/wcs/src/pipeline.c -o build/temp.linux-x86_64-3.4/astropy/wcs/src/pipeline.o\r\n"
     ]
    },
    {
     "name": "stdout",
     "output_type": "stream",
     "text": [
      "    x86_64-linux-gnu-gcc -pthread -DNDEBUG -g -fwrapv -O2 -Wall -Wstrict-prototypes -g -fstack-protector-strong -Wformat -Werror=format-security -D_FORTIFY_SOURCE=2 -fPIC -DECHO -DWCSTRIG_MACRO -DASTROPY_WCS_BUILD -D_GNU_SOURCE -DNDEBUG -DHAVE_SINCOS -UDEBUG -I/home/jng/.virtualenvs/peakrisk2/lib/python3.4/site-packages/numpy/core/include -Iastropy/wcs/include -Icextern/wcslib/C -I/usr/include/python3.4m -I/home/jng/.virtualenvs/peakrisk2/include/python3.4m -c astropy/wcs/src/docstrings.c -o build/temp.linux-x86_64-3.4/astropy/wcs/src/docstrings.o\r\n"
     ]
    },
    {
     "name": "stdout",
     "output_type": "stream",
     "text": [
      "    In file included from /home/jng/.virtualenvs/peakrisk2/lib/python3.4/site-packages/numpy/core/include/numpy/ndarraytypes.h:1804:0,\r\n",
      "                     from /home/jng/.virtualenvs/peakrisk2/lib/python3.4/site-packages/numpy/core/include/numpy/ndarrayobject.h:17,\r\n",
      "                     from /home/jng/.virtualenvs/peakrisk2/lib/python3.4/site-packages/numpy/core/include/numpy/arrayobject.h:4,\r\n",
      "                     from astropy/wcs/include/astropy_wcs/pyutil.h:15,\r\n",
      "                     from astropy/wcs/include/astropy_wcs/distortion_wrap.h:9,\r\n",
      "                     from astropy/wcs/src/distortion_wrap.c:8:\r\n",
      "    /home/jng/.virtualenvs/peakrisk2/lib/python3.4/site-packages/numpy/core/include/numpy/npy_1_7_deprecated_api.h:15:2: warning: #warning \"Using deprecated NumPy API, disable it by \" \"#defining NPY_NO_DEPRECATED_API NPY_1_7_API_VERSION\" [-Wcpp]\r\n",
      "     #warning \"Using deprecated NumPy API, disable it by \" \\\r\n",
      "      ^\r\n"
     ]
    },
    {
     "name": "stdout",
     "output_type": "stream",
     "text": [
      "    x86_64-linux-gnu-gcc -pthread -DNDEBUG -g -fwrapv -O2 -Wall -Wstrict-prototypes -g -fstack-protector-strong -Wformat -Werror=format-security -D_FORTIFY_SOURCE=2 -fPIC -DECHO -DWCSTRIG_MACRO -DASTROPY_WCS_BUILD -D_GNU_SOURCE -DNDEBUG -DHAVE_SINCOS -UDEBUG -I/home/jng/.virtualenvs/peakrisk2/lib/python3.4/site-packages/numpy/core/include -Iastropy/wcs/include -Icextern/wcslib/C -I/usr/include/python3.4m -I/home/jng/.virtualenvs/peakrisk2/include/python3.4m -c astropy/wcs/src/distortion_wrap.c -o build/temp.linux-x86_64-3.4/astropy/wcs/src/distortion_wrap.o\r\n"
     ]
    },
    {
     "name": "stdout",
     "output_type": "stream",
     "text": [
      "    x86_64-linux-gnu-gcc -pthread -DNDEBUG -g -fwrapv -O2 -Wall -Wstrict-prototypes -g -fstack-protector-strong -Wformat -Werror=format-security -D_FORTIFY_SOURCE=2 -fPIC -DECHO -DWCSTRIG_MACRO -DASTROPY_WCS_BUILD -D_GNU_SOURCE -DNDEBUG -DHAVE_SINCOS -UDEBUG -I/home/jng/.virtualenvs/peakrisk2/lib/python3.4/site-packages/numpy/core/include -Iastropy/wcs/include -Icextern/wcslib/C -I/usr/include/python3.4m -I/home/jng/.virtualenvs/peakrisk2/include/python3.4m -c astropy/wcs/src/distortion.c -o build/temp.linux-x86_64-3.4/astropy/wcs/src/distortion.o\r\n"
     ]
    },
    {
     "name": "stdout",
     "output_type": "stream",
     "text": [
      "    x86_64-linux-gnu-gcc -pthread -DNDEBUG -g -fwrapv -O2 -Wall -Wstrict-prototypes -g -fstack-protector-strong -Wformat -Werror=format-security -D_FORTIFY_SOURCE=2 -fPIC -DECHO -DWCSTRIG_MACRO -DASTROPY_WCS_BUILD -D_GNU_SOURCE -DNDEBUG -DHAVE_SINCOS -UDEBUG -I/home/jng/.virtualenvs/peakrisk2/lib/python3.4/site-packages/numpy/core/include -Iastropy/wcs/include -Icextern/wcslib/C -I/usr/include/python3.4m -I/home/jng/.virtualenvs/peakrisk2/include/python3.4m -c cextern/wcslib/C/wcsutil.c -o build/temp.linux-x86_64-3.4/cextern/wcslib/C/wcsutil.o\r\n"
     ]
    },
    {
     "name": "stdout",
     "output_type": "stream",
     "text": [
      "    x86_64-linux-gnu-gcc -pthread -DNDEBUG -g -fwrapv -O2 -Wall -Wstrict-prototypes -g -fstack-protector-strong -Wformat -Werror=format-security -D_FORTIFY_SOURCE=2 -fPIC -DECHO -DWCSTRIG_MACRO -DASTROPY_WCS_BUILD -D_GNU_SOURCE -DNDEBUG -DHAVE_SINCOS -UDEBUG -I/home/jng/.virtualenvs/peakrisk2/lib/python3.4/site-packages/numpy/core/include -Iastropy/wcs/include -Icextern/wcslib/C -I/usr/include/python3.4m -I/home/jng/.virtualenvs/peakrisk2/include/python3.4m -c cextern/wcslib/C/wcsunits.c -o build/temp.linux-x86_64-3.4/cextern/wcslib/C/wcsunits.o\r\n"
     ]
    },
    {
     "name": "stdout",
     "output_type": "stream",
     "text": [
      "    x86_64-linux-gnu-gcc -pthread -DNDEBUG -g -fwrapv -O2 -Wall -Wstrict-prototypes -g -fstack-protector-strong -Wformat -Werror=format-security -D_FORTIFY_SOURCE=2 -fPIC -DECHO -DWCSTRIG_MACRO -DASTROPY_WCS_BUILD -D_GNU_SOURCE -DNDEBUG -DHAVE_SINCOS -UDEBUG -I/home/jng/.virtualenvs/peakrisk2/lib/python3.4/site-packages/numpy/core/include -Iastropy/wcs/include -Icextern/wcslib/C -I/usr/include/python3.4m -I/home/jng/.virtualenvs/peakrisk2/include/python3.4m -c cextern/wcslib/C/wcsprintf.c -o build/temp.linux-x86_64-3.4/cextern/wcslib/C/wcsprintf.o\r\n"
     ]
    },
    {
     "name": "stdout",
     "output_type": "stream",
     "text": [
      "    x86_64-linux-gnu-gcc -pthread -DNDEBUG -g -fwrapv -O2 -Wall -Wstrict-prototypes -g -fstack-protector-strong -Wformat -Werror=format-security -D_FORTIFY_SOURCE=2 -fPIC -DECHO -DWCSTRIG_MACRO -DASTROPY_WCS_BUILD -D_GNU_SOURCE -DNDEBUG -DHAVE_SINCOS -UDEBUG -I/home/jng/.virtualenvs/peakrisk2/lib/python3.4/site-packages/numpy/core/include -Iastropy/wcs/include -Icextern/wcslib/C -I/usr/include/python3.4m -I/home/jng/.virtualenvs/peakrisk2/include/python3.4m -c cextern/wcslib/C/wcshdr.c -o build/temp.linux-x86_64-3.4/cextern/wcslib/C/wcshdr.o\r\n"
     ]
    },
    {
     "name": "stdout",
     "output_type": "stream",
     "text": [
      "    x86_64-linux-gnu-gcc -pthread -DNDEBUG -g -fwrapv -O2 -Wall -Wstrict-prototypes -g -fstack-protector-strong -Wformat -Werror=format-security -D_FORTIFY_SOURCE=2 -fPIC -DECHO -DWCSTRIG_MACRO -DASTROPY_WCS_BUILD -D_GNU_SOURCE -DNDEBUG -DHAVE_SINCOS -UDEBUG -I/home/jng/.virtualenvs/peakrisk2/lib/python3.4/site-packages/numpy/core/include -Iastropy/wcs/include -Icextern/wcslib/C -I/usr/include/python3.4m -I/home/jng/.virtualenvs/peakrisk2/include/python3.4m -c cextern/wcslib/C/wcsfix.c -o build/temp.linux-x86_64-3.4/cextern/wcslib/C/wcsfix.o\r\n"
     ]
    },
    {
     "name": "stdout",
     "output_type": "stream",
     "text": [
      "    x86_64-linux-gnu-gcc -pthread -DNDEBUG -g -fwrapv -O2 -Wall -Wstrict-prototypes -g -fstack-protector-strong -Wformat -Werror=format-security -D_FORTIFY_SOURCE=2 -fPIC -DECHO -DWCSTRIG_MACRO -DASTROPY_WCS_BUILD -D_GNU_SOURCE -DNDEBUG -DHAVE_SINCOS -UDEBUG -I/home/jng/.virtualenvs/peakrisk2/lib/python3.4/site-packages/numpy/core/include -Iastropy/wcs/include -Icextern/wcslib/C -I/usr/include/python3.4m -I/home/jng/.virtualenvs/peakrisk2/include/python3.4m -c cextern/wcslib/C/wcserr.c -o build/temp.linux-x86_64-3.4/cextern/wcslib/C/wcserr.o\r\n"
     ]
    },
    {
     "name": "stdout",
     "output_type": "stream",
     "text": [
      "    x86_64-linux-gnu-gcc -pthread -DNDEBUG -g -fwrapv -O2 -Wall -Wstrict-prototypes -g -fstack-protector-strong -Wformat -Werror=format-security -D_FORTIFY_SOURCE=2 -fPIC -DECHO -DWCSTRIG_MACRO -DASTROPY_WCS_BUILD -D_GNU_SOURCE -DNDEBUG -DHAVE_SINCOS -UDEBUG -I/home/jng/.virtualenvs/peakrisk2/lib/python3.4/site-packages/numpy/core/include -Iastropy/wcs/include -Icextern/wcslib/C -I/usr/include/python3.4m -I/home/jng/.virtualenvs/peakrisk2/include/python3.4m -c cextern/wcslib/C/wcs.c -o build/temp.linux-x86_64-3.4/cextern/wcslib/C/wcs.o\r\n"
     ]
    },
    {
     "name": "stdout",
     "output_type": "stream",
     "text": [
      "    cextern/wcslib/C/tab.c: In function ‘tabcmp’:\r\n",
      "    cextern/wcslib/C/tab.c:421:7: warning: unused variable ‘status’ [-Wunused-variable]\r\n",
      "       int status = 0;\r\n",
      "           ^\r\n"
     ]
    },
    {
     "name": "stdout",
     "output_type": "stream",
     "text": [
      "    x86_64-linux-gnu-gcc -pthread -DNDEBUG -g -fwrapv -O2 -Wall -Wstrict-prototypes -g -fstack-protector-strong -Wformat -Werror=format-security -D_FORTIFY_SOURCE=2 -fPIC -DECHO -DWCSTRIG_MACRO -DASTROPY_WCS_BUILD -D_GNU_SOURCE -DNDEBUG -DHAVE_SINCOS -UDEBUG -I/home/jng/.virtualenvs/peakrisk2/lib/python3.4/site-packages/numpy/core/include -Iastropy/wcs/include -Icextern/wcslib/C -I/usr/include/python3.4m -I/home/jng/.virtualenvs/peakrisk2/include/python3.4m -c cextern/wcslib/C/tab.c -o build/temp.linux-x86_64-3.4/cextern/wcslib/C/tab.o\r\n"
     ]
    },
    {
     "name": "stdout",
     "output_type": "stream",
     "text": [
      "    x86_64-linux-gnu-gcc -pthread -DNDEBUG -g -fwrapv -O2 -Wall -Wstrict-prototypes -g -fstack-protector-strong -Wformat -Werror=format-security -D_FORTIFY_SOURCE=2 -fPIC -DECHO -DWCSTRIG_MACRO -DASTROPY_WCS_BUILD -D_GNU_SOURCE -DNDEBUG -DHAVE_SINCOS -UDEBUG -I/home/jng/.virtualenvs/peakrisk2/lib/python3.4/site-packages/numpy/core/include -Iastropy/wcs/include -Icextern/wcslib/C -I/usr/include/python3.4m -I/home/jng/.virtualenvs/peakrisk2/include/python3.4m -c cextern/wcslib/C/spx.c -o build/temp.linux-x86_64-3.4/cextern/wcslib/C/spx.o\r\n"
     ]
    },
    {
     "name": "stdout",
     "output_type": "stream",
     "text": [
      "    x86_64-linux-gnu-gcc -pthread -DNDEBUG -g -fwrapv -O2 -Wall -Wstrict-prototypes -g -fstack-protector-strong -Wformat -Werror=format-security -D_FORTIFY_SOURCE=2 -fPIC -DECHO -DWCSTRIG_MACRO -DASTROPY_WCS_BUILD -D_GNU_SOURCE -DNDEBUG -DHAVE_SINCOS -UDEBUG -I/home/jng/.virtualenvs/peakrisk2/lib/python3.4/site-packages/numpy/core/include -Iastropy/wcs/include -Icextern/wcslib/C -I/usr/include/python3.4m -I/home/jng/.virtualenvs/peakrisk2/include/python3.4m -c cextern/wcslib/C/sph.c -o build/temp.linux-x86_64-3.4/cextern/wcslib/C/sph.o\r\n"
     ]
    },
    {
     "name": "stdout",
     "output_type": "stream",
     "text": [
      "    x86_64-linux-gnu-gcc -pthread -DNDEBUG -g -fwrapv -O2 -Wall -Wstrict-prototypes -g -fstack-protector-strong -Wformat -Werror=format-security -D_FORTIFY_SOURCE=2 -fPIC -DECHO -DWCSTRIG_MACRO -DASTROPY_WCS_BUILD -D_GNU_SOURCE -DNDEBUG -DHAVE_SINCOS -UDEBUG -I/home/jng/.virtualenvs/peakrisk2/lib/python3.4/site-packages/numpy/core/include -Iastropy/wcs/include -Icextern/wcslib/C -I/usr/include/python3.4m -I/home/jng/.virtualenvs/peakrisk2/include/python3.4m -c cextern/wcslib/C/spc.c -o build/temp.linux-x86_64-3.4/cextern/wcslib/C/spc.o\r\n"
     ]
    },
    {
     "name": "stdout",
     "output_type": "stream",
     "text": [
      "    cextern/wcslib/C/prj.c:483:5: warning: function declaration isn’t a prototype [-Wstrict-prototypes]\r\n",
      "     int prjoff(prj, phi0, theta0)\r\n",
      "         ^\r\n"
     ]
    },
    {
     "name": "stdout",
     "output_type": "stream",
     "text": [
      "    x86_64-linux-gnu-gcc -pthread -DNDEBUG -g -fwrapv -O2 -Wall -Wstrict-prototypes -g -fstack-protector-strong -Wformat -Werror=format-security -D_FORTIFY_SOURCE=2 -fPIC -DECHO -DWCSTRIG_MACRO -DASTROPY_WCS_BUILD -D_GNU_SOURCE -DNDEBUG -DHAVE_SINCOS -UDEBUG -I/home/jng/.virtualenvs/peakrisk2/lib/python3.4/site-packages/numpy/core/include -Iastropy/wcs/include -Icextern/wcslib/C -I/usr/include/python3.4m -I/home/jng/.virtualenvs/peakrisk2/include/python3.4m -c cextern/wcslib/C/prj.c -o build/temp.linux-x86_64-3.4/cextern/wcslib/C/prj.o\r\n"
     ]
    },
    {
     "name": "stdout",
     "output_type": "stream",
     "text": [
      "    x86_64-linux-gnu-gcc -pthread -DNDEBUG -g -fwrapv -O2 -Wall -Wstrict-prototypes -g -fstack-protector-strong -Wformat -Werror=format-security -D_FORTIFY_SOURCE=2 -fPIC -DECHO -DWCSTRIG_MACRO -DASTROPY_WCS_BUILD -D_GNU_SOURCE -DNDEBUG -DHAVE_SINCOS -UDEBUG -I/home/jng/.virtualenvs/peakrisk2/lib/python3.4/site-packages/numpy/core/include -Iastropy/wcs/include -Icextern/wcslib/C -I/usr/include/python3.4m -I/home/jng/.virtualenvs/peakrisk2/include/python3.4m -c cextern/wcslib/C/log.c -o build/temp.linux-x86_64-3.4/cextern/wcslib/C/log.o\r\n"
     ]
    },
    {
     "name": "stdout",
     "output_type": "stream",
     "text": [
      "    x86_64-linux-gnu-gcc -pthread -DNDEBUG -g -fwrapv -O2 -Wall -Wstrict-prototypes -g -fstack-protector-strong -Wformat -Werror=format-security -D_FORTIFY_SOURCE=2 -fPIC -DECHO -DWCSTRIG_MACRO -DASTROPY_WCS_BUILD -D_GNU_SOURCE -DNDEBUG -DHAVE_SINCOS -UDEBUG -I/home/jng/.virtualenvs/peakrisk2/lib/python3.4/site-packages/numpy/core/include -Iastropy/wcs/include -Icextern/wcslib/C -I/usr/include/python3.4m -I/home/jng/.virtualenvs/peakrisk2/include/python3.4m -c cextern/wcslib/C/lin.c -o build/temp.linux-x86_64-3.4/cextern/wcslib/C/lin.o\r\n"
     ]
    },
    {
     "name": "stdout",
     "output_type": "stream",
     "text": [
      "    x86_64-linux-gnu-gcc -pthread -DNDEBUG -g -fwrapv -O2 -Wall -Wstrict-prototypes -g -fstack-protector-strong -Wformat -Werror=format-security -D_FORTIFY_SOURCE=2 -fPIC -DECHO -DWCSTRIG_MACRO -DASTROPY_WCS_BUILD -D_GNU_SOURCE -DNDEBUG -DHAVE_SINCOS -UDEBUG -I/home/jng/.virtualenvs/peakrisk2/lib/python3.4/site-packages/numpy/core/include -Iastropy/wcs/include -Icextern/wcslib/C -I/usr/include/python3.4m -I/home/jng/.virtualenvs/peakrisk2/include/python3.4m -c cextern/wcslib/C/cel.c -o build/temp.linux-x86_64-3.4/cextern/wcslib/C/cel.o\r\n"
     ]
    },
    {
     "name": "stdout",
     "output_type": "stream",
     "text": [
      "    wcsutrn.l: In function ‘wcsutrne’:\r\n",
      "    <command-line>:0:6: warning: statement with no effect [-Wunused-value]\r\n",
      "    wcsutrn.l:337:1: note: in expansion of macro ‘ECHO’\r\n",
      "    wcsutrn.l:76:18: warning: variable ‘inbuff’ set but not used [-Wunused-but-set-variable]\r\n",
      "    wcsutrn.l: At top level:\r\n",
      "    wcsutrn.c:5011:16: warning: ‘input’ defined but not used [-Wunused-function]\r\n"
     ]
    },
    {
     "name": "stdout",
     "output_type": "stream",
     "text": [
      "    x86_64-linux-gnu-gcc -pthread -DNDEBUG -g -fwrapv -O2 -Wall -Wstrict-prototypes -g -fstack-protector-strong -Wformat -Werror=format-security -D_FORTIFY_SOURCE=2 -fPIC -DECHO -DWCSTRIG_MACRO -DASTROPY_WCS_BUILD -D_GNU_SOURCE -DNDEBUG -DHAVE_SINCOS -UDEBUG -I/home/jng/.virtualenvs/peakrisk2/lib/python3.4/site-packages/numpy/core/include -Iastropy/wcs/include -Icextern/wcslib/C -I/usr/include/python3.4m -I/home/jng/.virtualenvs/peakrisk2/include/python3.4m -c cextern/wcslib/C/flexed/wcsutrn.c -o build/temp.linux-x86_64-3.4/cextern/wcslib/C/flexed/wcsutrn.o\r\n"
     ]
    },
    {
     "name": "stdout",
     "output_type": "stream",
     "text": [
      "    wcsulex.l: In function ‘wcsulexe’:\r\n",
      "    <command-line>:0:6: warning: statement with no effect [-Wunused-value]\r\n",
      "    wcsulex.l:969:1: note: in expansion of macro ‘ECHO’\r\n",
      "    wcsulex.l: At top level:\r\n",
      "    wcsulex.c:8772:16: warning: ‘input’ defined but not used [-Wunused-function]\r\n"
     ]
    },
    {
     "name": "stdout",
     "output_type": "stream",
     "text": [
      "    x86_64-linux-gnu-gcc -pthread -DNDEBUG -g -fwrapv -O2 -Wall -Wstrict-prototypes -g -fstack-protector-strong -Wformat -Werror=format-security -D_FORTIFY_SOURCE=2 -fPIC -DECHO -DWCSTRIG_MACRO -DASTROPY_WCS_BUILD -D_GNU_SOURCE -DNDEBUG -DHAVE_SINCOS -UDEBUG -I/home/jng/.virtualenvs/peakrisk2/lib/python3.4/site-packages/numpy/core/include -Iastropy/wcs/include -Icextern/wcslib/C -I/usr/include/python3.4m -I/home/jng/.virtualenvs/peakrisk2/include/python3.4m -c cextern/wcslib/C/flexed/wcsulex.c -o build/temp.linux-x86_64-3.4/cextern/wcslib/C/flexed/wcsulex.o\r\n"
     ]
    },
    {
     "name": "stdout",
     "output_type": "stream",
     "text": [
      "    wcspih.l: At top level:\r\n",
      "    wcspih.c:10042:16: warning: ‘input’ defined but not used [-Wunused-function]\r\n"
     ]
    },
    {
     "name": "stdout",
     "output_type": "stream",
     "text": [
      "    wcspih.l: In function ‘wcspih’:\r\n",
      "    <command-line>:0:6: warning: statement with no effect [-Wunused-value]\r\n",
      "    wcspih.l:1022:1: note: in expansion of macro ‘ECHO’\r\n"
     ]
    },
    {
     "name": "stdout",
     "output_type": "stream",
     "text": [
      "    x86_64-linux-gnu-gcc -pthread -DNDEBUG -g -fwrapv -O2 -Wall -Wstrict-prototypes -g -fstack-protector-strong -Wformat -Werror=format-security -D_FORTIFY_SOURCE=2 -fPIC -DECHO -DWCSTRIG_MACRO -DASTROPY_WCS_BUILD -D_GNU_SOURCE -DNDEBUG -DHAVE_SINCOS -UDEBUG -I/home/jng/.virtualenvs/peakrisk2/lib/python3.4/site-packages/numpy/core/include -Iastropy/wcs/include -Icextern/wcslib/C -I/usr/include/python3.4m -I/home/jng/.virtualenvs/peakrisk2/include/python3.4m -c cextern/wcslib/C/flexed/wcspih.c -o build/temp.linux-x86_64-3.4/cextern/wcslib/C/flexed/wcspih.o\r\n"
     ]
    },
    {
     "name": "stdout",
     "output_type": "stream",
     "text": [
      "    wcsbth.l: At top level:\r\n",
      "    wcsbth.c:19949:16: warning: ‘input’ defined but not used [-Wunused-function]\r\n"
     ]
    },
    {
     "name": "stdout",
     "output_type": "stream",
     "text": [
      "    wcsbth.l: In function ‘wcsbth’:\r\n",
      "    <command-line>:0:6: warning: statement with no effect [-Wunused-value]\r\n",
      "    wcsbth.l:2078:1: note: in expansion of macro ‘ECHO’\r\n"
     ]
    },
    {
     "name": "stdout",
     "output_type": "stream",
     "text": [
      "    building 'astropy.wcs._wcs' extension\r\n",
      "    x86_64-linux-gnu-gcc -pthread -DNDEBUG -g -fwrapv -O2 -Wall -Wstrict-prototypes -g -fstack-protector-strong -Wformat -Werror=format-security -D_FORTIFY_SOURCE=2 -fPIC -DECHO -DWCSTRIG_MACRO -DASTROPY_WCS_BUILD -D_GNU_SOURCE -DNDEBUG -DHAVE_SINCOS -UDEBUG -I/home/jng/.virtualenvs/peakrisk2/lib/python3.4/site-packages/numpy/core/include -Iastropy/wcs/include -Icextern/wcslib/C -I/usr/include/python3.4m -I/home/jng/.virtualenvs/peakrisk2/include/python3.4m -c cextern/wcslib/C/flexed/wcsbth.c -o build/temp.linux-x86_64-3.4/cextern/wcslib/C/flexed/wcsbth.o\r\n"
     ]
    },
    {
     "name": "stdout",
     "output_type": "stream",
     "text": [
      "    x86_64-linux-gnu-gcc -pthread -shared -Wl,-O1 -Wl,-Bsymbolic-functions -Wl,-Bsymbolic-functions -Wl,-z,relro -Wl,-Bsymbolic-functions -Wl,-z,relro -g -fstack-protector-strong -Wformat -Werror=format-security -D_FORTIFY_SOURCE=2 build/temp.linux-x86_64-3.4/astropy/_erfa/core.o build/temp.linux-x86_64-3.4/cextern/erfa/bp00.o build/temp.linux-x86_64-3.4/cextern/erfa/fama03.o build/temp.linux-x86_64-3.4/cextern/erfa/taiutc.o build/temp.linux-x86_64-3.4/cextern/erfa/apci.o build/temp.linux-x86_64-3.4/cextern/erfa/icrs2g.o build/temp.linux-x86_64-3.4/cextern/erfa/plan94.o build/temp.linux-x86_64-3.4/cextern/erfa/atciq.o build/temp.linux-x86_64-3.4/cextern/erfa/starpm.o build/temp.linux-x86_64-3.4/cextern/erfa/pn06a.o build/temp.linux-x86_64-3.4/cextern/erfa/prec76.o build/temp.linux-x86_64-3.4/cextern/erfa/fw2m.o build/temp.linux-x86_64-3.4/cextern/erfa/g2icrs.o build/temp.linux-x86_64-3.4/cextern/erfa/apcg.o build/temp.linux-x86_64-3.4/cextern/erfa/pdp.o build/temp.linux-x86_64-3.4/cextern/erfa/cr.o build/temp.linux-x86_64-3.4/cextern/erfa/pmp.o build/temp.linux-x86_64-3.4/cextern/erfa/atioq.o build/temp.linux-x86_64-3.4/cextern/erfa/apio.o build/temp.linux-x86_64-3.4/cextern/erfa/gmst00.o build/temp.linux-x86_64-3.4/cextern/erfa/seps.o build/temp.linux-x86_64-3.4/cextern/erfa/s00a.o build/temp.linux-x86_64-3.4/cextern/erfa/pn.o build/temp.linux-x86_64-3.4/cextern/erfa/epj2jd.o build/temp.linux-x86_64-3.4/cextern/erfa/atic13.o build/temp.linux-x86_64-3.4/cextern/erfa/ppsp.o build/temp.linux-x86_64-3.4/cextern/erfa/atio13.o build/temp.linux-x86_64-3.4/cextern/erfa/pv2p.o build/temp.linux-x86_64-3.4/cextern/erfa/ldn.o build/temp.linux-x86_64-3.4/cextern/erfa/trxpv.o build/temp.linux-x86_64-3.4/cextern/erfa/pv2s.o build/temp.linux-x86_64-3.4/cextern/erfa/falp03.o build/temp.linux-x86_64-3.4/cextern/erfa/pn00a.o build/temp.linux-x86_64-3.4/cextern/erfa/ttut1.o build/temp.linux-x86_64-3.4/cextern/erfa/pvtob.o build/temp.linux-x86_64-3.4/cextern/erfa/pmsafe.o build/temp.linux-x86_64-3.4/cextern/erfa/pfw06.o build/temp.linux-x86_64-3.4/cextern/erfa/num00b.o build/temp.linux-x86_64-3.4/cextern/erfa/cal2jd.o build/temp.linux-x86_64-3.4/cextern/erfa/cpv.o build/temp.linux-x86_64-3.4/cextern/erfa/aticqn.o build/temp.linux-x86_64-3.4/cextern/erfa/rxp.o build/temp.linux-x86_64-3.4/cextern/erfa/ut1tt.o build/temp.linux-x86_64-3.4/cextern/erfa/rxpv.o build/temp.linux-x86_64-3.4/cextern/erfa/faju03.o build/temp.linux-x86_64-3.4/cextern/erfa/ldsun.o build/temp.linux-x86_64-3.4/cextern/erfa/sxpv.o build/temp.linux-x86_64-3.4/cextern/erfa/sp00.o build/temp.linux-x86_64-3.4/cextern/erfa/c2tpe.o build/temp.linux-x86_64-3.4/cextern/erfa/nut06a.o build/temp.linux-x86_64-3.4/cextern/erfa/cp.o build/temp.linux-x86_64-3.4/cextern/erfa/a2af.o build/temp.linux-x86_64-3.4/cextern/erfa/c2i06a.o build/temp.linux-x86_64-3.4/cextern/erfa/ir.o build/temp.linux-x86_64-3.4/cextern/erfa/gst00a.o build/temp.linux-x86_64-3.4/cextern/erfa/fane03.o build/temp.linux-x86_64-3.4/cextern/erfa/tdbtt.o build/temp.linux-x86_64-3.4/cextern/erfa/pvppv.o build/temp.linux-x86_64-3.4/cextern/erfa/rx.o build/temp.linux-x86_64-3.4/cextern/erfa/num06a.o build/temp.linux-x86_64-3.4/cextern/erfa/ld.o build/temp.linux-x86_64-3.4/cextern/erfa/gc2gd.o build/temp.linux-x86_64-3.4/cextern/erfa/gd2gce.o build/temp.linux-x86_64-3.4/cextern/erfa/pas.o build/temp.linux-x86_64-3.4/cextern/erfa/s00.o build/temp.linux-x86_64-3.4/cextern/erfa/fapa03.o build/temp.linux-x86_64-3.4/cextern/erfa/ppp.o build/temp.linux-x86_64-3.4/cextern/erfa/c2teqx.o build/temp.linux-x86_64-3.4/cextern/erfa/dtdb.o build/temp.linux-x86_64-3.4/cextern/erfa/zr.o build/temp.linux-x86_64-3.4/cextern/erfa/s2p.o build/temp.linux-x86_64-3.4/cextern/erfa/ab.o build/temp.linux-x86_64-3.4/cextern/erfa/pmat76.o build/temp.linux-x86_64-3.4/cextern/erfa/fal03.o build/temp.linux-x86_64-3.4/cextern/erfa/hfk5z.o build/temp.linux-x86_64-3.4/cextern/erfa/pb06.o build/temp.linux-x86_64-3.4/cextern/erfa/gst00b.o build/temp.linux-x86_64-3.4/cextern/erfa/c2ixy.o build/temp.linux-x86_64-3.4/cextern/erfa/xys00b.o build/temp.linux-x86_64-3.4/cextern/erfa/pvu.o build/temp.linux-x86_64-3.4/cextern/erfa/pvxpv.o build/temp.linux-x86_64-3.4/cextern/erfa/atoiq.o build/temp.linux-x86_64-3.4/cextern/erfa/dtf2d.o build/temp.linux-x86_64-3.4/cextern/erfa/ee00b.o build/temp.linux-x86_64-3.4/cextern/erfa/gmst82.o build/temp.linux-x86_64-3.4/cextern/erfa/c2t06a.o build/temp.linux-x86_64-3.4/cextern/erfa/fk5hz.o build/temp.linux-x86_64-3.4/cextern/erfa/apcs.o build/temp.linux-x86_64-3.4/cextern/erfa/p06e.o build/temp.linux-x86_64-3.4/cextern/erfa/fk5hip.o build/temp.linux-x86_64-3.4/cextern/erfa/s06.o build/temp.linux-x86_64-3.4/cextern/erfa/p2pv.o build/temp.linux-x86_64-3.4/cextern/erfa/tf2d.o build/temp.linux-x86_64-3.4/cextern/erfa/trxp.o build/temp.linux-x86_64-3.4/cextern/erfa/pmpx.o build/temp.linux-x86_64-3.4/cextern/erfa/anp.o build/temp.linux-x86_64-3.4/cextern/erfa/epb.o build/temp.linux-x86_64-3.4/cextern/erfa/utctai.o build/temp.linux-x86_64-3.4/cextern/erfa/epv00.o build/temp.linux-x86_64-3.4/cextern/erfa/c2i00b.o build/temp.linux-x86_64-3.4/cextern/erfa/tdbtcb.o build/temp.linux-x86_64-3.4/cextern/erfa/pn00b.o build/temp.linux-x86_64-3.4/cextern/erfa/fad03.o build/temp.linux-x86_64-3.4/cextern/erfa/rv2m.o build/temp.linux-x86_64-3.4/cextern/erfa/bp06.o build/temp.linux-x86_64-3.4/cextern/erfa/tr.o build/temp.linux-x86_64-3.4/cextern/erfa/apio13.o build/temp.linux-x86_64-3.4/cextern/erfa/taitt.o build/temp.linux-x86_64-3.4/cextern/erfa/h2fk5.o build/temp.linux-x86_64-3.4/cextern/erfa/ut1utc.o build/temp.linux-x86_64-3.4/cextern/erfa/ry.o build/temp.linux-x86_64-3.4/cextern/erfa/pnm00a.o build/temp.linux-x86_64-3.4/cextern/erfa/atci13.o build/temp.linux-x86_64-3.4/cextern/erfa/faur03.o build/temp.linux-x86_64-3.4/cextern/erfa/ee00.o build/temp.linux-x86_64-3.4/cextern/erfa/sxp.o build/temp.linux-x86_64-3.4/cextern/erfa/fasa03.o build/temp.linux-x86_64-3.4/cextern/erfa/pxp.o build/temp.linux-x86_64-3.4/cextern/erfa/refco.o build/temp.linux-x86_64-3.4/cextern/erfa/pvm.o build/temp.linux-x86_64-3.4/cextern/erfa/gst94.o build/temp.linux-x86_64-3.4/cextern/erfa/eqeq94.o build/temp.linux-x86_64-3.4/cextern/erfa/c2s.o build/temp.linux-x86_64-3.4/cextern/erfa/tf2a.o build/temp.linux-x86_64-3.4/cextern/erfa/bi00.o build/temp.linux-x86_64-3.4/cextern/erfa/xy06.o build/temp.linux-x86_64-3.4/cextern/erfa/rm2v.o build/temp.linux-x86_64-3.4/cextern/erfa/zp.o build/temp.linux-x86_64-3.4/cextern/erfa/pn06.o build/temp.linux-x86_64-3.4/cextern/erfa/fk52h.o build/temp.linux-x86_64-3.4/cextern/erfa/zpv.o build/temp.linux-x86_64-3.4/cextern/erfa/anpm.o build/temp.linux-x86_64-3.4/cextern/erfa/starpv.o build/temp.linux-x86_64-3.4/cextern/erfa/xys00a.o build/temp.linux-x86_64-3.4/cextern/erfa/tttcg.o build/temp.linux-x86_64-3.4/cextern/erfa/pnm06a.o build/temp.linux-x86_64-3.4/cextern/erfa/atoi13.o build/temp.linux-x86_64-3.4/cextern/erfa/obl06.o build/temp.linux-x86_64-3.4/cextern/erfa/atoc13.o build/temp.linux-x86_64-3.4/cextern/erfa/c2ixys.o build/temp.linux-x86_64-3.4/cextern/erfa/pr00.o build/temp.linux-x86_64-3.4/cextern/erfa/atciqn.o build/temp.linux-x86_64-3.4/cextern/erfa/xys06a.o build/temp.linux-x86_64-3.4/cextern/erfa/pmat00.o build/temp.linux-x86_64-3.4/cextern/erfa/ut1tai.o build/temp.linux-x86_64-3.4/cextern/erfa/s2pv.o build/temp.linux-x86_64-3.4/cextern/erfa/epj.o build/temp.linux-x86_64-3.4/cextern/erfa/apcg13.o build/temp.linux-x86_64-3.4/cextern/erfa/gc2gde.o build/temp.linux-x86_64-3.4/cextern/erfa/nut00a.o build/temp.linux-x86_64-3.4/cextern/erfa/pmat06.o build/temp.linux-x86_64-3.4/cextern/erfa/a2tf.o build/temp.linux-x86_64-3.4/cextern/erfa/fae03.o build/temp.linux-x86_64-3.4/cextern/erfa/ee06a.o build/temp.linux-x86_64-3.4/cextern/erfa/dat.o build/temp.linux-x86_64-3.4/cextern/erfa/p2s.o build/temp.linux-x86_64-3.4/cextern/erfa/obl80.o build/temp.linux-x86_64-3.4/cextern/erfa/rz.o build/temp.linux-x86_64-3.4/cextern/erfa/pap.o build/temp.linux-x86_64-3.4/cextern/erfa/atciqz.o build/temp.linux-x86_64-3.4/cextern/erfa/s00b.o build/temp.linux-x86_64-3.4/cextern/erfa/pvup.o build/temp.linux-x86_64-3.4/cextern/erfa/d2tf.o build/temp.linux-x86_64-3.4/cextern/erfa/eect00.o build/temp.linux-x86_64-3.4/cextern/erfa/eo06a.o build/temp.linux-x86_64-3.4/cextern/erfa/apcs13.o build/temp.linux-x86_64-3.4/cextern/erfa/pnm00b.o build/temp.linux-x86_64-3.4/cextern/erfa/pom00.o build/temp.linux-x86_64-3.4/cextern/erfa/c2i00a.o build/temp.linux-x86_64-3.4/cextern/erfa/tcgtt.o build/temp.linux-x86_64-3.4/cextern/erfa/fw2xy.o build/temp.linux-x86_64-3.4/cextern/erfa/rxr.o build/temp.linux-x86_64-3.4/cextern/erfa/sepp.o build/temp.linux-x86_64-3.4/cextern/erfa/apco13.o build/temp.linux-x86_64-3.4/cextern/erfa/s2c.o build/temp.linux-x86_64-3.4/cextern/erfa/gmst06.o build/temp.linux-x86_64-3.4/cextern/erfa/d2dtf.o build/temp.linux-x86_64-3.4/cextern/erfa/c2t00b.o build/temp.linux-x86_64-3.4/cextern/erfa/pvmpv.o build/temp.linux-x86_64-3.4/cextern/erfa/fame03.o build/temp.linux-x86_64-3.4/cextern/erfa/numat.o build/temp.linux-x86_64-3.4/cextern/erfa/s06a.o build/temp.linux-x86_64-3.4/cextern/erfa/c2tcio.o build/temp.linux-x86_64-3.4/cextern/erfa/c2ibpn.o build/temp.linux-x86_64-3.4/cextern/erfa/pvdpv.o build/temp.linux-x86_64-3.4/cextern/erfa/apco.o build/temp.linux-x86_64-3.4/cextern/erfa/aticq.o build/temp.linux-x86_64-3.4/cextern/erfa/nutm80.o build/temp.linux-x86_64-3.4/cextern/erfa/jd2cal.o build/temp.linux-x86_64-3.4/cextern/erfa/pn00.o build/temp.linux-x86_64-3.4/cextern/erfa/faom03.o build/temp.linux-x86_64-3.4/cextern/erfa/epb2jd.o build/temp.linux-x86_64-3.4/cextern/erfa/bpn2xy.o build/temp.linux-x86_64-3.4/cextern/erfa/aper13.o build/temp.linux-x86_64-3.4/cextern/erfa/c2t00a.o build/temp.linux-x86_64-3.4/cextern/erfa/atco13.o build/temp.linux-x86_64-3.4/cextern/erfa/eors.o build/temp.linux-x86_64-3.4/cextern/erfa/pvstar.o build/temp.linux-x86_64-3.4/cextern/erfa/pm.o build/temp.linux-x86_64-3.4/cextern/erfa/jdcalf.o build/temp.linux-x86_64-3.4/cextern/erfa/nut00b.o build/temp.linux-x86_64-3.4/cextern/erfa/c2txy.o build/temp.linux-x86_64-3.4/cextern/erfa/eform.o build/temp.linux-x86_64-3.4/cextern/erfa/af2a.o build/temp.linux-x86_64-3.4/cextern/erfa/gst06.o build/temp.linux-x86_64-3.4/cextern/erfa/apci13.o build/temp.linux-x86_64-3.4/cextern/erfa/num00a.o build/temp.linux-x86_64-3.4/cextern/erfa/pnm80.o build/temp.linux-x86_64-3.4/cextern/erfa/aper.o build/temp.linux-x86_64-3.4/cextern/erfa/era00.o build/temp.linux-x86_64-3.4/cextern/erfa/gd2gc.o build/temp.linux-x86_64-3.4/cextern/erfa/utcut1.o build/temp.linux-x86_64-3.4/cextern/erfa/gst06a.o build/temp.linux-x86_64-3.4/cextern/erfa/s2xpv.o build/temp.linux-x86_64-3.4/cextern/erfa/fave03.o build/temp.linux-x86_64-3.4/cextern/erfa/nut80.o build/temp.linux-x86_64-3.4/cextern/erfa/ee00a.o build/temp.linux-x86_64-3.4/cextern/erfa/taiut1.o build/temp.linux-x86_64-3.4/cextern/erfa/tttai.o build/temp.linux-x86_64-3.4/cextern/erfa/faf03.o build/temp.linux-x86_64-3.4/cextern/erfa/tttdb.o build/temp.linux-x86_64-3.4/cextern/erfa/tcbtdb.o -o build/lib.linux-x86_64-3.4/astropy/_erfa/_core.cpython-34m.so\r\n"
     ]
    },
    {
     "name": "stdout",
     "output_type": "stream",
     "text": [
      "    x86_64-linux-gnu-gcc -pthread -DNDEBUG -g -fwrapv -O2 -Wall -Wstrict-prototypes -g -fstack-protector-strong -Wformat -Werror=format-security -D_FORTIFY_SOURCE=2 -fPIC -I/home/jng/.virtualenvs/peakrisk2/lib/python3.4/site-packages/numpy/core/include -Icextern/erfa -I/usr/include/python3.4m -I/home/jng/.virtualenvs/peakrisk2/include/python3.4m -c cextern/erfa/tcbtdb.c -o build/temp.linux-x86_64-3.4/cextern/erfa/tcbtdb.o\r\n"
     ]
    },
    {
     "name": "stdout",
     "output_type": "stream",
     "text": [
      "    x86_64-linux-gnu-gcc -pthread -DNDEBUG -g -fwrapv -O2 -Wall -Wstrict-prototypes -g -fstack-protector-strong -Wformat -Werror=format-security -D_FORTIFY_SOURCE=2 -fPIC -I/home/jng/.virtualenvs/peakrisk2/lib/python3.4/site-packages/numpy/core/include -Icextern/erfa -I/usr/include/python3.4m -I/home/jng/.virtualenvs/peakrisk2/include/python3.4m -c cextern/erfa/tttdb.c -o build/temp.linux-x86_64-3.4/cextern/erfa/tttdb.o\r\n"
     ]
    },
    {
     "name": "stdout",
     "output_type": "stream",
     "text": [
      "    x86_64-linux-gnu-gcc -pthread -DNDEBUG -g -fwrapv -O2 -Wall -Wstrict-prototypes -g -fstack-protector-strong -Wformat -Werror=format-security -D_FORTIFY_SOURCE=2 -fPIC -I/home/jng/.virtualenvs/peakrisk2/lib/python3.4/site-packages/numpy/core/include -Icextern/erfa -I/usr/include/python3.4m -I/home/jng/.virtualenvs/peakrisk2/include/python3.4m -c cextern/erfa/faf03.c -o build/temp.linux-x86_64-3.4/cextern/erfa/faf03.o\r\n"
     ]
    },
    {
     "name": "stdout",
     "output_type": "stream",
     "text": [
      "    x86_64-linux-gnu-gcc -pthread -DNDEBUG -g -fwrapv -O2 -Wall -Wstrict-prototypes -g -fstack-protector-strong -Wformat -Werror=format-security -D_FORTIFY_SOURCE=2 -fPIC -I/home/jng/.virtualenvs/peakrisk2/lib/python3.4/site-packages/numpy/core/include -Icextern/erfa -I/usr/include/python3.4m -I/home/jng/.virtualenvs/peakrisk2/include/python3.4m -c cextern/erfa/tttai.c -o build/temp.linux-x86_64-3.4/cextern/erfa/tttai.o\r\n"
     ]
    },
    {
     "name": "stdout",
     "output_type": "stream",
     "text": [
      "    x86_64-linux-gnu-gcc -pthread -DNDEBUG -g -fwrapv -O2 -Wall -Wstrict-prototypes -g -fstack-protector-strong -Wformat -Werror=format-security -D_FORTIFY_SOURCE=2 -fPIC -I/home/jng/.virtualenvs/peakrisk2/lib/python3.4/site-packages/numpy/core/include -Icextern/erfa -I/usr/include/python3.4m -I/home/jng/.virtualenvs/peakrisk2/include/python3.4m -c cextern/erfa/taiut1.c -o build/temp.linux-x86_64-3.4/cextern/erfa/taiut1.o\r\n"
     ]
    },
    {
     "name": "stdout",
     "output_type": "stream",
     "text": [
      "    x86_64-linux-gnu-gcc -pthread -DNDEBUG -g -fwrapv -O2 -Wall -Wstrict-prototypes -g -fstack-protector-strong -Wformat -Werror=format-security -D_FORTIFY_SOURCE=2 -fPIC -I/home/jng/.virtualenvs/peakrisk2/lib/python3.4/site-packages/numpy/core/include -Icextern/erfa -I/usr/include/python3.4m -I/home/jng/.virtualenvs/peakrisk2/include/python3.4m -c cextern/erfa/ee00a.c -o build/temp.linux-x86_64-3.4/cextern/erfa/ee00a.o\r\n"
     ]
    },
    {
     "name": "stdout",
     "output_type": "stream",
     "text": [
      "    x86_64-linux-gnu-gcc -pthread -DNDEBUG -g -fwrapv -O2 -Wall -Wstrict-prototypes -g -fstack-protector-strong -Wformat -Werror=format-security -D_FORTIFY_SOURCE=2 -fPIC -I/home/jng/.virtualenvs/peakrisk2/lib/python3.4/site-packages/numpy/core/include -Icextern/erfa -I/usr/include/python3.4m -I/home/jng/.virtualenvs/peakrisk2/include/python3.4m -c cextern/erfa/nut80.c -o build/temp.linux-x86_64-3.4/cextern/erfa/nut80.o\r\n"
     ]
    },
    {
     "name": "stdout",
     "output_type": "stream",
     "text": [
      "    x86_64-linux-gnu-gcc -pthread -DNDEBUG -g -fwrapv -O2 -Wall -Wstrict-prototypes -g -fstack-protector-strong -Wformat -Werror=format-security -D_FORTIFY_SOURCE=2 -fPIC -I/home/jng/.virtualenvs/peakrisk2/lib/python3.4/site-packages/numpy/core/include -Icextern/erfa -I/usr/include/python3.4m -I/home/jng/.virtualenvs/peakrisk2/include/python3.4m -c cextern/erfa/fave03.c -o build/temp.linux-x86_64-3.4/cextern/erfa/fave03.o\r\n"
     ]
    },
    {
     "name": "stdout",
     "output_type": "stream",
     "text": [
      "    x86_64-linux-gnu-gcc -pthread -DNDEBUG -g -fwrapv -O2 -Wall -Wstrict-prototypes -g -fstack-protector-strong -Wformat -Werror=format-security -D_FORTIFY_SOURCE=2 -fPIC -I/home/jng/.virtualenvs/peakrisk2/lib/python3.4/site-packages/numpy/core/include -Icextern/erfa -I/usr/include/python3.4m -I/home/jng/.virtualenvs/peakrisk2/include/python3.4m -c cextern/erfa/s2xpv.c -o build/temp.linux-x86_64-3.4/cextern/erfa/s2xpv.o\r\n"
     ]
    },
    {
     "name": "stdout",
     "output_type": "stream",
     "text": [
      "    x86_64-linux-gnu-gcc -pthread -DNDEBUG -g -fwrapv -O2 -Wall -Wstrict-prototypes -g -fstack-protector-strong -Wformat -Werror=format-security -D_FORTIFY_SOURCE=2 -fPIC -I/home/jng/.virtualenvs/peakrisk2/lib/python3.4/site-packages/numpy/core/include -Icextern/erfa -I/usr/include/python3.4m -I/home/jng/.virtualenvs/peakrisk2/include/python3.4m -c cextern/erfa/gst06a.c -o build/temp.linux-x86_64-3.4/cextern/erfa/gst06a.o\r\n"
     ]
    },
    {
     "name": "stdout",
     "output_type": "stream",
     "text": [
      "    x86_64-linux-gnu-gcc -pthread -DNDEBUG -g -fwrapv -O2 -Wall -Wstrict-prototypes -g -fstack-protector-strong -Wformat -Werror=format-security -D_FORTIFY_SOURCE=2 -fPIC -I/home/jng/.virtualenvs/peakrisk2/lib/python3.4/site-packages/numpy/core/include -Icextern/erfa -I/usr/include/python3.4m -I/home/jng/.virtualenvs/peakrisk2/include/python3.4m -c cextern/erfa/utcut1.c -o build/temp.linux-x86_64-3.4/cextern/erfa/utcut1.o\r\n"
     ]
    },
    {
     "name": "stdout",
     "output_type": "stream",
     "text": [
      "    x86_64-linux-gnu-gcc -pthread -DNDEBUG -g -fwrapv -O2 -Wall -Wstrict-prototypes -g -fstack-protector-strong -Wformat -Werror=format-security -D_FORTIFY_SOURCE=2 -fPIC -I/home/jng/.virtualenvs/peakrisk2/lib/python3.4/site-packages/numpy/core/include -Icextern/erfa -I/usr/include/python3.4m -I/home/jng/.virtualenvs/peakrisk2/include/python3.4m -c cextern/erfa/gd2gc.c -o build/temp.linux-x86_64-3.4/cextern/erfa/gd2gc.o\r\n"
     ]
    },
    {
     "name": "stdout",
     "output_type": "stream",
     "text": [
      "    x86_64-linux-gnu-gcc -pthread -DNDEBUG -g -fwrapv -O2 -Wall -Wstrict-prototypes -g -fstack-protector-strong -Wformat -Werror=format-security -D_FORTIFY_SOURCE=2 -fPIC -I/home/jng/.virtualenvs/peakrisk2/lib/python3.4/site-packages/numpy/core/include -Icextern/erfa -I/usr/include/python3.4m -I/home/jng/.virtualenvs/peakrisk2/include/python3.4m -c cextern/erfa/era00.c -o build/temp.linux-x86_64-3.4/cextern/erfa/era00.o\r\n"
     ]
    },
    {
     "name": "stdout",
     "output_type": "stream",
     "text": [
      "    x86_64-linux-gnu-gcc -pthread -DNDEBUG -g -fwrapv -O2 -Wall -Wstrict-prototypes -g -fstack-protector-strong -Wformat -Werror=format-security -D_FORTIFY_SOURCE=2 -fPIC -I/home/jng/.virtualenvs/peakrisk2/lib/python3.4/site-packages/numpy/core/include -Icextern/erfa -I/usr/include/python3.4m -I/home/jng/.virtualenvs/peakrisk2/include/python3.4m -c cextern/erfa/aper.c -o build/temp.linux-x86_64-3.4/cextern/erfa/aper.o\r\n"
     ]
    },
    {
     "name": "stdout",
     "output_type": "stream",
     "text": [
      "    x86_64-linux-gnu-gcc -pthread -DNDEBUG -g -fwrapv -O2 -Wall -Wstrict-prototypes -g -fstack-protector-strong -Wformat -Werror=format-security -D_FORTIFY_SOURCE=2 -fPIC -I/home/jng/.virtualenvs/peakrisk2/lib/python3.4/site-packages/numpy/core/include -Icextern/erfa -I/usr/include/python3.4m -I/home/jng/.virtualenvs/peakrisk2/include/python3.4m -c cextern/erfa/pnm80.c -o build/temp.linux-x86_64-3.4/cextern/erfa/pnm80.o\r\n"
     ]
    },
    {
     "name": "stdout",
     "output_type": "stream",
     "text": [
      "    x86_64-linux-gnu-gcc -pthread -DNDEBUG -g -fwrapv -O2 -Wall -Wstrict-prototypes -g -fstack-protector-strong -Wformat -Werror=format-security -D_FORTIFY_SOURCE=2 -fPIC -I/home/jng/.virtualenvs/peakrisk2/lib/python3.4/site-packages/numpy/core/include -Icextern/erfa -I/usr/include/python3.4m -I/home/jng/.virtualenvs/peakrisk2/include/python3.4m -c cextern/erfa/num00a.c -o build/temp.linux-x86_64-3.4/cextern/erfa/num00a.o\r\n"
     ]
    },
    {
     "name": "stdout",
     "output_type": "stream",
     "text": [
      "    x86_64-linux-gnu-gcc -pthread -DNDEBUG -g -fwrapv -O2 -Wall -Wstrict-prototypes -g -fstack-protector-strong -Wformat -Werror=format-security -D_FORTIFY_SOURCE=2 -fPIC -I/home/jng/.virtualenvs/peakrisk2/lib/python3.4/site-packages/numpy/core/include -Icextern/erfa -I/usr/include/python3.4m -I/home/jng/.virtualenvs/peakrisk2/include/python3.4m -c cextern/erfa/apci13.c -o build/temp.linux-x86_64-3.4/cextern/erfa/apci13.o\r\n"
     ]
    },
    {
     "name": "stdout",
     "output_type": "stream",
     "text": [
      "    x86_64-linux-gnu-gcc -pthread -DNDEBUG -g -fwrapv -O2 -Wall -Wstrict-prototypes -g -fstack-protector-strong -Wformat -Werror=format-security -D_FORTIFY_SOURCE=2 -fPIC -I/home/jng/.virtualenvs/peakrisk2/lib/python3.4/site-packages/numpy/core/include -Icextern/erfa -I/usr/include/python3.4m -I/home/jng/.virtualenvs/peakrisk2/include/python3.4m -c cextern/erfa/gst06.c -o build/temp.linux-x86_64-3.4/cextern/erfa/gst06.o\r\n"
     ]
    },
    {
     "name": "stdout",
     "output_type": "stream",
     "text": [
      "    x86_64-linux-gnu-gcc -pthread -DNDEBUG -g -fwrapv -O2 -Wall -Wstrict-prototypes -g -fstack-protector-strong -Wformat -Werror=format-security -D_FORTIFY_SOURCE=2 -fPIC -I/home/jng/.virtualenvs/peakrisk2/lib/python3.4/site-packages/numpy/core/include -Icextern/erfa -I/usr/include/python3.4m -I/home/jng/.virtualenvs/peakrisk2/include/python3.4m -c cextern/erfa/af2a.c -o build/temp.linux-x86_64-3.4/cextern/erfa/af2a.o\r\n"
     ]
    },
    {
     "name": "stdout",
     "output_type": "stream",
     "text": [
      "    x86_64-linux-gnu-gcc -pthread -DNDEBUG -g -fwrapv -O2 -Wall -Wstrict-prototypes -g -fstack-protector-strong -Wformat -Werror=format-security -D_FORTIFY_SOURCE=2 -fPIC -I/home/jng/.virtualenvs/peakrisk2/lib/python3.4/site-packages/numpy/core/include -Icextern/erfa -I/usr/include/python3.4m -I/home/jng/.virtualenvs/peakrisk2/include/python3.4m -c cextern/erfa/eform.c -o build/temp.linux-x86_64-3.4/cextern/erfa/eform.o\r\n"
     ]
    },
    {
     "name": "stdout",
     "output_type": "stream",
     "text": [
      "    x86_64-linux-gnu-gcc -pthread -DNDEBUG -g -fwrapv -O2 -Wall -Wstrict-prototypes -g -fstack-protector-strong -Wformat -Werror=format-security -D_FORTIFY_SOURCE=2 -fPIC -I/home/jng/.virtualenvs/peakrisk2/lib/python3.4/site-packages/numpy/core/include -Icextern/erfa -I/usr/include/python3.4m -I/home/jng/.virtualenvs/peakrisk2/include/python3.4m -c cextern/erfa/c2txy.c -o build/temp.linux-x86_64-3.4/cextern/erfa/c2txy.o\r\n"
     ]
    },
    {
     "name": "stdout",
     "output_type": "stream",
     "text": [
      "    x86_64-linux-gnu-gcc -pthread -DNDEBUG -g -fwrapv -O2 -Wall -Wstrict-prototypes -g -fstack-protector-strong -Wformat -Werror=format-security -D_FORTIFY_SOURCE=2 -fPIC -I/home/jng/.virtualenvs/peakrisk2/lib/python3.4/site-packages/numpy/core/include -Icextern/erfa -I/usr/include/python3.4m -I/home/jng/.virtualenvs/peakrisk2/include/python3.4m -c cextern/erfa/nut00b.c -o build/temp.linux-x86_64-3.4/cextern/erfa/nut00b.o\r\n"
     ]
    },
    {
     "name": "stdout",
     "output_type": "stream",
     "text": [
      "    x86_64-linux-gnu-gcc -pthread -DNDEBUG -g -fwrapv -O2 -Wall -Wstrict-prototypes -g -fstack-protector-strong -Wformat -Werror=format-security -D_FORTIFY_SOURCE=2 -fPIC -I/home/jng/.virtualenvs/peakrisk2/lib/python3.4/site-packages/numpy/core/include -Icextern/erfa -I/usr/include/python3.4m -I/home/jng/.virtualenvs/peakrisk2/include/python3.4m -c cextern/erfa/jdcalf.c -o build/temp.linux-x86_64-3.4/cextern/erfa/jdcalf.o\r\n"
     ]
    },
    {
     "name": "stdout",
     "output_type": "stream",
     "text": [
      "    x86_64-linux-gnu-gcc -pthread -DNDEBUG -g -fwrapv -O2 -Wall -Wstrict-prototypes -g -fstack-protector-strong -Wformat -Werror=format-security -D_FORTIFY_SOURCE=2 -fPIC -I/home/jng/.virtualenvs/peakrisk2/lib/python3.4/site-packages/numpy/core/include -Icextern/erfa -I/usr/include/python3.4m -I/home/jng/.virtualenvs/peakrisk2/include/python3.4m -c cextern/erfa/pm.c -o build/temp.linux-x86_64-3.4/cextern/erfa/pm.o\r\n"
     ]
    },
    {
     "name": "stdout",
     "output_type": "stream",
     "text": [
      "    x86_64-linux-gnu-gcc -pthread -DNDEBUG -g -fwrapv -O2 -Wall -Wstrict-prototypes -g -fstack-protector-strong -Wformat -Werror=format-security -D_FORTIFY_SOURCE=2 -fPIC -I/home/jng/.virtualenvs/peakrisk2/lib/python3.4/site-packages/numpy/core/include -Icextern/erfa -I/usr/include/python3.4m -I/home/jng/.virtualenvs/peakrisk2/include/python3.4m -c cextern/erfa/pvstar.c -o build/temp.linux-x86_64-3.4/cextern/erfa/pvstar.o\r\n"
     ]
    },
    {
     "name": "stdout",
     "output_type": "stream",
     "text": [
      "    x86_64-linux-gnu-gcc -pthread -DNDEBUG -g -fwrapv -O2 -Wall -Wstrict-prototypes -g -fstack-protector-strong -Wformat -Werror=format-security -D_FORTIFY_SOURCE=2 -fPIC -I/home/jng/.virtualenvs/peakrisk2/lib/python3.4/site-packages/numpy/core/include -Icextern/erfa -I/usr/include/python3.4m -I/home/jng/.virtualenvs/peakrisk2/include/python3.4m -c cextern/erfa/eors.c -o build/temp.linux-x86_64-3.4/cextern/erfa/eors.o\r\n"
     ]
    },
    {
     "name": "stdout",
     "output_type": "stream",
     "text": [
      "    x86_64-linux-gnu-gcc -pthread -DNDEBUG -g -fwrapv -O2 -Wall -Wstrict-prototypes -g -fstack-protector-strong -Wformat -Werror=format-security -D_FORTIFY_SOURCE=2 -fPIC -I/home/jng/.virtualenvs/peakrisk2/lib/python3.4/site-packages/numpy/core/include -Icextern/erfa -I/usr/include/python3.4m -I/home/jng/.virtualenvs/peakrisk2/include/python3.4m -c cextern/erfa/atco13.c -o build/temp.linux-x86_64-3.4/cextern/erfa/atco13.o\r\n"
     ]
    },
    {
     "name": "stdout",
     "output_type": "stream",
     "text": [
      "    x86_64-linux-gnu-gcc -pthread -DNDEBUG -g -fwrapv -O2 -Wall -Wstrict-prototypes -g -fstack-protector-strong -Wformat -Werror=format-security -D_FORTIFY_SOURCE=2 -fPIC -I/home/jng/.virtualenvs/peakrisk2/lib/python3.4/site-packages/numpy/core/include -Icextern/erfa -I/usr/include/python3.4m -I/home/jng/.virtualenvs/peakrisk2/include/python3.4m -c cextern/erfa/c2t00a.c -o build/temp.linux-x86_64-3.4/cextern/erfa/c2t00a.o\r\n"
     ]
    },
    {
     "name": "stdout",
     "output_type": "stream",
     "text": [
      "    x86_64-linux-gnu-gcc -pthread -DNDEBUG -g -fwrapv -O2 -Wall -Wstrict-prototypes -g -fstack-protector-strong -Wformat -Werror=format-security -D_FORTIFY_SOURCE=2 -fPIC -I/home/jng/.virtualenvs/peakrisk2/lib/python3.4/site-packages/numpy/core/include -Icextern/erfa -I/usr/include/python3.4m -I/home/jng/.virtualenvs/peakrisk2/include/python3.4m -c cextern/erfa/aper13.c -o build/temp.linux-x86_64-3.4/cextern/erfa/aper13.o\r\n"
     ]
    },
    {
     "name": "stdout",
     "output_type": "stream",
     "text": [
      "    x86_64-linux-gnu-gcc -pthread -DNDEBUG -g -fwrapv -O2 -Wall -Wstrict-prototypes -g -fstack-protector-strong -Wformat -Werror=format-security -D_FORTIFY_SOURCE=2 -fPIC -I/home/jng/.virtualenvs/peakrisk2/lib/python3.4/site-packages/numpy/core/include -Icextern/erfa -I/usr/include/python3.4m -I/home/jng/.virtualenvs/peakrisk2/include/python3.4m -c cextern/erfa/bpn2xy.c -o build/temp.linux-x86_64-3.4/cextern/erfa/bpn2xy.o\r\n"
     ]
    },
    {
     "name": "stdout",
     "output_type": "stream",
     "text": [
      "    x86_64-linux-gnu-gcc -pthread -DNDEBUG -g -fwrapv -O2 -Wall -Wstrict-prototypes -g -fstack-protector-strong -Wformat -Werror=format-security -D_FORTIFY_SOURCE=2 -fPIC -I/home/jng/.virtualenvs/peakrisk2/lib/python3.4/site-packages/numpy/core/include -Icextern/erfa -I/usr/include/python3.4m -I/home/jng/.virtualenvs/peakrisk2/include/python3.4m -c cextern/erfa/epb2jd.c -o build/temp.linux-x86_64-3.4/cextern/erfa/epb2jd.o\r\n"
     ]
    },
    {
     "name": "stdout",
     "output_type": "stream",
     "text": [
      "    x86_64-linux-gnu-gcc -pthread -DNDEBUG -g -fwrapv -O2 -Wall -Wstrict-prototypes -g -fstack-protector-strong -Wformat -Werror=format-security -D_FORTIFY_SOURCE=2 -fPIC -I/home/jng/.virtualenvs/peakrisk2/lib/python3.4/site-packages/numpy/core/include -Icextern/erfa -I/usr/include/python3.4m -I/home/jng/.virtualenvs/peakrisk2/include/python3.4m -c cextern/erfa/faom03.c -o build/temp.linux-x86_64-3.4/cextern/erfa/faom03.o\r\n"
     ]
    },
    {
     "name": "stdout",
     "output_type": "stream",
     "text": [
      "    x86_64-linux-gnu-gcc -pthread -DNDEBUG -g -fwrapv -O2 -Wall -Wstrict-prototypes -g -fstack-protector-strong -Wformat -Werror=format-security -D_FORTIFY_SOURCE=2 -fPIC -I/home/jng/.virtualenvs/peakrisk2/lib/python3.4/site-packages/numpy/core/include -Icextern/erfa -I/usr/include/python3.4m -I/home/jng/.virtualenvs/peakrisk2/include/python3.4m -c cextern/erfa/pn00.c -o build/temp.linux-x86_64-3.4/cextern/erfa/pn00.o\r\n"
     ]
    },
    {
     "name": "stdout",
     "output_type": "stream",
     "text": [
      "    x86_64-linux-gnu-gcc -pthread -DNDEBUG -g -fwrapv -O2 -Wall -Wstrict-prototypes -g -fstack-protector-strong -Wformat -Werror=format-security -D_FORTIFY_SOURCE=2 -fPIC -I/home/jng/.virtualenvs/peakrisk2/lib/python3.4/site-packages/numpy/core/include -Icextern/erfa -I/usr/include/python3.4m -I/home/jng/.virtualenvs/peakrisk2/include/python3.4m -c cextern/erfa/jd2cal.c -o build/temp.linux-x86_64-3.4/cextern/erfa/jd2cal.o\r\n"
     ]
    },
    {
     "name": "stdout",
     "output_type": "stream",
     "text": [
      "    x86_64-linux-gnu-gcc -pthread -DNDEBUG -g -fwrapv -O2 -Wall -Wstrict-prototypes -g -fstack-protector-strong -Wformat -Werror=format-security -D_FORTIFY_SOURCE=2 -fPIC -I/home/jng/.virtualenvs/peakrisk2/lib/python3.4/site-packages/numpy/core/include -Icextern/erfa -I/usr/include/python3.4m -I/home/jng/.virtualenvs/peakrisk2/include/python3.4m -c cextern/erfa/nutm80.c -o build/temp.linux-x86_64-3.4/cextern/erfa/nutm80.o\r\n"
     ]
    },
    {
     "name": "stdout",
     "output_type": "stream",
     "text": [
      "    x86_64-linux-gnu-gcc -pthread -DNDEBUG -g -fwrapv -O2 -Wall -Wstrict-prototypes -g -fstack-protector-strong -Wformat -Werror=format-security -D_FORTIFY_SOURCE=2 -fPIC -I/home/jng/.virtualenvs/peakrisk2/lib/python3.4/site-packages/numpy/core/include -Icextern/erfa -I/usr/include/python3.4m -I/home/jng/.virtualenvs/peakrisk2/include/python3.4m -c cextern/erfa/aticq.c -o build/temp.linux-x86_64-3.4/cextern/erfa/aticq.o\r\n"
     ]
    },
    {
     "name": "stdout",
     "output_type": "stream",
     "text": [
      "    x86_64-linux-gnu-gcc -pthread -DNDEBUG -g -fwrapv -O2 -Wall -Wstrict-prototypes -g -fstack-protector-strong -Wformat -Werror=format-security -D_FORTIFY_SOURCE=2 -fPIC -I/home/jng/.virtualenvs/peakrisk2/lib/python3.4/site-packages/numpy/core/include -Icextern/erfa -I/usr/include/python3.4m -I/home/jng/.virtualenvs/peakrisk2/include/python3.4m -c cextern/erfa/apco.c -o build/temp.linux-x86_64-3.4/cextern/erfa/apco.o\r\n"
     ]
    },
    {
     "name": "stdout",
     "output_type": "stream",
     "text": [
      "    x86_64-linux-gnu-gcc -pthread -DNDEBUG -g -fwrapv -O2 -Wall -Wstrict-prototypes -g -fstack-protector-strong -Wformat -Werror=format-security -D_FORTIFY_SOURCE=2 -fPIC -I/home/jng/.virtualenvs/peakrisk2/lib/python3.4/site-packages/numpy/core/include -Icextern/erfa -I/usr/include/python3.4m -I/home/jng/.virtualenvs/peakrisk2/include/python3.4m -c cextern/erfa/pvdpv.c -o build/temp.linux-x86_64-3.4/cextern/erfa/pvdpv.o\r\n"
     ]
    },
    {
     "name": "stdout",
     "output_type": "stream",
     "text": [
      "    x86_64-linux-gnu-gcc -pthread -DNDEBUG -g -fwrapv -O2 -Wall -Wstrict-prototypes -g -fstack-protector-strong -Wformat -Werror=format-security -D_FORTIFY_SOURCE=2 -fPIC -I/home/jng/.virtualenvs/peakrisk2/lib/python3.4/site-packages/numpy/core/include -Icextern/erfa -I/usr/include/python3.4m -I/home/jng/.virtualenvs/peakrisk2/include/python3.4m -c cextern/erfa/c2ibpn.c -o build/temp.linux-x86_64-3.4/cextern/erfa/c2ibpn.o\r\n"
     ]
    },
    {
     "name": "stdout",
     "output_type": "stream",
     "text": [
      "    x86_64-linux-gnu-gcc -pthread -DNDEBUG -g -fwrapv -O2 -Wall -Wstrict-prototypes -g -fstack-protector-strong -Wformat -Werror=format-security -D_FORTIFY_SOURCE=2 -fPIC -I/home/jng/.virtualenvs/peakrisk2/lib/python3.4/site-packages/numpy/core/include -Icextern/erfa -I/usr/include/python3.4m -I/home/jng/.virtualenvs/peakrisk2/include/python3.4m -c cextern/erfa/c2tcio.c -o build/temp.linux-x86_64-3.4/cextern/erfa/c2tcio.o\r\n"
     ]
    },
    {
     "name": "stdout",
     "output_type": "stream",
     "text": [
      "    x86_64-linux-gnu-gcc -pthread -DNDEBUG -g -fwrapv -O2 -Wall -Wstrict-prototypes -g -fstack-protector-strong -Wformat -Werror=format-security -D_FORTIFY_SOURCE=2 -fPIC -I/home/jng/.virtualenvs/peakrisk2/lib/python3.4/site-packages/numpy/core/include -Icextern/erfa -I/usr/include/python3.4m -I/home/jng/.virtualenvs/peakrisk2/include/python3.4m -c cextern/erfa/s06a.c -o build/temp.linux-x86_64-3.4/cextern/erfa/s06a.o\r\n"
     ]
    },
    {
     "name": "stdout",
     "output_type": "stream",
     "text": [
      "    x86_64-linux-gnu-gcc -pthread -DNDEBUG -g -fwrapv -O2 -Wall -Wstrict-prototypes -g -fstack-protector-strong -Wformat -Werror=format-security -D_FORTIFY_SOURCE=2 -fPIC -I/home/jng/.virtualenvs/peakrisk2/lib/python3.4/site-packages/numpy/core/include -Icextern/erfa -I/usr/include/python3.4m -I/home/jng/.virtualenvs/peakrisk2/include/python3.4m -c cextern/erfa/numat.c -o build/temp.linux-x86_64-3.4/cextern/erfa/numat.o\r\n"
     ]
    },
    {
     "name": "stdout",
     "output_type": "stream",
     "text": [
      "    x86_64-linux-gnu-gcc -pthread -DNDEBUG -g -fwrapv -O2 -Wall -Wstrict-prototypes -g -fstack-protector-strong -Wformat -Werror=format-security -D_FORTIFY_SOURCE=2 -fPIC -I/home/jng/.virtualenvs/peakrisk2/lib/python3.4/site-packages/numpy/core/include -Icextern/erfa -I/usr/include/python3.4m -I/home/jng/.virtualenvs/peakrisk2/include/python3.4m -c cextern/erfa/fame03.c -o build/temp.linux-x86_64-3.4/cextern/erfa/fame03.o\r\n"
     ]
    },
    {
     "name": "stdout",
     "output_type": "stream",
     "text": [
      "    x86_64-linux-gnu-gcc -pthread -DNDEBUG -g -fwrapv -O2 -Wall -Wstrict-prototypes -g -fstack-protector-strong -Wformat -Werror=format-security -D_FORTIFY_SOURCE=2 -fPIC -I/home/jng/.virtualenvs/peakrisk2/lib/python3.4/site-packages/numpy/core/include -Icextern/erfa -I/usr/include/python3.4m -I/home/jng/.virtualenvs/peakrisk2/include/python3.4m -c cextern/erfa/pvmpv.c -o build/temp.linux-x86_64-3.4/cextern/erfa/pvmpv.o\r\n"
     ]
    },
    {
     "name": "stdout",
     "output_type": "stream",
     "text": [
      "    x86_64-linux-gnu-gcc -pthread -DNDEBUG -g -fwrapv -O2 -Wall -Wstrict-prototypes -g -fstack-protector-strong -Wformat -Werror=format-security -D_FORTIFY_SOURCE=2 -fPIC -I/home/jng/.virtualenvs/peakrisk2/lib/python3.4/site-packages/numpy/core/include -Icextern/erfa -I/usr/include/python3.4m -I/home/jng/.virtualenvs/peakrisk2/include/python3.4m -c cextern/erfa/c2t00b.c -o build/temp.linux-x86_64-3.4/cextern/erfa/c2t00b.o\r\n"
     ]
    },
    {
     "name": "stdout",
     "output_type": "stream",
     "text": [
      "    x86_64-linux-gnu-gcc -pthread -DNDEBUG -g -fwrapv -O2 -Wall -Wstrict-prototypes -g -fstack-protector-strong -Wformat -Werror=format-security -D_FORTIFY_SOURCE=2 -fPIC -I/home/jng/.virtualenvs/peakrisk2/lib/python3.4/site-packages/numpy/core/include -Icextern/erfa -I/usr/include/python3.4m -I/home/jng/.virtualenvs/peakrisk2/include/python3.4m -c cextern/erfa/d2dtf.c -o build/temp.linux-x86_64-3.4/cextern/erfa/d2dtf.o\r\n"
     ]
    },
    {
     "name": "stdout",
     "output_type": "stream",
     "text": [
      "    x86_64-linux-gnu-gcc -pthread -DNDEBUG -g -fwrapv -O2 -Wall -Wstrict-prototypes -g -fstack-protector-strong -Wformat -Werror=format-security -D_FORTIFY_SOURCE=2 -fPIC -I/home/jng/.virtualenvs/peakrisk2/lib/python3.4/site-packages/numpy/core/include -Icextern/erfa -I/usr/include/python3.4m -I/home/jng/.virtualenvs/peakrisk2/include/python3.4m -c cextern/erfa/gmst06.c -o build/temp.linux-x86_64-3.4/cextern/erfa/gmst06.o\r\n"
     ]
    },
    {
     "name": "stdout",
     "output_type": "stream",
     "text": [
      "    x86_64-linux-gnu-gcc -pthread -DNDEBUG -g -fwrapv -O2 -Wall -Wstrict-prototypes -g -fstack-protector-strong -Wformat -Werror=format-security -D_FORTIFY_SOURCE=2 -fPIC -I/home/jng/.virtualenvs/peakrisk2/lib/python3.4/site-packages/numpy/core/include -Icextern/erfa -I/usr/include/python3.4m -I/home/jng/.virtualenvs/peakrisk2/include/python3.4m -c cextern/erfa/s2c.c -o build/temp.linux-x86_64-3.4/cextern/erfa/s2c.o\r\n"
     ]
    },
    {
     "name": "stdout",
     "output_type": "stream",
     "text": [
      "    x86_64-linux-gnu-gcc -pthread -DNDEBUG -g -fwrapv -O2 -Wall -Wstrict-prototypes -g -fstack-protector-strong -Wformat -Werror=format-security -D_FORTIFY_SOURCE=2 -fPIC -I/home/jng/.virtualenvs/peakrisk2/lib/python3.4/site-packages/numpy/core/include -Icextern/erfa -I/usr/include/python3.4m -I/home/jng/.virtualenvs/peakrisk2/include/python3.4m -c cextern/erfa/apco13.c -o build/temp.linux-x86_64-3.4/cextern/erfa/apco13.o\r\n"
     ]
    },
    {
     "name": "stdout",
     "output_type": "stream",
     "text": [
      "    x86_64-linux-gnu-gcc -pthread -DNDEBUG -g -fwrapv -O2 -Wall -Wstrict-prototypes -g -fstack-protector-strong -Wformat -Werror=format-security -D_FORTIFY_SOURCE=2 -fPIC -I/home/jng/.virtualenvs/peakrisk2/lib/python3.4/site-packages/numpy/core/include -Icextern/erfa -I/usr/include/python3.4m -I/home/jng/.virtualenvs/peakrisk2/include/python3.4m -c cextern/erfa/sepp.c -o build/temp.linux-x86_64-3.4/cextern/erfa/sepp.o\r\n"
     ]
    },
    {
     "name": "stdout",
     "output_type": "stream",
     "text": [
      "    x86_64-linux-gnu-gcc -pthread -DNDEBUG -g -fwrapv -O2 -Wall -Wstrict-prototypes -g -fstack-protector-strong -Wformat -Werror=format-security -D_FORTIFY_SOURCE=2 -fPIC -I/home/jng/.virtualenvs/peakrisk2/lib/python3.4/site-packages/numpy/core/include -Icextern/erfa -I/usr/include/python3.4m -I/home/jng/.virtualenvs/peakrisk2/include/python3.4m -c cextern/erfa/rxr.c -o build/temp.linux-x86_64-3.4/cextern/erfa/rxr.o\r\n"
     ]
    },
    {
     "name": "stdout",
     "output_type": "stream",
     "text": [
      "    x86_64-linux-gnu-gcc -pthread -DNDEBUG -g -fwrapv -O2 -Wall -Wstrict-prototypes -g -fstack-protector-strong -Wformat -Werror=format-security -D_FORTIFY_SOURCE=2 -fPIC -I/home/jng/.virtualenvs/peakrisk2/lib/python3.4/site-packages/numpy/core/include -Icextern/erfa -I/usr/include/python3.4m -I/home/jng/.virtualenvs/peakrisk2/include/python3.4m -c cextern/erfa/fw2xy.c -o build/temp.linux-x86_64-3.4/cextern/erfa/fw2xy.o\r\n"
     ]
    },
    {
     "name": "stdout",
     "output_type": "stream",
     "text": [
      "    x86_64-linux-gnu-gcc -pthread -DNDEBUG -g -fwrapv -O2 -Wall -Wstrict-prototypes -g -fstack-protector-strong -Wformat -Werror=format-security -D_FORTIFY_SOURCE=2 -fPIC -I/home/jng/.virtualenvs/peakrisk2/lib/python3.4/site-packages/numpy/core/include -Icextern/erfa -I/usr/include/python3.4m -I/home/jng/.virtualenvs/peakrisk2/include/python3.4m -c cextern/erfa/tcgtt.c -o build/temp.linux-x86_64-3.4/cextern/erfa/tcgtt.o\r\n"
     ]
    },
    {
     "name": "stdout",
     "output_type": "stream",
     "text": [
      "    x86_64-linux-gnu-gcc -pthread -DNDEBUG -g -fwrapv -O2 -Wall -Wstrict-prototypes -g -fstack-protector-strong -Wformat -Werror=format-security -D_FORTIFY_SOURCE=2 -fPIC -I/home/jng/.virtualenvs/peakrisk2/lib/python3.4/site-packages/numpy/core/include -Icextern/erfa -I/usr/include/python3.4m -I/home/jng/.virtualenvs/peakrisk2/include/python3.4m -c cextern/erfa/c2i00a.c -o build/temp.linux-x86_64-3.4/cextern/erfa/c2i00a.o\r\n"
     ]
    },
    {
     "name": "stdout",
     "output_type": "stream",
     "text": [
      "    x86_64-linux-gnu-gcc -pthread -DNDEBUG -g -fwrapv -O2 -Wall -Wstrict-prototypes -g -fstack-protector-strong -Wformat -Werror=format-security -D_FORTIFY_SOURCE=2 -fPIC -I/home/jng/.virtualenvs/peakrisk2/lib/python3.4/site-packages/numpy/core/include -Icextern/erfa -I/usr/include/python3.4m -I/home/jng/.virtualenvs/peakrisk2/include/python3.4m -c cextern/erfa/pom00.c -o build/temp.linux-x86_64-3.4/cextern/erfa/pom00.o\r\n"
     ]
    },
    {
     "name": "stdout",
     "output_type": "stream",
     "text": [
      "    x86_64-linux-gnu-gcc -pthread -DNDEBUG -g -fwrapv -O2 -Wall -Wstrict-prototypes -g -fstack-protector-strong -Wformat -Werror=format-security -D_FORTIFY_SOURCE=2 -fPIC -I/home/jng/.virtualenvs/peakrisk2/lib/python3.4/site-packages/numpy/core/include -Icextern/erfa -I/usr/include/python3.4m -I/home/jng/.virtualenvs/peakrisk2/include/python3.4m -c cextern/erfa/pnm00b.c -o build/temp.linux-x86_64-3.4/cextern/erfa/pnm00b.o\r\n"
     ]
    },
    {
     "name": "stdout",
     "output_type": "stream",
     "text": [
      "    x86_64-linux-gnu-gcc -pthread -DNDEBUG -g -fwrapv -O2 -Wall -Wstrict-prototypes -g -fstack-protector-strong -Wformat -Werror=format-security -D_FORTIFY_SOURCE=2 -fPIC -I/home/jng/.virtualenvs/peakrisk2/lib/python3.4/site-packages/numpy/core/include -Icextern/erfa -I/usr/include/python3.4m -I/home/jng/.virtualenvs/peakrisk2/include/python3.4m -c cextern/erfa/apcs13.c -o build/temp.linux-x86_64-3.4/cextern/erfa/apcs13.o\r\n"
     ]
    },
    {
     "name": "stdout",
     "output_type": "stream",
     "text": [
      "    x86_64-linux-gnu-gcc -pthread -DNDEBUG -g -fwrapv -O2 -Wall -Wstrict-prototypes -g -fstack-protector-strong -Wformat -Werror=format-security -D_FORTIFY_SOURCE=2 -fPIC -I/home/jng/.virtualenvs/peakrisk2/lib/python3.4/site-packages/numpy/core/include -Icextern/erfa -I/usr/include/python3.4m -I/home/jng/.virtualenvs/peakrisk2/include/python3.4m -c cextern/erfa/eo06a.c -o build/temp.linux-x86_64-3.4/cextern/erfa/eo06a.o\r\n"
     ]
    },
    {
     "name": "stdout",
     "output_type": "stream",
     "text": [
      "    x86_64-linux-gnu-gcc -pthread -DNDEBUG -g -fwrapv -O2 -Wall -Wstrict-prototypes -g -fstack-protector-strong -Wformat -Werror=format-security -D_FORTIFY_SOURCE=2 -fPIC -I/home/jng/.virtualenvs/peakrisk2/lib/python3.4/site-packages/numpy/core/include -Icextern/erfa -I/usr/include/python3.4m -I/home/jng/.virtualenvs/peakrisk2/include/python3.4m -c cextern/erfa/eect00.c -o build/temp.linux-x86_64-3.4/cextern/erfa/eect00.o\r\n"
     ]
    },
    {
     "name": "stdout",
     "output_type": "stream",
     "text": [
      "    x86_64-linux-gnu-gcc -pthread -DNDEBUG -g -fwrapv -O2 -Wall -Wstrict-prototypes -g -fstack-protector-strong -Wformat -Werror=format-security -D_FORTIFY_SOURCE=2 -fPIC -I/home/jng/.virtualenvs/peakrisk2/lib/python3.4/site-packages/numpy/core/include -Icextern/erfa -I/usr/include/python3.4m -I/home/jng/.virtualenvs/peakrisk2/include/python3.4m -c cextern/erfa/d2tf.c -o build/temp.linux-x86_64-3.4/cextern/erfa/d2tf.o\r\n"
     ]
    },
    {
     "name": "stdout",
     "output_type": "stream",
     "text": [
      "    x86_64-linux-gnu-gcc -pthread -DNDEBUG -g -fwrapv -O2 -Wall -Wstrict-prototypes -g -fstack-protector-strong -Wformat -Werror=format-security -D_FORTIFY_SOURCE=2 -fPIC -I/home/jng/.virtualenvs/peakrisk2/lib/python3.4/site-packages/numpy/core/include -Icextern/erfa -I/usr/include/python3.4m -I/home/jng/.virtualenvs/peakrisk2/include/python3.4m -c cextern/erfa/pvup.c -o build/temp.linux-x86_64-3.4/cextern/erfa/pvup.o\r\n"
     ]
    },
    {
     "name": "stdout",
     "output_type": "stream",
     "text": [
      "    x86_64-linux-gnu-gcc -pthread -DNDEBUG -g -fwrapv -O2 -Wall -Wstrict-prototypes -g -fstack-protector-strong -Wformat -Werror=format-security -D_FORTIFY_SOURCE=2 -fPIC -I/home/jng/.virtualenvs/peakrisk2/lib/python3.4/site-packages/numpy/core/include -Icextern/erfa -I/usr/include/python3.4m -I/home/jng/.virtualenvs/peakrisk2/include/python3.4m -c cextern/erfa/s00b.c -o build/temp.linux-x86_64-3.4/cextern/erfa/s00b.o\r\n"
     ]
    },
    {
     "name": "stdout",
     "output_type": "stream",
     "text": [
      "    x86_64-linux-gnu-gcc -pthread -DNDEBUG -g -fwrapv -O2 -Wall -Wstrict-prototypes -g -fstack-protector-strong -Wformat -Werror=format-security -D_FORTIFY_SOURCE=2 -fPIC -I/home/jng/.virtualenvs/peakrisk2/lib/python3.4/site-packages/numpy/core/include -Icextern/erfa -I/usr/include/python3.4m -I/home/jng/.virtualenvs/peakrisk2/include/python3.4m -c cextern/erfa/atciqz.c -o build/temp.linux-x86_64-3.4/cextern/erfa/atciqz.o\r\n"
     ]
    },
    {
     "name": "stdout",
     "output_type": "stream",
     "text": [
      "    x86_64-linux-gnu-gcc -pthread -DNDEBUG -g -fwrapv -O2 -Wall -Wstrict-prototypes -g -fstack-protector-strong -Wformat -Werror=format-security -D_FORTIFY_SOURCE=2 -fPIC -I/home/jng/.virtualenvs/peakrisk2/lib/python3.4/site-packages/numpy/core/include -Icextern/erfa -I/usr/include/python3.4m -I/home/jng/.virtualenvs/peakrisk2/include/python3.4m -c cextern/erfa/pap.c -o build/temp.linux-x86_64-3.4/cextern/erfa/pap.o\r\n"
     ]
    },
    {
     "name": "stdout",
     "output_type": "stream",
     "text": [
      "    x86_64-linux-gnu-gcc -pthread -DNDEBUG -g -fwrapv -O2 -Wall -Wstrict-prototypes -g -fstack-protector-strong -Wformat -Werror=format-security -D_FORTIFY_SOURCE=2 -fPIC -I/home/jng/.virtualenvs/peakrisk2/lib/python3.4/site-packages/numpy/core/include -Icextern/erfa -I/usr/include/python3.4m -I/home/jng/.virtualenvs/peakrisk2/include/python3.4m -c cextern/erfa/rz.c -o build/temp.linux-x86_64-3.4/cextern/erfa/rz.o\r\n"
     ]
    },
    {
     "name": "stdout",
     "output_type": "stream",
     "text": [
      "    x86_64-linux-gnu-gcc -pthread -DNDEBUG -g -fwrapv -O2 -Wall -Wstrict-prototypes -g -fstack-protector-strong -Wformat -Werror=format-security -D_FORTIFY_SOURCE=2 -fPIC -I/home/jng/.virtualenvs/peakrisk2/lib/python3.4/site-packages/numpy/core/include -Icextern/erfa -I/usr/include/python3.4m -I/home/jng/.virtualenvs/peakrisk2/include/python3.4m -c cextern/erfa/obl80.c -o build/temp.linux-x86_64-3.4/cextern/erfa/obl80.o\r\n"
     ]
    },
    {
     "name": "stdout",
     "output_type": "stream",
     "text": [
      "    x86_64-linux-gnu-gcc -pthread -DNDEBUG -g -fwrapv -O2 -Wall -Wstrict-prototypes -g -fstack-protector-strong -Wformat -Werror=format-security -D_FORTIFY_SOURCE=2 -fPIC -I/home/jng/.virtualenvs/peakrisk2/lib/python3.4/site-packages/numpy/core/include -Icextern/erfa -I/usr/include/python3.4m -I/home/jng/.virtualenvs/peakrisk2/include/python3.4m -c cextern/erfa/p2s.c -o build/temp.linux-x86_64-3.4/cextern/erfa/p2s.o\r\n"
     ]
    },
    {
     "name": "stdout",
     "output_type": "stream",
     "text": [
      "    x86_64-linux-gnu-gcc -pthread -DNDEBUG -g -fwrapv -O2 -Wall -Wstrict-prototypes -g -fstack-protector-strong -Wformat -Werror=format-security -D_FORTIFY_SOURCE=2 -fPIC -I/home/jng/.virtualenvs/peakrisk2/lib/python3.4/site-packages/numpy/core/include -Icextern/erfa -I/usr/include/python3.4m -I/home/jng/.virtualenvs/peakrisk2/include/python3.4m -c cextern/erfa/dat.c -o build/temp.linux-x86_64-3.4/cextern/erfa/dat.o\r\n"
     ]
    },
    {
     "name": "stdout",
     "output_type": "stream",
     "text": [
      "    x86_64-linux-gnu-gcc -pthread -DNDEBUG -g -fwrapv -O2 -Wall -Wstrict-prototypes -g -fstack-protector-strong -Wformat -Werror=format-security -D_FORTIFY_SOURCE=2 -fPIC -I/home/jng/.virtualenvs/peakrisk2/lib/python3.4/site-packages/numpy/core/include -Icextern/erfa -I/usr/include/python3.4m -I/home/jng/.virtualenvs/peakrisk2/include/python3.4m -c cextern/erfa/ee06a.c -o build/temp.linux-x86_64-3.4/cextern/erfa/ee06a.o\r\n"
     ]
    },
    {
     "name": "stdout",
     "output_type": "stream",
     "text": [
      "    x86_64-linux-gnu-gcc -pthread -DNDEBUG -g -fwrapv -O2 -Wall -Wstrict-prototypes -g -fstack-protector-strong -Wformat -Werror=format-security -D_FORTIFY_SOURCE=2 -fPIC -I/home/jng/.virtualenvs/peakrisk2/lib/python3.4/site-packages/numpy/core/include -Icextern/erfa -I/usr/include/python3.4m -I/home/jng/.virtualenvs/peakrisk2/include/python3.4m -c cextern/erfa/fae03.c -o build/temp.linux-x86_64-3.4/cextern/erfa/fae03.o\r\n"
     ]
    },
    {
     "name": "stdout",
     "output_type": "stream",
     "text": [
      "    x86_64-linux-gnu-gcc -pthread -DNDEBUG -g -fwrapv -O2 -Wall -Wstrict-prototypes -g -fstack-protector-strong -Wformat -Werror=format-security -D_FORTIFY_SOURCE=2 -fPIC -I/home/jng/.virtualenvs/peakrisk2/lib/python3.4/site-packages/numpy/core/include -Icextern/erfa -I/usr/include/python3.4m -I/home/jng/.virtualenvs/peakrisk2/include/python3.4m -c cextern/erfa/a2tf.c -o build/temp.linux-x86_64-3.4/cextern/erfa/a2tf.o\r\n"
     ]
    },
    {
     "name": "stdout",
     "output_type": "stream",
     "text": [
      "    x86_64-linux-gnu-gcc -pthread -DNDEBUG -g -fwrapv -O2 -Wall -Wstrict-prototypes -g -fstack-protector-strong -Wformat -Werror=format-security -D_FORTIFY_SOURCE=2 -fPIC -I/home/jng/.virtualenvs/peakrisk2/lib/python3.4/site-packages/numpy/core/include -Icextern/erfa -I/usr/include/python3.4m -I/home/jng/.virtualenvs/peakrisk2/include/python3.4m -c cextern/erfa/pmat06.c -o build/temp.linux-x86_64-3.4/cextern/erfa/pmat06.o\r\n"
     ]
    },
    {
     "name": "stdout",
     "output_type": "stream",
     "text": [
      "    x86_64-linux-gnu-gcc -pthread -DNDEBUG -g -fwrapv -O2 -Wall -Wstrict-prototypes -g -fstack-protector-strong -Wformat -Werror=format-security -D_FORTIFY_SOURCE=2 -fPIC -I/home/jng/.virtualenvs/peakrisk2/lib/python3.4/site-packages/numpy/core/include -Icextern/erfa -I/usr/include/python3.4m -I/home/jng/.virtualenvs/peakrisk2/include/python3.4m -c cextern/erfa/nut00a.c -o build/temp.linux-x86_64-3.4/cextern/erfa/nut00a.o\r\n"
     ]
    },
    {
     "name": "stdout",
     "output_type": "stream",
     "text": [
      "    x86_64-linux-gnu-gcc -pthread -DNDEBUG -g -fwrapv -O2 -Wall -Wstrict-prototypes -g -fstack-protector-strong -Wformat -Werror=format-security -D_FORTIFY_SOURCE=2 -fPIC -I/home/jng/.virtualenvs/peakrisk2/lib/python3.4/site-packages/numpy/core/include -Icextern/erfa -I/usr/include/python3.4m -I/home/jng/.virtualenvs/peakrisk2/include/python3.4m -c cextern/erfa/gc2gde.c -o build/temp.linux-x86_64-3.4/cextern/erfa/gc2gde.o\r\n"
     ]
    },
    {
     "name": "stdout",
     "output_type": "stream",
     "text": [
      "    x86_64-linux-gnu-gcc -pthread -DNDEBUG -g -fwrapv -O2 -Wall -Wstrict-prototypes -g -fstack-protector-strong -Wformat -Werror=format-security -D_FORTIFY_SOURCE=2 -fPIC -I/home/jng/.virtualenvs/peakrisk2/lib/python3.4/site-packages/numpy/core/include -Icextern/erfa -I/usr/include/python3.4m -I/home/jng/.virtualenvs/peakrisk2/include/python3.4m -c cextern/erfa/apcg13.c -o build/temp.linux-x86_64-3.4/cextern/erfa/apcg13.o\r\n"
     ]
    },
    {
     "name": "stdout",
     "output_type": "stream",
     "text": [
      "    x86_64-linux-gnu-gcc -pthread -DNDEBUG -g -fwrapv -O2 -Wall -Wstrict-prototypes -g -fstack-protector-strong -Wformat -Werror=format-security -D_FORTIFY_SOURCE=2 -fPIC -I/home/jng/.virtualenvs/peakrisk2/lib/python3.4/site-packages/numpy/core/include -Icextern/erfa -I/usr/include/python3.4m -I/home/jng/.virtualenvs/peakrisk2/include/python3.4m -c cextern/erfa/epj.c -o build/temp.linux-x86_64-3.4/cextern/erfa/epj.o\r\n"
     ]
    },
    {
     "name": "stdout",
     "output_type": "stream",
     "text": [
      "    x86_64-linux-gnu-gcc -pthread -DNDEBUG -g -fwrapv -O2 -Wall -Wstrict-prototypes -g -fstack-protector-strong -Wformat -Werror=format-security -D_FORTIFY_SOURCE=2 -fPIC -I/home/jng/.virtualenvs/peakrisk2/lib/python3.4/site-packages/numpy/core/include -Icextern/erfa -I/usr/include/python3.4m -I/home/jng/.virtualenvs/peakrisk2/include/python3.4m -c cextern/erfa/s2pv.c -o build/temp.linux-x86_64-3.4/cextern/erfa/s2pv.o\r\n"
     ]
    },
    {
     "name": "stdout",
     "output_type": "stream",
     "text": [
      "    x86_64-linux-gnu-gcc -pthread -DNDEBUG -g -fwrapv -O2 -Wall -Wstrict-prototypes -g -fstack-protector-strong -Wformat -Werror=format-security -D_FORTIFY_SOURCE=2 -fPIC -I/home/jng/.virtualenvs/peakrisk2/lib/python3.4/site-packages/numpy/core/include -Icextern/erfa -I/usr/include/python3.4m -I/home/jng/.virtualenvs/peakrisk2/include/python3.4m -c cextern/erfa/ut1tai.c -o build/temp.linux-x86_64-3.4/cextern/erfa/ut1tai.o\r\n"
     ]
    },
    {
     "name": "stdout",
     "output_type": "stream",
     "text": [
      "    x86_64-linux-gnu-gcc -pthread -DNDEBUG -g -fwrapv -O2 -Wall -Wstrict-prototypes -g -fstack-protector-strong -Wformat -Werror=format-security -D_FORTIFY_SOURCE=2 -fPIC -I/home/jng/.virtualenvs/peakrisk2/lib/python3.4/site-packages/numpy/core/include -Icextern/erfa -I/usr/include/python3.4m -I/home/jng/.virtualenvs/peakrisk2/include/python3.4m -c cextern/erfa/pmat00.c -o build/temp.linux-x86_64-3.4/cextern/erfa/pmat00.o\r\n"
     ]
    },
    {
     "name": "stdout",
     "output_type": "stream",
     "text": [
      "    x86_64-linux-gnu-gcc -pthread -DNDEBUG -g -fwrapv -O2 -Wall -Wstrict-prototypes -g -fstack-protector-strong -Wformat -Werror=format-security -D_FORTIFY_SOURCE=2 -fPIC -I/home/jng/.virtualenvs/peakrisk2/lib/python3.4/site-packages/numpy/core/include -Icextern/erfa -I/usr/include/python3.4m -I/home/jng/.virtualenvs/peakrisk2/include/python3.4m -c cextern/erfa/xys06a.c -o build/temp.linux-x86_64-3.4/cextern/erfa/xys06a.o\r\n"
     ]
    },
    {
     "name": "stdout",
     "output_type": "stream",
     "text": [
      "    x86_64-linux-gnu-gcc -pthread -DNDEBUG -g -fwrapv -O2 -Wall -Wstrict-prototypes -g -fstack-protector-strong -Wformat -Werror=format-security -D_FORTIFY_SOURCE=2 -fPIC -I/home/jng/.virtualenvs/peakrisk2/lib/python3.4/site-packages/numpy/core/include -Icextern/erfa -I/usr/include/python3.4m -I/home/jng/.virtualenvs/peakrisk2/include/python3.4m -c cextern/erfa/atciqn.c -o build/temp.linux-x86_64-3.4/cextern/erfa/atciqn.o\r\n"
     ]
    },
    {
     "name": "stdout",
     "output_type": "stream",
     "text": [
      "    x86_64-linux-gnu-gcc -pthread -DNDEBUG -g -fwrapv -O2 -Wall -Wstrict-prototypes -g -fstack-protector-strong -Wformat -Werror=format-security -D_FORTIFY_SOURCE=2 -fPIC -I/home/jng/.virtualenvs/peakrisk2/lib/python3.4/site-packages/numpy/core/include -Icextern/erfa -I/usr/include/python3.4m -I/home/jng/.virtualenvs/peakrisk2/include/python3.4m -c cextern/erfa/pr00.c -o build/temp.linux-x86_64-3.4/cextern/erfa/pr00.o\r\n"
     ]
    },
    {
     "name": "stdout",
     "output_type": "stream",
     "text": [
      "    x86_64-linux-gnu-gcc -pthread -DNDEBUG -g -fwrapv -O2 -Wall -Wstrict-prototypes -g -fstack-protector-strong -Wformat -Werror=format-security -D_FORTIFY_SOURCE=2 -fPIC -I/home/jng/.virtualenvs/peakrisk2/lib/python3.4/site-packages/numpy/core/include -Icextern/erfa -I/usr/include/python3.4m -I/home/jng/.virtualenvs/peakrisk2/include/python3.4m -c cextern/erfa/c2ixys.c -o build/temp.linux-x86_64-3.4/cextern/erfa/c2ixys.o\r\n"
     ]
    },
    {
     "name": "stdout",
     "output_type": "stream",
     "text": [
      "    x86_64-linux-gnu-gcc -pthread -DNDEBUG -g -fwrapv -O2 -Wall -Wstrict-prototypes -g -fstack-protector-strong -Wformat -Werror=format-security -D_FORTIFY_SOURCE=2 -fPIC -I/home/jng/.virtualenvs/peakrisk2/lib/python3.4/site-packages/numpy/core/include -Icextern/erfa -I/usr/include/python3.4m -I/home/jng/.virtualenvs/peakrisk2/include/python3.4m -c cextern/erfa/atoc13.c -o build/temp.linux-x86_64-3.4/cextern/erfa/atoc13.o\r\n"
     ]
    },
    {
     "name": "stdout",
     "output_type": "stream",
     "text": [
      "    x86_64-linux-gnu-gcc -pthread -DNDEBUG -g -fwrapv -O2 -Wall -Wstrict-prototypes -g -fstack-protector-strong -Wformat -Werror=format-security -D_FORTIFY_SOURCE=2 -fPIC -I/home/jng/.virtualenvs/peakrisk2/lib/python3.4/site-packages/numpy/core/include -Icextern/erfa -I/usr/include/python3.4m -I/home/jng/.virtualenvs/peakrisk2/include/python3.4m -c cextern/erfa/obl06.c -o build/temp.linux-x86_64-3.4/cextern/erfa/obl06.o\r\n"
     ]
    },
    {
     "name": "stdout",
     "output_type": "stream",
     "text": [
      "    x86_64-linux-gnu-gcc -pthread -DNDEBUG -g -fwrapv -O2 -Wall -Wstrict-prototypes -g -fstack-protector-strong -Wformat -Werror=format-security -D_FORTIFY_SOURCE=2 -fPIC -I/home/jng/.virtualenvs/peakrisk2/lib/python3.4/site-packages/numpy/core/include -Icextern/erfa -I/usr/include/python3.4m -I/home/jng/.virtualenvs/peakrisk2/include/python3.4m -c cextern/erfa/atoi13.c -o build/temp.linux-x86_64-3.4/cextern/erfa/atoi13.o\r\n"
     ]
    },
    {
     "name": "stdout",
     "output_type": "stream",
     "text": [
      "    x86_64-linux-gnu-gcc -pthread -DNDEBUG -g -fwrapv -O2 -Wall -Wstrict-prototypes -g -fstack-protector-strong -Wformat -Werror=format-security -D_FORTIFY_SOURCE=2 -fPIC -I/home/jng/.virtualenvs/peakrisk2/lib/python3.4/site-packages/numpy/core/include -Icextern/erfa -I/usr/include/python3.4m -I/home/jng/.virtualenvs/peakrisk2/include/python3.4m -c cextern/erfa/pnm06a.c -o build/temp.linux-x86_64-3.4/cextern/erfa/pnm06a.o\r\n"
     ]
    },
    {
     "name": "stdout",
     "output_type": "stream",
     "text": [
      "    x86_64-linux-gnu-gcc -pthread -DNDEBUG -g -fwrapv -O2 -Wall -Wstrict-prototypes -g -fstack-protector-strong -Wformat -Werror=format-security -D_FORTIFY_SOURCE=2 -fPIC -I/home/jng/.virtualenvs/peakrisk2/lib/python3.4/site-packages/numpy/core/include -Icextern/erfa -I/usr/include/python3.4m -I/home/jng/.virtualenvs/peakrisk2/include/python3.4m -c cextern/erfa/tttcg.c -o build/temp.linux-x86_64-3.4/cextern/erfa/tttcg.o\r\n"
     ]
    },
    {
     "name": "stdout",
     "output_type": "stream",
     "text": [
      "    x86_64-linux-gnu-gcc -pthread -DNDEBUG -g -fwrapv -O2 -Wall -Wstrict-prototypes -g -fstack-protector-strong -Wformat -Werror=format-security -D_FORTIFY_SOURCE=2 -fPIC -I/home/jng/.virtualenvs/peakrisk2/lib/python3.4/site-packages/numpy/core/include -Icextern/erfa -I/usr/include/python3.4m -I/home/jng/.virtualenvs/peakrisk2/include/python3.4m -c cextern/erfa/xys00a.c -o build/temp.linux-x86_64-3.4/cextern/erfa/xys00a.o\r\n"
     ]
    },
    {
     "name": "stdout",
     "output_type": "stream",
     "text": [
      "    x86_64-linux-gnu-gcc -pthread -DNDEBUG -g -fwrapv -O2 -Wall -Wstrict-prototypes -g -fstack-protector-strong -Wformat -Werror=format-security -D_FORTIFY_SOURCE=2 -fPIC -I/home/jng/.virtualenvs/peakrisk2/lib/python3.4/site-packages/numpy/core/include -Icextern/erfa -I/usr/include/python3.4m -I/home/jng/.virtualenvs/peakrisk2/include/python3.4m -c cextern/erfa/starpv.c -o build/temp.linux-x86_64-3.4/cextern/erfa/starpv.o\r\n"
     ]
    },
    {
     "name": "stdout",
     "output_type": "stream",
     "text": [
      "    x86_64-linux-gnu-gcc -pthread -DNDEBUG -g -fwrapv -O2 -Wall -Wstrict-prototypes -g -fstack-protector-strong -Wformat -Werror=format-security -D_FORTIFY_SOURCE=2 -fPIC -I/home/jng/.virtualenvs/peakrisk2/lib/python3.4/site-packages/numpy/core/include -Icextern/erfa -I/usr/include/python3.4m -I/home/jng/.virtualenvs/peakrisk2/include/python3.4m -c cextern/erfa/anpm.c -o build/temp.linux-x86_64-3.4/cextern/erfa/anpm.o\r\n"
     ]
    },
    {
     "name": "stdout",
     "output_type": "stream",
     "text": [
      "    x86_64-linux-gnu-gcc -pthread -DNDEBUG -g -fwrapv -O2 -Wall -Wstrict-prototypes -g -fstack-protector-strong -Wformat -Werror=format-security -D_FORTIFY_SOURCE=2 -fPIC -I/home/jng/.virtualenvs/peakrisk2/lib/python3.4/site-packages/numpy/core/include -Icextern/erfa -I/usr/include/python3.4m -I/home/jng/.virtualenvs/peakrisk2/include/python3.4m -c cextern/erfa/zpv.c -o build/temp.linux-x86_64-3.4/cextern/erfa/zpv.o\r\n"
     ]
    },
    {
     "name": "stdout",
     "output_type": "stream",
     "text": [
      "    x86_64-linux-gnu-gcc -pthread -DNDEBUG -g -fwrapv -O2 -Wall -Wstrict-prototypes -g -fstack-protector-strong -Wformat -Werror=format-security -D_FORTIFY_SOURCE=2 -fPIC -I/home/jng/.virtualenvs/peakrisk2/lib/python3.4/site-packages/numpy/core/include -Icextern/erfa -I/usr/include/python3.4m -I/home/jng/.virtualenvs/peakrisk2/include/python3.4m -c cextern/erfa/fk52h.c -o build/temp.linux-x86_64-3.4/cextern/erfa/fk52h.o\r\n"
     ]
    },
    {
     "name": "stdout",
     "output_type": "stream",
     "text": [
      "    x86_64-linux-gnu-gcc -pthread -DNDEBUG -g -fwrapv -O2 -Wall -Wstrict-prototypes -g -fstack-protector-strong -Wformat -Werror=format-security -D_FORTIFY_SOURCE=2 -fPIC -I/home/jng/.virtualenvs/peakrisk2/lib/python3.4/site-packages/numpy/core/include -Icextern/erfa -I/usr/include/python3.4m -I/home/jng/.virtualenvs/peakrisk2/include/python3.4m -c cextern/erfa/pn06.c -o build/temp.linux-x86_64-3.4/cextern/erfa/pn06.o\r\n"
     ]
    },
    {
     "name": "stdout",
     "output_type": "stream",
     "text": [
      "    x86_64-linux-gnu-gcc -pthread -DNDEBUG -g -fwrapv -O2 -Wall -Wstrict-prototypes -g -fstack-protector-strong -Wformat -Werror=format-security -D_FORTIFY_SOURCE=2 -fPIC -I/home/jng/.virtualenvs/peakrisk2/lib/python3.4/site-packages/numpy/core/include -Icextern/erfa -I/usr/include/python3.4m -I/home/jng/.virtualenvs/peakrisk2/include/python3.4m -c cextern/erfa/zp.c -o build/temp.linux-x86_64-3.4/cextern/erfa/zp.o\r\n"
     ]
    },
    {
     "name": "stdout",
     "output_type": "stream",
     "text": [
      "    x86_64-linux-gnu-gcc -pthread -DNDEBUG -g -fwrapv -O2 -Wall -Wstrict-prototypes -g -fstack-protector-strong -Wformat -Werror=format-security -D_FORTIFY_SOURCE=2 -fPIC -I/home/jng/.virtualenvs/peakrisk2/lib/python3.4/site-packages/numpy/core/include -Icextern/erfa -I/usr/include/python3.4m -I/home/jng/.virtualenvs/peakrisk2/include/python3.4m -c cextern/erfa/rm2v.c -o build/temp.linux-x86_64-3.4/cextern/erfa/rm2v.o\r\n"
     ]
    },
    {
     "name": "stdout",
     "output_type": "stream",
     "text": [
      "    x86_64-linux-gnu-gcc -pthread -DNDEBUG -g -fwrapv -O2 -Wall -Wstrict-prototypes -g -fstack-protector-strong -Wformat -Werror=format-security -D_FORTIFY_SOURCE=2 -fPIC -I/home/jng/.virtualenvs/peakrisk2/lib/python3.4/site-packages/numpy/core/include -Icextern/erfa -I/usr/include/python3.4m -I/home/jng/.virtualenvs/peakrisk2/include/python3.4m -c cextern/erfa/xy06.c -o build/temp.linux-x86_64-3.4/cextern/erfa/xy06.o\r\n"
     ]
    },
    {
     "name": "stdout",
     "output_type": "stream",
     "text": [
      "    x86_64-linux-gnu-gcc -pthread -DNDEBUG -g -fwrapv -O2 -Wall -Wstrict-prototypes -g -fstack-protector-strong -Wformat -Werror=format-security -D_FORTIFY_SOURCE=2 -fPIC -I/home/jng/.virtualenvs/peakrisk2/lib/python3.4/site-packages/numpy/core/include -Icextern/erfa -I/usr/include/python3.4m -I/home/jng/.virtualenvs/peakrisk2/include/python3.4m -c cextern/erfa/bi00.c -o build/temp.linux-x86_64-3.4/cextern/erfa/bi00.o\r\n"
     ]
    },
    {
     "name": "stdout",
     "output_type": "stream",
     "text": [
      "    x86_64-linux-gnu-gcc -pthread -DNDEBUG -g -fwrapv -O2 -Wall -Wstrict-prototypes -g -fstack-protector-strong -Wformat -Werror=format-security -D_FORTIFY_SOURCE=2 -fPIC -I/home/jng/.virtualenvs/peakrisk2/lib/python3.4/site-packages/numpy/core/include -Icextern/erfa -I/usr/include/python3.4m -I/home/jng/.virtualenvs/peakrisk2/include/python3.4m -c cextern/erfa/tf2a.c -o build/temp.linux-x86_64-3.4/cextern/erfa/tf2a.o\r\n"
     ]
    },
    {
     "name": "stdout",
     "output_type": "stream",
     "text": [
      "    x86_64-linux-gnu-gcc -pthread -DNDEBUG -g -fwrapv -O2 -Wall -Wstrict-prototypes -g -fstack-protector-strong -Wformat -Werror=format-security -D_FORTIFY_SOURCE=2 -fPIC -I/home/jng/.virtualenvs/peakrisk2/lib/python3.4/site-packages/numpy/core/include -Icextern/erfa -I/usr/include/python3.4m -I/home/jng/.virtualenvs/peakrisk2/include/python3.4m -c cextern/erfa/c2s.c -o build/temp.linux-x86_64-3.4/cextern/erfa/c2s.o\r\n"
     ]
    },
    {
     "name": "stdout",
     "output_type": "stream",
     "text": [
      "    x86_64-linux-gnu-gcc -pthread -DNDEBUG -g -fwrapv -O2 -Wall -Wstrict-prototypes -g -fstack-protector-strong -Wformat -Werror=format-security -D_FORTIFY_SOURCE=2 -fPIC -I/home/jng/.virtualenvs/peakrisk2/lib/python3.4/site-packages/numpy/core/include -Icextern/erfa -I/usr/include/python3.4m -I/home/jng/.virtualenvs/peakrisk2/include/python3.4m -c cextern/erfa/eqeq94.c -o build/temp.linux-x86_64-3.4/cextern/erfa/eqeq94.o\r\n"
     ]
    },
    {
     "name": "stdout",
     "output_type": "stream",
     "text": [
      "    x86_64-linux-gnu-gcc -pthread -DNDEBUG -g -fwrapv -O2 -Wall -Wstrict-prototypes -g -fstack-protector-strong -Wformat -Werror=format-security -D_FORTIFY_SOURCE=2 -fPIC -I/home/jng/.virtualenvs/peakrisk2/lib/python3.4/site-packages/numpy/core/include -Icextern/erfa -I/usr/include/python3.4m -I/home/jng/.virtualenvs/peakrisk2/include/python3.4m -c cextern/erfa/gst94.c -o build/temp.linux-x86_64-3.4/cextern/erfa/gst94.o\r\n"
     ]
    },
    {
     "name": "stdout",
     "output_type": "stream",
     "text": [
      "    x86_64-linux-gnu-gcc -pthread -DNDEBUG -g -fwrapv -O2 -Wall -Wstrict-prototypes -g -fstack-protector-strong -Wformat -Werror=format-security -D_FORTIFY_SOURCE=2 -fPIC -I/home/jng/.virtualenvs/peakrisk2/lib/python3.4/site-packages/numpy/core/include -Icextern/erfa -I/usr/include/python3.4m -I/home/jng/.virtualenvs/peakrisk2/include/python3.4m -c cextern/erfa/pvm.c -o build/temp.linux-x86_64-3.4/cextern/erfa/pvm.o\r\n"
     ]
    },
    {
     "name": "stdout",
     "output_type": "stream",
     "text": [
      "    x86_64-linux-gnu-gcc -pthread -DNDEBUG -g -fwrapv -O2 -Wall -Wstrict-prototypes -g -fstack-protector-strong -Wformat -Werror=format-security -D_FORTIFY_SOURCE=2 -fPIC -I/home/jng/.virtualenvs/peakrisk2/lib/python3.4/site-packages/numpy/core/include -Icextern/erfa -I/usr/include/python3.4m -I/home/jng/.virtualenvs/peakrisk2/include/python3.4m -c cextern/erfa/refco.c -o build/temp.linux-x86_64-3.4/cextern/erfa/refco.o\r\n"
     ]
    },
    {
     "name": "stdout",
     "output_type": "stream",
     "text": [
      "    x86_64-linux-gnu-gcc -pthread -DNDEBUG -g -fwrapv -O2 -Wall -Wstrict-prototypes -g -fstack-protector-strong -Wformat -Werror=format-security -D_FORTIFY_SOURCE=2 -fPIC -I/home/jng/.virtualenvs/peakrisk2/lib/python3.4/site-packages/numpy/core/include -Icextern/erfa -I/usr/include/python3.4m -I/home/jng/.virtualenvs/peakrisk2/include/python3.4m -c cextern/erfa/pxp.c -o build/temp.linux-x86_64-3.4/cextern/erfa/pxp.o\r\n"
     ]
    },
    {
     "name": "stdout",
     "output_type": "stream",
     "text": [
      "    x86_64-linux-gnu-gcc -pthread -DNDEBUG -g -fwrapv -O2 -Wall -Wstrict-prototypes -g -fstack-protector-strong -Wformat -Werror=format-security -D_FORTIFY_SOURCE=2 -fPIC -I/home/jng/.virtualenvs/peakrisk2/lib/python3.4/site-packages/numpy/core/include -Icextern/erfa -I/usr/include/python3.4m -I/home/jng/.virtualenvs/peakrisk2/include/python3.4m -c cextern/erfa/fasa03.c -o build/temp.linux-x86_64-3.4/cextern/erfa/fasa03.o\r\n"
     ]
    },
    {
     "name": "stdout",
     "output_type": "stream",
     "text": [
      "    x86_64-linux-gnu-gcc -pthread -DNDEBUG -g -fwrapv -O2 -Wall -Wstrict-prototypes -g -fstack-protector-strong -Wformat -Werror=format-security -D_FORTIFY_SOURCE=2 -fPIC -I/home/jng/.virtualenvs/peakrisk2/lib/python3.4/site-packages/numpy/core/include -Icextern/erfa -I/usr/include/python3.4m -I/home/jng/.virtualenvs/peakrisk2/include/python3.4m -c cextern/erfa/sxp.c -o build/temp.linux-x86_64-3.4/cextern/erfa/sxp.o\r\n"
     ]
    },
    {
     "name": "stdout",
     "output_type": "stream",
     "text": [
      "    x86_64-linux-gnu-gcc -pthread -DNDEBUG -g -fwrapv -O2 -Wall -Wstrict-prototypes -g -fstack-protector-strong -Wformat -Werror=format-security -D_FORTIFY_SOURCE=2 -fPIC -I/home/jng/.virtualenvs/peakrisk2/lib/python3.4/site-packages/numpy/core/include -Icextern/erfa -I/usr/include/python3.4m -I/home/jng/.virtualenvs/peakrisk2/include/python3.4m -c cextern/erfa/ee00.c -o build/temp.linux-x86_64-3.4/cextern/erfa/ee00.o\r\n"
     ]
    },
    {
     "name": "stdout",
     "output_type": "stream",
     "text": [
      "    x86_64-linux-gnu-gcc -pthread -DNDEBUG -g -fwrapv -O2 -Wall -Wstrict-prototypes -g -fstack-protector-strong -Wformat -Werror=format-security -D_FORTIFY_SOURCE=2 -fPIC -I/home/jng/.virtualenvs/peakrisk2/lib/python3.4/site-packages/numpy/core/include -Icextern/erfa -I/usr/include/python3.4m -I/home/jng/.virtualenvs/peakrisk2/include/python3.4m -c cextern/erfa/faur03.c -o build/temp.linux-x86_64-3.4/cextern/erfa/faur03.o\r\n"
     ]
    },
    {
     "name": "stdout",
     "output_type": "stream",
     "text": [
      "    x86_64-linux-gnu-gcc -pthread -DNDEBUG -g -fwrapv -O2 -Wall -Wstrict-prototypes -g -fstack-protector-strong -Wformat -Werror=format-security -D_FORTIFY_SOURCE=2 -fPIC -I/home/jng/.virtualenvs/peakrisk2/lib/python3.4/site-packages/numpy/core/include -Icextern/erfa -I/usr/include/python3.4m -I/home/jng/.virtualenvs/peakrisk2/include/python3.4m -c cextern/erfa/atci13.c -o build/temp.linux-x86_64-3.4/cextern/erfa/atci13.o\r\n"
     ]
    },
    {
     "name": "stdout",
     "output_type": "stream",
     "text": [
      "    x86_64-linux-gnu-gcc -pthread -DNDEBUG -g -fwrapv -O2 -Wall -Wstrict-prototypes -g -fstack-protector-strong -Wformat -Werror=format-security -D_FORTIFY_SOURCE=2 -fPIC -I/home/jng/.virtualenvs/peakrisk2/lib/python3.4/site-packages/numpy/core/include -Icextern/erfa -I/usr/include/python3.4m -I/home/jng/.virtualenvs/peakrisk2/include/python3.4m -c cextern/erfa/pnm00a.c -o build/temp.linux-x86_64-3.4/cextern/erfa/pnm00a.o\r\n"
     ]
    },
    {
     "name": "stdout",
     "output_type": "stream",
     "text": [
      "    x86_64-linux-gnu-gcc -pthread -DNDEBUG -g -fwrapv -O2 -Wall -Wstrict-prototypes -g -fstack-protector-strong -Wformat -Werror=format-security -D_FORTIFY_SOURCE=2 -fPIC -I/home/jng/.virtualenvs/peakrisk2/lib/python3.4/site-packages/numpy/core/include -Icextern/erfa -I/usr/include/python3.4m -I/home/jng/.virtualenvs/peakrisk2/include/python3.4m -c cextern/erfa/ry.c -o build/temp.linux-x86_64-3.4/cextern/erfa/ry.o\r\n"
     ]
    },
    {
     "name": "stdout",
     "output_type": "stream",
     "text": [
      "    x86_64-linux-gnu-gcc -pthread -DNDEBUG -g -fwrapv -O2 -Wall -Wstrict-prototypes -g -fstack-protector-strong -Wformat -Werror=format-security -D_FORTIFY_SOURCE=2 -fPIC -I/home/jng/.virtualenvs/peakrisk2/lib/python3.4/site-packages/numpy/core/include -Icextern/erfa -I/usr/include/python3.4m -I/home/jng/.virtualenvs/peakrisk2/include/python3.4m -c cextern/erfa/ut1utc.c -o build/temp.linux-x86_64-3.4/cextern/erfa/ut1utc.o\r\n"
     ]
    },
    {
     "name": "stdout",
     "output_type": "stream",
     "text": [
      "    x86_64-linux-gnu-gcc -pthread -DNDEBUG -g -fwrapv -O2 -Wall -Wstrict-prototypes -g -fstack-protector-strong -Wformat -Werror=format-security -D_FORTIFY_SOURCE=2 -fPIC -I/home/jng/.virtualenvs/peakrisk2/lib/python3.4/site-packages/numpy/core/include -Icextern/erfa -I/usr/include/python3.4m -I/home/jng/.virtualenvs/peakrisk2/include/python3.4m -c cextern/erfa/h2fk5.c -o build/temp.linux-x86_64-3.4/cextern/erfa/h2fk5.o\r\n"
     ]
    },
    {
     "name": "stdout",
     "output_type": "stream",
     "text": [
      "    x86_64-linux-gnu-gcc -pthread -DNDEBUG -g -fwrapv -O2 -Wall -Wstrict-prototypes -g -fstack-protector-strong -Wformat -Werror=format-security -D_FORTIFY_SOURCE=2 -fPIC -I/home/jng/.virtualenvs/peakrisk2/lib/python3.4/site-packages/numpy/core/include -Icextern/erfa -I/usr/include/python3.4m -I/home/jng/.virtualenvs/peakrisk2/include/python3.4m -c cextern/erfa/taitt.c -o build/temp.linux-x86_64-3.4/cextern/erfa/taitt.o\r\n"
     ]
    },
    {
     "name": "stdout",
     "output_type": "stream",
     "text": [
      "    x86_64-linux-gnu-gcc -pthread -DNDEBUG -g -fwrapv -O2 -Wall -Wstrict-prototypes -g -fstack-protector-strong -Wformat -Werror=format-security -D_FORTIFY_SOURCE=2 -fPIC -I/home/jng/.virtualenvs/peakrisk2/lib/python3.4/site-packages/numpy/core/include -Icextern/erfa -I/usr/include/python3.4m -I/home/jng/.virtualenvs/peakrisk2/include/python3.4m -c cextern/erfa/apio13.c -o build/temp.linux-x86_64-3.4/cextern/erfa/apio13.o\r\n"
     ]
    },
    {
     "name": "stdout",
     "output_type": "stream",
     "text": [
      "    x86_64-linux-gnu-gcc -pthread -DNDEBUG -g -fwrapv -O2 -Wall -Wstrict-prototypes -g -fstack-protector-strong -Wformat -Werror=format-security -D_FORTIFY_SOURCE=2 -fPIC -I/home/jng/.virtualenvs/peakrisk2/lib/python3.4/site-packages/numpy/core/include -Icextern/erfa -I/usr/include/python3.4m -I/home/jng/.virtualenvs/peakrisk2/include/python3.4m -c cextern/erfa/tr.c -o build/temp.linux-x86_64-3.4/cextern/erfa/tr.o\r\n"
     ]
    },
    {
     "name": "stdout",
     "output_type": "stream",
     "text": [
      "    x86_64-linux-gnu-gcc -pthread -DNDEBUG -g -fwrapv -O2 -Wall -Wstrict-prototypes -g -fstack-protector-strong -Wformat -Werror=format-security -D_FORTIFY_SOURCE=2 -fPIC -I/home/jng/.virtualenvs/peakrisk2/lib/python3.4/site-packages/numpy/core/include -Icextern/erfa -I/usr/include/python3.4m -I/home/jng/.virtualenvs/peakrisk2/include/python3.4m -c cextern/erfa/bp06.c -o build/temp.linux-x86_64-3.4/cextern/erfa/bp06.o\r\n"
     ]
    },
    {
     "name": "stdout",
     "output_type": "stream",
     "text": [
      "    x86_64-linux-gnu-gcc -pthread -DNDEBUG -g -fwrapv -O2 -Wall -Wstrict-prototypes -g -fstack-protector-strong -Wformat -Werror=format-security -D_FORTIFY_SOURCE=2 -fPIC -I/home/jng/.virtualenvs/peakrisk2/lib/python3.4/site-packages/numpy/core/include -Icextern/erfa -I/usr/include/python3.4m -I/home/jng/.virtualenvs/peakrisk2/include/python3.4m -c cextern/erfa/rv2m.c -o build/temp.linux-x86_64-3.4/cextern/erfa/rv2m.o\r\n"
     ]
    },
    {
     "name": "stdout",
     "output_type": "stream",
     "text": [
      "    x86_64-linux-gnu-gcc -pthread -DNDEBUG -g -fwrapv -O2 -Wall -Wstrict-prototypes -g -fstack-protector-strong -Wformat -Werror=format-security -D_FORTIFY_SOURCE=2 -fPIC -I/home/jng/.virtualenvs/peakrisk2/lib/python3.4/site-packages/numpy/core/include -Icextern/erfa -I/usr/include/python3.4m -I/home/jng/.virtualenvs/peakrisk2/include/python3.4m -c cextern/erfa/fad03.c -o build/temp.linux-x86_64-3.4/cextern/erfa/fad03.o\r\n"
     ]
    },
    {
     "name": "stdout",
     "output_type": "stream",
     "text": [
      "    x86_64-linux-gnu-gcc -pthread -DNDEBUG -g -fwrapv -O2 -Wall -Wstrict-prototypes -g -fstack-protector-strong -Wformat -Werror=format-security -D_FORTIFY_SOURCE=2 -fPIC -I/home/jng/.virtualenvs/peakrisk2/lib/python3.4/site-packages/numpy/core/include -Icextern/erfa -I/usr/include/python3.4m -I/home/jng/.virtualenvs/peakrisk2/include/python3.4m -c cextern/erfa/pn00b.c -o build/temp.linux-x86_64-3.4/cextern/erfa/pn00b.o\r\n"
     ]
    },
    {
     "name": "stdout",
     "output_type": "stream",
     "text": [
      "    x86_64-linux-gnu-gcc -pthread -DNDEBUG -g -fwrapv -O2 -Wall -Wstrict-prototypes -g -fstack-protector-strong -Wformat -Werror=format-security -D_FORTIFY_SOURCE=2 -fPIC -I/home/jng/.virtualenvs/peakrisk2/lib/python3.4/site-packages/numpy/core/include -Icextern/erfa -I/usr/include/python3.4m -I/home/jng/.virtualenvs/peakrisk2/include/python3.4m -c cextern/erfa/tdbtcb.c -o build/temp.linux-x86_64-3.4/cextern/erfa/tdbtcb.o\r\n"
     ]
    },
    {
     "name": "stdout",
     "output_type": "stream",
     "text": [
      "    x86_64-linux-gnu-gcc -pthread -DNDEBUG -g -fwrapv -O2 -Wall -Wstrict-prototypes -g -fstack-protector-strong -Wformat -Werror=format-security -D_FORTIFY_SOURCE=2 -fPIC -I/home/jng/.virtualenvs/peakrisk2/lib/python3.4/site-packages/numpy/core/include -Icextern/erfa -I/usr/include/python3.4m -I/home/jng/.virtualenvs/peakrisk2/include/python3.4m -c cextern/erfa/c2i00b.c -o build/temp.linux-x86_64-3.4/cextern/erfa/c2i00b.o\r\n"
     ]
    },
    {
     "name": "stdout",
     "output_type": "stream",
     "text": [
      "    x86_64-linux-gnu-gcc -pthread -DNDEBUG -g -fwrapv -O2 -Wall -Wstrict-prototypes -g -fstack-protector-strong -Wformat -Werror=format-security -D_FORTIFY_SOURCE=2 -fPIC -I/home/jng/.virtualenvs/peakrisk2/lib/python3.4/site-packages/numpy/core/include -Icextern/erfa -I/usr/include/python3.4m -I/home/jng/.virtualenvs/peakrisk2/include/python3.4m -c cextern/erfa/epv00.c -o build/temp.linux-x86_64-3.4/cextern/erfa/epv00.o\r\n"
     ]
    },
    {
     "name": "stdout",
     "output_type": "stream",
     "text": [
      "    x86_64-linux-gnu-gcc -pthread -DNDEBUG -g -fwrapv -O2 -Wall -Wstrict-prototypes -g -fstack-protector-strong -Wformat -Werror=format-security -D_FORTIFY_SOURCE=2 -fPIC -I/home/jng/.virtualenvs/peakrisk2/lib/python3.4/site-packages/numpy/core/include -Icextern/erfa -I/usr/include/python3.4m -I/home/jng/.virtualenvs/peakrisk2/include/python3.4m -c cextern/erfa/utctai.c -o build/temp.linux-x86_64-3.4/cextern/erfa/utctai.o\r\n"
     ]
    },
    {
     "name": "stdout",
     "output_type": "stream",
     "text": [
      "    x86_64-linux-gnu-gcc -pthread -DNDEBUG -g -fwrapv -O2 -Wall -Wstrict-prototypes -g -fstack-protector-strong -Wformat -Werror=format-security -D_FORTIFY_SOURCE=2 -fPIC -I/home/jng/.virtualenvs/peakrisk2/lib/python3.4/site-packages/numpy/core/include -Icextern/erfa -I/usr/include/python3.4m -I/home/jng/.virtualenvs/peakrisk2/include/python3.4m -c cextern/erfa/epb.c -o build/temp.linux-x86_64-3.4/cextern/erfa/epb.o\r\n"
     ]
    },
    {
     "name": "stdout",
     "output_type": "stream",
     "text": [
      "    x86_64-linux-gnu-gcc -pthread -DNDEBUG -g -fwrapv -O2 -Wall -Wstrict-prototypes -g -fstack-protector-strong -Wformat -Werror=format-security -D_FORTIFY_SOURCE=2 -fPIC -I/home/jng/.virtualenvs/peakrisk2/lib/python3.4/site-packages/numpy/core/include -Icextern/erfa -I/usr/include/python3.4m -I/home/jng/.virtualenvs/peakrisk2/include/python3.4m -c cextern/erfa/anp.c -o build/temp.linux-x86_64-3.4/cextern/erfa/anp.o\r\n"
     ]
    },
    {
     "name": "stdout",
     "output_type": "stream",
     "text": [
      "    x86_64-linux-gnu-gcc -pthread -DNDEBUG -g -fwrapv -O2 -Wall -Wstrict-prototypes -g -fstack-protector-strong -Wformat -Werror=format-security -D_FORTIFY_SOURCE=2 -fPIC -I/home/jng/.virtualenvs/peakrisk2/lib/python3.4/site-packages/numpy/core/include -Icextern/erfa -I/usr/include/python3.4m -I/home/jng/.virtualenvs/peakrisk2/include/python3.4m -c cextern/erfa/pmpx.c -o build/temp.linux-x86_64-3.4/cextern/erfa/pmpx.o\r\n"
     ]
    },
    {
     "name": "stdout",
     "output_type": "stream",
     "text": [
      "    x86_64-linux-gnu-gcc -pthread -DNDEBUG -g -fwrapv -O2 -Wall -Wstrict-prototypes -g -fstack-protector-strong -Wformat -Werror=format-security -D_FORTIFY_SOURCE=2 -fPIC -I/home/jng/.virtualenvs/peakrisk2/lib/python3.4/site-packages/numpy/core/include -Icextern/erfa -I/usr/include/python3.4m -I/home/jng/.virtualenvs/peakrisk2/include/python3.4m -c cextern/erfa/trxp.c -o build/temp.linux-x86_64-3.4/cextern/erfa/trxp.o\r\n"
     ]
    },
    {
     "name": "stdout",
     "output_type": "stream",
     "text": [
      "    x86_64-linux-gnu-gcc -pthread -DNDEBUG -g -fwrapv -O2 -Wall -Wstrict-prototypes -g -fstack-protector-strong -Wformat -Werror=format-security -D_FORTIFY_SOURCE=2 -fPIC -I/home/jng/.virtualenvs/peakrisk2/lib/python3.4/site-packages/numpy/core/include -Icextern/erfa -I/usr/include/python3.4m -I/home/jng/.virtualenvs/peakrisk2/include/python3.4m -c cextern/erfa/tf2d.c -o build/temp.linux-x86_64-3.4/cextern/erfa/tf2d.o\r\n"
     ]
    },
    {
     "name": "stdout",
     "output_type": "stream",
     "text": [
      "    x86_64-linux-gnu-gcc -pthread -DNDEBUG -g -fwrapv -O2 -Wall -Wstrict-prototypes -g -fstack-protector-strong -Wformat -Werror=format-security -D_FORTIFY_SOURCE=2 -fPIC -I/home/jng/.virtualenvs/peakrisk2/lib/python3.4/site-packages/numpy/core/include -Icextern/erfa -I/usr/include/python3.4m -I/home/jng/.virtualenvs/peakrisk2/include/python3.4m -c cextern/erfa/p2pv.c -o build/temp.linux-x86_64-3.4/cextern/erfa/p2pv.o\r\n"
     ]
    },
    {
     "name": "stdout",
     "output_type": "stream",
     "text": [
      "    x86_64-linux-gnu-gcc -pthread -DNDEBUG -g -fwrapv -O2 -Wall -Wstrict-prototypes -g -fstack-protector-strong -Wformat -Werror=format-security -D_FORTIFY_SOURCE=2 -fPIC -I/home/jng/.virtualenvs/peakrisk2/lib/python3.4/site-packages/numpy/core/include -Icextern/erfa -I/usr/include/python3.4m -I/home/jng/.virtualenvs/peakrisk2/include/python3.4m -c cextern/erfa/s06.c -o build/temp.linux-x86_64-3.4/cextern/erfa/s06.o\r\n"
     ]
    },
    {
     "name": "stdout",
     "output_type": "stream",
     "text": [
      "    x86_64-linux-gnu-gcc -pthread -DNDEBUG -g -fwrapv -O2 -Wall -Wstrict-prototypes -g -fstack-protector-strong -Wformat -Werror=format-security -D_FORTIFY_SOURCE=2 -fPIC -I/home/jng/.virtualenvs/peakrisk2/lib/python3.4/site-packages/numpy/core/include -Icextern/erfa -I/usr/include/python3.4m -I/home/jng/.virtualenvs/peakrisk2/include/python3.4m -c cextern/erfa/fk5hip.c -o build/temp.linux-x86_64-3.4/cextern/erfa/fk5hip.o\r\n"
     ]
    },
    {
     "name": "stdout",
     "output_type": "stream",
     "text": [
      "    x86_64-linux-gnu-gcc -pthread -DNDEBUG -g -fwrapv -O2 -Wall -Wstrict-prototypes -g -fstack-protector-strong -Wformat -Werror=format-security -D_FORTIFY_SOURCE=2 -fPIC -I/home/jng/.virtualenvs/peakrisk2/lib/python3.4/site-packages/numpy/core/include -Icextern/erfa -I/usr/include/python3.4m -I/home/jng/.virtualenvs/peakrisk2/include/python3.4m -c cextern/erfa/p06e.c -o build/temp.linux-x86_64-3.4/cextern/erfa/p06e.o\r\n"
     ]
    },
    {
     "name": "stdout",
     "output_type": "stream",
     "text": [
      "    x86_64-linux-gnu-gcc -pthread -DNDEBUG -g -fwrapv -O2 -Wall -Wstrict-prototypes -g -fstack-protector-strong -Wformat -Werror=format-security -D_FORTIFY_SOURCE=2 -fPIC -I/home/jng/.virtualenvs/peakrisk2/lib/python3.4/site-packages/numpy/core/include -Icextern/erfa -I/usr/include/python3.4m -I/home/jng/.virtualenvs/peakrisk2/include/python3.4m -c cextern/erfa/apcs.c -o build/temp.linux-x86_64-3.4/cextern/erfa/apcs.o\r\n"
     ]
    },
    {
     "name": "stdout",
     "output_type": "stream",
     "text": [
      "    x86_64-linux-gnu-gcc -pthread -DNDEBUG -g -fwrapv -O2 -Wall -Wstrict-prototypes -g -fstack-protector-strong -Wformat -Werror=format-security -D_FORTIFY_SOURCE=2 -fPIC -I/home/jng/.virtualenvs/peakrisk2/lib/python3.4/site-packages/numpy/core/include -Icextern/erfa -I/usr/include/python3.4m -I/home/jng/.virtualenvs/peakrisk2/include/python3.4m -c cextern/erfa/fk5hz.c -o build/temp.linux-x86_64-3.4/cextern/erfa/fk5hz.o\r\n"
     ]
    },
    {
     "name": "stdout",
     "output_type": "stream",
     "text": [
      "    x86_64-linux-gnu-gcc -pthread -DNDEBUG -g -fwrapv -O2 -Wall -Wstrict-prototypes -g -fstack-protector-strong -Wformat -Werror=format-security -D_FORTIFY_SOURCE=2 -fPIC -I/home/jng/.virtualenvs/peakrisk2/lib/python3.4/site-packages/numpy/core/include -Icextern/erfa -I/usr/include/python3.4m -I/home/jng/.virtualenvs/peakrisk2/include/python3.4m -c cextern/erfa/c2t06a.c -o build/temp.linux-x86_64-3.4/cextern/erfa/c2t06a.o\r\n"
     ]
    },
    {
     "name": "stdout",
     "output_type": "stream",
     "text": [
      "    x86_64-linux-gnu-gcc -pthread -DNDEBUG -g -fwrapv -O2 -Wall -Wstrict-prototypes -g -fstack-protector-strong -Wformat -Werror=format-security -D_FORTIFY_SOURCE=2 -fPIC -I/home/jng/.virtualenvs/peakrisk2/lib/python3.4/site-packages/numpy/core/include -Icextern/erfa -I/usr/include/python3.4m -I/home/jng/.virtualenvs/peakrisk2/include/python3.4m -c cextern/erfa/gmst82.c -o build/temp.linux-x86_64-3.4/cextern/erfa/gmst82.o\r\n"
     ]
    },
    {
     "name": "stdout",
     "output_type": "stream",
     "text": [
      "    x86_64-linux-gnu-gcc -pthread -DNDEBUG -g -fwrapv -O2 -Wall -Wstrict-prototypes -g -fstack-protector-strong -Wformat -Werror=format-security -D_FORTIFY_SOURCE=2 -fPIC -I/home/jng/.virtualenvs/peakrisk2/lib/python3.4/site-packages/numpy/core/include -Icextern/erfa -I/usr/include/python3.4m -I/home/jng/.virtualenvs/peakrisk2/include/python3.4m -c cextern/erfa/ee00b.c -o build/temp.linux-x86_64-3.4/cextern/erfa/ee00b.o\r\n"
     ]
    },
    {
     "name": "stdout",
     "output_type": "stream",
     "text": [
      "    x86_64-linux-gnu-gcc -pthread -DNDEBUG -g -fwrapv -O2 -Wall -Wstrict-prototypes -g -fstack-protector-strong -Wformat -Werror=format-security -D_FORTIFY_SOURCE=2 -fPIC -I/home/jng/.virtualenvs/peakrisk2/lib/python3.4/site-packages/numpy/core/include -Icextern/erfa -I/usr/include/python3.4m -I/home/jng/.virtualenvs/peakrisk2/include/python3.4m -c cextern/erfa/dtf2d.c -o build/temp.linux-x86_64-3.4/cextern/erfa/dtf2d.o\r\n"
     ]
    },
    {
     "name": "stdout",
     "output_type": "stream",
     "text": [
      "    x86_64-linux-gnu-gcc -pthread -DNDEBUG -g -fwrapv -O2 -Wall -Wstrict-prototypes -g -fstack-protector-strong -Wformat -Werror=format-security -D_FORTIFY_SOURCE=2 -fPIC -I/home/jng/.virtualenvs/peakrisk2/lib/python3.4/site-packages/numpy/core/include -Icextern/erfa -I/usr/include/python3.4m -I/home/jng/.virtualenvs/peakrisk2/include/python3.4m -c cextern/erfa/atoiq.c -o build/temp.linux-x86_64-3.4/cextern/erfa/atoiq.o\r\n"
     ]
    },
    {
     "name": "stdout",
     "output_type": "stream",
     "text": [
      "    x86_64-linux-gnu-gcc -pthread -DNDEBUG -g -fwrapv -O2 -Wall -Wstrict-prototypes -g -fstack-protector-strong -Wformat -Werror=format-security -D_FORTIFY_SOURCE=2 -fPIC -I/home/jng/.virtualenvs/peakrisk2/lib/python3.4/site-packages/numpy/core/include -Icextern/erfa -I/usr/include/python3.4m -I/home/jng/.virtualenvs/peakrisk2/include/python3.4m -c cextern/erfa/pvxpv.c -o build/temp.linux-x86_64-3.4/cextern/erfa/pvxpv.o\r\n"
     ]
    },
    {
     "name": "stdout",
     "output_type": "stream",
     "text": [
      "    x86_64-linux-gnu-gcc -pthread -DNDEBUG -g -fwrapv -O2 -Wall -Wstrict-prototypes -g -fstack-protector-strong -Wformat -Werror=format-security -D_FORTIFY_SOURCE=2 -fPIC -I/home/jng/.virtualenvs/peakrisk2/lib/python3.4/site-packages/numpy/core/include -Icextern/erfa -I/usr/include/python3.4m -I/home/jng/.virtualenvs/peakrisk2/include/python3.4m -c cextern/erfa/pvu.c -o build/temp.linux-x86_64-3.4/cextern/erfa/pvu.o\r\n"
     ]
    },
    {
     "name": "stdout",
     "output_type": "stream",
     "text": [
      "    x86_64-linux-gnu-gcc -pthread -DNDEBUG -g -fwrapv -O2 -Wall -Wstrict-prototypes -g -fstack-protector-strong -Wformat -Werror=format-security -D_FORTIFY_SOURCE=2 -fPIC -I/home/jng/.virtualenvs/peakrisk2/lib/python3.4/site-packages/numpy/core/include -Icextern/erfa -I/usr/include/python3.4m -I/home/jng/.virtualenvs/peakrisk2/include/python3.4m -c cextern/erfa/xys00b.c -o build/temp.linux-x86_64-3.4/cextern/erfa/xys00b.o\r\n"
     ]
    },
    {
     "name": "stdout",
     "output_type": "stream",
     "text": [
      "    x86_64-linux-gnu-gcc -pthread -DNDEBUG -g -fwrapv -O2 -Wall -Wstrict-prototypes -g -fstack-protector-strong -Wformat -Werror=format-security -D_FORTIFY_SOURCE=2 -fPIC -I/home/jng/.virtualenvs/peakrisk2/lib/python3.4/site-packages/numpy/core/include -Icextern/erfa -I/usr/include/python3.4m -I/home/jng/.virtualenvs/peakrisk2/include/python3.4m -c cextern/erfa/c2ixy.c -o build/temp.linux-x86_64-3.4/cextern/erfa/c2ixy.o\r\n"
     ]
    },
    {
     "name": "stdout",
     "output_type": "stream",
     "text": [
      "    x86_64-linux-gnu-gcc -pthread -DNDEBUG -g -fwrapv -O2 -Wall -Wstrict-prototypes -g -fstack-protector-strong -Wformat -Werror=format-security -D_FORTIFY_SOURCE=2 -fPIC -I/home/jng/.virtualenvs/peakrisk2/lib/python3.4/site-packages/numpy/core/include -Icextern/erfa -I/usr/include/python3.4m -I/home/jng/.virtualenvs/peakrisk2/include/python3.4m -c cextern/erfa/gst00b.c -o build/temp.linux-x86_64-3.4/cextern/erfa/gst00b.o\r\n"
     ]
    },
    {
     "name": "stdout",
     "output_type": "stream",
     "text": [
      "    x86_64-linux-gnu-gcc -pthread -DNDEBUG -g -fwrapv -O2 -Wall -Wstrict-prototypes -g -fstack-protector-strong -Wformat -Werror=format-security -D_FORTIFY_SOURCE=2 -fPIC -I/home/jng/.virtualenvs/peakrisk2/lib/python3.4/site-packages/numpy/core/include -Icextern/erfa -I/usr/include/python3.4m -I/home/jng/.virtualenvs/peakrisk2/include/python3.4m -c cextern/erfa/pb06.c -o build/temp.linux-x86_64-3.4/cextern/erfa/pb06.o\r\n"
     ]
    },
    {
     "name": "stdout",
     "output_type": "stream",
     "text": [
      "    x86_64-linux-gnu-gcc -pthread -DNDEBUG -g -fwrapv -O2 -Wall -Wstrict-prototypes -g -fstack-protector-strong -Wformat -Werror=format-security -D_FORTIFY_SOURCE=2 -fPIC -I/home/jng/.virtualenvs/peakrisk2/lib/python3.4/site-packages/numpy/core/include -Icextern/erfa -I/usr/include/python3.4m -I/home/jng/.virtualenvs/peakrisk2/include/python3.4m -c cextern/erfa/hfk5z.c -o build/temp.linux-x86_64-3.4/cextern/erfa/hfk5z.o\r\n"
     ]
    },
    {
     "name": "stdout",
     "output_type": "stream",
     "text": [
      "    x86_64-linux-gnu-gcc -pthread -DNDEBUG -g -fwrapv -O2 -Wall -Wstrict-prototypes -g -fstack-protector-strong -Wformat -Werror=format-security -D_FORTIFY_SOURCE=2 -fPIC -I/home/jng/.virtualenvs/peakrisk2/lib/python3.4/site-packages/numpy/core/include -Icextern/erfa -I/usr/include/python3.4m -I/home/jng/.virtualenvs/peakrisk2/include/python3.4m -c cextern/erfa/fal03.c -o build/temp.linux-x86_64-3.4/cextern/erfa/fal03.o\r\n"
     ]
    },
    {
     "name": "stdout",
     "output_type": "stream",
     "text": [
      "    x86_64-linux-gnu-gcc -pthread -DNDEBUG -g -fwrapv -O2 -Wall -Wstrict-prototypes -g -fstack-protector-strong -Wformat -Werror=format-security -D_FORTIFY_SOURCE=2 -fPIC -I/home/jng/.virtualenvs/peakrisk2/lib/python3.4/site-packages/numpy/core/include -Icextern/erfa -I/usr/include/python3.4m -I/home/jng/.virtualenvs/peakrisk2/include/python3.4m -c cextern/erfa/pmat76.c -o build/temp.linux-x86_64-3.4/cextern/erfa/pmat76.o\r\n"
     ]
    },
    {
     "name": "stdout",
     "output_type": "stream",
     "text": [
      "    x86_64-linux-gnu-gcc -pthread -DNDEBUG -g -fwrapv -O2 -Wall -Wstrict-prototypes -g -fstack-protector-strong -Wformat -Werror=format-security -D_FORTIFY_SOURCE=2 -fPIC -I/home/jng/.virtualenvs/peakrisk2/lib/python3.4/site-packages/numpy/core/include -Icextern/erfa -I/usr/include/python3.4m -I/home/jng/.virtualenvs/peakrisk2/include/python3.4m -c cextern/erfa/ab.c -o build/temp.linux-x86_64-3.4/cextern/erfa/ab.o\r\n"
     ]
    },
    {
     "name": "stdout",
     "output_type": "stream",
     "text": [
      "    x86_64-linux-gnu-gcc -pthread -DNDEBUG -g -fwrapv -O2 -Wall -Wstrict-prototypes -g -fstack-protector-strong -Wformat -Werror=format-security -D_FORTIFY_SOURCE=2 -fPIC -I/home/jng/.virtualenvs/peakrisk2/lib/python3.4/site-packages/numpy/core/include -Icextern/erfa -I/usr/include/python3.4m -I/home/jng/.virtualenvs/peakrisk2/include/python3.4m -c cextern/erfa/s2p.c -o build/temp.linux-x86_64-3.4/cextern/erfa/s2p.o\r\n"
     ]
    },
    {
     "name": "stdout",
     "output_type": "stream",
     "text": [
      "    x86_64-linux-gnu-gcc -pthread -DNDEBUG -g -fwrapv -O2 -Wall -Wstrict-prototypes -g -fstack-protector-strong -Wformat -Werror=format-security -D_FORTIFY_SOURCE=2 -fPIC -I/home/jng/.virtualenvs/peakrisk2/lib/python3.4/site-packages/numpy/core/include -Icextern/erfa -I/usr/include/python3.4m -I/home/jng/.virtualenvs/peakrisk2/include/python3.4m -c cextern/erfa/zr.c -o build/temp.linux-x86_64-3.4/cextern/erfa/zr.o\r\n"
     ]
    },
    {
     "name": "stdout",
     "output_type": "stream",
     "text": [
      "    x86_64-linux-gnu-gcc -pthread -DNDEBUG -g -fwrapv -O2 -Wall -Wstrict-prototypes -g -fstack-protector-strong -Wformat -Werror=format-security -D_FORTIFY_SOURCE=2 -fPIC -I/home/jng/.virtualenvs/peakrisk2/lib/python3.4/site-packages/numpy/core/include -Icextern/erfa -I/usr/include/python3.4m -I/home/jng/.virtualenvs/peakrisk2/include/python3.4m -c cextern/erfa/dtdb.c -o build/temp.linux-x86_64-3.4/cextern/erfa/dtdb.o\r\n"
     ]
    },
    {
     "name": "stdout",
     "output_type": "stream",
     "text": [
      "    x86_64-linux-gnu-gcc -pthread -DNDEBUG -g -fwrapv -O2 -Wall -Wstrict-prototypes -g -fstack-protector-strong -Wformat -Werror=format-security -D_FORTIFY_SOURCE=2 -fPIC -I/home/jng/.virtualenvs/peakrisk2/lib/python3.4/site-packages/numpy/core/include -Icextern/erfa -I/usr/include/python3.4m -I/home/jng/.virtualenvs/peakrisk2/include/python3.4m -c cextern/erfa/c2teqx.c -o build/temp.linux-x86_64-3.4/cextern/erfa/c2teqx.o\r\n"
     ]
    },
    {
     "name": "stdout",
     "output_type": "stream",
     "text": [
      "    x86_64-linux-gnu-gcc -pthread -DNDEBUG -g -fwrapv -O2 -Wall -Wstrict-prototypes -g -fstack-protector-strong -Wformat -Werror=format-security -D_FORTIFY_SOURCE=2 -fPIC -I/home/jng/.virtualenvs/peakrisk2/lib/python3.4/site-packages/numpy/core/include -Icextern/erfa -I/usr/include/python3.4m -I/home/jng/.virtualenvs/peakrisk2/include/python3.4m -c cextern/erfa/ppp.c -o build/temp.linux-x86_64-3.4/cextern/erfa/ppp.o\r\n"
     ]
    },
    {
     "name": "stdout",
     "output_type": "stream",
     "text": [
      "    x86_64-linux-gnu-gcc -pthread -DNDEBUG -g -fwrapv -O2 -Wall -Wstrict-prototypes -g -fstack-protector-strong -Wformat -Werror=format-security -D_FORTIFY_SOURCE=2 -fPIC -I/home/jng/.virtualenvs/peakrisk2/lib/python3.4/site-packages/numpy/core/include -Icextern/erfa -I/usr/include/python3.4m -I/home/jng/.virtualenvs/peakrisk2/include/python3.4m -c cextern/erfa/fapa03.c -o build/temp.linux-x86_64-3.4/cextern/erfa/fapa03.o\r\n"
     ]
    },
    {
     "name": "stdout",
     "output_type": "stream",
     "text": [
      "    x86_64-linux-gnu-gcc -pthread -DNDEBUG -g -fwrapv -O2 -Wall -Wstrict-prototypes -g -fstack-protector-strong -Wformat -Werror=format-security -D_FORTIFY_SOURCE=2 -fPIC -I/home/jng/.virtualenvs/peakrisk2/lib/python3.4/site-packages/numpy/core/include -Icextern/erfa -I/usr/include/python3.4m -I/home/jng/.virtualenvs/peakrisk2/include/python3.4m -c cextern/erfa/s00.c -o build/temp.linux-x86_64-3.4/cextern/erfa/s00.o\r\n"
     ]
    },
    {
     "name": "stdout",
     "output_type": "stream",
     "text": [
      "    x86_64-linux-gnu-gcc -pthread -DNDEBUG -g -fwrapv -O2 -Wall -Wstrict-prototypes -g -fstack-protector-strong -Wformat -Werror=format-security -D_FORTIFY_SOURCE=2 -fPIC -I/home/jng/.virtualenvs/peakrisk2/lib/python3.4/site-packages/numpy/core/include -Icextern/erfa -I/usr/include/python3.4m -I/home/jng/.virtualenvs/peakrisk2/include/python3.4m -c cextern/erfa/pas.c -o build/temp.linux-x86_64-3.4/cextern/erfa/pas.o\r\n"
     ]
    },
    {
     "name": "stdout",
     "output_type": "stream",
     "text": [
      "    x86_64-linux-gnu-gcc -pthread -DNDEBUG -g -fwrapv -O2 -Wall -Wstrict-prototypes -g -fstack-protector-strong -Wformat -Werror=format-security -D_FORTIFY_SOURCE=2 -fPIC -I/home/jng/.virtualenvs/peakrisk2/lib/python3.4/site-packages/numpy/core/include -Icextern/erfa -I/usr/include/python3.4m -I/home/jng/.virtualenvs/peakrisk2/include/python3.4m -c cextern/erfa/gd2gce.c -o build/temp.linux-x86_64-3.4/cextern/erfa/gd2gce.o\r\n"
     ]
    },
    {
     "name": "stdout",
     "output_type": "stream",
     "text": [
      "    x86_64-linux-gnu-gcc -pthread -DNDEBUG -g -fwrapv -O2 -Wall -Wstrict-prototypes -g -fstack-protector-strong -Wformat -Werror=format-security -D_FORTIFY_SOURCE=2 -fPIC -I/home/jng/.virtualenvs/peakrisk2/lib/python3.4/site-packages/numpy/core/include -Icextern/erfa -I/usr/include/python3.4m -I/home/jng/.virtualenvs/peakrisk2/include/python3.4m -c cextern/erfa/gc2gd.c -o build/temp.linux-x86_64-3.4/cextern/erfa/gc2gd.o\r\n"
     ]
    },
    {
     "name": "stdout",
     "output_type": "stream",
     "text": [
      "    x86_64-linux-gnu-gcc -pthread -DNDEBUG -g -fwrapv -O2 -Wall -Wstrict-prototypes -g -fstack-protector-strong -Wformat -Werror=format-security -D_FORTIFY_SOURCE=2 -fPIC -I/home/jng/.virtualenvs/peakrisk2/lib/python3.4/site-packages/numpy/core/include -Icextern/erfa -I/usr/include/python3.4m -I/home/jng/.virtualenvs/peakrisk2/include/python3.4m -c cextern/erfa/ld.c -o build/temp.linux-x86_64-3.4/cextern/erfa/ld.o\r\n"
     ]
    },
    {
     "name": "stdout",
     "output_type": "stream",
     "text": [
      "    x86_64-linux-gnu-gcc -pthread -DNDEBUG -g -fwrapv -O2 -Wall -Wstrict-prototypes -g -fstack-protector-strong -Wformat -Werror=format-security -D_FORTIFY_SOURCE=2 -fPIC -I/home/jng/.virtualenvs/peakrisk2/lib/python3.4/site-packages/numpy/core/include -Icextern/erfa -I/usr/include/python3.4m -I/home/jng/.virtualenvs/peakrisk2/include/python3.4m -c cextern/erfa/num06a.c -o build/temp.linux-x86_64-3.4/cextern/erfa/num06a.o\r\n"
     ]
    },
    {
     "name": "stdout",
     "output_type": "stream",
     "text": [
      "    x86_64-linux-gnu-gcc -pthread -DNDEBUG -g -fwrapv -O2 -Wall -Wstrict-prototypes -g -fstack-protector-strong -Wformat -Werror=format-security -D_FORTIFY_SOURCE=2 -fPIC -I/home/jng/.virtualenvs/peakrisk2/lib/python3.4/site-packages/numpy/core/include -Icextern/erfa -I/usr/include/python3.4m -I/home/jng/.virtualenvs/peakrisk2/include/python3.4m -c cextern/erfa/rx.c -o build/temp.linux-x86_64-3.4/cextern/erfa/rx.o\r\n"
     ]
    },
    {
     "name": "stdout",
     "output_type": "stream",
     "text": [
      "    x86_64-linux-gnu-gcc -pthread -DNDEBUG -g -fwrapv -O2 -Wall -Wstrict-prototypes -g -fstack-protector-strong -Wformat -Werror=format-security -D_FORTIFY_SOURCE=2 -fPIC -I/home/jng/.virtualenvs/peakrisk2/lib/python3.4/site-packages/numpy/core/include -Icextern/erfa -I/usr/include/python3.4m -I/home/jng/.virtualenvs/peakrisk2/include/python3.4m -c cextern/erfa/pvppv.c -o build/temp.linux-x86_64-3.4/cextern/erfa/pvppv.o\r\n"
     ]
    },
    {
     "name": "stdout",
     "output_type": "stream",
     "text": [
      "    x86_64-linux-gnu-gcc -pthread -DNDEBUG -g -fwrapv -O2 -Wall -Wstrict-prototypes -g -fstack-protector-strong -Wformat -Werror=format-security -D_FORTIFY_SOURCE=2 -fPIC -I/home/jng/.virtualenvs/peakrisk2/lib/python3.4/site-packages/numpy/core/include -Icextern/erfa -I/usr/include/python3.4m -I/home/jng/.virtualenvs/peakrisk2/include/python3.4m -c cextern/erfa/tdbtt.c -o build/temp.linux-x86_64-3.4/cextern/erfa/tdbtt.o\r\n"
     ]
    },
    {
     "name": "stdout",
     "output_type": "stream",
     "text": [
      "    x86_64-linux-gnu-gcc -pthread -DNDEBUG -g -fwrapv -O2 -Wall -Wstrict-prototypes -g -fstack-protector-strong -Wformat -Werror=format-security -D_FORTIFY_SOURCE=2 -fPIC -I/home/jng/.virtualenvs/peakrisk2/lib/python3.4/site-packages/numpy/core/include -Icextern/erfa -I/usr/include/python3.4m -I/home/jng/.virtualenvs/peakrisk2/include/python3.4m -c cextern/erfa/fane03.c -o build/temp.linux-x86_64-3.4/cextern/erfa/fane03.o\r\n"
     ]
    },
    {
     "name": "stdout",
     "output_type": "stream",
     "text": [
      "    x86_64-linux-gnu-gcc -pthread -DNDEBUG -g -fwrapv -O2 -Wall -Wstrict-prototypes -g -fstack-protector-strong -Wformat -Werror=format-security -D_FORTIFY_SOURCE=2 -fPIC -I/home/jng/.virtualenvs/peakrisk2/lib/python3.4/site-packages/numpy/core/include -Icextern/erfa -I/usr/include/python3.4m -I/home/jng/.virtualenvs/peakrisk2/include/python3.4m -c cextern/erfa/gst00a.c -o build/temp.linux-x86_64-3.4/cextern/erfa/gst00a.o\r\n"
     ]
    },
    {
     "name": "stdout",
     "output_type": "stream",
     "text": [
      "    x86_64-linux-gnu-gcc -pthread -DNDEBUG -g -fwrapv -O2 -Wall -Wstrict-prototypes -g -fstack-protector-strong -Wformat -Werror=format-security -D_FORTIFY_SOURCE=2 -fPIC -I/home/jng/.virtualenvs/peakrisk2/lib/python3.4/site-packages/numpy/core/include -Icextern/erfa -I/usr/include/python3.4m -I/home/jng/.virtualenvs/peakrisk2/include/python3.4m -c cextern/erfa/ir.c -o build/temp.linux-x86_64-3.4/cextern/erfa/ir.o\r\n"
     ]
    },
    {
     "name": "stdout",
     "output_type": "stream",
     "text": [
      "    x86_64-linux-gnu-gcc -pthread -DNDEBUG -g -fwrapv -O2 -Wall -Wstrict-prototypes -g -fstack-protector-strong -Wformat -Werror=format-security -D_FORTIFY_SOURCE=2 -fPIC -I/home/jng/.virtualenvs/peakrisk2/lib/python3.4/site-packages/numpy/core/include -Icextern/erfa -I/usr/include/python3.4m -I/home/jng/.virtualenvs/peakrisk2/include/python3.4m -c cextern/erfa/c2i06a.c -o build/temp.linux-x86_64-3.4/cextern/erfa/c2i06a.o\r\n"
     ]
    },
    {
     "name": "stdout",
     "output_type": "stream",
     "text": [
      "    x86_64-linux-gnu-gcc -pthread -DNDEBUG -g -fwrapv -O2 -Wall -Wstrict-prototypes -g -fstack-protector-strong -Wformat -Werror=format-security -D_FORTIFY_SOURCE=2 -fPIC -I/home/jng/.virtualenvs/peakrisk2/lib/python3.4/site-packages/numpy/core/include -Icextern/erfa -I/usr/include/python3.4m -I/home/jng/.virtualenvs/peakrisk2/include/python3.4m -c cextern/erfa/a2af.c -o build/temp.linux-x86_64-3.4/cextern/erfa/a2af.o\r\n"
     ]
    },
    {
     "name": "stdout",
     "output_type": "stream",
     "text": [
      "    x86_64-linux-gnu-gcc -pthread -DNDEBUG -g -fwrapv -O2 -Wall -Wstrict-prototypes -g -fstack-protector-strong -Wformat -Werror=format-security -D_FORTIFY_SOURCE=2 -fPIC -I/home/jng/.virtualenvs/peakrisk2/lib/python3.4/site-packages/numpy/core/include -Icextern/erfa -I/usr/include/python3.4m -I/home/jng/.virtualenvs/peakrisk2/include/python3.4m -c cextern/erfa/cp.c -o build/temp.linux-x86_64-3.4/cextern/erfa/cp.o\r\n"
     ]
    },
    {
     "name": "stdout",
     "output_type": "stream",
     "text": [
      "    x86_64-linux-gnu-gcc -pthread -DNDEBUG -g -fwrapv -O2 -Wall -Wstrict-prototypes -g -fstack-protector-strong -Wformat -Werror=format-security -D_FORTIFY_SOURCE=2 -fPIC -I/home/jng/.virtualenvs/peakrisk2/lib/python3.4/site-packages/numpy/core/include -Icextern/erfa -I/usr/include/python3.4m -I/home/jng/.virtualenvs/peakrisk2/include/python3.4m -c cextern/erfa/nut06a.c -o build/temp.linux-x86_64-3.4/cextern/erfa/nut06a.o\r\n"
     ]
    },
    {
     "name": "stdout",
     "output_type": "stream",
     "text": [
      "    x86_64-linux-gnu-gcc -pthread -DNDEBUG -g -fwrapv -O2 -Wall -Wstrict-prototypes -g -fstack-protector-strong -Wformat -Werror=format-security -D_FORTIFY_SOURCE=2 -fPIC -I/home/jng/.virtualenvs/peakrisk2/lib/python3.4/site-packages/numpy/core/include -Icextern/erfa -I/usr/include/python3.4m -I/home/jng/.virtualenvs/peakrisk2/include/python3.4m -c cextern/erfa/c2tpe.c -o build/temp.linux-x86_64-3.4/cextern/erfa/c2tpe.o\r\n"
     ]
    },
    {
     "name": "stdout",
     "output_type": "stream",
     "text": [
      "    x86_64-linux-gnu-gcc -pthread -DNDEBUG -g -fwrapv -O2 -Wall -Wstrict-prototypes -g -fstack-protector-strong -Wformat -Werror=format-security -D_FORTIFY_SOURCE=2 -fPIC -I/home/jng/.virtualenvs/peakrisk2/lib/python3.4/site-packages/numpy/core/include -Icextern/erfa -I/usr/include/python3.4m -I/home/jng/.virtualenvs/peakrisk2/include/python3.4m -c cextern/erfa/sp00.c -o build/temp.linux-x86_64-3.4/cextern/erfa/sp00.o\r\n"
     ]
    },
    {
     "name": "stdout",
     "output_type": "stream",
     "text": [
      "    x86_64-linux-gnu-gcc -pthread -DNDEBUG -g -fwrapv -O2 -Wall -Wstrict-prototypes -g -fstack-protector-strong -Wformat -Werror=format-security -D_FORTIFY_SOURCE=2 -fPIC -I/home/jng/.virtualenvs/peakrisk2/lib/python3.4/site-packages/numpy/core/include -Icextern/erfa -I/usr/include/python3.4m -I/home/jng/.virtualenvs/peakrisk2/include/python3.4m -c cextern/erfa/sxpv.c -o build/temp.linux-x86_64-3.4/cextern/erfa/sxpv.o\r\n"
     ]
    },
    {
     "name": "stdout",
     "output_type": "stream",
     "text": [
      "    x86_64-linux-gnu-gcc -pthread -DNDEBUG -g -fwrapv -O2 -Wall -Wstrict-prototypes -g -fstack-protector-strong -Wformat -Werror=format-security -D_FORTIFY_SOURCE=2 -fPIC -I/home/jng/.virtualenvs/peakrisk2/lib/python3.4/site-packages/numpy/core/include -Icextern/erfa -I/usr/include/python3.4m -I/home/jng/.virtualenvs/peakrisk2/include/python3.4m -c cextern/erfa/ldsun.c -o build/temp.linux-x86_64-3.4/cextern/erfa/ldsun.o\r\n"
     ]
    },
    {
     "name": "stdout",
     "output_type": "stream",
     "text": [
      "    x86_64-linux-gnu-gcc -pthread -DNDEBUG -g -fwrapv -O2 -Wall -Wstrict-prototypes -g -fstack-protector-strong -Wformat -Werror=format-security -D_FORTIFY_SOURCE=2 -fPIC -I/home/jng/.virtualenvs/peakrisk2/lib/python3.4/site-packages/numpy/core/include -Icextern/erfa -I/usr/include/python3.4m -I/home/jng/.virtualenvs/peakrisk2/include/python3.4m -c cextern/erfa/faju03.c -o build/temp.linux-x86_64-3.4/cextern/erfa/faju03.o\r\n"
     ]
    },
    {
     "name": "stdout",
     "output_type": "stream",
     "text": [
      "    x86_64-linux-gnu-gcc -pthread -DNDEBUG -g -fwrapv -O2 -Wall -Wstrict-prototypes -g -fstack-protector-strong -Wformat -Werror=format-security -D_FORTIFY_SOURCE=2 -fPIC -I/home/jng/.virtualenvs/peakrisk2/lib/python3.4/site-packages/numpy/core/include -Icextern/erfa -I/usr/include/python3.4m -I/home/jng/.virtualenvs/peakrisk2/include/python3.4m -c cextern/erfa/rxpv.c -o build/temp.linux-x86_64-3.4/cextern/erfa/rxpv.o\r\n"
     ]
    },
    {
     "name": "stdout",
     "output_type": "stream",
     "text": [
      "    x86_64-linux-gnu-gcc -pthread -DNDEBUG -g -fwrapv -O2 -Wall -Wstrict-prototypes -g -fstack-protector-strong -Wformat -Werror=format-security -D_FORTIFY_SOURCE=2 -fPIC -I/home/jng/.virtualenvs/peakrisk2/lib/python3.4/site-packages/numpy/core/include -Icextern/erfa -I/usr/include/python3.4m -I/home/jng/.virtualenvs/peakrisk2/include/python3.4m -c cextern/erfa/ut1tt.c -o build/temp.linux-x86_64-3.4/cextern/erfa/ut1tt.o\r\n"
     ]
    },
    {
     "name": "stdout",
     "output_type": "stream",
     "text": [
      "    x86_64-linux-gnu-gcc -pthread -DNDEBUG -g -fwrapv -O2 -Wall -Wstrict-prototypes -g -fstack-protector-strong -Wformat -Werror=format-security -D_FORTIFY_SOURCE=2 -fPIC -I/home/jng/.virtualenvs/peakrisk2/lib/python3.4/site-packages/numpy/core/include -Icextern/erfa -I/usr/include/python3.4m -I/home/jng/.virtualenvs/peakrisk2/include/python3.4m -c cextern/erfa/rxp.c -o build/temp.linux-x86_64-3.4/cextern/erfa/rxp.o\r\n"
     ]
    },
    {
     "name": "stdout",
     "output_type": "stream",
     "text": [
      "    x86_64-linux-gnu-gcc -pthread -DNDEBUG -g -fwrapv -O2 -Wall -Wstrict-prototypes -g -fstack-protector-strong -Wformat -Werror=format-security -D_FORTIFY_SOURCE=2 -fPIC -I/home/jng/.virtualenvs/peakrisk2/lib/python3.4/site-packages/numpy/core/include -Icextern/erfa -I/usr/include/python3.4m -I/home/jng/.virtualenvs/peakrisk2/include/python3.4m -c cextern/erfa/aticqn.c -o build/temp.linux-x86_64-3.4/cextern/erfa/aticqn.o\r\n"
     ]
    },
    {
     "name": "stdout",
     "output_type": "stream",
     "text": [
      "    x86_64-linux-gnu-gcc -pthread -DNDEBUG -g -fwrapv -O2 -Wall -Wstrict-prototypes -g -fstack-protector-strong -Wformat -Werror=format-security -D_FORTIFY_SOURCE=2 -fPIC -I/home/jng/.virtualenvs/peakrisk2/lib/python3.4/site-packages/numpy/core/include -Icextern/erfa -I/usr/include/python3.4m -I/home/jng/.virtualenvs/peakrisk2/include/python3.4m -c cextern/erfa/cpv.c -o build/temp.linux-x86_64-3.4/cextern/erfa/cpv.o\r\n"
     ]
    },
    {
     "name": "stdout",
     "output_type": "stream",
     "text": [
      "    x86_64-linux-gnu-gcc -pthread -DNDEBUG -g -fwrapv -O2 -Wall -Wstrict-prototypes -g -fstack-protector-strong -Wformat -Werror=format-security -D_FORTIFY_SOURCE=2 -fPIC -I/home/jng/.virtualenvs/peakrisk2/lib/python3.4/site-packages/numpy/core/include -Icextern/erfa -I/usr/include/python3.4m -I/home/jng/.virtualenvs/peakrisk2/include/python3.4m -c cextern/erfa/cal2jd.c -o build/temp.linux-x86_64-3.4/cextern/erfa/cal2jd.o\r\n"
     ]
    },
    {
     "name": "stdout",
     "output_type": "stream",
     "text": [
      "    x86_64-linux-gnu-gcc -pthread -DNDEBUG -g -fwrapv -O2 -Wall -Wstrict-prototypes -g -fstack-protector-strong -Wformat -Werror=format-security -D_FORTIFY_SOURCE=2 -fPIC -I/home/jng/.virtualenvs/peakrisk2/lib/python3.4/site-packages/numpy/core/include -Icextern/erfa -I/usr/include/python3.4m -I/home/jng/.virtualenvs/peakrisk2/include/python3.4m -c cextern/erfa/num00b.c -o build/temp.linux-x86_64-3.4/cextern/erfa/num00b.o\r\n"
     ]
    },
    {
     "name": "stdout",
     "output_type": "stream",
     "text": [
      "    x86_64-linux-gnu-gcc -pthread -DNDEBUG -g -fwrapv -O2 -Wall -Wstrict-prototypes -g -fstack-protector-strong -Wformat -Werror=format-security -D_FORTIFY_SOURCE=2 -fPIC -I/home/jng/.virtualenvs/peakrisk2/lib/python3.4/site-packages/numpy/core/include -Icextern/erfa -I/usr/include/python3.4m -I/home/jng/.virtualenvs/peakrisk2/include/python3.4m -c cextern/erfa/pfw06.c -o build/temp.linux-x86_64-3.4/cextern/erfa/pfw06.o\r\n"
     ]
    },
    {
     "name": "stdout",
     "output_type": "stream",
     "text": [
      "    x86_64-linux-gnu-gcc -pthread -DNDEBUG -g -fwrapv -O2 -Wall -Wstrict-prototypes -g -fstack-protector-strong -Wformat -Werror=format-security -D_FORTIFY_SOURCE=2 -fPIC -I/home/jng/.virtualenvs/peakrisk2/lib/python3.4/site-packages/numpy/core/include -Icextern/erfa -I/usr/include/python3.4m -I/home/jng/.virtualenvs/peakrisk2/include/python3.4m -c cextern/erfa/pmsafe.c -o build/temp.linux-x86_64-3.4/cextern/erfa/pmsafe.o\r\n"
     ]
    },
    {
     "name": "stdout",
     "output_type": "stream",
     "text": [
      "    x86_64-linux-gnu-gcc -pthread -DNDEBUG -g -fwrapv -O2 -Wall -Wstrict-prototypes -g -fstack-protector-strong -Wformat -Werror=format-security -D_FORTIFY_SOURCE=2 -fPIC -I/home/jng/.virtualenvs/peakrisk2/lib/python3.4/site-packages/numpy/core/include -Icextern/erfa -I/usr/include/python3.4m -I/home/jng/.virtualenvs/peakrisk2/include/python3.4m -c cextern/erfa/pvtob.c -o build/temp.linux-x86_64-3.4/cextern/erfa/pvtob.o\r\n"
     ]
    },
    {
     "name": "stdout",
     "output_type": "stream",
     "text": [
      "    x86_64-linux-gnu-gcc -pthread -DNDEBUG -g -fwrapv -O2 -Wall -Wstrict-prototypes -g -fstack-protector-strong -Wformat -Werror=format-security -D_FORTIFY_SOURCE=2 -fPIC -I/home/jng/.virtualenvs/peakrisk2/lib/python3.4/site-packages/numpy/core/include -Icextern/erfa -I/usr/include/python3.4m -I/home/jng/.virtualenvs/peakrisk2/include/python3.4m -c cextern/erfa/ttut1.c -o build/temp.linux-x86_64-3.4/cextern/erfa/ttut1.o\r\n"
     ]
    },
    {
     "name": "stdout",
     "output_type": "stream",
     "text": [
      "    x86_64-linux-gnu-gcc -pthread -DNDEBUG -g -fwrapv -O2 -Wall -Wstrict-prototypes -g -fstack-protector-strong -Wformat -Werror=format-security -D_FORTIFY_SOURCE=2 -fPIC -I/home/jng/.virtualenvs/peakrisk2/lib/python3.4/site-packages/numpy/core/include -Icextern/erfa -I/usr/include/python3.4m -I/home/jng/.virtualenvs/peakrisk2/include/python3.4m -c cextern/erfa/pn00a.c -o build/temp.linux-x86_64-3.4/cextern/erfa/pn00a.o\r\n"
     ]
    },
    {
     "name": "stdout",
     "output_type": "stream",
     "text": [
      "    x86_64-linux-gnu-gcc -pthread -DNDEBUG -g -fwrapv -O2 -Wall -Wstrict-prototypes -g -fstack-protector-strong -Wformat -Werror=format-security -D_FORTIFY_SOURCE=2 -fPIC -I/home/jng/.virtualenvs/peakrisk2/lib/python3.4/site-packages/numpy/core/include -Icextern/erfa -I/usr/include/python3.4m -I/home/jng/.virtualenvs/peakrisk2/include/python3.4m -c cextern/erfa/falp03.c -o build/temp.linux-x86_64-3.4/cextern/erfa/falp03.o\r\n"
     ]
    },
    {
     "name": "stdout",
     "output_type": "stream",
     "text": [
      "    x86_64-linux-gnu-gcc -pthread -DNDEBUG -g -fwrapv -O2 -Wall -Wstrict-prototypes -g -fstack-protector-strong -Wformat -Werror=format-security -D_FORTIFY_SOURCE=2 -fPIC -I/home/jng/.virtualenvs/peakrisk2/lib/python3.4/site-packages/numpy/core/include -Icextern/erfa -I/usr/include/python3.4m -I/home/jng/.virtualenvs/peakrisk2/include/python3.4m -c cextern/erfa/pv2s.c -o build/temp.linux-x86_64-3.4/cextern/erfa/pv2s.o\r\n"
     ]
    },
    {
     "name": "stdout",
     "output_type": "stream",
     "text": [
      "    x86_64-linux-gnu-gcc -pthread -DNDEBUG -g -fwrapv -O2 -Wall -Wstrict-prototypes -g -fstack-protector-strong -Wformat -Werror=format-security -D_FORTIFY_SOURCE=2 -fPIC -I/home/jng/.virtualenvs/peakrisk2/lib/python3.4/site-packages/numpy/core/include -Icextern/erfa -I/usr/include/python3.4m -I/home/jng/.virtualenvs/peakrisk2/include/python3.4m -c cextern/erfa/trxpv.c -o build/temp.linux-x86_64-3.4/cextern/erfa/trxpv.o\r\n"
     ]
    },
    {
     "name": "stdout",
     "output_type": "stream",
     "text": [
      "    x86_64-linux-gnu-gcc -pthread -DNDEBUG -g -fwrapv -O2 -Wall -Wstrict-prototypes -g -fstack-protector-strong -Wformat -Werror=format-security -D_FORTIFY_SOURCE=2 -fPIC -I/home/jng/.virtualenvs/peakrisk2/lib/python3.4/site-packages/numpy/core/include -Icextern/erfa -I/usr/include/python3.4m -I/home/jng/.virtualenvs/peakrisk2/include/python3.4m -c cextern/erfa/ldn.c -o build/temp.linux-x86_64-3.4/cextern/erfa/ldn.o\r\n"
     ]
    },
    {
     "name": "stdout",
     "output_type": "stream",
     "text": [
      "    x86_64-linux-gnu-gcc -pthread -DNDEBUG -g -fwrapv -O2 -Wall -Wstrict-prototypes -g -fstack-protector-strong -Wformat -Werror=format-security -D_FORTIFY_SOURCE=2 -fPIC -I/home/jng/.virtualenvs/peakrisk2/lib/python3.4/site-packages/numpy/core/include -Icextern/erfa -I/usr/include/python3.4m -I/home/jng/.virtualenvs/peakrisk2/include/python3.4m -c cextern/erfa/pv2p.c -o build/temp.linux-x86_64-3.4/cextern/erfa/pv2p.o\r\n"
     ]
    },
    {
     "name": "stdout",
     "output_type": "stream",
     "text": [
      "    x86_64-linux-gnu-gcc -pthread -DNDEBUG -g -fwrapv -O2 -Wall -Wstrict-prototypes -g -fstack-protector-strong -Wformat -Werror=format-security -D_FORTIFY_SOURCE=2 -fPIC -I/home/jng/.virtualenvs/peakrisk2/lib/python3.4/site-packages/numpy/core/include -Icextern/erfa -I/usr/include/python3.4m -I/home/jng/.virtualenvs/peakrisk2/include/python3.4m -c cextern/erfa/atio13.c -o build/temp.linux-x86_64-3.4/cextern/erfa/atio13.o\r\n"
     ]
    },
    {
     "name": "stdout",
     "output_type": "stream",
     "text": [
      "    x86_64-linux-gnu-gcc -pthread -DNDEBUG -g -fwrapv -O2 -Wall -Wstrict-prototypes -g -fstack-protector-strong -Wformat -Werror=format-security -D_FORTIFY_SOURCE=2 -fPIC -I/home/jng/.virtualenvs/peakrisk2/lib/python3.4/site-packages/numpy/core/include -Icextern/erfa -I/usr/include/python3.4m -I/home/jng/.virtualenvs/peakrisk2/include/python3.4m -c cextern/erfa/ppsp.c -o build/temp.linux-x86_64-3.4/cextern/erfa/ppsp.o\r\n"
     ]
    },
    {
     "name": "stdout",
     "output_type": "stream",
     "text": [
      "    x86_64-linux-gnu-gcc -pthread -DNDEBUG -g -fwrapv -O2 -Wall -Wstrict-prototypes -g -fstack-protector-strong -Wformat -Werror=format-security -D_FORTIFY_SOURCE=2 -fPIC -I/home/jng/.virtualenvs/peakrisk2/lib/python3.4/site-packages/numpy/core/include -Icextern/erfa -I/usr/include/python3.4m -I/home/jng/.virtualenvs/peakrisk2/include/python3.4m -c cextern/erfa/atic13.c -o build/temp.linux-x86_64-3.4/cextern/erfa/atic13.o\r\n"
     ]
    },
    {
     "name": "stdout",
     "output_type": "stream",
     "text": [
      "    x86_64-linux-gnu-gcc -pthread -DNDEBUG -g -fwrapv -O2 -Wall -Wstrict-prototypes -g -fstack-protector-strong -Wformat -Werror=format-security -D_FORTIFY_SOURCE=2 -fPIC -I/home/jng/.virtualenvs/peakrisk2/lib/python3.4/site-packages/numpy/core/include -Icextern/erfa -I/usr/include/python3.4m -I/home/jng/.virtualenvs/peakrisk2/include/python3.4m -c cextern/erfa/epj2jd.c -o build/temp.linux-x86_64-3.4/cextern/erfa/epj2jd.o\r\n"
     ]
    },
    {
     "name": "stdout",
     "output_type": "stream",
     "text": [
      "    x86_64-linux-gnu-gcc -pthread -DNDEBUG -g -fwrapv -O2 -Wall -Wstrict-prototypes -g -fstack-protector-strong -Wformat -Werror=format-security -D_FORTIFY_SOURCE=2 -fPIC -I/home/jng/.virtualenvs/peakrisk2/lib/python3.4/site-packages/numpy/core/include -Icextern/erfa -I/usr/include/python3.4m -I/home/jng/.virtualenvs/peakrisk2/include/python3.4m -c cextern/erfa/pn.c -o build/temp.linux-x86_64-3.4/cextern/erfa/pn.o\r\n"
     ]
    },
    {
     "name": "stdout",
     "output_type": "stream",
     "text": [
      "    x86_64-linux-gnu-gcc -pthread -DNDEBUG -g -fwrapv -O2 -Wall -Wstrict-prototypes -g -fstack-protector-strong -Wformat -Werror=format-security -D_FORTIFY_SOURCE=2 -fPIC -I/home/jng/.virtualenvs/peakrisk2/lib/python3.4/site-packages/numpy/core/include -Icextern/erfa -I/usr/include/python3.4m -I/home/jng/.virtualenvs/peakrisk2/include/python3.4m -c cextern/erfa/s00a.c -o build/temp.linux-x86_64-3.4/cextern/erfa/s00a.o\r\n"
     ]
    },
    {
     "name": "stdout",
     "output_type": "stream",
     "text": [
      "    x86_64-linux-gnu-gcc -pthread -DNDEBUG -g -fwrapv -O2 -Wall -Wstrict-prototypes -g -fstack-protector-strong -Wformat -Werror=format-security -D_FORTIFY_SOURCE=2 -fPIC -I/home/jng/.virtualenvs/peakrisk2/lib/python3.4/site-packages/numpy/core/include -Icextern/erfa -I/usr/include/python3.4m -I/home/jng/.virtualenvs/peakrisk2/include/python3.4m -c cextern/erfa/seps.c -o build/temp.linux-x86_64-3.4/cextern/erfa/seps.o\r\n"
     ]
    },
    {
     "name": "stdout",
     "output_type": "stream",
     "text": [
      "    x86_64-linux-gnu-gcc -pthread -DNDEBUG -g -fwrapv -O2 -Wall -Wstrict-prototypes -g -fstack-protector-strong -Wformat -Werror=format-security -D_FORTIFY_SOURCE=2 -fPIC -I/home/jng/.virtualenvs/peakrisk2/lib/python3.4/site-packages/numpy/core/include -Icextern/erfa -I/usr/include/python3.4m -I/home/jng/.virtualenvs/peakrisk2/include/python3.4m -c cextern/erfa/gmst00.c -o build/temp.linux-x86_64-3.4/cextern/erfa/gmst00.o\r\n"
     ]
    },
    {
     "name": "stdout",
     "output_type": "stream",
     "text": [
      "    x86_64-linux-gnu-gcc -pthread -DNDEBUG -g -fwrapv -O2 -Wall -Wstrict-prototypes -g -fstack-protector-strong -Wformat -Werror=format-security -D_FORTIFY_SOURCE=2 -fPIC -I/home/jng/.virtualenvs/peakrisk2/lib/python3.4/site-packages/numpy/core/include -Icextern/erfa -I/usr/include/python3.4m -I/home/jng/.virtualenvs/peakrisk2/include/python3.4m -c cextern/erfa/apio.c -o build/temp.linux-x86_64-3.4/cextern/erfa/apio.o\r\n"
     ]
    },
    {
     "name": "stdout",
     "output_type": "stream",
     "text": [
      "    x86_64-linux-gnu-gcc -pthread -DNDEBUG -g -fwrapv -O2 -Wall -Wstrict-prototypes -g -fstack-protector-strong -Wformat -Werror=format-security -D_FORTIFY_SOURCE=2 -fPIC -I/home/jng/.virtualenvs/peakrisk2/lib/python3.4/site-packages/numpy/core/include -Icextern/erfa -I/usr/include/python3.4m -I/home/jng/.virtualenvs/peakrisk2/include/python3.4m -c cextern/erfa/atioq.c -o build/temp.linux-x86_64-3.4/cextern/erfa/atioq.o\r\n"
     ]
    },
    {
     "name": "stdout",
     "output_type": "stream",
     "text": [
      "    x86_64-linux-gnu-gcc -pthread -DNDEBUG -g -fwrapv -O2 -Wall -Wstrict-prototypes -g -fstack-protector-strong -Wformat -Werror=format-security -D_FORTIFY_SOURCE=2 -fPIC -I/home/jng/.virtualenvs/peakrisk2/lib/python3.4/site-packages/numpy/core/include -Icextern/erfa -I/usr/include/python3.4m -I/home/jng/.virtualenvs/peakrisk2/include/python3.4m -c cextern/erfa/pmp.c -o build/temp.linux-x86_64-3.4/cextern/erfa/pmp.o\r\n"
     ]
    },
    {
     "name": "stdout",
     "output_type": "stream",
     "text": [
      "    x86_64-linux-gnu-gcc -pthread -DNDEBUG -g -fwrapv -O2 -Wall -Wstrict-prototypes -g -fstack-protector-strong -Wformat -Werror=format-security -D_FORTIFY_SOURCE=2 -fPIC -I/home/jng/.virtualenvs/peakrisk2/lib/python3.4/site-packages/numpy/core/include -Icextern/erfa -I/usr/include/python3.4m -I/home/jng/.virtualenvs/peakrisk2/include/python3.4m -c cextern/erfa/cr.c -o build/temp.linux-x86_64-3.4/cextern/erfa/cr.o\r\n"
     ]
    },
    {
     "name": "stdout",
     "output_type": "stream",
     "text": [
      "    x86_64-linux-gnu-gcc -pthread -DNDEBUG -g -fwrapv -O2 -Wall -Wstrict-prototypes -g -fstack-protector-strong -Wformat -Werror=format-security -D_FORTIFY_SOURCE=2 -fPIC -I/home/jng/.virtualenvs/peakrisk2/lib/python3.4/site-packages/numpy/core/include -Icextern/erfa -I/usr/include/python3.4m -I/home/jng/.virtualenvs/peakrisk2/include/python3.4m -c cextern/erfa/pdp.c -o build/temp.linux-x86_64-3.4/cextern/erfa/pdp.o\r\n"
     ]
    },
    {
     "name": "stdout",
     "output_type": "stream",
     "text": [
      "    x86_64-linux-gnu-gcc -pthread -DNDEBUG -g -fwrapv -O2 -Wall -Wstrict-prototypes -g -fstack-protector-strong -Wformat -Werror=format-security -D_FORTIFY_SOURCE=2 -fPIC -I/home/jng/.virtualenvs/peakrisk2/lib/python3.4/site-packages/numpy/core/include -Icextern/erfa -I/usr/include/python3.4m -I/home/jng/.virtualenvs/peakrisk2/include/python3.4m -c cextern/erfa/apcg.c -o build/temp.linux-x86_64-3.4/cextern/erfa/apcg.o\r\n"
     ]
    },
    {
     "name": "stdout",
     "output_type": "stream",
     "text": [
      "    x86_64-linux-gnu-gcc -pthread -DNDEBUG -g -fwrapv -O2 -Wall -Wstrict-prototypes -g -fstack-protector-strong -Wformat -Werror=format-security -D_FORTIFY_SOURCE=2 -fPIC -I/home/jng/.virtualenvs/peakrisk2/lib/python3.4/site-packages/numpy/core/include -Icextern/erfa -I/usr/include/python3.4m -I/home/jng/.virtualenvs/peakrisk2/include/python3.4m -c cextern/erfa/g2icrs.c -o build/temp.linux-x86_64-3.4/cextern/erfa/g2icrs.o\r\n"
     ]
    },
    {
     "name": "stdout",
     "output_type": "stream",
     "text": [
      "    x86_64-linux-gnu-gcc -pthread -DNDEBUG -g -fwrapv -O2 -Wall -Wstrict-prototypes -g -fstack-protector-strong -Wformat -Werror=format-security -D_FORTIFY_SOURCE=2 -fPIC -I/home/jng/.virtualenvs/peakrisk2/lib/python3.4/site-packages/numpy/core/include -Icextern/erfa -I/usr/include/python3.4m -I/home/jng/.virtualenvs/peakrisk2/include/python3.4m -c cextern/erfa/fw2m.c -o build/temp.linux-x86_64-3.4/cextern/erfa/fw2m.o\r\n"
     ]
    },
    {
     "name": "stdout",
     "output_type": "stream",
     "text": [
      "    x86_64-linux-gnu-gcc -pthread -DNDEBUG -g -fwrapv -O2 -Wall -Wstrict-prototypes -g -fstack-protector-strong -Wformat -Werror=format-security -D_FORTIFY_SOURCE=2 -fPIC -I/home/jng/.virtualenvs/peakrisk2/lib/python3.4/site-packages/numpy/core/include -Icextern/erfa -I/usr/include/python3.4m -I/home/jng/.virtualenvs/peakrisk2/include/python3.4m -c cextern/erfa/prec76.c -o build/temp.linux-x86_64-3.4/cextern/erfa/prec76.o\r\n"
     ]
    },
    {
     "name": "stdout",
     "output_type": "stream",
     "text": [
      "    x86_64-linux-gnu-gcc -pthread -DNDEBUG -g -fwrapv -O2 -Wall -Wstrict-prototypes -g -fstack-protector-strong -Wformat -Werror=format-security -D_FORTIFY_SOURCE=2 -fPIC -I/home/jng/.virtualenvs/peakrisk2/lib/python3.4/site-packages/numpy/core/include -Icextern/erfa -I/usr/include/python3.4m -I/home/jng/.virtualenvs/peakrisk2/include/python3.4m -c cextern/erfa/pn06a.c -o build/temp.linux-x86_64-3.4/cextern/erfa/pn06a.o\r\n"
     ]
    },
    {
     "name": "stdout",
     "output_type": "stream",
     "text": [
      "    x86_64-linux-gnu-gcc -pthread -DNDEBUG -g -fwrapv -O2 -Wall -Wstrict-prototypes -g -fstack-protector-strong -Wformat -Werror=format-security -D_FORTIFY_SOURCE=2 -fPIC -I/home/jng/.virtualenvs/peakrisk2/lib/python3.4/site-packages/numpy/core/include -Icextern/erfa -I/usr/include/python3.4m -I/home/jng/.virtualenvs/peakrisk2/include/python3.4m -c cextern/erfa/starpm.c -o build/temp.linux-x86_64-3.4/cextern/erfa/starpm.o\r\n"
     ]
    },
    {
     "name": "stdout",
     "output_type": "stream",
     "text": [
      "    x86_64-linux-gnu-gcc -pthread -DNDEBUG -g -fwrapv -O2 -Wall -Wstrict-prototypes -g -fstack-protector-strong -Wformat -Werror=format-security -D_FORTIFY_SOURCE=2 -fPIC -I/home/jng/.virtualenvs/peakrisk2/lib/python3.4/site-packages/numpy/core/include -Icextern/erfa -I/usr/include/python3.4m -I/home/jng/.virtualenvs/peakrisk2/include/python3.4m -c cextern/erfa/atciq.c -o build/temp.linux-x86_64-3.4/cextern/erfa/atciq.o\r\n"
     ]
    },
    {
     "name": "stdout",
     "output_type": "stream",
     "text": [
      "    x86_64-linux-gnu-gcc -pthread -DNDEBUG -g -fwrapv -O2 -Wall -Wstrict-prototypes -g -fstack-protector-strong -Wformat -Werror=format-security -D_FORTIFY_SOURCE=2 -fPIC -I/home/jng/.virtualenvs/peakrisk2/lib/python3.4/site-packages/numpy/core/include -Icextern/erfa -I/usr/include/python3.4m -I/home/jng/.virtualenvs/peakrisk2/include/python3.4m -c cextern/erfa/plan94.c -o build/temp.linux-x86_64-3.4/cextern/erfa/plan94.o\r\n"
     ]
    },
    {
     "name": "stdout",
     "output_type": "stream",
     "text": [
      "    x86_64-linux-gnu-gcc -pthread -DNDEBUG -g -fwrapv -O2 -Wall -Wstrict-prototypes -g -fstack-protector-strong -Wformat -Werror=format-security -D_FORTIFY_SOURCE=2 -fPIC -I/home/jng/.virtualenvs/peakrisk2/lib/python3.4/site-packages/numpy/core/include -Icextern/erfa -I/usr/include/python3.4m -I/home/jng/.virtualenvs/peakrisk2/include/python3.4m -c cextern/erfa/icrs2g.c -o build/temp.linux-x86_64-3.4/cextern/erfa/icrs2g.o\r\n"
     ]
    },
    {
     "name": "stdout",
     "output_type": "stream",
     "text": [
      "    x86_64-linux-gnu-gcc -pthread -DNDEBUG -g -fwrapv -O2 -Wall -Wstrict-prototypes -g -fstack-protector-strong -Wformat -Werror=format-security -D_FORTIFY_SOURCE=2 -fPIC -I/home/jng/.virtualenvs/peakrisk2/lib/python3.4/site-packages/numpy/core/include -Icextern/erfa -I/usr/include/python3.4m -I/home/jng/.virtualenvs/peakrisk2/include/python3.4m -c cextern/erfa/apci.c -o build/temp.linux-x86_64-3.4/cextern/erfa/apci.o\r\n"
     ]
    },
    {
     "name": "stdout",
     "output_type": "stream",
     "text": [
      "    x86_64-linux-gnu-gcc -pthread -DNDEBUG -g -fwrapv -O2 -Wall -Wstrict-prototypes -g -fstack-protector-strong -Wformat -Werror=format-security -D_FORTIFY_SOURCE=2 -fPIC -I/home/jng/.virtualenvs/peakrisk2/lib/python3.4/site-packages/numpy/core/include -Icextern/erfa -I/usr/include/python3.4m -I/home/jng/.virtualenvs/peakrisk2/include/python3.4m -c cextern/erfa/taiutc.c -o build/temp.linux-x86_64-3.4/cextern/erfa/taiutc.o\r\n"
     ]
    },
    {
     "name": "stdout",
     "output_type": "stream",
     "text": [
      "    x86_64-linux-gnu-gcc -pthread -DNDEBUG -g -fwrapv -O2 -Wall -Wstrict-prototypes -g -fstack-protector-strong -Wformat -Werror=format-security -D_FORTIFY_SOURCE=2 -fPIC -I/home/jng/.virtualenvs/peakrisk2/lib/python3.4/site-packages/numpy/core/include -Icextern/erfa -I/usr/include/python3.4m -I/home/jng/.virtualenvs/peakrisk2/include/python3.4m -c cextern/erfa/fama03.c -o build/temp.linux-x86_64-3.4/cextern/erfa/fama03.o\r\n"
     ]
    },
    {
     "name": "stdout",
     "output_type": "stream",
     "text": [
      "    x86_64-linux-gnu-gcc -pthread -DNDEBUG -g -fwrapv -O2 -Wall -Wstrict-prototypes -g -fstack-protector-strong -Wformat -Werror=format-security -D_FORTIFY_SOURCE=2 -fPIC -I/home/jng/.virtualenvs/peakrisk2/lib/python3.4/site-packages/numpy/core/include -Icextern/erfa -I/usr/include/python3.4m -I/home/jng/.virtualenvs/peakrisk2/include/python3.4m -c cextern/erfa/bp00.c -o build/temp.linux-x86_64-3.4/cextern/erfa/bp00.o\r\n"
     ]
    },
    {
     "name": "stdout",
     "output_type": "stream",
     "text": [
      "    astropy/_erfa/core.c:1735:43: warning: passing argument 5 of ‘eraBp06’ from incompatible pointer type\r\n",
      "             eraBp06(_date1, _date2, _rb, _rp, _rbp);\r\n",
      "                                               ^\r\n",
      "    In file included from astropy/_erfa/core.c:13:0:\r\n",
      "    cextern/erfa/erfa.h:164:6: note: expected ‘double (*)[3]’ but argument is of type ‘double *’\r\n",
      "     void eraBp06(double date1, double date2,\r\n",
      "          ^\r\n",
      "    astropy/_erfa/core.c: In function ‘Py_bp00’:\r\n",
      "    astropy/_erfa/core.c:1806:33: warning: passing argument 3 of ‘eraBp00’ from incompatible pointer type\r\n",
      "             eraBp00(_date1, _date2, _rb, _rp, _rbp);\r\n",
      "                                     ^\r\n",
      "    In file included from astropy/_erfa/core.c:13:0:\r\n",
      "    cextern/erfa/erfa.h:162:6: note: expected ‘double (*)[3]’ but argument is of type ‘double *’\r\n",
      "     void eraBp00(double date1, double date2,\r\n",
      "          ^\r\n",
      "    astropy/_erfa/core.c:1806:38: warning: passing argument 4 of ‘eraBp00’ from incompatible pointer type\r\n",
      "             eraBp00(_date1, _date2, _rb, _rp, _rbp);\r\n",
      "                                          ^\r\n",
      "    In file included from astropy/_erfa/core.c:13:0:\r\n",
      "    cextern/erfa/erfa.h:162:6: note: expected ‘double (*)[3]’ but argument is of type ‘double *’\r\n",
      "     void eraBp00(double date1, double date2,\r\n",
      "          ^\r\n",
      "    astropy/_erfa/core.c:1806:43: warning: passing argument 5 of ‘eraBp00’ from incompatible pointer type\r\n",
      "             eraBp00(_date1, _date2, _rb, _rp, _rbp);\r\n",
      "                                               ^\r\n",
      "    In file included from astropy/_erfa/core.c:13:0:\r\n",
      "    cextern/erfa/erfa.h:162:6: note: expected ‘double (*)[3]’ but argument is of type ‘double *’\r\n",
      "     void eraBp00(double date1, double date2,\r\n",
      "          ^\r\n",
      "    astropy/_erfa/core.c: In function ‘Py_apcs13’:\r\n",
      "    astropy/_erfa/core.c:1999:35: warning: passing argument 3 of ‘eraApcs13’ from incompatible pointer type\r\n",
      "             eraApcs13(_date1, _date2, _pv, _astrom);\r\n",
      "                                       ^\r\n",
      "    In file included from astropy/_erfa/core.c:13:0:\r\n",
      "    cextern/erfa/erfa.h:61:6: note: expected ‘double (*)[3]’ but argument is of type ‘double *’\r\n",
      "     void eraApcs13(double date1, double date2, double pv[2][3],\r\n",
      "          ^\r\n",
      "    astropy/_erfa/core.c: In function ‘Py_c2ixy’:\r\n",
      "    astropy/_erfa/core.c:2026:42: warning: passing argument 5 of ‘eraC2ixy’ from incompatible pointer type\r\n",
      "             eraC2ixy(_date1, _date2, _x, _y, _rc2i);\r\n",
      "                                              ^\r\n",
      "    In file included from astropy/_erfa/core.c:13:0:\r\n",
      "    cextern/erfa/erfa.h:172:6: note: expected ‘double (*)[3]’ but argument is of type ‘double *’\r\n",
      "     void eraC2ixy(double date1, double date2, double x, double y,\r\n",
      "          ^\r\n",
      "    astropy/_erfa/core.c: In function ‘Py_pn06a’:\r\n",
      "    astropy/_erfa/core.c:2398:55: warning: passing argument 6 of ‘eraPn06a’ from incompatible pointer type\r\n",
      "             eraPn06a(_date1, _date2, _dpsi, _deps, _epsa, _rb, _rp, _rbp, _rn, _rbpn);\r\n",
      "                                                           ^\r\n",
      "    In file included from astropy/_erfa/core.c:13:0:\r\n",
      "    cextern/erfa/erfa.h:237:6: note: expected ‘double (*)[3]’ but argument is of type ‘double *’\r\n",
      "     void eraPn06a(double date1, double date2,\r\n",
      "          ^\r\n",
      "    astropy/_erfa/core.c:2398:60: warning: passing argument 7 of ‘eraPn06a’ from incompatible pointer type\r\n",
      "             eraPn06a(_date1, _date2, _dpsi, _deps, _epsa, _rb, _rp, _rbp, _rn, _rbpn);\r\n",
      "                                                                ^\r\n",
      "    In file included from astropy/_erfa/core.c:13:0:\r\n",
      "    cextern/erfa/erfa.h:237:6: note: expected ‘double (*)[3]’ but argument is of type ‘double *’\r\n",
      "     void eraPn06a(double date1, double date2,\r\n",
      "          ^\r\n",
      "    astropy/_erfa/core.c:2398:65: warning: passing argument 8 of ‘eraPn06a’ from incompatible pointer type\r\n",
      "             eraPn06a(_date1, _date2, _dpsi, _deps, _epsa, _rb, _rp, _rbp, _rn, _rbpn);\r\n",
      "                                                                     ^\r\n",
      "    In file included from astropy/_erfa/core.c:13:0:\r\n",
      "    cextern/erfa/erfa.h:237:6: note: expected ‘double (*)[3]’ but argument is of type ‘double *’\r\n",
      "     void eraPn06a(double date1, double date2,\r\n",
      "          ^\r\n",
      "    astropy/_erfa/core.c:2398:71: warning: passing argument 9 of ‘eraPn06a’ from incompatible pointer type\r\n",
      "             eraPn06a(_date1, _date2, _dpsi, _deps, _epsa, _rb, _rp, _rbp, _rn, _rbpn);\r\n",
      "                                                                           ^\r\n",
      "    In file included from astropy/_erfa/core.c:13:0:\r\n",
      "    cextern/erfa/erfa.h:237:6: note: expected ‘double (*)[3]’ but argument is of type ‘double *’\r\n",
      "     void eraPn06a(double date1, double date2,\r\n",
      "          ^\r\n",
      "    astropy/_erfa/core.c:2398:76: warning: passing argument 10 of ‘eraPn06a’ from incompatible pointer type\r\n",
      "             eraPn06a(_date1, _date2, _dpsi, _deps, _epsa, _rb, _rp, _rbp, _rn, _rbpn);\r\n",
      "                                                                                ^\r\n",
      "    In file included from astropy/_erfa/core.c:13:0:\r\n",
      "    cextern/erfa/erfa.h:237:6: note: expected ‘double (*)[3]’ but argument is of type ‘double *’\r\n",
      "     void eraPn06a(double date1, double date2,\r\n",
      "          ^\r\n",
      "    astropy/_erfa/core.c: In function ‘Py_fk5hip’:\r\n",
      "    astropy/_erfa/core.c:2508:19: warning: passing argument 1 of ‘eraFk5hip’ from incompatible pointer type\r\n",
      "             eraFk5hip(_r5h, _s5h);\r\n",
      "                       ^\r\n",
      "    In file included from astropy/_erfa/core.c:13:0:\r\n",
      "    cextern/erfa/erfa.h:295:6: note: expected ‘double (*)[3]’ but argument is of type ‘double *’\r\n",
      "     void eraFk5hip(double r5h[3][3], double s5h[3]);\r\n",
      "          ^\r\n",
      "    astropy/_erfa/core.c: In function ‘Py_eors’:\r\n",
      "    astropy/_erfa/core.c:2551:29: warning: passing argument 1 of ‘eraEors’ from incompatible pointer type\r\n",
      "             _c_retval = eraEors(_rnpb, _s);\r\n",
      "                                 ^\r\n",
      "    In file included from astropy/_erfa/core.c:13:0:\r\n",
      "    cextern/erfa/erfa.h:192:8: note: expected ‘double (*)[3]’ but argument is of type ‘double *’\r\n",
      "     double eraEors(double rnpb[3][3], double s);\r\n",
      "            ^\r\n",
      "    astropy/_erfa/core.c: In function ‘Py_pnm06a’:\r\n",
      "    astropy/_erfa/core.c:2643:35: warning: passing argument 3 of ‘eraPnm06a’ from incompatible pointer type\r\n",
      "             eraPnm06a(_date1, _date2, _rnpb);\r\n",
      "                                       ^\r\n",
      "    In file included from astropy/_erfa/core.c:13:0:\r\n",
      "    cextern/erfa/erfa.h:243:6: note: expected ‘double (*)[3]’ but argument is of type ‘double *’\r\n",
      "     void eraPnm06a(double date1, double date2, double rnpb[3][3]);\r\n",
      "          ^\r\n",
      "    astropy/_erfa/core.c: In function ‘Py_c2teqx’:\r\n",
      "    astropy/_erfa/core.c:2770:19: warning: passing argument 1 of ‘eraC2teqx’ from incompatible pointer type\r\n",
      "             eraC2teqx(_rbpn, _gst, _rpom, _rc2t);\r\n",
      "                       ^\r\n",
      "    In file included from astropy/_erfa/core.c:13:0:\r\n",
      "    cextern/erfa/erfa.h:183:6: note: expected ‘double (*)[3]’ but argument is of type ‘double *’\r\n",
      "     void eraC2teqx(double rbpn[3][3], double gst, double rpom[3][3],\r\n",
      "          ^\r\n",
      "    astropy/_erfa/core.c:2770:32: warning: passing argument 3 of ‘eraC2teqx’ from incompatible pointer type\r\n",
      "             eraC2teqx(_rbpn, _gst, _rpom, _rc2t);\r\n",
      "                                    ^\r\n",
      "    In file included from astropy/_erfa/core.c:13:0:\r\n",
      "    cextern/erfa/erfa.h:183:6: note: expected ‘double (*)[3]’ but argument is of type ‘double *’\r\n",
      "     void eraC2teqx(double rbpn[3][3], double gst, double rpom[3][3],\r\n",
      "          ^\r\n",
      "    astropy/_erfa/core.c:2770:39: warning: passing argument 4 of ‘eraC2teqx’ from incompatible pointer type\r\n",
      "             eraC2teqx(_rbpn, _gst, _rpom, _rc2t);\r\n",
      "                                           ^\r\n",
      "    In file included from astropy/_erfa/core.c:13:0:\r\n",
      "    cextern/erfa/erfa.h:183:6: note: expected ‘double (*)[3]’ but argument is of type ‘double *’\r\n",
      "     void eraC2teqx(double rbpn[3][3], double gst, double rpom[3][3],\r\n",
      "          ^\r\n",
      "    astropy/_erfa/core.c: In function ‘Py_pn00b’:\r\n",
      "    astropy/_erfa/core.c:2878:55: warning: passing argument 6 of ‘eraPn00b’ from incompatible pointer type\r\n",
      "             eraPn00b(_date1, _date2, _dpsi, _deps, _epsa, _rb, _rp, _rbp, _rn, _rbpn);\r\n",
      "                                                           ^\r\n",
      "    In file included from astropy/_erfa/core.c:13:0:\r\n",
      "    cextern/erfa/erfa.h:229:6: note: expected ‘double (*)[3]’ but argument is of type ‘double *’\r\n",
      "     void eraPn00b(double date1, double date2,\r\n",
      "          ^\r\n",
      "    astropy/_erfa/core.c:2878:60: warning: passing argument 7 of ‘eraPn00b’ from incompatible pointer type\r\n",
      "             eraPn00b(_date1, _date2, _dpsi, _deps, _epsa, _rb, _rp, _rbp, _rn, _rbpn);\r\n",
      "                                                                ^\r\n",
      "    In file included from astropy/_erfa/core.c:13:0:\r\n",
      "    cextern/erfa/erfa.h:229:6: note: expected ‘double (*)[3]’ but argument is of type ‘double *’\r\n",
      "     void eraPn00b(double date1, double date2,\r\n",
      "          ^\r\n",
      "    astropy/_erfa/core.c:2878:65: warning: passing argument 8 of ‘eraPn00b’ from incompatible pointer type\r\n",
      "             eraPn00b(_date1, _date2, _dpsi, _deps, _epsa, _rb, _rp, _rbp, _rn, _rbpn);\r\n",
      "                                                                     ^\r\n",
      "    In file included from astropy/_erfa/core.c:13:0:\r\n",
      "    cextern/erfa/erfa.h:229:6: note: expected ‘double (*)[3]’ but argument is of type ‘double *’\r\n",
      "     void eraPn00b(double date1, double date2,\r\n",
      "          ^\r\n",
      "    astropy/_erfa/core.c:2878:71: warning: passing argument 9 of ‘eraPn00b’ from incompatible pointer type\r\n",
      "             eraPn00b(_date1, _date2, _dpsi, _deps, _epsa, _rb, _rp, _rbp, _rn, _rbpn);\r\n",
      "                                                                           ^\r\n",
      "    In file included from astropy/_erfa/core.c:13:0:\r\n",
      "    cextern/erfa/erfa.h:229:6: note: expected ‘double (*)[3]’ but argument is of type ‘double *’\r\n",
      "     void eraPn00b(double date1, double date2,\r\n",
      "          ^\r\n",
      "    astropy/_erfa/core.c:2878:76: warning: passing argument 10 of ‘eraPn00b’ from incompatible pointer type\r\n",
      "             eraPn00b(_date1, _date2, _dpsi, _deps, _epsa, _rb, _rp, _rbp, _rn, _rbpn);\r\n",
      "                                                                                ^\r\n",
      "    In file included from astropy/_erfa/core.c:13:0:\r\n",
      "    cextern/erfa/erfa.h:229:6: note: expected ‘double (*)[3]’ but argument is of type ‘double *’\r\n",
      "     void eraPn00b(double date1, double date2,\r\n",
      "          ^\r\n",
      "    astropy/_erfa/core.c: In function ‘Py_epv00’:\r\n",
      "    astropy/_erfa/core.c:2984:46: warning: passing argument 3 of ‘eraEpv00’ from incompatible pointer type\r\n",
      "             _c_retval = eraEpv00(_date1, _date2, _pvh, _pvb);\r\n",
      "                                                  ^\r\n",
      "    In file included from astropy/_erfa/core.c:13:0:\r\n",
      "    cextern/erfa/erfa.h:140:5: note: expected ‘double (*)[3]’ but argument is of type ‘double *’\r\n",
      "     int eraEpv00(double date1, double date2,\r\n",
      "         ^\r\n",
      "    astropy/_erfa/core.c:2984:52: warning: passing argument 4 of ‘eraEpv00’ from incompatible pointer type\r\n",
      "             _c_retval = eraEpv00(_date1, _date2, _pvh, _pvb);\r\n",
      "                                                        ^\r\n",
      "    In file included from astropy/_erfa/core.c:13:0:\r\n",
      "    cextern/erfa/erfa.h:140:5: note: expected ‘double (*)[3]’ but argument is of type ‘double *’\r\n",
      "     int eraEpv00(double date1, double date2,\r\n",
      "         ^\r\n",
      "    astropy/_erfa/core.c: In function ‘Py_c2ixys’:\r\n",
      "    astropy/_erfa/core.c:3044:31: warning: passing argument 4 of ‘eraC2ixys’ from incompatible pointer type\r\n",
      "             eraC2ixys(_x, _y, _s, _rc2i);\r\n",
      "                                   ^\r\n",
      "    In file included from astropy/_erfa/core.c:13:0:\r\n",
      "    cextern/erfa/erfa.h:174:6: note: expected ‘double (*)[3]’ but argument is of type ‘double *’\r\n",
      "     void eraC2ixys(double x, double y, double s, double rc2i[3][3]);\r\n",
      "          ^\r\n",
      "    astropy/_erfa/core.c: In function ‘Py_c2t00a’:\r\n",
      "    astropy/_erfa/core.c:3164:53: warning: passing argument 7 of ‘eraC2t00a’ from incompatible pointer type\r\n",
      "             eraC2t00a(_tta, _ttb, _uta, _utb, _xp, _yp, _rc2t);\r\n",
      "                                                         ^\r\n",
      "    In file included from astropy/_erfa/core.c:13:0:\r\n",
      "    cextern/erfa/erfa.h:175:6: note: expected ‘double (*)[3]’ but argument is of type ‘double *’\r\n",
      "     void eraC2t00a(double tta, double ttb, double uta, double utb,\r\n",
      "          ^\r\n",
      "    astropy/_erfa/core.c: In function ‘Py_c2txy’:\r\n",
      "    astropy/_erfa/core.c:3199:60: warning: passing argument 9 of ‘eraC2txy’ from incompatible pointer type\r\n",
      "             eraC2txy(_tta, _ttb, _uta, _utb, _x, _y, _xp, _yp, _rc2t);\r\n",
      "                                                                ^\r\n",
      "    In file included from astropy/_erfa/core.c:13:0:\r\n",
      "    cextern/erfa/erfa.h:188:6: note: expected ‘double (*)[3]’ but argument is of type ‘double *’\r\n",
      "     void eraC2txy(double tta, double ttb, double uta, double utb,\r\n",
      "          ^\r\n",
      "    astropy/_erfa/core.c: In function ‘Py_pn00a’:\r\n",
      "    astropy/_erfa/core.c:3288:55: warning: passing argument 6 of ‘eraPn00a’ from incompatible pointer type\r\n",
      "             eraPn00a(_date1, _date2, _dpsi, _deps, _epsa, _rb, _rp, _rbp, _rn, _rbpn);\r\n",
      "                                                           ^\r\n",
      "    In file included from astropy/_erfa/core.c:13:0:\r\n",
      "    cextern/erfa/erfa.h:225:6: note: expected ‘double (*)[3]’ but argument is of type ‘double *’\r\n",
      "     void eraPn00a(double date1, double date2,\r\n",
      "          ^\r\n",
      "    astropy/_erfa/core.c:3288:60: warning: passing argument 7 of ‘eraPn00a’ from incompatible pointer type\r\n",
      "             eraPn00a(_date1, _date2, _dpsi, _deps, _epsa, _rb, _rp, _rbp, _rn, _rbpn);\r\n",
      "                                                                ^\r\n",
      "    In file included from astropy/_erfa/core.c:13:0:\r\n",
      "    cextern/erfa/erfa.h:225:6: note: expected ‘double (*)[3]’ but argument is of type ‘double *’\r\n",
      "     void eraPn00a(double date1, double date2,\r\n",
      "          ^\r\n",
      "    astropy/_erfa/core.c:3288:65: warning: passing argument 8 of ‘eraPn00a’ from incompatible pointer type\r\n",
      "             eraPn00a(_date1, _date2, _dpsi, _deps, _epsa, _rb, _rp, _rbp, _rn, _rbpn);\r\n",
      "                                                                     ^\r\n",
      "    In file included from astropy/_erfa/core.c:13:0:\r\n",
      "    cextern/erfa/erfa.h:225:6: note: expected ‘double (*)[3]’ but argument is of type ‘double *’\r\n",
      "     void eraPn00a(double date1, double date2,\r\n",
      "          ^\r\n",
      "    astropy/_erfa/core.c:3288:71: warning: passing argument 9 of ‘eraPn00a’ from incompatible pointer type\r\n",
      "             eraPn00a(_date1, _date2, _dpsi, _deps, _epsa, _rb, _rp, _rbp, _rn, _rbpn);\r\n",
      "                                                                           ^\r\n",
      "    In file included from astropy/_erfa/core.c:13:0:\r\n",
      "    cextern/erfa/erfa.h:225:6: note: expected ‘double (*)[3]’ but argument is of type ‘double *’\r\n",
      "     void eraPn00a(double date1, double date2,\r\n",
      "          ^\r\n",
      "    astropy/_erfa/core.c:3288:76: warning: passing argument 10 of ‘eraPn00a’ from incompatible pointer type\r\n",
      "             eraPn00a(_date1, _date2, _dpsi, _deps, _epsa, _rb, _rp, _rbp, _rn, _rbpn);\r\n",
      "                                                                                ^\r\n",
      "    In file included from astropy/_erfa/core.c:13:0:\r\n",
      "    cextern/erfa/erfa.h:225:6: note: expected ‘double (*)[3]’ but argument is of type ‘double *’\r\n",
      "     void eraPn00a(double date1, double date2,\r\n",
      "          ^\r\n",
      "    astropy/_erfa/core.c: In function ‘Py_c2tpe’:\r\n",
      "    astropy/_erfa/core.c:3323:66: warning: passing argument 9 of ‘eraC2tpe’ from incompatible pointer type\r\n",
      "             eraC2tpe(_tta, _ttb, _uta, _utb, _dpsi, _deps, _xp, _yp, _rc2t);\r\n",
      "                                                                      ^\r\n",
      "    In file included from astropy/_erfa/core.c:13:0:\r\n",
      "    cextern/erfa/erfa.h:185:6: note: expected ‘double (*)[3]’ but argument is of type ‘double *’\r\n",
      "     void eraC2tpe(double tta, double ttb, double uta, double utb,\r\n",
      "          ^\r\n",
      "    astropy/_erfa/core.c: In function ‘Py_c2t00b’:\r\n",
      "    astropy/_erfa/core.c:3391:53: warning: passing argument 7 of ‘eraC2t00b’ from incompatible pointer type\r\n",
      "             eraC2t00b(_tta, _ttb, _uta, _utb, _xp, _yp, _rc2t);\r\n",
      "                                                         ^\r\n",
      "    In file included from astropy/_erfa/core.c:13:0:\r\n",
      "    cextern/erfa/erfa.h:177:6: note: expected ‘double (*)[3]’ but argument is of type ‘double *’\r\n",
      "     void eraC2t00b(double tta, double ttb, double uta, double utb,\r\n",
      "          ^\r\n",
      "    astropy/_erfa/core.c: In function ‘Py_c2i06a’:\r\n",
      "    astropy/_erfa/core.c:3437:35: warning: passing argument 3 of ‘eraC2i06a’ from incompatible pointer type\r\n",
      "             eraC2i06a(_date1, _date2, _rc2i);\r\n",
      "                                       ^\r\n",
      "    In file included from astropy/_erfa/core.c:13:0:\r\n",
      "    cextern/erfa/erfa.h:169:6: note: expected ‘double (*)[3]’ but argument is of type ‘double *’\r\n",
      "     void eraC2i06a(double date1, double date2, double rc2i[3][3]);\r\n",
      "          ^\r\n",
      "    astropy/_erfa/core.c: In function ‘Py_num06a’:\r\n",
      "    astropy/_erfa/core.c:3499:35: warning: passing argument 3 of ‘eraNum06a’ from incompatible pointer type\r\n",
      "             eraNum06a(_date1, _date2, _rmatn);\r\n",
      "                                       ^\r\n",
      "    In file included from astropy/_erfa/core.c:13:0:\r\n",
      "    cextern/erfa/erfa.h:199:6: note: expected ‘double (*)[3]’ but argument is of type ‘double *’\r\n",
      "     void eraNum06a(double date1, double date2, double rmatn[3][3]);\r\n",
      "          ^\r\n",
      "    astropy/_erfa/core.c: In function ‘Py_bpn2xy’:\r\n",
      "    astropy/_erfa/core.c:3637:19: warning: passing argument 1 of ‘eraBpn2xy’ from incompatible pointer type\r\n",
      "             eraBpn2xy(_rbpn, _x, _y);\r\n",
      "                       ^\r\n",
      "    In file included from astropy/_erfa/core.c:13:0:\r\n",
      "    cextern/erfa/erfa.h:166:6: note: expected ‘double (*)[3]’ but argument is of type ‘double *’\r\n",
      "     void eraBpn2xy(double rbpn[3][3], double *x, double *y);\r\n",
      "          ^\r\n",
      "    astropy/_erfa/core.c: In function ‘Py_pnm00b’:\r\n",
      "    astropy/_erfa/core.c:3888:35: warning: passing argument 3 of ‘eraPnm00b’ from incompatible pointer type\r\n",
      "             eraPnm00b(_date1, _date2, _rbpn);\r\n",
      "                                       ^\r\n",
      "    In file included from astropy/_erfa/core.c:13:0:\r\n",
      "    cextern/erfa/erfa.h:242:6: note: expected ‘double (*)[3]’ but argument is of type ‘double *’\r\n",
      "     void eraPnm00b(double date1, double date2, double rbpn[3][3]);\r\n",
      "          ^\r\n",
      "    astropy/_erfa/core.c: In function ‘Py_pnm00a’:\r\n",
      "    astropy/_erfa/core.c:3986:35: warning: passing argument 3 of ‘eraPnm00a’ from incompatible pointer type\r\n",
      "             eraPnm00a(_date1, _date2, _rbpn);\r\n",
      "                                       ^\r\n",
      "    In file included from astropy/_erfa/core.c:13:0:\r\n",
      "    cextern/erfa/erfa.h:241:6: note: expected ‘double (*)[3]’ but argument is of type ‘double *’\r\n",
      "     void eraPnm00a(double date1, double date2, double rbpn[3][3]);\r\n",
      "          ^\r\n",
      "    astropy/_erfa/core.c: In function ‘Py_pnm80’:\r\n",
      "    astropy/_erfa/core.c:4046:34: warning: passing argument 3 of ‘eraPnm80’ from incompatible pointer type\r\n",
      "             eraPnm80(_date1, _date2, _rmatpn);\r\n",
      "                                      ^\r\n",
      "    In file included from astropy/_erfa/core.c:13:0:\r\n",
      "    cextern/erfa/erfa.h:244:6: note: expected ‘double (*)[3]’ but argument is of type ‘double *’\r\n",
      "     void eraPnm80(double date1, double date2, double rmatpn[3][3]);\r\n",
      "          ^\r\n",
      "    astropy/_erfa/core.c: In function ‘Py_pom00’:\r\n",
      "    astropy/_erfa/core.c:4071:33: warning: passing argument 4 of ‘eraPom00’ from incompatible pointer type\r\n",
      "             eraPom00(_xp, _yp, _sp, _rpom);\r\n",
      "                                     ^\r\n",
      "    In file included from astropy/_erfa/core.c:13:0:\r\n",
      "    cextern/erfa/erfa.h:245:6: note: expected ‘double (*)[3]’ but argument is of type ‘double *’\r\n",
      "     void eraPom00(double xp, double yp, double sp, double rpom[3][3]);\r\n",
      "          ^\r\n",
      "    astropy/_erfa/core.c: In function ‘Py_c2t06a’:\r\n",
      "    astropy/_erfa/core.c:4123:53: warning: passing argument 7 of ‘eraC2t06a’ from incompatible pointer type\r\n",
      "             eraC2t06a(_tta, _ttb, _uta, _utb, _xp, _yp, _rc2t);\r\n",
      "                                                         ^\r\n",
      "    In file included from astropy/_erfa/core.c:13:0:\r\n",
      "    cextern/erfa/erfa.h:179:6: note: expected ‘double (*)[3]’ but argument is of type ‘double *’\r\n",
      "     void eraC2t06a(double tta, double ttb, double uta, double utb,\r\n",
      "          ^\r\n",
      "    astropy/_erfa/core.c: In function ‘Py_pn06’:\r\n",
      "    astropy/_erfa/core.c:4432:54: warning: passing argument 6 of ‘eraPn06’ from incompatible pointer type\r\n",
      "             eraPn06(_date1, _date2, _dpsi, _deps, _epsa, _rb, _rp, _rbp, _rn, _rbpn);\r\n",
      "                                                          ^\r\n",
      "    In file included from astropy/_erfa/core.c:13:0:\r\n",
      "    cextern/erfa/erfa.h:233:6: note: expected ‘double (*)[3]’ but argument is of type ‘double *’\r\n",
      "     void eraPn06(double date1, double date2, double dpsi, double deps,\r\n",
      "          ^\r\n",
      "    astropy/_erfa/core.c:4432:59: warning: passing argument 7 of ‘eraPn06’ from incompatible pointer type\r\n",
      "             eraPn06(_date1, _date2, _dpsi, _deps, _epsa, _rb, _rp, _rbp, _rn, _rbpn);\r\n",
      "                                                               ^\r\n",
      "    In file included from astropy/_erfa/core.c:13:0:\r\n",
      "    cextern/erfa/erfa.h:233:6: note: expected ‘double (*)[3]’ but argument is of type ‘double *’\r\n",
      "     void eraPn06(double date1, double date2, double dpsi, double deps,\r\n",
      "          ^\r\n",
      "    astropy/_erfa/core.c:4432:64: warning: passing argument 8 of ‘eraPn06’ from incompatible pointer type\r\n",
      "             eraPn06(_date1, _date2, _dpsi, _deps, _epsa, _rb, _rp, _rbp, _rn, _rbpn);\r\n",
      "                                                                    ^\r\n",
      "    In file included from astropy/_erfa/core.c:13:0:\r\n",
      "    cextern/erfa/erfa.h:233:6: note: expected ‘double (*)[3]’ but argument is of type ‘double *’\r\n",
      "     void eraPn06(double date1, double date2, double dpsi, double deps,\r\n",
      "          ^\r\n",
      "    astropy/_erfa/core.c:4432:70: warning: passing argument 9 of ‘eraPn06’ from incompatible pointer type\r\n",
      "             eraPn06(_date1, _date2, _dpsi, _deps, _epsa, _rb, _rp, _rbp, _rn, _rbpn);\r\n",
      "                                                                          ^\r\n",
      "    In file included from astropy/_erfa/core.c:13:0:\r\n",
      "    cextern/erfa/erfa.h:233:6: note: expected ‘double (*)[3]’ but argument is of type ‘double *’\r\n",
      "     void eraPn06(double date1, double date2, double dpsi, double deps,\r\n",
      "          ^\r\n",
      "    astropy/_erfa/core.c:4432:75: warning: passing argument 10 of ‘eraPn06’ from incompatible pointer type\r\n",
      "             eraPn06(_date1, _date2, _dpsi, _deps, _epsa, _rb, _rp, _rbp, _rn, _rbpn);\r\n",
      "                                                                               ^\r\n",
      "    In file included from astropy/_erfa/core.c:13:0:\r\n",
      "    cextern/erfa/erfa.h:233:6: note: expected ‘double (*)[3]’ but argument is of type ‘double *’\r\n",
      "     void eraPn06(double date1, double date2, double dpsi, double deps,\r\n",
      "          ^\r\n",
      "    astropy/_erfa/core.c: In function ‘Py_pn00’:\r\n",
      "    astropy/_erfa/core.c:4469:54: warning: passing argument 6 of ‘eraPn00’ from incompatible pointer type\r\n",
      "             eraPn00(_date1, _date2, _dpsi, _deps, _epsa, _rb, _rp, _rbp, _rn, _rbpn);\r\n",
      "                                                          ^\r\n",
      "    In file included from astropy/_erfa/core.c:13:0:\r\n",
      "    cextern/erfa/erfa.h:221:6: note: expected ‘double (*)[3]’ but argument is of type ‘double *’\r\n",
      "     void eraPn00(double date1, double date2, double dpsi, double deps,\r\n",
      "          ^\r\n",
      "    astropy/_erfa/core.c:4469:59: warning: passing argument 7 of ‘eraPn00’ from incompatible pointer type\r\n",
      "             eraPn00(_date1, _date2, _dpsi, _deps, _epsa, _rb, _rp, _rbp, _rn, _rbpn);\r\n",
      "                                                               ^\r\n",
      "    In file included from astropy/_erfa/core.c:13:0:\r\n",
      "    cextern/erfa/erfa.h:221:6: note: expected ‘double (*)[3]’ but argument is of type ‘double *’\r\n",
      "     void eraPn00(double date1, double date2, double dpsi, double deps,\r\n",
      "          ^\r\n",
      "    astropy/_erfa/core.c:4469:64: warning: passing argument 8 of ‘eraPn00’ from incompatible pointer type\r\n",
      "             eraPn00(_date1, _date2, _dpsi, _deps, _epsa, _rb, _rp, _rbp, _rn, _rbpn);\r\n",
      "                                                                    ^\r\n",
      "    In file included from astropy/_erfa/core.c:13:0:\r\n",
      "    cextern/erfa/erfa.h:221:6: note: expected ‘double (*)[3]’ but argument is of type ‘double *’\r\n",
      "     void eraPn00(double date1, double date2, double dpsi, double deps,\r\n",
      "          ^\r\n",
      "    astropy/_erfa/core.c:4469:70: warning: passing argument 9 of ‘eraPn00’ from incompatible pointer type\r\n",
      "             eraPn00(_date1, _date2, _dpsi, _deps, _epsa, _rb, _rp, _rbp, _rn, _rbpn);\r\n",
      "                                                                          ^\r\n",
      "    In file included from astropy/_erfa/core.c:13:0:\r\n",
      "    cextern/erfa/erfa.h:221:6: note: expected ‘double (*)[3]’ but argument is of type ‘double *’\r\n",
      "     void eraPn00(double date1, double date2, double dpsi, double deps,\r\n",
      "          ^\r\n",
      "    astropy/_erfa/core.c:4469:75: warning: passing argument 10 of ‘eraPn00’ from incompatible pointer type\r\n",
      "             eraPn00(_date1, _date2, _dpsi, _deps, _epsa, _rb, _rp, _rbp, _rn, _rbpn);\r\n",
      "                                                                               ^\r\n",
      "    In file included from astropy/_erfa/core.c:13:0:\r\n",
      "    cextern/erfa/erfa.h:221:6: note: expected ‘double (*)[3]’ but argument is of type ‘double *’\r\n",
      "     void eraPn00(double date1, double date2, double dpsi, double deps,\r\n",
      "          ^\r\n",
      "    astropy/_erfa/core.c: In function ‘Py_fw2m’:\r\n",
      "    astropy/_erfa/core.c:4525:43: warning: passing argument 5 of ‘eraFw2m’ from incompatible pointer type\r\n",
      "             eraFw2m(_gamb, _phib, _psi, _eps, _r);\r\n",
      "                                               ^\r\n",
      "    In file included from astropy/_erfa/core.c:13:0:\r\n",
      "    cextern/erfa/erfa.h:193:6: note: expected ‘double (*)[3]’ but argument is of type ‘double *’\r\n",
      "     void eraFw2m(double gamb, double phib, double psi, double eps,\r\n",
      "          ^\r\n"
     ]
    },
    {
     "name": "stdout",
     "output_type": "stream",
     "text": [
      "    In file included from /home/jng/.virtualenvs/peakrisk2/lib/python3.4/site-packages/numpy/core/include/numpy/ndarraytypes.h:1804:0,\r\n",
      "                     from /home/jng/.virtualenvs/peakrisk2/lib/python3.4/site-packages/numpy/core/include/numpy/ndarrayobject.h:17,\r\n",
      "                     from /home/jng/.virtualenvs/peakrisk2/lib/python3.4/site-packages/numpy/core/include/numpy/arrayobject.h:4,\r\n",
      "                     from astropy/_erfa/core.c:12:\r\n",
      "    /home/jng/.virtualenvs/peakrisk2/lib/python3.4/site-packages/numpy/core/include/numpy/npy_1_7_deprecated_api.h:15:2: warning: #warning \"Using deprecated NumPy API, disable it by \" \"#defining NPY_NO_DEPRECATED_API NPY_1_7_API_VERSION\" [-Wcpp]\r\n",
      "     #warning \"Using deprecated NumPy API, disable it by \" \\\r\n",
      "      ^\r\n",
      "    astropy/_erfa/core.c: In function ‘Py_pvstar’:\r\n",
      "    astropy/_erfa/core.c:423:31: warning: passing argument 1 of ‘eraPvstar’ from incompatible pointer type\r\n",
      "             _c_retval = eraPvstar(_pv, _ra, _dec, _pmr, _pmd, _px, _rv);\r\n",
      "                                   ^\r\n",
      "    In file included from astropy/_erfa/core.c:13:0:\r\n",
      "    cextern/erfa/erfa.h:284:5: note: expected ‘double (*)[3]’ but argument is of type ‘double *’\r\n",
      "     int eraPvstar(double pv[2][3], double *ra, double *dec,\r\n",
      "         ^\r\n",
      "    astropy/_erfa/core.c: In function ‘Py_c2i00b’:\r\n",
      "    astropy/_erfa/core.c:552:35: warning: passing argument 3 of ‘eraC2i00b’ from incompatible pointer type\r\n",
      "             eraC2i00b(_date1, _date2, _rc2i);\r\n",
      "                                       ^\r\n",
      "    In file included from astropy/_erfa/core.c:13:0:\r\n",
      "    cextern/erfa/erfa.h:168:6: note: expected ‘double (*)[3]’ but argument is of type ‘double *’\r\n",
      "     void eraC2i00b(double date1, double date2, double rc2i[3][3]);\r\n",
      "          ^\r\n",
      "    astropy/_erfa/core.c: In function ‘Py_c2i00a’:\r\n",
      "    astropy/_erfa/core.c:575:35: warning: passing argument 3 of ‘eraC2i00a’ from incompatible pointer type\r\n",
      "             eraC2i00a(_date1, _date2, _rc2i);\r\n",
      "                                       ^\r\n",
      "    In file included from astropy/_erfa/core.c:13:0:\r\n",
      "    cextern/erfa/erfa.h:167:6: note: expected ‘double (*)[3]’ but argument is of type ‘double *’\r\n",
      "     void eraC2i00a(double date1, double date2, double rc2i[3][3]);\r\n",
      "          ^\r\n",
      "    astropy/_erfa/core.c: In function ‘Py_c2ibpn’:\r\n",
      "    astropy/_erfa/core.c:600:35: warning: passing argument 3 of ‘eraC2ibpn’ from incompatible pointer type\r\n",
      "             eraC2ibpn(_date1, _date2, _rbpn, _rc2i);\r\n",
      "                                       ^\r\n",
      "    In file included from astropy/_erfa/core.c:13:0:\r\n",
      "    cextern/erfa/erfa.h:170:6: note: expected ‘double (*)[3]’ but argument is of type ‘double *’\r\n",
      "     void eraC2ibpn(double date1, double date2, double rbpn[3][3],\r\n",
      "          ^\r\n",
      "    astropy/_erfa/core.c:600:42: warning: passing argument 4 of ‘eraC2ibpn’ from incompatible pointer type\r\n",
      "             eraC2ibpn(_date1, _date2, _rbpn, _rc2i);\r\n",
      "                                              ^\r\n",
      "    In file included from astropy/_erfa/core.c:13:0:\r\n",
      "    cextern/erfa/erfa.h:170:6: note: expected ‘double (*)[3]’ but argument is of type ‘double *’\r\n",
      "     void eraC2ibpn(double date1, double date2, double rbpn[3][3],\r\n",
      "          ^\r\n",
      "    astropy/_erfa/core.c: In function ‘Py_gst06’:\r\n",
      "    astropy/_erfa/core.c:651:54: warning: passing argument 5 of ‘eraGst06’ from incompatible pointer type\r\n",
      "             _c_retval = eraGst06(_uta, _utb, _tta, _ttb, _rnpb);\r\n",
      "                                                          ^\r\n",
      "    In file included from astropy/_erfa/core.c:13:0:\r\n",
      "    cextern/erfa/erfa.h:278:8: note: expected ‘double (*)[3]’ but argument is of type ‘double *’\r\n",
      "     double eraGst06(double uta, double utb, double tta, double ttb,\r\n",
      "            ^\r\n",
      "    astropy/_erfa/core.c: In function ‘Py_c2tcio’:\r\n",
      "    astropy/_erfa/core.c:677:19: warning: passing argument 1 of ‘eraC2tcio’ from incompatible pointer type\r\n",
      "             eraC2tcio(_rc2i, _era, _rpom, _rc2t);\r\n",
      "                       ^\r\n",
      "    In file included from astropy/_erfa/core.c:13:0:\r\n",
      "    cextern/erfa/erfa.h:181:6: note: expected ‘double (*)[3]’ but argument is of type ‘double *’\r\n",
      "     void eraC2tcio(double rc2i[3][3], double era, double rpom[3][3],\r\n",
      "          ^\r\n",
      "    astropy/_erfa/core.c:677:32: warning: passing argument 3 of ‘eraC2tcio’ from incompatible pointer type\r\n",
      "             eraC2tcio(_rc2i, _era, _rpom, _rc2t);\r\n",
      "                                    ^\r\n",
      "    In file included from astropy/_erfa/core.c:13:0:\r\n",
      "    cextern/erfa/erfa.h:181:6: note: expected ‘double (*)[3]’ but argument is of type ‘double *’\r\n",
      "     void eraC2tcio(double rc2i[3][3], double era, double rpom[3][3],\r\n",
      "          ^\r\n",
      "    astropy/_erfa/core.c:677:39: warning: passing argument 4 of ‘eraC2tcio’ from incompatible pointer type\r\n",
      "             eraC2tcio(_rc2i, _era, _rpom, _rc2t);\r\n",
      "                                           ^\r\n",
      "    In file included from astropy/_erfa/core.c:13:0:\r\n",
      "    cextern/erfa/erfa.h:181:6: note: expected ‘double (*)[3]’ but argument is of type ‘double *’\r\n",
      "     void eraC2tcio(double rc2i[3][3], double era, double rpom[3][3],\r\n",
      "          ^\r\n",
      "    astropy/_erfa/core.c: In function ‘Py_pmat76’:\r\n",
      "    astropy/_erfa/core.c:723:35: warning: passing argument 3 of ‘eraPmat76’ from incompatible pointer type\r\n",
      "             eraPmat76(_date1, _date2, _rmatp);\r\n",
      "                                       ^\r\n",
      "    In file included from astropy/_erfa/core.c:13:0:\r\n",
      "    cextern/erfa/erfa.h:220:6: note: expected ‘double (*)[3]’ but argument is of type ‘double *’\r\n",
      "     void eraPmat76(double date1, double date2, double rmatp[3][3]);\r\n",
      "          ^\r\n",
      "    astropy/_erfa/core.c: In function ‘Py_starpv’:\r\n",
      "    astropy/_erfa/core.c:867:64: warning: passing argument 7 of ‘eraStarpv’ from incompatible pointer type\r\n",
      "             _c_retval = eraStarpv(_ra, _dec, _pmr, _pmd, _px, _rv, _pv);\r\n",
      "                                                                    ^\r\n",
      "    In file included from astropy/_erfa/core.c:13:0:\r\n",
      "    cextern/erfa/erfa.h:286:5: note: expected ‘double (*)[3]’ but argument is of type ‘double *’\r\n",
      "     int eraStarpv(double ra, double dec,\r\n",
      "         ^\r\n",
      "    astropy/_erfa/core.c: In function ‘Py_nutm80’:\r\n",
      "    astropy/_erfa/core.c:993:35: warning: passing argument 3 of ‘eraNutm80’ from incompatible pointer type\r\n",
      "             eraNutm80(_date1, _date2, _rmatn);\r\n",
      "                                       ^\r\n",
      "    In file included from astropy/_erfa/core.c:13:0:\r\n",
      "    cextern/erfa/erfa.h:205:6: note: expected ‘double (*)[3]’ but argument is of type ‘double *’\r\n",
      "     void eraNutm80(double date1, double date2, double rmatn[3][3]);\r\n",
      "          ^\r\n",
      "    astropy/_erfa/core.c: In function ‘Py_numat’:\r\n",
      "    astropy/_erfa/core.c:1018:39: warning: passing argument 4 of ‘eraNumat’ from incompatible pointer type\r\n",
      "             eraNumat(_epsa, _dpsi, _deps, _rmatn);\r\n",
      "                                           ^\r\n",
      "    In file included from astropy/_erfa/core.c:13:0:\r\n",
      "    cextern/erfa/erfa.h:200:6: note: expected ‘double (*)[3]’ but argument is of type ‘double *’\r\n",
      "     void eraNumat(double epsa, double dpsi, double deps, double rmatn[3][3]);\r\n",
      "          ^\r\n",
      "    astropy/_erfa/core.c: In function ‘Py_pmat06’:\r\n",
      "    astropy/_erfa/core.c:1290:35: warning: passing argument 3 of ‘eraPmat06’ from incompatible pointer type\r\n",
      "             eraPmat06(_date1, _date2, _rbp);\r\n",
      "                                       ^\r\n",
      "    In file included from astropy/_erfa/core.c:13:0:\r\n",
      "    cextern/erfa/erfa.h:219:6: note: expected ‘double (*)[3]’ but argument is of type ‘double *’\r\n",
      "     void eraPmat06(double date1, double date2, double rbp[3][3]);\r\n",
      "          ^\r\n",
      "    astropy/_erfa/core.c: In function ‘Py_apcs’:\r\n",
      "    astropy/_erfa/core.c:1319:33: warning: passing argument 3 of ‘eraApcs’ from incompatible pointer type\r\n",
      "             eraApcs(_date1, _date2, _pv, _ebpv, _ehp, _astrom);\r\n",
      "                                     ^\r\n",
      "    In file included from astropy/_erfa/core.c:13:0:\r\n",
      "    cextern/erfa/erfa.h:58:6: note: expected ‘double (*)[3]’ but argument is of type ‘double *’\r\n",
      "     void eraApcs(double date1, double date2, double pv[2][3],\r\n",
      "          ^\r\n",
      "    astropy/_erfa/core.c:1319:38: warning: passing argument 4 of ‘eraApcs’ from incompatible pointer type\r\n",
      "             eraApcs(_date1, _date2, _pv, _ebpv, _ehp, _astrom);\r\n",
      "                                          ^\r\n",
      "    In file included from astropy/_erfa/core.c:13:0:\r\n",
      "    cextern/erfa/erfa.h:58:6: note: expected ‘double (*)[3]’ but argument is of type ‘double *’\r\n",
      "     void eraApcs(double date1, double date2, double pv[2][3],\r\n",
      "          ^\r\n",
      "    astropy/_erfa/core.c: In function ‘Py_pmat00’:\r\n",
      "    astropy/_erfa/core.c:1342:35: warning: passing argument 3 of ‘eraPmat00’ from incompatible pointer type\r\n",
      "             eraPmat00(_date1, _date2, _rbp);\r\n",
      "                                       ^\r\n",
      "    In file included from astropy/_erfa/core.c:13:0:\r\n",
      "    cextern/erfa/erfa.h:218:6: note: expected ‘double (*)[3]’ but argument is of type ‘double *’\r\n",
      "     void eraPmat00(double date1, double date2, double rbp[3][3]);\r\n",
      "          ^\r\n",
      "    astropy/_erfa/core.c: In function ‘Py_plan94’:\r\n",
      "    astropy/_erfa/core.c:1369:52: warning: passing argument 4 of ‘eraPlan94’ from incompatible pointer type\r\n",
      "             _c_retval = eraPlan94(_date1, _date2, _np, _pv);\r\n",
      "                                                        ^\r\n",
      "    In file included from astropy/_erfa/core.c:13:0:\r\n",
      "    cextern/erfa/erfa.h:142:5: note: expected ‘double (*)[3]’ but argument is of type ‘double *’\r\n",
      "     int eraPlan94(double date1, double date2, int np, double pv[2][3]);\r\n",
      "         ^\r\n",
      "    astropy/_erfa/core.c: In function ‘Py_apco’:\r\n",
      "    astropy/_erfa/core.c:1428:33: warning: passing argument 3 of ‘eraApco’ from incompatible pointer type\r\n",
      "             eraApco(_date1, _date2, _ebpv, _ehp, _x, _y, _s, _theta, _elong, _phi, _hm, _xp, _yp, _sp, _refa, _refb, _astrom);\r\n",
      "                                     ^\r\n",
      "    In file included from astropy/_erfa/core.c:13:0:\r\n",
      "    cextern/erfa/erfa.h:47:6: note: expected ‘double (*)[3]’ but argument is of type ‘double *’\r\n",
      "     void eraApco(double date1, double date2,\r\n",
      "          ^\r\n",
      "    astropy/_erfa/core.c: In function ‘Py_pvtob’:\r\n",
      "    astropy/_erfa/core.c:1461:60: warning: passing argument 8 of ‘eraPvtob’ from incompatible pointer type\r\n",
      "             eraPvtob(_elong, _phi, _hm, _xp, _yp, _sp, _theta, _pv);\r\n",
      "                                                                ^\r\n",
      "    In file included from astropy/_erfa/core.c:13:0:\r\n",
      "    cextern/erfa/erfa.h:134:6: note: expected ‘double (*)[3]’ but argument is of type ‘double *’\r\n",
      "     void eraPvtob(double elong, double phi, double height, double xp,\r\n",
      "          ^\r\n",
      "    astropy/_erfa/core.c: In function ‘Py_apci’:\r\n",
      "    astropy/_erfa/core.c:1494:33: warning: passing argument 3 of ‘eraApci’ from incompatible pointer type\r\n",
      "             eraApci(_date1, _date2, _ebpv, _ehp, _x, _y, _s, _astrom);\r\n",
      "                                     ^\r\n",
      "    In file included from astropy/_erfa/core.c:13:0:\r\n",
      "    cextern/erfa/erfa.h:41:6: note: expected ‘double (*)[3]’ but argument is of type ‘double *’\r\n",
      "     void eraApci(double date1, double date2,\r\n",
      "          ^\r\n",
      "    astropy/_erfa/core.c: In function ‘Py_apcg’:\r\n",
      "    astropy/_erfa/core.c:1521:33: warning: passing argument 3 of ‘eraApcg’ from incompatible pointer type\r\n",
      "             eraApcg(_date1, _date2, _ebpv, _ehp, _astrom);\r\n",
      "                                     ^\r\n",
      "    In file included from astropy/_erfa/core.c:13:0:\r\n",
      "    cextern/erfa/erfa.h:37:6: note: expected ‘double (*)[3]’ but argument is of type ‘double *’\r\n",
      "     void eraApcg(double date1, double date2,\r\n",
      "          ^\r\n",
      "    astropy/_erfa/core.c: In function ‘Py_num00b’:\r\n",
      "    astropy/_erfa/core.c:1544:35: warning: passing argument 3 of ‘eraNum00b’ from incompatible pointer type\r\n",
      "             eraNum00b(_date1, _date2, _rmatn);\r\n",
      "                                       ^\r\n",
      "    In file included from astropy/_erfa/core.c:13:0:\r\n",
      "    cextern/erfa/erfa.h:198:6: note: expected ‘double (*)[3]’ but argument is of type ‘double *’\r\n",
      "     void eraNum00b(double date1, double date2, double rmatn[3][3]);\r\n",
      "          ^\r\n",
      "    astropy/_erfa/core.c: In function ‘Py_num00a’:\r\n",
      "    astropy/_erfa/core.c:1567:35: warning: passing argument 3 of ‘eraNum00a’ from incompatible pointer type\r\n",
      "             eraNum00a(_date1, _date2, _rmatn);\r\n",
      "                                       ^\r\n",
      "    In file included from astropy/_erfa/core.c:13:0:\r\n",
      "    cextern/erfa/erfa.h:197:6: note: expected ‘double (*)[3]’ but argument is of type ‘double *’\r\n",
      "     void eraNum00a(double date1, double date2, double rmatn[3][3]);\r\n",
      "          ^\r\n",
      "    astropy/_erfa/core.c: In function ‘Py_bp06’:\r\n",
      "    astropy/_erfa/core.c:1735:33: warning: passing argument 3 of ‘eraBp06’ from incompatible pointer type\r\n",
      "             eraBp06(_date1, _date2, _rb, _rp, _rbp);\r\n",
      "                                     ^\r\n",
      "    In file included from astropy/_erfa/core.c:13:0:\r\n",
      "    cextern/erfa/erfa.h:164:6: note: expected ‘double (*)[3]’ but argument is of type ‘double *’\r\n",
      "     void eraBp06(double date1, double date2,\r\n",
      "          ^\r\n",
      "    astropy/_erfa/core.c:1735:38: warning: passing argument 4 of ‘eraBp06’ from incompatible pointer type\r\n",
      "             eraBp06(_date1, _date2, _rb, _rp, _rbp);\r\n",
      "                                          ^\r\n",
      "    In file included from astropy/_erfa/core.c:13:0:\r\n",
      "    cextern/erfa/erfa.h:164:6: note: expected ‘double (*)[3]’ but argument is of type ‘double *’\r\n",
      "     void eraBp06(double date1, double date2,\r\n",
      "          ^\r\n"
     ]
    },
    {
     "name": "stdout",
     "output_type": "stream",
     "text": [
      "    building 'astropy._erfa._core' extension\r\n",
      "    x86_64-linux-gnu-gcc -pthread -DNDEBUG -g -fwrapv -O2 -Wall -Wstrict-prototypes -g -fstack-protector-strong -Wformat -Werror=format-security -D_FORTIFY_SOURCE=2 -fPIC -I/home/jng/.virtualenvs/peakrisk2/lib/python3.4/site-packages/numpy/core/include -Icextern/erfa -I/usr/include/python3.4m -I/home/jng/.virtualenvs/peakrisk2/include/python3.4m -c astropy/_erfa/core.c -o build/temp.linux-x86_64-3.4/astropy/_erfa/core.o\r\n"
     ]
    },
    {
     "name": "stdout",
     "output_type": "stream",
     "text": [
      "    x86_64-linux-gnu-gcc -pthread -shared -Wl,-O1 -Wl,-Bsymbolic-functions -Wl,-Bsymbolic-functions -Wl,-z,relro -Wl,-Bsymbolic-functions -Wl,-z,relro -g -fstack-protector-strong -Wformat -Werror=format-security -D_FORTIFY_SOURCE=2 build/temp.linux-x86_64-3.4/astropy/_compiler.o -o build/lib.linux-x86_64-3.4/astropy/_compiler.cpython-34m.so\r\n"
     ]
    },
    {
     "name": "stdout",
     "output_type": "stream",
     "text": [
      "    building 'astropy._compiler' extension\r\n",
      "    x86_64-linux-gnu-gcc -pthread -DNDEBUG -g -fwrapv -O2 -Wall -Wstrict-prototypes -g -fstack-protector-strong -Wformat -Werror=format-security -D_FORTIFY_SOURCE=2 -fPIC -I/usr/include/python3.4m -I/home/jng/.virtualenvs/peakrisk2/include/python3.4m -c astropy/_compiler.c -o build/temp.linux-x86_64-3.4/astropy/_compiler.o\r\n"
     ]
    },
    {
     "name": "stdout",
     "output_type": "stream",
     "text": [
      "    WARNING: The autogenerated wrappers in astropy._erfa seem to be older than the source templates used to create them. Because this is a release version we will use them anyway, but this might be a sign of some sort of version mismatch or other tampering. Or it might just mean you moved some files around or otherwise accidentally changed timestamps.\r\n"
     ]
    },
    {
     "name": "stdout",
     "output_type": "stream",
     "text": [
      "    WARNING: The autogenerated wrappers in astropy._erfa seem to be older than the source templates used to create them. Because this is a release version we will use them anyway, but this might be a sign of some sort of version mismatch or other tampering. Or it might just mean you moved some files around or otherwise accidentally changed timestamps.\r\n"
     ]
    },
    {
     "name": "stdout",
     "output_type": "stream",
     "text": [
      "Installing collected packages: astropy\r\n",
      "  Running setup.py install for astropy\r\n"
     ]
    },
    {
     "name": "stdout",
     "output_type": "stream",
     "text": [
      "Requirement already satisfied (use --upgrade to upgrade): numpy>=1.6.0 in /home/jng/.virtualenvs/peakrisk2/lib/python3.4/site-packages (from astropy)\r\n"
     ]
    },
    {
     "name": "stdout",
     "output_type": "stream",
     "text": [
      "    \r\n"
     ]
    },
    {
     "name": "stdout",
     "output_type": "stream",
     "text": [
      "  Running setup.py (path:/tmp/pip-build-obqpcesd/astropy/setup.py) egg_info for package astropy\r\n"
     ]
    },
    {
     "name": "stdout",
     "output_type": "stream",
     "text": [
      "\r",
      "  Downloading astropy-1.0.3.tar.gz (7.6MB):  99%  7.6MB\r",
      "  Downloading astropy-1.0.3.tar.gz (7.6MB):  99%  7.6MB\r",
      "  Downloading astropy-1.0.3.tar.gz (7.6MB):  99%  7.6MB\r",
      "  Downloading astropy-1.0.3.tar.gz (7.6MB):  99%  7.6MB\r",
      "  Downloading astropy-1.0.3.tar.gz (7.6MB):  99%  7.6MB\r",
      "  Downloading astropy-1.0.3.tar.gz (7.6MB):  99%  7.6MB\r",
      "  Downloading astropy-1.0.3.tar.gz (7.6MB):  99%  7.6MB\r",
      "  Downloading astropy-1.0.3.tar.gz (7.6MB):  99%  7.6MB\r",
      "  Downloading astropy-1.0.3.tar.gz (7.6MB):  99%  7.6MB\r",
      "  Downloading astropy-1.0.3.tar.gz (7.6MB):  99%  7.6MB\r",
      "  Downloading astropy-1.0.3.tar.gz (7.6MB):  99%  7.6MB\r",
      "  Downloading astropy-1.0.3.tar.gz (7.6MB):  99%  7.6MB\r",
      "  Downloading astropy-1.0.3.tar.gz (7.6MB):  99%  7.6MB\r",
      "  Downloading astropy-1.0.3.tar.gz (7.6MB):  99%  7.6MB\r",
      "  Downloading astropy-1.0.3.tar.gz (7.6MB):  99%  7.6MB\r",
      "  Downloading astropy-1.0.3.tar.gz (7.6MB):  99%  7.6MB\r",
      "  Downloading astropy-1.0.3.tar.gz (7.6MB):  99%  7.6MB\r",
      "  Downloading astropy-1.0.3.tar.gz (7.6MB):  99%  7.6MB\r",
      "  Downloading astropy-1.0.3.tar.gz (7.6MB): 100%  7.6MB\r",
      "  Downloading astropy-1.0.3.tar.gz (7.6MB):            \r",
      "  Downloading astropy-1.0.3.tar.gz (7.6MB): 7.6MB downloaded\r\n"
     ]
    },
    {
     "name": "stdout",
     "output_type": "stream",
     "text": [
      "\r",
      "  Downloading astropy-1.0.3.tar.gz (7.6MB):  97%  7.5MB\r",
      "  Downloading astropy-1.0.3.tar.gz (7.6MB):  97%  7.5MB\r",
      "  Downloading astropy-1.0.3.tar.gz (7.6MB):  97%  7.5MB\r",
      "  Downloading astropy-1.0.3.tar.gz (7.6MB):  97%  7.5MB\r",
      "  Downloading astropy-1.0.3.tar.gz (7.6MB):  98%  7.5MB\r",
      "  Downloading astropy-1.0.3.tar.gz (7.6MB):  98%  7.5MB\r",
      "  Downloading astropy-1.0.3.tar.gz (7.6MB):  98%  7.5MB\r",
      "  Downloading astropy-1.0.3.tar.gz (7.6MB):  98%  7.5MB\r",
      "  Downloading astropy-1.0.3.tar.gz (7.6MB):  98%  7.5MB\r",
      "  Downloading astropy-1.0.3.tar.gz (7.6MB):  98%  7.5MB\r",
      "  Downloading astropy-1.0.3.tar.gz (7.6MB):  98%  7.5MB\r",
      "  Downloading astropy-1.0.3.tar.gz (7.6MB):  98%  7.5MB\r",
      "  Downloading astropy-1.0.3.tar.gz (7.6MB):  98%  7.5MB\r",
      "  Downloading astropy-1.0.3.tar.gz (7.6MB):  98%  7.5MB\r",
      "  Downloading astropy-1.0.3.tar.gz (7.6MB):  98%  7.5MB\r",
      "  Downloading astropy-1.0.3.tar.gz (7.6MB):  98%  7.5MB\r",
      "  Downloading astropy-1.0.3.tar.gz (7.6MB):  98%  7.5MB\r",
      "  Downloading astropy-1.0.3.tar.gz (7.6MB):  98%  7.5MB\r",
      "  Downloading astropy-1.0.3.tar.gz (7.6MB):  98%  7.5MB\r",
      "  Downloading astropy-1.0.3.tar.gz (7.6MB):  98%  7.5MB\r",
      "  Downloading astropy-1.0.3.tar.gz (7.6MB):  98%  7.5MB\r",
      "  Downloading astropy-1.0.3.tar.gz (7.6MB):  98%  7.5MB\r",
      "  Downloading astropy-1.0.3.tar.gz (7.6MB):  98%  7.5MB\r",
      "  Downloading astropy-1.0.3.tar.gz (7.6MB):  99%  7.5MB"
     ]
    },
    {
     "name": "stdout",
     "output_type": "stream",
     "text": [
      "\r",
      "  Downloading astropy-1.0.3.tar.gz (7.6MB):  96%  7.4MB\r",
      "  Downloading astropy-1.0.3.tar.gz (7.6MB):  96%  7.4MB\r",
      "  Downloading astropy-1.0.3.tar.gz (7.6MB):  96%  7.4MB\r",
      "  Downloading astropy-1.0.3.tar.gz (7.6MB):  96%  7.4MB\r",
      "  Downloading astropy-1.0.3.tar.gz (7.6MB):  96%  7.4MB\r",
      "  Downloading astropy-1.0.3.tar.gz (7.6MB):  96%  7.4MB\r",
      "  Downloading astropy-1.0.3.tar.gz (7.6MB):  96%  7.4MB\r",
      "  Downloading astropy-1.0.3.tar.gz (7.6MB):  96%  7.4MB\r",
      "  Downloading astropy-1.0.3.tar.gz (7.6MB):  96%  7.4MB\r",
      "  Downloading astropy-1.0.3.tar.gz (7.6MB):  96%  7.4MB\r",
      "  Downloading astropy-1.0.3.tar.gz (7.6MB):  97%  7.4MB\r",
      "  Downloading astropy-1.0.3.tar.gz (7.6MB):  97%  7.4MB\r",
      "  Downloading astropy-1.0.3.tar.gz (7.6MB):  97%  7.4MB\r",
      "  Downloading astropy-1.0.3.tar.gz (7.6MB):  97%  7.4MB\r",
      "  Downloading astropy-1.0.3.tar.gz (7.6MB):  97%  7.4MB\r",
      "  Downloading astropy-1.0.3.tar.gz (7.6MB):  97%  7.4MB\r",
      "  Downloading astropy-1.0.3.tar.gz (7.6MB):  97%  7.4MB\r",
      "  Downloading astropy-1.0.3.tar.gz (7.6MB):  97%  7.4MB\r",
      "  Downloading astropy-1.0.3.tar.gz (7.6MB):  97%  7.4MB\r",
      "  Downloading astropy-1.0.3.tar.gz (7.6MB):  97%  7.4MB\r",
      "  Downloading astropy-1.0.3.tar.gz (7.6MB):  97%  7.4MB\r",
      "  Downloading astropy-1.0.3.tar.gz (7.6MB):  97%  7.4MB\r",
      "  Downloading astropy-1.0.3.tar.gz (7.6MB):  97%  7.4MB\r",
      "  Downloading astropy-1.0.3.tar.gz (7.6MB):  97%  7.5MB"
     ]
    },
    {
     "name": "stdout",
     "output_type": "stream",
     "text": [
      "\r",
      "  Downloading astropy-1.0.3.tar.gz (7.6MB):  95%  7.3MB\r",
      "  Downloading astropy-1.0.3.tar.gz (7.6MB):  95%  7.3MB\r",
      "  Downloading astropy-1.0.3.tar.gz (7.6MB):  95%  7.3MB\r",
      "  Downloading astropy-1.0.3.tar.gz (7.6MB):  95%  7.3MB\r",
      "  Downloading astropy-1.0.3.tar.gz (7.6MB):  95%  7.3MB\r",
      "  Downloading astropy-1.0.3.tar.gz (7.6MB):  95%  7.3MB\r",
      "  Downloading astropy-1.0.3.tar.gz (7.6MB):  95%  7.3MB\r",
      "  Downloading astropy-1.0.3.tar.gz (7.6MB):  95%  7.3MB\r",
      "  Downloading astropy-1.0.3.tar.gz (7.6MB):  95%  7.3MB\r",
      "  Downloading astropy-1.0.3.tar.gz (7.6MB):  95%  7.3MB\r",
      "  Downloading astropy-1.0.3.tar.gz (7.6MB):  95%  7.3MB\r",
      "  Downloading astropy-1.0.3.tar.gz (7.6MB):  95%  7.3MB\r",
      "  Downloading astropy-1.0.3.tar.gz (7.6MB):  95%  7.3MB\r",
      "  Downloading astropy-1.0.3.tar.gz (7.6MB):  95%  7.3MB\r",
      "  Downloading astropy-1.0.3.tar.gz (7.6MB):  95%  7.3MB\r",
      "  Downloading astropy-1.0.3.tar.gz (7.6MB):  96%  7.3MB\r",
      "  Downloading astropy-1.0.3.tar.gz (7.6MB):  96%  7.3MB\r",
      "  Downloading astropy-1.0.3.tar.gz (7.6MB):  96%  7.3MB\r",
      "  Downloading astropy-1.0.3.tar.gz (7.6MB):  96%  7.3MB\r",
      "  Downloading astropy-1.0.3.tar.gz (7.6MB):  96%  7.3MB\r",
      "  Downloading astropy-1.0.3.tar.gz (7.6MB):  96%  7.3MB\r",
      "  Downloading astropy-1.0.3.tar.gz (7.6MB):  96%  7.3MB\r",
      "  Downloading astropy-1.0.3.tar.gz (7.6MB):  96%  7.3MB\r",
      "  Downloading astropy-1.0.3.tar.gz (7.6MB):  96%  7.4MB"
     ]
    },
    {
     "name": "stdout",
     "output_type": "stream",
     "text": [
      "\r",
      "  Downloading astropy-1.0.3.tar.gz (7.6MB):  93%  7.2MB\r",
      "  Downloading astropy-1.0.3.tar.gz (7.6MB):  93%  7.2MB\r",
      "  Downloading astropy-1.0.3.tar.gz (7.6MB):  94%  7.2MB\r",
      "  Downloading astropy-1.0.3.tar.gz (7.6MB):  94%  7.2MB\r",
      "  Downloading astropy-1.0.3.tar.gz (7.6MB):  94%  7.2MB\r",
      "  Downloading astropy-1.0.3.tar.gz (7.6MB):  94%  7.2MB\r",
      "  Downloading astropy-1.0.3.tar.gz (7.6MB):  94%  7.2MB\r",
      "  Downloading astropy-1.0.3.tar.gz (7.6MB):  94%  7.2MB\r",
      "  Downloading astropy-1.0.3.tar.gz (7.6MB):  94%  7.2MB\r",
      "  Downloading astropy-1.0.3.tar.gz (7.6MB):  94%  7.2MB\r",
      "  Downloading astropy-1.0.3.tar.gz (7.6MB):  94%  7.2MB\r",
      "  Downloading astropy-1.0.3.tar.gz (7.6MB):  94%  7.2MB\r",
      "  Downloading astropy-1.0.3.tar.gz (7.6MB):  94%  7.2MB\r",
      "  Downloading astropy-1.0.3.tar.gz (7.6MB):  94%  7.2MB\r",
      "  Downloading astropy-1.0.3.tar.gz (7.6MB):  94%  7.2MB\r",
      "  Downloading astropy-1.0.3.tar.gz (7.6MB):  94%  7.2MB\r",
      "  Downloading astropy-1.0.3.tar.gz (7.6MB):  94%  7.2MB\r",
      "  Downloading astropy-1.0.3.tar.gz (7.6MB):  94%  7.2MB\r",
      "  Downloading astropy-1.0.3.tar.gz (7.6MB):  94%  7.2MB\r",
      "  Downloading astropy-1.0.3.tar.gz (7.6MB):  94%  7.2MB\r",
      "  Downloading astropy-1.0.3.tar.gz (7.6MB):  94%  7.2MB\r",
      "  Downloading astropy-1.0.3.tar.gz (7.6MB):  95%  7.2MB\r",
      "  Downloading astropy-1.0.3.tar.gz (7.6MB):  95%  7.2MB\r",
      "  Downloading astropy-1.0.3.tar.gz (7.6MB):  95%  7.3MB"
     ]
    },
    {
     "name": "stdout",
     "output_type": "stream",
     "text": [
      "\r",
      "  Downloading astropy-1.0.3.tar.gz (7.6MB):  92%  7.1MB\r",
      "  Downloading astropy-1.0.3.tar.gz (7.6MB):  92%  7.1MB\r",
      "  Downloading astropy-1.0.3.tar.gz (7.6MB):  92%  7.1MB\r",
      "  Downloading astropy-1.0.3.tar.gz (7.6MB):  92%  7.1MB\r",
      "  Downloading astropy-1.0.3.tar.gz (7.6MB):  92%  7.1MB\r",
      "  Downloading astropy-1.0.3.tar.gz (7.6MB):  92%  7.1MB\r",
      "  Downloading astropy-1.0.3.tar.gz (7.6MB):  92%  7.1MB\r",
      "  Downloading astropy-1.0.3.tar.gz (7.6MB):  93%  7.1MB\r",
      "  Downloading astropy-1.0.3.tar.gz (7.6MB):  93%  7.1MB\r",
      "  Downloading astropy-1.0.3.tar.gz (7.6MB):  93%  7.1MB\r",
      "  Downloading astropy-1.0.3.tar.gz (7.6MB):  93%  7.1MB\r",
      "  Downloading astropy-1.0.3.tar.gz (7.6MB):  93%  7.1MB\r",
      "  Downloading astropy-1.0.3.tar.gz (7.6MB):  93%  7.1MB\r",
      "  Downloading astropy-1.0.3.tar.gz (7.6MB):  93%  7.1MB\r",
      "  Downloading astropy-1.0.3.tar.gz (7.6MB):  93%  7.1MB\r",
      "  Downloading astropy-1.0.3.tar.gz (7.6MB):  93%  7.1MB\r",
      "  Downloading astropy-1.0.3.tar.gz (7.6MB):  93%  7.1MB\r",
      "  Downloading astropy-1.0.3.tar.gz (7.6MB):  93%  7.1MB\r",
      "  Downloading astropy-1.0.3.tar.gz (7.6MB):  93%  7.1MB\r",
      "  Downloading astropy-1.0.3.tar.gz (7.6MB):  93%  7.1MB\r",
      "  Downloading astropy-1.0.3.tar.gz (7.6MB):  93%  7.1MB\r",
      "  Downloading astropy-1.0.3.tar.gz (7.6MB):  93%  7.1MB\r",
      "  Downloading astropy-1.0.3.tar.gz (7.6MB):  93%  7.2MB\r",
      "  Downloading astropy-1.0.3.tar.gz (7.6MB):  93%  7.2MB"
     ]
    },
    {
     "name": "stdout",
     "output_type": "stream",
     "text": [
      "\r",
      "  Downloading astropy-1.0.3.tar.gz (7.6MB):  91%  7.0MB\r",
      "  Downloading astropy-1.0.3.tar.gz (7.6MB):  91%  7.0MB\r",
      "  Downloading astropy-1.0.3.tar.gz (7.6MB):  91%  7.0MB\r",
      "  Downloading astropy-1.0.3.tar.gz (7.6MB):  91%  7.0MB\r",
      "  Downloading astropy-1.0.3.tar.gz (7.6MB):  91%  7.0MB\r",
      "  Downloading astropy-1.0.3.tar.gz (7.6MB):  91%  7.0MB\r",
      "  Downloading astropy-1.0.3.tar.gz (7.6MB):  91%  7.0MB\r",
      "  Downloading astropy-1.0.3.tar.gz (7.6MB):  91%  7.0MB\r",
      "  Downloading astropy-1.0.3.tar.gz (7.6MB):  91%  7.0MB\r",
      "  Downloading astropy-1.0.3.tar.gz (7.6MB):  91%  7.0MB\r",
      "  Downloading astropy-1.0.3.tar.gz (7.6MB):  91%  7.0MB\r",
      "  Downloading astropy-1.0.3.tar.gz (7.6MB):  91%  7.0MB\r",
      "  Downloading astropy-1.0.3.tar.gz (7.6MB):  91%  7.0MB\r",
      "  Downloading astropy-1.0.3.tar.gz (7.6MB):  92%  7.0MB\r",
      "  Downloading astropy-1.0.3.tar.gz (7.6MB):  92%  7.0MB\r",
      "  Downloading astropy-1.0.3.tar.gz (7.6MB):  92%  7.0MB\r",
      "  Downloading astropy-1.0.3.tar.gz (7.6MB):  92%  7.0MB\r",
      "  Downloading astropy-1.0.3.tar.gz (7.6MB):  92%  7.0MB\r",
      "  Downloading astropy-1.0.3.tar.gz (7.6MB):  92%  7.0MB\r",
      "  Downloading astropy-1.0.3.tar.gz (7.6MB):  92%  7.0MB\r",
      "  Downloading astropy-1.0.3.tar.gz (7.6MB):  92%  7.0MB\r",
      "  Downloading astropy-1.0.3.tar.gz (7.6MB):  92%  7.0MB\r",
      "  Downloading astropy-1.0.3.tar.gz (7.6MB):  92%  7.1MB\r",
      "  Downloading astropy-1.0.3.tar.gz (7.6MB):  92%  7.1MB"
     ]
    },
    {
     "name": "stdout",
     "output_type": "stream",
     "text": [
      "\r",
      "  Downloading astropy-1.0.3.tar.gz (7.6MB):  90%  6.9MB\r",
      "  Downloading astropy-1.0.3.tar.gz (7.6MB):  90%  6.9MB\r",
      "  Downloading astropy-1.0.3.tar.gz (7.6MB):  90%  6.9MB\r",
      "  Downloading astropy-1.0.3.tar.gz (7.6MB):  90%  6.9MB\r",
      "  Downloading astropy-1.0.3.tar.gz (7.6MB):  90%  6.9MB\r",
      "  Downloading astropy-1.0.3.tar.gz (7.6MB):  90%  6.9MB\r",
      "  Downloading astropy-1.0.3.tar.gz (7.6MB):  90%  6.9MB\r",
      "  Downloading astropy-1.0.3.tar.gz (7.6MB):  90%  6.9MB\r",
      "  Downloading astropy-1.0.3.tar.gz (7.6MB):  90%  6.9MB\r",
      "  Downloading astropy-1.0.3.tar.gz (7.6MB):  90%  6.9MB\r",
      "  Downloading astropy-1.0.3.tar.gz (7.6MB):  90%  6.9MB\r",
      "  Downloading astropy-1.0.3.tar.gz (7.6MB):  90%  6.9MB\r",
      "  Downloading astropy-1.0.3.tar.gz (7.6MB):  90%  6.9MB\r",
      "  Downloading astropy-1.0.3.tar.gz (7.6MB):  90%  6.9MB\r",
      "  Downloading astropy-1.0.3.tar.gz (7.6MB):  90%  6.9MB\r",
      "  Downloading astropy-1.0.3.tar.gz (7.6MB):  90%  6.9MB\r",
      "  Downloading astropy-1.0.3.tar.gz (7.6MB):  90%  6.9MB\r",
      "  Downloading astropy-1.0.3.tar.gz (7.6MB):  90%  6.9MB\r",
      "  Downloading astropy-1.0.3.tar.gz (7.6MB):  91%  6.9MB\r",
      "  Downloading astropy-1.0.3.tar.gz (7.6MB):  91%  6.9MB\r",
      "  Downloading astropy-1.0.3.tar.gz (7.6MB):  91%  6.9MB\r",
      "  Downloading astropy-1.0.3.tar.gz (7.6MB):  91%  7.0MB\r",
      "  Downloading astropy-1.0.3.tar.gz (7.6MB):  91%  7.0MB\r",
      "  Downloading astropy-1.0.3.tar.gz (7.6MB):  91%  7.0MB"
     ]
    },
    {
     "name": "stdout",
     "output_type": "stream",
     "text": [
      "\r",
      "  Downloading astropy-1.0.3.tar.gz (7.6MB):  88%  6.8MB\r",
      "  Downloading astropy-1.0.3.tar.gz (7.6MB):  88%  6.8MB\r",
      "  Downloading astropy-1.0.3.tar.gz (7.6MB):  88%  6.8MB\r",
      "  Downloading astropy-1.0.3.tar.gz (7.6MB):  88%  6.8MB\r",
      "  Downloading astropy-1.0.3.tar.gz (7.6MB):  88%  6.8MB\r",
      "  Downloading astropy-1.0.3.tar.gz (7.6MB):  88%  6.8MB\r",
      "  Downloading astropy-1.0.3.tar.gz (7.6MB):  88%  6.8MB\r",
      "  Downloading astropy-1.0.3.tar.gz (7.6MB):  89%  6.8MB\r",
      "  Downloading astropy-1.0.3.tar.gz (7.6MB):  89%  6.8MB\r",
      "  Downloading astropy-1.0.3.tar.gz (7.6MB):  89%  6.8MB\r",
      "  Downloading astropy-1.0.3.tar.gz (7.6MB):  89%  6.8MB\r",
      "  Downloading astropy-1.0.3.tar.gz (7.6MB):  89%  6.8MB\r",
      "  Downloading astropy-1.0.3.tar.gz (7.6MB):  89%  6.8MB\r",
      "  Downloading astropy-1.0.3.tar.gz (7.6MB):  89%  6.8MB\r",
      "  Downloading astropy-1.0.3.tar.gz (7.6MB):  89%  6.8MB\r",
      "  Downloading astropy-1.0.3.tar.gz (7.6MB):  89%  6.8MB\r",
      "  Downloading astropy-1.0.3.tar.gz (7.6MB):  89%  6.8MB\r",
      "  Downloading astropy-1.0.3.tar.gz (7.6MB):  89%  6.8MB\r",
      "  Downloading astropy-1.0.3.tar.gz (7.6MB):  89%  6.8MB\r",
      "  Downloading astropy-1.0.3.tar.gz (7.6MB):  89%  6.8MB\r",
      "  Downloading astropy-1.0.3.tar.gz (7.6MB):  89%  6.8MB\r",
      "  Downloading astropy-1.0.3.tar.gz (7.6MB):  89%  6.8MB\r",
      "  Downloading astropy-1.0.3.tar.gz (7.6MB):  89%  6.8MB\r",
      "  Downloading astropy-1.0.3.tar.gz (7.6MB):  89%  6.9MB\r",
      "  Downloading astropy-1.0.3.tar.gz (7.6MB):  89%  6.9MB\r",
      "  Downloading astropy-1.0.3.tar.gz (7.6MB):  90%  6.9MB"
     ]
    },
    {
     "name": "stdout",
     "output_type": "stream",
     "text": [
      "\r",
      "  Downloading astropy-1.0.3.tar.gz (7.6MB):  87%  6.7MB\r",
      "  Downloading astropy-1.0.3.tar.gz (7.6MB):  87%  6.7MB\r",
      "  Downloading astropy-1.0.3.tar.gz (7.6MB):  87%  6.7MB\r",
      "  Downloading astropy-1.0.3.tar.gz (7.6MB):  87%  6.7MB\r",
      "  Downloading astropy-1.0.3.tar.gz (7.6MB):  87%  6.7MB\r",
      "  Downloading astropy-1.0.3.tar.gz (7.6MB):  87%  6.7MB\r",
      "  Downloading astropy-1.0.3.tar.gz (7.6MB):  87%  6.7MB\r",
      "  Downloading astropy-1.0.3.tar.gz (7.6MB):  87%  6.7MB\r",
      "  Downloading astropy-1.0.3.tar.gz (7.6MB):  87%  6.7MB\r",
      "  Downloading astropy-1.0.3.tar.gz (7.6MB):  87%  6.7MB\r",
      "  Downloading astropy-1.0.3.tar.gz (7.6MB):  88%  6.7MB\r",
      "  Downloading astropy-1.0.3.tar.gz (7.6MB):  88%  6.7MB\r",
      "  Downloading astropy-1.0.3.tar.gz (7.6MB):  88%  6.7MB\r",
      "  Downloading astropy-1.0.3.tar.gz (7.6MB):  88%  6.7MB\r",
      "  Downloading astropy-1.0.3.tar.gz (7.6MB):  88%  6.7MB\r",
      "  Downloading astropy-1.0.3.tar.gz (7.6MB):  88%  6.7MB\r",
      "  Downloading astropy-1.0.3.tar.gz (7.6MB):  88%  6.7MB\r",
      "  Downloading astropy-1.0.3.tar.gz (7.6MB):  88%  6.7MB\r",
      "  Downloading astropy-1.0.3.tar.gz (7.6MB):  88%  6.7MB\r",
      "  Downloading astropy-1.0.3.tar.gz (7.6MB):  88%  6.7MB\r",
      "  Downloading astropy-1.0.3.tar.gz (7.6MB):  88%  6.8MB\r",
      "  Downloading astropy-1.0.3.tar.gz (7.6MB):  88%  6.8MB"
     ]
    },
    {
     "name": "stdout",
     "output_type": "stream",
     "text": [
      "\r",
      "  Downloading astropy-1.0.3.tar.gz (7.6MB):  86%  6.6MB\r",
      "  Downloading astropy-1.0.3.tar.gz (7.6MB):  86%  6.6MB\r",
      "  Downloading astropy-1.0.3.tar.gz (7.6MB):  86%  6.6MB\r",
      "  Downloading astropy-1.0.3.tar.gz (7.6MB):  86%  6.6MB\r",
      "  Downloading astropy-1.0.3.tar.gz (7.6MB):  86%  6.6MB\r",
      "  Downloading astropy-1.0.3.tar.gz (7.6MB):  86%  6.6MB\r",
      "  Downloading astropy-1.0.3.tar.gz (7.6MB):  86%  6.6MB\r",
      "  Downloading astropy-1.0.3.tar.gz (7.6MB):  86%  6.6MB\r",
      "  Downloading astropy-1.0.3.tar.gz (7.6MB):  86%  6.6MB\r",
      "  Downloading astropy-1.0.3.tar.gz (7.6MB):  86%  6.6MB\r",
      "  Downloading astropy-1.0.3.tar.gz (7.6MB):  86%  6.6MB\r",
      "  Downloading astropy-1.0.3.tar.gz (7.6MB):  86%  6.6MB\r",
      "  Downloading astropy-1.0.3.tar.gz (7.6MB):  86%  6.6MB\r",
      "  Downloading astropy-1.0.3.tar.gz (7.6MB):  86%  6.6MB\r",
      "  Downloading astropy-1.0.3.tar.gz (7.6MB):  86%  6.6MB\r",
      "  Downloading astropy-1.0.3.tar.gz (7.6MB):  86%  6.6MB\r",
      "  Downloading astropy-1.0.3.tar.gz (7.6MB):  87%  6.6MB\r",
      "  Downloading astropy-1.0.3.tar.gz (7.6MB):  87%  6.6MB\r",
      "  Downloading astropy-1.0.3.tar.gz (7.6MB):  87%  6.6MB\r",
      "  Downloading astropy-1.0.3.tar.gz (7.6MB):  87%  6.6MB\r",
      "  Downloading astropy-1.0.3.tar.gz (7.6MB):  87%  6.7MB\r",
      "  Downloading astropy-1.0.3.tar.gz (7.6MB):  87%  6.7MB\r",
      "  Downloading astropy-1.0.3.tar.gz (7.6MB):  87%  6.7MB\r",
      "  Downloading astropy-1.0.3.tar.gz (7.6MB):  87%  6.7MB"
     ]
    },
    {
     "name": "stdout",
     "output_type": "stream",
     "text": [
      "\r",
      "  Downloading astropy-1.0.3.tar.gz (7.6MB):  84%  6.5MB\r",
      "  Downloading astropy-1.0.3.tar.gz (7.6MB):  84%  6.5MB\r",
      "  Downloading astropy-1.0.3.tar.gz (7.6MB):  85%  6.5MB\r",
      "  Downloading astropy-1.0.3.tar.gz (7.6MB):  85%  6.5MB\r",
      "  Downloading astropy-1.0.3.tar.gz (7.6MB):  85%  6.5MB\r",
      "  Downloading astropy-1.0.3.tar.gz (7.6MB):  85%  6.5MB\r",
      "  Downloading astropy-1.0.3.tar.gz (7.6MB):  85%  6.5MB\r",
      "  Downloading astropy-1.0.3.tar.gz (7.6MB):  85%  6.5MB\r",
      "  Downloading astropy-1.0.3.tar.gz (7.6MB):  85%  6.5MB\r",
      "  Downloading astropy-1.0.3.tar.gz (7.6MB):  85%  6.5MB\r",
      "  Downloading astropy-1.0.3.tar.gz (7.6MB):  85%  6.5MB\r",
      "  Downloading astropy-1.0.3.tar.gz (7.6MB):  85%  6.5MB\r",
      "  Downloading astropy-1.0.3.tar.gz (7.6MB):  85%  6.5MB\r",
      "  Downloading astropy-1.0.3.tar.gz (7.6MB):  85%  6.5MB\r",
      "  Downloading astropy-1.0.3.tar.gz (7.6MB):  85%  6.5MB\r",
      "  Downloading astropy-1.0.3.tar.gz (7.6MB):  85%  6.5MB\r",
      "  Downloading astropy-1.0.3.tar.gz (7.6MB):  85%  6.5MB\r",
      "  Downloading astropy-1.0.3.tar.gz (7.6MB):  85%  6.5MB\r",
      "  Downloading astropy-1.0.3.tar.gz (7.6MB):  85%  6.5MB\r",
      "  Downloading astropy-1.0.3.tar.gz (7.6MB):  85%  6.5MB\r",
      "  Downloading astropy-1.0.3.tar.gz (7.6MB):  85%  6.6MB\r",
      "  Downloading astropy-1.0.3.tar.gz (7.6MB):  86%  6.6MB\r",
      "  Downloading astropy-1.0.3.tar.gz (7.6MB):  86%  6.6MB\r",
      "  Downloading astropy-1.0.3.tar.gz (7.6MB):  86%  6.6MB"
     ]
    },
    {
     "name": "stdout",
     "output_type": "stream",
     "text": [
      "\r",
      "  Downloading astropy-1.0.3.tar.gz (7.6MB):  83%  6.4MB\r",
      "  Downloading astropy-1.0.3.tar.gz (7.6MB):  83%  6.4MB\r",
      "  Downloading astropy-1.0.3.tar.gz (7.6MB):  83%  6.4MB\r",
      "  Downloading astropy-1.0.3.tar.gz (7.6MB):  83%  6.4MB\r",
      "  Downloading astropy-1.0.3.tar.gz (7.6MB):  83%  6.4MB\r",
      "  Downloading astropy-1.0.3.tar.gz (7.6MB):  83%  6.4MB\r",
      "  Downloading astropy-1.0.3.tar.gz (7.6MB):  83%  6.4MB\r",
      "  Downloading astropy-1.0.3.tar.gz (7.6MB):  83%  6.4MB\r",
      "  Downloading astropy-1.0.3.tar.gz (7.6MB):  84%  6.4MB\r",
      "  Downloading astropy-1.0.3.tar.gz (7.6MB):  84%  6.4MB\r",
      "  Downloading astropy-1.0.3.tar.gz (7.6MB):  84%  6.4MB\r",
      "  Downloading astropy-1.0.3.tar.gz (7.6MB):  84%  6.4MB\r",
      "  Downloading astropy-1.0.3.tar.gz (7.6MB):  84%  6.4MB\r",
      "  Downloading astropy-1.0.3.tar.gz (7.6MB):  84%  6.4MB\r",
      "  Downloading astropy-1.0.3.tar.gz (7.6MB):  84%  6.4MB\r",
      "  Downloading astropy-1.0.3.tar.gz (7.6MB):  84%  6.4MB\r",
      "  Downloading astropy-1.0.3.tar.gz (7.6MB):  84%  6.4MB\r",
      "  Downloading astropy-1.0.3.tar.gz (7.6MB):  84%  6.4MB\r",
      "  Downloading astropy-1.0.3.tar.gz (7.6MB):  84%  6.4MB\r",
      "  Downloading astropy-1.0.3.tar.gz (7.6MB):  84%  6.5MB\r",
      "  Downloading astropy-1.0.3.tar.gz (7.6MB):  84%  6.5MB\r",
      "  Downloading astropy-1.0.3.tar.gz (7.6MB):  84%  6.5MB\r",
      "  Downloading astropy-1.0.3.tar.gz (7.6MB):  84%  6.5MB\r",
      "  Downloading astropy-1.0.3.tar.gz (7.6MB):  84%  6.5MB"
     ]
    },
    {
     "name": "stdout",
     "output_type": "stream",
     "text": [
      "\r",
      "  Downloading astropy-1.0.3.tar.gz (7.6MB):  82%  6.3MB\r",
      "  Downloading astropy-1.0.3.tar.gz (7.6MB):  82%  6.3MB\r",
      "  Downloading astropy-1.0.3.tar.gz (7.6MB):  82%  6.3MB\r",
      "  Downloading astropy-1.0.3.tar.gz (7.6MB):  82%  6.3MB\r",
      "  Downloading astropy-1.0.3.tar.gz (7.6MB):  82%  6.3MB\r",
      "  Downloading astropy-1.0.3.tar.gz (7.6MB):  82%  6.3MB\r",
      "  Downloading astropy-1.0.3.tar.gz (7.6MB):  82%  6.3MB\r",
      "  Downloading astropy-1.0.3.tar.gz (7.6MB):  82%  6.3MB\r",
      "  Downloading astropy-1.0.3.tar.gz (7.6MB):  82%  6.3MB\r",
      "  Downloading astropy-1.0.3.tar.gz (7.6MB):  82%  6.3MB\r",
      "  Downloading astropy-1.0.3.tar.gz (7.6MB):  82%  6.3MB\r",
      "  Downloading astropy-1.0.3.tar.gz (7.6MB):  82%  6.3MB\r",
      "  Downloading astropy-1.0.3.tar.gz (7.6MB):  82%  6.3MB\r",
      "  Downloading astropy-1.0.3.tar.gz (7.6MB):  83%  6.3MB\r",
      "  Downloading astropy-1.0.3.tar.gz (7.6MB):  83%  6.3MB\r",
      "  Downloading astropy-1.0.3.tar.gz (7.6MB):  83%  6.3MB\r",
      "  Downloading astropy-1.0.3.tar.gz (7.6MB):  83%  6.3MB\r",
      "  Downloading astropy-1.0.3.tar.gz (7.6MB):  83%  6.3MB\r",
      "  Downloading astropy-1.0.3.tar.gz (7.6MB):  83%  6.3MB\r",
      "  Downloading astropy-1.0.3.tar.gz (7.6MB):  83%  6.4MB\r",
      "  Downloading astropy-1.0.3.tar.gz (7.6MB):  83%  6.4MB\r",
      "  Downloading astropy-1.0.3.tar.gz (7.6MB):  83%  6.4MB\r",
      "  Downloading astropy-1.0.3.tar.gz (7.6MB):  83%  6.4MB\r",
      "  Downloading astropy-1.0.3.tar.gz (7.6MB):  83%  6.4MB"
     ]
    },
    {
     "name": "stdout",
     "output_type": "stream",
     "text": [
      "\r",
      "  Downloading astropy-1.0.3.tar.gz (7.6MB):  81%  6.2MB\r",
      "  Downloading astropy-1.0.3.tar.gz (7.6MB):  81%  6.2MB\r",
      "  Downloading astropy-1.0.3.tar.gz (7.6MB):  81%  6.2MB\r",
      "  Downloading astropy-1.0.3.tar.gz (7.6MB):  81%  6.2MB\r",
      "  Downloading astropy-1.0.3.tar.gz (7.6MB):  81%  6.2MB\r",
      "  Downloading astropy-1.0.3.tar.gz (7.6MB):  81%  6.2MB\r",
      "  Downloading astropy-1.0.3.tar.gz (7.6MB):  81%  6.2MB\r",
      "  Downloading astropy-1.0.3.tar.gz (7.6MB):  81%  6.2MB\r",
      "  Downloading astropy-1.0.3.tar.gz (7.6MB):  81%  6.2MB\r",
      "  Downloading astropy-1.0.3.tar.gz (7.6MB):  81%  6.2MB\r",
      "  Downloading astropy-1.0.3.tar.gz (7.6MB):  81%  6.2MB\r",
      "  Downloading astropy-1.0.3.tar.gz (7.6MB):  81%  6.2MB\r",
      "  Downloading astropy-1.0.3.tar.gz (7.6MB):  81%  6.2MB\r",
      "  Downloading astropy-1.0.3.tar.gz (7.6MB):  81%  6.2MB\r",
      "  Downloading astropy-1.0.3.tar.gz (7.6MB):  81%  6.2MB\r",
      "  Downloading astropy-1.0.3.tar.gz (7.6MB):  81%  6.2MB\r",
      "  Downloading astropy-1.0.3.tar.gz (7.6MB):  81%  6.2MB\r",
      "  Downloading astropy-1.0.3.tar.gz (7.6MB):  81%  6.2MB\r",
      "  Downloading astropy-1.0.3.tar.gz (7.6MB):  81%  6.3MB\r",
      "  Downloading astropy-1.0.3.tar.gz (7.6MB):  82%  6.3MB\r",
      "  Downloading astropy-1.0.3.tar.gz (7.6MB):  82%  6.3MB\r",
      "  Downloading astropy-1.0.3.tar.gz (7.6MB):  82%  6.3MB\r",
      "  Downloading astropy-1.0.3.tar.gz (7.6MB):  82%  6.3MB\r",
      "  Downloading astropy-1.0.3.tar.gz (7.6MB):  82%  6.3MB"
     ]
    },
    {
     "name": "stdout",
     "output_type": "stream",
     "text": [
      "\r",
      "  Downloading astropy-1.0.3.tar.gz (7.6MB):  79%  6.1MB\r",
      "  Downloading astropy-1.0.3.tar.gz (7.6MB):  79%  6.1MB\r",
      "  Downloading astropy-1.0.3.tar.gz (7.6MB):  79%  6.1MB\r",
      "  Downloading astropy-1.0.3.tar.gz (7.6MB):  79%  6.1MB\r",
      "  Downloading astropy-1.0.3.tar.gz (7.6MB):  79%  6.1MB\r",
      "  Downloading astropy-1.0.3.tar.gz (7.6MB):  80%  6.1MB\r",
      "  Downloading astropy-1.0.3.tar.gz (7.6MB):  80%  6.1MB\r",
      "  Downloading astropy-1.0.3.tar.gz (7.6MB):  80%  6.1MB\r",
      "  Downloading astropy-1.0.3.tar.gz (7.6MB):  80%  6.1MB\r",
      "  Downloading astropy-1.0.3.tar.gz (7.6MB):  80%  6.1MB\r",
      "  Downloading astropy-1.0.3.tar.gz (7.6MB):  80%  6.1MB\r",
      "  Downloading astropy-1.0.3.tar.gz (7.6MB):  80%  6.1MB\r",
      "  Downloading astropy-1.0.3.tar.gz (7.6MB):  80%  6.1MB\r",
      "  Downloading astropy-1.0.3.tar.gz (7.6MB):  80%  6.1MB\r",
      "  Downloading astropy-1.0.3.tar.gz (7.6MB):  80%  6.1MB\r",
      "  Downloading astropy-1.0.3.tar.gz (7.6MB):  80%  6.1MB\r",
      "  Downloading astropy-1.0.3.tar.gz (7.6MB):  80%  6.1MB\r",
      "  Downloading astropy-1.0.3.tar.gz (7.6MB):  80%  6.1MB\r",
      "  Downloading astropy-1.0.3.tar.gz (7.6MB):  80%  6.2MB\r",
      "  Downloading astropy-1.0.3.tar.gz (7.6MB):  80%  6.2MB\r",
      "  Downloading astropy-1.0.3.tar.gz (7.6MB):  80%  6.2MB\r",
      "  Downloading astropy-1.0.3.tar.gz (7.6MB):  80%  6.2MB\r",
      "  Downloading astropy-1.0.3.tar.gz (7.6MB):  80%  6.2MB\r",
      "  Downloading astropy-1.0.3.tar.gz (7.6MB):  80%  6.2MB"
     ]
    },
    {
     "name": "stdout",
     "output_type": "stream",
     "text": [
      "\r",
      "  Downloading astropy-1.0.3.tar.gz (7.6MB):  78%  6.0MB\r",
      "  Downloading astropy-1.0.3.tar.gz (7.6MB):  78%  6.0MB\r",
      "  Downloading astropy-1.0.3.tar.gz (7.6MB):  78%  6.0MB\r",
      "  Downloading astropy-1.0.3.tar.gz (7.6MB):  78%  6.0MB\r",
      "  Downloading astropy-1.0.3.tar.gz (7.6MB):  78%  6.0MB\r",
      "  Downloading astropy-1.0.3.tar.gz (7.6MB):  78%  6.0MB\r",
      "  Downloading astropy-1.0.3.tar.gz (7.6MB):  78%  6.0MB\r",
      "  Downloading astropy-1.0.3.tar.gz (7.6MB):  78%  6.0MB\r",
      "  Downloading astropy-1.0.3.tar.gz (7.6MB):  78%  6.0MB\r",
      "  Downloading astropy-1.0.3.tar.gz (7.6MB):  78%  6.0MB\r",
      "  Downloading astropy-1.0.3.tar.gz (7.6MB):  78%  6.0MB\r",
      "  Downloading astropy-1.0.3.tar.gz (7.6MB):  79%  6.0MB\r",
      "  Downloading astropy-1.0.3.tar.gz (7.6MB):  79%  6.0MB\r",
      "  Downloading astropy-1.0.3.tar.gz (7.6MB):  79%  6.0MB\r",
      "  Downloading astropy-1.0.3.tar.gz (7.6MB):  79%  6.0MB\r",
      "  Downloading astropy-1.0.3.tar.gz (7.6MB):  79%  6.0MB\r",
      "  Downloading astropy-1.0.3.tar.gz (7.6MB):  79%  6.0MB\r",
      "  Downloading astropy-1.0.3.tar.gz (7.6MB):  79%  6.0MB\r",
      "  Downloading astropy-1.0.3.tar.gz (7.6MB):  79%  6.1MB\r",
      "  Downloading astropy-1.0.3.tar.gz (7.6MB):  79%  6.1MB\r",
      "  Downloading astropy-1.0.3.tar.gz (7.6MB):  79%  6.1MB\r",
      "  Downloading astropy-1.0.3.tar.gz (7.6MB):  79%  6.1MB\r",
      "  Downloading astropy-1.0.3.tar.gz (7.6MB):  79%  6.1MB\r",
      "  Downloading astropy-1.0.3.tar.gz (7.6MB):  79%  6.1MB"
     ]
    },
    {
     "name": "stdout",
     "output_type": "stream",
     "text": [
      "\r",
      "  Downloading astropy-1.0.3.tar.gz (7.6MB):  77%  5.9MB\r",
      "  Downloading astropy-1.0.3.tar.gz (7.6MB):  77%  5.9MB\r",
      "  Downloading astropy-1.0.3.tar.gz (7.6MB):  77%  5.9MB\r",
      "  Downloading astropy-1.0.3.tar.gz (7.6MB):  77%  5.9MB\r",
      "  Downloading astropy-1.0.3.tar.gz (7.6MB):  77%  5.9MB\r",
      "  Downloading astropy-1.0.3.tar.gz (7.6MB):  77%  5.9MB\r",
      "  Downloading astropy-1.0.3.tar.gz (7.6MB):  77%  5.9MB\r",
      "  Downloading astropy-1.0.3.tar.gz (7.6MB):  77%  5.9MB\r",
      "  Downloading astropy-1.0.3.tar.gz (7.6MB):  77%  5.9MB\r",
      "  Downloading astropy-1.0.3.tar.gz (7.6MB):  77%  5.9MB\r",
      "  Downloading astropy-1.0.3.tar.gz (7.6MB):  77%  5.9MB\r",
      "  Downloading astropy-1.0.3.tar.gz (7.6MB):  77%  5.9MB\r",
      "  Downloading astropy-1.0.3.tar.gz (7.6MB):  77%  5.9MB\r",
      "  Downloading astropy-1.0.3.tar.gz (7.6MB):  77%  5.9MB\r",
      "  Downloading astropy-1.0.3.tar.gz (7.6MB):  77%  5.9MB\r",
      "  Downloading astropy-1.0.3.tar.gz (7.6MB):  77%  5.9MB\r",
      "  Downloading astropy-1.0.3.tar.gz (7.6MB):  78%  5.9MB\r",
      "  Downloading astropy-1.0.3.tar.gz (7.6MB):  78%  6.0MB\r",
      "  Downloading astropy-1.0.3.tar.gz (7.6MB):  78%  6.0MB\r",
      "  Downloading astropy-1.0.3.tar.gz (7.6MB):  78%  6.0MB\r",
      "  Downloading astropy-1.0.3.tar.gz (7.6MB):  78%  6.0MB\r",
      "  Downloading astropy-1.0.3.tar.gz (7.6MB):  78%  6.0MB\r",
      "  Downloading astropy-1.0.3.tar.gz (7.6MB):  78%  6.0MB\r",
      "  Downloading astropy-1.0.3.tar.gz (7.6MB):  78%  6.0MB"
     ]
    },
    {
     "name": "stdout",
     "output_type": "stream",
     "text": [
      "\r",
      "  Downloading astropy-1.0.3.tar.gz (7.6MB):  75%  5.8MB\r",
      "  Downloading astropy-1.0.3.tar.gz (7.6MB):  75%  5.8MB\r",
      "  Downloading astropy-1.0.3.tar.gz (7.6MB):  75%  5.8MB\r",
      "  Downloading astropy-1.0.3.tar.gz (7.6MB):  76%  5.8MB\r",
      "  Downloading astropy-1.0.3.tar.gz (7.6MB):  76%  5.8MB\r",
      "  Downloading astropy-1.0.3.tar.gz (7.6MB):  76%  5.8MB\r",
      "  Downloading astropy-1.0.3.tar.gz (7.6MB):  76%  5.8MB\r",
      "  Downloading astropy-1.0.3.tar.gz (7.6MB):  76%  5.8MB\r",
      "  Downloading astropy-1.0.3.tar.gz (7.6MB):  76%  5.8MB\r",
      "  Downloading astropy-1.0.3.tar.gz (7.6MB):  76%  5.8MB\r",
      "  Downloading astropy-1.0.3.tar.gz (7.6MB):  76%  5.8MB\r",
      "  Downloading astropy-1.0.3.tar.gz (7.6MB):  76%  5.8MB\r",
      "  Downloading astropy-1.0.3.tar.gz (7.6MB):  76%  5.8MB\r",
      "  Downloading astropy-1.0.3.tar.gz (7.6MB):  76%  5.8MB\r",
      "  Downloading astropy-1.0.3.tar.gz (7.6MB):  76%  5.8MB\r",
      "  Downloading astropy-1.0.3.tar.gz (7.6MB):  76%  5.8MB\r",
      "  Downloading astropy-1.0.3.tar.gz (7.6MB):  76%  5.8MB\r",
      "  Downloading astropy-1.0.3.tar.gz (7.6MB):  76%  5.9MB\r",
      "  Downloading astropy-1.0.3.tar.gz (7.6MB):  76%  5.9MB\r",
      "  Downloading astropy-1.0.3.tar.gz (7.6MB):  76%  5.9MB\r",
      "  Downloading astropy-1.0.3.tar.gz (7.6MB):  76%  5.9MB\r",
      "  Downloading astropy-1.0.3.tar.gz (7.6MB):  76%  5.9MB\r",
      "  Downloading astropy-1.0.3.tar.gz (7.6MB):  77%  5.9MB\r",
      "  Downloading astropy-1.0.3.tar.gz (7.6MB):  77%  5.9MB"
     ]
    },
    {
     "name": "stdout",
     "output_type": "stream",
     "text": [
      "\r",
      "  Downloading astropy-1.0.3.tar.gz (7.6MB):  74%  5.7MB\r",
      "  Downloading astropy-1.0.3.tar.gz (7.6MB):  74%  5.7MB\r",
      "  Downloading astropy-1.0.3.tar.gz (7.6MB):  74%  5.7MB\r",
      "  Downloading astropy-1.0.3.tar.gz (7.6MB):  74%  5.7MB\r",
      "  Downloading astropy-1.0.3.tar.gz (7.6MB):  74%  5.7MB\r",
      "  Downloading astropy-1.0.3.tar.gz (7.6MB):  74%  5.7MB\r",
      "  Downloading astropy-1.0.3.tar.gz (7.6MB):  74%  5.7MB\r",
      "  Downloading astropy-1.0.3.tar.gz (7.6MB):  74%  5.7MB\r",
      "  Downloading astropy-1.0.3.tar.gz (7.6MB):  75%  5.7MB\r",
      "  Downloading astropy-1.0.3.tar.gz (7.6MB):  75%  5.7MB\r",
      "  Downloading astropy-1.0.3.tar.gz (7.6MB):  75%  5.7MB\r",
      "  Downloading astropy-1.0.3.tar.gz (7.6MB):  75%  5.7MB\r",
      "  Downloading astropy-1.0.3.tar.gz (7.6MB):  75%  5.7MB\r",
      "  Downloading astropy-1.0.3.tar.gz (7.6MB):  75%  5.7MB\r",
      "  Downloading astropy-1.0.3.tar.gz (7.6MB):  75%  5.7MB\r",
      "  Downloading astropy-1.0.3.tar.gz (7.6MB):  75%  5.7MB\r",
      "  Downloading astropy-1.0.3.tar.gz (7.6MB):  75%  5.8MB\r",
      "  Downloading astropy-1.0.3.tar.gz (7.6MB):  75%  5.8MB\r",
      "  Downloading astropy-1.0.3.tar.gz (7.6MB):  75%  5.8MB\r",
      "  Downloading astropy-1.0.3.tar.gz (7.6MB):  75%  5.8MB\r",
      "  Downloading astropy-1.0.3.tar.gz (7.6MB):  75%  5.8MB\r",
      "  Downloading astropy-1.0.3.tar.gz (7.6MB):  75%  5.8MB\r",
      "  Downloading astropy-1.0.3.tar.gz (7.6MB):  75%  5.8MB\r",
      "  Downloading astropy-1.0.3.tar.gz (7.6MB):  75%  5.8MB"
     ]
    },
    {
     "name": "stdout",
     "output_type": "stream",
     "text": [
      "\r",
      "  Downloading astropy-1.0.3.tar.gz (7.6MB):  73%  5.6MB\r",
      "  Downloading astropy-1.0.3.tar.gz (7.6MB):  73%  5.6MB\r",
      "  Downloading astropy-1.0.3.tar.gz (7.6MB):  73%  5.6MB\r",
      "  Downloading astropy-1.0.3.tar.gz (7.6MB):  73%  5.6MB\r",
      "  Downloading astropy-1.0.3.tar.gz (7.6MB):  73%  5.6MB\r",
      "  Downloading astropy-1.0.3.tar.gz (7.6MB):  73%  5.6MB\r",
      "  Downloading astropy-1.0.3.tar.gz (7.6MB):  73%  5.6MB\r",
      "  Downloading astropy-1.0.3.tar.gz (7.6MB):  73%  5.6MB\r",
      "  Downloading astropy-1.0.3.tar.gz (7.6MB):  73%  5.6MB\r",
      "  Downloading astropy-1.0.3.tar.gz (7.6MB):  73%  5.6MB\r",
      "  Downloading astropy-1.0.3.tar.gz (7.6MB):  73%  5.6MB\r",
      "  Downloading astropy-1.0.3.tar.gz (7.6MB):  73%  5.6MB\r",
      "  Downloading astropy-1.0.3.tar.gz (7.6MB):  73%  5.6MB\r",
      "  Downloading astropy-1.0.3.tar.gz (7.6MB):  73%  5.6MB\r",
      "  Downloading astropy-1.0.3.tar.gz (7.6MB):  74%  5.6MB\r",
      "  Downloading astropy-1.0.3.tar.gz (7.6MB):  74%  5.6MB\r",
      "  Downloading astropy-1.0.3.tar.gz (7.6MB):  74%  5.7MB\r",
      "  Downloading astropy-1.0.3.tar.gz (7.6MB):  74%  5.7MB\r",
      "  Downloading astropy-1.0.3.tar.gz (7.6MB):  74%  5.7MB\r",
      "  Downloading astropy-1.0.3.tar.gz (7.6MB):  74%  5.7MB\r",
      "  Downloading astropy-1.0.3.tar.gz (7.6MB):  74%  5.7MB\r",
      "  Downloading astropy-1.0.3.tar.gz (7.6MB):  74%  5.7MB\r",
      "  Downloading astropy-1.0.3.tar.gz (7.6MB):  74%  5.7MB\r",
      "  Downloading astropy-1.0.3.tar.gz (7.6MB):  74%  5.7MB"
     ]
    },
    {
     "name": "stdout",
     "output_type": "stream",
     "text": [
      "\r",
      "  Downloading astropy-1.0.3.tar.gz (7.6MB):  72%  5.5MB\r",
      "  Downloading astropy-1.0.3.tar.gz (7.6MB):  72%  5.5MB\r",
      "  Downloading astropy-1.0.3.tar.gz (7.6MB):  72%  5.5MB\r",
      "  Downloading astropy-1.0.3.tar.gz (7.6MB):  72%  5.5MB\r",
      "  Downloading astropy-1.0.3.tar.gz (7.6MB):  72%  5.5MB\r",
      "  Downloading astropy-1.0.3.tar.gz (7.6MB):  72%  5.5MB\r",
      "  Downloading astropy-1.0.3.tar.gz (7.6MB):  72%  5.5MB\r",
      "  Downloading astropy-1.0.3.tar.gz (7.6MB):  72%  5.5MB\r",
      "  Downloading astropy-1.0.3.tar.gz (7.6MB):  72%  5.5MB\r",
      "  Downloading astropy-1.0.3.tar.gz (7.6MB):  72%  5.5MB\r",
      "  Downloading astropy-1.0.3.tar.gz (7.6MB):  72%  5.5MB\r",
      "  Downloading astropy-1.0.3.tar.gz (7.6MB):  72%  5.5MB\r",
      "  Downloading astropy-1.0.3.tar.gz (7.6MB):  72%  5.5MB\r",
      "  Downloading astropy-1.0.3.tar.gz (7.6MB):  72%  5.5MB\r",
      "  Downloading astropy-1.0.3.tar.gz (7.6MB):  72%  5.5MB\r",
      "  Downloading astropy-1.0.3.tar.gz (7.6MB):  72%  5.6MB\r",
      "  Downloading astropy-1.0.3.tar.gz (7.6MB):  72%  5.6MB\r",
      "  Downloading astropy-1.0.3.tar.gz (7.6MB):  72%  5.6MB\r",
      "  Downloading astropy-1.0.3.tar.gz (7.6MB):  72%  5.6MB\r",
      "  Downloading astropy-1.0.3.tar.gz (7.6MB):  73%  5.6MB\r",
      "  Downloading astropy-1.0.3.tar.gz (7.6MB):  73%  5.6MB\r",
      "  Downloading astropy-1.0.3.tar.gz (7.6MB):  73%  5.6MB\r",
      "  Downloading astropy-1.0.3.tar.gz (7.6MB):  73%  5.6MB\r",
      "  Downloading astropy-1.0.3.tar.gz (7.6MB):  73%  5.6MB"
     ]
    },
    {
     "name": "stdout",
     "output_type": "stream",
     "text": [
      "\r",
      "  Downloading astropy-1.0.3.tar.gz (7.6MB):  70%  5.4MB\r",
      "  Downloading astropy-1.0.3.tar.gz (7.6MB):  70%  5.4MB\r",
      "  Downloading astropy-1.0.3.tar.gz (7.6MB):  70%  5.4MB\r",
      "  Downloading astropy-1.0.3.tar.gz (7.6MB):  70%  5.4MB\r",
      "  Downloading astropy-1.0.3.tar.gz (7.6MB):  70%  5.4MB\r",
      "  Downloading astropy-1.0.3.tar.gz (7.6MB):  70%  5.4MB\r",
      "  Downloading astropy-1.0.3.tar.gz (7.6MB):  71%  5.4MB\r",
      "  Downloading astropy-1.0.3.tar.gz (7.6MB):  71%  5.4MB\r",
      "  Downloading astropy-1.0.3.tar.gz (7.6MB):  71%  5.4MB\r",
      "  Downloading astropy-1.0.3.tar.gz (7.6MB):  71%  5.4MB\r",
      "  Downloading astropy-1.0.3.tar.gz (7.6MB):  71%  5.4MB\r",
      "  Downloading astropy-1.0.3.tar.gz (7.6MB):  71%  5.4MB\r",
      "  Downloading astropy-1.0.3.tar.gz (7.6MB):  71%  5.4MB\r",
      "  Downloading astropy-1.0.3.tar.gz (7.6MB):  71%  5.4MB\r",
      "  Downloading astropy-1.0.3.tar.gz (7.6MB):  71%  5.4MB\r",
      "  Downloading astropy-1.0.3.tar.gz (7.6MB):  71%  5.5MB\r",
      "  Downloading astropy-1.0.3.tar.gz (7.6MB):  71%  5.5MB\r",
      "  Downloading astropy-1.0.3.tar.gz (7.6MB):  71%  5.5MB\r",
      "  Downloading astropy-1.0.3.tar.gz (7.6MB):  71%  5.5MB\r",
      "  Downloading astropy-1.0.3.tar.gz (7.6MB):  71%  5.5MB\r",
      "  Downloading astropy-1.0.3.tar.gz (7.6MB):  71%  5.5MB\r",
      "  Downloading astropy-1.0.3.tar.gz (7.6MB):  71%  5.5MB\r",
      "  Downloading astropy-1.0.3.tar.gz (7.6MB):  71%  5.5MB\r",
      "  Downloading astropy-1.0.3.tar.gz (7.6MB):  71%  5.5MB"
     ]
    },
    {
     "name": "stdout",
     "output_type": "stream",
     "text": [
      "\r",
      "  Downloading astropy-1.0.3.tar.gz (7.6MB):  69%  5.3MB\r",
      "  Downloading astropy-1.0.3.tar.gz (7.6MB):  69%  5.3MB\r",
      "  Downloading astropy-1.0.3.tar.gz (7.6MB):  69%  5.3MB\r",
      "  Downloading astropy-1.0.3.tar.gz (7.6MB):  69%  5.3MB\r",
      "  Downloading astropy-1.0.3.tar.gz (7.6MB):  69%  5.3MB\r",
      "  Downloading astropy-1.0.3.tar.gz (7.6MB):  69%  5.3MB\r",
      "  Downloading astropy-1.0.3.tar.gz (7.6MB):  69%  5.3MB\r",
      "  Downloading astropy-1.0.3.tar.gz (7.6MB):  69%  5.3MB\r",
      "  Downloading astropy-1.0.3.tar.gz (7.6MB):  69%  5.3MB\r",
      "  Downloading astropy-1.0.3.tar.gz (7.6MB):  69%  5.3MB\r",
      "  Downloading astropy-1.0.3.tar.gz (7.6MB):  69%  5.3MB\r",
      "  Downloading astropy-1.0.3.tar.gz (7.6MB):  70%  5.3MB\r",
      "  Downloading astropy-1.0.3.tar.gz (7.6MB):  70%  5.3MB\r",
      "  Downloading astropy-1.0.3.tar.gz (7.6MB):  70%  5.3MB\r",
      "  Downloading astropy-1.0.3.tar.gz (7.6MB):  70%  5.3MB\r",
      "  Downloading astropy-1.0.3.tar.gz (7.6MB):  70%  5.4MB\r",
      "  Downloading astropy-1.0.3.tar.gz (7.6MB):  70%  5.4MB\r",
      "  Downloading astropy-1.0.3.tar.gz (7.6MB):  70%  5.4MB\r",
      "  Downloading astropy-1.0.3.tar.gz (7.6MB):  70%  5.4MB\r",
      "  Downloading astropy-1.0.3.tar.gz (7.6MB):  70%  5.4MB\r",
      "  Downloading astropy-1.0.3.tar.gz (7.6MB):  70%  5.4MB\r",
      "  Downloading astropy-1.0.3.tar.gz (7.6MB):  70%  5.4MB\r",
      "  Downloading astropy-1.0.3.tar.gz (7.6MB):  70%  5.4MB\r",
      "  Downloading astropy-1.0.3.tar.gz (7.6MB):  70%  5.4MB"
     ]
    },
    {
     "name": "stdout",
     "output_type": "stream",
     "text": [
      "\r",
      "  Downloading astropy-1.0.3.tar.gz (7.6MB):  68%  5.2MB\r",
      "  Downloading astropy-1.0.3.tar.gz (7.6MB):  68%  5.2MB\r",
      "  Downloading astropy-1.0.3.tar.gz (7.6MB):  68%  5.2MB\r",
      "  Downloading astropy-1.0.3.tar.gz (7.6MB):  68%  5.2MB\r",
      "  Downloading astropy-1.0.3.tar.gz (7.6MB):  68%  5.2MB\r",
      "  Downloading astropy-1.0.3.tar.gz (7.6MB):  68%  5.2MB\r",
      "  Downloading astropy-1.0.3.tar.gz (7.6MB):  68%  5.2MB\r",
      "  Downloading astropy-1.0.3.tar.gz (7.6MB):  68%  5.2MB\r",
      "  Downloading astropy-1.0.3.tar.gz (7.6MB):  68%  5.2MB\r",
      "  Downloading astropy-1.0.3.tar.gz (7.6MB):  68%  5.2MB\r",
      "  Downloading astropy-1.0.3.tar.gz (7.6MB):  68%  5.2MB\r",
      "  Downloading astropy-1.0.3.tar.gz (7.6MB):  68%  5.2MB\r",
      "  Downloading astropy-1.0.3.tar.gz (7.6MB):  68%  5.2MB\r",
      "  Downloading astropy-1.0.3.tar.gz (7.6MB):  68%  5.2MB\r",
      "  Downloading astropy-1.0.3.tar.gz (7.6MB):  68%  5.3MB\r",
      "  Downloading astropy-1.0.3.tar.gz (7.6MB):  68%  5.3MB\r",
      "  Downloading astropy-1.0.3.tar.gz (7.6MB):  68%  5.3MB\r",
      "  Downloading astropy-1.0.3.tar.gz (7.6MB):  69%  5.3MB\r",
      "  Downloading astropy-1.0.3.tar.gz (7.6MB):  69%  5.3MB\r",
      "  Downloading astropy-1.0.3.tar.gz (7.6MB):  69%  5.3MB\r",
      "  Downloading astropy-1.0.3.tar.gz (7.6MB):  69%  5.3MB\r",
      "  Downloading astropy-1.0.3.tar.gz (7.6MB):  69%  5.3MB\r",
      "  Downloading astropy-1.0.3.tar.gz (7.6MB):  69%  5.3MB\r",
      "  Downloading astropy-1.0.3.tar.gz (7.6MB):  69%  5.3MB"
     ]
    },
    {
     "name": "stdout",
     "output_type": "stream",
     "text": [
      "\r",
      "  Downloading astropy-1.0.3.tar.gz (7.6MB):  66%  5.1MB\r",
      "  Downloading astropy-1.0.3.tar.gz (7.6MB):  66%  5.1MB\r",
      "  Downloading astropy-1.0.3.tar.gz (7.6MB):  66%  5.1MB\r",
      "  Downloading astropy-1.0.3.tar.gz (7.6MB):  67%  5.1MB\r",
      "  Downloading astropy-1.0.3.tar.gz (7.6MB):  67%  5.1MB\r",
      "  Downloading astropy-1.0.3.tar.gz (7.6MB):  67%  5.1MB\r",
      "  Downloading astropy-1.0.3.tar.gz (7.6MB):  67%  5.1MB\r",
      "  Downloading astropy-1.0.3.tar.gz (7.6MB):  67%  5.1MB\r",
      "  Downloading astropy-1.0.3.tar.gz (7.6MB):  67%  5.1MB\r",
      "  Downloading astropy-1.0.3.tar.gz (7.6MB):  67%  5.1MB\r",
      "  Downloading astropy-1.0.3.tar.gz (7.6MB):  67%  5.1MB\r",
      "  Downloading astropy-1.0.3.tar.gz (7.6MB):  67%  5.1MB\r",
      "  Downloading astropy-1.0.3.tar.gz (7.6MB):  67%  5.1MB\r",
      "  Downloading astropy-1.0.3.tar.gz (7.6MB):  67%  5.1MB\r",
      "  Downloading astropy-1.0.3.tar.gz (7.6MB):  67%  5.2MB\r",
      "  Downloading astropy-1.0.3.tar.gz (7.6MB):  67%  5.2MB\r",
      "  Downloading astropy-1.0.3.tar.gz (7.6MB):  67%  5.2MB\r",
      "  Downloading astropy-1.0.3.tar.gz (7.6MB):  67%  5.2MB\r",
      "  Downloading astropy-1.0.3.tar.gz (7.6MB):  67%  5.2MB\r",
      "  Downloading astropy-1.0.3.tar.gz (7.6MB):  67%  5.2MB\r",
      "  Downloading astropy-1.0.3.tar.gz (7.6MB):  67%  5.2MB\r",
      "  Downloading astropy-1.0.3.tar.gz (7.6MB):  67%  5.2MB\r",
      "  Downloading astropy-1.0.3.tar.gz (7.6MB):  68%  5.2MB\r",
      "  Downloading astropy-1.0.3.tar.gz (7.6MB):  68%  5.2MB"
     ]
    },
    {
     "name": "stdout",
     "output_type": "stream",
     "text": [
      "\r",
      "  Downloading astropy-1.0.3.tar.gz (7.6MB):  65%  5.0MB\r",
      "  Downloading astropy-1.0.3.tar.gz (7.6MB):  65%  5.0MB\r",
      "  Downloading astropy-1.0.3.tar.gz (7.6MB):  65%  5.0MB\r",
      "  Downloading astropy-1.0.3.tar.gz (7.6MB):  65%  5.0MB\r",
      "  Downloading astropy-1.0.3.tar.gz (7.6MB):  65%  5.0MB\r",
      "  Downloading astropy-1.0.3.tar.gz (7.6MB):  65%  5.0MB\r",
      "  Downloading astropy-1.0.3.tar.gz (7.6MB):  65%  5.0MB\r",
      "  Downloading astropy-1.0.3.tar.gz (7.6MB):  65%  5.0MB\r",
      "  Downloading astropy-1.0.3.tar.gz (7.6MB):  65%  5.0MB\r",
      "  Downloading astropy-1.0.3.tar.gz (7.6MB):  66%  5.0MB\r",
      "  Downloading astropy-1.0.3.tar.gz (7.6MB):  66%  5.0MB\r",
      "  Downloading astropy-1.0.3.tar.gz (7.6MB):  66%  5.0MB\r",
      "  Downloading astropy-1.0.3.tar.gz (7.6MB):  66%  5.0MB\r",
      "  Downloading astropy-1.0.3.tar.gz (7.6MB):  66%  5.1MB\r",
      "  Downloading astropy-1.0.3.tar.gz (7.6MB):  66%  5.1MB\r",
      "  Downloading astropy-1.0.3.tar.gz (7.6MB):  66%  5.1MB\r",
      "  Downloading astropy-1.0.3.tar.gz (7.6MB):  66%  5.1MB\r",
      "  Downloading astropy-1.0.3.tar.gz (7.6MB):  66%  5.1MB\r",
      "  Downloading astropy-1.0.3.tar.gz (7.6MB):  66%  5.1MB\r",
      "  Downloading astropy-1.0.3.tar.gz (7.6MB):  66%  5.1MB\r",
      "  Downloading astropy-1.0.3.tar.gz (7.6MB):  66%  5.1MB\r",
      "  Downloading astropy-1.0.3.tar.gz (7.6MB):  66%  5.1MB\r",
      "  Downloading astropy-1.0.3.tar.gz (7.6MB):  66%  5.1MB\r",
      "  Downloading astropy-1.0.3.tar.gz (7.6MB):  66%  5.1MB"
     ]
    },
    {
     "name": "stdout",
     "output_type": "stream",
     "text": [
      "\r",
      "  Downloading astropy-1.0.3.tar.gz (7.6MB):  64%  4.9MB\r",
      "  Downloading astropy-1.0.3.tar.gz (7.6MB):  64%  4.9MB\r",
      "  Downloading astropy-1.0.3.tar.gz (7.6MB):  64%  4.9MB\r",
      "  Downloading astropy-1.0.3.tar.gz (7.6MB):  64%  4.9MB\r",
      "  Downloading astropy-1.0.3.tar.gz (7.6MB):  64%  4.9MB\r",
      "  Downloading astropy-1.0.3.tar.gz (7.6MB):  64%  4.9MB\r",
      "  Downloading astropy-1.0.3.tar.gz (7.6MB):  64%  4.9MB\r",
      "  Downloading astropy-1.0.3.tar.gz (7.6MB):  64%  4.9MB\r",
      "  Downloading astropy-1.0.3.tar.gz (7.6MB):  64%  4.9MB\r",
      "  Downloading astropy-1.0.3.tar.gz (7.6MB):  64%  5.0MB\r",
      "  Downloading astropy-1.0.3.tar.gz (7.6MB):  65%  5.0MB\r",
      "  Downloading astropy-1.0.3.tar.gz (7.6MB):  65%  5.0MB\r",
      "  Downloading astropy-1.0.3.tar.gz (7.6MB):  65%  5.0MB\r",
      "  Downloading astropy-1.0.3.tar.gz (7.6MB):  65%  5.0MB\r",
      "  Downloading astropy-1.0.3.tar.gz (7.6MB):  65%  5.0MB\r",
      "  Downloading astropy-1.0.3.tar.gz (7.6MB):  65%  5.0MB\r",
      "  Downloading astropy-1.0.3.tar.gz (7.6MB):  65%  5.0MB\r",
      "  Downloading astropy-1.0.3.tar.gz (7.6MB):  65%  5.0MB\r",
      "  Downloading astropy-1.0.3.tar.gz (7.6MB):  65%  5.0MB\r",
      "  Downloading astropy-1.0.3.tar.gz (7.6MB):  65%  5.0MB"
     ]
    },
    {
     "name": "stdout",
     "output_type": "stream",
     "text": [
      "\r",
      "  Downloading astropy-1.0.3.tar.gz (7.6MB):  63%  4.8MB\r",
      "  Downloading astropy-1.0.3.tar.gz (7.6MB):  63%  4.8MB\r",
      "  Downloading astropy-1.0.3.tar.gz (7.6MB):  63%  4.8MB\r",
      "  Downloading astropy-1.0.3.tar.gz (7.6MB):  63%  4.8MB\r",
      "  Downloading astropy-1.0.3.tar.gz (7.6MB):  63%  4.8MB\r",
      "  Downloading astropy-1.0.3.tar.gz (7.6MB):  63%  4.8MB\r",
      "  Downloading astropy-1.0.3.tar.gz (7.6MB):  63%  4.8MB\r",
      "  Downloading astropy-1.0.3.tar.gz (7.6MB):  63%  4.8MB\r",
      "  Downloading astropy-1.0.3.tar.gz (7.6MB):  63%  4.8MB\r",
      "  Downloading astropy-1.0.3.tar.gz (7.6MB):  63%  4.8MB\r",
      "  Downloading astropy-1.0.3.tar.gz (7.6MB):  63%  4.8MB\r",
      "  Downloading astropy-1.0.3.tar.gz (7.6MB):  63%  4.8MB\r",
      "  Downloading astropy-1.0.3.tar.gz (7.6MB):  63%  4.9MB\r",
      "  Downloading astropy-1.0.3.tar.gz (7.6MB):  63%  4.9MB\r",
      "  Downloading astropy-1.0.3.tar.gz (7.6MB):  63%  4.9MB\r",
      "  Downloading astropy-1.0.3.tar.gz (7.6MB):  63%  4.9MB\r",
      "  Downloading astropy-1.0.3.tar.gz (7.6MB):  63%  4.9MB\r",
      "  Downloading astropy-1.0.3.tar.gz (7.6MB):  63%  4.9MB\r",
      "  Downloading astropy-1.0.3.tar.gz (7.6MB):  63%  4.9MB\r",
      "  Downloading astropy-1.0.3.tar.gz (7.6MB):  64%  4.9MB\r",
      "  Downloading astropy-1.0.3.tar.gz (7.6MB):  64%  4.9MB\r",
      "  Downloading astropy-1.0.3.tar.gz (7.6MB):  64%  4.9MB\r",
      "  Downloading astropy-1.0.3.tar.gz (7.6MB):  64%  4.9MB\r",
      "  Downloading astropy-1.0.3.tar.gz (7.6MB):  64%  4.9MB\r",
      "  Downloading astropy-1.0.3.tar.gz (7.6MB):  64%  4.9MB\r",
      "  Downloading astropy-1.0.3.tar.gz (7.6MB):  64%  4.9MB\r",
      "  Downloading astropy-1.0.3.tar.gz (7.6MB):  64%  4.9MB"
     ]
    },
    {
     "name": "stdout",
     "output_type": "stream",
     "text": [
      "\r",
      "  Downloading astropy-1.0.3.tar.gz (7.6MB):  61%  4.7MB\r",
      "  Downloading astropy-1.0.3.tar.gz (7.6MB):  61%  4.7MB\r",
      "  Downloading astropy-1.0.3.tar.gz (7.6MB):  61%  4.7MB\r",
      "  Downloading astropy-1.0.3.tar.gz (7.6MB):  62%  4.7MB\r",
      "  Downloading astropy-1.0.3.tar.gz (7.6MB):  62%  4.7MB\r",
      "  Downloading astropy-1.0.3.tar.gz (7.6MB):  62%  4.7MB\r",
      "  Downloading astropy-1.0.3.tar.gz (7.6MB):  62%  4.7MB\r",
      "  Downloading astropy-1.0.3.tar.gz (7.6MB):  62%  4.7MB\r",
      "  Downloading astropy-1.0.3.tar.gz (7.6MB):  62%  4.7MB\r",
      "  Downloading astropy-1.0.3.tar.gz (7.6MB):  62%  4.8MB\r",
      "  Downloading astropy-1.0.3.tar.gz (7.6MB):  62%  4.8MB\r",
      "  Downloading astropy-1.0.3.tar.gz (7.6MB):  62%  4.8MB\r",
      "  Downloading astropy-1.0.3.tar.gz (7.6MB):  62%  4.8MB\r",
      "  Downloading astropy-1.0.3.tar.gz (7.6MB):  62%  4.8MB\r",
      "  Downloading astropy-1.0.3.tar.gz (7.6MB):  62%  4.8MB\r",
      "  Downloading astropy-1.0.3.tar.gz (7.6MB):  62%  4.8MB\r",
      "  Downloading astropy-1.0.3.tar.gz (7.6MB):  62%  4.8MB\r",
      "  Downloading astropy-1.0.3.tar.gz (7.6MB):  62%  4.8MB\r",
      "  Downloading astropy-1.0.3.tar.gz (7.6MB):  62%  4.8MB\r",
      "  Downloading astropy-1.0.3.tar.gz (7.6MB):  62%  4.8MB\r",
      "  Downloading astropy-1.0.3.tar.gz (7.6MB):  62%  4.8MB\r",
      "  Downloading astropy-1.0.3.tar.gz (7.6MB):  62%  4.8MB"
     ]
    },
    {
     "name": "stdout",
     "output_type": "stream",
     "text": [
      "\r",
      "  Downloading astropy-1.0.3.tar.gz (7.6MB):  60%  4.6MB\r",
      "  Downloading astropy-1.0.3.tar.gz (7.6MB):  60%  4.6MB\r",
      "  Downloading astropy-1.0.3.tar.gz (7.6MB):  60%  4.6MB\r",
      "  Downloading astropy-1.0.3.tar.gz (7.6MB):  60%  4.6MB\r",
      "  Downloading astropy-1.0.3.tar.gz (7.6MB):  60%  4.6MB\r",
      "  Downloading astropy-1.0.3.tar.gz (7.6MB):  60%  4.6MB\r",
      "  Downloading astropy-1.0.3.tar.gz (7.6MB):  60%  4.6MB\r",
      "  Downloading astropy-1.0.3.tar.gz (7.6MB):  60%  4.6MB\r",
      "  Downloading astropy-1.0.3.tar.gz (7.6MB):  60%  4.6MB\r",
      "  Downloading astropy-1.0.3.tar.gz (7.6MB):  60%  4.6MB\r",
      "  Downloading astropy-1.0.3.tar.gz (7.6MB):  61%  4.7MB\r",
      "  Downloading astropy-1.0.3.tar.gz (7.6MB):  61%  4.7MB\r",
      "  Downloading astropy-1.0.3.tar.gz (7.6MB):  61%  4.7MB\r",
      "  Downloading astropy-1.0.3.tar.gz (7.6MB):  61%  4.7MB\r",
      "  Downloading astropy-1.0.3.tar.gz (7.6MB):  61%  4.7MB\r",
      "  Downloading astropy-1.0.3.tar.gz (7.6MB):  61%  4.7MB\r",
      "  Downloading astropy-1.0.3.tar.gz (7.6MB):  61%  4.7MB\r",
      "  Downloading astropy-1.0.3.tar.gz (7.6MB):  61%  4.7MB\r",
      "  Downloading astropy-1.0.3.tar.gz (7.6MB):  61%  4.7MB\r",
      "  Downloading astropy-1.0.3.tar.gz (7.6MB):  61%  4.7MB\r",
      "  Downloading astropy-1.0.3.tar.gz (7.6MB):  61%  4.7MB\r",
      "  Downloading astropy-1.0.3.tar.gz (7.6MB):  61%  4.7MB\r",
      "  Downloading astropy-1.0.3.tar.gz (7.6MB):  61%  4.7MB\r",
      "  Downloading astropy-1.0.3.tar.gz (7.6MB):  61%  4.7MB\r",
      "  Downloading astropy-1.0.3.tar.gz (7.6MB):  61%  4.7MB"
     ]
    },
    {
     "name": "stdout",
     "output_type": "stream",
     "text": [
      "\r",
      "  Downloading astropy-1.0.3.tar.gz (7.6MB):  59%  4.5MB\r",
      "  Downloading astropy-1.0.3.tar.gz (7.6MB):  59%  4.5MB\r",
      "  Downloading astropy-1.0.3.tar.gz (7.6MB):  59%  4.5MB\r",
      "  Downloading astropy-1.0.3.tar.gz (7.6MB):  59%  4.5MB\r",
      "  Downloading astropy-1.0.3.tar.gz (7.6MB):  59%  4.5MB\r",
      "  Downloading astropy-1.0.3.tar.gz (7.6MB):  59%  4.5MB\r",
      "  Downloading astropy-1.0.3.tar.gz (7.6MB):  59%  4.5MB\r",
      "  Downloading astropy-1.0.3.tar.gz (7.6MB):  59%  4.6MB\r",
      "  Downloading astropy-1.0.3.tar.gz (7.6MB):  59%  4.6MB\r",
      "  Downloading astropy-1.0.3.tar.gz (7.6MB):  59%  4.6MB\r",
      "  Downloading astropy-1.0.3.tar.gz (7.6MB):  59%  4.6MB\r",
      "  Downloading astropy-1.0.3.tar.gz (7.6MB):  59%  4.6MB\r",
      "  Downloading astropy-1.0.3.tar.gz (7.6MB):  59%  4.6MB\r",
      "  Downloading astropy-1.0.3.tar.gz (7.6MB):  60%  4.6MB\r",
      "  Downloading astropy-1.0.3.tar.gz (7.6MB):  60%  4.6MB\r",
      "  Downloading astropy-1.0.3.tar.gz (7.6MB):  60%  4.6MB\r",
      "  Downloading astropy-1.0.3.tar.gz (7.6MB):  60%  4.6MB\r",
      "  Downloading astropy-1.0.3.tar.gz (7.6MB):  60%  4.6MB\r",
      "  Downloading astropy-1.0.3.tar.gz (7.6MB):  60%  4.6MB\r",
      "  Downloading astropy-1.0.3.tar.gz (7.6MB):  60%  4.6MB\r",
      "  Downloading astropy-1.0.3.tar.gz (7.6MB):  60%  4.6MB\r",
      "  Downloading astropy-1.0.3.tar.gz (7.6MB):  60%  4.6MB"
     ]
    },
    {
     "name": "stdout",
     "output_type": "stream",
     "text": [
      "\r",
      "  Downloading astropy-1.0.3.tar.gz (7.6MB):  58%  4.4MB\r",
      "  Downloading astropy-1.0.3.tar.gz (7.6MB):  58%  4.4MB\r",
      "  Downloading astropy-1.0.3.tar.gz (7.6MB):  58%  4.4MB\r",
      "  Downloading astropy-1.0.3.tar.gz (7.6MB):  58%  4.4MB\r",
      "  Downloading astropy-1.0.3.tar.gz (7.6MB):  58%  4.4MB\r",
      "  Downloading astropy-1.0.3.tar.gz (7.6MB):  58%  4.4MB\r",
      "  Downloading astropy-1.0.3.tar.gz (7.6MB):  58%  4.4MB\r",
      "  Downloading astropy-1.0.3.tar.gz (7.6MB):  58%  4.5MB\r",
      "  Downloading astropy-1.0.3.tar.gz (7.6MB):  58%  4.5MB\r",
      "  Downloading astropy-1.0.3.tar.gz (7.6MB):  58%  4.5MB\r",
      "  Downloading astropy-1.0.3.tar.gz (7.6MB):  58%  4.5MB\r",
      "  Downloading astropy-1.0.3.tar.gz (7.6MB):  58%  4.5MB\r",
      "  Downloading astropy-1.0.3.tar.gz (7.6MB):  58%  4.5MB\r",
      "  Downloading astropy-1.0.3.tar.gz (7.6MB):  58%  4.5MB\r",
      "  Downloading astropy-1.0.3.tar.gz (7.6MB):  58%  4.5MB\r",
      "  Downloading astropy-1.0.3.tar.gz (7.6MB):  58%  4.5MB\r",
      "  Downloading astropy-1.0.3.tar.gz (7.6MB):  58%  4.5MB\r",
      "  Downloading astropy-1.0.3.tar.gz (7.6MB):  58%  4.5MB\r",
      "  Downloading astropy-1.0.3.tar.gz (7.6MB):  58%  4.5MB\r",
      "  Downloading astropy-1.0.3.tar.gz (7.6MB):  59%  4.5MB\r",
      "  Downloading astropy-1.0.3.tar.gz (7.6MB):  59%  4.5MB\r",
      "  Downloading astropy-1.0.3.tar.gz (7.6MB):  59%  4.5MB\r",
      "  Downloading astropy-1.0.3.tar.gz (7.6MB):  59%  4.5MB\r",
      "  Downloading astropy-1.0.3.tar.gz (7.6MB):  59%  4.5MB"
     ]
    },
    {
     "name": "stdout",
     "output_type": "stream",
     "text": [
      "\r",
      "  Downloading astropy-1.0.3.tar.gz (7.6MB):  56%  4.3MB\r",
      "  Downloading astropy-1.0.3.tar.gz (7.6MB):  56%  4.3MB\r",
      "  Downloading astropy-1.0.3.tar.gz (7.6MB):  56%  4.3MB\r",
      "  Downloading astropy-1.0.3.tar.gz (7.6MB):  56%  4.3MB\r",
      "  Downloading astropy-1.0.3.tar.gz (7.6MB):  56%  4.3MB\r",
      "  Downloading astropy-1.0.3.tar.gz (7.6MB):  57%  4.3MB\r",
      "  Downloading astropy-1.0.3.tar.gz (7.6MB):  57%  4.3MB\r",
      "  Downloading astropy-1.0.3.tar.gz (7.6MB):  57%  4.4MB\r",
      "  Downloading astropy-1.0.3.tar.gz (7.6MB):  57%  4.4MB\r",
      "  Downloading astropy-1.0.3.tar.gz (7.6MB):  57%  4.4MB\r",
      "  Downloading astropy-1.0.3.tar.gz (7.6MB):  57%  4.4MB\r",
      "  Downloading astropy-1.0.3.tar.gz (7.6MB):  57%  4.4MB\r",
      "  Downloading astropy-1.0.3.tar.gz (7.6MB):  57%  4.4MB\r",
      "  Downloading astropy-1.0.3.tar.gz (7.6MB):  57%  4.4MB\r",
      "  Downloading astropy-1.0.3.tar.gz (7.6MB):  57%  4.4MB\r",
      "  Downloading astropy-1.0.3.tar.gz (7.6MB):  57%  4.4MB\r",
      "  Downloading astropy-1.0.3.tar.gz (7.6MB):  57%  4.4MB\r",
      "  Downloading astropy-1.0.3.tar.gz (7.6MB):  57%  4.4MB\r",
      "  Downloading astropy-1.0.3.tar.gz (7.6MB):  57%  4.4MB\r",
      "  Downloading astropy-1.0.3.tar.gz (7.6MB):  57%  4.4MB\r",
      "  Downloading astropy-1.0.3.tar.gz (7.6MB):  57%  4.4MB\r",
      "  Downloading astropy-1.0.3.tar.gz (7.6MB):  57%  4.4MB\r",
      "  Downloading astropy-1.0.3.tar.gz (7.6MB):  57%  4.4MB\r",
      "  Downloading astropy-1.0.3.tar.gz (7.6MB):  57%  4.4MB"
     ]
    },
    {
     "name": "stdout",
     "output_type": "stream",
     "text": [
      "\r",
      "  Downloading astropy-1.0.3.tar.gz (7.6MB):  55%  4.2MB\r",
      "  Downloading astropy-1.0.3.tar.gz (7.6MB):  55%  4.2MB\r",
      "  Downloading astropy-1.0.3.tar.gz (7.6MB):  55%  4.2MB\r",
      "  Downloading astropy-1.0.3.tar.gz (7.6MB):  55%  4.2MB\r",
      "  Downloading astropy-1.0.3.tar.gz (7.6MB):  55%  4.2MB\r",
      "  Downloading astropy-1.0.3.tar.gz (7.6MB):  55%  4.2MB\r",
      "  Downloading astropy-1.0.3.tar.gz (7.6MB):  55%  4.3MB\r",
      "  Downloading astropy-1.0.3.tar.gz (7.6MB):  55%  4.3MB\r",
      "  Downloading astropy-1.0.3.tar.gz (7.6MB):  55%  4.3MB\r",
      "  Downloading astropy-1.0.3.tar.gz (7.6MB):  55%  4.3MB\r",
      "  Downloading astropy-1.0.3.tar.gz (7.6MB):  55%  4.3MB\r",
      "  Downloading astropy-1.0.3.tar.gz (7.6MB):  56%  4.3MB\r",
      "  Downloading astropy-1.0.3.tar.gz (7.6MB):  56%  4.3MB\r",
      "  Downloading astropy-1.0.3.tar.gz (7.6MB):  56%  4.3MB\r",
      "  Downloading astropy-1.0.3.tar.gz (7.6MB):  56%  4.3MB\r",
      "  Downloading astropy-1.0.3.tar.gz (7.6MB):  56%  4.3MB\r",
      "  Downloading astropy-1.0.3.tar.gz (7.6MB):  56%  4.3MB\r",
      "  Downloading astropy-1.0.3.tar.gz (7.6MB):  56%  4.3MB\r",
      "  Downloading astropy-1.0.3.tar.gz (7.6MB):  56%  4.3MB\r",
      "  Downloading astropy-1.0.3.tar.gz (7.6MB):  56%  4.3MB\r",
      "  Downloading astropy-1.0.3.tar.gz (7.6MB):  56%  4.3MB\r",
      "  Downloading astropy-1.0.3.tar.gz (7.6MB):  56%  4.3MB\r",
      "  Downloading astropy-1.0.3.tar.gz (7.6MB):  56%  4.3MB\r",
      "  Downloading astropy-1.0.3.tar.gz (7.6MB):  56%  4.3MB"
     ]
    },
    {
     "name": "stdout",
     "output_type": "stream",
     "text": [
      "\r",
      "  Downloading astropy-1.0.3.tar.gz (7.6MB):  54%  4.1MB\r",
      "  Downloading astropy-1.0.3.tar.gz (7.6MB):  54%  4.1MB\r",
      "  Downloading astropy-1.0.3.tar.gz (7.6MB):  54%  4.1MB\r",
      "  Downloading astropy-1.0.3.tar.gz (7.6MB):  54%  4.1MB\r",
      "  Downloading astropy-1.0.3.tar.gz (7.6MB):  54%  4.1MB\r",
      "  Downloading astropy-1.0.3.tar.gz (7.6MB):  54%  4.1MB\r",
      "  Downloading astropy-1.0.3.tar.gz (7.6MB):  54%  4.2MB\r",
      "  Downloading astropy-1.0.3.tar.gz (7.6MB):  54%  4.2MB\r",
      "  Downloading astropy-1.0.3.tar.gz (7.6MB):  54%  4.2MB\r",
      "  Downloading astropy-1.0.3.tar.gz (7.6MB):  54%  4.2MB\r",
      "  Downloading astropy-1.0.3.tar.gz (7.6MB):  54%  4.2MB\r",
      "  Downloading astropy-1.0.3.tar.gz (7.6MB):  54%  4.2MB\r",
      "  Downloading astropy-1.0.3.tar.gz (7.6MB):  54%  4.2MB\r",
      "  Downloading astropy-1.0.3.tar.gz (7.6MB):  54%  4.2MB\r",
      "  Downloading astropy-1.0.3.tar.gz (7.6MB):  54%  4.2MB\r",
      "  Downloading astropy-1.0.3.tar.gz (7.6MB):  54%  4.2MB\r",
      "  Downloading astropy-1.0.3.tar.gz (7.6MB):  55%  4.2MB\r",
      "  Downloading astropy-1.0.3.tar.gz (7.6MB):  55%  4.2MB\r",
      "  Downloading astropy-1.0.3.tar.gz (7.6MB):  55%  4.2MB\r",
      "  Downloading astropy-1.0.3.tar.gz (7.6MB):  55%  4.2MB\r",
      "  Downloading astropy-1.0.3.tar.gz (7.6MB):  55%  4.2MB\r",
      "  Downloading astropy-1.0.3.tar.gz (7.6MB):  55%  4.2MB\r",
      "  Downloading astropy-1.0.3.tar.gz (7.6MB):  55%  4.2MB\r",
      "  Downloading astropy-1.0.3.tar.gz (7.6MB):  55%  4.2MB"
     ]
    },
    {
     "name": "stdout",
     "output_type": "stream",
     "text": [
      "\r",
      "  Downloading astropy-1.0.3.tar.gz (7.6MB):  52%  4.0MB\r",
      "  Downloading astropy-1.0.3.tar.gz (7.6MB):  52%  4.0MB\r",
      "  Downloading astropy-1.0.3.tar.gz (7.6MB):  52%  4.0MB\r",
      "  Downloading astropy-1.0.3.tar.gz (7.6MB):  53%  4.0MB\r",
      "  Downloading astropy-1.0.3.tar.gz (7.6MB):  53%  4.0MB\r",
      "  Downloading astropy-1.0.3.tar.gz (7.6MB):  53%  4.1MB\r",
      "  Downloading astropy-1.0.3.tar.gz (7.6MB):  53%  4.1MB\r",
      "  Downloading astropy-1.0.3.tar.gz (7.6MB):  53%  4.1MB\r",
      "  Downloading astropy-1.0.3.tar.gz (7.6MB):  53%  4.1MB\r",
      "  Downloading astropy-1.0.3.tar.gz (7.6MB):  53%  4.1MB\r",
      "  Downloading astropy-1.0.3.tar.gz (7.6MB):  53%  4.1MB\r",
      "  Downloading astropy-1.0.3.tar.gz (7.6MB):  53%  4.1MB\r",
      "  Downloading astropy-1.0.3.tar.gz (7.6MB):  53%  4.1MB\r",
      "  Downloading astropy-1.0.3.tar.gz (7.6MB):  53%  4.1MB\r",
      "  Downloading astropy-1.0.3.tar.gz (7.6MB):  53%  4.1MB\r",
      "  Downloading astropy-1.0.3.tar.gz (7.6MB):  53%  4.1MB\r",
      "  Downloading astropy-1.0.3.tar.gz (7.6MB):  53%  4.1MB\r",
      "  Downloading astropy-1.0.3.tar.gz (7.6MB):  53%  4.1MB\r",
      "  Downloading astropy-1.0.3.tar.gz (7.6MB):  53%  4.1MB\r",
      "  Downloading astropy-1.0.3.tar.gz (7.6MB):  53%  4.1MB\r",
      "  Downloading astropy-1.0.3.tar.gz (7.6MB):  53%  4.1MB\r",
      "  Downloading astropy-1.0.3.tar.gz (7.6MB):  54%  4.1MB\r",
      "  Downloading astropy-1.0.3.tar.gz (7.6MB):  54%  4.1MB\r",
      "  Downloading astropy-1.0.3.tar.gz (7.6MB):  54%  4.1MB"
     ]
    },
    {
     "name": "stdout",
     "output_type": "stream",
     "text": [
      "\r",
      "  Downloading astropy-1.0.3.tar.gz (7.6MB):  51%  3.9MB\r",
      "  Downloading astropy-1.0.3.tar.gz (7.6MB):  51%  3.9MB\r",
      "  Downloading astropy-1.0.3.tar.gz (7.6MB):  51%  3.9MB\r",
      "  Downloading astropy-1.0.3.tar.gz (7.6MB):  51%  3.9MB\r",
      "  Downloading astropy-1.0.3.tar.gz (7.6MB):  51%  3.9MB\r",
      "  Downloading astropy-1.0.3.tar.gz (7.6MB):  51%  4.0MB\r",
      "  Downloading astropy-1.0.3.tar.gz (7.6MB):  51%  4.0MB\r",
      "  Downloading astropy-1.0.3.tar.gz (7.6MB):  51%  4.0MB\r",
      "  Downloading astropy-1.0.3.tar.gz (7.6MB):  52%  4.0MB\r",
      "  Downloading astropy-1.0.3.tar.gz (7.6MB):  52%  4.0MB\r",
      "  Downloading astropy-1.0.3.tar.gz (7.6MB):  52%  4.0MB\r",
      "  Downloading astropy-1.0.3.tar.gz (7.6MB):  52%  4.0MB\r",
      "  Downloading astropy-1.0.3.tar.gz (7.6MB):  52%  4.0MB\r",
      "  Downloading astropy-1.0.3.tar.gz (7.6MB):  52%  4.0MB\r",
      "  Downloading astropy-1.0.3.tar.gz (7.6MB):  52%  4.0MB\r",
      "  Downloading astropy-1.0.3.tar.gz (7.6MB):  52%  4.0MB\r",
      "  Downloading astropy-1.0.3.tar.gz (7.6MB):  52%  4.0MB\r",
      "  Downloading astropy-1.0.3.tar.gz (7.6MB):  52%  4.0MB\r",
      "  Downloading astropy-1.0.3.tar.gz (7.6MB):  52%  4.0MB\r",
      "  Downloading astropy-1.0.3.tar.gz (7.6MB):  52%  4.0MB\r",
      "  Downloading astropy-1.0.3.tar.gz (7.6MB):  52%  4.0MB\r",
      "  Downloading astropy-1.0.3.tar.gz (7.6MB):  52%  4.0MB\r",
      "  Downloading astropy-1.0.3.tar.gz (7.6MB):  52%  4.0MB\r",
      "  Downloading astropy-1.0.3.tar.gz (7.6MB):  52%  4.0MB"
     ]
    },
    {
     "name": "stdout",
     "output_type": "stream",
     "text": [
      "\r",
      "  Downloading astropy-1.0.3.tar.gz (7.6MB):  50%  3.8MB\r",
      "  Downloading astropy-1.0.3.tar.gz (7.6MB):  50%  3.8MB\r",
      "  Downloading astropy-1.0.3.tar.gz (7.6MB):  50%  3.8MB\r",
      "  Downloading astropy-1.0.3.tar.gz (7.6MB):  50%  3.8MB\r",
      "  Downloading astropy-1.0.3.tar.gz (7.6MB):  50%  3.9MB\r",
      "  Downloading astropy-1.0.3.tar.gz (7.6MB):  50%  3.9MB\r",
      "  Downloading astropy-1.0.3.tar.gz (7.6MB):  50%  3.9MB\r",
      "  Downloading astropy-1.0.3.tar.gz (7.6MB):  50%  3.9MB\r",
      "  Downloading astropy-1.0.3.tar.gz (7.6MB):  50%  3.9MB\r",
      "  Downloading astropy-1.0.3.tar.gz (7.6MB):  50%  3.9MB\r",
      "  Downloading astropy-1.0.3.tar.gz (7.6MB):  50%  3.9MB\r",
      "  Downloading astropy-1.0.3.tar.gz (7.6MB):  50%  3.9MB\r",
      "  Downloading astropy-1.0.3.tar.gz (7.6MB):  50%  3.9MB\r",
      "  Downloading astropy-1.0.3.tar.gz (7.6MB):  50%  3.9MB\r",
      "  Downloading astropy-1.0.3.tar.gz (7.6MB):  51%  3.9MB\r",
      "  Downloading astropy-1.0.3.tar.gz (7.6MB):  51%  3.9MB\r",
      "  Downloading astropy-1.0.3.tar.gz (7.6MB):  51%  3.9MB\r",
      "  Downloading astropy-1.0.3.tar.gz (7.6MB):  51%  3.9MB\r",
      "  Downloading astropy-1.0.3.tar.gz (7.6MB):  51%  3.9MB\r",
      "  Downloading astropy-1.0.3.tar.gz (7.6MB):  51%  3.9MB\r",
      "  Downloading astropy-1.0.3.tar.gz (7.6MB):  51%  3.9MB\r",
      "  Downloading astropy-1.0.3.tar.gz (7.6MB):  51%  3.9MB\r",
      "  Downloading astropy-1.0.3.tar.gz (7.6MB):  51%  3.9MB\r",
      "  Downloading astropy-1.0.3.tar.gz (7.6MB):  51%  3.9MB"
     ]
    },
    {
     "name": "stdout",
     "output_type": "stream",
     "text": [
      "\r",
      "  Downloading astropy-1.0.3.tar.gz (7.6MB):  49%  3.7MB\r",
      "  Downloading astropy-1.0.3.tar.gz (7.6MB):  49%  3.7MB\r",
      "  Downloading astropy-1.0.3.tar.gz (7.6MB):  49%  3.7MB\r",
      "  Downloading astropy-1.0.3.tar.gz (7.6MB):  49%  3.7MB\r",
      "  Downloading astropy-1.0.3.tar.gz (7.6MB):  49%  3.8MB\r",
      "  Downloading astropy-1.0.3.tar.gz (7.6MB):  49%  3.8MB\r",
      "  Downloading astropy-1.0.3.tar.gz (7.6MB):  49%  3.8MB\r",
      "  Downloading astropy-1.0.3.tar.gz (7.6MB):  49%  3.8MB\r",
      "  Downloading astropy-1.0.3.tar.gz (7.6MB):  49%  3.8MB\r",
      "  Downloading astropy-1.0.3.tar.gz (7.6MB):  49%  3.8MB\r",
      "  Downloading astropy-1.0.3.tar.gz (7.6MB):  49%  3.8MB\r",
      "  Downloading astropy-1.0.3.tar.gz (7.6MB):  49%  3.8MB\r",
      "  Downloading astropy-1.0.3.tar.gz (7.6MB):  49%  3.8MB\r",
      "  Downloading astropy-1.0.3.tar.gz (7.6MB):  49%  3.8MB\r",
      "  Downloading astropy-1.0.3.tar.gz (7.6MB):  49%  3.8MB\r",
      "  Downloading astropy-1.0.3.tar.gz (7.6MB):  49%  3.8MB\r",
      "  Downloading astropy-1.0.3.tar.gz (7.6MB):  49%  3.8MB\r",
      "  Downloading astropy-1.0.3.tar.gz (7.6MB):  49%  3.8MB\r",
      "  Downloading astropy-1.0.3.tar.gz (7.6MB):  49%  3.8MB\r",
      "  Downloading astropy-1.0.3.tar.gz (7.6MB):  50%  3.8MB\r",
      "  Downloading astropy-1.0.3.tar.gz (7.6MB):  50%  3.8MB\r",
      "  Downloading astropy-1.0.3.tar.gz (7.6MB):  50%  3.8MB\r",
      "  Downloading astropy-1.0.3.tar.gz (7.6MB):  50%  3.8MB\r",
      "  Downloading astropy-1.0.3.tar.gz (7.6MB):  50%  3.8MB"
     ]
    },
    {
     "name": "stdout",
     "output_type": "stream",
     "text": [
      "\r",
      "  Downloading astropy-1.0.3.tar.gz (7.6MB):  47%  3.6MB\r",
      "  Downloading astropy-1.0.3.tar.gz (7.6MB):  47%  3.6MB\r",
      "  Downloading astropy-1.0.3.tar.gz (7.6MB):  47%  3.6MB\r",
      "  Downloading astropy-1.0.3.tar.gz (7.6MB):  47%  3.6MB\r",
      "  Downloading astropy-1.0.3.tar.gz (7.6MB):  47%  3.7MB\r",
      "  Downloading astropy-1.0.3.tar.gz (7.6MB):  47%  3.7MB\r",
      "  Downloading astropy-1.0.3.tar.gz (7.6MB):  48%  3.7MB\r",
      "  Downloading astropy-1.0.3.tar.gz (7.6MB):  48%  3.7MB\r",
      "  Downloading astropy-1.0.3.tar.gz (7.6MB):  48%  3.7MB\r",
      "  Downloading astropy-1.0.3.tar.gz (7.6MB):  48%  3.7MB\r",
      "  Downloading astropy-1.0.3.tar.gz (7.6MB):  48%  3.7MB\r",
      "  Downloading astropy-1.0.3.tar.gz (7.6MB):  48%  3.7MB\r",
      "  Downloading astropy-1.0.3.tar.gz (7.6MB):  48%  3.7MB\r",
      "  Downloading astropy-1.0.3.tar.gz (7.6MB):  48%  3.7MB\r",
      "  Downloading astropy-1.0.3.tar.gz (7.6MB):  48%  3.7MB\r",
      "  Downloading astropy-1.0.3.tar.gz (7.6MB):  48%  3.7MB\r",
      "  Downloading astropy-1.0.3.tar.gz (7.6MB):  48%  3.7MB\r",
      "  Downloading astropy-1.0.3.tar.gz (7.6MB):  48%  3.7MB\r",
      "  Downloading astropy-1.0.3.tar.gz (7.6MB):  48%  3.7MB\r",
      "  Downloading astropy-1.0.3.tar.gz (7.6MB):  48%  3.7MB\r",
      "  Downloading astropy-1.0.3.tar.gz (7.6MB):  48%  3.7MB\r",
      "  Downloading astropy-1.0.3.tar.gz (7.6MB):  48%  3.7MB\r",
      "  Downloading astropy-1.0.3.tar.gz (7.6MB):  48%  3.7MB\r",
      "  Downloading astropy-1.0.3.tar.gz (7.6MB):  48%  3.7MB"
     ]
    },
    {
     "name": "stdout",
     "output_type": "stream",
     "text": [
      "\r",
      "  Downloading astropy-1.0.3.tar.gz (7.6MB):  44%  3.4MB\r",
      "  Downloading astropy-1.0.3.tar.gz (7.6MB):  44%  3.4MB\r",
      "  Downloading astropy-1.0.3.tar.gz (7.6MB):  44%  3.4MB\r",
      "  Downloading astropy-1.0.3.tar.gz (7.6MB):  44%  3.4MB\r",
      "  Downloading astropy-1.0.3.tar.gz (7.6MB):  44%  3.4MB\r",
      "  Downloading astropy-1.0.3.tar.gz (7.6MB):  44%  3.4MB\r",
      "  Downloading astropy-1.0.3.tar.gz (7.6MB):  45%  3.4MB\r",
      "  Downloading astropy-1.0.3.tar.gz (7.6MB):  45%  3.4MB\r",
      "  Downloading astropy-1.0.3.tar.gz (7.6MB):  45%  3.4MB\r",
      "  Downloading astropy-1.0.3.tar.gz (7.6MB):  45%  3.4MB\r",
      "  Downloading astropy-1.0.3.tar.gz (7.6MB):  45%  3.4MB\r",
      "  Downloading astropy-1.0.3.tar.gz (7.6MB):  45%  3.5MB\r",
      "  Downloading astropy-1.0.3.tar.gz (7.6MB):  45%  3.5MB\r",
      "  Downloading astropy-1.0.3.tar.gz (7.6MB):  45%  3.5MB\r",
      "  Downloading astropy-1.0.3.tar.gz (7.6MB):  45%  3.5MB\r",
      "  Downloading astropy-1.0.3.tar.gz (7.6MB):  45%  3.5MB\r",
      "  Downloading astropy-1.0.3.tar.gz (7.6MB):  45%  3.5MB\r",
      "  Downloading astropy-1.0.3.tar.gz (7.6MB):  45%  3.5MB\r",
      "  Downloading astropy-1.0.3.tar.gz (7.6MB):  45%  3.5MB\r",
      "  Downloading astropy-1.0.3.tar.gz (7.6MB):  45%  3.5MB\r",
      "  Downloading astropy-1.0.3.tar.gz (7.6MB):  45%  3.5MB\r",
      "  Downloading astropy-1.0.3.tar.gz (7.6MB):  45%  3.5MB\r",
      "  Downloading astropy-1.0.3.tar.gz (7.6MB):  45%  3.5MB\r",
      "  Downloading astropy-1.0.3.tar.gz (7.6MB):  45%  3.5MB\r",
      "  Downloading astropy-1.0.3.tar.gz (7.6MB):  45%  3.5MB\r",
      "  Downloading astropy-1.0.3.tar.gz (7.6MB):  46%  3.5MB\r",
      "  Downloading astropy-1.0.3.tar.gz (7.6MB):  46%  3.5MB\r",
      "  Downloading astropy-1.0.3.tar.gz (7.6MB):  46%  3.5MB\r",
      "  Downloading astropy-1.0.3.tar.gz (7.6MB):  46%  3.5MB\r",
      "  Downloading astropy-1.0.3.tar.gz (7.6MB):  46%  3.5MB\r",
      "  Downloading astropy-1.0.3.tar.gz (7.6MB):  46%  3.5MB\r",
      "  Downloading astropy-1.0.3.tar.gz (7.6MB):  46%  3.5MB\r",
      "  Downloading astropy-1.0.3.tar.gz (7.6MB):  46%  3.5MB\r",
      "  Downloading astropy-1.0.3.tar.gz (7.6MB):  46%  3.5MB\r",
      "  Downloading astropy-1.0.3.tar.gz (7.6MB):  46%  3.5MB\r",
      "  Downloading astropy-1.0.3.tar.gz (7.6MB):  46%  3.6MB\r",
      "  Downloading astropy-1.0.3.tar.gz (7.6MB):  46%  3.6MB\r",
      "  Downloading astropy-1.0.3.tar.gz (7.6MB):  46%  3.6MB\r",
      "  Downloading astropy-1.0.3.tar.gz (7.6MB):  46%  3.6MB\r",
      "  Downloading astropy-1.0.3.tar.gz (7.6MB):  46%  3.6MB\r",
      "  Downloading astropy-1.0.3.tar.gz (7.6MB):  46%  3.6MB\r",
      "  Downloading astropy-1.0.3.tar.gz (7.6MB):  46%  3.6MB\r",
      "  Downloading astropy-1.0.3.tar.gz (7.6MB):  46%  3.6MB\r",
      "  Downloading astropy-1.0.3.tar.gz (7.6MB):  47%  3.6MB\r",
      "  Downloading astropy-1.0.3.tar.gz (7.6MB):  47%  3.6MB\r",
      "  Downloading astropy-1.0.3.tar.gz (7.6MB):  47%  3.6MB\r",
      "  Downloading astropy-1.0.3.tar.gz (7.6MB):  47%  3.6MB\r",
      "  Downloading astropy-1.0.3.tar.gz (7.6MB):  47%  3.6MB\r",
      "  Downloading astropy-1.0.3.tar.gz (7.6MB):  47%  3.6MB\r",
      "  Downloading astropy-1.0.3.tar.gz (7.6MB):  47%  3.6MB\r",
      "  Downloading astropy-1.0.3.tar.gz (7.6MB):  47%  3.6MB\r",
      "  Downloading astropy-1.0.3.tar.gz (7.6MB):  47%  3.6MB\r",
      "  Downloading astropy-1.0.3.tar.gz (7.6MB):  47%  3.6MB\r",
      "  Downloading astropy-1.0.3.tar.gz (7.6MB):  47%  3.6MB\r",
      "  Downloading astropy-1.0.3.tar.gz (7.6MB):  47%  3.6MB\r",
      "  Downloading astropy-1.0.3.tar.gz (7.6MB):  47%  3.6MB"
     ]
    },
    {
     "name": "stdout",
     "output_type": "stream",
     "text": [
      "\r",
      "  Downloading astropy-1.0.3.tar.gz (7.6MB):  43%  3.3MB\r",
      "  Downloading astropy-1.0.3.tar.gz (7.6MB):  43%  3.3MB\r",
      "  Downloading astropy-1.0.3.tar.gz (7.6MB):  43%  3.4MB\r",
      "  Downloading astropy-1.0.3.tar.gz (7.6MB):  44%  3.4MB\r",
      "  Downloading astropy-1.0.3.tar.gz (7.6MB):  44%  3.4MB\r",
      "  Downloading astropy-1.0.3.tar.gz (7.6MB):  44%  3.4MB\r",
      "  Downloading astropy-1.0.3.tar.gz (7.6MB):  44%  3.4MB\r",
      "  Downloading astropy-1.0.3.tar.gz (7.6MB):  44%  3.4MB\r",
      "  Downloading astropy-1.0.3.tar.gz (7.6MB):  44%  3.4MB\r",
      "  Downloading astropy-1.0.3.tar.gz (7.6MB):  44%  3.4MB\r",
      "  Downloading astropy-1.0.3.tar.gz (7.6MB):  44%  3.4MB\r",
      "  Downloading astropy-1.0.3.tar.gz (7.6MB):  44%  3.4MB\r",
      "  Downloading astropy-1.0.3.tar.gz (7.6MB):  44%  3.4MB\r",
      "  Downloading astropy-1.0.3.tar.gz (7.6MB):  44%  3.4MB\r",
      "  Downloading astropy-1.0.3.tar.gz (7.6MB):  44%  3.4MB\r",
      "  Downloading astropy-1.0.3.tar.gz (7.6MB):  44%  3.4MB"
     ]
    },
    {
     "name": "stdout",
     "output_type": "stream",
     "text": [
      "\r",
      "  Downloading astropy-1.0.3.tar.gz (7.6MB):  40%  3.1MB\r",
      "  Downloading astropy-1.0.3.tar.gz (7.6MB):  40%  3.1MB\r",
      "  Downloading astropy-1.0.3.tar.gz (7.6MB):  40%  3.1MB\r",
      "  Downloading astropy-1.0.3.tar.gz (7.6MB):  40%  3.1MB\r",
      "  Downloading astropy-1.0.3.tar.gz (7.6MB):  40%  3.1MB\r",
      "  Downloading astropy-1.0.3.tar.gz (7.6MB):  40%  3.1MB\r",
      "  Downloading astropy-1.0.3.tar.gz (7.6MB):  40%  3.1MB\r",
      "  Downloading astropy-1.0.3.tar.gz (7.6MB):  40%  3.1MB\r",
      "  Downloading astropy-1.0.3.tar.gz (7.6MB):  40%  3.1MB\r",
      "  Downloading astropy-1.0.3.tar.gz (7.6MB):  40%  3.1MB\r",
      "  Downloading astropy-1.0.3.tar.gz (7.6MB):  40%  3.1MB\r",
      "  Downloading astropy-1.0.3.tar.gz (7.6MB):  40%  3.1MB\r",
      "  Downloading astropy-1.0.3.tar.gz (7.6MB):  41%  3.1MB\r",
      "  Downloading astropy-1.0.3.tar.gz (7.6MB):  41%  3.1MB\r",
      "  Downloading astropy-1.0.3.tar.gz (7.6MB):  41%  3.1MB\r",
      "  Downloading astropy-1.0.3.tar.gz (7.6MB):  41%  3.1MB\r",
      "  Downloading astropy-1.0.3.tar.gz (7.6MB):  41%  3.1MB\r",
      "  Downloading astropy-1.0.3.tar.gz (7.6MB):  41%  3.1MB\r",
      "  Downloading astropy-1.0.3.tar.gz (7.6MB):  41%  3.2MB\r",
      "  Downloading astropy-1.0.3.tar.gz (7.6MB):  41%  3.2MB\r",
      "  Downloading astropy-1.0.3.tar.gz (7.6MB):  41%  3.2MB\r",
      "  Downloading astropy-1.0.3.tar.gz (7.6MB):  41%  3.2MB\r",
      "  Downloading astropy-1.0.3.tar.gz (7.6MB):  41%  3.2MB\r",
      "  Downloading astropy-1.0.3.tar.gz (7.6MB):  41%  3.2MB\r",
      "  Downloading astropy-1.0.3.tar.gz (7.6MB):  41%  3.2MB\r",
      "  Downloading astropy-1.0.3.tar.gz (7.6MB):  41%  3.2MB\r",
      "  Downloading astropy-1.0.3.tar.gz (7.6MB):  41%  3.2MB\r",
      "  Downloading astropy-1.0.3.tar.gz (7.6MB):  41%  3.2MB\r",
      "  Downloading astropy-1.0.3.tar.gz (7.6MB):  41%  3.2MB\r",
      "  Downloading astropy-1.0.3.tar.gz (7.6MB):  41%  3.2MB\r",
      "  Downloading astropy-1.0.3.tar.gz (7.6MB):  42%  3.2MB\r",
      "  Downloading astropy-1.0.3.tar.gz (7.6MB):  42%  3.2MB\r",
      "  Downloading astropy-1.0.3.tar.gz (7.6MB):  42%  3.2MB\r",
      "  Downloading astropy-1.0.3.tar.gz (7.6MB):  42%  3.2MB\r",
      "  Downloading astropy-1.0.3.tar.gz (7.6MB):  42%  3.2MB\r",
      "  Downloading astropy-1.0.3.tar.gz (7.6MB):  42%  3.2MB\r",
      "  Downloading astropy-1.0.3.tar.gz (7.6MB):  42%  3.2MB\r",
      "  Downloading astropy-1.0.3.tar.gz (7.6MB):  42%  3.2MB\r",
      "  Downloading astropy-1.0.3.tar.gz (7.6MB):  42%  3.2MB\r",
      "  Downloading astropy-1.0.3.tar.gz (7.6MB):  42%  3.2MB\r",
      "  Downloading astropy-1.0.3.tar.gz (7.6MB):  42%  3.2MB\r",
      "  Downloading astropy-1.0.3.tar.gz (7.6MB):  42%  3.2MB\r",
      "  Downloading astropy-1.0.3.tar.gz (7.6MB):  42%  3.3MB\r",
      "  Downloading astropy-1.0.3.tar.gz (7.6MB):  42%  3.3MB\r",
      "  Downloading astropy-1.0.3.tar.gz (7.6MB):  42%  3.3MB\r",
      "  Downloading astropy-1.0.3.tar.gz (7.6MB):  42%  3.3MB\r",
      "  Downloading astropy-1.0.3.tar.gz (7.6MB):  42%  3.3MB\r",
      "  Downloading astropy-1.0.3.tar.gz (7.6MB):  42%  3.3MB\r",
      "  Downloading astropy-1.0.3.tar.gz (7.6MB):  42%  3.3MB\r",
      "  Downloading astropy-1.0.3.tar.gz (7.6MB):  43%  3.3MB\r",
      "  Downloading astropy-1.0.3.tar.gz (7.6MB):  43%  3.3MB\r",
      "  Downloading astropy-1.0.3.tar.gz (7.6MB):  43%  3.3MB\r",
      "  Downloading astropy-1.0.3.tar.gz (7.6MB):  43%  3.3MB\r",
      "  Downloading astropy-1.0.3.tar.gz (7.6MB):  43%  3.3MB\r",
      "  Downloading astropy-1.0.3.tar.gz (7.6MB):  43%  3.3MB\r",
      "  Downloading astropy-1.0.3.tar.gz (7.6MB):  43%  3.3MB\r",
      "  Downloading astropy-1.0.3.tar.gz (7.6MB):  43%  3.3MB\r",
      "  Downloading astropy-1.0.3.tar.gz (7.6MB):  43%  3.3MB\r",
      "  Downloading astropy-1.0.3.tar.gz (7.6MB):  43%  3.3MB\r",
      "  Downloading astropy-1.0.3.tar.gz (7.6MB):  43%  3.3MB\r",
      "  Downloading astropy-1.0.3.tar.gz (7.6MB):  43%  3.3MB\r",
      "  Downloading astropy-1.0.3.tar.gz (7.6MB):  43%  3.3MB\r",
      "  Downloading astropy-1.0.3.tar.gz (7.6MB):  43%  3.3MB\r",
      "  Downloading astropy-1.0.3.tar.gz (7.6MB):  43%  3.3MB"
     ]
    },
    {
     "name": "stdout",
     "output_type": "stream",
     "text": [
      "\r",
      "  Downloading astropy-1.0.3.tar.gz (7.6MB):  39%  3.0MB\r",
      "  Downloading astropy-1.0.3.tar.gz (7.6MB):  39%  3.0MB\r",
      "  Downloading astropy-1.0.3.tar.gz (7.6MB):  39%  3.0MB\r",
      "  Downloading astropy-1.0.3.tar.gz (7.6MB):  39%  3.0MB\r",
      "  Downloading astropy-1.0.3.tar.gz (7.6MB):  39%  3.0MB\r",
      "  Downloading astropy-1.0.3.tar.gz (7.6MB):  39%  3.0MB\r",
      "  Downloading astropy-1.0.3.tar.gz (7.6MB):  39%  3.0MB\r",
      "  Downloading astropy-1.0.3.tar.gz (7.6MB):  39%  3.0MB\r",
      "  Downloading astropy-1.0.3.tar.gz (7.6MB):  39%  3.0MB\r",
      "  Downloading astropy-1.0.3.tar.gz (7.6MB):  39%  3.0MB\r",
      "  Downloading astropy-1.0.3.tar.gz (7.6MB):  39%  3.0MB\r",
      "  Downloading astropy-1.0.3.tar.gz (7.6MB):  39%  3.0MB\r",
      "  Downloading astropy-1.0.3.tar.gz (7.6MB):  39%  3.0MB\r",
      "  Downloading astropy-1.0.3.tar.gz (7.6MB):  39%  3.0MB\r",
      "  Downloading astropy-1.0.3.tar.gz (7.6MB):  39%  3.0MB\r",
      "  Downloading astropy-1.0.3.tar.gz (7.6MB):  39%  3.0MB\r",
      "  Downloading astropy-1.0.3.tar.gz (7.6MB):  40%  3.1MB\r",
      "  Downloading astropy-1.0.3.tar.gz (7.6MB):  40%  3.1MB\r",
      "  Downloading astropy-1.0.3.tar.gz (7.6MB):  40%  3.1MB\r",
      "  Downloading astropy-1.0.3.tar.gz (7.6MB):  40%  3.1MB\r",
      "  Downloading astropy-1.0.3.tar.gz (7.6MB):  40%  3.1MB\r",
      "  Downloading astropy-1.0.3.tar.gz (7.6MB):  40%  3.1MB\r",
      "  Downloading astropy-1.0.3.tar.gz (7.6MB):  40%  3.1MB"
     ]
    },
    {
     "name": "stdout",
     "output_type": "stream",
     "text": [
      "\r",
      "  Downloading astropy-1.0.3.tar.gz (7.6MB):  36%  2.8MB\r",
      "  Downloading astropy-1.0.3.tar.gz (7.6MB):  36%  2.8MB\r",
      "  Downloading astropy-1.0.3.tar.gz (7.6MB):  36%  2.8MB\r",
      "  Downloading astropy-1.0.3.tar.gz (7.6MB):  36%  2.8MB\r",
      "  Downloading astropy-1.0.3.tar.gz (7.6MB):  36%  2.8MB\r",
      "  Downloading astropy-1.0.3.tar.gz (7.6MB):  36%  2.8MB\r",
      "  Downloading astropy-1.0.3.tar.gz (7.6MB):  36%  2.8MB\r",
      "  Downloading astropy-1.0.3.tar.gz (7.6MB):  36%  2.8MB\r",
      "  Downloading astropy-1.0.3.tar.gz (7.6MB):  36%  2.8MB\r",
      "  Downloading astropy-1.0.3.tar.gz (7.6MB):  37%  2.8MB\r",
      "  Downloading astropy-1.0.3.tar.gz (7.6MB):  37%  2.8MB\r",
      "  Downloading astropy-1.0.3.tar.gz (7.6MB):  37%  2.8MB\r",
      "  Downloading astropy-1.0.3.tar.gz (7.6MB):  37%  2.8MB\r",
      "  Downloading astropy-1.0.3.tar.gz (7.6MB):  37%  2.8MB\r",
      "  Downloading astropy-1.0.3.tar.gz (7.6MB):  37%  2.8MB\r",
      "  Downloading astropy-1.0.3.tar.gz (7.6MB):  37%  2.8MB\r",
      "  Downloading astropy-1.0.3.tar.gz (7.6MB):  37%  2.9MB\r",
      "  Downloading astropy-1.0.3.tar.gz (7.6MB):  37%  2.9MB\r",
      "  Downloading astropy-1.0.3.tar.gz (7.6MB):  37%  2.9MB\r",
      "  Downloading astropy-1.0.3.tar.gz (7.6MB):  37%  2.9MB\r",
      "  Downloading astropy-1.0.3.tar.gz (7.6MB):  37%  2.9MB\r",
      "  Downloading astropy-1.0.3.tar.gz (7.6MB):  37%  2.9MB\r",
      "  Downloading astropy-1.0.3.tar.gz (7.6MB):  37%  2.9MB\r",
      "  Downloading astropy-1.0.3.tar.gz (7.6MB):  37%  2.9MB\r",
      "  Downloading astropy-1.0.3.tar.gz (7.6MB):  37%  2.9MB\r",
      "  Downloading astropy-1.0.3.tar.gz (7.6MB):  37%  2.9MB\r",
      "  Downloading astropy-1.0.3.tar.gz (7.6MB):  37%  2.9MB\r",
      "  Downloading astropy-1.0.3.tar.gz (7.6MB):  37%  2.9MB\r",
      "  Downloading astropy-1.0.3.tar.gz (7.6MB):  38%  2.9MB\r",
      "  Downloading astropy-1.0.3.tar.gz (7.6MB):  38%  2.9MB\r",
      "  Downloading astropy-1.0.3.tar.gz (7.6MB):  38%  2.9MB\r",
      "  Downloading astropy-1.0.3.tar.gz (7.6MB):  38%  2.9MB\r",
      "  Downloading astropy-1.0.3.tar.gz (7.6MB):  38%  2.9MB\r",
      "  Downloading astropy-1.0.3.tar.gz (7.6MB):  38%  2.9MB\r",
      "  Downloading astropy-1.0.3.tar.gz (7.6MB):  38%  2.9MB\r",
      "  Downloading astropy-1.0.3.tar.gz (7.6MB):  38%  2.9MB\r",
      "  Downloading astropy-1.0.3.tar.gz (7.6MB):  38%  2.9MB\r",
      "  Downloading astropy-1.0.3.tar.gz (7.6MB):  38%  2.9MB\r",
      "  Downloading astropy-1.0.3.tar.gz (7.6MB):  38%  2.9MB\r",
      "  Downloading astropy-1.0.3.tar.gz (7.6MB):  38%  2.9MB\r",
      "  Downloading astropy-1.0.3.tar.gz (7.6MB):  38%  2.9MB\r",
      "  Downloading astropy-1.0.3.tar.gz (7.6MB):  38%  3.0MB\r",
      "  Downloading astropy-1.0.3.tar.gz (7.6MB):  38%  3.0MB\r",
      "  Downloading astropy-1.0.3.tar.gz (7.6MB):  38%  3.0MB\r",
      "  Downloading astropy-1.0.3.tar.gz (7.6MB):  38%  3.0MB\r",
      "  Downloading astropy-1.0.3.tar.gz (7.6MB):  38%  3.0MB\r",
      "  Downloading astropy-1.0.3.tar.gz (7.6MB):  39%  3.0MB\r",
      "  Downloading astropy-1.0.3.tar.gz (7.6MB):  39%  3.0MB\r",
      "  Downloading astropy-1.0.3.tar.gz (7.6MB):  39%  3.0MB"
     ]
    },
    {
     "name": "stdout",
     "output_type": "stream",
     "text": [
      "\r",
      "  Downloading astropy-1.0.3.tar.gz (7.6MB):  34%  2.6MB\r",
      "  Downloading astropy-1.0.3.tar.gz (7.6MB):  34%  2.6MB\r",
      "  Downloading astropy-1.0.3.tar.gz (7.6MB):  34%  2.6MB\r",
      "  Downloading astropy-1.0.3.tar.gz (7.6MB):  34%  2.6MB\r",
      "  Downloading astropy-1.0.3.tar.gz (7.6MB):  34%  2.6MB\r",
      "  Downloading astropy-1.0.3.tar.gz (7.6MB):  34%  2.6MB\r",
      "  Downloading astropy-1.0.3.tar.gz (7.6MB):  34%  2.6MB\r",
      "  Downloading astropy-1.0.3.tar.gz (7.6MB):  34%  2.7MB\r",
      "  Downloading astropy-1.0.3.tar.gz (7.6MB):  34%  2.7MB\r",
      "  Downloading astropy-1.0.3.tar.gz (7.6MB):  34%  2.7MB\r",
      "  Downloading astropy-1.0.3.tar.gz (7.6MB):  34%  2.7MB\r",
      "  Downloading astropy-1.0.3.tar.gz (7.6MB):  34%  2.7MB\r",
      "  Downloading astropy-1.0.3.tar.gz (7.6MB):  35%  2.7MB\r",
      "  Downloading astropy-1.0.3.tar.gz (7.6MB):  35%  2.7MB\r",
      "  Downloading astropy-1.0.3.tar.gz (7.6MB):  35%  2.7MB\r",
      "  Downloading astropy-1.0.3.tar.gz (7.6MB):  35%  2.7MB\r",
      "  Downloading astropy-1.0.3.tar.gz (7.6MB):  35%  2.7MB\r",
      "  Downloading astropy-1.0.3.tar.gz (7.6MB):  35%  2.7MB\r",
      "  Downloading astropy-1.0.3.tar.gz (7.6MB):  35%  2.7MB\r",
      "  Downloading astropy-1.0.3.tar.gz (7.6MB):  35%  2.7MB\r",
      "  Downloading astropy-1.0.3.tar.gz (7.6MB):  35%  2.7MB\r",
      "  Downloading astropy-1.0.3.tar.gz (7.6MB):  35%  2.7MB\r",
      "  Downloading astropy-1.0.3.tar.gz (7.6MB):  35%  2.7MB\r",
      "  Downloading astropy-1.0.3.tar.gz (7.6MB):  35%  2.7MB\r",
      "  Downloading astropy-1.0.3.tar.gz (7.6MB):  35%  2.7MB\r",
      "  Downloading astropy-1.0.3.tar.gz (7.6MB):  35%  2.7MB\r",
      "  Downloading astropy-1.0.3.tar.gz (7.6MB):  35%  2.7MB\r",
      "  Downloading astropy-1.0.3.tar.gz (7.6MB):  35%  2.7MB\r",
      "  Downloading astropy-1.0.3.tar.gz (7.6MB):  35%  2.7MB\r",
      "  Downloading astropy-1.0.3.tar.gz (7.6MB):  35%  2.7MB\r",
      "  Downloading astropy-1.0.3.tar.gz (7.6MB):  36%  2.7MB\r",
      "  Downloading astropy-1.0.3.tar.gz (7.6MB):  36%  2.7MB\r",
      "  Downloading astropy-1.0.3.tar.gz (7.6MB):  36%  2.8MB\r",
      "  Downloading astropy-1.0.3.tar.gz (7.6MB):  36%  2.8MB\r",
      "  Downloading astropy-1.0.3.tar.gz (7.6MB):  36%  2.8MB\r",
      "  Downloading astropy-1.0.3.tar.gz (7.6MB):  36%  2.8MB\r",
      "  Downloading astropy-1.0.3.tar.gz (7.6MB):  36%  2.8MB\r",
      "  Downloading astropy-1.0.3.tar.gz (7.6MB):  36%  2.8MB\r",
      "  Downloading astropy-1.0.3.tar.gz (7.6MB):  36%  2.8MB\r",
      "  Downloading astropy-1.0.3.tar.gz (7.6MB):  36%  2.8MB"
     ]
    },
    {
     "name": "stdout",
     "output_type": "stream",
     "text": [
      "\r",
      "  Downloading astropy-1.0.3.tar.gz (7.6MB):  33%  2.5MB\r",
      "  Downloading astropy-1.0.3.tar.gz (7.6MB):  33%  2.5MB\r",
      "  Downloading astropy-1.0.3.tar.gz (7.6MB):  33%  2.5MB\r",
      "  Downloading astropy-1.0.3.tar.gz (7.6MB):  33%  2.5MB\r",
      "  Downloading astropy-1.0.3.tar.gz (7.6MB):  33%  2.5MB\r",
      "  Downloading astropy-1.0.3.tar.gz (7.6MB):  33%  2.5MB\r",
      "  Downloading astropy-1.0.3.tar.gz (7.6MB):  33%  2.5MB\r",
      "  Downloading astropy-1.0.3.tar.gz (7.6MB):  33%  2.6MB\r",
      "  Downloading astropy-1.0.3.tar.gz (7.6MB):  33%  2.6MB\r",
      "  Downloading astropy-1.0.3.tar.gz (7.6MB):  33%  2.6MB\r",
      "  Downloading astropy-1.0.3.tar.gz (7.6MB):  33%  2.6MB\r",
      "  Downloading astropy-1.0.3.tar.gz (7.6MB):  33%  2.6MB\r",
      "  Downloading astropy-1.0.3.tar.gz (7.6MB):  33%  2.6MB\r",
      "  Downloading astropy-1.0.3.tar.gz (7.6MB):  33%  2.6MB\r",
      "  Downloading astropy-1.0.3.tar.gz (7.6MB):  33%  2.6MB\r",
      "  Downloading astropy-1.0.3.tar.gz (7.6MB):  33%  2.6MB\r",
      "  Downloading astropy-1.0.3.tar.gz (7.6MB):  33%  2.6MB\r",
      "  Downloading astropy-1.0.3.tar.gz (7.6MB):  34%  2.6MB\r",
      "  Downloading astropy-1.0.3.tar.gz (7.6MB):  34%  2.6MB\r",
      "  Downloading astropy-1.0.3.tar.gz (7.6MB):  34%  2.6MB\r",
      "  Downloading astropy-1.0.3.tar.gz (7.6MB):  34%  2.6MB\r",
      "  Downloading astropy-1.0.3.tar.gz (7.6MB):  34%  2.6MB\r",
      "  Downloading astropy-1.0.3.tar.gz (7.6MB):  34%  2.6MB\r",
      "  Downloading astropy-1.0.3.tar.gz (7.6MB):  34%  2.6MB"
     ]
    },
    {
     "name": "stdout",
     "output_type": "stream",
     "text": [
      "\r",
      "  Downloading astropy-1.0.3.tar.gz (7.6MB):  29%  2.3MB\r",
      "  Downloading astropy-1.0.3.tar.gz (7.6MB):  29%  2.3MB\r",
      "  Downloading astropy-1.0.3.tar.gz (7.6MB):  29%  2.3MB\r",
      "  Downloading astropy-1.0.3.tar.gz (7.6MB):  30%  2.3MB\r",
      "  Downloading astropy-1.0.3.tar.gz (7.6MB):  30%  2.3MB\r",
      "  Downloading astropy-1.0.3.tar.gz (7.6MB):  30%  2.3MB\r",
      "  Downloading astropy-1.0.3.tar.gz (7.6MB):  30%  2.3MB\r",
      "  Downloading astropy-1.0.3.tar.gz (7.6MB):  30%  2.3MB\r",
      "  Downloading astropy-1.0.3.tar.gz (7.6MB):  30%  2.3MB\r",
      "  Downloading astropy-1.0.3.tar.gz (7.6MB):  30%  2.3MB\r",
      "  Downloading astropy-1.0.3.tar.gz (7.6MB):  30%  2.3MB\r",
      "  Downloading astropy-1.0.3.tar.gz (7.6MB):  30%  2.3MB\r",
      "  Downloading astropy-1.0.3.tar.gz (7.6MB):  30%  2.3MB\r",
      "  Downloading astropy-1.0.3.tar.gz (7.6MB):  30%  2.3MB\r",
      "  Downloading astropy-1.0.3.tar.gz (7.6MB):  30%  2.3MB\r",
      "  Downloading astropy-1.0.3.tar.gz (7.6MB):  30%  2.3MB\r",
      "  Downloading astropy-1.0.3.tar.gz (7.6MB):  30%  2.3MB\r",
      "  Downloading astropy-1.0.3.tar.gz (7.6MB):  30%  2.3MB\r",
      "  Downloading astropy-1.0.3.tar.gz (7.6MB):  30%  2.4MB\r",
      "  Downloading astropy-1.0.3.tar.gz (7.6MB):  30%  2.4MB\r",
      "  Downloading astropy-1.0.3.tar.gz (7.6MB):  30%  2.4MB\r",
      "  Downloading astropy-1.0.3.tar.gz (7.6MB):  31%  2.4MB\r",
      "  Downloading astropy-1.0.3.tar.gz (7.6MB):  31%  2.4MB\r",
      "  Downloading astropy-1.0.3.tar.gz (7.6MB):  31%  2.4MB\r",
      "  Downloading astropy-1.0.3.tar.gz (7.6MB):  31%  2.4MB\r",
      "  Downloading astropy-1.0.3.tar.gz (7.6MB):  31%  2.4MB\r",
      "  Downloading astropy-1.0.3.tar.gz (7.6MB):  31%  2.4MB\r",
      "  Downloading astropy-1.0.3.tar.gz (7.6MB):  31%  2.4MB\r",
      "  Downloading astropy-1.0.3.tar.gz (7.6MB):  31%  2.4MB\r",
      "  Downloading astropy-1.0.3.tar.gz (7.6MB):  31%  2.4MB\r",
      "  Downloading astropy-1.0.3.tar.gz (7.6MB):  31%  2.4MB\r",
      "  Downloading astropy-1.0.3.tar.gz (7.6MB):  31%  2.4MB\r",
      "  Downloading astropy-1.0.3.tar.gz (7.6MB):  31%  2.4MB\r",
      "  Downloading astropy-1.0.3.tar.gz (7.6MB):  31%  2.4MB\r",
      "  Downloading astropy-1.0.3.tar.gz (7.6MB):  31%  2.4MB\r",
      "  Downloading astropy-1.0.3.tar.gz (7.6MB):  31%  2.4MB\r",
      "  Downloading astropy-1.0.3.tar.gz (7.6MB):  31%  2.4MB\r",
      "  Downloading astropy-1.0.3.tar.gz (7.6MB):  31%  2.4MB\r",
      "  Downloading astropy-1.0.3.tar.gz (7.6MB):  31%  2.4MB\r",
      "  Downloading astropy-1.0.3.tar.gz (7.6MB):  31%  2.4MB\r",
      "  Downloading astropy-1.0.3.tar.gz (7.6MB):  32%  2.4MB\r",
      "  Downloading astropy-1.0.3.tar.gz (7.6MB):  32%  2.4MB\r",
      "  Downloading astropy-1.0.3.tar.gz (7.6MB):  32%  2.4MB\r",
      "  Downloading astropy-1.0.3.tar.gz (7.6MB):  32%  2.5MB\r",
      "  Downloading astropy-1.0.3.tar.gz (7.6MB):  32%  2.5MB\r",
      "  Downloading astropy-1.0.3.tar.gz (7.6MB):  32%  2.5MB\r",
      "  Downloading astropy-1.0.3.tar.gz (7.6MB):  32%  2.5MB\r",
      "  Downloading astropy-1.0.3.tar.gz (7.6MB):  32%  2.5MB\r",
      "  Downloading astropy-1.0.3.tar.gz (7.6MB):  32%  2.5MB\r",
      "  Downloading astropy-1.0.3.tar.gz (7.6MB):  32%  2.5MB\r",
      "  Downloading astropy-1.0.3.tar.gz (7.6MB):  32%  2.5MB\r",
      "  Downloading astropy-1.0.3.tar.gz (7.6MB):  32%  2.5MB\r",
      "  Downloading astropy-1.0.3.tar.gz (7.6MB):  32%  2.5MB\r",
      "  Downloading astropy-1.0.3.tar.gz (7.6MB):  32%  2.5MB\r",
      "  Downloading astropy-1.0.3.tar.gz (7.6MB):  32%  2.5MB\r",
      "  Downloading astropy-1.0.3.tar.gz (7.6MB):  32%  2.5MB\r",
      "  Downloading astropy-1.0.3.tar.gz (7.6MB):  32%  2.5MB\r",
      "  Downloading astropy-1.0.3.tar.gz (7.6MB):  32%  2.5MB\r",
      "  Downloading astropy-1.0.3.tar.gz (7.6MB):  32%  2.5MB\r",
      "  Downloading astropy-1.0.3.tar.gz (7.6MB):  33%  2.5MB"
     ]
    },
    {
     "name": "stdout",
     "output_type": "stream",
     "text": [
      "\r",
      "  Downloading astropy-1.0.3.tar.gz (7.6MB):  29%  2.2MB\r",
      "  Downloading astropy-1.0.3.tar.gz (7.6MB):  29%  2.2MB\r",
      "  Downloading astropy-1.0.3.tar.gz (7.6MB):  29%  2.2MB\r",
      "  Downloading astropy-1.0.3.tar.gz (7.6MB):  29%  2.2MB\r",
      "  Downloading astropy-1.0.3.tar.gz (7.6MB):  29%  2.2MB\r",
      "  Downloading astropy-1.0.3.tar.gz (7.6MB):  29%  2.2MB\r",
      "  Downloading astropy-1.0.3.tar.gz (7.6MB):  29%  2.2MB\r",
      "  Downloading astropy-1.0.3.tar.gz (7.6MB):  29%  2.2MB\r",
      "  Downloading astropy-1.0.3.tar.gz (7.6MB):  29%  2.2MB\r",
      "  Downloading astropy-1.0.3.tar.gz (7.6MB):  29%  2.3MB\r",
      "  Downloading astropy-1.0.3.tar.gz (7.6MB):  29%  2.3MB\r",
      "  Downloading astropy-1.0.3.tar.gz (7.6MB):  29%  2.3MB\r",
      "  Downloading astropy-1.0.3.tar.gz (7.6MB):  29%  2.3MB\r",
      "  Downloading astropy-1.0.3.tar.gz (7.6MB):  29%  2.3MB\r",
      "  Downloading astropy-1.0.3.tar.gz (7.6MB):  29%  2.3MB"
     ]
    },
    {
     "name": "stdout",
     "output_type": "stream",
     "text": [
      "\r",
      "  Downloading astropy-1.0.3.tar.gz (7.6MB):  26%  2.0MB\r",
      "  Downloading astropy-1.0.3.tar.gz (7.6MB):  26%  2.0MB\r",
      "  Downloading astropy-1.0.3.tar.gz (7.6MB):  26%  2.0MB\r",
      "  Downloading astropy-1.0.3.tar.gz (7.6MB):  26%  2.0MB\r",
      "  Downloading astropy-1.0.3.tar.gz (7.6MB):  26%  2.0MB\r",
      "  Downloading astropy-1.0.3.tar.gz (7.6MB):  26%  2.1MB\r",
      "  Downloading astropy-1.0.3.tar.gz (7.6MB):  26%  2.1MB\r",
      "  Downloading astropy-1.0.3.tar.gz (7.6MB):  27%  2.1MB\r",
      "  Downloading astropy-1.0.3.tar.gz (7.6MB):  27%  2.1MB\r",
      "  Downloading astropy-1.0.3.tar.gz (7.6MB):  27%  2.1MB\r",
      "  Downloading astropy-1.0.3.tar.gz (7.6MB):  27%  2.1MB\r",
      "  Downloading astropy-1.0.3.tar.gz (7.6MB):  27%  2.1MB\r",
      "  Downloading astropy-1.0.3.tar.gz (7.6MB):  27%  2.1MB\r",
      "  Downloading astropy-1.0.3.tar.gz (7.6MB):  27%  2.1MB\r",
      "  Downloading astropy-1.0.3.tar.gz (7.6MB):  27%  2.1MB\r",
      "  Downloading astropy-1.0.3.tar.gz (7.6MB):  27%  2.1MB\r",
      "  Downloading astropy-1.0.3.tar.gz (7.6MB):  27%  2.1MB\r",
      "  Downloading astropy-1.0.3.tar.gz (7.6MB):  27%  2.1MB\r",
      "  Downloading astropy-1.0.3.tar.gz (7.6MB):  27%  2.1MB\r",
      "  Downloading astropy-1.0.3.tar.gz (7.6MB):  27%  2.1MB\r",
      "  Downloading astropy-1.0.3.tar.gz (7.6MB):  27%  2.1MB\r",
      "  Downloading astropy-1.0.3.tar.gz (7.6MB):  27%  2.1MB\r",
      "  Downloading astropy-1.0.3.tar.gz (7.6MB):  27%  2.1MB\r",
      "  Downloading astropy-1.0.3.tar.gz (7.6MB):  27%  2.1MB\r",
      "  Downloading astropy-1.0.3.tar.gz (7.6MB):  27%  2.1MB\r",
      "  Downloading astropy-1.0.3.tar.gz (7.6MB):  27%  2.1MB\r",
      "  Downloading astropy-1.0.3.tar.gz (7.6MB):  28%  2.1MB\r",
      "  Downloading astropy-1.0.3.tar.gz (7.6MB):  28%  2.1MB\r",
      "  Downloading astropy-1.0.3.tar.gz (7.6MB):  28%  2.1MB\r",
      "  Downloading astropy-1.0.3.tar.gz (7.6MB):  28%  2.2MB\r",
      "  Downloading astropy-1.0.3.tar.gz (7.6MB):  28%  2.2MB\r",
      "  Downloading astropy-1.0.3.tar.gz (7.6MB):  28%  2.2MB\r",
      "  Downloading astropy-1.0.3.tar.gz (7.6MB):  28%  2.2MB\r",
      "  Downloading astropy-1.0.3.tar.gz (7.6MB):  28%  2.2MB\r",
      "  Downloading astropy-1.0.3.tar.gz (7.6MB):  28%  2.2MB\r",
      "  Downloading astropy-1.0.3.tar.gz (7.6MB):  28%  2.2MB\r",
      "  Downloading astropy-1.0.3.tar.gz (7.6MB):  28%  2.2MB\r",
      "  Downloading astropy-1.0.3.tar.gz (7.6MB):  28%  2.2MB\r",
      "  Downloading astropy-1.0.3.tar.gz (7.6MB):  28%  2.2MB\r",
      "  Downloading astropy-1.0.3.tar.gz (7.6MB):  28%  2.2MB\r",
      "  Downloading astropy-1.0.3.tar.gz (7.6MB):  28%  2.2MB\r",
      "  Downloading astropy-1.0.3.tar.gz (7.6MB):  28%  2.2MB\r",
      "  Downloading astropy-1.0.3.tar.gz (7.6MB):  28%  2.2MB\r",
      "  Downloading astropy-1.0.3.tar.gz (7.6MB):  28%  2.2MB\r",
      "  Downloading astropy-1.0.3.tar.gz (7.6MB):  29%  2.2MB"
     ]
    },
    {
     "name": "stdout",
     "output_type": "stream",
     "text": [
      "\r",
      "  Downloading astropy-1.0.3.tar.gz (7.6MB):  23%  1.8MB\r",
      "  Downloading astropy-1.0.3.tar.gz (7.6MB):  23%  1.8MB\r",
      "  Downloading astropy-1.0.3.tar.gz (7.6MB):  23%  1.8MB\r",
      "  Downloading astropy-1.0.3.tar.gz (7.6MB):  24%  1.8MB\r",
      "  Downloading astropy-1.0.3.tar.gz (7.6MB):  24%  1.8MB\r",
      "  Downloading astropy-1.0.3.tar.gz (7.6MB):  24%  1.8MB\r",
      "  Downloading astropy-1.0.3.tar.gz (7.6MB):  24%  1.8MB\r",
      "  Downloading astropy-1.0.3.tar.gz (7.6MB):  24%  1.8MB\r",
      "  Downloading astropy-1.0.3.tar.gz (7.6MB):  24%  1.9MB\r",
      "  Downloading astropy-1.0.3.tar.gz (7.6MB):  24%  1.9MB\r",
      "  Downloading astropy-1.0.3.tar.gz (7.6MB):  24%  1.9MB\r",
      "  Downloading astropy-1.0.3.tar.gz (7.6MB):  24%  1.9MB\r",
      "  Downloading astropy-1.0.3.tar.gz (7.6MB):  24%  1.9MB\r",
      "  Downloading astropy-1.0.3.tar.gz (7.6MB):  24%  1.9MB\r",
      "  Downloading astropy-1.0.3.tar.gz (7.6MB):  24%  1.9MB\r",
      "  Downloading astropy-1.0.3.tar.gz (7.6MB):  24%  1.9MB\r",
      "  Downloading astropy-1.0.3.tar.gz (7.6MB):  24%  1.9MB\r",
      "  Downloading astropy-1.0.3.tar.gz (7.6MB):  24%  1.9MB\r",
      "  Downloading astropy-1.0.3.tar.gz (7.6MB):  24%  1.9MB\r",
      "  Downloading astropy-1.0.3.tar.gz (7.6MB):  24%  1.9MB\r",
      "  Downloading astropy-1.0.3.tar.gz (7.6MB):  24%  1.9MB\r",
      "  Downloading astropy-1.0.3.tar.gz (7.6MB):  24%  1.9MB\r",
      "  Downloading astropy-1.0.3.tar.gz (7.6MB):  25%  1.9MB\r",
      "  Downloading astropy-1.0.3.tar.gz (7.6MB):  25%  1.9MB\r",
      "  Downloading astropy-1.0.3.tar.gz (7.6MB):  25%  1.9MB\r",
      "  Downloading astropy-1.0.3.tar.gz (7.6MB):  25%  1.9MB\r",
      "  Downloading astropy-1.0.3.tar.gz (7.6MB):  25%  1.9MB\r",
      "  Downloading astropy-1.0.3.tar.gz (7.6MB):  25%  1.9MB\r",
      "  Downloading astropy-1.0.3.tar.gz (7.6MB):  25%  1.9MB\r",
      "  Downloading astropy-1.0.3.tar.gz (7.6MB):  25%  1.9MB\r",
      "  Downloading astropy-1.0.3.tar.gz (7.6MB):  25%  1.9MB\r",
      "  Downloading astropy-1.0.3.tar.gz (7.6MB):  25%  1.9MB\r",
      "  Downloading astropy-1.0.3.tar.gz (7.6MB):  25%  1.9MB\r",
      "  Downloading astropy-1.0.3.tar.gz (7.6MB):  25%  2.0MB\r",
      "  Downloading astropy-1.0.3.tar.gz (7.6MB):  25%  2.0MB\r",
      "  Downloading astropy-1.0.3.tar.gz (7.6MB):  25%  2.0MB\r",
      "  Downloading astropy-1.0.3.tar.gz (7.6MB):  25%  2.0MB\r",
      "  Downloading astropy-1.0.3.tar.gz (7.6MB):  25%  2.0MB\r",
      "  Downloading astropy-1.0.3.tar.gz (7.6MB):  25%  2.0MB\r",
      "  Downloading astropy-1.0.3.tar.gz (7.6MB):  25%  2.0MB\r",
      "  Downloading astropy-1.0.3.tar.gz (7.6MB):  26%  2.0MB\r",
      "  Downloading astropy-1.0.3.tar.gz (7.6MB):  26%  2.0MB\r",
      "  Downloading astropy-1.0.3.tar.gz (7.6MB):  26%  2.0MB\r",
      "  Downloading astropy-1.0.3.tar.gz (7.6MB):  26%  2.0MB\r",
      "  Downloading astropy-1.0.3.tar.gz (7.6MB):  26%  2.0MB\r",
      "  Downloading astropy-1.0.3.tar.gz (7.6MB):  26%  2.0MB\r",
      "  Downloading astropy-1.0.3.tar.gz (7.6MB):  26%  2.0MB\r",
      "  Downloading astropy-1.0.3.tar.gz (7.6MB):  26%  2.0MB\r",
      "  Downloading astropy-1.0.3.tar.gz (7.6MB):  26%  2.0MB\r",
      "  Downloading astropy-1.0.3.tar.gz (7.6MB):  26%  2.0MB\r",
      "  Downloading astropy-1.0.3.tar.gz (7.6MB):  26%  2.0MB\r",
      "  Downloading astropy-1.0.3.tar.gz (7.6MB):  26%  2.0MB"
     ]
    },
    {
     "name": "stdout",
     "output_type": "stream",
     "text": [
      "\r",
      "  Downloading astropy-1.0.3.tar.gz (7.6MB):  23%  1.8MB\r",
      "  Downloading astropy-1.0.3.tar.gz (7.6MB):  23%  1.8MB\r",
      "  Downloading astropy-1.0.3.tar.gz (7.6MB):  23%  1.8MB\r",
      "  Downloading astropy-1.0.3.tar.gz (7.6MB):  23%  1.8MB"
     ]
    },
    {
     "name": "stdout",
     "output_type": "stream",
     "text": [
      "\r",
      "  Downloading astropy-1.0.3.tar.gz (7.6MB):  21%  1.6MB\r",
      "  Downloading astropy-1.0.3.tar.gz (7.6MB):  21%  1.6MB\r",
      "  Downloading astropy-1.0.3.tar.gz (7.6MB):  21%  1.6MB\r",
      "  Downloading astropy-1.0.3.tar.gz (7.6MB):  21%  1.6MB\r",
      "  Downloading astropy-1.0.3.tar.gz (7.6MB):  21%  1.6MB\r",
      "  Downloading astropy-1.0.3.tar.gz (7.6MB):  21%  1.6MB\r",
      "  Downloading astropy-1.0.3.tar.gz (7.6MB):  21%  1.6MB\r",
      "  Downloading astropy-1.0.3.tar.gz (7.6MB):  21%  1.6MB\r",
      "  Downloading astropy-1.0.3.tar.gz (7.6MB):  21%  1.6MB\r",
      "  Downloading astropy-1.0.3.tar.gz (7.6MB):  21%  1.6MB\r",
      "  Downloading astropy-1.0.3.tar.gz (7.6MB):  21%  1.6MB\r",
      "  Downloading astropy-1.0.3.tar.gz (7.6MB):  21%  1.7MB\r",
      "  Downloading astropy-1.0.3.tar.gz (7.6MB):  21%  1.7MB\r",
      "  Downloading astropy-1.0.3.tar.gz (7.6MB):  21%  1.7MB\r",
      "  Downloading astropy-1.0.3.tar.gz (7.6MB):  21%  1.7MB\r",
      "  Downloading astropy-1.0.3.tar.gz (7.6MB):  21%  1.7MB\r",
      "  Downloading astropy-1.0.3.tar.gz (7.6MB):  21%  1.7MB\r",
      "  Downloading astropy-1.0.3.tar.gz (7.6MB):  21%  1.7MB\r",
      "  Downloading astropy-1.0.3.tar.gz (7.6MB):  22%  1.7MB\r",
      "  Downloading astropy-1.0.3.tar.gz (7.6MB):  22%  1.7MB\r",
      "  Downloading astropy-1.0.3.tar.gz (7.6MB):  22%  1.7MB\r",
      "  Downloading astropy-1.0.3.tar.gz (7.6MB):  22%  1.7MB\r",
      "  Downloading astropy-1.0.3.tar.gz (7.6MB):  22%  1.7MB\r",
      "  Downloading astropy-1.0.3.tar.gz (7.6MB):  22%  1.7MB\r",
      "  Downloading astropy-1.0.3.tar.gz (7.6MB):  22%  1.7MB\r",
      "  Downloading astropy-1.0.3.tar.gz (7.6MB):  22%  1.7MB\r",
      "  Downloading astropy-1.0.3.tar.gz (7.6MB):  22%  1.7MB\r",
      "  Downloading astropy-1.0.3.tar.gz (7.6MB):  22%  1.7MB\r",
      "  Downloading astropy-1.0.3.tar.gz (7.6MB):  22%  1.7MB\r",
      "  Downloading astropy-1.0.3.tar.gz (7.6MB):  22%  1.7MB\r",
      "  Downloading astropy-1.0.3.tar.gz (7.6MB):  22%  1.7MB\r",
      "  Downloading astropy-1.0.3.tar.gz (7.6MB):  22%  1.7MB\r",
      "  Downloading astropy-1.0.3.tar.gz (7.6MB):  22%  1.7MB\r",
      "  Downloading astropy-1.0.3.tar.gz (7.6MB):  22%  1.7MB\r",
      "  Downloading astropy-1.0.3.tar.gz (7.6MB):  22%  1.7MB\r",
      "  Downloading astropy-1.0.3.tar.gz (7.6MB):  22%  1.7MB\r",
      "  Downloading astropy-1.0.3.tar.gz (7.6MB):  22%  1.8MB\r",
      "  Downloading astropy-1.0.3.tar.gz (7.6MB):  23%  1.8MB\r",
      "  Downloading astropy-1.0.3.tar.gz (7.6MB):  23%  1.8MB\r",
      "  Downloading astropy-1.0.3.tar.gz (7.6MB):  23%  1.8MB\r",
      "  Downloading astropy-1.0.3.tar.gz (7.6MB):  23%  1.8MB\r",
      "  Downloading astropy-1.0.3.tar.gz (7.6MB):  23%  1.8MB\r",
      "  Downloading astropy-1.0.3.tar.gz (7.6MB):  23%  1.8MB\r",
      "  Downloading astropy-1.0.3.tar.gz (7.6MB):  23%  1.8MB\r",
      "  Downloading astropy-1.0.3.tar.gz (7.6MB):  23%  1.8MB\r",
      "  Downloading astropy-1.0.3.tar.gz (7.6MB):  23%  1.8MB\r",
      "  Downloading astropy-1.0.3.tar.gz (7.6MB):  23%  1.8MB\r",
      "  Downloading astropy-1.0.3.tar.gz (7.6MB):  23%  1.8MB"
     ]
    },
    {
     "name": "stdout",
     "output_type": "stream",
     "text": [
      "\r",
      "  Downloading astropy-1.0.3.tar.gz (7.6MB):  19%  1.5MB\r",
      "  Downloading astropy-1.0.3.tar.gz (7.6MB):  19%  1.5MB\r",
      "  Downloading astropy-1.0.3.tar.gz (7.6MB):  19%  1.5MB\r",
      "  Downloading astropy-1.0.3.tar.gz (7.6MB):  19%  1.5MB\r",
      "  Downloading astropy-1.0.3.tar.gz (7.6MB):  19%  1.5MB\r",
      "  Downloading astropy-1.0.3.tar.gz (7.6MB):  20%  1.5MB\r",
      "  Downloading astropy-1.0.3.tar.gz (7.6MB):  20%  1.5MB\r",
      "  Downloading astropy-1.0.3.tar.gz (7.6MB):  20%  1.5MB\r",
      "  Downloading astropy-1.0.3.tar.gz (7.6MB):  20%  1.5MB\r",
      "  Downloading astropy-1.0.3.tar.gz (7.6MB):  20%  1.5MB\r",
      "  Downloading astropy-1.0.3.tar.gz (7.6MB):  20%  1.5MB\r",
      "  Downloading astropy-1.0.3.tar.gz (7.6MB):  20%  1.6MB\r",
      "  Downloading astropy-1.0.3.tar.gz (7.6MB):  20%  1.6MB\r",
      "  Downloading astropy-1.0.3.tar.gz (7.6MB):  20%  1.6MB\r",
      "  Downloading astropy-1.0.3.tar.gz (7.6MB):  20%  1.6MB\r",
      "  Downloading astropy-1.0.3.tar.gz (7.6MB):  20%  1.6MB\r",
      "  Downloading astropy-1.0.3.tar.gz (7.6MB):  20%  1.6MB\r",
      "  Downloading astropy-1.0.3.tar.gz (7.6MB):  20%  1.6MB\r",
      "  Downloading astropy-1.0.3.tar.gz (7.6MB):  20%  1.6MB\r",
      "  Downloading astropy-1.0.3.tar.gz (7.6MB):  20%  1.6MB\r",
      "  Downloading astropy-1.0.3.tar.gz (7.6MB):  20%  1.6MB\r",
      "  Downloading astropy-1.0.3.tar.gz (7.6MB):  20%  1.6MB\r",
      "  Downloading astropy-1.0.3.tar.gz (7.6MB):  20%  1.6MB\r",
      "  Downloading astropy-1.0.3.tar.gz (7.6MB):  21%  1.6MB"
     ]
    },
    {
     "name": "stdout",
     "output_type": "stream",
     "text": [
      "\r",
      "  Downloading astropy-1.0.3.tar.gz (7.6MB):  18%  1.4MB\r",
      "  Downloading astropy-1.0.3.tar.gz (7.6MB):  18%  1.4MB\r",
      "  Downloading astropy-1.0.3.tar.gz (7.6MB):  18%  1.4MB\r",
      "  Downloading astropy-1.0.3.tar.gz (7.6MB):  18%  1.4MB\r",
      "  Downloading astropy-1.0.3.tar.gz (7.6MB):  18%  1.4MB\r",
      "  Downloading astropy-1.0.3.tar.gz (7.6MB):  18%  1.4MB\r",
      "  Downloading astropy-1.0.3.tar.gz (7.6MB):  18%  1.4MB\r",
      "  Downloading astropy-1.0.3.tar.gz (7.6MB):  18%  1.4MB\r",
      "  Downloading astropy-1.0.3.tar.gz (7.6MB):  18%  1.4MB\r",
      "  Downloading astropy-1.0.3.tar.gz (7.6MB):  18%  1.4MB\r",
      "  Downloading astropy-1.0.3.tar.gz (7.6MB):  18%  1.4MB\r",
      "  Downloading astropy-1.0.3.tar.gz (7.6MB):  18%  1.4MB\r",
      "  Downloading astropy-1.0.3.tar.gz (7.6MB):  18%  1.4MB\r",
      "  Downloading astropy-1.0.3.tar.gz (7.6MB):  18%  1.4MB\r",
      "  Downloading astropy-1.0.3.tar.gz (7.6MB):  19%  1.4MB\r",
      "  Downloading astropy-1.0.3.tar.gz (7.6MB):  19%  1.5MB\r",
      "  Downloading astropy-1.0.3.tar.gz (7.6MB):  19%  1.5MB\r",
      "  Downloading astropy-1.0.3.tar.gz (7.6MB):  19%  1.5MB\r",
      "  Downloading astropy-1.0.3.tar.gz (7.6MB):  19%  1.5MB\r",
      "  Downloading astropy-1.0.3.tar.gz (7.6MB):  19%  1.5MB\r",
      "  Downloading astropy-1.0.3.tar.gz (7.6MB):  19%  1.5MB\r",
      "  Downloading astropy-1.0.3.tar.gz (7.6MB):  19%  1.5MB\r",
      "  Downloading astropy-1.0.3.tar.gz (7.6MB):  19%  1.5MB\r",
      "  Downloading astropy-1.0.3.tar.gz (7.6MB):  19%  1.5MB\r",
      "  Downloading astropy-1.0.3.tar.gz (7.6MB):  19%  1.5MB\r",
      "  Downloading astropy-1.0.3.tar.gz (7.6MB):  19%  1.5MB\r",
      "  Downloading astropy-1.0.3.tar.gz (7.6MB):  19%  1.5MB\r",
      "  Downloading astropy-1.0.3.tar.gz (7.6MB):  19%  1.5MB"
     ]
    },
    {
     "name": "stdout",
     "output_type": "stream",
     "text": [
      "\r",
      "  Downloading astropy-1.0.3.tar.gz (7.6MB):  15%  1.2MB\r",
      "  Downloading astropy-1.0.3.tar.gz (7.6MB):  15%  1.2MB\r",
      "  Downloading astropy-1.0.3.tar.gz (7.6MB):  16%  1.2MB\r",
      "  Downloading astropy-1.0.3.tar.gz (7.6MB):  16%  1.2MB\r",
      "  Downloading astropy-1.0.3.tar.gz (7.6MB):  16%  1.2MB\r",
      "  Downloading astropy-1.0.3.tar.gz (7.6MB):  16%  1.2MB\r",
      "  Downloading astropy-1.0.3.tar.gz (7.6MB):  16%  1.2MB\r",
      "  Downloading astropy-1.0.3.tar.gz (7.6MB):  16%  1.2MB\r",
      "  Downloading astropy-1.0.3.tar.gz (7.6MB):  16%  1.2MB\r",
      "  Downloading astropy-1.0.3.tar.gz (7.6MB):  16%  1.2MB\r",
      "  Downloading astropy-1.0.3.tar.gz (7.6MB):  16%  1.3MB\r",
      "  Downloading astropy-1.0.3.tar.gz (7.6MB):  16%  1.3MB\r",
      "  Downloading astropy-1.0.3.tar.gz (7.6MB):  16%  1.3MB\r",
      "  Downloading astropy-1.0.3.tar.gz (7.6MB):  16%  1.3MB\r",
      "  Downloading astropy-1.0.3.tar.gz (7.6MB):  16%  1.3MB\r",
      "  Downloading astropy-1.0.3.tar.gz (7.6MB):  16%  1.3MB\r",
      "  Downloading astropy-1.0.3.tar.gz (7.6MB):  16%  1.3MB\r",
      "  Downloading astropy-1.0.3.tar.gz (7.6MB):  16%  1.3MB\r",
      "  Downloading astropy-1.0.3.tar.gz (7.6MB):  16%  1.3MB\r",
      "  Downloading astropy-1.0.3.tar.gz (7.6MB):  16%  1.3MB\r",
      "  Downloading astropy-1.0.3.tar.gz (7.6MB):  16%  1.3MB\r",
      "  Downloading astropy-1.0.3.tar.gz (7.6MB):  17%  1.3MB\r",
      "  Downloading astropy-1.0.3.tar.gz (7.6MB):  17%  1.3MB\r",
      "  Downloading astropy-1.0.3.tar.gz (7.6MB):  17%  1.3MB\r",
      "  Downloading astropy-1.0.3.tar.gz (7.6MB):  17%  1.3MB\r",
      "  Downloading astropy-1.0.3.tar.gz (7.6MB):  17%  1.3MB\r",
      "  Downloading astropy-1.0.3.tar.gz (7.6MB):  17%  1.3MB\r",
      "  Downloading astropy-1.0.3.tar.gz (7.6MB):  17%  1.3MB\r",
      "  Downloading astropy-1.0.3.tar.gz (7.6MB):  17%  1.3MB\r",
      "  Downloading astropy-1.0.3.tar.gz (7.6MB):  17%  1.3MB\r",
      "  Downloading astropy-1.0.3.tar.gz (7.6MB):  17%  1.3MB\r",
      "  Downloading astropy-1.0.3.tar.gz (7.6MB):  17%  1.3MB\r",
      "  Downloading astropy-1.0.3.tar.gz (7.6MB):  17%  1.3MB\r",
      "  Downloading astropy-1.0.3.tar.gz (7.6MB):  17%  1.3MB\r",
      "  Downloading astropy-1.0.3.tar.gz (7.6MB):  17%  1.4MB\r",
      "  Downloading astropy-1.0.3.tar.gz (7.6MB):  17%  1.4MB\r",
      "  Downloading astropy-1.0.3.tar.gz (7.6MB):  17%  1.4MB\r",
      "  Downloading astropy-1.0.3.tar.gz (7.6MB):  17%  1.4MB\r",
      "  Downloading astropy-1.0.3.tar.gz (7.6MB):  17%  1.4MB\r",
      "  Downloading astropy-1.0.3.tar.gz (7.6MB):  18%  1.4MB\r",
      "  Downloading astropy-1.0.3.tar.gz (7.6MB):  18%  1.4MB\r",
      "  Downloading astropy-1.0.3.tar.gz (7.6MB):  18%  1.4MB\r",
      "  Downloading astropy-1.0.3.tar.gz (7.6MB):  18%  1.4MB\r",
      "  Downloading astropy-1.0.3.tar.gz (7.6MB):  18%  1.4MB"
     ]
    },
    {
     "name": "stdout",
     "output_type": "stream",
     "text": [
      "\r",
      "  Downloading astropy-1.0.3.tar.gz (7.6MB):  15%  1.2MB\r",
      "  Downloading astropy-1.0.3.tar.gz (7.6MB):  15%  1.2MB\r",
      "  Downloading astropy-1.0.3.tar.gz (7.6MB):  15%  1.2MB\r",
      "  Downloading astropy-1.0.3.tar.gz (7.6MB):  15%  1.2MB\r",
      "  Downloading astropy-1.0.3.tar.gz (7.6MB):  15%  1.2MB\r",
      "  Downloading astropy-1.0.3.tar.gz (7.6MB):  15%  1.2MB\r",
      "  Downloading astropy-1.0.3.tar.gz (7.6MB):  15%  1.2MB\r",
      "  Downloading astropy-1.0.3.tar.gz (7.6MB):  15%  1.2MB"
     ]
    },
    {
     "name": "stdout",
     "output_type": "stream",
     "text": [
      "\r",
      "  Downloading astropy-1.0.3.tar.gz (7.6MB):  13%  1.0MB\r",
      "  Downloading astropy-1.0.3.tar.gz (7.6MB):  13%  1.0MB\r",
      "  Downloading astropy-1.0.3.tar.gz (7.6MB):  13%  1.0MB\r",
      "  Downloading astropy-1.0.3.tar.gz (7.6MB):  13%  1.0MB\r",
      "  Downloading astropy-1.0.3.tar.gz (7.6MB):  13%  1.0MB\r",
      "  Downloading astropy-1.0.3.tar.gz (7.6MB):  13%  1.1MB\r",
      "  Downloading astropy-1.0.3.tar.gz (7.6MB):  13%  1.1MB\r",
      "  Downloading astropy-1.0.3.tar.gz (7.6MB):  13%  1.1MB\r",
      "  Downloading astropy-1.0.3.tar.gz (7.6MB):  13%  1.1MB\r",
      "  Downloading astropy-1.0.3.tar.gz (7.6MB):  14%  1.1MB\r",
      "  Downloading astropy-1.0.3.tar.gz (7.6MB):  14%  1.1MB\r",
      "  Downloading astropy-1.0.3.tar.gz (7.6MB):  14%  1.1MB\r",
      "  Downloading astropy-1.0.3.tar.gz (7.6MB):  14%  1.1MB\r",
      "  Downloading astropy-1.0.3.tar.gz (7.6MB):  14%  1.1MB\r",
      "  Downloading astropy-1.0.3.tar.gz (7.6MB):  14%  1.1MB\r",
      "  Downloading astropy-1.0.3.tar.gz (7.6MB):  14%  1.1MB\r",
      "  Downloading astropy-1.0.3.tar.gz (7.6MB):  14%  1.1MB\r",
      "  Downloading astropy-1.0.3.tar.gz (7.6MB):  14%  1.1MB\r",
      "  Downloading astropy-1.0.3.tar.gz (7.6MB):  14%  1.1MB\r",
      "  Downloading astropy-1.0.3.tar.gz (7.6MB):  14%  1.1MB\r",
      "  Downloading astropy-1.0.3.tar.gz (7.6MB):  14%  1.1MB\r",
      "  Downloading astropy-1.0.3.tar.gz (7.6MB):  14%  1.1MB\r",
      "  Downloading astropy-1.0.3.tar.gz (7.6MB):  14%  1.1MB\r",
      "  Downloading astropy-1.0.3.tar.gz (7.6MB):  14%  1.1MB\r",
      "  Downloading astropy-1.0.3.tar.gz (7.6MB):  14%  1.1MB\r",
      "  Downloading astropy-1.0.3.tar.gz (7.6MB):  14%  1.1MB\r",
      "  Downloading astropy-1.0.3.tar.gz (7.6MB):  14%  1.1MB\r",
      "  Downloading astropy-1.0.3.tar.gz (7.6MB):  14%  1.1MB\r",
      "  Downloading astropy-1.0.3.tar.gz (7.6MB):  15%  1.1MB\r",
      "  Downloading astropy-1.0.3.tar.gz (7.6MB):  15%  1.2MB\r",
      "  Downloading astropy-1.0.3.tar.gz (7.6MB):  15%  1.2MB\r",
      "  Downloading astropy-1.0.3.tar.gz (7.6MB):  15%  1.2MB\r",
      "  Downloading astropy-1.0.3.tar.gz (7.6MB):  15%  1.2MB\r",
      "  Downloading astropy-1.0.3.tar.gz (7.6MB):  15%  1.2MB\r",
      "  Downloading astropy-1.0.3.tar.gz (7.6MB):  15%  1.2MB\r",
      "  Downloading astropy-1.0.3.tar.gz (7.6MB):  15%  1.2MB"
     ]
    },
    {
     "name": "stdout",
     "output_type": "stream",
     "text": [
      "\r",
      "  Downloading astropy-1.0.3.tar.gz (7.6MB):  11%  868kB\r",
      "  Downloading astropy-1.0.3.tar.gz (7.6MB):  11%  872kB\r",
      "  Downloading astropy-1.0.3.tar.gz (7.6MB):  11%  876kB\r",
      "  Downloading astropy-1.0.3.tar.gz (7.6MB):  11%  880kB\r",
      "  Downloading astropy-1.0.3.tar.gz (7.6MB):  11%  884kB\r",
      "  Downloading astropy-1.0.3.tar.gz (7.6MB):  11%  888kB\r",
      "  Downloading astropy-1.0.3.tar.gz (7.6MB):  11%  892kB\r",
      "  Downloading astropy-1.0.3.tar.gz (7.6MB):  11%  897kB\r",
      "  Downloading astropy-1.0.3.tar.gz (7.6MB):  11%  901kB\r",
      "  Downloading astropy-1.0.3.tar.gz (7.6MB):  11%  905kB\r",
      "  Downloading astropy-1.0.3.tar.gz (7.6MB):  11%  909kB\r",
      "  Downloading astropy-1.0.3.tar.gz (7.6MB):  11%  913kB\r",
      "  Downloading astropy-1.0.3.tar.gz (7.6MB):  12%  917kB\r",
      "  Downloading astropy-1.0.3.tar.gz (7.6MB):  12%  921kB\r",
      "  Downloading astropy-1.0.3.tar.gz (7.6MB):  12%  925kB\r",
      "  Downloading astropy-1.0.3.tar.gz (7.6MB):  12%  929kB\r",
      "  Downloading astropy-1.0.3.tar.gz (7.6MB):  12%  933kB\r",
      "  Downloading astropy-1.0.3.tar.gz (7.6MB):  12%  937kB\r",
      "  Downloading astropy-1.0.3.tar.gz (7.6MB):  12%  942kB\r",
      "  Downloading astropy-1.0.3.tar.gz (7.6MB):  12%  946kB\r",
      "  Downloading astropy-1.0.3.tar.gz (7.6MB):  12%  950kB\r",
      "  Downloading astropy-1.0.3.tar.gz (7.6MB):  12%  954kB\r",
      "  Downloading astropy-1.0.3.tar.gz (7.6MB):  12%  958kB\r",
      "  Downloading astropy-1.0.3.tar.gz (7.6MB):  12%  962kB\r",
      "  Downloading astropy-1.0.3.tar.gz (7.6MB):  12%  966kB\r",
      "  Downloading astropy-1.0.3.tar.gz (7.6MB):  12%  970kB\r",
      "  Downloading astropy-1.0.3.tar.gz (7.6MB):  12%  974kB\r",
      "  Downloading astropy-1.0.3.tar.gz (7.6MB):  12%  978kB\r",
      "  Downloading astropy-1.0.3.tar.gz (7.6MB):  12%  983kB\r",
      "  Downloading astropy-1.0.3.tar.gz (7.6MB):  12%  987kB\r",
      "  Downloading astropy-1.0.3.tar.gz (7.6MB):  13%  991kB\r",
      "  Downloading astropy-1.0.3.tar.gz (7.6MB):  13%  995kB\r",
      "  Downloading astropy-1.0.3.tar.gz (7.6MB):  13%  999kB\r",
      "  Downloading astropy-1.0.3.tar.gz (7.6MB):  13%  1.0MB\r",
      "  Downloading astropy-1.0.3.tar.gz (7.6MB):  13%  1.0MB\r",
      "  Downloading astropy-1.0.3.tar.gz (7.6MB):  13%  1.0MB\r",
      "  Downloading astropy-1.0.3.tar.gz (7.6MB):  13%  1.0MB\r",
      "  Downloading astropy-1.0.3.tar.gz (7.6MB):  13%  1.0MB\r",
      "  Downloading astropy-1.0.3.tar.gz (7.6MB):  13%  1.0MB\r",
      "  Downloading astropy-1.0.3.tar.gz (7.6MB):  13%  1.0MB"
     ]
    },
    {
     "name": "stdout",
     "output_type": "stream",
     "text": [
      "\r",
      "  Downloading astropy-1.0.3.tar.gz (7.6MB):   9%  737kB\r",
      "  Downloading astropy-1.0.3.tar.gz (7.6MB):   9%  741kB\r",
      "  Downloading astropy-1.0.3.tar.gz (7.6MB):   9%  745kB\r",
      "  Downloading astropy-1.0.3.tar.gz (7.6MB):   9%  749kB\r",
      "  Downloading astropy-1.0.3.tar.gz (7.6MB):   9%  753kB\r",
      "  Downloading astropy-1.0.3.tar.gz (7.6MB):   9%  757kB\r",
      "  Downloading astropy-1.0.3.tar.gz (7.6MB):   9%  761kB\r",
      "  Downloading astropy-1.0.3.tar.gz (7.6MB):  10%  765kB\r",
      "  Downloading astropy-1.0.3.tar.gz (7.6MB):  10%  770kB\r",
      "  Downloading astropy-1.0.3.tar.gz (7.6MB):  10%  774kB\r",
      "  Downloading astropy-1.0.3.tar.gz (7.6MB):  10%  778kB\r",
      "  Downloading astropy-1.0.3.tar.gz (7.6MB):  10%  782kB\r",
      "  Downloading astropy-1.0.3.tar.gz (7.6MB):  10%  786kB\r",
      "  Downloading astropy-1.0.3.tar.gz (7.6MB):  10%  790kB\r",
      "  Downloading astropy-1.0.3.tar.gz (7.6MB):  10%  794kB\r",
      "  Downloading astropy-1.0.3.tar.gz (7.6MB):  10%  798kB\r",
      "  Downloading astropy-1.0.3.tar.gz (7.6MB):  10%  802kB\r",
      "  Downloading astropy-1.0.3.tar.gz (7.6MB):  10%  806kB\r",
      "  Downloading astropy-1.0.3.tar.gz (7.6MB):  10%  811kB\r",
      "  Downloading astropy-1.0.3.tar.gz (7.6MB):  10%  815kB\r",
      "  Downloading astropy-1.0.3.tar.gz (7.6MB):  10%  819kB\r",
      "  Downloading astropy-1.0.3.tar.gz (7.6MB):  10%  823kB\r",
      "  Downloading astropy-1.0.3.tar.gz (7.6MB):  10%  827kB\r",
      "  Downloading astropy-1.0.3.tar.gz (7.6MB):  10%  831kB\r",
      "  Downloading astropy-1.0.3.tar.gz (7.6MB):  10%  835kB\r",
      "  Downloading astropy-1.0.3.tar.gz (7.6MB):  11%  839kB\r",
      "  Downloading astropy-1.0.3.tar.gz (7.6MB):  11%  843kB\r",
      "  Downloading astropy-1.0.3.tar.gz (7.6MB):  11%  847kB\r",
      "  Downloading astropy-1.0.3.tar.gz (7.6MB):  11%  851kB\r",
      "  Downloading astropy-1.0.3.tar.gz (7.6MB):  11%  856kB\r",
      "  Downloading astropy-1.0.3.tar.gz (7.6MB):  11%  860kB\r",
      "  Downloading astropy-1.0.3.tar.gz (7.6MB):  11%  864kB"
     ]
    },
    {
     "name": "stdout",
     "output_type": "stream",
     "text": [
      "\r",
      "  Downloading astropy-1.0.3.tar.gz (7.6MB):   9%  688kB\r",
      "  Downloading astropy-1.0.3.tar.gz (7.6MB):   9%  692kB\r",
      "  Downloading astropy-1.0.3.tar.gz (7.6MB):   9%  696kB\r",
      "  Downloading astropy-1.0.3.tar.gz (7.6MB):   9%  700kB\r",
      "  Downloading astropy-1.0.3.tar.gz (7.6MB):   9%  704kB\r",
      "  Downloading astropy-1.0.3.tar.gz (7.6MB):   9%  708kB\r",
      "  Downloading astropy-1.0.3.tar.gz (7.6MB):   9%  712kB\r",
      "  Downloading astropy-1.0.3.tar.gz (7.6MB):   9%  716kB\r",
      "  Downloading astropy-1.0.3.tar.gz (7.6MB):   9%  720kB\r",
      "  Downloading astropy-1.0.3.tar.gz (7.6MB):   9%  724kB\r",
      "  Downloading astropy-1.0.3.tar.gz (7.6MB):   9%  729kB\r",
      "  Downloading astropy-1.0.3.tar.gz (7.6MB):   9%  733kB"
     ]
    },
    {
     "name": "stdout",
     "output_type": "stream",
     "text": [
      "\r",
      "  Downloading astropy-1.0.3.tar.gz (7.6MB):   7%  557kB\r",
      "  Downloading astropy-1.0.3.tar.gz (7.6MB):   7%  561kB\r",
      "  Downloading astropy-1.0.3.tar.gz (7.6MB):   7%  565kB\r",
      "  Downloading astropy-1.0.3.tar.gz (7.6MB):   7%  569kB\r",
      "  Downloading astropy-1.0.3.tar.gz (7.6MB):   7%  573kB\r",
      "  Downloading astropy-1.0.3.tar.gz (7.6MB):   7%  577kB\r",
      "  Downloading astropy-1.0.3.tar.gz (7.6MB):   7%  581kB\r",
      "  Downloading astropy-1.0.3.tar.gz (7.6MB):   7%  585kB\r",
      "  Downloading astropy-1.0.3.tar.gz (7.6MB):   7%  589kB\r",
      "  Downloading astropy-1.0.3.tar.gz (7.6MB):   7%  593kB\r",
      "  Downloading astropy-1.0.3.tar.gz (7.6MB):   7%  598kB\r",
      "  Downloading astropy-1.0.3.tar.gz (7.6MB):   7%  602kB\r",
      "  Downloading astropy-1.0.3.tar.gz (7.6MB):   7%  606kB\r",
      "  Downloading astropy-1.0.3.tar.gz (7.6MB):   8%  610kB\r",
      "  Downloading astropy-1.0.3.tar.gz (7.6MB):   8%  614kB\r",
      "  Downloading astropy-1.0.3.tar.gz (7.6MB):   8%  618kB\r",
      "  Downloading astropy-1.0.3.tar.gz (7.6MB):   8%  622kB\r",
      "  Downloading astropy-1.0.3.tar.gz (7.6MB):   8%  626kB\r",
      "  Downloading astropy-1.0.3.tar.gz (7.6MB):   8%  630kB\r",
      "  Downloading astropy-1.0.3.tar.gz (7.6MB):   8%  634kB\r",
      "  Downloading astropy-1.0.3.tar.gz (7.6MB):   8%  638kB\r",
      "  Downloading astropy-1.0.3.tar.gz (7.6MB):   8%  643kB\r",
      "  Downloading astropy-1.0.3.tar.gz (7.6MB):   8%  647kB\r",
      "  Downloading astropy-1.0.3.tar.gz (7.6MB):   8%  651kB\r",
      "  Downloading astropy-1.0.3.tar.gz (7.6MB):   8%  655kB\r",
      "  Downloading astropy-1.0.3.tar.gz (7.6MB):   8%  659kB\r",
      "  Downloading astropy-1.0.3.tar.gz (7.6MB):   8%  663kB\r",
      "  Downloading astropy-1.0.3.tar.gz (7.6MB):   8%  667kB\r",
      "  Downloading astropy-1.0.3.tar.gz (7.6MB):   8%  671kB\r",
      "  Downloading astropy-1.0.3.tar.gz (7.6MB):   8%  675kB\r",
      "  Downloading astropy-1.0.3.tar.gz (7.6MB):   8%  679kB\r",
      "  Downloading astropy-1.0.3.tar.gz (7.6MB):   8%  684kB"
     ]
    },
    {
     "name": "stdout",
     "output_type": "stream",
     "text": [
      "\r",
      "  Downloading astropy-1.0.3.tar.gz (7.6MB):   5%  425kB\r",
      "  Downloading astropy-1.0.3.tar.gz (7.6MB):   5%  430kB\r",
      "  Downloading astropy-1.0.3.tar.gz (7.6MB):   5%  434kB\r",
      "  Downloading astropy-1.0.3.tar.gz (7.6MB):   5%  438kB\r",
      "  Downloading astropy-1.0.3.tar.gz (7.6MB):   5%  442kB\r",
      "  Downloading astropy-1.0.3.tar.gz (7.6MB):   5%  446kB\r",
      "  Downloading astropy-1.0.3.tar.gz (7.6MB):   5%  450kB\r",
      "  Downloading astropy-1.0.3.tar.gz (7.6MB):   5%  454kB\r",
      "  Downloading astropy-1.0.3.tar.gz (7.6MB):   6%  458kB\r",
      "  Downloading astropy-1.0.3.tar.gz (7.6MB):   6%  462kB\r",
      "  Downloading astropy-1.0.3.tar.gz (7.6MB):   6%  466kB\r",
      "  Downloading astropy-1.0.3.tar.gz (7.6MB):   6%  471kB\r",
      "  Downloading astropy-1.0.3.tar.gz (7.6MB):   6%  475kB\r",
      "  Downloading astropy-1.0.3.tar.gz (7.6MB):   6%  479kB\r",
      "  Downloading astropy-1.0.3.tar.gz (7.6MB):   6%  483kB\r",
      "  Downloading astropy-1.0.3.tar.gz (7.6MB):   6%  487kB\r",
      "  Downloading astropy-1.0.3.tar.gz (7.6MB):   6%  491kB\r",
      "  Downloading astropy-1.0.3.tar.gz (7.6MB):   6%  495kB\r",
      "  Downloading astropy-1.0.3.tar.gz (7.6MB):   6%  499kB\r",
      "  Downloading astropy-1.0.3.tar.gz (7.6MB):   6%  503kB\r",
      "  Downloading astropy-1.0.3.tar.gz (7.6MB):   6%  507kB\r",
      "  Downloading astropy-1.0.3.tar.gz (7.6MB):   6%  512kB\r",
      "  Downloading astropy-1.0.3.tar.gz (7.6MB):   6%  516kB\r",
      "  Downloading astropy-1.0.3.tar.gz (7.6MB):   6%  520kB\r",
      "  Downloading astropy-1.0.3.tar.gz (7.6MB):   6%  524kB\r",
      "  Downloading astropy-1.0.3.tar.gz (7.6MB):   6%  528kB\r",
      "  Downloading astropy-1.0.3.tar.gz (7.6MB):   6%  532kB\r",
      "  Downloading astropy-1.0.3.tar.gz (7.6MB):   7%  536kB\r",
      "  Downloading astropy-1.0.3.tar.gz (7.6MB):   7%  540kB\r",
      "  Downloading astropy-1.0.3.tar.gz (7.6MB):   7%  544kB\r",
      "  Downloading astropy-1.0.3.tar.gz (7.6MB):   7%  548kB\r",
      "  Downloading astropy-1.0.3.tar.gz (7.6MB):   7%  552kB"
     ]
    },
    {
     "name": "stdout",
     "output_type": "stream",
     "text": [
      "\r",
      "  Downloading astropy-1.0.3.tar.gz (7.6MB):   4%  327kB\r",
      "  Downloading astropy-1.0.3.tar.gz (7.6MB):   4%  331kB\r",
      "  Downloading astropy-1.0.3.tar.gz (7.6MB):   4%  335kB\r",
      "  Downloading astropy-1.0.3.tar.gz (7.6MB):   4%  339kB\r",
      "  Downloading astropy-1.0.3.tar.gz (7.6MB):   4%  344kB\r",
      "  Downloading astropy-1.0.3.tar.gz (7.6MB):   4%  348kB\r",
      "  Downloading astropy-1.0.3.tar.gz (7.6MB):   4%  352kB\r",
      "  Downloading astropy-1.0.3.tar.gz (7.6MB):   4%  356kB\r",
      "  Downloading astropy-1.0.3.tar.gz (7.6MB):   4%  360kB\r",
      "  Downloading astropy-1.0.3.tar.gz (7.6MB):   4%  364kB\r",
      "  Downloading astropy-1.0.3.tar.gz (7.6MB):   4%  368kB\r",
      "  Downloading astropy-1.0.3.tar.gz (7.6MB):   4%  372kB\r",
      "  Downloading astropy-1.0.3.tar.gz (7.6MB):   4%  376kB\r",
      "  Downloading astropy-1.0.3.tar.gz (7.6MB):   4%  380kB\r",
      "  Downloading astropy-1.0.3.tar.gz (7.6MB):   5%  385kB\r",
      "  Downloading astropy-1.0.3.tar.gz (7.6MB):   5%  389kB\r",
      "  Downloading astropy-1.0.3.tar.gz (7.6MB):   5%  393kB\r",
      "  Downloading astropy-1.0.3.tar.gz (7.6MB):   5%  397kB\r",
      "  Downloading astropy-1.0.3.tar.gz (7.6MB):   5%  401kB\r",
      "  Downloading astropy-1.0.3.tar.gz (7.6MB):   5%  405kB\r",
      "  Downloading astropy-1.0.3.tar.gz (7.6MB):   5%  409kB\r",
      "  Downloading astropy-1.0.3.tar.gz (7.6MB):   5%  413kB\r",
      "  Downloading astropy-1.0.3.tar.gz (7.6MB):   5%  417kB\r",
      "  Downloading astropy-1.0.3.tar.gz (7.6MB):   5%  421kB"
     ]
    },
    {
     "name": "stdout",
     "output_type": "stream",
     "text": [
      "\r",
      "  Downloading astropy-1.0.3.tar.gz (7.6MB):   3%  262kB\r",
      "  Downloading astropy-1.0.3.tar.gz (7.6MB):   3%  266kB\r",
      "  Downloading astropy-1.0.3.tar.gz (7.6MB):   3%  270kB\r",
      "  Downloading astropy-1.0.3.tar.gz (7.6MB):   3%  274kB\r",
      "  Downloading astropy-1.0.3.tar.gz (7.6MB):   3%  278kB\r",
      "  Downloading astropy-1.0.3.tar.gz (7.6MB):   3%  282kB\r",
      "  Downloading astropy-1.0.3.tar.gz (7.6MB):   3%  286kB\r",
      "  Downloading astropy-1.0.3.tar.gz (7.6MB):   3%  290kB\r",
      "  Downloading astropy-1.0.3.tar.gz (7.6MB):   3%  294kB\r",
      "  Downloading astropy-1.0.3.tar.gz (7.6MB):   3%  299kB\r",
      "  Downloading astropy-1.0.3.tar.gz (7.6MB):   3%  303kB\r",
      "  Downloading astropy-1.0.3.tar.gz (7.6MB):   4%  307kB\r",
      "  Downloading astropy-1.0.3.tar.gz (7.6MB):   4%  311kB\r",
      "  Downloading astropy-1.0.3.tar.gz (7.6MB):   4%  315kB\r",
      "  Downloading astropy-1.0.3.tar.gz (7.6MB):   4%  319kB\r",
      "  Downloading astropy-1.0.3.tar.gz (7.6MB):   4%  323kB"
     ]
    },
    {
     "name": "stdout",
     "output_type": "stream",
     "text": [
      "\r",
      "  Downloading astropy-1.0.3.tar.gz (7.6MB):   2%  163kB\r",
      "  Downloading astropy-1.0.3.tar.gz (7.6MB):   2%  167kB\r",
      "  Downloading astropy-1.0.3.tar.gz (7.6MB):   2%  172kB\r",
      "  Downloading astropy-1.0.3.tar.gz (7.6MB):   2%  176kB\r",
      "  Downloading astropy-1.0.3.tar.gz (7.6MB):   2%  180kB\r",
      "  Downloading astropy-1.0.3.tar.gz (7.6MB):   2%  184kB\r",
      "  Downloading astropy-1.0.3.tar.gz (7.6MB):   2%  188kB\r",
      "  Downloading astropy-1.0.3.tar.gz (7.6MB):   2%  192kB\r",
      "  Downloading astropy-1.0.3.tar.gz (7.6MB):   2%  196kB\r",
      "  Downloading astropy-1.0.3.tar.gz (7.6MB):   2%  200kB\r",
      "  Downloading astropy-1.0.3.tar.gz (7.6MB):   2%  204kB\r",
      "  Downloading astropy-1.0.3.tar.gz (7.6MB):   2%  208kB\r",
      "  Downloading astropy-1.0.3.tar.gz (7.6MB):   2%  212kB\r",
      "  Downloading astropy-1.0.3.tar.gz (7.6MB):   2%  217kB\r",
      "  Downloading astropy-1.0.3.tar.gz (7.6MB):   2%  221kB\r",
      "  Downloading astropy-1.0.3.tar.gz (7.6MB):   2%  225kB\r",
      "  Downloading astropy-1.0.3.tar.gz (7.6MB):   3%  229kB\r",
      "  Downloading astropy-1.0.3.tar.gz (7.6MB):   3%  233kB\r",
      "  Downloading astropy-1.0.3.tar.gz (7.6MB):   3%  237kB\r",
      "  Downloading astropy-1.0.3.tar.gz (7.6MB):   3%  241kB\r",
      "  Downloading astropy-1.0.3.tar.gz (7.6MB):   3%  245kB\r",
      "  Downloading astropy-1.0.3.tar.gz (7.6MB):   3%  249kB\r",
      "  Downloading astropy-1.0.3.tar.gz (7.6MB):   3%  253kB\r",
      "  Downloading astropy-1.0.3.tar.gz (7.6MB):   3%  258kB"
     ]
    },
    {
     "name": "stdout",
     "output_type": "stream",
     "text": [
      "\r",
      "  Downloading astropy-1.0.3.tar.gz (7.6MB):   1%  98kB\r",
      "  Downloading astropy-1.0.3.tar.gz (7.6MB):   1%  102kB\r",
      "  Downloading astropy-1.0.3.tar.gz (7.6MB):   1%  106kB\r",
      "  Downloading astropy-1.0.3.tar.gz (7.6MB):   1%  110kB\r",
      "  Downloading astropy-1.0.3.tar.gz (7.6MB):   1%  114kB\r",
      "  Downloading astropy-1.0.3.tar.gz (7.6MB):   1%  118kB\r",
      "  Downloading astropy-1.0.3.tar.gz (7.6MB):   1%  122kB\r",
      "  Downloading astropy-1.0.3.tar.gz (7.6MB):   1%  126kB\r",
      "  Downloading astropy-1.0.3.tar.gz (7.6MB):   1%  131kB\r",
      "  Downloading astropy-1.0.3.tar.gz (7.6MB):   1%  135kB\r",
      "  Downloading astropy-1.0.3.tar.gz (7.6MB):   1%  139kB\r",
      "  Downloading astropy-1.0.3.tar.gz (7.6MB):   1%  143kB\r",
      "  Downloading astropy-1.0.3.tar.gz (7.6MB):   1%  147kB\r",
      "  Downloading astropy-1.0.3.tar.gz (7.6MB):   1%  151kB\r",
      "  Downloading astropy-1.0.3.tar.gz (7.6MB):   2%  155kB\r",
      "  Downloading astropy-1.0.3.tar.gz (7.6MB):   2%  159kB"
     ]
    },
    {
     "name": "stdout",
     "output_type": "stream",
     "text": [
      "\r",
      "  Downloading astropy-1.0.3.tar.gz (7.6MB):   0%  32kB\r",
      "  Downloading astropy-1.0.3.tar.gz (7.6MB):   0%  36kB\r",
      "  Downloading astropy-1.0.3.tar.gz (7.6MB):   0%  40kB\r",
      "  Downloading astropy-1.0.3.tar.gz (7.6MB):   0%  45kB\r",
      "  Downloading astropy-1.0.3.tar.gz (7.6MB):   0%  49kB\r",
      "  Downloading astropy-1.0.3.tar.gz (7.6MB):   0%  53kB\r",
      "  Downloading astropy-1.0.3.tar.gz (7.6MB):   0%  57kB\r",
      "  Downloading astropy-1.0.3.tar.gz (7.6MB):   0%  61kB\r",
      "  Downloading astropy-1.0.3.tar.gz (7.6MB):   0%  65kB\r",
      "  Downloading astropy-1.0.3.tar.gz (7.6MB):   0%  69kB\r",
      "  Downloading astropy-1.0.3.tar.gz (7.6MB):   0%  73kB\r",
      "  Downloading astropy-1.0.3.tar.gz (7.6MB):   1%  77kB\r",
      "  Downloading astropy-1.0.3.tar.gz (7.6MB):   1%  81kB\r",
      "  Downloading astropy-1.0.3.tar.gz (7.6MB):   1%  86kB\r",
      "  Downloading astropy-1.0.3.tar.gz (7.6MB):   1%  90kB\r",
      "  Downloading astropy-1.0.3.tar.gz (7.6MB):   1%  94kB"
     ]
    },
    {
     "name": "stdout",
     "output_type": "stream",
     "text": [
      "\r",
      "  Downloading astropy-1.0.3.tar.gz (7.6MB):   0%  16kB\r",
      "  Downloading astropy-1.0.3.tar.gz (7.6MB):   0%  20kB\r",
      "  Downloading astropy-1.0.3.tar.gz (7.6MB):   0%  24kB\r",
      "  Downloading astropy-1.0.3.tar.gz (7.6MB):   0%  28kB"
     ]
    },
    {
     "name": "stdout",
     "output_type": "stream",
     "text": [
      "  Downloading astropy-1.0.3.tar.gz (7.6MB): \r",
      "  Downloading astropy-1.0.3.tar.gz (7.6MB):   0%  4.1kB\r",
      "  Downloading astropy-1.0.3.tar.gz (7.6MB):   0%  8.2kB\r",
      "  Downloading astropy-1.0.3.tar.gz (7.6MB):   0%  12kB "
     ]
    },
    {
     "name": "stdout",
     "output_type": "stream",
     "text": [
      "Downloading/unpacking astropy\r\n"
     ]
    }
   ],
   "source": [
    "# magic \n",
    "!pip install astropy"
   ]
  },
  {
   "cell_type": "code",
   "execution_count": 3,
   "metadata": {
    "collapsed": false
   },
   "outputs": [],
   "source": [
    "import astropy\n",
    "\n"
   ]
  }
 ],
 "metadata": {
  "name": "jupyter-venus-the-moon-and-gibbs-hill-weather.ipynb"
 },
 "nbformat": 4,
 "nbformat_minor": 0
}
