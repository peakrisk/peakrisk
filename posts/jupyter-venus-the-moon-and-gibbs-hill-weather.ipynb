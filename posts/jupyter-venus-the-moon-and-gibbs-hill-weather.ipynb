{
 "cells": [
  {
   "cell_type": "code",
   "execution_count": 8,
   "metadata": {
    "collapsed": false
   },
   "outputs": [],
   "source": [
    "# magic \n",
    "#!pip install astropy"
   ]
  },
  {
   "cell_type": "code",
   "execution_count": 3,
   "metadata": {
    "collapsed": false
   },
   "outputs": [],
   "source": [
    "import astropy\n",
    "\n"
   ]
  },
  {
   "cell_type": "code",
   "execution_count": 6,
   "metadata": {
    "collapsed": false
   },
   "outputs": [
    {
     "data": {
      "text/plain": [
       "'27fb98c9d0a549556cb9f13f3df4a9d309e5a7ca'"
      ]
     },
     "execution_count": 6,
     "metadata": {},
     "output_type": "execute_result"
    }
   ],
   "source": [
    "astropy.__githash__"
   ]
  }
 ],
 "metadata": {
  "name": "jupyter-venus-the-moon-and-gibbs-hill-weather.ipynb"
 },
 "nbformat": 4,
 "nbformat_minor": 0
}
