{
 "cells": [
  {
   "cell_type": "markdown",
   "metadata": {
    "collapsed": true,
    "tags": [
     "worksheet-0"
    ]
   },
   "source": [
    "Simple quick update latest weather"
   ]
  },
  {
   "cell_type": "code",
   "execution_count": 1,
   "metadata": {
    "collapsed": false,
    "tags": [
     "worksheet-0"
    ]
   },
   "outputs": [],
   "source": [
    "# Tell matplotlib to plot in line\n",
    "%matplotlib inline\n",
    "\n",
    "# import pandas\n",
    "import pandas\n",
    "\n",
    "# seaborn magically adds a layer of goodness on top of Matplotlib\n",
    "# mostly this is just changing matplotlib defaults, but it does also\n",
    "# provide some higher level plotting methods.\n",
    "import seaborn\n",
    "\n",
    "# Tell seaborn to set things up\n",
    "seaborn.set()\n"
   ]
  },
  {
   "cell_type": "code",
   "execution_count": 2,
   "metadata": {
    "collapsed": false,
    "tags": [
     "worksheet-0"
    ]
   },
   "outputs": [
    {
     "name": "stdout",
     "output_type": "stream",
     "text": [
      "\r",
      "weather.csv                                     0%    0     0.0KB/s   --:-- ETA\r",
      "weather.csv                                   100%  378     0.4KB/s   00:00    \r\n"
     ]
    }
   ],
   "source": [
    "infile = \"../files/weather.csv\"\n",
    "\n",
    "!scp 192.168.0.127:Adafruit_Python_BMP/weather.csv ../files"
   ]
  },
  {
   "cell_type": "code",
   "execution_count": 3,
   "metadata": {
    "collapsed": false,
    "tags": [
     "worksheet-0"
    ]
   },
   "outputs": [],
   "source": [
    "\"\"\" assume it is csv and let pandas do magic\n",
    "\n",
    "  index_col tells it to use the 'date' column in the data\n",
    "  as the row index, plotting picks up on this and uses the\n",
    "  date on the x-axis\n",
    "\n",
    "  The *parse_dates* bit just tells it to try and figure out\n",
    "  the date/time in the columne labeled 'date'.\n",
    "\"\"\"\n",
    "data = pandas.read_csv(infile, index_col='date', parse_dates=['date'])\n"
   ]
  },
  {
   "cell_type": "code",
   "execution_count": 10,
   "metadata": {
    "collapsed": false,
    "tags": [
     "worksheet-0"
    ]
   },
   "outputs": [
    {
     "data": {
      "text/plain": [
       "<matplotlib.figure.Figure at 0x7f64e1ac0470>"
      ]
     },
     "metadata": {},
     "output_type": "display_data"
    },
    {
     "data": {
      "text/plain": [
       "array([<matplotlib.axes._subplots.AxesSubplot object at 0x7f64e1ccfda0>,\n       <matplotlib.axes._subplots.AxesSubplot object at 0x7f64e1aa60b8>,\n       <matplotlib.axes._subplots.AxesSubplot object at 0x7f64e1a73048>], dtype=object)"
      ]
     },
     "execution_count": 10,
     "metadata": {},
     "output_type": "execute_result"
    }
   ],
   "source": [
    "data[['temp', 'altitude', 'humidity']].plot(subplots=True)"
   ]
  },
  {
   "cell_type": "code",
   "execution_count": 7,
   "metadata": {
    "collapsed": false,
    "tags": [
     "worksheet-0"
    ]
   },
   "outputs": [
    {
     "data": {
      "text/plain": [
       "            temp       pressure  altitude  sealevel_pressure   humidity  \\\ncount   3.000000       3.000000  3.000000           3.000000   3.000000   \nmean   30.266667  101381.000000 -4.799903      101381.333333  61.733332   \nstd     0.057735       5.291503  0.508464           5.033223   0.115470   \nmin    30.200000  101375.000000 -5.243722      101376.000000  61.599998   \n25%    30.250000  101379.000000 -5.077294      101379.000000  61.699999   \n50%    30.300000  101383.000000 -4.910866      101382.000000  61.799999   \n75%    30.300000  101384.000000 -4.577993      101384.000000  61.799999   \nmax    30.300000  101385.000000 -4.245121      101386.000000  61.799999   \n\n        temp_dht  \ncount   3.000000  \nmean   30.166667  \nstd     0.057735  \nmin    30.100000  \n25%    30.150001  \n50%    30.200001  \n75%    30.200001  \nmax    30.200001  "
      ]
     },
     "execution_count": 7,
     "metadata": {},
     "output_type": "execute_result"
    }
   ],
   "source": [
    "data.describe()"
   ]
  },
  {
   "cell_type": "code",
   "execution_count": 11,
   "metadata": {
    "collapsed": false,
    "tags": [
     "worksheet-0"
    ]
   },
   "outputs": [
    {
     "data": {
      "text/plain": [
       "<matplotlib.figure.Figure at 0x7f64e1d25d30>"
      ]
     },
     "metadata": {},
     "output_type": "display_data"
    },
    {
     "data": {
      "text/plain": [
       "<matplotlib.axes._subplots.AxesSubplot at 0x7f64e19c7dd8>"
      ]
     },
     "execution_count": 11,
     "metadata": {},
     "output_type": "execute_result"
    }
   ],
   "source": [
    "data[['temp', 'temp_dht']].plot()"
   ]
  }
 ],
 "metadata": {
  "kernelspec": {
   "display_name": "Python 3",
   "language": "python",
   "name": "python3"
  },
  "language_info": {
   "codemirror_mode": {
    "name": "ipython",
    "version": 3
   },
   "file_extension": ".py",
   "mimetype": "text/x-python",
   "name": "python",
   "nbconvert_exporter": "python",
   "pygments_lexer": "ipython3",
   "version": "3.4.3"
  },
  "name": "Latest Weather.ipynb"
 },
 "nbformat": 4,
 "nbformat_minor": 0
}
