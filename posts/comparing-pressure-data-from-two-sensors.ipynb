{
 "cells": [
  {
   "cell_type": "markdown",
   "metadata": {
    "collapsed": true,
    "tags": [
     "worksheet-0"
    ]
   },
   "source": [
    "I have had two simple raspberry pi weather stations running for a while now.\n",
    "\n",
    "Both have pressure, temperature and humidity sensors.\n",
    "\n",
    "One I have in the *carefully controlled environment* of my study, the\n",
    "other is hanging out of the window.\n",
    "\n",
    "The study one is known as *pijessie* as it started life as a Raspberry\n",
    "Pi running the Jessie version of Raspbian.\n",
    "\n",
    "The outside station is known as *kittycam* as I intend at some point\n",
    "to attach a camera so I can watch our cat come and go.\n",
    "\n",
    "For a while I have been noticing that the pressure values have been\n",
    "quite a way apart.  The software I am includes a conversion to\n",
    "altitude and I find these numbers more natural for me to think about.\n",
    "\n",
    "The altitude conversion assumes the pressure at sea level is 1023.25\n",
    "hPa, which is the mean pressure at sea level.\n",
    "\n",
    "When the pressure is higher than this the altitude comes out below sea\n",
    "level, when pressure is lower than this above sea level.\n",
    "\n",
    "As always, Wikipedia has good information on this:\n",
    "https://en.wikipedia.org/wiki/Atmospheric_pressure\n",
    "\n",
    "For a while I had been noticing the two sensors giving values\n",
    "differing by about 10 metres altitude.\n",
    "\n",
    "I had put this down to the sensors not being calibrated accurately,\n",
    "but also noticed that kittycam was more prone to weird glitches.\n",
    "\n",
    "Now the glitches I put down to the fact I have one process collecting\n",
    "data every minute and another process creating a display on my laptop\n",
    "so I can glance over and see what the weather is doing.  The latter\n",
    "was just polling the sensor every 10 minutes.\n",
    "\n",
    "The code does not do anything smart like get a lock and my guess was\n",
    "that the two processes were occasionally trampling on each other's feet.\n",
    "\n",
    "Long story short, I decided to take a closer look."
   ]
  },
  {
   "cell_type": "code",
   "execution_count": 1,
   "metadata": {
    "collapsed": false,
    "tags": [
     "worksheet-0"
    ]
   },
   "outputs": [],
   "source": [
    "# Tell matplotlib to plot in line\n",
    "%matplotlib inline\n",
    "\n",
    "import datetime\n",
    "\n",
    "# import pandas\n",
    "import pandas\n",
    "\n",
    "# seaborn magically adds a layer of goodness on top of Matplotlib\n",
    "# mostly this is just changing matplotlib defaults, but it does also\n",
    "# provide some higher level plotting methods.\n",
    "import seaborn\n",
    "\n",
    "# Tell seaborn to set things up\n",
    "seaborn.set()\n"
   ]
  },
  {
   "cell_type": "code",
   "execution_count": 2,
   "metadata": {
    "collapsed": false,
    "tags": [
     "worksheet-0"
    ]
   },
   "outputs": [],
   "source": [
    "# input files: the data from the two sensors\n",
    "infiles = [\"../files/kittycam_weather.csv\", \"../files/pijessie_weather.csv\"]\n"
   ]
  },
  {
   "cell_type": "code",
   "execution_count": 3,
   "metadata": {
    "collapsed": false,
    "tags": [
     "worksheet-0"
    ]
   },
   "outputs": [],
   "source": [
    "# Read the data\n",
    "\n",
    "data = []\n",
    "\n",
    "for infile in infiles:\n",
    "    data.append(pandas.read_csv(infile, index_col='date', parse_dates=['date']))\n"
   ]
  },
  {
   "cell_type": "code",
   "execution_count": 4,
   "metadata": {
    "collapsed": false,
    "tags": [
     "worksheet-0"
    ]
   },
   "outputs": [
    {
     "data": {
      "text/plain": [
       "               temp       pressure      altitude  sealevel_pressure  \\\ncount  42768.000000   42768.000000  42768.000000       42768.000000   \nmean      28.114357  101385.375842     -5.068642      101387.094487   \nstd        2.205370     430.276252     36.334073         409.738250   \nmin       22.800000   56117.000000  -1314.018026       67136.000000   \n25%       26.500000  101141.750000    -26.939647      101142.000000   \n50%       27.700000  101411.000000     -7.157439      101412.000000   \n75%       29.900000  101648.000000     15.246750      101649.000000   \nmax       43.200000  102242.000000   3397.334521      118353.000000   \n\n           humidity      temp_dht  \ncount  42764.000000  42764.000000  \nmean      76.806599     27.730374  \nstd        8.512122      2.068583  \nmin       29.500000     22.299999  \n25%       71.599998     26.200001  \n50%       77.099998     27.400000  \n75%       83.500000     29.299999  \nmax       94.300003     47.099998  "
      ]
     },
     "execution_count": 4,
     "metadata": {},
     "output_type": "execute_result"
    }
   ],
   "source": [
    "# take a look at what we got\n",
    "data[0].describe()"
   ]
  },
  {
   "cell_type": "code",
   "execution_count": 5,
   "metadata": {
    "collapsed": false,
    "tags": [
     "worksheet-0"
    ]
   },
   "outputs": [
    {
     "data": {
      "text/plain": [
       "<matplotlib.figure.Figure at 0x7fedb6cd9eb8>"
      ]
     },
     "metadata": {},
     "output_type": "display_data"
    },
    {
     "data": {
      "text/plain": [
       "array([<matplotlib.axes._subplots.AxesSubplot object at 0x7fedb5fa2668>,\n       <matplotlib.axes._subplots.AxesSubplot object at 0x7fedb606f7b8>,\n       <matplotlib.axes._subplots.AxesSubplot object at 0x7fedb65b7da0>,\n       <matplotlib.axes._subplots.AxesSubplot object at 0x7fedb6575cc0>,\n       <matplotlib.axes._subplots.AxesSubplot object at 0x7fedb65412e8>,\n       <matplotlib.axes._subplots.AxesSubplot object at 0x7fedb64ffe10>], dtype=object)"
      ]
     },
     "execution_count": 5,
     "metadata": {},
     "output_type": "execute_result"
    }
   ],
   "source": [
    "# plots are always good \n",
    "\n",
    "data[0].plot(subplots=True)"
   ]
  },
  {
   "cell_type": "markdown",
   "metadata": {
    "collapsed": true,
    "tags": [
     "worksheet-0"
    ]
   },
   "source": [
    "Now the two sets of data have different indices since the processes\n",
    "collecting the data are not in sync.\n",
    "\n",
    "So we need to align the data and then fill in missing values"
   ]
  },
  {
   "cell_type": "code",
   "execution_count": 6,
   "metadata": {
    "collapsed": false,
    "tags": [
     "worksheet-0"
    ]
   },
   "outputs": [],
   "source": [
    "# align returns two new dataframes, now aligned\n",
    "d1, d2 = data[0].align(data[1])"
   ]
  },
  {
   "cell_type": "code",
   "execution_count": 7,
   "metadata": {
    "collapsed": false,
    "tags": [
     "worksheet-0"
    ]
   },
   "outputs": [
    {
     "data": {
      "text/plain": [
       "               temp       pressure      altitude  sealevel_pressure  \\\ncount  42768.000000   42768.000000  42768.000000       42768.000000   \nmean      28.114357  101385.375842     -5.068642      101387.094487   \nstd        2.205370     430.276252     36.334073         409.738250   \nmin       22.800000   56117.000000  -1314.018026       67136.000000   \n25%       26.500000  101141.750000    -26.939647      101142.000000   \n50%       27.700000  101411.000000     -7.157439      101412.000000   \n75%       29.900000  101648.000000     15.246750      101649.000000   \nmax       43.200000  102242.000000   3397.334521      118353.000000   \n\n           humidity      temp_dht  \ncount  42764.000000  42764.000000  \nmean      76.806599     27.730374  \nstd        8.512122      2.068583  \nmin       29.500000     22.299999  \n25%       71.599998     26.200001  \n50%       77.099998     27.400000  \n75%       83.500000     29.299999  \nmax       94.300003     47.099998  "
      ]
     },
     "execution_count": 7,
     "metadata": {},
     "output_type": "execute_result"
    }
   ],
   "source": [
    "# have a look, note the count is just the valid data.\n",
    "# Things have been aligned, but missing values are set ton NaN\n",
    "d1.describe()"
   ]
  },
  {
   "cell_type": "code",
   "execution_count": 8,
   "metadata": {
    "collapsed": false,
    "tags": [
     "worksheet-0"
    ]
   },
   "outputs": [],
   "source": [
    "# Use interpolation to fill in the missing values\n",
    "d1 = d1.interpolate(method='time')\n",
    "d2 = d2.interpolate(method='time')\n",
    "\n"
   ]
  },
  {
   "cell_type": "code",
   "execution_count": 9,
   "metadata": {
    "collapsed": false,
    "tags": [
     "worksheet-0"
    ]
   },
   "outputs": [
    {
     "data": {
      "text/plain": [
       "<matplotlib.figure.Figure at 0x7fedb5ed3710>"
      ]
     },
     "metadata": {},
     "output_type": "display_data"
    },
    {
     "name": "stdout",
     "output_type": "stream",
     "text": [
      "80476\n"
     ]
    }
   ],
   "source": [
    "# Now plot\n",
    "d1.altitude.plot()\n",
    "print(len(d1))"
   ]
  },
  {
   "cell_type": "code",
   "execution_count": 10,
   "metadata": {
    "collapsed": false,
    "tags": [
     "worksheet-0"
    ]
   },
   "outputs": [],
   "source": [
    "# For convenience, add a new series to d1 with the altitude data from d2\n",
    "d1['altitude2'] = d2.altitude"
   ]
  },
  {
   "cell_type": "code",
   "execution_count": 11,
   "metadata": {
    "collapsed": false,
    "tags": [
     "worksheet-0"
    ]
   },
   "outputs": [
    {
     "data": {
      "text/plain": [
       "<matplotlib.figure.Figure at 0x7fedb5b5fc88>"
      ]
     },
     "metadata": {},
     "output_type": "display_data"
    },
    {
     "data": {
      "text/plain": [
       "<matplotlib.axes._subplots.AxesSubplot at 0x7fedb5c4acc0>"
      ]
     },
     "execution_count": 11,
     "metadata": {},
     "output_type": "execute_result"
    }
   ],
   "source": [
    "# Now plot the two\n",
    "d1[['altitude', 'altitude2']][10000:30000].clip(-60,60).plot()"
   ]
  },
  {
   "cell_type": "code",
   "execution_count": 12,
   "metadata": {
    "collapsed": false,
    "tags": [
     "worksheet-0"
    ]
   },
   "outputs": [
    {
     "data": {
      "text/plain": [
       "<matplotlib.figure.Figure at 0x7fedb64d4208>"
      ]
     },
     "metadata": {},
     "output_type": "display_data"
    },
    {
     "data": {
      "text/plain": [
       "<matplotlib.axes._subplots.AxesSubplot at 0x7fedb5fd6c50>"
      ]
     },
     "execution_count": 12,
     "metadata": {},
     "output_type": "execute_result"
    }
   ],
   "source": [
    "(d1.altitude - d1.altitude2)[10000:30000].clip(-20,15).plot()"
   ]
  },
  {
   "cell_type": "markdown",
   "metadata": {
    "collapsed": true,
    "tags": [
     "worksheet-0"
    ]
   },
   "source": [
    "So we do have a difference around 5m.  More interestingly, there seems to be some sort of daily pattern to the data."
   ]
  },
  {
   "cell_type": "markdown",
   "metadata": {
    "collapsed": true,
    "tags": [
     "worksheet-0"
    ]
   },
   "source": [
    "## How the BMP180 sensor works\n",
    "\n",
    "The BMP180 pressure sensor includes a temperature sensor.  It also\n",
    "includes a number of constants stored in EPROM for calibration.\n",
    "\n",
    "The raw reading from the pressure sensor gives different values if the\n",
    "pressure stays constant but the temperature varies.\n",
    "\n",
    "The data sheet\n",
    "https://www.adafruit.com/datasheets/BST-BMP180-DS000-09.pdf for the\n",
    "sensor describes the calculations that have to be made to compensate\n",
    "for the temperature.\n",
    "\n",
    "The code below, from the Adafruit code for the sensor implements these\n",
    "calculations."
   ]
  },
  {
   "cell_type": "code",
   "execution_count": 14,
   "metadata": {
    "collapsed": false,
    "tags": [
     "worksheet-0"
    ]
   },
   "outputs": [],
   "source": [
    "class BMP180(object):\n",
    "    def read_pressure(self):\n",
    "        \"\"\"Gets the compensated pressure in Pascals.\"\"\"\n",
    "        UT = self.read_raw_temp()\n",
    "        UP = self.read_raw_pressure()\n",
    "        # Datasheet values for debugging:\n",
    "        #UT = 27898\n",
    "        #UP = 23843\n",
    "        # Calculations below are taken straight from section 3.5 of the datasheet.\n",
    "        # Calculate true temperature coefficient B5.\n",
    "        X1 = ((UT - self.cal_AC6) * self.cal_AC5) >> 15\n",
    "        X2 = (self.cal_MC << 11) / (X1 + self.cal_MD)\n",
    "        B5 = X1 + X2\n",
    "\n",
    "        # Pressure Calculations\n",
    "        B6 = B5 - 4000\n",
    "\n",
    "        X1 = (self.cal_B2 * (B6 * B6) >> 12) >> 11\n",
    "        X2 = (self.cal_AC2 * B6) >> 11\n",
    "        X3 = X1 + X2\n",
    "        B3 = (((self.cal_AC1 * 4 + X3) << self._mode) + 2) / 4\n",
    "\n",
    "        X1 = (self.cal_AC3 * B6) >> 13\n",
    "        X2 = (self.cal_B1 * ((B6 * B6) >> 12)) >> 16\n",
    "        X3 = ((X1 + X2) + 2) >> 2\n",
    "        B4 = (self.cal_AC4 * (X3 + 32768)) >> 15\n",
    "\n",
    "        B7 = (UP - B3) * (50000 >> self._mode)\n",
    "\n",
    "        if B7 < 0x80000000:\n",
    "            p = (B7 * 2) / B4\n",
    "        else:\n",
    "            p = (B7 / B4) * 2\n",
    "        X1 = (p >> 8) * (p >> 8)\n",
    "        X1 = (X1 * 3038) >> 16\n",
    "        X2 = (-7357 * p) >> 16\n",
    "        p = p + ((X1 + X2 + 3791) >> 4)\n",
    "\n",
    "        return p\n",
    "\n",
    "    "
   ]
  },
  {
   "cell_type": "code",
   "execution_count": null,
   "metadata": {
    "collapsed": false,
    "tags": [
     "worksheet-0"
    ]
   },
   "outputs": [],
   "source": [
    "cal = {\n",
    " 'cal_AC1': 7544,\n",
    " 'cal_AC2': -1141,\n",
    " 'cal_AC3': -14468,\n",
    " 'cal_AC4': 33846,\n",
    " 'cal_AC5': 25593,\n",
    " 'cal_AC6': 19416,\n",
    " 'cal_B1': 6515,\n",
    " 'cal_B2': 43,\n",
    " 'cal_MB': -32768,\n",
    " 'cal_MC': -11786,\n",
    " 'cal_MD': 2459}\n"
   ]
  },
  {
   "cell_type": "code",
   "execution_count": null,
   "metadata": {
    "collapsed": false,
    "tags": [
     "worksheet-0"
    ]
   },
   "outputs": [],
   "source": [
    "dataseet_cal = {\n",
    " 'cal_AC1': 408,\n",
    " 'cal_AC2': -72,\n",
    " 'cal_AC3': -14383,\n",
    " 'cal_AC4': 32741,\n",
    " 'cal_AC5': 32757,\n",
    " 'cal_AC6': 23153,\n",
    " 'cal_B1': 6190,\n",
    " 'cal_B2': 4,\n",
    " 'cal_MB': -32767,\n",
    " 'cal_MC': -8711,\n",
    " 'cal_MD': 2868}\n"
   ]
  }
 ],
 "metadata": {
  "kernelspec": {
   "display_name": "Python 3",
   "language": "python",
   "name": "python3"
  },
  "language_info": {
   "codemirror_mode": {
    "name": "ipython",
    "version": 3
   },
   "file_extension": ".py",
   "mimetype": "text/x-python",
   "name": "python",
   "nbconvert_exporter": "python",
   "pygments_lexer": "ipython3",
   "version": "3.4.3"
  },
  "name": "comparing-pressure-data-from-two-sensors.ipynb"
 },
 "nbformat": 4,
 "nbformat_minor": 0
}
