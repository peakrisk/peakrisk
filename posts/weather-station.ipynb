{
 "cells": [
  {
   "cell_type": "code",
   "execution_count": 29,
   "metadata": {
    "collapsed": false
   },
   "outputs": [],
   "source": [
    "%matplotlib inline\n",
    "\n",
    "import pandas\n",
    "import seaborn\n",
    "\n",
    "seaborn.set()"
   ]
  },
  {
   "cell_type": "code",
   "execution_count": 79,
   "metadata": {
    "collapsed": false
   },
   "outputs": [
    {
     "name": "stdout",
     "output_type": "stream",
     "text": [
      "/home/jng/devel/peakrisk/posts\r\n"
     ]
    }
   ],
   "source": [
    "!pwd"
   ]
  },
  {
   "cell_type": "code",
   "execution_count": 31,
   "metadata": {
    "collapsed": false
   },
   "outputs": [],
   "source": [
    "infile = '../files/light.csv'"
   ]
  },
  {
   "cell_type": "code",
   "execution_count": 80,
   "metadata": {
    "collapsed": false
   },
   "outputs": [
    {
     "name": "stdout",
     "output_type": "stream",
     "text": [
      "\r",
      "light.csv                                     100%  381KB 380.6KB/s   00:00    \r\n"
     ]
    },
    {
     "name": "stdout",
     "output_type": "stream",
     "text": [
      "\r",
      "light.csv                                       0%    0     0.0KB/s   --:-- ETA"
     ]
    }
   ],
   "source": [
    "!scp 192.168.0.133:Adafruit_Python_BMP/light.csv .\n",
    "!mv light.csv ../files"
   ]
  },
  {
   "cell_type": "code",
   "execution_count": 81,
   "metadata": {
    "collapsed": false
   },
   "outputs": [],
   "source": [
    "data = pandas.read_csv(infile, index_col='date', parse_dates=['date'])"
   ]
  },
  {
   "cell_type": "code",
   "execution_count": 82,
   "metadata": {
    "collapsed": false
   },
   "outputs": [
    {
     "data": {
      "text/plain": [
       "              temp       pressure     altitude  sealevel_pressure\ncount  5694.000000    5694.000000  5694.000000        5694.000000\nmean     28.695188  101575.399895   -25.514355      101723.042677\nstd       2.500549    2787.022287   171.204387        1643.212884\nmin      27.200000   28421.000000 -2067.737364       49539.000000\n25%      28.000000  101637.000000   -34.410542      101638.000000\n50%      28.500000  101695.000000   -30.841782      101697.000000\n75%      29.300000  101739.000000   -25.943123      101740.000000\nmax     123.400000  128808.000000  7610.794710      139326.000000"
      ]
     },
     "execution_count": 82,
     "metadata": {},
     "output_type": "execute_result"
    }
   ],
   "source": [
    "data.describe()"
   ]
  },
  {
   "cell_type": "code",
   "execution_count": 83,
   "metadata": {
    "collapsed": false
   },
   "outputs": [
    {
     "data": {
      "text/plain": [
       "<matplotlib.figure.Figure at 0x7fcbaa2e0630>"
      ]
     },
     "metadata": {},
     "output_type": "display_data"
    },
    {
     "data": {
      "text/plain": [
       "<matplotlib.axes._subplots.AxesSubplot at 0x7fcba9b77eb8>"
      ]
     },
     "execution_count": 83,
     "metadata": {},
     "output_type": "execute_result"
    }
   ],
   "source": [
    "#data.plot()\n",
    "data.temp.plot()"
   ]
  },
  {
   "cell_type": "code",
   "execution_count": 84,
   "metadata": {
    "collapsed": false
   },
   "outputs": [
    {
     "data": {
      "text/plain": [
       "<matplotlib.figure.Figure at 0x7fcba995e080>"
      ]
     },
     "metadata": {},
     "output_type": "display_data"
    },
    {
     "data": {
      "text/plain": [
       "<matplotlib.axes._subplots.AxesSubplot at 0x7fcba975fa90>"
      ]
     },
     "execution_count": 84,
     "metadata": {},
     "output_type": "execute_result"
    }
   ],
   "source": [
    "data.altitude.plot()"
   ]
  },
  {
   "cell_type": "code",
   "execution_count": 85,
   "metadata": {
    "collapsed": false
   },
   "outputs": [
    {
     "data": {
      "text/plain": [
       "<matplotlib.figure.Figure at 0x7fcba985d940>"
      ]
     },
     "metadata": {},
     "output_type": "display_data"
    },
    {
     "data": {
      "text/plain": [
       "<matplotlib.axes._subplots.AxesSubplot at 0x7fcba9625dd8>"
      ]
     },
     "execution_count": 85,
     "metadata": {},
     "output_type": "execute_result"
    }
   ],
   "source": [
    "data.temp[data.temp < 50.0].plot()"
   ]
  },
  {
   "cell_type": "code",
   "execution_count": 86,
   "metadata": {
    "collapsed": false
   },
   "outputs": [
    {
     "data": {
      "text/plain": [
       "date\n2015-06-29 00:30:04.757425    123.4\n2015-06-29 02:16:16.421378     58.1\n2015-06-29 04:36:31.999731     58.5\n2015-06-29 06:55:47.389789     98.3\n2015-06-29 07:27:50.925301     67.9\n2015-06-29 09:35:04.905765     71.8\n2015-06-29 11:27:17.365401     87.6\n2015-06-29 13:17:29.549340     94.8\n2015-06-29 13:33:31.345615     91.9\n2015-06-29 13:49:33.137824     67.4\nName: temp, dtype: float64"
      ]
     },
     "execution_count": 86,
     "metadata": {},
     "output_type": "execute_result"
    }
   ],
   "source": [
    "data.temp[data.temp > 50.0]"
   ]
  },
  {
   "cell_type": "code",
   "execution_count": 87,
   "metadata": {
    "collapsed": false
   },
   "outputs": [
    {
     "name": "stdout",
     "output_type": "stream",
     "text": [
      "/home/jng/devel/peakrisk/posts\r\n"
     ]
    }
   ],
   "source": [
    "!pwd"
   ]
  },
  {
   "cell_type": "code",
   "execution_count": 88,
   "metadata": {
    "collapsed": false
   },
   "outputs": [
    {
     "data": {
      "text/plain": [
       "<matplotlib.figure.Figure at 0x7fcba985d668>"
      ]
     },
     "metadata": {},
     "output_type": "display_data"
    },
    {
     "data": {
      "text/plain": [
       "array([<matplotlib.axes._subplots.AxesSubplot object at 0x7fcba96b0240>,\n       <matplotlib.axes._subplots.AxesSubplot object at 0x7fcba9611f28>,\n       <matplotlib.axes._subplots.AxesSubplot object at 0x7fcba95c20f0>,\n       <matplotlib.axes._subplots.AxesSubplot object at 0x7fcba9779c88>], dtype=object)"
      ]
     },
     "execution_count": 88,
     "metadata": {},
     "output_type": "execute_result"
    }
   ],
   "source": [
    "data.plot(subplots=True)"
   ]
  },
  {
   "cell_type": "code",
   "execution_count": 95,
   "metadata": {
    "collapsed": false
   },
   "outputs": [],
   "source": [
    "mask = data.temp < 50.0\n",
    "\n",
    "mask = mask & (abs(data.altitude) < 100.0)\n",
    "\n",
    "good = data[mask]"
   ]
  },
  {
   "cell_type": "code",
   "execution_count": 96,
   "metadata": {
    "collapsed": false
   },
   "outputs": [
    {
     "data": {
      "text/plain": [
       "<matplotlib.figure.Figure at 0x7fcba900e7f0>"
      ]
     },
     "metadata": {},
     "output_type": "display_data"
    },
    {
     "data": {
      "text/plain": [
       "array([<matplotlib.axes._subplots.AxesSubplot object at 0x7fcba8dab6a0>,\n       <matplotlib.axes._subplots.AxesSubplot object at 0x7fcba8e77ac8>,\n       <matplotlib.axes._subplots.AxesSubplot object at 0x7fcba8e05780>,\n       <matplotlib.axes._subplots.AxesSubplot object at 0x7fcba8d83630>], dtype=object)"
      ]
     },
     "execution_count": 96,
     "metadata": {},
     "output_type": "execute_result"
    }
   ],
   "source": [
    "good.plot(subplots=True)"
   ]
  },
  {
   "cell_type": "code",
   "execution_count": 97,
   "metadata": {
    "collapsed": false
   },
   "outputs": [
    {
     "data": {
      "text/plain": [
       "              temp       pressure     altitude  sealevel_pressure\ncount  5671.000000    5671.000000  5671.000000        5671.000000\nmean     28.602557  101667.590196   -30.760775      101678.451067\nstd       0.756779    1573.798722     6.305853        1126.585671\nmin      27.200000   37993.000000   -56.873967       49539.000000\n25%      28.000000  101637.000000   -34.410542      101638.000000\n50%      28.500000  101695.000000   -30.841782      101696.000000\n75%      29.300000  101739.000000   -25.943123      101739.000000\nmax      30.100000  128808.000000    31.768412      121592.000000"
      ]
     },
     "execution_count": 97,
     "metadata": {},
     "output_type": "execute_result"
    }
   ],
   "source": [
    "good.describe()"
   ]
  },
  {
   "cell_type": "code",
   "execution_count": 54,
   "metadata": {
    "collapsed": false
   },
   "outputs": [
    {
     "data": {
      "text/plain": [
       "              temp       pressure     altitude  sealevel_pressure\ncount  5006.000000    5006.000000  5006.000000        5006.000000\nmean     28.709149  101625.235118   -28.220942      101711.294846\nstd       1.592905    1894.670658    67.558175         870.452436\nmin      27.200000   37993.000000   -56.873967      101522.000000\n25%      28.100000  101630.000000   -33.829665      101631.000000\n50%      28.700000  101689.000000   -30.343719      101690.000000\n75%      29.400000  101732.000000   -25.361774      101733.000000\nmax     123.400000  118018.000000  2728.365527      133319.000000"
      ]
     },
     "execution_count": 54,
     "metadata": {},
     "output_type": "execute_result"
    }
   ],
   "source": [
    "data.describe()"
   ]
  },
  {
   "cell_type": "code",
   "execution_count": 55,
   "metadata": {
    "collapsed": false
   },
   "outputs": [
    {
     "data": {
      "text/plain": [
       "temp                 5006\npressure             5006\naltitude             5006\nsealevel_pressure    5006\ndtype: int64"
      ]
     },
     "execution_count": 55,
     "metadata": {},
     "output_type": "execute_result"
    }
   ],
   "source": [
    "data.count()"
   ]
  },
  {
   "cell_type": "code",
   "execution_count": 57,
   "metadata": {
    "collapsed": false
   },
   "outputs": [
    {
     "data": {
      "text/plain": [
       "True     5001\nFalse       5\ndtype: int64"
      ]
     },
     "execution_count": 57,
     "metadata": {},
     "output_type": "execute_result"
    }
   ],
   "source": [
    "mask.value_counts()"
   ]
  },
  {
   "cell_type": "code",
   "execution_count": 60,
   "metadata": {
    "collapsed": false
   },
   "outputs": [
    {
     "data": {
      "text/plain": [
       "date\n2015-06-29 00:15:03.099947     28.7\n2015-06-29 00:30:04.757425    123.4\n2015-06-29 01:00:07.986653     28.6\n2015-06-29 02:16:16.421378     58.1\n2015-06-29 02:47:19.895202     28.6\nName: temp, dtype: float64"
      ]
     },
     "execution_count": 60,
     "metadata": {},
     "output_type": "execute_result"
    }
   ],
   "source": [
    "data.temp[mask == False]"
   ]
  },
  {
   "cell_type": "code",
   "execution_count": 61,
   "metadata": {
    "collapsed": false
   },
   "outputs": [
    {
     "data": {
      "text/plain": [
       "Series([], Name: temp, dtype: float64)"
      ]
     },
     "execution_count": 61,
     "metadata": {},
     "output_type": "execute_result"
    }
   ],
   "source": [
    "good.temp[mask == False]"
   ]
  },
  {
   "cell_type": "code",
   "execution_count": 64,
   "metadata": {
    "collapsed": false
   },
   "outputs": [
    {
     "data": {
      "text/plain": [
       "pandas.core.frame.DataFrame"
      ]
     },
     "execution_count": 64,
     "metadata": {},
     "output_type": "execute_result"
    }
   ],
   "source": [
    "type(good)"
   ]
  },
  {
   "cell_type": "code",
   "execution_count": 65,
   "metadata": {
    "collapsed": false
   },
   "outputs": [
    {
     "data": {
      "text/plain": [
       "                             temp  pressure   altitude  sealevel_pressure\ndate                                                                     \n2015-06-29 00:30:04.757425  123.4    101808 -40.134605             101811\n2015-06-29 02:16:16.421378   58.1    101850 -43.368556             101838"
      ]
     },
     "execution_count": 65,
     "metadata": {},
     "output_type": "execute_result"
    }
   ],
   "source": [
    "data[data.temp > 50.0]"
   ]
  },
  {
   "cell_type": "code",
   "execution_count": 66,
   "metadata": {
    "collapsed": false
   },
   "outputs": [
    {
     "data": {
      "text/plain": [
       "                            temp  pressure     altitude  sealevel_pressure\ndate                                                                      \n2015-06-29 00:15:03.099947  28.7     49788  2728.365527             133102\n2015-06-29 01:00:07.986653  28.6     49695  2714.956421             133319\n2015-06-29 02:47:19.895202  28.6     49721  2718.988121             133202"
      ]
     },
     "execution_count": 66,
     "metadata": {},
     "output_type": "execute_result"
    }
   ],
   "source": [
    "data[data.altitude > 0.0]"
   ]
  },
  {
   "cell_type": "code",
   "execution_count": 70,
   "metadata": {
    "collapsed": false
   },
   "outputs": [
    {
     "data": {
      "text/plain": [
       "                            temp  pressure   altitude  sealevel_pressure\ndate                                                                    \n2015-06-29 00:00:01.421409  28.8    118018 -39.056399             101791\n2015-06-29 02:31:18.059312  28.6    114827 -42.373601             101837"
      ]
     },
     "execution_count": 70,
     "metadata": {},
     "output_type": "execute_result"
    }
   ],
   "source": [
    "data[data.pressure > 110000.0]"
   ]
  },
  {
   "cell_type": "code",
   "execution_count": null,
   "metadata": {
    "collapsed": false
   },
   "outputs": [],
   "source": [
    "data[data.pressure < 110000.0]"
   ]
  }
 ],
 "metadata": {
  "kernelspec": {
   "display_name": "Python 3",
   "language": "python",
   "name": "python3"
  },
  "language_info": {
   "codemirror_mode": {
    "name": "ipython",
    "version": 3
   },
   "file_extension": ".py",
   "mimetype": "text/x-python",
   "name": "python",
   "nbconvert_exporter": "python",
   "pygments_lexer": "ipython3",
   "version": "3.4.3"
  },
  "name": "tlf-free-software-test.ipynb"
 },
 "nbformat": 4,
 "nbformat_minor": 0
}
