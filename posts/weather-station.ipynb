{
 "cells": [
  {
   "cell_type": "markdown",
   "metadata": {
    "collapsed": true
   },
   "source": [
    "** Work in Progress -- starting to add commentary and tidy up **\n",
    "\n",
    "\n",
    "I connected a [BMP180]() temperature and pressure centre to a\n",
    "raspberry pi and have it running in my study.\n",
    "\n",
    "I have been using this note book to look at the data as it is generated.\n",
    "\n",
    "The code uses the Adafruit python library to extract data from the sensor.\n",
    "\n",
    "I find plotting the data is a good way to take an initial look at it.\n",
    "\n",
    "So, time for some pandas and matplotlib."
   ]
  },
  {
   "cell_type": "code",
   "execution_count": 267,
   "metadata": {
    "collapsed": false
   },
   "outputs": [],
   "source": [
    "# Tell matplotlib to plot in line\n",
    "%matplotlib inline\n",
    "\n",
    "# import pandas\n",
    "import pandas\n",
    "\n",
    "# seaborn magically adds a layer of goodness on top of Matplotlib\n",
    "# mostly this is just changing matplotlib defaults, but it does also\n",
    "# provide some higher level plotting methods.\n",
    "import seaborn\n",
    "\n",
    "# Tell seaborn to set things up\n",
    "seaborn.set()"
   ]
  },
  {
   "cell_type": "code",
   "execution_count": 268,
   "metadata": {
    "collapsed": false
   },
   "outputs": [
    {
     "name": "stdout",
     "output_type": "stream",
     "text": [
      "/home/jng/devel/peakrisk/posts\r\n"
     ]
    }
   ],
   "source": [
    "# just check where I am\n",
    "!pwd"
   ]
  },
  {
   "cell_type": "code",
   "execution_count": 269,
   "metadata": {
    "collapsed": false
   },
   "outputs": [],
   "source": [
    "infile = '../files/light.csv'"
   ]
  },
  {
   "cell_type": "code",
   "execution_count": 275,
   "metadata": {
    "collapsed": false
   },
   "outputs": [
    {
     "name": "stdout",
     "output_type": "stream",
     "text": [
      "\r",
      "light.csv                                     100%  778KB 777.9KB/s   00:00    \r\n"
     ]
    },
    {
     "name": "stdout",
     "output_type": "stream",
     "text": [
      "\r",
      "light.csv                                       0%    0     0.0KB/s   --:-- ETA"
     ]
    }
   ],
   "source": [
    "!scp 192.168.0.133:Adafruit_Python_BMP/light.csv .\n",
    "!mv light.csv ../files"
   ]
  },
  {
   "cell_type": "code",
   "execution_count": 276,
   "metadata": {
    "collapsed": false
   },
   "outputs": [],
   "source": [
    "data = pandas.read_csv(infile, index_col='date', parse_dates=['date'])"
   ]
  },
  {
   "cell_type": "code",
   "execution_count": 277,
   "metadata": {
    "collapsed": false
   },
   "outputs": [
    {
     "data": {
      "text/plain": [
       "               temp       pressure      altitude  sealevel_pressure\ncount  11659.000000   11659.000000  11659.000000       11659.000000\nmean      28.889159  101401.477142    -20.450151      101788.132258\nstd        4.661283    4885.582477    360.537723        3570.315604\nmin      -27.100000   28421.000000  -2749.583598       37537.000000\n25%       28.000000  101690.000000    -45.938417      101692.000000\n50%       28.700000  101785.000000    -38.309883      101787.000000\n75%       29.300000  101877.000000    -30.426731      101879.000000\nmax      162.900000  128808.000000   7610.794710      139326.000000"
      ]
     },
     "execution_count": 277,
     "metadata": {},
     "output_type": "execute_result"
    }
   ],
   "source": [
    "data.describe()"
   ]
  },
  {
   "cell_type": "code",
   "execution_count": 278,
   "metadata": {
    "collapsed": false
   },
   "outputs": [
    {
     "data": {
      "text/plain": [
       "<matplotlib.figure.Figure at 0x7f0c6e9302e8>"
      ]
     },
     "metadata": {},
     "output_type": "display_data"
    },
    {
     "data": {
      "text/plain": [
       "<matplotlib.axes._subplots.AxesSubplot at 0x7f0c6e939320>"
      ]
     },
     "execution_count": 278,
     "metadata": {},
     "output_type": "execute_result"
    }
   ],
   "source": [
    "# Lets look at the temperature data\n",
    "data.temp.plot()"
   ]
  },
  {
   "cell_type": "markdown",
   "metadata": {
    "collapsed": true
   },
   "source": [
    "Looks like we have some bad data here.  For the first few days things look ok though\n",
    "To start, lets look at the good bit of the data.\n"
   ]
  },
  {
   "cell_type": "code",
   "execution_count": 279,
   "metadata": {
    "collapsed": false
   },
   "outputs": [
    {
     "data": {
      "text/plain": [
       "<matplotlib.figure.Figure at 0x7f0c6e9c3dd8>"
      ]
     },
     "metadata": {},
     "output_type": "display_data"
    },
    {
     "data": {
      "text/plain": [
       "array([<matplotlib.axes._subplots.AxesSubplot object at 0x7f0c6e9d17f0>,\n       <matplotlib.axes._subplots.AxesSubplot object at 0x7f0c6e91a978>,\n       <matplotlib.axes._subplots.AxesSubplot object at 0x7f0c6e734828>,\n       <matplotlib.axes._subplots.AxesSubplot object at 0x7f0c6e8a62e8>], dtype=object)"
      ]
     },
     "execution_count": 279,
     "metadata": {},
     "output_type": "execute_result"
    }
   ],
   "source": [
    "data[:4500].plot(subplots=True)"
   ]
  },
  {
   "cell_type": "markdown",
   "metadata": {
    "collapsed": true
   },
   "source": [
    "That looks good.  So for the first 4500 samples the data looks clean.\n",
    "\n",
    "The pressure and sealevel_pressure plots have the same shape.\n",
    "\n",
    "The sealevel_pressure is just the pressure recording adjusted for altitude.\n",
    "\n",
    "Actually, since I am not telling the software what my altitude it is"
   ]
  },
  {
   "cell_type": "markdown",
   "metadata": {
    "collapsed": true
   },
   "source": [
    "It is a bit of a mystery what is causing the bad data after this.\n",
    "\n",
    "One possibility is I have a separate process that is talking to the sensor that I am running in a console just so I can see the current figures.\n",
    "\n",
    "I am running this with a linux *watch* command.   I used the default parameters and it is running every 2 seconds.\n",
    "\n",
    "I am wondering if the sensor code, or the hardware itself has some bugs if the code polls the sensor whilst it is already being probed.\n",
    "\n",
    "I am now (11am BDA time July 3rd) running the monitor script with *watch -n 600* so it only polls every 10 minutes.  Will see if that improves things.\n",
    "\n",
    "So, lets see if we can filter out the bad data"
   ]
  },
  {
   "cell_type": "code",
   "execution_count": 219,
   "metadata": {
    "collapsed": false
   },
   "outputs": [
    {
     "data": {
      "text/plain": [
       "<matplotlib.figure.Figure at 0x7f0c70a40d68>"
      ]
     },
     "metadata": {},
     "output_type": "display_data"
    },
    {
     "data": {
      "text/plain": [
       "<matplotlib.axes._subplots.AxesSubplot at 0x7f0c7131ea90>"
      ]
     },
     "execution_count": 219,
     "metadata": {},
     "output_type": "execute_result"
    }
   ],
   "source": [
    "data.temp.plot()"
   ]
  },
  {
   "cell_type": "code",
   "execution_count": 220,
   "metadata": {
    "collapsed": false
   },
   "outputs": [
    {
     "data": {
      "text/plain": [
       "<matplotlib.figure.Figure at 0x7f0c707c0400>"
      ]
     },
     "metadata": {},
     "output_type": "display_data"
    },
    {
     "data": {
      "text/plain": [
       "<matplotlib.axes._subplots.AxesSubplot at 0x7f0c707c9748>"
      ]
     },
     "execution_count": 220,
     "metadata": {},
     "output_type": "execute_result"
    }
   ],
   "source": [
    "# All the good temperature readings appear to be in the 25C - 32C range,\n",
    "# so lets filter out the rest.\n",
    "data.temp[(data.temp < 50.0) & (data.temp > 15.0)].plot()"
   ]
  },
  {
   "cell_type": "code",
   "execution_count": null,
   "metadata": {
    "collapsed": false
   },
   "outputs": [],
   "source": [
    "That looks good.  You can see 8 days of temperatures rising through the day and then falling at night.  Only a couple of degree difference here in Bermuda at present.\n",
    "\n",
    "The Third day with the dip in temperature I believe there was a thunderstorm or two which cooled things off temporarily.\n",
    "\n",
    "I really need to get a humidity sensor working to go with this.\n",
    "\n",
    "Now lets see if we can spot the outliers and filter them out."
   ]
  },
  {
   "cell_type": "code",
   "execution_count": 222,
   "metadata": {
    "collapsed": false
   },
   "outputs": [],
   "source": [
    "def spot_outliers(series):\n",
    "    \"\"\" Compares the change in value in consecutive samples to the standard deviation\n",
    "\n",
    "    If the change is bigger than that, assume it is an outlier.\n",
    "\n",
    "    Note, that there will be two bad deltas, since the sample after the\n",
    "    bad one will be bad too.\n",
    "    \"\"\"\n",
    "    delta = series - series.shift()\n",
    "\n",
    "    return delta.abs() > data.std()\n",
    "\n",
    "outliers = spot_outliers(data)"
   ]
  },
  {
   "cell_type": "code",
   "execution_count": 225,
   "metadata": {
    "collapsed": false
   },
   "outputs": [
    {
     "data": {
      "text/plain": [
       "<matplotlib.figure.Figure at 0x7f0c70669588>"
      ]
     },
     "metadata": {},
     "output_type": "display_data"
    },
    {
     "data": {
      "text/plain": [
       "<matplotlib.axes._subplots.AxesSubplot at 0x7f0c707c9278>"
      ]
     },
     "execution_count": 225,
     "metadata": {},
     "output_type": "execute_result"
    }
   ],
   "source": [
    "# Plot temperature\n",
    "data[~outliers].temp.plot()"
   ]
  },
  {
   "cell_type": "code",
   "execution_count": 226,
   "metadata": {
    "collapsed": false
   },
   "outputs": [
    {
     "data": {
      "text/plain": [
       "<matplotlib.figure.Figure at 0x7f0c70919390>"
      ]
     },
     "metadata": {},
     "output_type": "display_data"
    },
    {
     "data": {
      "text/plain": [
       "<matplotlib.axes._subplots.AxesSubplot at 0x7f0c706940f0>"
      ]
     },
     "execution_count": 226,
     "metadata": {},
     "output_type": "execute_result"
    }
   ],
   "source": [
    "data[~outliers].altitude.plot()"
   ]
  },
  {
   "cell_type": "code",
   "execution_count": 186,
   "metadata": {
    "collapsed": false
   },
   "outputs": [
    {
     "data": {
      "image/png": "[encoded data removed]",
      "text/plain": [
       "<matplotlib.figure.Figure at 0x7f0c72438048>"
      ]
     },
     "metadata": {},
     "output_type": "display_data"
    },
    {
     "data": {
      "text/plain": [
       "array([<matplotlib.axes._subplots.AxesSubplot object at 0x7f0c72351588>,\n",
       "       <matplotlib.axes._subplots.AxesSubplot object at 0x7f0c720782b0>,\n",
       "       <matplotlib.axes._subplots.AxesSubplot object at 0x7f0c71f74438>,\n",
       "       <matplotlib.axes._subplots.AxesSubplot object at 0x7f0c721aaef0>], dtype=object)"
      ]
     },
     "execution_count": 186,
     "metadata": {},
     "output_type": "execute_result"
    }
   ],
   "source": [
    "data[~outliers].plot(subplots=True)"
   ]
  },
  {
   "cell_type": "code",
   "execution_count": 187,
   "metadata": {
    "collapsed": false
   },
   "outputs": [
    {
     "data": {
      "image/png": "[encoded data removed]",
      "text/plain": [
       "<matplotlib.figure.Figure at 0x7f0c71f4b6a0>"
      ]
     },
     "metadata": {},
     "output_type": "display_data"
    },
    {
     "data": {
      "text/plain": [
       "<matplotlib.axes._subplots.AxesSubplot at 0x7f0c724d7710>"
      ]
     },
     "execution_count": 187,
     "metadata": {},
     "output_type": "execute_result"
    }
   ],
   "source": [
    "data[~outliers].sealevel_pressure.plot()"
   ]
  },
  {
   "cell_type": "code",
   "execution_count": 298,
   "metadata": {
    "collapsed": false
   },
   "outputs": [],
   "source": [
    "def smooth(data, thresh=None):\n",
    "    \n",
    "    means = data.mean()\n",
    "\n",
    "    if thresh is None:\n",
    "        sds = data.std()\n",
    "    else:\n",
    "        sds = thresh\n",
    "    \n",
    "    delta = data - data.shift()\n",
    "    \n",
    "    good = delta[abs(delta) < sds]\n",
    "\n",
    "    print(good.describe())\n",
    "    \n",
    "    return delta.where(good, 0.0)"
   ]
  },
  {
   "cell_type": "code",
   "execution_count": 189,
   "metadata": {
    "collapsed": false
   },
   "outputs": [
    {
     "data": {
      "image/png": "[encoded data removed]",
      "text/plain": [
       "<matplotlib.figure.Figure at 0x7f0c71cef0f0>"
      ]
     },
     "metadata": {},
     "output_type": "display_data"
    },
    {
     "data": {
      "text/plain": [
       "<matplotlib.axes._subplots.AxesSubplot at 0x7f0c71cf5828>"
      ]
     },
     "execution_count": 189,
     "metadata": {},
     "output_type": "execute_result"
    }
   ],
   "source": [
    "smooth(data).temp.cumsum().plot()"
   ]
  },
  {
   "cell_type": "code",
   "execution_count": 292,
   "metadata": {
    "collapsed": false
   },
   "outputs": [
    {
     "data": {
      "text/plain": [
       "               temp      pressure      altitude  sealevel_pressure\ncount  11659.000000  11659.000000  11659.000000       11659.000000\nmean       0.000069      0.012523     -0.001444           0.016554\nstd        0.033368     77.632060      2.704294          41.958663\nmin       -0.100000  -3906.000000   -112.489928       -3148.000000\n25%        0.000000     -4.000000     -0.331867          -4.000000\n50%        0.000000      0.000000      0.000000           0.000000\n75%        0.000000      4.000000      0.331749           4.000000\nmax        0.100000   3906.000000    112.489928        3138.000000"
      ]
     },
     "execution_count": 292,
     "metadata": {},
     "output_type": "execute_result"
    },
    {
     "name": "stdout",
     "output_type": "stream",
     "text": [
      "               temp      pressure      altitude  sealevel_pressure\n",
      "count  11566.000000  11346.000000  11386.000000       11392.000000\n",
      "mean       0.000069      0.012868     -0.001479           0.016942\n",
      "std        0.033501     78.695678      2.736525          42.447561\n",
      "min       -0.100000  -3906.000000   -112.489928       -3148.000000\n",
      "25%        0.000000     -4.000000     -0.331992          -4.000000\n",
      "50%        0.000000      0.000000      0.000000           0.000000\n",
      "75%        0.000000      4.000000      0.331934           4.000000\n",
      "max        0.100000   3906.000000    112.489928        3138.000000\n"
     ]
    }
   ],
   "source": [
    "smooth(data).describe() "
   ]
  },
  {
   "cell_type": "code",
   "execution_count": 302,
   "metadata": {
    "collapsed": false
   },
   "outputs": [
    {
     "data": {
      "text/plain": [
       "<matplotlib.figure.Figure at 0x7f0c6dc94780>"
      ]
     },
     "metadata": {},
     "output_type": "display_data"
    },
    {
     "data": {
      "text/plain": [
       "array([<matplotlib.axes._subplots.AxesSubplot object at 0x7f0c6dc2a898>,\n       <matplotlib.axes._subplots.AxesSubplot object at 0x7f0c6dabfc18>], dtype=object)"
      ]
     },
     "execution_count": 302,
     "metadata": {},
     "output_type": "execute_result"
    },
    {
     "name": "stdout",
     "output_type": "stream",
     "text": [
      "               temp     pressure      altitude  sealevel_pressure\n",
      "count  11566.000000  6083.000000  11346.000000        6063.000000\n",
      "mean       0.000069     0.043893     -0.001571          -0.004948\n",
      "std        0.033501     2.466790      0.523929           2.466264\n",
      "min       -0.100000    -4.000000     -2.071579          -4.000000\n",
      "25%        0.000000    -2.000000     -0.331981          -2.000000\n",
      "50%        0.000000     0.000000      0.000000           0.000000\n",
      "75%        0.000000     2.000000      0.331916           2.000000\n",
      "max        0.100000     4.000000      2.240047           4.000000\n"
     ]
    }
   ],
   "source": [
    "smooth(data, 5.0).cumsum()[['temp', 'altitude']].plot(subplots=True)"
   ]
  },
  {
   "cell_type": "code",
   "execution_count": 296,
   "metadata": {
    "collapsed": false
   },
   "outputs": [
    {
     "data": {
      "text/plain": [
       "               temp       pressure      altitude  sealevel_pressure\ncount  11659.000000   11659.000000  11659.000000       11659.000000\nmean      28.889159  101401.477142    -20.450151      101788.132258\nstd        4.661283    4885.582477    360.537723        3570.315604\nmin      -27.100000   28421.000000  -2749.583598       37537.000000\n25%       28.000000  101690.000000    -45.938417      101692.000000\n50%       28.700000  101785.000000    -38.309883      101787.000000\n75%       29.300000  101877.000000    -30.426731      101879.000000\nmax      162.900000  128808.000000   7610.794710      139326.000000"
      ]
     },
     "execution_count": 296,
     "metadata": {},
     "output_type": "execute_result"
    }
   ],
   "source": [
    "data.describe()"
   ]
  },
  {
   "cell_type": "code",
   "execution_count": 191,
   "metadata": {
    "collapsed": false
   },
   "outputs": [
    {
     "data": {
      "image/png": "[encoded data removed]",
      "text/plain": [
       "<matplotlib.figure.Figure at 0x7f0c71f2db38>"
      ]
     },
     "metadata": {},
     "output_type": "display_data"
    },
    {
     "data": {
      "text/plain": [
       "<matplotlib.axes._subplots.AxesSubplot at 0x7f0c71cef3c8>"
      ]
     },
     "execution_count": 191,
     "metadata": {},
     "output_type": "execute_result"
    }
   ],
   "source": [
    "sdata.sealevel_pressure.cumsum().clip(0, 1000).plot()"
   ]
  },
  {
   "cell_type": "code",
   "execution_count": 289,
   "metadata": {
    "collapsed": false
   },
   "outputs": [
    {
     "data": {
      "text/plain": [
       "<matplotlib.figure.Figure at 0x7f0c6e259ba8>"
      ]
     },
     "metadata": {},
     "output_type": "display_data"
    },
    {
     "data": {
      "text/plain": [
       "array([<matplotlib.axes._subplots.AxesSubplot object at 0x7f0c6e217c50>,\n       <matplotlib.axes._subplots.AxesSubplot object at 0x7f0c6e0f7a20>], dtype=object)"
      ]
     },
     "execution_count": 289,
     "metadata": {},
     "output_type": "execute_result"
    }
   ],
   "source": [
    "sdata[['temp', 'altitude']].plot(subplots=True)"
   ]
  },
  {
   "cell_type": "code",
   "execution_count": 282,
   "metadata": {
    "collapsed": false
   },
   "outputs": [
    {
     "ename": "TypeError",
     "evalue": "'Index' object is not callable",
     "output_type": "error",
     "traceback": [
      "\u001b[1;31m---------------------------------------------------------------------------\u001b[0m",
      "\u001b[1;31mTypeError\u001b[0m                                 Traceback (most recent call last)",
      "\u001b[1;32m<ipython-input-282-5179028465a2>\u001b[0m in \u001b[0;36m<module>\u001b[1;34m()\u001b[0m\n\u001b[1;32m----> 1\u001b[1;33m \u001b[0msmooth\u001b[0m\u001b[1;33m(\u001b[0m\u001b[0mdata\u001b[0m\u001b[1;33m)\u001b[0m\u001b[1;33m.\u001b[0m\u001b[0mcumsum\u001b[0m\u001b[1;33m(\u001b[0m\u001b[1;33m)\u001b[0m\u001b[1;33m.\u001b[0m\u001b[0mcolumns\u001b[0m\u001b[1;33m(\u001b[0m\u001b[1;33m[\u001b[0m\u001b[1;34m'temp'\u001b[0m\u001b[1;33m,\u001b[0m \u001b[1;34m'altitude'\u001b[0m\u001b[1;33m]\u001b[0m\u001b[1;33m)\u001b[0m\u001b[1;33m.\u001b[0m\u001b[0mplot\u001b[0m\u001b[1;33m(\u001b[0m\u001b[0msubplots\u001b[0m\u001b[1;33m=\u001b[0m\u001b[1;32mTrue\u001b[0m\u001b[1;33m)\u001b[0m\u001b[1;33m\u001b[0m\u001b[0m\n\u001b[0m",
      "\u001b[1;31mTypeError\u001b[0m: 'Index' object is not callable"
     ]
    }
   ],
   "source": [
    "smooth(data).cumsum().columns(['temp', 'altitude']).plot(subplots=True)"
   ]
  },
  {
   "cell_type": "code",
   "execution_count": 193,
   "metadata": {
    "collapsed": false
   },
   "outputs": [
    {
     "data": {
      "image/png": "[encoded data removed]",
      "text/plain": [
       "<matplotlib.figure.Figure at 0x7f0c71dc6198>"
      ]
     },
     "metadata": {},
     "output_type": "display_data"
    },
    {
     "data": {
      "text/plain": [
       "<matplotlib.axes._subplots.AxesSubplot at 0x7f0c71c74470>"
      ]
     },
     "execution_count": 193,
     "metadata": {},
     "output_type": "execute_result"
    }
   ],
   "source": [
    "data[~outliers].pressure.plot()"
   ]
  },
  {
   "cell_type": "code",
   "execution_count": 194,
   "metadata": {
    "collapsed": false
   },
   "outputs": [
    {
     "data": {
      "image/png": "[encoded data removed]",
      "text/plain": [
       "<matplotlib.figure.Figure at 0x7f0c71d51d30>"
      ]
     },
     "metadata": {},
     "output_type": "display_data"
    },
    {
     "data": {
      "text/plain": [
       "<matplotlib.axes._subplots.AxesSubplot at 0x7f0c71bd4780>"
      ]
     },
     "execution_count": 194,
     "metadata": {},
     "output_type": "execute_result"
    }
   ],
   "source": [
    "data[~outliers].altitude.plot()"
   ]
  },
  {
   "cell_type": "code",
   "execution_count": 204,
   "metadata": {
    "collapsed": false
   },
   "outputs": [
    {
     "data": {
      "image/png": "[encoded data removed]",
      "text/plain": [
       "<matplotlib.figure.Figure at 0x7f0c717b49e8>"
      ]
     },
     "metadata": {},
     "output_type": "display_data"
    },
    {
     "data": {
      "text/plain": [
       "<matplotlib.axes._subplots.AxesSubplot at 0x7f0c716d6630>"
      ]
     },
     "execution_count": 204,
     "metadata": {},
     "output_type": "execute_result"
    }
   ],
   "source": [
    "data[~spot_outliers(data)].sealevel_pressure.plot()"
   ]
  },
  {
   "cell_type": "code",
   "execution_count": 195,
   "metadata": {
    "collapsed": false
   },
   "outputs": [
    {
     "data": {
      "text/html": [
       "<div>\n",
       "<table border=\"1\" class=\"dataframe\">\n",
       "  <thead>\n",
       "    <tr style=\"text-align: right;\">\n",
       "      <th></th>\n",
       "      <th>temp</th>\n",
       "      <th>pressure</th>\n",
       "      <th>altitude</th>\n",
       "      <th>sealevel_pressure</th>\n",
       "    </tr>\n",
       "    <tr>\n",
       "      <th>date</th>\n",
       "      <th></th>\n",
       "      <th></th>\n",
       "      <th></th>\n",
       "      <th></th>\n",
       "    </tr>\n",
       "  </thead>\n",
       "  <tbody>\n",
       "    <tr>\n",
       "      <th>2015-06-25 15:07:37.174400</th>\n",
       "      <td>NaN</td>\n",
       "      <td>NaN</td>\n",
       "      <td>NaN</td>\n",
       "      <td>NaN</td>\n",
       "    </tr>\n",
       "    <tr>\n",
       "      <th>2015-06-25 15:08:37.290769</th>\n",
       "      <td>NaN</td>\n",
       "      <td>NaN</td>\n",
       "      <td>NaN</td>\n",
       "      <td>NaN</td>\n",
       "    </tr>\n",
       "    <tr>\n",
       "      <th>2015-06-25 15:09:37.406928</th>\n",
       "      <td>NaN</td>\n",
       "      <td>NaN</td>\n",
       "      <td>NaN</td>\n",
       "      <td>NaN</td>\n",
       "    </tr>\n",
       "    <tr>\n",
       "      <th>2015-06-25 15:10:37.523022</th>\n",
       "      <td>NaN</td>\n",
       "      <td>NaN</td>\n",
       "      <td>NaN</td>\n",
       "      <td>NaN</td>\n",
       "    </tr>\n",
       "    <tr>\n",
       "      <th>2015-06-25 15:11:37.638969</th>\n",
       "      <td>NaN</td>\n",
       "      <td>NaN</td>\n",
       "      <td>NaN</td>\n",
       "      <td>NaN</td>\n",
       "    </tr>\n",
       "  </tbody>\n",
       "</table>\n",
       "</div>"
      ],
      "text/plain": [
       "                            temp  pressure  altitude  sealevel_pressure\n",
       "date                                                                   \n",
       "2015-06-25 15:07:37.174400   NaN       NaN       NaN                NaN\n",
       "2015-06-25 15:08:37.290769   NaN       NaN       NaN                NaN\n",
       "2015-06-25 15:09:37.406928   NaN       NaN       NaN                NaN\n",
       "2015-06-25 15:10:37.523022   NaN       NaN       NaN                NaN\n",
       "2015-06-25 15:11:37.638969   NaN       NaN       NaN                NaN"
      ]
     },
     "execution_count": 195,
     "metadata": {},
     "output_type": "execute_result"
    }
   ],
   "source": [
    "data[outliers].head()"
   ]
  },
  {
   "cell_type": "code",
   "execution_count": 66,
   "metadata": {
    "collapsed": false
   },
   "outputs": [
    {
     "data": {
      "text/html": [
       "<div>\n",
       "<table border=\"1\" class=\"dataframe\">\n",
       "  <thead>\n",
       "    <tr style=\"text-align: right;\">\n",
       "      <th></th>\n",
       "      <th>temp</th>\n",
       "      <th>pressure</th>\n",
       "      <th>altitude</th>\n",
       "      <th>sealevel_pressure</th>\n",
       "    </tr>\n",
       "    <tr>\n",
       "      <th>date</th>\n",
       "      <th></th>\n",
       "      <th></th>\n",
       "      <th></th>\n",
       "      <th></th>\n",
       "    </tr>\n",
       "  </thead>\n",
       "  <tbody>\n",
       "    <tr>\n",
       "      <th>2015-06-25 15:07:37.174400</th>\n",
       "      <td>29.3</td>\n",
       "      <td>101637</td>\n",
       "      <td>-25.777027</td>\n",
       "      <td>101637</td>\n",
       "    </tr>\n",
       "    <tr>\n",
       "      <th>2015-06-25 15:08:37.290769</th>\n",
       "      <td>29.3</td>\n",
       "      <td>101642</td>\n",
       "      <td>-26.524440</td>\n",
       "      <td>101640</td>\n",
       "    </tr>\n",
       "    <tr>\n",
       "      <th>2015-06-25 15:09:37.406928</th>\n",
       "      <td>29.3</td>\n",
       "      <td>101643</td>\n",
       "      <td>-25.943123</td>\n",
       "      <td>101637</td>\n",
       "    </tr>\n",
       "    <tr>\n",
       "      <th>2015-06-25 15:10:37.523022</th>\n",
       "      <td>29.3</td>\n",
       "      <td>101644</td>\n",
       "      <td>-25.777027</td>\n",
       "      <td>101637</td>\n",
       "    </tr>\n",
       "    <tr>\n",
       "      <th>2015-06-25 15:11:37.638969</th>\n",
       "      <td>29.3</td>\n",
       "      <td>101634</td>\n",
       "      <td>-26.441397</td>\n",
       "      <td>101637</td>\n",
       "    </tr>\n",
       "  </tbody>\n",
       "</table>\n",
       "</div>"
      ],
      "text/plain": [
       "                            temp  pressure   altitude  sealevel_pressure\n",
       "date                                                                    \n",
       "2015-06-25 15:07:37.174400  29.3    101637 -25.777027             101637\n",
       "2015-06-25 15:08:37.290769  29.3    101642 -26.524440             101640\n",
       "2015-06-25 15:09:37.406928  29.3    101643 -25.943123             101637\n",
       "2015-06-25 15:10:37.523022  29.3    101644 -25.777027             101637\n",
       "2015-06-25 15:11:37.638969  29.3    101634 -26.441397             101637"
      ]
     },
     "execution_count": 66,
     "metadata": {},
     "output_type": "execute_result"
    }
   ],
   "source": [
    "data.head()"
   ]
  },
  {
   "cell_type": "code",
   "execution_count": 196,
   "metadata": {
    "collapsed": false
   },
   "outputs": [
    {
     "data": {
      "text/plain": [
       "date\n",
       "2015-06-29 00:30:04.757425    123.4\n",
       "2015-06-29 02:16:16.421378     58.1\n",
       "2015-06-29 04:36:31.999731     58.5\n",
       "2015-06-29 06:55:47.389789     98.3\n",
       "2015-06-29 07:27:50.925301     67.9\n",
       "2015-06-29 09:35:04.905765     71.8\n",
       "2015-06-29 11:27:17.365401     87.6\n",
       "2015-06-29 13:17:29.549340     94.8\n",
       "2015-06-29 13:33:31.345615     91.9\n",
       "2015-06-29 13:49:33.137824     67.4\n",
       "2015-06-29 14:20:36.557338     85.0\n",
       "2015-06-29 15:23:43.578008     71.7\n",
       "2015-06-29 15:39:45.370125    123.3\n",
       "2015-06-29 17:47:59.445202     92.6\n",
       "2015-06-30 01:08:17.592235    146.7\n",
       "2015-06-30 01:23:19.242592     86.1\n",
       "2015-06-30 02:24:26.038677      5.8\n",
       "2015-06-30 06:30:53.114578    102.1\n",
       "2015-06-30 09:49:14.936956     79.6\n",
       "2015-06-30 14:09:43.894483     64.9\n",
       "2015-06-30 18:00:09.362701    120.3\n",
       "2015-06-30 20:59:29.362636     59.9\n",
       "2015-07-01 02:20:02.628228     86.9\n",
       "2015-07-01 02:37:04.326589     68.5\n",
       "2015-07-01 07:12:32.146686    158.2\n",
       "2015-07-01 08:33:40.475601    -27.1\n",
       "2015-07-01 09:05:43.746598     86.6\n",
       "2015-07-01 19:58:50.770681    123.0\n",
       "2015-07-01 20:17:52.648527    119.6\n",
       "2015-07-01 20:34:54.370593    162.9\n",
       "2015-07-01 22:50:07.378702    123.0\n",
       "2015-07-02 02:13:27.582607     71.3\n",
       "2015-07-02 02:51:31.386463     64.4\n",
       "2015-07-02 05:05:45.514461    -14.6\n",
       "2015-07-02 07:08:58.286498    128.3\n",
       "2015-07-02 10:27:18.610704     88.4\n",
       "2015-07-02 11:33:25.310520    123.8\n",
       "2015-07-02 15:04:47.134526    123.3\n",
       "2015-07-02 21:09:24.578484     88.9\n",
       "2015-07-02 22:13:31.130461    123.0\n",
       "2015-07-02 22:30:32.830640    141.4\n",
       "2015-07-02 23:15:37.580525    123.2\n",
       "2015-07-03 03:17:02.390463    -22.9\n",
       "2015-07-03 04:21:09.045591    123.5\n",
       "2015-07-03 04:55:12.592656     52.9\n",
       "2015-07-03 09:53:43.003873    106.6\n",
       "Name: temp, dtype: float64"
      ]
     },
     "execution_count": 196,
     "metadata": {},
     "output_type": "execute_result"
    }
   ],
   "source": [
    "data[outliers].temp.dropna().head(100)"
   ]
  },
  {
   "cell_type": "code",
   "execution_count": 197,
   "metadata": {
    "collapsed": false
   },
   "outputs": [
    {
     "data": {
      "text/html": [
       "<div>\n",
       "<table border=\"1\" class=\"dataframe\">\n",
       "  <thead>\n",
       "    <tr style=\"text-align: right;\">\n",
       "      <th></th>\n",
       "      <th>temp</th>\n",
       "      <th>pressure</th>\n",
       "      <th>altitude</th>\n",
       "      <th>sealevel_pressure</th>\n",
       "    </tr>\n",
       "    <tr>\n",
       "      <th>date</th>\n",
       "      <th></th>\n",
       "      <th></th>\n",
       "      <th></th>\n",
       "      <th></th>\n",
       "    </tr>\n",
       "  </thead>\n",
       "  <tbody>\n",
       "    <tr>\n",
       "      <th>2015-06-25 15:07:37.174400</th>\n",
       "      <td>NaN</td>\n",
       "      <td>NaN</td>\n",
       "      <td>NaN</td>\n",
       "      <td>NaN</td>\n",
       "    </tr>\n",
       "    <tr>\n",
       "      <th>2015-06-25 15:08:37.290769</th>\n",
       "      <td>NaN</td>\n",
       "      <td>NaN</td>\n",
       "      <td>NaN</td>\n",
       "      <td>NaN</td>\n",
       "    </tr>\n",
       "    <tr>\n",
       "      <th>2015-06-25 15:09:37.406928</th>\n",
       "      <td>NaN</td>\n",
       "      <td>NaN</td>\n",
       "      <td>NaN</td>\n",
       "      <td>NaN</td>\n",
       "    </tr>\n",
       "    <tr>\n",
       "      <th>2015-06-25 15:10:37.523022</th>\n",
       "      <td>NaN</td>\n",
       "      <td>NaN</td>\n",
       "      <td>NaN</td>\n",
       "      <td>NaN</td>\n",
       "    </tr>\n",
       "    <tr>\n",
       "      <th>2015-06-25 15:11:37.638969</th>\n",
       "      <td>NaN</td>\n",
       "      <td>NaN</td>\n",
       "      <td>NaN</td>\n",
       "      <td>NaN</td>\n",
       "    </tr>\n",
       "    <tr>\n",
       "      <th>2015-06-25 15:12:37.755075</th>\n",
       "      <td>NaN</td>\n",
       "      <td>NaN</td>\n",
       "      <td>NaN</td>\n",
       "      <td>NaN</td>\n",
       "    </tr>\n",
       "    <tr>\n",
       "      <th>2015-06-25 15:13:37.817112</th>\n",
       "      <td>NaN</td>\n",
       "      <td>NaN</td>\n",
       "      <td>NaN</td>\n",
       "      <td>NaN</td>\n",
       "    </tr>\n",
       "    <tr>\n",
       "      <th>2015-06-25 15:14:37.933191</th>\n",
       "      <td>NaN</td>\n",
       "      <td>NaN</td>\n",
       "      <td>NaN</td>\n",
       "      <td>NaN</td>\n",
       "    </tr>\n",
       "    <tr>\n",
       "      <th>2015-06-25 15:15:38.049267</th>\n",
       "      <td>NaN</td>\n",
       "      <td>NaN</td>\n",
       "      <td>NaN</td>\n",
       "      <td>NaN</td>\n",
       "    </tr>\n",
       "    <tr>\n",
       "      <th>2015-06-25 15:16:38.125113</th>\n",
       "      <td>NaN</td>\n",
       "      <td>NaN</td>\n",
       "      <td>NaN</td>\n",
       "      <td>NaN</td>\n",
       "    </tr>\n",
       "    <tr>\n",
       "      <th>2015-06-25 15:17:38.241312</th>\n",
       "      <td>NaN</td>\n",
       "      <td>NaN</td>\n",
       "      <td>NaN</td>\n",
       "      <td>NaN</td>\n",
       "    </tr>\n",
       "    <tr>\n",
       "      <th>2015-06-25 15:18:38.358250</th>\n",
       "      <td>NaN</td>\n",
       "      <td>NaN</td>\n",
       "      <td>NaN</td>\n",
       "      <td>NaN</td>\n",
       "    </tr>\n",
       "    <tr>\n",
       "      <th>2015-06-25 15:19:38.474672</th>\n",
       "      <td>NaN</td>\n",
       "      <td>NaN</td>\n",
       "      <td>NaN</td>\n",
       "      <td>NaN</td>\n",
       "    </tr>\n",
       "    <tr>\n",
       "      <th>2015-06-25 15:20:38.591265</th>\n",
       "      <td>NaN</td>\n",
       "      <td>NaN</td>\n",
       "      <td>NaN</td>\n",
       "      <td>NaN</td>\n",
       "    </tr>\n",
       "    <tr>\n",
       "      <th>2015-06-25 15:21:38.707676</th>\n",
       "      <td>NaN</td>\n",
       "      <td>NaN</td>\n",
       "      <td>NaN</td>\n",
       "      <td>NaN</td>\n",
       "    </tr>\n",
       "    <tr>\n",
       "      <th>2015-06-25 15:22:38.809118</th>\n",
       "      <td>NaN</td>\n",
       "      <td>NaN</td>\n",
       "      <td>NaN</td>\n",
       "      <td>NaN</td>\n",
       "    </tr>\n",
       "    <tr>\n",
       "      <th>2015-06-25 15:23:38.881117</th>\n",
       "      <td>NaN</td>\n",
       "      <td>NaN</td>\n",
       "      <td>NaN</td>\n",
       "      <td>NaN</td>\n",
       "    </tr>\n",
       "    <tr>\n",
       "      <th>2015-06-25 15:24:38.997225</th>\n",
       "      <td>NaN</td>\n",
       "      <td>NaN</td>\n",
       "      <td>NaN</td>\n",
       "      <td>NaN</td>\n",
       "    </tr>\n",
       "    <tr>\n",
       "      <th>2015-06-25 15:25:39.113266</th>\n",
       "      <td>NaN</td>\n",
       "      <td>NaN</td>\n",
       "      <td>NaN</td>\n",
       "      <td>NaN</td>\n",
       "    </tr>\n",
       "    <tr>\n",
       "      <th>2015-06-25 15:26:39.229461</th>\n",
       "      <td>NaN</td>\n",
       "      <td>NaN</td>\n",
       "      <td>NaN</td>\n",
       "      <td>NaN</td>\n",
       "    </tr>\n",
       "    <tr>\n",
       "      <th>2015-06-25 15:27:39.345537</th>\n",
       "      <td>NaN</td>\n",
       "      <td>NaN</td>\n",
       "      <td>NaN</td>\n",
       "      <td>NaN</td>\n",
       "    </tr>\n",
       "    <tr>\n",
       "      <th>2015-06-25 15:28:39.461644</th>\n",
       "      <td>NaN</td>\n",
       "      <td>NaN</td>\n",
       "      <td>NaN</td>\n",
       "      <td>NaN</td>\n",
       "    </tr>\n",
       "    <tr>\n",
       "      <th>2015-06-25 15:29:39.577732</th>\n",
       "      <td>NaN</td>\n",
       "      <td>NaN</td>\n",
       "      <td>NaN</td>\n",
       "      <td>NaN</td>\n",
       "    </tr>\n",
       "    <tr>\n",
       "      <th>2015-06-25 15:30:39.693809</th>\n",
       "      <td>NaN</td>\n",
       "      <td>NaN</td>\n",
       "      <td>NaN</td>\n",
       "      <td>NaN</td>\n",
       "    </tr>\n",
       "    <tr>\n",
       "      <th>2015-06-25 15:31:39.809122</th>\n",
       "      <td>NaN</td>\n",
       "      <td>NaN</td>\n",
       "      <td>NaN</td>\n",
       "      <td>NaN</td>\n",
       "    </tr>\n",
       "    <tr>\n",
       "      <th>2015-06-25 15:32:39.925203</th>\n",
       "      <td>NaN</td>\n",
       "      <td>NaN</td>\n",
       "      <td>NaN</td>\n",
       "      <td>NaN</td>\n",
       "    </tr>\n",
       "    <tr>\n",
       "      <th>2015-06-25 15:33:39.989132</th>\n",
       "      <td>NaN</td>\n",
       "      <td>NaN</td>\n",
       "      <td>NaN</td>\n",
       "      <td>NaN</td>\n",
       "    </tr>\n",
       "    <tr>\n",
       "      <th>2015-06-25 15:34:40.105226</th>\n",
       "      <td>NaN</td>\n",
       "      <td>NaN</td>\n",
       "      <td>NaN</td>\n",
       "      <td>NaN</td>\n",
       "    </tr>\n",
       "    <tr>\n",
       "      <th>2015-06-25 15:35:40.221276</th>\n",
       "      <td>NaN</td>\n",
       "      <td>NaN</td>\n",
       "      <td>NaN</td>\n",
       "      <td>NaN</td>\n",
       "    </tr>\n",
       "    <tr>\n",
       "      <th>2015-06-25 15:36:40.337392</th>\n",
       "      <td>NaN</td>\n",
       "      <td>NaN</td>\n",
       "      <td>NaN</td>\n",
       "      <td>NaN</td>\n",
       "    </tr>\n",
       "    <tr>\n",
       "      <th>...</th>\n",
       "      <td>...</td>\n",
       "      <td>...</td>\n",
       "      <td>...</td>\n",
       "      <td>...</td>\n",
       "    </tr>\n",
       "    <tr>\n",
       "      <th>2015-07-03 12:41:00.045462</th>\n",
       "      <td>NaN</td>\n",
       "      <td>NaN</td>\n",
       "      <td>NaN</td>\n",
       "      <td>NaN</td>\n",
       "    </tr>\n",
       "    <tr>\n",
       "      <th>2015-07-03 12:42:00.142581</th>\n",
       "      <td>NaN</td>\n",
       "      <td>NaN</td>\n",
       "      <td>NaN</td>\n",
       "      <td>NaN</td>\n",
       "    </tr>\n",
       "    <tr>\n",
       "      <th>2015-07-03 12:43:00.246506</th>\n",
       "      <td>NaN</td>\n",
       "      <td>NaN</td>\n",
       "      <td>NaN</td>\n",
       "      <td>NaN</td>\n",
       "    </tr>\n",
       "    <tr>\n",
       "      <th>2015-07-03 12:44:00.344052</th>\n",
       "      <td>NaN</td>\n",
       "      <td>49517</td>\n",
       "      <td>NaN</td>\n",
       "      <td>121206</td>\n",
       "    </tr>\n",
       "    <tr>\n",
       "      <th>2015-07-03 12:45:00.460198</th>\n",
       "      <td>NaN</td>\n",
       "      <td>NaN</td>\n",
       "      <td>NaN</td>\n",
       "      <td>NaN</td>\n",
       "    </tr>\n",
       "    <tr>\n",
       "      <th>2015-07-03 12:46:00.542509</th>\n",
       "      <td>NaN</td>\n",
       "      <td>NaN</td>\n",
       "      <td>NaN</td>\n",
       "      <td>NaN</td>\n",
       "    </tr>\n",
       "    <tr>\n",
       "      <th>2015-07-03 12:47:00.658656</th>\n",
       "      <td>NaN</td>\n",
       "      <td>NaN</td>\n",
       "      <td>NaN</td>\n",
       "      <td>NaN</td>\n",
       "    </tr>\n",
       "    <tr>\n",
       "      <th>2015-07-03 12:48:00.742511</th>\n",
       "      <td>NaN</td>\n",
       "      <td>NaN</td>\n",
       "      <td>NaN</td>\n",
       "      <td>NaN</td>\n",
       "    </tr>\n",
       "    <tr>\n",
       "      <th>2015-07-03 12:49:00.858706</th>\n",
       "      <td>NaN</td>\n",
       "      <td>NaN</td>\n",
       "      <td>NaN</td>\n",
       "      <td>NaN</td>\n",
       "    </tr>\n",
       "    <tr>\n",
       "      <th>2015-07-03 12:50:00.942499</th>\n",
       "      <td>NaN</td>\n",
       "      <td>NaN</td>\n",
       "      <td>NaN</td>\n",
       "      <td>NaN</td>\n",
       "    </tr>\n",
       "    <tr>\n",
       "      <th>2015-07-03 12:51:01.045453</th>\n",
       "      <td>NaN</td>\n",
       "      <td>NaN</td>\n",
       "      <td>NaN</td>\n",
       "      <td>NaN</td>\n",
       "    </tr>\n",
       "    <tr>\n",
       "      <th>2015-07-03 12:52:01.142503</th>\n",
       "      <td>NaN</td>\n",
       "      <td>NaN</td>\n",
       "      <td>NaN</td>\n",
       "      <td>NaN</td>\n",
       "    </tr>\n",
       "    <tr>\n",
       "      <th>2015-07-03 12:53:01.258673</th>\n",
       "      <td>NaN</td>\n",
       "      <td>NaN</td>\n",
       "      <td>NaN</td>\n",
       "      <td>NaN</td>\n",
       "    </tr>\n",
       "    <tr>\n",
       "      <th>2015-07-03 12:54:01.334502</th>\n",
       "      <td>NaN</td>\n",
       "      <td>NaN</td>\n",
       "      <td>NaN</td>\n",
       "      <td>NaN</td>\n",
       "    </tr>\n",
       "    <tr>\n",
       "      <th>2015-07-03 12:55:01.450657</th>\n",
       "      <td>NaN</td>\n",
       "      <td>NaN</td>\n",
       "      <td>NaN</td>\n",
       "      <td>NaN</td>\n",
       "    </tr>\n",
       "    <tr>\n",
       "      <th>2015-07-03 12:56:01.542501</th>\n",
       "      <td>NaN</td>\n",
       "      <td>NaN</td>\n",
       "      <td>NaN</td>\n",
       "      <td>NaN</td>\n",
       "    </tr>\n",
       "    <tr>\n",
       "      <th>2015-07-03 12:57:01.658587</th>\n",
       "      <td>NaN</td>\n",
       "      <td>NaN</td>\n",
       "      <td>NaN</td>\n",
       "      <td>NaN</td>\n",
       "    </tr>\n",
       "    <tr>\n",
       "      <th>2015-07-03 12:58:01.742500</th>\n",
       "      <td>NaN</td>\n",
       "      <td>NaN</td>\n",
       "      <td>NaN</td>\n",
       "      <td>NaN</td>\n",
       "    </tr>\n",
       "    <tr>\n",
       "      <th>2015-07-03 12:59:01.858521</th>\n",
       "      <td>NaN</td>\n",
       "      <td>NaN</td>\n",
       "      <td>NaN</td>\n",
       "      <td>NaN</td>\n",
       "    </tr>\n",
       "    <tr>\n",
       "      <th>2015-07-03 13:00:01.942502</th>\n",
       "      <td>NaN</td>\n",
       "      <td>NaN</td>\n",
       "      <td>NaN</td>\n",
       "      <td>NaN</td>\n",
       "    </tr>\n",
       "    <tr>\n",
       "      <th>2015-07-03 13:01:02.058571</th>\n",
       "      <td>NaN</td>\n",
       "      <td>NaN</td>\n",
       "      <td>NaN</td>\n",
       "      <td>NaN</td>\n",
       "    </tr>\n",
       "    <tr>\n",
       "      <th>2015-07-03 13:02:02.126502</th>\n",
       "      <td>NaN</td>\n",
       "      <td>NaN</td>\n",
       "      <td>NaN</td>\n",
       "      <td>NaN</td>\n",
       "    </tr>\n",
       "    <tr>\n",
       "      <th>2015-07-03 13:03:02.198513</th>\n",
       "      <td>NaN</td>\n",
       "      <td>NaN</td>\n",
       "      <td>NaN</td>\n",
       "      <td>49592</td>\n",
       "    </tr>\n",
       "    <tr>\n",
       "      <th>2015-07-03 13:04:02.316727</th>\n",
       "      <td>NaN</td>\n",
       "      <td>NaN</td>\n",
       "      <td>NaN</td>\n",
       "      <td>NaN</td>\n",
       "    </tr>\n",
       "    <tr>\n",
       "      <th>2015-07-03 13:05:02.432846</th>\n",
       "      <td>NaN</td>\n",
       "      <td>NaN</td>\n",
       "      <td>NaN</td>\n",
       "      <td>NaN</td>\n",
       "    </tr>\n",
       "    <tr>\n",
       "      <th>2015-07-03 13:06:02.542503</th>\n",
       "      <td>NaN</td>\n",
       "      <td>NaN</td>\n",
       "      <td>NaN</td>\n",
       "      <td>NaN</td>\n",
       "    </tr>\n",
       "    <tr>\n",
       "      <th>2015-07-03 13:07:02.658649</th>\n",
       "      <td>NaN</td>\n",
       "      <td>NaN</td>\n",
       "      <td>NaN</td>\n",
       "      <td>NaN</td>\n",
       "    </tr>\n",
       "    <tr>\n",
       "      <th>2015-07-03 13:08:02.742499</th>\n",
       "      <td>NaN</td>\n",
       "      <td>NaN</td>\n",
       "      <td>NaN</td>\n",
       "      <td>NaN</td>\n",
       "    </tr>\n",
       "    <tr>\n",
       "      <th>2015-07-03 13:09:02.858672</th>\n",
       "      <td>NaN</td>\n",
       "      <td>NaN</td>\n",
       "      <td>NaN</td>\n",
       "      <td>NaN</td>\n",
       "    </tr>\n",
       "    <tr>\n",
       "      <th>2015-07-03 13:10:02.942499</th>\n",
       "      <td>NaN</td>\n",
       "      <td>NaN</td>\n",
       "      <td>NaN</td>\n",
       "      <td>NaN</td>\n",
       "    </tr>\n",
       "  </tbody>\n",
       "</table>\n",
       "<p>11376 rows × 4 columns</p>\n",
       "</div>"
      ],
      "text/plain": [
       "                            temp  pressure  altitude  sealevel_pressure\n",
       "date                                                                   \n",
       "2015-06-25 15:07:37.174400   NaN       NaN       NaN                NaN\n",
       "2015-06-25 15:08:37.290769   NaN       NaN       NaN                NaN\n",
       "2015-06-25 15:09:37.406928   NaN       NaN       NaN                NaN\n",
       "2015-06-25 15:10:37.523022   NaN       NaN       NaN                NaN\n",
       "2015-06-25 15:11:37.638969   NaN       NaN       NaN                NaN\n",
       "2015-06-25 15:12:37.755075   NaN       NaN       NaN                NaN\n",
       "2015-06-25 15:13:37.817112   NaN       NaN       NaN                NaN\n",
       "2015-06-25 15:14:37.933191   NaN       NaN       NaN                NaN\n",
       "2015-06-25 15:15:38.049267   NaN       NaN       NaN                NaN\n",
       "2015-06-25 15:16:38.125113   NaN       NaN       NaN                NaN\n",
       "2015-06-25 15:17:38.241312   NaN       NaN       NaN                NaN\n",
       "2015-06-25 15:18:38.358250   NaN       NaN       NaN                NaN\n",
       "2015-06-25 15:19:38.474672   NaN       NaN       NaN                NaN\n",
       "2015-06-25 15:20:38.591265   NaN       NaN       NaN                NaN\n",
       "2015-06-25 15:21:38.707676   NaN       NaN       NaN                NaN\n",
       "2015-06-25 15:22:38.809118   NaN       NaN       NaN                NaN\n",
       "2015-06-25 15:23:38.881117   NaN       NaN       NaN                NaN\n",
       "2015-06-25 15:24:38.997225   NaN       NaN       NaN                NaN\n",
       "2015-06-25 15:25:39.113266   NaN       NaN       NaN                NaN\n",
       "2015-06-25 15:26:39.229461   NaN       NaN       NaN                NaN\n",
       "2015-06-25 15:27:39.345537   NaN       NaN       NaN                NaN\n",
       "2015-06-25 15:28:39.461644   NaN       NaN       NaN                NaN\n",
       "2015-06-25 15:29:39.577732   NaN       NaN       NaN                NaN\n",
       "2015-06-25 15:30:39.693809   NaN       NaN       NaN                NaN\n",
       "2015-06-25 15:31:39.809122   NaN       NaN       NaN                NaN\n",
       "2015-06-25 15:32:39.925203   NaN       NaN       NaN                NaN\n",
       "2015-06-25 15:33:39.989132   NaN       NaN       NaN                NaN\n",
       "2015-06-25 15:34:40.105226   NaN       NaN       NaN                NaN\n",
       "2015-06-25 15:35:40.221276   NaN       NaN       NaN                NaN\n",
       "2015-06-25 15:36:40.337392   NaN       NaN       NaN                NaN\n",
       "...                          ...       ...       ...                ...\n",
       "2015-07-03 12:41:00.045462   NaN       NaN       NaN                NaN\n",
       "2015-07-03 12:42:00.142581   NaN       NaN       NaN                NaN\n",
       "2015-07-03 12:43:00.246506   NaN       NaN       NaN                NaN\n",
       "2015-07-03 12:44:00.344052   NaN     49517       NaN             121206\n",
       "2015-07-03 12:45:00.460198   NaN       NaN       NaN                NaN\n",
       "2015-07-03 12:46:00.542509   NaN       NaN       NaN                NaN\n",
       "2015-07-03 12:47:00.658656   NaN       NaN       NaN                NaN\n",
       "2015-07-03 12:48:00.742511   NaN       NaN       NaN                NaN\n",
       "2015-07-03 12:49:00.858706   NaN       NaN       NaN                NaN\n",
       "2015-07-03 12:50:00.942499   NaN       NaN       NaN                NaN\n",
       "2015-07-03 12:51:01.045453   NaN       NaN       NaN                NaN\n",
       "2015-07-03 12:52:01.142503   NaN       NaN       NaN                NaN\n",
       "2015-07-03 12:53:01.258673   NaN       NaN       NaN                NaN\n",
       "2015-07-03 12:54:01.334502   NaN       NaN       NaN                NaN\n",
       "2015-07-03 12:55:01.450657   NaN       NaN       NaN                NaN\n",
       "2015-07-03 12:56:01.542501   NaN       NaN       NaN                NaN\n",
       "2015-07-03 12:57:01.658587   NaN       NaN       NaN                NaN\n",
       "2015-07-03 12:58:01.742500   NaN       NaN       NaN                NaN\n",
       "2015-07-03 12:59:01.858521   NaN       NaN       NaN                NaN\n",
       "2015-07-03 13:00:01.942502   NaN       NaN       NaN                NaN\n",
       "2015-07-03 13:01:02.058571   NaN       NaN       NaN                NaN\n",
       "2015-07-03 13:02:02.126502   NaN       NaN       NaN                NaN\n",
       "2015-07-03 13:03:02.198513   NaN       NaN       NaN              49592\n",
       "2015-07-03 13:04:02.316727   NaN       NaN       NaN                NaN\n",
       "2015-07-03 13:05:02.432846   NaN       NaN       NaN                NaN\n",
       "2015-07-03 13:06:02.542503   NaN       NaN       NaN                NaN\n",
       "2015-07-03 13:07:02.658649   NaN       NaN       NaN                NaN\n",
       "2015-07-03 13:08:02.742499   NaN       NaN       NaN                NaN\n",
       "2015-07-03 13:09:02.858672   NaN       NaN       NaN                NaN\n",
       "2015-07-03 13:10:02.942499   NaN       NaN       NaN                NaN\n",
       "\n",
       "[11376 rows x 4 columns]"
      ]
     },
     "execution_count": 197,
     "metadata": {},
     "output_type": "execute_result"
    }
   ],
   "source": [
    "data[outliers]"
   ]
  },
  {
   "cell_type": "code",
   "execution_count": 198,
   "metadata": {
    "collapsed": false
   },
   "outputs": [
    {
     "data": {
      "image/png": "[encoded data removed]",
      "text/plain": [
       "<matplotlib.figure.Figure at 0x7f0c71b10860>"
      ]
     },
     "metadata": {},
     "output_type": "display_data"
    },
    {
     "data": {
      "text/plain": [
       "<matplotlib.axes._subplots.AxesSubplot at 0x7f0c71b10550>"
      ]
     },
     "execution_count": 198,
     "metadata": {},
     "output_type": "execute_result"
    }
   ],
   "source": [
    "data[~spot_outliers(data)].plot()"
   ]
  },
  {
   "cell_type": "code",
   "execution_count": 199,
   "metadata": {
    "collapsed": false
   },
   "outputs": [
    {
     "ename": "IndexingError",
     "evalue": "Unalignable boolean Series key provided",
     "output_type": "error",
     "traceback": [
      "\u001b[1;31m---------------------------------------------------------------------------\u001b[0m",
      "\u001b[1;31mIndexingError\u001b[0m                             Traceback (most recent call last)",
      "\u001b[1;32m<ipython-input-199-43bdba5870e3>\u001b[0m in \u001b[0;36m<module>\u001b[1;34m()\u001b[0m\n\u001b[1;32m----> 1\u001b[1;33m \u001b[0mdata\u001b[0m\u001b[1;33m[\u001b[0m\u001b[1;33m~\u001b[0m\u001b[0mmask\u001b[0m\u001b[1;33m]\u001b[0m\u001b[1;33m.\u001b[0m\u001b[0mdescribe\u001b[0m\u001b[1;33m(\u001b[0m\u001b[1;33m)\u001b[0m\u001b[1;33m\u001b[0m\u001b[0m\n\u001b[0m",
      "\u001b[1;32m/home/jng/.virtualenvs/peakrisk2/lib/python3.4/site-packages/pandas/core/frame.py\u001b[0m in \u001b[0;36m__getitem__\u001b[1;34m(self, key)\u001b[0m\n\u001b[0;32m   1789\u001b[0m         \u001b[1;32mif\u001b[0m \u001b[0misinstance\u001b[0m\u001b[1;33m(\u001b[0m\u001b[0mkey\u001b[0m\u001b[1;33m,\u001b[0m \u001b[1;33m(\u001b[0m\u001b[0mSeries\u001b[0m\u001b[1;33m,\u001b[0m \u001b[0mnp\u001b[0m\u001b[1;33m.\u001b[0m\u001b[0mndarray\u001b[0m\u001b[1;33m,\u001b[0m \u001b[0mIndex\u001b[0m\u001b[1;33m,\u001b[0m \u001b[0mlist\u001b[0m\u001b[1;33m)\u001b[0m\u001b[1;33m)\u001b[0m\u001b[1;33m:\u001b[0m\u001b[1;33m\u001b[0m\u001b[0m\n\u001b[0;32m   1790\u001b[0m             \u001b[1;31m# either boolean or fancy integer index\u001b[0m\u001b[1;33m\u001b[0m\u001b[1;33m\u001b[0m\u001b[0m\n\u001b[1;32m-> 1791\u001b[1;33m             \u001b[1;32mreturn\u001b[0m \u001b[0mself\u001b[0m\u001b[1;33m.\u001b[0m\u001b[0m_getitem_array\u001b[0m\u001b[1;33m(\u001b[0m\u001b[0mkey\u001b[0m\u001b[1;33m)\u001b[0m\u001b[1;33m\u001b[0m\u001b[0m\n\u001b[0m\u001b[0;32m   1792\u001b[0m         \u001b[1;32melif\u001b[0m \u001b[0misinstance\u001b[0m\u001b[1;33m(\u001b[0m\u001b[0mkey\u001b[0m\u001b[1;33m,\u001b[0m \u001b[0mDataFrame\u001b[0m\u001b[1;33m)\u001b[0m\u001b[1;33m:\u001b[0m\u001b[1;33m\u001b[0m\u001b[0m\n\u001b[0;32m   1793\u001b[0m             \u001b[1;32mreturn\u001b[0m \u001b[0mself\u001b[0m\u001b[1;33m.\u001b[0m\u001b[0m_getitem_frame\u001b[0m\u001b[1;33m(\u001b[0m\u001b[0mkey\u001b[0m\u001b[1;33m)\u001b[0m\u001b[1;33m\u001b[0m\u001b[0m\n",
      "\u001b[1;32m/home/jng/.virtualenvs/peakrisk2/lib/python3.4/site-packages/pandas/core/frame.py\u001b[0m in \u001b[0;36m_getitem_array\u001b[1;34m(self, key)\u001b[0m\n\u001b[0;32m   1829\u001b[0m             \u001b[1;31m# check_bool_indexer will throw exception if Series key cannot\u001b[0m\u001b[1;33m\u001b[0m\u001b[1;33m\u001b[0m\u001b[0m\n\u001b[0;32m   1830\u001b[0m             \u001b[1;31m# be reindexed to match DataFrame rows\u001b[0m\u001b[1;33m\u001b[0m\u001b[1;33m\u001b[0m\u001b[0m\n\u001b[1;32m-> 1831\u001b[1;33m             \u001b[0mkey\u001b[0m \u001b[1;33m=\u001b[0m \u001b[0mcheck_bool_indexer\u001b[0m\u001b[1;33m(\u001b[0m\u001b[0mself\u001b[0m\u001b[1;33m.\u001b[0m\u001b[0mindex\u001b[0m\u001b[1;33m,\u001b[0m \u001b[0mkey\u001b[0m\u001b[1;33m)\u001b[0m\u001b[1;33m\u001b[0m\u001b[0m\n\u001b[0m\u001b[0;32m   1832\u001b[0m             \u001b[0mindexer\u001b[0m \u001b[1;33m=\u001b[0m \u001b[0mkey\u001b[0m\u001b[1;33m.\u001b[0m\u001b[0mnonzero\u001b[0m\u001b[1;33m(\u001b[0m\u001b[1;33m)\u001b[0m\u001b[1;33m[\u001b[0m\u001b[1;36m0\u001b[0m\u001b[1;33m]\u001b[0m\u001b[1;33m\u001b[0m\u001b[0m\n\u001b[0;32m   1833\u001b[0m             \u001b[1;32mreturn\u001b[0m \u001b[0mself\u001b[0m\u001b[1;33m.\u001b[0m\u001b[0mtake\u001b[0m\u001b[1;33m(\u001b[0m\u001b[0mindexer\u001b[0m\u001b[1;33m,\u001b[0m \u001b[0maxis\u001b[0m\u001b[1;33m=\u001b[0m\u001b[1;36m0\u001b[0m\u001b[1;33m,\u001b[0m \u001b[0mconvert\u001b[0m\u001b[1;33m=\u001b[0m\u001b[1;32mFalse\u001b[0m\u001b[1;33m)\u001b[0m\u001b[1;33m\u001b[0m\u001b[0m\n",
      "\u001b[1;32m/home/jng/.virtualenvs/peakrisk2/lib/python3.4/site-packages/pandas/core/indexing.py\u001b[0m in \u001b[0;36mcheck_bool_indexer\u001b[1;34m(ax, key)\u001b[0m\n\u001b[0;32m   1657\u001b[0m         \u001b[0mmask\u001b[0m \u001b[1;33m=\u001b[0m \u001b[0mcom\u001b[0m\u001b[1;33m.\u001b[0m\u001b[0misnull\u001b[0m\u001b[1;33m(\u001b[0m\u001b[0mresult\u001b[0m\u001b[1;33m.\u001b[0m\u001b[0mvalues\u001b[0m\u001b[1;33m)\u001b[0m\u001b[1;33m\u001b[0m\u001b[0m\n\u001b[0;32m   1658\u001b[0m         \u001b[1;32mif\u001b[0m \u001b[0mmask\u001b[0m\u001b[1;33m.\u001b[0m\u001b[0many\u001b[0m\u001b[1;33m(\u001b[0m\u001b[1;33m)\u001b[0m\u001b[1;33m:\u001b[0m\u001b[1;33m\u001b[0m\u001b[0m\n\u001b[1;32m-> 1659\u001b[1;33m             \u001b[1;32mraise\u001b[0m \u001b[0mIndexingError\u001b[0m\u001b[1;33m(\u001b[0m\u001b[1;34m'Unalignable boolean Series key provided'\u001b[0m\u001b[1;33m)\u001b[0m\u001b[1;33m\u001b[0m\u001b[0m\n\u001b[0m\u001b[0;32m   1660\u001b[0m \u001b[1;33m\u001b[0m\u001b[0m\n\u001b[0;32m   1661\u001b[0m         \u001b[0mresult\u001b[0m \u001b[1;33m=\u001b[0m \u001b[0mresult\u001b[0m\u001b[1;33m.\u001b[0m\u001b[0mastype\u001b[0m\u001b[1;33m(\u001b[0m\u001b[0mbool\u001b[0m\u001b[1;33m)\u001b[0m\u001b[1;33m.\u001b[0m\u001b[0mvalues\u001b[0m\u001b[1;33m\u001b[0m\u001b[0m\n",
      "\u001b[1;31mIndexingError\u001b[0m: Unalignable boolean Series key provided"
     ]
    },
    {
     "name": "stderr",
     "output_type": "stream",
     "text": [
      "/home/jng/.virtualenvs/peakrisk2/lib/python3.4/site-packages/pandas/core/frame.py:1825: UserWarning: Boolean Series key will be reindexed to match DataFrame index.\n",
      "  \"DataFrame index.\", UserWarning)\n"
     ]
    }
   ],
   "source": [
    "data[~mask].describe()"
   ]
  },
  {
   "cell_type": "code",
   "execution_count": 200,
   "metadata": {
    "collapsed": false
   },
   "outputs": [
    {
     "data": {
      "image/png": "[encoded data removed]",
      "text/plain": [
       "<matplotlib.figure.Figure at 0x7f0c71c74e80>"
      ]
     },
     "metadata": {},
     "output_type": "display_data"
    },
    {
     "data": {
      "text/plain": [
       "<matplotlib.axes._subplots.AxesSubplot at 0x7f0c717abbe0>"
      ]
     },
     "execution_count": 200,
     "metadata": {},
     "output_type": "execute_result"
    }
   ],
   "source": [
    "data.temp[spot_outliers(data.temp)].plot()"
   ]
  },
  {
   "cell_type": "code",
   "execution_count": 201,
   "metadata": {
    "collapsed": false
   },
   "outputs": [
    {
     "data": {
      "text/plain": [
       "date\n",
       "2015-06-29 00:30:04.757425    123.4\n",
       "2015-06-29 02:16:16.421378     58.1\n",
       "2015-06-29 04:36:31.999731     58.5\n",
       "2015-06-29 06:55:47.389789     98.3\n",
       "2015-06-29 07:27:50.925301     67.9\n",
       "2015-06-29 09:35:04.905765     71.8\n",
       "2015-06-29 11:27:17.365401     87.6\n",
       "2015-06-29 13:17:29.549340     94.8\n",
       "2015-06-29 13:33:31.345615     91.9\n",
       "2015-06-29 13:49:33.137824     67.4\n",
       "2015-06-29 14:20:36.557338     85.0\n",
       "2015-06-29 15:23:43.578008     71.7\n",
       "2015-06-29 15:39:45.370125    123.3\n",
       "2015-06-29 17:47:59.445202     92.6\n",
       "2015-06-30 01:08:17.592235    146.7\n",
       "2015-06-30 01:23:19.242592     86.1\n",
       "2015-06-30 06:30:53.114578    102.1\n",
       "2015-06-30 09:49:14.936956     79.6\n",
       "2015-06-30 14:09:43.894483     64.9\n",
       "2015-06-30 18:00:09.362701    120.3\n",
       "2015-06-30 20:59:29.362636     59.9\n",
       "2015-07-01 02:20:02.628228     86.9\n",
       "2015-07-01 02:37:04.326589     68.5\n",
       "2015-07-01 07:12:32.146686    158.2\n",
       "2015-07-01 09:05:43.746598     86.6\n",
       "2015-07-01 19:58:50.770681    123.0\n",
       "2015-07-01 20:17:52.648527    119.6\n",
       "2015-07-01 20:34:54.370593    162.9\n",
       "2015-07-01 22:50:07.378702    123.0\n",
       "2015-07-02 02:13:27.582607     71.3\n",
       "2015-07-02 02:51:31.386463     64.4\n",
       "2015-07-02 07:08:58.286498    128.3\n",
       "2015-07-02 10:27:18.610704     88.4\n",
       "2015-07-02 11:33:25.310520    123.8\n",
       "2015-07-02 15:04:47.134526    123.3\n",
       "2015-07-02 21:09:24.578484     88.9\n",
       "2015-07-02 22:13:31.130461    123.0\n",
       "2015-07-02 22:30:32.830640    141.4\n",
       "2015-07-02 23:15:37.580525    123.2\n",
       "2015-07-03 04:21:09.045591    123.5\n",
       "2015-07-03 04:55:12.592656     52.9\n",
       "2015-07-03 09:53:43.003873    106.6\n",
       "Name: temp, dtype: float64"
      ]
     },
     "execution_count": 201,
     "metadata": {},
     "output_type": "execute_result"
    }
   ],
   "source": [
    "data.temp[data.temp > 50.0]"
   ]
  },
  {
   "cell_type": "code",
   "execution_count": 202,
   "metadata": {
    "collapsed": false
   },
   "outputs": [
    {
     "data": {
      "text/plain": [
       "count     42.000000\n",
       "mean      98.561905\n",
       "std       29.104638\n",
       "min       52.900000\n",
       "25%       71.725000\n",
       "50%       92.250000\n",
       "75%      123.150000\n",
       "max      162.900000\n",
       "Name: temp, dtype: float64"
      ]
     },
     "execution_count": 202,
     "metadata": {},
     "output_type": "execute_result"
    }
   ],
   "source": [
    "bad = data.temp[data.temp > 50.0]\n",
    "bad.describe()"
   ]
  },
  {
   "cell_type": "code",
   "execution_count": 203,
   "metadata": {
    "collapsed": false
   },
   "outputs": [
    {
     "data": {
      "image/png": "[encoded data removed]",
      "text/plain": [
       "<matplotlib.figure.Figure at 0x7f0c716cc7f0>"
      ]
     },
     "metadata": {},
     "output_type": "display_data"
    },
    {
     "data": {
      "text/plain": [
       "array([<matplotlib.axes._subplots.AxesSubplot object at 0x7f0c716c6b70>,\n",
       "       <matplotlib.axes._subplots.AxesSubplot object at 0x7f0c71a0eda0>,\n",
       "       <matplotlib.axes._subplots.AxesSubplot object at 0x7f0c71958d30>,\n",
       "       <matplotlib.axes._subplots.AxesSubplot object at 0x7f0c71896748>], dtype=object)"
      ]
     },
     "execution_count": 203,
     "metadata": {},
     "output_type": "execute_result"
    }
   ],
   "source": [
    "data.plot(subplots=True)"
   ]
  },
  {
   "cell_type": "code",
   "execution_count": 27,
   "metadata": {
    "collapsed": false
   },
   "outputs": [],
   "source": [
    "mask = data.temp < 50.0\n",
    "\n",
    "mask = mask & (abs(data.altitude) < 100.0)\n",
    "\n",
    "good = data[mask]"
   ]
  },
  {
   "cell_type": "code",
   "execution_count": 28,
   "metadata": {
    "collapsed": false
   },
   "outputs": [
    {
     "data": {
      "text/plain": [
       "array([<matplotlib.axes._subplots.AxesSubplot object at 0x7f48b798c5f8>,\n",
       "       <matplotlib.axes._subplots.AxesSubplot object at 0x7f48b75a0c18>,\n",
       "       <matplotlib.axes._subplots.AxesSubplot object at 0x7f48b756cba8>,\n",
       "       <matplotlib.axes._subplots.AxesSubplot object at 0x7f48b752b588>], dtype=object)"
      ]
     },
     "execution_count": 28,
     "metadata": {},
     "output_type": "execute_result"
    },
    {
     "data": {
      "text/plain": [
       "<matplotlib.figure.Figure at 0x7f48b765c7b8>"
      ]
     },
     "metadata": {},
     "output_type": "display_data"
    }
   ],
   "source": [
    "good.plot(subplots=True)"
   ]
  },
  {
   "cell_type": "code",
   "execution_count": 29,
   "metadata": {
    "collapsed": false
   },
   "outputs": [
    {
     "data": {
      "text/plain": [
       "              temp       pressure     altitude  sealevel_pressure\n",
       "count  5997.000000    5997.000000  5997.000000        5997.000000\n",
       "mean     28.644489  101682.101884   -31.575287      101680.632816\n",
       "std       0.759484    1541.214027     7.020223        1280.501740\n",
       "min      27.200000   37993.000000   -56.873967       49539.000000\n",
       "25%      28.000000  101642.000000   -35.157337      101643.000000\n",
       "50%      28.600000  101702.000000   -31.339822      101702.000000\n",
       "75%      29.400000  101748.000000   -26.441397      101748.000000\n",
       "max      30.100000  128808.000000    31.768412      121592.000000"
      ]
     },
     "execution_count": 29,
     "metadata": {},
     "output_type": "execute_result"
    }
   ],
   "source": [
    "good.describe()"
   ]
  },
  {
   "cell_type": "code",
   "execution_count": 30,
   "metadata": {
    "collapsed": false
   },
   "outputs": [
    {
     "data": {
      "text/plain": [
       "              temp       pressure     altitude  sealevel_pressure\n",
       "count  6033.000000    6033.000000  6033.000000        6033.000000\n",
       "mean     28.775535  101546.593569   -22.896557      101749.929057\n",
       "std       2.986311    3129.776450   226.384162        1972.425764\n",
       "min      27.200000   28421.000000 -2067.737364       49539.000000\n",
       "25%      28.000000  101642.000000   -35.240311      101643.000000\n",
       "50%      28.600000  101702.000000   -31.339822      101702.000000\n",
       "75%      29.400000  101748.000000   -26.358353      101749.000000\n",
       "max     123.400000  128808.000000  7610.794710      139326.000000"
      ]
     },
     "execution_count": 30,
     "metadata": {},
     "output_type": "execute_result"
    }
   ],
   "source": [
    "data.describe()"
   ]
  },
  {
   "cell_type": "code",
   "execution_count": 31,
   "metadata": {
    "collapsed": false
   },
   "outputs": [
    {
     "data": {
      "text/plain": [
       "temp                 6033\n",
       "pressure             6033\n",
       "altitude             6033\n",
       "sealevel_pressure    6033\n",
       "dtype: int64"
      ]
     },
     "execution_count": 31,
     "metadata": {},
     "output_type": "execute_result"
    }
   ],
   "source": [
    "data.count()"
   ]
  },
  {
   "cell_type": "code",
   "execution_count": 32,
   "metadata": {
    "collapsed": false
   },
   "outputs": [
    {
     "data": {
      "text/plain": [
       "True     5997\n",
       "False      36\n",
       "dtype: int64"
      ]
     },
     "execution_count": 32,
     "metadata": {},
     "output_type": "execute_result"
    }
   ],
   "source": [
    "mask.value_counts()"
   ]
  },
  {
   "cell_type": "code",
   "execution_count": 33,
   "metadata": {
    "collapsed": false
   },
   "outputs": [
    {
     "data": {
      "text/plain": [
       "date\n",
       "2015-06-29 00:15:03.099947     28.7\n",
       "2015-06-29 00:30:04.757425    123.4\n",
       "2015-06-29 01:00:07.986653     28.6\n",
       "2015-06-29 02:16:16.421378     58.1\n",
       "2015-06-29 02:47:19.895202     28.6\n",
       "2015-06-29 03:49:26.791876     28.3\n",
       "2015-06-29 04:36:31.999731     58.5\n",
       "2015-06-29 05:22:37.055336     27.9\n",
       "2015-06-29 06:55:47.389789     98.3\n",
       "2015-06-29 07:27:50.925301     67.9\n",
       "2015-06-29 07:43:52.672374     27.6\n",
       "2015-06-29 08:15:56.230414     27.6\n",
       "2015-06-29 09:03:01.390829     27.6\n",
       "2015-06-29 09:35:04.905765     71.8\n",
       "2015-06-29 10:24:10.334328     27.7\n",
       "2015-06-29 11:11:15.557277     27.9\n",
       "2015-06-29 11:27:17.365401     87.6\n",
       "2015-06-29 11:43:19.113136     28.0\n",
       "2015-06-29 12:46:26.116145     28.5\n",
       "2015-06-29 13:02:27.905121     28.6\n",
       "2015-06-29 13:17:29.549340     94.8\n",
       "2015-06-29 13:33:31.345615     91.9\n",
       "2015-06-29 13:49:33.137824     67.4\n",
       "2015-06-29 14:20:36.557338     85.0\n",
       "2015-06-29 14:36:38.309515     28.9\n",
       "2015-06-29 14:52:40.113594     29.0\n",
       "2015-06-29 15:23:43.578008     71.7\n",
       "2015-06-29 15:39:45.370125    123.3\n",
       "2015-06-29 15:55:47.113464     29.2\n",
       "2015-06-29 16:10:48.749601     29.2\n",
       "2015-06-29 16:42:52.357702     29.3\n",
       "2015-06-29 17:47:59.445202     92.6\n",
       "2015-06-29 18:52:36.594516     29.8\n",
       "2015-06-29 19:19:39.529870     29.5\n",
       "2015-06-29 19:35:41.214260     29.5\n",
       "2015-06-29 19:56:43.548595     29.5\n",
       "Name: temp, dtype: float64"
      ]
     },
     "execution_count": 33,
     "metadata": {},
     "output_type": "execute_result"
    }
   ],
   "source": [
    "data.temp[mask == False]"
   ]
  },
  {
   "cell_type": "code",
   "execution_count": 34,
   "metadata": {
    "collapsed": false
   },
   "outputs": [
    {
     "data": {
      "text/plain": [
       "Series([], Name: temp, dtype: float64)"
      ]
     },
     "execution_count": 34,
     "metadata": {},
     "output_type": "execute_result"
    }
   ],
   "source": [
    "good.temp[mask == False]"
   ]
  },
  {
   "cell_type": "code",
   "execution_count": 35,
   "metadata": {
    "collapsed": false
   },
   "outputs": [
    {
     "data": {
      "text/plain": [
       "pandas.core.frame.DataFrame"
      ]
     },
     "execution_count": 35,
     "metadata": {},
     "output_type": "execute_result"
    }
   ],
   "source": [
    "type(good)"
   ]
  },
  {
   "cell_type": "code",
   "execution_count": 44,
   "metadata": {
    "collapsed": false
   },
   "outputs": [
    {
     "data": {
      "text/plain": [
       "                             temp  pressure     altitude  sealevel_pressure\n",
       "date                                                                       \n",
       "2015-06-29 00:30:04.757425  123.4    101808   -40.134605             101811\n",
       "2015-06-29 02:16:16.421378   58.1    101850   -43.368556             101838\n",
       "2015-06-29 04:36:31.999731   58.5     28421  -806.764055             101727\n",
       "2015-06-29 06:55:47.389789   98.3    101695   -30.343719             101690\n",
       "2015-06-29 07:27:50.925301   67.9    101666   -29.430540             101675\n",
       "2015-06-29 09:35:04.905765   71.8    101779 -1707.795743             101782\n",
       "2015-06-29 11:27:17.365401   87.6    101850   -43.865998             101853\n",
       "2015-06-29 13:17:29.549340   94.8    101882   -46.104193             101883\n",
       "2015-06-29 13:33:31.345615   91.9    101880   -45.855528             101880\n",
       "2015-06-29 13:49:33.137824   67.4    101884   -46.850151             101890\n",
       "2015-06-29 14:20:36.557338   85.0    101894   -46.684387             101887\n",
       "2015-06-29 15:23:43.578008   71.7    101897   -47.596056             101900\n",
       "2015-06-29 15:39:45.370125  123.3     74838   -46.352851             101894\n",
       "2015-06-29 17:47:59.445202   92.6    101874   -46.104193             101877"
      ]
     },
     "execution_count": 44,
     "metadata": {},
     "output_type": "execute_result"
    }
   ],
   "source": [
    "data[data.temp > 50.0]"
   ]
  },
  {
   "cell_type": "code",
   "execution_count": 45,
   "metadata": {
    "collapsed": false
   },
   "outputs": [
    {
     "data": {
      "text/plain": [
       "                            temp  pressure     altitude  sealevel_pressure\n",
       "date                                                                      \n",
       "2015-06-29 00:15:03.099947  28.7     49788  2728.365527             133102\n",
       "2015-06-29 01:00:07.986653  28.6     49695  2714.956421             133319\n",
       "2015-06-29 02:47:19.895202  28.6     49721  2718.988121             133202\n",
       "2015-06-29 05:22:37.055336  27.9     49250  2729.020100             139309\n",
       "2015-06-29 05:53:40.477528  27.8     54037    31.768412             101697\n",
       "2015-06-29 07:43:52.672374  27.6     49055  2795.798273             133472\n",
       "2015-06-29 08:15:56.230414  27.6     49039  2758.521361             101702\n",
       "2015-06-29 09:03:01.390829  27.6     49033  2792.613214             133667\n",
       "2015-06-29 10:24:10.334328  27.7     49095  5708.784518             139326\n",
       "2015-06-29 12:46:26.116145  28.5    101870  7610.794710             101862\n",
       "2015-06-29 13:02:27.905121  28.6    101878  3444.553889             101875\n",
       "2015-06-29 15:55:47.113464  29.2    101894  5563.564240             121467\n",
       "2015-06-29 16:10:48.749601  29.2     50107  5557.821023             138570\n",
       "2015-06-29 16:42:52.357702  29.3     79345  1944.435304              83376\n",
       "2015-06-29 18:52:36.594516  29.8    101849  5502.781664             121544\n",
       "2015-06-29 19:19:39.529870  29.5     50269  2682.111013             132814\n",
       "2015-06-29 19:35:41.214260  29.5     50300  5530.626752             138125\n",
       "2015-06-29 21:12:51.778467  29.5     80441  1532.659257             101828"
      ]
     },
     "execution_count": 45,
     "metadata": {},
     "output_type": "execute_result"
    }
   ],
   "source": [
    "data[data.altitude > 0.0]"
   ]
  },
  {
   "cell_type": "code",
   "execution_count": 46,
   "metadata": {
    "collapsed": false
   },
   "outputs": [
    {
     "data": {
      "text/plain": [
       "                            temp  pressure     altitude  sealevel_pressure\n",
       "date                                                                      \n",
       "2015-06-29 00:00:01.421409  28.8    118018   -39.056399             101791\n",
       "2015-06-29 02:31:18.059312  28.6    114827   -42.373601             101837\n",
       "2015-06-29 03:49:26.791876  28.3    115708 -1022.457395             101762\n",
       "2015-06-29 04:20:30.231987  28.1    114477   -33.497720             101734\n",
       "2015-06-29 06:08:42.060109  27.8    114872   -29.430540             101679\n",
       "2015-06-29 10:08:08.582132  27.6    128808   -40.051670             101813\n",
       "2015-06-29 18:39:35.176405  29.8    112674   -44.031806             101850\n",
       "2015-06-29 19:56:43.548595  29.5    115516 -1016.637971             101847\n",
       "2015-06-29 20:12:45.188962  29.5    115597 -1019.056818             101848\n",
       "2015-06-29 20:59:50.346986  29.5    114416   -41.710245             101828"
      ]
     },
     "execution_count": 46,
     "metadata": {},
     "output_type": "execute_result"
    }
   ],
   "source": [
    "data[data.pressure > 110000.0]"
   ]
  },
  {
   "cell_type": "code",
   "execution_count": 49,
   "metadata": {
    "collapsed": false
   },
   "outputs": [
    {
     "data": {
      "text/plain": [
       "<matplotlib.axes._subplots.AxesSubplot at 0x7f48b707d438>"
      ]
     },
     "execution_count": 49,
     "metadata": {},
     "output_type": "execute_result"
    },
    {
     "data": {
      "text/plain": [
       "<matplotlib.figure.Figure at 0x7f48b7076e80>"
      ]
     },
     "metadata": {},
     "output_type": "display_data"
    }
   ],
   "source": [
    "data.diff()[:100].temp.plot()"
   ]
  },
  {
   "cell_type": "code",
   "execution_count": null,
   "metadata": {
    "collapsed": false
   },
   "outputs": [],
   "source": []
  }
 ],
 "metadata": {
  "kernelspec": {
   "display_name": "Python 3",
   "language": "python",
   "name": "python3"
  },
  "language_info": {
   "codemirror_mode": {
    "name": "ipython",
    "version": 3
   },
   "file_extension": ".py",
   "mimetype": "text/x-python",
   "name": "python",
   "nbconvert_exporter": "python",
   "pygments_lexer": "ipython3",
   "version": "3.4.3"
  },
  "name": "weather-station.ipynb"
 },
 "nbformat": 4,
 "nbformat_minor": 0
}
