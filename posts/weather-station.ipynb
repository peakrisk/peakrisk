{
 "cells": [
  {
   "cell_type": "markdown",
   "metadata": {
    "collapsed": true
   },
   "source": [
    "** Work in Progress -- starting to add commentary and tidy up **\n",
    "\n",
    "\n",
    "I connected a [BMP180]() temperature and pressure centre to a\n",
    "raspberry pi and have it running in my study.\n",
    "\n",
    "I have been using this note book to look at the data as it is generated.\n",
    "\n",
    "The code uses the Adafruit python library to extract data from the sensor.\n",
    "\n",
    "I find plotting the data is a good way to take an initial look at it.\n",
    "\n",
    "So, time for some pandas and matplotlib."
   ]
  },
  {
   "cell_type": "code",
   "execution_count": 267,
   "metadata": {
    "collapsed": false
   },
   "outputs": [],
   "source": [
    "# Tell matplotlib to plot in line\n",
    "%matplotlib inline\n",
    "\n",
    "# import pandas\n",
    "import pandas\n",
    "\n",
    "# seaborn magically adds a layer of goodness on top of Matplotlib\n",
    "# mostly this is just changing matplotlib defaults, but it does also\n",
    "# provide some higher level plotting methods.\n",
    "import seaborn\n",
    "\n",
    "# Tell seaborn to set things up\n",
    "seaborn.set()"
   ]
  },
  {
   "cell_type": "code",
   "execution_count": 268,
   "metadata": {
    "collapsed": false
   },
   "outputs": [
    {
     "name": "stdout",
     "output_type": "stream",
     "text": [
      "/home/jng/devel/peakrisk/posts\r\n"
     ]
    }
   ],
   "source": [
    "# just check where I am\n",
    "!pwd"
   ]
  },
  {
   "cell_type": "code",
   "execution_count": 269,
   "metadata": {
    "collapsed": false
   },
   "outputs": [],
   "source": [
    "infile = '../files/light.csv'"
   ]
  },
  {
   "cell_type": "code",
   "execution_count": 303,
   "metadata": {
    "collapsed": false
   },
   "outputs": [
    {
     "name": "stdout",
     "output_type": "stream",
     "text": [
      "\r",
      "light.csv                                     100%  794KB 793.5KB/s   00:00    \r\n"
     ]
    },
    {
     "name": "stdout",
     "output_type": "stream",
     "text": [
      "\r",
      "light.csv                                       0%    0     0.0KB/s   --:-- ETA"
     ]
    }
   ],
   "source": [
    "!scp 192.168.0.133:Adafruit_Python_BMP/light.csv .\n",
    "!mv light.csv ../files"
   ]
  },
  {
   "cell_type": "code",
   "execution_count": 276,
   "metadata": {
    "collapsed": false
   },
   "outputs": [],
   "source": [
    "data = pandas.read_csv(infile, index_col='date', parse_dates=['date'])"
   ]
  },
  {
   "cell_type": "code",
   "execution_count": 277,
   "metadata": {
    "collapsed": false
   },
   "outputs": [
    {
     "data": {
      "text/plain": [
       "               temp       pressure      altitude  sealevel_pressure\ncount  11659.000000   11659.000000  11659.000000       11659.000000\nmean      28.889159  101401.477142    -20.450151      101788.132258\nstd        4.661283    4885.582477    360.537723        3570.315604\nmin      -27.100000   28421.000000  -2749.583598       37537.000000\n25%       28.000000  101690.000000    -45.938417      101692.000000\n50%       28.700000  101785.000000    -38.309883      101787.000000\n75%       29.300000  101877.000000    -30.426731      101879.000000\nmax      162.900000  128808.000000   7610.794710      139326.000000"
      ]
     },
     "execution_count": 277,
     "metadata": {},
     "output_type": "execute_result"
    }
   ],
   "source": [
    "data.describe()"
   ]
  },
  {
   "cell_type": "code",
   "execution_count": 278,
   "metadata": {
    "collapsed": false
   },
   "outputs": [
    {
     "data": {
      "text/plain": [
       "<matplotlib.figure.Figure at 0x7f0c6e9302e8>"
      ]
     },
     "metadata": {},
     "output_type": "display_data"
    },
    {
     "data": {
      "text/plain": [
       "<matplotlib.axes._subplots.AxesSubplot at 0x7f0c6e939320>"
      ]
     },
     "execution_count": 278,
     "metadata": {},
     "output_type": "execute_result"
    }
   ],
   "source": [
    "# Lets look at the temperature data\n",
    "data.temp.plot()"
   ]
  },
  {
   "cell_type": "markdown",
   "metadata": {
    "collapsed": true
   },
   "source": [
    "Looks like we have some bad data here.  For the first few days things look ok though\n",
    "To start, lets look at the good bit of the data.\n"
   ]
  },
  {
   "cell_type": "code",
   "execution_count": 279,
   "metadata": {
    "collapsed": false
   },
   "outputs": [
    {
     "data": {
      "text/plain": [
       "<matplotlib.figure.Figure at 0x7f0c6e9c3dd8>"
      ]
     },
     "metadata": {},
     "output_type": "display_data"
    },
    {
     "data": {
      "text/plain": [
       "array([<matplotlib.axes._subplots.AxesSubplot object at 0x7f0c6e9d17f0>,\n       <matplotlib.axes._subplots.AxesSubplot object at 0x7f0c6e91a978>,\n       <matplotlib.axes._subplots.AxesSubplot object at 0x7f0c6e734828>,\n       <matplotlib.axes._subplots.AxesSubplot object at 0x7f0c6e8a62e8>], dtype=object)"
      ]
     },
     "execution_count": 279,
     "metadata": {},
     "output_type": "execute_result"
    }
   ],
   "source": [
    "data[:4500].plot(subplots=True)"
   ]
  },
  {
   "cell_type": "markdown",
   "metadata": {
    "collapsed": true
   },
   "source": [
    "That looks good.  So for the first 4500 samples the data looks clean.\n",
    "\n",
    "The pressure and sealevel_pressure plots have the same shape.\n",
    "\n",
    "The sealevel_pressure is just the pressure recording adjusted for altitude.\n",
    "\n",
    "Actually, since I am not telling the software what my altitude it is"
   ]
  },
  {
   "cell_type": "markdown",
   "metadata": {
    "collapsed": true
   },
   "source": [
    "It is a bit of a mystery what is causing the bad data after this.\n",
    "\n",
    "One possibility is I have a separate process that is talking to the sensor that I am running in a console just so I can see the current figures.\n",
    "\n",
    "I am running this with a linux *watch* command.   I used the default parameters and it is running every 2 seconds.\n",
    "\n",
    "I am wondering if the sensor code, or the hardware itself has some bugs if the code polls the sensor whilst it is already being probed.\n",
    "\n",
    "I am now (11am BDA time July 3rd) running the monitor script with *watch -n 600* so it only polls every 10 minutes.  Will see if that improves things.\n",
    "\n",
    "So, lets see if we can filter out the bad data"
   ]
  },
  {
   "cell_type": "code",
   "execution_count": 305,
   "metadata": {
    "collapsed": false
   },
   "outputs": [
    {
     "data": {
      "text/plain": [
       "<matplotlib.figure.Figure at 0x7f0c6d9814a8>"
      ]
     },
     "metadata": {},
     "output_type": "display_data"
    },
    {
     "data": {
      "text/plain": [
       "<matplotlib.axes._subplots.AxesSubplot at 0x7f0c6daf6fd0>"
      ]
     },
     "execution_count": 305,
     "metadata": {},
     "output_type": "execute_result"
    }
   ],
   "source": [
    "data.temp.plot()"
   ]
  },
  {
   "cell_type": "code",
   "execution_count": 220,
   "metadata": {
    "collapsed": false
   },
   "outputs": [
    {
     "data": {
      "text/plain": [
       "<matplotlib.figure.Figure at 0x7f0c707c0400>"
      ]
     },
     "metadata": {},
     "output_type": "display_data"
    },
    {
     "data": {
      "text/plain": [
       "<matplotlib.axes._subplots.AxesSubplot at 0x7f0c707c9748>"
      ]
     },
     "execution_count": 220,
     "metadata": {},
     "output_type": "execute_result"
    }
   ],
   "source": [
    "# All the good temperature readings appear to be in the 25C - 32C range,\n",
    "# so lets filter out the rest.\n",
    "data.temp[(data.temp < 50.0) & (data.temp > 15.0)].plot()"
   ]
  },
  {
   "cell_type": "code",
   "execution_count": null,
   "metadata": {
    "collapsed": false
   },
   "outputs": [],
   "source": [
    "That looks good.  You can see 8 days of temperatures rising through the day and then falling at night.  Only a couple of degree difference here in Bermuda at present.\n",
    "\n",
    "The Third day with the dip in temperature I believe there was a thunderstorm or two which cooled things off temporarily.\n",
    "\n",
    "I really need to get a humidity sensor working to go with this.\n",
    "\n",
    "Now lets see if we can spot the outliers and filter them out."
   ]
  },
  {
   "cell_type": "code",
   "execution_count": 222,
   "metadata": {
    "collapsed": false
   },
   "outputs": [],
   "source": [
    "def spot_outliers(series):\n",
    "    \"\"\" Compares the change in value in consecutive samples to the standard deviation\n",
    "\n",
    "    If the change is bigger than that, assume it is an outlier.\n",
    "\n",
    "    Note, that there will be two bad deltas, since the sample after the\n",
    "    bad one will be bad too.\n",
    "    \"\"\"\n",
    "    delta = series - series.shift()\n",
    "\n",
    "    return delta.abs() > data.std()\n",
    "\n",
    "outliers = spot_outliers(data)"
   ]
  },
  {
   "cell_type": "code",
   "execution_count": 225,
   "metadata": {
    "collapsed": false
   },
   "outputs": [
    {
     "data": {
      "text/plain": [
       "<matplotlib.figure.Figure at 0x7f0c70669588>"
      ]
     },
     "metadata": {},
     "output_type": "display_data"
    },
    {
     "data": {
      "text/plain": [
       "<matplotlib.axes._subplots.AxesSubplot at 0x7f0c707c9278>"
      ]
     },
     "execution_count": 225,
     "metadata": {},
     "output_type": "execute_result"
    }
   ],
   "source": [
    "# Plot temperature\n",
    "data[~outliers].temp.plot()"
   ]
  },
  {
   "cell_type": "code",
   "execution_count": 226,
   "metadata": {
    "collapsed": false
   },
   "outputs": [
    {
     "data": {
      "text/plain": [
       "<matplotlib.figure.Figure at 0x7f0c70919390>"
      ]
     },
     "metadata": {},
     "output_type": "display_data"
    },
    {
     "data": {
      "text/plain": [
       "<matplotlib.axes._subplots.AxesSubplot at 0x7f0c706940f0>"
      ]
     },
     "execution_count": 226,
     "metadata": {},
     "output_type": "execute_result"
    }
   ],
   "source": [
    "data[~outliers].altitude.plot()"
   ]
  },
  {
   "cell_type": "code",
   "execution_count": 186,
   "metadata": {
    "collapsed": false
   },
   "outputs": [
    {
     "data": {
      "image/png": "[encoded data removed]",
      "text/plain": [
       "<matplotlib.figure.Figure at 0x7f0c72438048>"
      ]
     },
     "metadata": {},
     "output_type": "display_data"
    },
    {
     "data": {
      "text/plain": [
       "array([<matplotlib.axes._subplots.AxesSubplot object at 0x7f0c72351588>,\n",
       "       <matplotlib.axes._subplots.AxesSubplot object at 0x7f0c720782b0>,\n",
       "       <matplotlib.axes._subplots.AxesSubplot object at 0x7f0c71f74438>,\n",
       "       <matplotlib.axes._subplots.AxesSubplot object at 0x7f0c721aaef0>], dtype=object)"
      ]
     },
     "execution_count": 186,
     "metadata": {},
     "output_type": "execute_result"
    }
   ],
   "source": [
    "data[~outliers].plot(subplots=True)"
   ]
  },
  {
   "cell_type": "code",
   "execution_count": 187,
   "metadata": {
    "collapsed": false
   },
   "outputs": [
    {
     "data": {
      "image/png": "[encoded data removed]",
      "text/plain": [
       "<matplotlib.figure.Figure at 0x7f0c71f4b6a0>"
      ]
     },
     "metadata": {},
     "output_type": "display_data"
    },
    {
     "data": {
      "text/plain": [
       "<matplotlib.axes._subplots.AxesSubplot at 0x7f0c724d7710>"
      ]
     },
     "execution_count": 187,
     "metadata": {},
     "output_type": "execute_result"
    }
   ],
   "source": [
    "data[~outliers].sealevel_pressure.plot()"
   ]
  },
  {
   "cell_type": "code",
   "execution_count": 298,
   "metadata": {
    "collapsed": false
   },
   "outputs": [],
   "source": [
    "def smooth(data, thresh=None):\n",
    "    \n",
    "    means = data.mean()\n",
    "\n",
    "    if thresh is None:\n",
    "        sds = data.std()\n",
    "    else:\n",
    "        sds = thresh\n",
    "    \n",
    "    delta = data - data.shift()\n",
    "    \n",
    "    good = delta[abs(delta) < sds]\n",
    "\n",
    "    print(good.describe())\n",
    "    \n",
    "    return delta.where(good, 0.0)"
   ]
  },
  {
   "cell_type": "code",
   "execution_count": 189,
   "metadata": {
    "collapsed": false
   },
   "outputs": [
    {
     "data": {
      "image/png": "[encoded data removed]",
      "text/plain": [
       "<matplotlib.figure.Figure at 0x7f0c71cef0f0>"
      ]
     },
     "metadata": {},
     "output_type": "display_data"
    },
    {
     "data": {
      "text/plain": [
       "<matplotlib.axes._subplots.AxesSubplot at 0x7f0c71cf5828>"
      ]
     },
     "execution_count": 189,
     "metadata": {},
     "output_type": "execute_result"
    }
   ],
   "source": [
    "smooth(data).temp.cumsum().plot()"
   ]
  },
  {
   "cell_type": "code",
   "execution_count": 292,
   "metadata": {
    "collapsed": false
   },
   "outputs": [
    {
     "data": {
      "text/plain": [
       "               temp      pressure      altitude  sealevel_pressure\ncount  11659.000000  11659.000000  11659.000000       11659.000000\nmean       0.000069      0.012523     -0.001444           0.016554\nstd        0.033368     77.632060      2.704294          41.958663\nmin       -0.100000  -3906.000000   -112.489928       -3148.000000\n25%        0.000000     -4.000000     -0.331867          -4.000000\n50%        0.000000      0.000000      0.000000           0.000000\n75%        0.000000      4.000000      0.331749           4.000000\nmax        0.100000   3906.000000    112.489928        3138.000000"
      ]
     },
     "execution_count": 292,
     "metadata": {},
     "output_type": "execute_result"
    },
    {
     "name": "stdout",
     "output_type": "stream",
     "text": [
      "               temp      pressure      altitude  sealevel_pressure\n",
      "count  11566.000000  11346.000000  11386.000000       11392.000000\n",
      "mean       0.000069      0.012868     -0.001479           0.016942\n",
      "std        0.033501     78.695678      2.736525          42.447561\n",
      "min       -0.100000  -3906.000000   -112.489928       -3148.000000\n",
      "25%        0.000000     -4.000000     -0.331992          -4.000000\n",
      "50%        0.000000      0.000000      0.000000           0.000000\n",
      "75%        0.000000      4.000000      0.331934           4.000000\n",
      "max        0.100000   3906.000000    112.489928        3138.000000\n"
     ]
    }
   ],
   "source": [
    "smooth(data).describe() "
   ]
  },
  {
   "cell_type": "code",
   "execution_count": 306,
   "metadata": {
    "collapsed": false
   },
   "outputs": [
    {
     "data": {
      "text/plain": [
       "<matplotlib.figure.Figure at 0x7f0c6df54048>"
      ]
     },
     "metadata": {},
     "output_type": "display_data"
    },
    {
     "data": {
      "text/plain": [
       "array([<matplotlib.axes._subplots.AxesSubplot object at 0x7f0c6dcb3da0>,\n       <matplotlib.axes._subplots.AxesSubplot object at 0x7f0c6dc486d8>], dtype=object)"
      ]
     },
     "execution_count": 306,
     "metadata": {},
     "output_type": "execute_result"
    },
    {
     "name": "stdout",
     "output_type": "stream",
     "text": [
      "               temp     pressure      altitude  sealevel_pressure\n",
      "count  11566.000000  6083.000000  11346.000000        6063.000000\n",
      "mean       0.000069     0.043893     -0.001571          -0.004948\n",
      "std        0.033501     2.466790      0.523929           2.466264\n",
      "min       -0.100000    -4.000000     -2.071579          -4.000000\n",
      "25%        0.000000    -2.000000     -0.331981          -2.000000\n",
      "50%        0.000000     0.000000      0.000000           0.000000\n",
      "75%        0.000000     2.000000      0.331916           2.000000\n",
      "max        0.100000     4.000000      2.240047           4.000000\n"
     ]
    }
   ],
   "source": [
    "start = data[['temp', 'altitude']].irow(0)\n",
    "\n",
    "(smooth(data, 5.0).cumsum()[['temp', 'altitude']] + start).plot(subplots=True)"
   ]
  },
  {
   "cell_type": "markdown",
   "metadata": {
    "collapsed": true
   },
   "source": [
    "*Bingo!* we have clean plots.\n",
    "Of course the irony is that I also seem to have found the problem with\n",
    "the bad data I was getting: don't have two processes querying these\n",
    "sensors at the same time, at least not with the current software.  So\n",
    "the recent data no longer needs this smoothing.\n",
    "\n"
   ]
  },
  {
   "cell_type": "markdown",
   "metadata": {
    "collapsed": true
   },
   "source": [
    "# Things to observe\n",
    "\n",
    "So the daily rise and fall of temperature is pretty clear.  There is only 2C spread most days.\n",
    "\n",
    "The pressure plot is more interesting.  Over the last week or so it\n",
    "has been generally high, but there is an interesting wave feature.\n",
    "\n",
    "The other day I was at the Bermduda Weather service and mentioned this\n",
    "to Ian Currie, who immediately pointed out that air pressure is tidal.\n",
    "\n",
    "So, my next plan is to dig out [scikit-learn]() and some lunar data,\n",
    "maybe using *astropy* and see if we can fit a model to the pressure\n",
    "data for the tidal component."
   ]
  }
 ],
 "metadata": {
  "kernelspec": {
   "display_name": "Python 3",
   "language": "python",
   "name": "python3"
  },
  "language_info": {
   "codemirror_mode": {
    "name": "ipython",
    "version": 3
   },
   "file_extension": ".py",
   "mimetype": "text/x-python",
   "name": "python",
   "nbconvert_exporter": "python",
   "pygments_lexer": "ipython3",
   "version": "3.4.3"
  },
  "name": "weather-station.ipynb"
 },
 "nbformat": 4,
 "nbformat_minor": 0
}
