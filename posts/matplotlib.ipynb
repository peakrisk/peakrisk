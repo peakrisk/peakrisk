{
 "cells": [
  {
   "cell_type": "markdown",
   "metadata": {
    "collapsed": true
   },
   "source": [
    "# Chaco\n",
    "\n",
    "# Matplotlib\n",
    "\n",
    "hurricanes\n",
    "\n",
    "Excel\n",
    "\n",
    "GPM project\n",
    "\n",
    "\n",
    "# John Hunter\n",
    "\n",
    "# The Web\n",
    "\n",
    "\n",
    "# seaborn\n",
    "\n",
    "# pandas\n",
    "\n",
    "# Emacs Ipython Notebook\n"
   ]
  }
 ],
 "metadata": {
  "name": "matplotlib.ipynb"
 },
 "nbformat": 4,
 "nbformat_minor": 0
}
