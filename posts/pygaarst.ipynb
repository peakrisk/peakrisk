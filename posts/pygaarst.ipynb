{
 "cells": [
  {
   "cell_type": "code",
   "execution_count": 1,
   "metadata": {
    "collapsed": false
   },
   "outputs": [],
   "source": [
    "# using a version of pygaarst cloned from github\n",
    "import sys\n",
    "\n",
    "sys.path.append('../../pygaarst')"
   ]
  },
  {
   "cell_type": "code",
   "execution_count": 2,
   "metadata": {
    "collapsed": false
   },
   "outputs": [
    {
     "name": "stderr",
     "output_type": "stream",
     "text": [
      "WARNING:pygaarst.rasterhelpers:The h5py library couldn't be imported: HDF5 files aren't supported\n"
     ]
    }
   ],
   "source": [
    "# Import landsat module\n",
    "from pygaarst import landsat"
   ]
  },
  {
   "cell_type": "markdown",
   "metadata": {
    "collapsed": true
   },
   "source": [
    "## time to find gdal\n",
    "\n",
    "Installing with pip failing due to missing cpl_port.h\n",
    "\n",
    "So, plan B, install into Ubuntu and tell virtualenv to use system stuff.\n",
    "\n",
    "You can do this when you create a virtualenv as follows:\n",
    "\n",
    "   mkvirtualenv --system-site-packages  foo\n",
    "\n",
    "This creates an empty file:\n",
    "   .virtualenvs/foo/lib/python3.4/no-global-site-packages.txt\n",
    "\n",
    "Renaming or deleting this will make the virtualenv pick up packages\n",
    "installed in the system python.\n"
   ]
  },
  {
   "cell_type": "code",
   "execution_count": 3,
   "metadata": {
    "collapsed": false
   },
   "outputs": [],
   "source": [
    "scene = landsat.Landsatscene('../data/LC80060382014307LGN00')"
   ]
  },
  {
   "cell_type": "code",
   "execution_count": 4,
   "metadata": {
    "collapsed": false
   },
   "outputs": [
    {
     "data": {
      "text/plain": [
       "<pygaarst.landsat.Landsatscene at 0x7f4f75d33080>"
      ]
     },
     "execution_count": 4,
     "metadata": {},
     "output_type": "execute_result"
    }
   ],
   "source": [
    "scene"
   ]
  },
  {
   "cell_type": "code",
   "execution_count": 5,
   "metadata": {
    "collapsed": false
   },
   "outputs": [],
   "source": [
    "band = scene.band1"
   ]
  },
  {
   "cell_type": "code",
   "execution_count": 6,
   "metadata": {
    "collapsed": false
   },
   "outputs": [
    {
     "data": {
      "text/plain": [
       "['Lat',\n 'Lat_pxcenter',\n 'Lon',\n 'Lon_pxcenter',\n '_LonLat_pxcenter',\n '_LonLat_pxcorner',\n '_XY',\n '_XY_pxcenter',\n '__class__',\n '__delattr__',\n '__dict__',\n '__dir__',\n '__doc__',\n '__eq__',\n '__format__',\n '__ge__',\n '__getattribute__',\n '__gt__',\n '__hash__',\n '__init__',\n '__le__',\n '__lt__',\n '__module__',\n '__ne__',\n '__new__',\n '__reduce__',\n '__reduce_ex__',\n '__repr__',\n '__setattr__',\n '__sizeof__',\n '__str__',\n '__subclasshook__',\n '__weakref__',\n '_gtr',\n 'band',\n 'clone',\n 'coordtrans',\n 'data',\n 'dataobj',\n 'delx',\n 'dely',\n 'easting',\n 'filepath',\n 'ij2xy',\n 'lrx',\n 'lry',\n 'meta',\n 'nbands',\n 'ncol',\n 'newmetaformat',\n 'northing',\n 'nrow',\n 'proj4',\n 'projection',\n 'radiance',\n 'reflectance',\n 'scene',\n 'sensor',\n 'simpleplot',\n 'spacecraft',\n 'tKelvin',\n 'ulx',\n 'uly',\n 'x_pxcenter',\n 'xy2ij',\n 'y_pxcenter']"
      ]
     },
     "execution_count": 6,
     "metadata": {},
     "output_type": "execute_result"
    }
   ],
   "source": [
    "dir(band)"
   ]
  },
  {
   "cell_type": "code",
   "execution_count": 7,
   "metadata": {
    "collapsed": false
   },
   "outputs": [
    {
     "data": {
      "text/plain": [
       "(7911, 7761)"
      ]
     },
     "execution_count": 7,
     "metadata": {},
     "output_type": "execute_result"
    }
   ],
   "source": [
    "band.data.shape"
   ]
  },
  {
   "cell_type": "code",
   "execution_count": 8,
   "metadata": {
    "collapsed": false
   },
   "outputs": [],
   "source": [
    "%matplotlib inline\n",
    "from matplotlib import pyplot as plt\n",
    "    "
   ]
  },
  {
   "cell_type": "code",
   "execution_count": 9,
   "metadata": {
    "collapsed": false
   },
   "outputs": [
    {
     "data": {
      "text/plain": [
       "<matplotlib.figure.Figure at 0x7f4f4d4edb00>"
      ]
     },
     "metadata": {},
     "output_type": "display_data"
    },
    {
     "data": {
      "text/plain": [
       "<matplotlib.image.AxesImage at 0x7f4f45fbe3c8>"
      ]
     },
     "execution_count": 9,
     "metadata": {},
     "output_type": "execute_result"
    }
   ],
   "source": [
    "plt.imshow(band.data[::10,::10])"
   ]
  },
  {
   "cell_type": "code",
   "execution_count": 12,
   "metadata": {
    "collapsed": false
   },
   "outputs": [
    {
     "data": {
      "text/plain": [
       "{'IMAGE_ATTRIBUTES': {'CLOUD_COVER': 28.56,\n  'EARTH_SUN_DISTANCE': 0.9919669,\n  'GEOMETRIC_RMSE_MODEL': 5.914,\n  'GEOMETRIC_RMSE_MODEL_X': 2.227,\n  'GEOMETRIC_RMSE_MODEL_Y': 5.478,\n  'GROUND_CONTROL_POINTS_MODEL': 18,\n  'GROUND_CONTROL_POINTS_VERSION': 2,\n  'IMAGE_QUALITY_OLI': 9,\n  'IMAGE_QUALITY_TIRS': 9,\n  'ROLL_ANGLE': -0.001,\n  'SUN_AZIMUTH': 157.43232606,\n  'SUN_ELEVATION': 40.29612971},\n 'METADATA_FILE_INFO': {'FILE_DATE': datetime.datetime(2014, 11, 3, 19, 14, 3),\n  'LANDSAT_SCENE_ID': 'LC80060382014307LGN00',\n  'ORIGIN': 'Image courtesy of the U.S. Geological Survey',\n  'PROCESSING_SOFTWARE_VERSION': 'LPGS_2.4.0',\n  'REQUEST_ID': '0501411031138_00002',\n  'STATION_ID': 'LGN'},\n 'MIN_MAX_PIXEL_VALUE': {'QUANTIZE_CAL_MAX_BAND_1': 65535,\n  'QUANTIZE_CAL_MAX_BAND_10': 65535,\n  'QUANTIZE_CAL_MAX_BAND_11': 65535,\n  'QUANTIZE_CAL_MAX_BAND_2': 65535,\n  'QUANTIZE_CAL_MAX_BAND_3': 65535,\n  'QUANTIZE_CAL_MAX_BAND_4': 65535,\n  'QUANTIZE_CAL_MAX_BAND_5': 65535,\n  'QUANTIZE_CAL_MAX_BAND_6': 65535,\n  'QUANTIZE_CAL_MAX_BAND_7': 65535,\n  'QUANTIZE_CAL_MAX_BAND_8': 65535,\n  'QUANTIZE_CAL_MAX_BAND_9': 65535,\n  'QUANTIZE_CAL_MIN_BAND_1': 1,\n  'QUANTIZE_CAL_MIN_BAND_10': 1,\n  'QUANTIZE_CAL_MIN_BAND_11': 1,\n  'QUANTIZE_CAL_MIN_BAND_2': 1,\n  'QUANTIZE_CAL_MIN_BAND_3': 1,\n  'QUANTIZE_CAL_MIN_BAND_4': 1,\n  'QUANTIZE_CAL_MIN_BAND_5': 1,\n  'QUANTIZE_CAL_MIN_BAND_6': 1,\n  'QUANTIZE_CAL_MIN_BAND_7': 1,\n  'QUANTIZE_CAL_MIN_BAND_8': 1,\n  'QUANTIZE_CAL_MIN_BAND_9': 1},\n 'MIN_MAX_RADIANCE': {'RADIANCE_MAXIMUM_BAND_1': 772.42273,\n  'RADIANCE_MAXIMUM_BAND_10': 22.0018,\n  'RADIANCE_MAXIMUM_BAND_11': 22.0018,\n  'RADIANCE_MAXIMUM_BAND_2': 790.97028,\n  'RADIANCE_MAXIMUM_BAND_3': 728.87238,\n  'RADIANCE_MAXIMUM_BAND_4': 614.62622,\n  'RADIANCE_MAXIMUM_BAND_5': 376.12061,\n  'RADIANCE_MAXIMUM_BAND_6': 93.53777,\n  'RADIANCE_MAXIMUM_BAND_7': 31.52724,\n  'RADIANCE_MAXIMUM_BAND_8': 695.58777,\n  'RADIANCE_MAXIMUM_BAND_9': 146.99646,\n  'RADIANCE_MINIMUM_BAND_1': -63.78692,\n  'RADIANCE_MINIMUM_BAND_10': 0.10033,\n  'RADIANCE_MINIMUM_BAND_11': 0.10033,\n  'RADIANCE_MINIMUM_BAND_2': -65.31858,\n  'RADIANCE_MINIMUM_BAND_3': -60.19052,\n  'RADIANCE_MINIMUM_BAND_4': -50.75603,\n  'RADIANCE_MINIMUM_BAND_5': -31.06016,\n  'RADIANCE_MINIMUM_BAND_6': -7.72438,\n  'RADIANCE_MINIMUM_BAND_7': -2.60353,\n  'RADIANCE_MINIMUM_BAND_8': -57.44186,\n  'RADIANCE_MINIMUM_BAND_9': -12.13902},\n 'MIN_MAX_REFLECTANCE': {'REFLECTANCE_MAXIMUM_BAND_1': 1.2107,\n  'REFLECTANCE_MAXIMUM_BAND_2': 1.2107,\n  'REFLECTANCE_MAXIMUM_BAND_3': 1.2107,\n  'REFLECTANCE_MAXIMUM_BAND_4': 1.2107,\n  'REFLECTANCE_MAXIMUM_BAND_5': 1.2107,\n  'REFLECTANCE_MAXIMUM_BAND_6': 1.2107,\n  'REFLECTANCE_MAXIMUM_BAND_7': 1.2107,\n  'REFLECTANCE_MAXIMUM_BAND_8': 1.2107,\n  'REFLECTANCE_MAXIMUM_BAND_9': 1.2107,\n  'REFLECTANCE_MINIMUM_BAND_1': -0.09998,\n  'REFLECTANCE_MINIMUM_BAND_2': -0.09998,\n  'REFLECTANCE_MINIMUM_BAND_3': -0.09998,\n  'REFLECTANCE_MINIMUM_BAND_4': -0.09998,\n  'REFLECTANCE_MINIMUM_BAND_5': -0.09998,\n  'REFLECTANCE_MINIMUM_BAND_6': -0.09998,\n  'REFLECTANCE_MINIMUM_BAND_7': -0.09998,\n  'REFLECTANCE_MINIMUM_BAND_8': -0.09998,\n  'REFLECTANCE_MINIMUM_BAND_9': -0.09998},\n 'PRODUCT_METADATA': {'BPF_NAME_OLI': 'LO8BPF20141103144117_20141103152728.01',\n  'BPF_NAME_TIRS': 'LT8BPF20141103143724_20141103161617.01',\n  'CORNER_LL_LAT_PRODUCT': 30.64366,\n  'CORNER_LL_LON_PRODUCT': -66.20731,\n  'CORNER_LL_PROJECTION_X_PRODUCT': 192600.0,\n  'CORNER_LL_PROJECTION_Y_PRODUCT': 3394500.0,\n  'CORNER_LR_LAT_PRODUCT': 30.68092,\n  'CORNER_LR_LON_PRODUCT': -63.77884,\n  'CORNER_LR_PROJECTION_X_PRODUCT': 425400.0,\n  'CORNER_LR_PROJECTION_Y_PRODUCT': 3394500.0,\n  'CORNER_UL_LAT_PRODUCT': 32.78119,\n  'CORNER_UL_LON_PRODUCT': -66.28184,\n  'CORNER_UL_PROJECTION_X_PRODUCT': 192600.0,\n  'CORNER_UL_PROJECTION_Y_PRODUCT': 3631800.0,\n  'CORNER_UR_LAT_PRODUCT': 32.82168,\n  'CORNER_UR_LON_PRODUCT': -63.79697,\n  'CORNER_UR_PROJECTION_X_PRODUCT': 425400.0,\n  'CORNER_UR_PROJECTION_Y_PRODUCT': 3631800.0,\n  'CPF_NAME': 'L8CPF20141001_20141231.01',\n  'DATA_TYPE': 'L1T',\n  'DATE_ACQUIRED': datetime.date(2014, 11, 3),\n  'ELEVATION_SOURCE': 'GLS2000',\n  'FILE_NAME_BAND_1': 'LC80060382014307LGN00_B1.TIF',\n  'FILE_NAME_BAND_10': 'LC80060382014307LGN00_B10.TIF',\n  'FILE_NAME_BAND_11': 'LC80060382014307LGN00_B11.TIF',\n  'FILE_NAME_BAND_2': 'LC80060382014307LGN00_B2.TIF',\n  'FILE_NAME_BAND_3': 'LC80060382014307LGN00_B3.TIF',\n  'FILE_NAME_BAND_4': 'LC80060382014307LGN00_B4.TIF',\n  'FILE_NAME_BAND_5': 'LC80060382014307LGN00_B5.TIF',\n  'FILE_NAME_BAND_6': 'LC80060382014307LGN00_B6.TIF',\n  'FILE_NAME_BAND_7': 'LC80060382014307LGN00_B7.TIF',\n  'FILE_NAME_BAND_8': 'LC80060382014307LGN00_B8.TIF',\n  'FILE_NAME_BAND_9': 'LC80060382014307LGN00_B9.TIF',\n  'FILE_NAME_BAND_QUALITY': 'LC80060382014307LGN00_BQA.TIF',\n  'METADATA_FILE_NAME': 'LC80060382014307LGN00_MTL.txt',\n  'NADIR_OFFNADIR': 'NADIR',\n  'OUTPUT_FORMAT': 'GEOTIFF',\n  'PANCHROMATIC_LINES': 15821,\n  'PANCHROMATIC_SAMPLES': 15521,\n  'REFLECTIVE_LINES': 7911,\n  'REFLECTIVE_SAMPLES': 7761,\n  'RLUT_FILE_NAME': 'L8RLUT20130211_20431231v09.h5',\n  'SCENE_CENTER_TIME': datetime.time(14, 53, 1, 397443),\n  'SENSOR_ID': 'OLI_TIRS',\n  'SPACECRAFT_ID': 'LANDSAT_8',\n  'TARGET_WRS_PATH': 6,\n  'TARGET_WRS_ROW': 38,\n  'THERMAL_LINES': 7911,\n  'THERMAL_SAMPLES': 7761,\n  'WRS_PATH': 6,\n  'WRS_ROW': 38},\n 'PROJECTION_PARAMETERS': {'DATUM': 'WGS84',\n  'ELLIPSOID': 'WGS84',\n  'GRID_CELL_SIZE_PANCHROMATIC': 15.0,\n  'GRID_CELL_SIZE_REFLECTIVE': 30.0,\n  'GRID_CELL_SIZE_THERMAL': 30.0,\n  'MAP_PROJECTION': 'UTM',\n  'ORIENTATION': 'NORTH_UP',\n  'RESAMPLING_OPTION': 'CUBIC_CONVOLUTION',\n  'UTM_ZONE': 20},\n 'RADIOMETRIC_RESCALING': {'RADIANCE_ADD_BAND_1': -63.79968,\n  'RADIANCE_ADD_BAND_10': 0.1,\n  'RADIANCE_ADD_BAND_11': 0.1,\n  'RADIANCE_ADD_BAND_2': -65.33165,\n  'RADIANCE_ADD_BAND_3': -60.20256,\n  'RADIANCE_ADD_BAND_4': -50.76619,\n  'RADIANCE_ADD_BAND_5': -31.06638,\n  'RADIANCE_ADD_BAND_6': -7.72592,\n  'RADIANCE_ADD_BAND_7': -2.60405,\n  'RADIANCE_ADD_BAND_8': -57.45335,\n  'RADIANCE_ADD_BAND_9': -12.14144,\n  'RADIANCE_MULT_BAND_1': 0.01276,\n  'RADIANCE_MULT_BAND_10': 0.0003342,\n  'RADIANCE_MULT_BAND_11': 0.0003342,\n  'RADIANCE_MULT_BAND_2': 0.013066,\n  'RADIANCE_MULT_BAND_3': 0.012041,\n  'RADIANCE_MULT_BAND_4': 0.010153,\n  'RADIANCE_MULT_BAND_5': 0.0062133,\n  'RADIANCE_MULT_BAND_6': 0.0015452,\n  'RADIANCE_MULT_BAND_7': 0.00052081,\n  'RADIANCE_MULT_BAND_8': 0.011491,\n  'RADIANCE_MULT_BAND_9': 0.0024283,\n  'REFLECTANCE_ADD_BAND_1': -0.1,\n  'REFLECTANCE_ADD_BAND_2': -0.1,\n  'REFLECTANCE_ADD_BAND_3': -0.1,\n  'REFLECTANCE_ADD_BAND_4': -0.1,\n  'REFLECTANCE_ADD_BAND_5': -0.1,\n  'REFLECTANCE_ADD_BAND_6': -0.1,\n  'REFLECTANCE_ADD_BAND_7': -0.1,\n  'REFLECTANCE_ADD_BAND_8': -0.1,\n  'REFLECTANCE_ADD_BAND_9': -0.1,\n  'REFLECTANCE_MULT_BAND_1': 2e-05,\n  'REFLECTANCE_MULT_BAND_2': 2e-05,\n  'REFLECTANCE_MULT_BAND_3': 2e-05,\n  'REFLECTANCE_MULT_BAND_4': 2e-05,\n  'REFLECTANCE_MULT_BAND_5': 2e-05,\n  'REFLECTANCE_MULT_BAND_6': 2e-05,\n  'REFLECTANCE_MULT_BAND_7': 2e-05,\n  'REFLECTANCE_MULT_BAND_8': 2e-05,\n  'REFLECTANCE_MULT_BAND_9': 2e-05},\n 'TIRS_THERMAL_CONSTANTS': {'K1_CONSTANT_BAND_10': 774.89,\n  'K1_CONSTANT_BAND_11': 480.89,\n  'K2_CONSTANT_BAND_10': 1321.08,\n  'K2_CONSTANT_BAND_11': 1201.14}}"
      ]
     },
     "execution_count": 12,
     "metadata": {},
     "output_type": "execute_result"
    }
   ],
   "source": [
    "band.meta"
   ]
  },
  {
   "cell_type": "code",
   "execution_count": 14,
   "metadata": {
    "collapsed": false
   },
   "outputs": [
    {
     "data": {
      "text/plain": [
       "array([[ nan,  nan,  nan, ...,  nan,  nan,  nan],\n       [ nan,  nan,  nan, ...,  nan,  nan,  nan],\n       [ nan,  nan,  nan, ...,  nan,  nan,  nan],\n       ..., \n       [ nan,  nan,  nan, ...,  nan,  nan,  nan],\n       [ nan,  nan,  nan, ...,  nan,  nan,  nan],\n       [ nan,  nan,  nan, ...,  nan,  nan,  nan]], dtype=float32)"
      ]
     },
     "execution_count": 14,
     "metadata": {},
     "output_type": "execute_result"
    },
    {
     "name": "stderr",
     "output_type": "stream",
     "text": [
      "WARNING:pygaarst.irutils:NaN generated while calculating normalized difference index: : Warning: invalid value encountered in true_divide\n",
      "\n"
     ]
    }
   ],
   "source": [
    "scene.NDVI"
   ]
  },
  {
   "cell_type": "code",
   "execution_count": 16,
   "metadata": {
    "collapsed": false
   },
   "outputs": [
    {
     "data": {
      "text/plain": [
       "<matplotlib.figure.Figure at 0x7f4f44692da0>"
      ]
     },
     "metadata": {},
     "output_type": "display_data"
    },
    {
     "data": {
      "text/plain": [
       "<matplotlib.image.AxesImage at 0x7f4f445d8cc0>"
      ]
     },
     "execution_count": 16,
     "metadata": {},
     "output_type": "execute_result"
    }
   ],
   "source": [
    "plt.imshow(band.radiance[::10, ::10])"
   ]
  },
  {
   "cell_type": "code",
   "execution_count": 17,
   "metadata": {
    "collapsed": false
   },
   "outputs": [
    {
     "data": {
      "text/plain": [
       "<matplotlib.figure.Figure at 0x7f4f445ec978>"
      ]
     },
     "metadata": {},
     "output_type": "display_data"
    },
    {
     "data": {
      "text/plain": [
       "<matplotlib.image.AxesImage at 0x7f4f44544518>"
      ]
     },
     "execution_count": 17,
     "metadata": {},
     "output_type": "execute_result"
    }
   ],
   "source": [
    "plt.imshow(band.Lat[::10, ::10])"
   ]
  },
  {
   "cell_type": "code",
   "execution_count": 21,
   "metadata": {
    "collapsed": false
   },
   "outputs": [
    {
     "data": {
      "text/plain": [
       "<matplotlib.figure.Figure at 0x7f4f44590198>"
      ]
     },
     "metadata": {},
     "output_type": "display_data"
    },
    {
     "data": {
      "text/plain": [
       "<matplotlib.image.AxesImage at 0x7f4f44530d30>"
      ]
     },
     "execution_count": 21,
     "metadata": {},
     "output_type": "execute_result"
    }
   ],
   "source": [
    "plt.imshow(band.Lon[::10, ::10])"
   ]
  },
  {
   "cell_type": "code",
   "execution_count": 20,
   "metadata": {
    "collapsed": false
   },
   "outputs": [
    {
     "name": "stderr",
     "output_type": "stream",
     "text": [
      "WARNING:pygaarst.landsat:Automatic brightness Temp not implemented. Cannot calculate temperature. Sorry.\n"
     ]
    }
   ],
   "source": [
    "band.tKelvin"
   ]
  },
  {
   "cell_type": "code",
   "execution_count": null,
   "metadata": {
    "collapsed": false
   },
   "outputs": [],
   "source": []
  }
 ],
 "metadata": {
  "kernelspec": {
   "display_name": "Python 3",
   "language": "python",
   "name": "python3"
  },
  "language_info": {
   "codemirror_mode": {
    "name": "ipython",
    "version": 3
   },
   "file_extension": ".py",
   "mimetype": "text/x-python",
   "name": "python",
   "nbconvert_exporter": "python",
   "pygments_lexer": "ipython3",
   "version": "3.4.0"
  },
  "name": "pygaarst.ipynb"
 },
 "nbformat": 4,
 "nbformat_minor": 0
}
