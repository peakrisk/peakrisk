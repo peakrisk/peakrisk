{
 "cells": [
  {
   "cell_type": "markdown",
   "metadata": {
    "collapsed": true
   },
   "source": [
    "# TLF 2015 free software questions\n",
    "\n",
    "Each answer should just be a few sentences, at most half a page of writing per question.\n",
    "\n"
   ]
  },
  {
   "cell_type": "markdown",
   "metadata": {
    "collapsed": true
   },
   "source": [
    "## Explain some of the freedoms that you get with free software."
   ]
  },
  {
   "cell_type": "markdown",
   "metadata": {
    "collapsed": true
   },
   "source": [
    "## Give some advantages of working with free software."
   ]
  },
  {
   "cell_type": "markdown",
   "metadata": {
    "collapsed": true
   },
   "source": [
    "## Give brief descriptions of the following git commands:\n",
    "\n",
    "a. git clone\n",
    "b. git add\n",
    "c. git commit\n",
    "d. git push\n",
    "e. git pull\n",
    "\n"
   ]
  },
  {
   "cell_type": "markdown",
   "metadata": {
    "collapsed": true
   },
   "source": [
    "## Describe ways you can use free software to increase the chance of success for your project."
   ]
  },
  {
   "cell_type": "markdown",
   "metadata": {
    "collapsed": true
   },
   "source": [
    "## Describe any part of the training that you found particularly helpful or interesting.\n",
    "\n"
   ]
  }
 ],
 "metadata": {},
 "nbformat": 4,
 "nbformat_minor": 0
}
