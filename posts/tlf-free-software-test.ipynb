{
 "cells": [
  {
   "cell_type": "markdown",
   "metadata": {
    "collapsed": true
   },
   "source": [
    "# TLF 2015 free software questions\n",
    "Each answer should just be a few sentences, at most half a page of writing per question.\n",
    "\n"
   ]
  },
  {
   "cell_type": "markdown",
   "metadata": {
    "collapsed": true
   },
   "source": [
    "2. Give brief descriptions of the following git commands:\n",
    "\n",
    "a. git clone\n",
    "b. git add\n",
    "c. git commit\n",
    "d. git push\n",
    "e. git pull\n",
    "\n"
   ]
  },
  {
   "cell_type": "markdown",
   "metadata": {
    "collapsed": true
   },
   "source": [
    "1. Give some advantages of working with free software."
   ]
  },
  {
   "cell_type": "markdown",
   "metadata": {
    "collapsed": true
   },
   "source": [
    "3. Describe ways you can use free software to increase the chance of success for your project."
   ]
  },
  {
   "cell_type": "markdown",
   "metadata": {
    "collapsed": true
   },
   "source": [
    "4. Describe any part of the training that you found particularly helpful or interesting.\n",
    "\n"
   ]
  }
 ],
 "metadata": {},
 "nbformat": 4,
 "nbformat_minor": 0
}
