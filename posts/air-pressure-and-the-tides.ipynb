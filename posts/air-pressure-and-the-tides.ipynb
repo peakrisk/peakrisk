{
 "cells": [
  {
   "cell_type": "markdown",
   "metadata": {
    "collapsed": true
   },
   "source": [
    "I am really enjoying having this weather station.  I say weather\n",
    "station, but it is just a raspberry pi with a pressure and temperature\n",
    "sensor attached to it.\n",
    "Computers are versatile, you can run any software on them, so they can\n",
    "do a lot of different things.\n",
    "\n",
    "But the pi takes this to a whole different level.  They are $40 or so,\n",
    "depending on taxes and stuff.  Now you need a whole bunch of other\n",
    "stuff: leads, keyboards, sensors, cameras, touch screens and lots more.\n",
    "\n",
    "I have been using [Adafruit]().  They have been very helpful with orders.\n",
    "\n",
    "I found browsing for parts and finding what I needed to get started\n",
    "with the weather stuff a bit confusing for a while.\n",
    "\n",
    "I had other stuff to do anyway, I needed to get used to just\n",
    "installing software on them and setting up environments where I can\n",
    "figure out how things are working.\n",
    "\n",
    "I found a great [posting]() about building a weather station, with\n",
    "enough detail I thought I would be able to work through it.\n",
    "\n",
    "I order a cheap humidity sensor ($5) that also should do temperature.\n",
    "I haven't got it working yet, not sure if it is hardware or software.\n",
    "Meanwhile, I now have a better sensor.  The humidity here is often\n",
    "outside the range the cheaper sensor is supposed to work.\n",
    "\n",
    "The good thing is that I should be able to find a use for it at some point.\n",
    "\n",
    "I also have a camera for this thing and a touchscreen.  I am thinking\n",
    "of trying to combine them to make a camera.\n",
    "\n",
    "The one on my phone can do some neat stuff, but the interface keeps\n",
    "changing and not in ways that are making things easier.\n",
    "\n",
    "The night skies have been spectacular of late, with Venus and Jupiter\n",
    "close together in the early evening sky to the west.  If you see two\n",
    "bright stars after sunset, that is probably them.\n",
    "\n",
    "Then the moon is just past full.  Here in Bermuda there is often\n",
    "cloud, not heavy, but patchy clouds.  The humidity is often very high,\n",
    "so the atmosphere is interesting.\n",
    "\n",
    "The best sunsets usually have some clouds for the setting sun to\n",
    "reflect off.  The same with sunrises.\n",
    "\n",
    "And the full moon too.  Tonight it rose behind cloud.  Last night it\n",
    "was clearer and it rose orange/red.\n",
    "\n"
   ]
  },
  {
   "cell_type": "markdown",
   "metadata": {
    "collapsed": true
   },
   "source": [
    "### Back to weather\n",
    "Since I got this thing working it has been hot and settled weather.\n",
    "There is a strong Bermuda high in place.  Someone described it to me\n",
    "as like a pit-bull, once it gets hold it does not let go.  So, we may\n",
    "be in for a long hot spell.\n",
    "\n",
    "With the pressure changing quite smoothly, the plots I created still\n",
    "showed quite an interesting pattern.\n",
    "\n",
    "Skip the next bit, or go back to the earlier [post](), it is just\n",
    "setting things up to do some plotting.\n"
   ]
  },
  {
   "cell_type": "code",
   "execution_count": 7,
   "metadata": {
    "collapsed": false
   },
   "outputs": [],
   "source": [
    "# Tell matplotlib to plot in line\n",
    "%matplotlib inline\n",
    "\n",
    "# import pandas\n",
    "import pandas\n",
    "\n",
    "# seaborn magically adds a layer of goodness on top of Matplotlib\n",
    "# mostly this is just changing matplotlib defaults, but it does also\n",
    "# provide some higher level plotting methods.\n",
    "import seaborn\n",
    "\n",
    "# Tell seaborn to set things up\n",
    "seaborn.set()\n",
    "\n",
    "\n",
    "\n",
    "def smooth(data, thresh=None):\n",
    "    \n",
    "    means = data.mean()\n",
    "\n",
    "    if thresh is None:\n",
    "        sds = data.std()\n",
    "    else:\n",
    "        sds = thresh\n",
    "    \n",
    "    delta = data - data.shift()\n",
    "    \n",
    "    good = delta[abs(delta) < sds]\n",
    "\n",
    "    print(good.describe())\n",
    "    \n",
    "    return delta.where(good, 0.0)"
   ]
  },
  {
   "cell_type": "code",
   "execution_count": 5,
   "metadata": {
    "collapsed": false
   },
   "outputs": [],
   "source": [
    "# set the path to the file we are going to analyse\n",
    "infile = \"../files/light.csv\""
   ]
  },
  {
   "cell_type": "code",
   "execution_count": 8,
   "metadata": {
    "collapsed": false
   },
   "outputs": [],
   "source": [
    "\n",
    "\"\"\" assume it is csv and let pandas do magic\n",
    "\n",
    "  index_col tells it to use the 'date' column in the data\n",
    "  as the row index, plotting picks up on this and uses the\n",
    "  date on the x-axis\n",
    "\n",
    "  The *parse_dates* bit just tells it to try and figure out\n",
    "  the date/time in the columne labeled 'date'.\n",
    "\"\"\"\n",
    "data = pandas.read_csv(infile, index_col='date', parse_dates=['date'])"
   ]
  },
  {
   "cell_type": "code",
   "execution_count": 9,
   "metadata": {
    "collapsed": false
   },
   "outputs": [
    {
     "data": {
      "text/plain": [
       "<matplotlib.figure.Figure at 0x7f46a8bf5048>"
      ]
     },
     "metadata": {},
     "output_type": "display_data"
    },
    {
     "data": {
      "text/plain": [
       "array([<matplotlib.axes._subplots.AxesSubplot object at 0x7f4684e7a588>,\n       <matplotlib.axes._subplots.AxesSubplot object at 0x7f4685235eb8>], dtype=object)"
      ]
     },
     "execution_count": 9,
     "metadata": {},
     "output_type": "execute_result"
    },
    {
     "name": "stdout",
     "output_type": "stream",
     "text": [
      "               temp     pressure      altitude  sealevel_pressure\n",
      "count  13367.000000  7049.000000  13143.000000        7048.000000\n",
      "mean       0.000067     0.049227     -0.002650           0.005392\n",
      "std        0.033197     2.464099      0.522222           2.466112\n",
      "min       -0.100000    -4.000000     -2.154588          -4.000000\n",
      "25%        0.000000    -2.000000     -0.331912          -2.000000\n",
      "50%        0.000000     0.000000      0.000000           0.000000\n",
      "75%        0.000000     2.000000      0.331807           2.000000\n",
      "max        0.100000     4.000000      2.240047           4.000000\n"
     ]
    }
   ],
   "source": [
    "# incantation to extract the first record in the data\n",
    "start = data[['temp', 'altitude']].irow(0)\n",
    "\n",
    "# now use smooth to throw away dodgy data, and plot the temp and altitude fields\n",
    "(smooth(data, 5.0).cumsum()[['temp', 'altitude']] + start).plot(subplots=True)"
   ]
  },
  {
   "cell_type": "markdown",
   "metadata": {
    "collapsed": true
   },
   "source": [
    "### Temperature\n",
    "The temperature plot shows a steady up and down, warming during the\n",
    "days, cooling a little, but only 2C at night.\n",
    "\n",
    "There is one day, where I think we had some thunder storms where it dropped during the day.\n",
    "\n",
    "The last week or so the temperature has been steadily climbing.\n",
    "\n",
    "### Pressure\n",
    "\n",
    "The Pressure also shows slow drifting up and down.  But there is this\n",
    "other strange ripple up and down.\n",
    "\n",
    "I mentioned this to a meteorologist and immediately got the reply that\n",
    "it was because the atmosphere is tidal.\n",
    "\n",
    "So the pattern we see in the pressure should be driven largely by the moon.\n",
    "\n"
   ]
  },
  {
   "cell_type": "code",
   "execution_count": 11,
   "metadata": {
    "collapsed": false
   },
   "outputs": [],
   "source": [
    "import astropy"
   ]
  }
 ],
 "metadata": {
  "name": "air-pressure-and-the-tides.ipynb"
 },
 "nbformat": 4,
 "nbformat_minor": 0
}
