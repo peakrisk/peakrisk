{
 "cells": [
  {
   "cell_type": "markdown",
   "metadata": {
    "collapsed": true,
    "tags": [
     "worksheet-0"
    ]
   },
   "source": [
    "I am really enjoying having this weather station.  I say weather\n",
    "station, but it is just a raspberry pi with a pressure and temperature\n",
    "sensor attached to it.\n",
    "Computers are versatile, you can run any software on them, so they can\n",
    "do a lot of different things.\n",
    "\n",
    "But the pi takes this to a whole different level.  They are $40 or so,\n",
    "depending on taxes and stuff.  Now you need a whole bunch of other\n",
    "stuff: leads, keyboards, sensors, cameras, touch screens and lots more.\n",
    "\n",
    "I have been using [Adafruit]().  They have been very helpful with orders.\n",
    "\n",
    "I found browsing for parts and finding what I needed to get started\n",
    "with the weather stuff a bit confusing for a while.\n",
    "\n",
    "I had other stuff to do anyway, I needed to get used to just\n",
    "installing software on them and setting up environments where I can\n",
    "figure out how things are working.\n",
    "\n",
    "I found a great [posting]() about building a weather station, with\n",
    "enough detail I thought I would be able to work through it.\n",
    "\n",
    "I order a cheap humidity sensor ($5) that also should do temperature.\n",
    "I haven't got it working yet, not sure if it is hardware or software.\n",
    "Meanwhile, I now have a better sensor.  The humidity here is often\n",
    "outside the range the cheaper sensor is supposed to work.\n",
    "\n",
    "The good thing is that I should be able to find a use for it at some point.\n",
    "\n",
    "I also have a camera for this thing and a touchscreen.  I am thinking\n",
    "of trying to combine them to make a camera.\n",
    "\n",
    "The one on my phone can do some neat stuff, but the interface keeps\n",
    "changing and not in ways that are making things easier.\n",
    "\n",
    "The night skies have been spectacular of late, with Venus and Jupiter\n",
    "close together in the early evening sky to the west.  If you see two\n",
    "bright stars after sunset, that is probably them.\n",
    "\n",
    "Then the moon is just past full.  Here in Bermuda there is often\n",
    "cloud, not heavy, but patchy clouds.  The humidity is often very high,\n",
    "so the atmosphere is interesting.\n",
    "\n",
    "The best sunsets usually have some clouds for the setting sun to\n",
    "reflect off.  The same with sunrises.\n",
    "\n",
    "And the full moon too.  Tonight it rose behind cloud.  Last night it\n",
    "was clearer and it rose orange/red.\n",
    "\n"
   ]
  },
  {
   "cell_type": "markdown",
   "metadata": {
    "collapsed": true,
    "tags": [
     "worksheet-0"
    ]
   },
   "source": [
    "### Back to weather\n",
    "Since I got this thing working it has been hot and settled weather.\n",
    "There is a strong Bermuda high in place.  Someone described it to me\n",
    "as like a pit-bull, once it gets hold it does not let go.  So, we may\n",
    "be in for a long hot spell.\n",
    "\n",
    "With the pressure changing quite smoothly, the plots I created still\n",
    "showed quite an interesting pattern.\n",
    "\n",
    "Skip the next bit, or go back to the earlier [post](), it is just\n",
    "setting things up to do some plotting.\n"
   ]
  },
  {
   "cell_type": "code",
   "execution_count": 23,
   "metadata": {
    "collapsed": false,
    "tags": [
     "worksheet-0"
    ]
   },
   "outputs": [],
   "source": [
    "# Tell matplotlib to plot in line\n",
    "%matplotlib inline\n",
    "\n",
    "# import pandas\n",
    "import pandas\n",
    "\n",
    "# seaborn magically adds a layer of goodness on top of Matplotlib\n",
    "# mostly this is just changing matplotlib defaults, but it does also\n",
    "# provide some higher level plotting methods.\n",
    "import seaborn\n",
    "\n",
    "# Tell seaborn to set things up\n",
    "seaborn.set()\n",
    "\n",
    "\n",
    "\n",
    "def smooth(data, thresh=None):\n",
    "    \n",
    "    means = data.mean()\n",
    "\n",
    "    if thresh is None:\n",
    "        sds = data.std()\n",
    "    else:\n",
    "        sds = thresh\n",
    "    \n",
    "    delta = data - data.shift()\n",
    "    \n",
    "    good = delta[abs(delta) < sds]\n",
    "\n",
    "    print(good.describe())\n",
    "    \n",
    "    return delta.where(good, 0.0)"
   ]
  },
  {
   "cell_type": "code",
   "execution_count": 24,
   "metadata": {
    "collapsed": false,
    "tags": [
     "worksheet-0"
    ]
   },
   "outputs": [
    {
     "name": "stdout",
     "output_type": "stream",
     "text": [
      "\r",
      "light.csv                                     100% 1625KB   1.6MB/s   00:00    \r\n"
     ]
    },
    {
     "name": "stdout",
     "output_type": "stream",
     "text": [
      "\r",
      "light.csv                                       0%    0     0.0KB/s   --:-- ETA"
     ]
    }
   ],
   "source": [
    "# set the path to the file we are going to analyse\n",
    "infile = \"../files/light.csv\"\n",
    "\n",
    "!scp 192.168.0.133:Adafruit_Python_BMP/light.csv ../files"
   ]
  },
  {
   "cell_type": "code",
   "execution_count": 25,
   "metadata": {
    "collapsed": false,
    "tags": [
     "worksheet-0"
    ]
   },
   "outputs": [],
   "source": [
    "\n",
    "\"\"\" assume it is csv and let pandas do magic\n",
    "\n",
    "  index_col tells it to use the 'date' column in the data\n",
    "  as the row index, plotting picks up on this and uses the\n",
    "  date on the x-axis\n",
    "\n",
    "  The *parse_dates* bit just tells it to try and figure out\n",
    "  the date/time in the columne labeled 'date'.\n",
    "\"\"\"\n",
    "data = pandas.read_csv(infile, index_col='date', parse_dates=['date'])"
   ]
  },
  {
   "cell_type": "code",
   "execution_count": 26,
   "metadata": {
    "collapsed": false,
    "tags": [
     "worksheet-0"
    ]
   },
   "outputs": [
    {
     "data": {
      "text/plain": [
       "<matplotlib.figure.Figure at 0x7f5f6c7f7a20>"
      ]
     },
     "metadata": {},
     "output_type": "display_data"
    },
    {
     "data": {
      "text/plain": [
       "array([<matplotlib.axes._subplots.AxesSubplot object at 0x7f5f6c53f7f0>,\n       <matplotlib.axes._subplots.AxesSubplot object at 0x7f5f6c2cef98>], dtype=object)"
      ]
     },
     "execution_count": 26,
     "metadata": {},
     "output_type": "execute_result"
    },
    {
     "name": "stdout",
     "output_type": "stream",
     "text": [
      "               temp      pressure      altitude  sealevel_pressure\n",
      "count  24297.000000  12920.000000  24073.000000       13027.000000\n",
      "mean       0.000004      0.016409      0.000661          -0.000230\n",
      "std        0.032970      2.459936      0.515331           2.456391\n",
      "min       -0.100000     -4.000000     -2.330888          -4.000000\n",
      "25%        0.000000     -2.000000     -0.331813          -2.000000\n",
      "50%        0.000000      0.000000      0.000000           0.000000\n",
      "75%        0.000000      2.000000      0.331889           2.000000\n",
      "max        0.100000      4.000000      2.748358           4.000000\n"
     ]
    }
   ],
   "source": [
    "# incantation to extract the first record in the data\n",
    "start = data[['temp', 'altitude']].irow(0)\n",
    "\n",
    "# smooth the data to filter out bad temps and pressures\n",
    "sdata = (smooth(data, 5.0).cumsum() + start)\n",
    "\n",
    "# now use smooth to throw away dodgy data, and plot the temp and altitude fieldsa\n",
    "sdata[['temp', 'altitude']].plot(subplots=True)"
   ]
  },
  {
   "cell_type": "markdown",
   "metadata": {
    "collapsed": true,
    "tags": [
     "worksheet-0"
    ]
   },
   "source": [
    "### Temperature\n",
    "The temperature plot shows a steady up and down, warming during the\n",
    "days, cooling a little, but only 2C at night.\n",
    "\n",
    "There is one day, where I think we had some thunder storms where it dropped during the day.\n",
    "\n",
    "The last week or so the temperature has been steadily climbing.\n",
    "\n",
    "### Pressure\n",
    "\n",
    "The Pressure also shows slow drifting up and down.  But there is this\n",
    "other strange ripple up and down.\n",
    "\n",
    "I mentioned this to a meteorologist and immediately got the reply that\n",
    "it was because the atmosphere is tidal.\n",
    "\n",
    "So the pattern we see in the pressure should be driven largely by the moon.\n",
    "\n"
   ]
  },
  {
   "cell_type": "code",
   "execution_count": 27,
   "metadata": {
    "collapsed": false,
    "tags": [
     "worksheet-0"
    ]
   },
   "outputs": [],
   "source": [
    "import astropy"
   ]
  },
  {
   "cell_type": "code",
   "execution_count": null,
   "metadata": {
    "collapsed": false,
    "tags": [
     "worksheet-0"
    ]
   },
   "outputs": [],
   "source": [
    "from astropy import units\n",
    "from astropy import find_api_page\n",
    "\n"
   ]
  },
  {
   "cell_type": "code",
   "execution_count": null,
   "metadata": {
    "collapsed": false,
    "tags": [
     "worksheet-0"
    ]
   },
   "outputs": [],
   "source": [
    "# find_api_page is handy, even opens a browser windo.\n",
    "\n",
    "#find_api_page(units)"
   ]
  },
  {
   "cell_type": "code",
   "execution_count": null,
   "metadata": {
    "collapsed": false,
    "tags": [
     "worksheet-0"
    ]
   },
   "outputs": [],
   "source": [
    "# astropy is cool, but I need data for the moon.  Let's try pyephem\n",
    "\n",
    "# uncommented the line below and run this cell if you need to install using\n",
    "# pip.  This will install into the environment that is being used to run your\n",
    "# ipython notebook server.\n",
    "\n",
    "#!pip install pyephem"
   ]
  },
  {
   "cell_type": "code",
   "execution_count": 28,
   "metadata": {
    "collapsed": false,
    "tags": [
     "worksheet-0"
    ]
   },
   "outputs": [],
   "source": [
    "import ephem"
   ]
  },
  {
   "cell_type": "code",
   "execution_count": null,
   "metadata": {
    "collapsed": false,
    "tags": [
     "worksheet-0"
    ]
   },
   "outputs": [],
   "source": [
    "# Create a Moon\n",
    "\n",
    "moon = ephem.Moon()"
   ]
  },
  {
   "cell_type": "code",
   "execution_count": null,
   "metadata": {
    "collapsed": false,
    "tags": [
     "worksheet-0"
    ]
   },
   "outputs": [],
   "source": [
    "# Tell it to figure out where it is\n",
    "moon.compute()\n",
    "\n",
    "# pring out the phase\n",
    "moon.phase"
   ]
  },
  {
   "cell_type": "code",
   "execution_count": 29,
   "metadata": {
    "collapsed": false,
    "tags": [
     "worksheet-0"
    ]
   },
   "outputs": [],
   "source": [
    "def moon_orbitals(index):\n",
    "    \"\"\" Given an index of times create a DataFrame of moon orbitals\n",
    "    \n",
    "    For now, just Phase, geocentric latitude and geocentric longitude\n",
    "    \"\"\"\n",
    "    \n",
    "    # Create dataframe with index as the index\n",
    "    df = pandas.DataFrame(index=index)\n",
    "    \n",
    "    # Add three series\n",
    "    df['phase'] = pandas.Series()\n",
    "    df['glat'] = pandas.Series()\n",
    "    df['glon'] = pandas.Series()\n",
    "    \n",
    "    # Now generate the data\n",
    "    # NB this is slow, solpy might work out faster\n",
    "    moon = ephem.Moon()\n",
    "    for ix, timestamp in enumerate(index):\n",
    "        \n",
    "        # Compute the moon posigion\n",
    "        moon.compute(timestamp.strftime(\"%Y/%m/%d %H:%M:%S\"))\n",
    "        \n",
    "        df.phase[ix] = moon.phase\n",
    "        df.glat[ix] = moon.hlat\n",
    "        df.glon[ix] = moon.hlon\n",
    "        \n",
    "    return df\n",
    "        \n",
    "        "
   ]
  },
  {
   "cell_type": "code",
   "execution_count": 30,
   "metadata": {
    "collapsed": false,
    "tags": [
     "worksheet-0"
    ]
   },
   "outputs": [
    {
     "data": {
      "text/plain": [
       "              phase          glat          glon\ncount  24390.000000  24390.000000  24390.000000\nmean      71.811609      0.030610      3.590249\nstd       25.825346      0.051875      2.041656\nmin       12.998277     -0.078916      0.000126\n25%       55.731966     -0.007763      1.029049\n50%       79.226440      0.045898      4.204486\n75%       94.245584      0.076175      5.220167\nmax       99.811104      0.087505      6.283139"
      ]
     },
     "execution_count": 30,
     "metadata": {},
     "output_type": "execute_result"
    }
   ],
   "source": [
    "# See what we got\n",
    "\n",
    "moon = moon_orbitals(data.index)\n",
    "moon.describe()"
   ]
  },
  {
   "cell_type": "code",
   "execution_count": 31,
   "metadata": {
    "collapsed": false,
    "tags": [
     "worksheet-0"
    ]
   },
   "outputs": [
    {
     "data": {
      "text/plain": [
       "<matplotlib.figure.Figure at 0x7f5f6c82eeb8>"
      ]
     },
     "metadata": {},
     "output_type": "display_data"
    },
    {
     "data": {
      "text/plain": [
       "array([<matplotlib.axes._subplots.AxesSubplot object at 0x7f5f6c3bf4e0>,\n       <matplotlib.axes._subplots.AxesSubplot object at 0x7f5f6c3df358>,\n       <matplotlib.axes._subplots.AxesSubplot object at 0x7f5f6c319c18>], dtype=object)"
      ]
     },
     "execution_count": 31,
     "metadata": {},
     "output_type": "execute_result"
    }
   ],
   "source": [
    "moon.plot(subplots=True)"
   ]
  },
  {
   "cell_type": "code",
   "execution_count": 9,
   "metadata": {
    "collapsed": false,
    "tags": [
     "worksheet-0"
    ]
   },
   "outputs": [],
   "source": [
    "# Try feeding in a longer time series\n",
    "days = pandas.date_range('7/7/2015', periods=560, freq='D')"
   ]
  },
  {
   "cell_type": "code",
   "execution_count": 10,
   "metadata": {
    "collapsed": false,
    "tags": [
     "worksheet-0"
    ]
   },
   "outputs": [
    {
     "data": {
      "text/plain": [
       "<matplotlib.figure.Figure at 0x7f5f6ec1feb8>"
      ]
     },
     "metadata": {},
     "output_type": "display_data"
    },
    {
     "data": {
      "text/plain": [
       "array([<matplotlib.axes._subplots.AxesSubplot object at 0x7f5f6e3f6a58>,\n       <matplotlib.axes._subplots.AxesSubplot object at 0x7f5f6e32fa20>,\n       <matplotlib.axes._subplots.AxesSubplot object at 0x7f5f6e96d978>], dtype=object)"
      ]
     },
     "execution_count": 10,
     "metadata": {},
     "output_type": "execute_result"
    }
   ],
   "source": [
    "moon_orbitals(days).plot(subplots=True)"
   ]
  },
  {
   "cell_type": "code",
   "execution_count": 32,
   "metadata": {
    "collapsed": false,
    "tags": [
     "worksheet-0"
    ]
   },
   "outputs": [],
   "source": [
    "sdata['moon_phase'] = moon.phase\n",
    "sdata['moon_glat'] = moon.glat\n",
    "sdata['moon_glon'] = moon.glon\n",
    "\n",
    "# FIXME -- must be a pandas one liner eg data += moon ?"
   ]
  },
  {
   "cell_type": "code",
   "execution_count": 33,
   "metadata": {
    "collapsed": false,
    "tags": [
     "worksheet-0"
    ]
   },
   "outputs": [
    {
     "data": {
      "text/plain": [
       "<matplotlib.figure.Figure at 0x7f5f6c42d550>"
      ]
     },
     "metadata": {},
     "output_type": "display_data"
    },
    {
     "data": {
      "text/plain": [
       "array([<matplotlib.axes._subplots.AxesSubplot object at 0x7f5f679f7f60>,\n       <matplotlib.axes._subplots.AxesSubplot object at 0x7f5f67bdd240>,\n       <matplotlib.axes._subplots.AxesSubplot object at 0x7f5f67ba4a20>,\n       <matplotlib.axes._subplots.AxesSubplot object at 0x7f5f67b5d860>,\n       <matplotlib.axes._subplots.AxesSubplot object at 0x7f5f67b2b080>], dtype=object)"
      ]
     },
     "execution_count": 33,
     "metadata": {},
     "output_type": "execute_result"
    }
   ],
   "source": [
    "sdata[['temp', 'altitude', 'moon_phase', 'moon_glon', 'moon_glat']].plot(subplots=True)"
   ]
  },
  {
   "cell_type": "markdown",
   "metadata": {
    "collapsed": true,
    "tags": [
     "worksheet-0"
    ]
   },
   "source": [
    "The latitude is almost in phase with the phase of the moon, at least at the moment.  \n",
    "\n",
    "Next job is to add these series to our data frame and then take a look at scikit-learn"
   ]
  },
  {
   "cell_type": "code",
   "execution_count": 34,
   "metadata": {
    "collapsed": false,
    "tags": [
     "worksheet-0"
    ]
   },
   "outputs": [
    {
     "data": {
      "text/plain": [
       "15.116666666666667"
      ]
     },
     "execution_count": 34,
     "metadata": {},
     "output_type": "execute_result"
    },
    {
     "name": "stdout",
     "output_type": "stream",
     "text": [
      "2015-06-25 15:07:37.174400\n"
     ]
    }
   ],
   "source": [
    "print(sdata.index[0])\n",
    "sdata.index[0].hour + (sdata.index[0].minute / 60.)"
   ]
  },
  {
   "cell_type": "code",
   "execution_count": 35,
   "metadata": {
    "collapsed": false,
    "tags": [
     "worksheet-0"
    ]
   },
   "outputs": [
    {
     "data": {
      "text/plain": [
       "           altitude  pressure  sealevel_pressure          temp    moon_phase  \\\ncount  24390.000000         0                  0  24390.000000  24390.000000   \nmean     -38.176001       NaN                NaN     29.239996     71.811609   \nstd       17.949836       NaN                NaN      0.816808     25.825346   \nmin      -69.792586       NaN                NaN     27.200000     12.998277   \n25%      -52.066411       NaN                NaN     28.700000     55.731966   \n50%      -42.701518       NaN                NaN     29.300000     79.226440   \n75%      -28.683335       NaN                NaN     29.800000     94.245584   \nmax        8.379000       NaN                NaN     31.100000     99.811104   \n\n          moon_glat     moon_glon  \ncount  24390.000000  24390.000000  \nmean       0.030610      3.590249  \nstd        0.051875      2.041656  \nmin       -0.078916      0.000126  \n25%       -0.007763      1.029049  \n50%        0.045898      4.204486  \n75%        0.076175      5.220167  \nmax        0.087505      6.283139  "
      ]
     },
     "execution_count": 35,
     "metadata": {},
     "output_type": "execute_result"
    }
   ],
   "source": [
    "sdata.describe()"
   ]
  },
  {
   "cell_type": "code",
   "execution_count": 36,
   "metadata": {
    "collapsed": false,
    "tags": [
     "worksheet-0"
    ]
   },
   "outputs": [],
   "source": [
    "def tide_proxy(df):\n",
    "    # Create dataframe with index as the index\n",
    "    series = pandas.Series(index=df.index)\n",
    "    \n",
    "    for ix, timestamp in enumerate(df.index):\n",
    "        hour_min = timestamp.hour + (timestamp.minute / 60.)\n",
    "\t\n",
    "        hour_min += df.moon_glat[ix]\n",
    "\n",
    "        series[ix] = hour_min\n",
    "        \n",
    "    return series\n",
    "        \n"
   ]
  },
  {
   "cell_type": "code",
   "execution_count": 16,
   "metadata": {
    "collapsed": false,
    "tags": [
     "worksheet-0"
    ]
   },
   "outputs": [
    {
     "data": {
      "text/plain": [
       "<matplotlib.figure.Figure at 0x7f5f6c8f27b8>"
      ]
     },
     "metadata": {},
     "output_type": "display_data"
    },
    {
     "data": {
      "text/plain": [
       "count    23229.000000\nmean        12.076573\nstd          6.913170\nmin         -0.058869\n25%          6.086867\n50%         12.146825\n75%         18.029911\nmax         24.070675\ndtype: float64"
      ]
     },
     "execution_count": 16,
     "metadata": {},
     "output_type": "execute_result"
    }
   ],
   "source": [
    "xx = tide_proxy(sdata)\n",
    "\n",
    "xx.plot()\n",
    "\n",
    "xx.describe()"
   ]
  },
  {
   "cell_type": "code",
   "execution_count": 17,
   "metadata": {
    "collapsed": false,
    "tags": [
     "worksheet-0"
    ]
   },
   "outputs": [
    {
     "data": {
      "text/plain": [
       "              phase          glat          glon\ncount  23229.000000  23229.000000  23229.000000\nmean      74.594760      0.035876      3.715151\nstd       23.181442      0.047355      2.012164\nmin       19.451408     -0.070132      0.000126\n25%       61.817314      0.005469      0.981197\n50%       80.961258      0.049373      4.296528\n75%       94.750534      0.077198      5.270589\nmax       99.811104      0.087505      6.283139"
      ]
     },
     "execution_count": 17,
     "metadata": {},
     "output_type": "execute_result"
    }
   ],
   "source": [
    "# See what we got\n",
    "moon = moon_orbitals(data.index)\n",
    "moon.describe()\n"
   ]
  },
  {
   "cell_type": "code",
   "execution_count": 37,
   "metadata": {
    "collapsed": false,
    "tags": [
     "worksheet-0"
    ]
   },
   "outputs": [],
   "source": [
    "sdata['tide'] = tide_proxy(sdata)"
   ]
  },
  {
   "cell_type": "code",
   "execution_count": 38,
   "metadata": {
    "collapsed": false,
    "tags": [
     "worksheet-0"
    ]
   },
   "outputs": [
    {
     "data": {
      "text/plain": [
       "<matplotlib.figure.Figure at 0x7f5f67684ef0>"
      ]
     },
     "metadata": {},
     "output_type": "display_data"
    },
    {
     "data": {
      "text/plain": [
       "<matplotlib.axes._subplots.AxesSubplot at 0x7f5f678cc5f8>"
      ]
     },
     "execution_count": 38,
     "metadata": {},
     "output_type": "execute_result"
    }
   ],
   "source": [
    "fields = ['altitude', 'temp', 'tide']\n",
    "\n",
    "sdata[fields].plot()"
   ]
  },
  {
   "cell_type": "code",
   "execution_count": 39,
   "metadata": {
    "collapsed": false,
    "tags": [
     "worksheet-0"
    ]
   },
   "outputs": [
    {
     "data": {
      "text/plain": [
       "<matplotlib.figure.Figure at 0x7f5f6c1e82b0>"
      ]
     },
     "metadata": {},
     "output_type": "display_data"
    },
    {
     "data": {
      "text/plain": [
       "<matplotlib.axes._subplots.AxesSubplot at 0x7f5f674d38d0>"
      ]
     },
     "execution_count": 39,
     "metadata": {},
     "output_type": "execute_result"
    }
   ],
   "source": [
    "sdata.temp.plot()"
   ]
  },
  {
   "cell_type": "code",
   "execution_count": 20,
   "metadata": {
    "collapsed": false,
    "tags": [
     "worksheet-0"
    ]
   },
   "outputs": [],
   "source": [
    "with open(\"../files/moon_weather.csv\", 'w') as outfile:\n",
    "     sdata.to_csv(outfile)"
   ]
  }
 ],
 "metadata": {
  "kernelspec": {
   "display_name": "Python 3",
   "language": "python",
   "name": "python3"
  },
  "language_info": {
   "codemirror_mode": {
    "name": "ipython",
    "version": 3
   },
   "file_extension": ".py",
   "mimetype": "text/x-python",
   "name": "python",
   "nbconvert_exporter": "python",
   "pygments_lexer": "ipython3",
   "version": "3.4.3"
  },
  "name": "air-pressure-and-the-tides.ipynb"
 },
 "nbformat": 4,
 "nbformat_minor": 0
}
