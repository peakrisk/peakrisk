{
 "cells": [
  {
   "cell_type": "markdown",
   "metadata": {
    "collapsed": true
   },
   "source": [
    "I am really enjoying having this weather station.  I say weather\n",
    "station, but it is just a raspberry pi with a pressure and temperature\n",
    "sensor attached to it.\n",
    "Computers are versatile, you can run any software on them, so they can\n",
    "do a lot of different things.\n",
    "\n",
    "But the pi takes this to a whole different level.  They are $40 or so,\n",
    "depending on taxes and stuff.  Now you need a whole bunch of other\n",
    "stuff: leads, keyboards, sensors, cameras, touch screens and lots more.\n",
    "\n",
    "I have been using [Adafruit]().  They have been very helpful with orders.\n",
    "\n",
    "I found browsing for parts and finding what I needed to get started\n",
    "with the weather stuff a bit confusing for a while.\n",
    "\n",
    "I had other stuff to do anyway, I needed to get used to just\n",
    "installing software on them and setting up environments where I can\n",
    "figure out how things are working.\n",
    "\n",
    "I found a great [posting]() about building a weather station, with\n",
    "enough detail I thought I would be able to work through it.\n",
    "\n",
    "I order a cheap humidity sensor ($5) that also should do temperature.\n",
    "I haven't got it working yet, not sure if it is hardware or software.\n",
    "Meanwhile, I now have a better sensor.  The humidity here is often\n",
    "outside the range the cheaper sensor is supposed to work.\n",
    "\n",
    "The good thing is that I should be able to find a use for it at some point.\n",
    "\n",
    "I also have a camera for this thing and a touchscreen.  I am thinking\n",
    "of trying to combine them to make a camera.\n",
    "\n",
    "The one on my phone can do some neat stuff, but the interface keeps\n",
    "changing and not in ways that are making things easier.\n",
    "\n",
    "The night skies have been spectacular of late, with Venus and Jupiter\n",
    "close together in the early evening sky to the west.  If you see two\n",
    "bright stars after sunset, that is probably them.\n",
    "\n",
    "Then the moon is just past full.  Here in Bermuda there is often\n",
    "cloud, not heavy, but patchy clouds.  The humidity is often very high,\n",
    "so the atmosphere is interesting.\n",
    "\n",
    "The best sunsets usually have some clouds for the setting sun to\n",
    "reflect off.  The same with sunrises.\n",
    "\n",
    "And the full moon too.  Tonight it rose behind cloud.  Last night it\n",
    "was clearer and it rose orange/red.\n",
    "\n"
   ]
  },
  {
   "cell_type": "markdown",
   "metadata": {
    "collapsed": true
   },
   "source": [
    "### Back to weather\n",
    "Since I got this thing working it has been hot and settled weather.\n",
    "There is a strong Bermuda high in place.  Someone described it to me\n",
    "as like a pit-bull, once it gets hold it does not let go.  So, we may\n",
    "be in for a long hot spell.\n",
    "\n",
    "With the pressure changing quite smoothly, the plots I created still\n",
    "showed quite an interesting pattern.\n",
    "\n",
    "Skip the next bit, or go back to the earlier [post](), it is just\n",
    "setting things up to do some plotting.\n"
   ]
  },
  {
   "cell_type": "code",
   "execution_count": 34,
   "metadata": {
    "collapsed": false
   },
   "outputs": [],
   "source": [
    "# Tell matplotlib to plot in line\n",
    "%matplotlib inline\n",
    "\n",
    "# import pandas\n",
    "import pandas\n",
    "\n",
    "# seaborn magically adds a layer of goodness on top of Matplotlib\n",
    "# mostly this is just changing matplotlib defaults, but it does also\n",
    "# provide some higher level plotting methods.\n",
    "import seaborn\n",
    "\n",
    "# Tell seaborn to set things up\n",
    "seaborn.set()\n",
    "\n",
    "\n",
    "\n",
    "def smooth(data, thresh=None):\n",
    "    \n",
    "    means = data.mean()\n",
    "\n",
    "    if thresh is None:\n",
    "        sds = data.std()\n",
    "    else:\n",
    "        sds = thresh\n",
    "    \n",
    "    delta = data - data.shift()\n",
    "    \n",
    "    good = delta[abs(delta) < sds]\n",
    "\n",
    "    print(good.describe())\n",
    "    \n",
    "    return delta.where(good, 0.0)"
   ]
  },
  {
   "cell_type": "code",
   "execution_count": 35,
   "metadata": {
    "collapsed": false
   },
   "outputs": [],
   "source": [
    "# set the path to the file we are going to analyse\n",
    "infile = \"../files/light.csv\""
   ]
  },
  {
   "cell_type": "code",
   "execution_count": 36,
   "metadata": {
    "collapsed": false
   },
   "outputs": [],
   "source": [
    "\n",
    "\"\"\" assume it is csv and let pandas do magic\n",
    "\n",
    "  index_col tells it to use the 'date' column in the data\n",
    "  as the row index, plotting picks up on this and uses the\n",
    "  date on the x-axis\n",
    "\n",
    "  The *parse_dates* bit just tells it to try and figure out\n",
    "  the date/time in the columne labeled 'date'.\n",
    "\"\"\"\n",
    "data = pandas.read_csv(infile, index_col='date', parse_dates=['date'])"
   ]
  },
  {
   "cell_type": "code",
   "execution_count": 37,
   "metadata": {
    "collapsed": false
   },
   "outputs": [
    {
     "name": "stdout",
     "output_type": "stream",
     "text": [
      "               temp     pressure      altitude  sealevel_pressure\n",
      "count  1.554800e+04  8202.000000  15324.000000        8184.000000\n",
      "mean  -4.569994e-19     0.036942     -0.002413          -0.003177\n",
      "std    3.300908e-02     2.458181      0.519410           2.458501\n",
      "min   -1.000000e-01    -4.000000     -2.154588          -4.000000\n",
      "25%    0.000000e+00    -2.000000     -0.331792          -2.000000\n",
      "50%    0.000000e+00     0.000000      0.000000           0.000000\n",
      "75%    0.000000e+00     2.000000      0.331728           2.000000\n",
      "max    1.000000e-01     4.000000      2.240047           4.000000\n"
     ]
    },
    {
     "data": {
      "text/plain": [
       "array([<matplotlib.axes._subplots.AxesSubplot object at 0x7f1f80df7320>,\n",
       "       <matplotlib.axes._subplots.AxesSubplot object at 0x7f1f7f7c6400>], dtype=object)"
      ]
     },
     "execution_count": 37,
     "metadata": {},
     "output_type": "execute_result"
    },
    {
     "data": {
      "image/png": "[encoded data removed]",
      "text/plain": [
       "<matplotlib.figure.Figure at 0x7f1f807a5fd0>"
      ]
     },
     "metadata": {},
     "output_type": "display_data"
    }
   ],
   "source": [
    "# incantation to extract the first record in the data\n",
    "start = data[['temp', 'altitude']].irow(0)\n",
    "\n",
    "# now use smooth to throw away dodgy data, and plot the temp and altitude fields\n",
    "(smooth(data, 5.0).cumsum()[['temp', 'altitude']] + start).plot(subplots=True)"
   ]
  },
  {
   "cell_type": "markdown",
   "metadata": {
    "collapsed": true
   },
   "source": [
    "### Temperature\n",
    "The temperature plot shows a steady up and down, warming during the\n",
    "days, cooling a little, but only 2C at night.\n",
    "\n",
    "There is one day, where I think we had some thunder storms where it dropped during the day.\n",
    "\n",
    "The last week or so the temperature has been steadily climbing.\n",
    "\n",
    "### Pressure\n",
    "\n",
    "The Pressure also shows slow drifting up and down.  But there is this\n",
    "other strange ripple up and down.\n",
    "\n",
    "I mentioned this to a meteorologist and immediately got the reply that\n",
    "it was because the atmosphere is tidal.\n",
    "\n",
    "So the pattern we see in the pressure should be driven largely by the moon.\n",
    "\n"
   ]
  },
  {
   "cell_type": "code",
   "execution_count": 38,
   "metadata": {
    "collapsed": false
   },
   "outputs": [],
   "source": [
    "import astropy"
   ]
  },
  {
   "cell_type": "code",
   "execution_count": 39,
   "metadata": {
    "collapsed": false
   },
   "outputs": [],
   "source": [
    "from astropy import units\n",
    "from astropy import find_api_page\n",
    "\n"
   ]
  },
  {
   "cell_type": "code",
   "execution_count": 40,
   "metadata": {
    "collapsed": false
   },
   "outputs": [
    {
     "data": {
      "text/plain": [
       "'http://docs.astropy.org/en/v1.0.3/units/index.html#module-astropy.units'"
      ]
     },
     "execution_count": 40,
     "metadata": {},
     "output_type": "execute_result"
    }
   ],
   "source": [
    "find_api_page(units)"
   ]
  },
  {
   "cell_type": "code",
   "execution_count": 41,
   "metadata": {
    "collapsed": false
   },
   "outputs": [],
   "source": [
    "# astropy is cool, but I need data for the moon.  Let's try pyephem\n",
    "\n",
    "# uncommented the line below and run this cell if you need to install using\n",
    "# pip.  This will install into the environment that is being used to run your\n",
    "# ipython notebook server.\n",
    "\n",
    "#!pip install pyephem"
   ]
  },
  {
   "cell_type": "code",
   "execution_count": 42,
   "metadata": {
    "collapsed": false
   },
   "outputs": [],
   "source": [
    "import ephem"
   ]
  },
  {
   "cell_type": "code",
   "execution_count": 43,
   "metadata": {
    "collapsed": false
   },
   "outputs": [],
   "source": [
    "#dir(ephem.Moon)\n",
    "\n",
    "moon = ephem.Moon()"
   ]
  },
  {
   "cell_type": "code",
   "execution_count": 44,
   "metadata": {
    "collapsed": false
   },
   "outputs": [
    {
     "data": {
      "text/plain": [
       "73.66812133789062"
      ]
     },
     "execution_count": 44,
     "metadata": {},
     "output_type": "execute_result"
    }
   ],
   "source": [
    "moon.compute()\n",
    "\n",
    "moon.phase"
   ]
  },
  {
   "cell_type": "code",
   "execution_count": 46,
   "metadata": {
    "collapsed": false
   },
   "outputs": [
    {
     "data": {
      "text/plain": [
       "'Moon'"
      ]
     },
     "execution_count": 46,
     "metadata": {},
     "output_type": "execute_result"
    }
   ],
   "source": [
    "moon.name"
   ]
  },
  {
   "cell_type": "code",
   "execution_count": 62,
   "metadata": {
    "collapsed": false
   },
   "outputs": [
    {
     "name": "stdout",
     "output_type": "stream",
     "text": [
      "73.5696792602539 346:20:32.8 1:34:17.3\n"
     ]
    }
   ],
   "source": [
    "moon = ephem.Moon(data.index[0])\n",
    "moon.compute()\n",
    "print(moon.phase, moon.hlon, moon.hlat)"
   ]
  },
  {
   "cell_type": "code",
   "execution_count": 72,
   "metadata": {
    "collapsed": false
   },
   "outputs": [
    {
     "name": "stdout",
     "output_type": "stream",
     "text": [
      "xx\n",
      "1\n",
      "<class 'numpy.float64'>\n",
      "(29.300000000000001,)\n",
      "xx\n",
      "1\n",
      "<class 'numpy.float64'>\n",
      "(29.300000000000001,)\n",
      "xx\n",
      "1\n",
      "<class 'numpy.float64'>\n",
      "(29.300000000000001,)\n",
      "xx\n",
      "1\n",
      "<class 'numpy.float64'>\n",
      "(29.300000000000001,)\n",
      "xx\n",
      "1\n",
      "<class 'numpy.float64'>\n",
      "(29.300000000000001,)\n",
      "xx\n",
      "1\n",
      "<class 'numpy.float64'>\n",
      "(29.300000000000001,)\n",
      "xx\n",
      "1\n",
      "<class 'numpy.float64'>\n",
      "(29.300000000000001,)\n",
      "xx\n",
      "1\n",
      "<class 'numpy.float64'>\n",
      "(29.300000000000001,)\n",
      "xx\n",
      "1\n",
      "<class 'numpy.float64'>\n",
      "(29.300000000000001,)\n",
      "xx\n",
      "1\n",
      "<class 'numpy.float64'>\n",
      "(29.300000000000001,)\n",
      "xx\n",
      "1\n",
      "<class 'numpy.float64'>\n",
      "(29.300000000000001,)\n",
      "xx\n",
      "1\n",
      "<class 'numpy.float64'>\n",
      "(29.300000000000001,)\n",
      "xx\n",
      "1\n",
      "<class 'numpy.float64'>\n",
      "(29.300000000000001,)\n",
      "xx\n",
      "1\n",
      "<class 'numpy.float64'>\n",
      "(29.300000000000001,)\n",
      "xx\n",
      "1\n",
      "<class 'numpy.float64'>\n",
      "(29.300000000000001,)\n",
      "xx\n",
      "1\n",
      "<class 'numpy.float64'>\n",
      "(29.300000000000001,)\n",
      "xx\n",
      "1\n",
      "<class 'numpy.float64'>\n",
      "(29.300000000000001,)\n",
      "xx\n",
      "1\n",
      "<class 'numpy.float64'>\n",
      "(29.300000000000001,)\n",
      "xx\n",
      "1\n",
      "<class 'numpy.float64'>\n",
      "(29.300000000000001,)\n",
      "xx\n",
      "1\n",
      "<class 'numpy.float64'>\n",
      "(29.300000000000001,)\n",
      "xx\n",
      "1\n",
      "<class 'numpy.int64'>\n",
      "(101637,)\n",
      "xx\n",
      "1\n",
      "<class 'numpy.int64'>\n",
      "(101642,)\n",
      "xx\n",
      "1\n",
      "<class 'numpy.int64'>\n",
      "(101643,)\n",
      "xx\n",
      "1\n",
      "<class 'numpy.int64'>\n",
      "(101644,)\n",
      "xx\n",
      "1\n",
      "<class 'numpy.int64'>\n",
      "(101634,)\n",
      "xx\n",
      "1\n",
      "<class 'numpy.int64'>\n",
      "(101637,)\n",
      "xx\n",
      "1\n",
      "<class 'numpy.int64'>\n",
      "(101623,)\n",
      "xx\n",
      "1\n",
      "<class 'numpy.int64'>\n",
      "(101629,)\n",
      "xx\n",
      "1\n",
      "<class 'numpy.int64'>\n",
      "(101628,)\n",
      "xx\n",
      "1\n",
      "<class 'numpy.int64'>\n",
      "(101638,)\n",
      "xx\n",
      "1\n",
      "<class 'numpy.float64'>\n",
      "(-25.777026631502491,)\n",
      "xx\n",
      "1\n",
      "<class 'numpy.float64'>\n",
      "(-26.524440444924807,)\n",
      "xx\n",
      "1\n",
      "<class 'numpy.float64'>\n",
      "(-25.943123221173487,)\n",
      "xx\n",
      "1\n",
      "<class 'numpy.float64'>\n",
      "(-25.777026631502491,)\n",
      "xx\n",
      "1\n",
      "<class 'numpy.float64'>\n",
      "(-26.441397111922523,)\n",
      "xx\n",
      "1\n",
      "<class 'numpy.float64'>\n",
      "(-25.527876784709989,)\n",
      "xx\n",
      "1\n",
      "<class 'numpy.float64'>\n",
      "(-25.444825512447768,)\n",
      "xx\n",
      "1\n",
      "<class 'numpy.float64'>\n",
      "(-25.195667725558664,)\n",
      "xx\n",
      "1\n",
      "<class 'numpy.float64'>\n",
      "(-25.195667725558664,)\n",
      "xx\n",
      "1\n",
      "<class 'numpy.float64'>\n",
      "(-25.693977344217672,)\n",
      "xx\n",
      "1\n",
      "<class 'numpy.float64'>\n",
      "(101637.0,)\n",
      "xx\n",
      "1\n",
      "<class 'numpy.float64'>\n",
      "(101640.0,)\n",
      "xx\n",
      "1\n",
      "<class 'numpy.float64'>\n",
      "(101637.0,)\n",
      "xx\n",
      "1\n",
      "<class 'numpy.float64'>\n",
      "(101637.0,)\n",
      "xx\n",
      "1\n",
      "<class 'numpy.float64'>\n",
      "(101637.0,)\n",
      "xx\n",
      "1\n",
      "<class 'numpy.float64'>\n",
      "(101626.0,)\n",
      "xx\n",
      "1\n",
      "<class 'numpy.float64'>\n",
      "(101625.0,)\n",
      "xx\n",
      "1\n",
      "<class 'numpy.float64'>\n",
      "(101635.0,)\n",
      "xx\n",
      "1\n",
      "<class 'numpy.float64'>\n",
      "(101628.0,)\n",
      "xx\n",
      "1\n",
      "<class 'numpy.float64'>\n",
      "(101634.0,)\n"
     ]
    },
    {
     "data": {
      "text/html": [
       "<div>\n",
       "<table border=\"1\" class=\"dataframe\">\n",
       "  <thead>\n",
       "    <tr style=\"text-align: right;\">\n",
       "      <th></th>\n",
       "      <th>temp</th>\n",
       "      <th>pressure</th>\n",
       "      <th>altitude</th>\n",
       "      <th>sealevel_pressure</th>\n",
       "    </tr>\n",
       "    <tr>\n",
       "      <th>date</th>\n",
       "      <th></th>\n",
       "      <th></th>\n",
       "      <th></th>\n",
       "      <th></th>\n",
       "    </tr>\n",
       "  </thead>\n",
       "  <tbody>\n",
       "    <tr>\n",
       "      <th>2015-06-25 15:07:37.174400</th>\n",
       "      <td>None</td>\n",
       "      <td>None</td>\n",
       "      <td>None</td>\n",
       "      <td>None</td>\n",
       "    </tr>\n",
       "    <tr>\n",
       "      <th>2015-06-25 15:08:37.290769</th>\n",
       "      <td>None</td>\n",
       "      <td>None</td>\n",
       "      <td>None</td>\n",
       "      <td>None</td>\n",
       "    </tr>\n",
       "    <tr>\n",
       "      <th>2015-06-25 15:09:37.406928</th>\n",
       "      <td>None</td>\n",
       "      <td>None</td>\n",
       "      <td>None</td>\n",
       "      <td>None</td>\n",
       "    </tr>\n",
       "    <tr>\n",
       "      <th>2015-06-25 15:10:37.523022</th>\n",
       "      <td>None</td>\n",
       "      <td>None</td>\n",
       "      <td>None</td>\n",
       "      <td>None</td>\n",
       "    </tr>\n",
       "    <tr>\n",
       "      <th>2015-06-25 15:11:37.638969</th>\n",
       "      <td>None</td>\n",
       "      <td>None</td>\n",
       "      <td>None</td>\n",
       "      <td>None</td>\n",
       "    </tr>\n",
       "    <tr>\n",
       "      <th>2015-06-25 15:12:37.755075</th>\n",
       "      <td>None</td>\n",
       "      <td>None</td>\n",
       "      <td>None</td>\n",
       "      <td>None</td>\n",
       "    </tr>\n",
       "    <tr>\n",
       "      <th>2015-06-25 15:13:37.817112</th>\n",
       "      <td>None</td>\n",
       "      <td>None</td>\n",
       "      <td>None</td>\n",
       "      <td>None</td>\n",
       "    </tr>\n",
       "    <tr>\n",
       "      <th>2015-06-25 15:14:37.933191</th>\n",
       "      <td>None</td>\n",
       "      <td>None</td>\n",
       "      <td>None</td>\n",
       "      <td>None</td>\n",
       "    </tr>\n",
       "    <tr>\n",
       "      <th>2015-06-25 15:15:38.049267</th>\n",
       "      <td>None</td>\n",
       "      <td>None</td>\n",
       "      <td>None</td>\n",
       "      <td>None</td>\n",
       "    </tr>\n",
       "    <tr>\n",
       "      <th>2015-06-25 15:16:38.125113</th>\n",
       "      <td>None</td>\n",
       "      <td>None</td>\n",
       "      <td>None</td>\n",
       "      <td>None</td>\n",
       "    </tr>\n",
       "  </tbody>\n",
       "</table>\n",
       "</div>"
      ],
      "text/plain": [
       "                            temp pressure altitude sealevel_pressure\n",
       "date                                                                \n",
       "2015-06-25 15:07:37.174400  None     None     None              None\n",
       "2015-06-25 15:08:37.290769  None     None     None              None\n",
       "2015-06-25 15:09:37.406928  None     None     None              None\n",
       "2015-06-25 15:10:37.523022  None     None     None              None\n",
       "2015-06-25 15:11:37.638969  None     None     None              None\n",
       "2015-06-25 15:12:37.755075  None     None     None              None\n",
       "2015-06-25 15:13:37.817112  None     None     None              None\n",
       "2015-06-25 15:14:37.933191  None     None     None              None\n",
       "2015-06-25 15:15:38.049267  None     None     None              None\n",
       "2015-06-25 15:16:38.125113  None     None     None              None"
      ]
     },
     "execution_count": 72,
     "metadata": {},
     "output_type": "execute_result"
    }
   ],
   "source": [
    "def foo(*args):\n",
    "    \n",
    "    print('xx')\n",
    "    print(len(args))\n",
    "    print(type(args[0]))\n",
    "    print(args)\n",
    "\n",
    "data[:10].applymap(foo)"
   ]
  }
 ],
 "metadata": {
  "kernelspec": {
   "display_name": "Python 3",
   "language": "python",
   "name": "python3"
  },
  "language_info": {
   "codemirror_mode": {
    "name": "ipython",
    "version": 3
   },
   "file_extension": ".py",
   "mimetype": "text/x-python",
   "name": "python",
   "nbconvert_exporter": "python",
   "pygments_lexer": "ipython3",
   "version": "3.4.3"
  },
  "name": "air-pressure-and-the-tides.ipynb"
 },
 "nbformat": 4,
 "nbformat_minor": 0
}
