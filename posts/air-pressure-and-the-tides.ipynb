{
 "cells": [
  {
   "cell_type": "markdown",
   "metadata": {
    "collapsed": true,
    "tags": [
     "worksheet-0"
    ]
   },
   "source": [
    "I am really enjoying having this weather station.  I say weather\n",
    "station, but it is just a raspberry pi with a pressure and temperature\n",
    "sensor attached to it.\n",
    "Computers are versatile, you can run any software on them, so they can\n",
    "do a lot of different things.\n",
    "\n",
    "But the pi takes this to a whole different level.  They are $40 or so,\n",
    "depending on taxes and stuff.  Now you need a whole bunch of other\n",
    "stuff: leads, keyboards, sensors, cameras, touch screens and lots more.\n",
    "\n",
    "I have been using [Adafruit]().  They have been very helpful with orders.\n",
    "\n",
    "I found browsing for parts and finding what I needed to get started\n",
    "with the weather stuff a bit confusing for a while.\n",
    "\n",
    "I had other stuff to do anyway, I needed to get used to just\n",
    "installing software on them and setting up environments where I can\n",
    "figure out how things are working.\n",
    "\n",
    "I found a great [posting]() about building a weather station, with\n",
    "enough detail I thought I would be able to work through it.\n",
    "\n",
    "I order a cheap humidity sensor ($5) that also should do temperature.\n",
    "I haven't got it working yet, not sure if it is hardware or software.\n",
    "Meanwhile, I now have a better sensor.  The humidity here is often\n",
    "outside the range the cheaper sensor is supposed to work.\n",
    "\n",
    "The good thing is that I should be able to find a use for it at some point.\n",
    "\n",
    "I also have a camera for this thing and a touchscreen.  I am thinking\n",
    "of trying to combine them to make a camera.\n",
    "\n",
    "The one on my phone can do some neat stuff, but the interface keeps\n",
    "changing and not in ways that are making things easier.\n",
    "\n",
    "The night skies have been spectacular of late, with Venus and Jupiter\n",
    "close together in the early evening sky to the west.  If you see two\n",
    "bright stars after sunset, that is probably them.\n",
    "\n",
    "Then the moon is just past full.  Here in Bermuda there is often\n",
    "cloud, not heavy, but patchy clouds.  The humidity is often very high,\n",
    "so the atmosphere is interesting.\n",
    "\n",
    "The best sunsets usually have some clouds for the setting sun to\n",
    "reflect off.  The same with sunrises.\n",
    "\n",
    "And the full moon too.  Tonight it rose behind cloud.  Last night it\n",
    "was clearer and it rose orange/red.\n",
    "\n"
   ]
  },
  {
   "cell_type": "markdown",
   "metadata": {
    "collapsed": true,
    "tags": [
     "worksheet-0"
    ]
   },
   "source": [
    "### Back to weather\n",
    "Since I got this thing working it has been hot and settled weather.\n",
    "There is a strong Bermuda high in place.  Someone described it to me\n",
    "as like a pit-bull, once it gets hold it does not let go.  So, we may\n",
    "be in for a long hot spell.\n",
    "\n",
    "With the pressure changing quite smoothly, the plots I created still\n",
    "showed quite an interesting pattern.\n",
    "\n",
    "Skip the next bit, or go back to the earlier [post](), it is just\n",
    "setting things up to do some plotting.\n"
   ]
  },
  {
   "cell_type": "code",
   "execution_count": 26,
   "metadata": {
    "collapsed": false,
    "tags": [
     "worksheet-0"
    ]
   },
   "outputs": [],
   "source": [
    "# Tell matplotlib to plot in line\n",
    "%matplotlib inline\n",
    "\n",
    "# import pandas\n",
    "import pandas\n",
    "\n",
    "# seaborn magically adds a layer of goodness on top of Matplotlib\n",
    "# mostly this is just changing matplotlib defaults, but it does also\n",
    "# provide some higher level plotting methods.\n",
    "import seaborn\n",
    "\n",
    "# Tell seaborn to set things up\n",
    "seaborn.set()\n",
    "\n",
    "\n",
    "\n",
    "def smooth(data, thresh=None):\n",
    "    \n",
    "    means = data.mean()\n",
    "\n",
    "    if thresh is None:\n",
    "        sds = data.std()\n",
    "    else:\n",
    "        sds = thresh\n",
    "    \n",
    "    delta = data - data.shift()\n",
    "    \n",
    "    good = delta[abs(delta) < sds]\n",
    "\n",
    "    print(good.describe())\n",
    "    \n",
    "    return delta.where(good, 0.0)"
   ]
  },
  {
   "cell_type": "code",
   "execution_count": 27,
   "metadata": {
    "collapsed": false,
    "tags": [
     "worksheet-0"
    ]
   },
   "outputs": [
    {
     "name": "stdout",
     "output_type": "stream",
     "text": [
      "\r",
      "light.csv                                     100% 1519KB   1.5MB/s   00:00    \r\n"
     ]
    },
    {
     "name": "stdout",
     "output_type": "stream",
     "text": [
      "\r",
      "light.csv                                       0%    0     0.0KB/s   --:-- ETA"
     ]
    }
   ],
   "source": [
    "# set the path to the file we are going to analyse\n",
    "infile = \"../files/light.csv\"\n",
    "\n",
    "!scp 192.168.0.133:Adafruit_Python_BMP/light.csv ../files"
   ]
  },
  {
   "cell_type": "code",
   "execution_count": 28,
   "metadata": {
    "collapsed": false,
    "tags": [
     "worksheet-0"
    ]
   },
   "outputs": [],
   "source": [
    "\n",
    "\"\"\" assume it is csv and let pandas do magic\n",
    "\n",
    "  index_col tells it to use the 'date' column in the data\n",
    "  as the row index, plotting picks up on this and uses the\n",
    "  date on the x-axis\n",
    "\n",
    "  The *parse_dates* bit just tells it to try and figure out\n",
    "  the date/time in the columne labeled 'date'.\n",
    "\"\"\"\n",
    "data = pandas.read_csv(infile, index_col='date', parse_dates=['date'])"
   ]
  },
  {
   "cell_type": "code",
   "execution_count": 29,
   "metadata": {
    "collapsed": false,
    "tags": [
     "worksheet-0"
    ]
   },
   "outputs": [
    {
     "data": {
      "text/plain": [
       "<matplotlib.figure.Figure at 0x7fc3e814a2e8>"
      ]
     },
     "metadata": {},
     "output_type": "display_data"
    },
    {
     "data": {
      "text/plain": [
       "array([<matplotlib.axes._subplots.AxesSubplot object at 0x7fc3e814aa20>,\n       <matplotlib.axes._subplots.AxesSubplot object at 0x7fc3e80d0198>], dtype=object)"
      ]
     },
     "execution_count": 29,
     "metadata": {},
     "output_type": "execute_result"
    },
    {
     "name": "stdout",
     "output_type": "stream",
     "text": [
      "               temp      pressure      altitude  sealevel_pressure\n",
      "count  22693.000000  12105.000000  22469.000000       12161.000000\n",
      "mean       0.000013      0.020405      0.000960          -0.002549\n",
      "std        0.033146      2.455654      0.513644           2.454971\n",
      "min       -0.100000     -4.000000     -2.330888          -4.000000\n",
      "25%        0.000000     -2.000000     -0.331731          -2.000000\n",
      "50%        0.000000      0.000000      0.000000           0.000000\n",
      "75%        0.000000      2.000000      0.331834           2.000000\n",
      "max        0.100000      4.000000      2.240047           4.000000\n"
     ]
    }
   ],
   "source": [
    "# incantation to extract the first record in the data\n",
    "start = data[['temp', 'altitude']].irow(0)\n",
    "\n",
    "# smooth the data to filter out bad temps and pressures\n",
    "sdata = (smooth(data, 5.0).cumsum() + start)\n",
    "\n",
    "# now use smooth to throw away dodgy data, and plot the temp and altitude fieldsa\n",
    "sdata[['temp', 'altitude']].plot(subplots=True)"
   ]
  },
  {
   "cell_type": "markdown",
   "metadata": {
    "collapsed": true,
    "tags": [
     "worksheet-0"
    ]
   },
   "source": [
    "### Temperature\n",
    "The temperature plot shows a steady up and down, warming during the\n",
    "days, cooling a little, but only 2C at night.\n",
    "\n",
    "There is one day, where I think we had some thunder storms where it dropped during the day.\n",
    "\n",
    "The last week or so the temperature has been steadily climbing.\n",
    "\n",
    "### Pressure\n",
    "\n",
    "The Pressure also shows slow drifting up and down.  But there is this\n",
    "other strange ripple up and down.\n",
    "\n",
    "I mentioned this to a meteorologist and immediately got the reply that\n",
    "it was because the atmosphere is tidal.\n",
    "\n",
    "So the pattern we see in the pressure should be driven largely by the moon.\n",
    "\n"
   ]
  },
  {
   "cell_type": "code",
   "execution_count": 30,
   "metadata": {
    "collapsed": false,
    "tags": [
     "worksheet-0"
    ]
   },
   "outputs": [],
   "source": [
    "import astropy"
   ]
  },
  {
   "cell_type": "code",
   "execution_count": 31,
   "metadata": {
    "collapsed": false,
    "tags": [
     "worksheet-0"
    ]
   },
   "outputs": [],
   "source": [
    "from astropy import units\n",
    "from astropy import find_api_page\n",
    "\n"
   ]
  },
  {
   "cell_type": "code",
   "execution_count": 32,
   "metadata": {
    "collapsed": false,
    "tags": [
     "worksheet-0"
    ]
   },
   "outputs": [],
   "source": [
    "# find_api_page is handy, even opens a browser windo.\n",
    "\n",
    "#find_api_page(units)"
   ]
  },
  {
   "cell_type": "code",
   "execution_count": 33,
   "metadata": {
    "collapsed": false,
    "tags": [
     "worksheet-0"
    ]
   },
   "outputs": [],
   "source": [
    "# astropy is cool, but I need data for the moon.  Let's try pyephem\n",
    "\n",
    "# uncommented the line below and run this cell if you need to install using\n",
    "# pip.  This will install into the environment that is being used to run your\n",
    "# ipython notebook server.\n",
    "\n",
    "#!pip install pyephem"
   ]
  },
  {
   "cell_type": "code",
   "execution_count": 34,
   "metadata": {
    "collapsed": false,
    "tags": [
     "worksheet-0"
    ]
   },
   "outputs": [],
   "source": [
    "import ephem"
   ]
  },
  {
   "cell_type": "code",
   "execution_count": 35,
   "metadata": {
    "collapsed": false,
    "tags": [
     "worksheet-0"
    ]
   },
   "outputs": [],
   "source": [
    "# Create a Moon\n",
    "\n",
    "moon = ephem.Moon()"
   ]
  },
  {
   "cell_type": "code",
   "execution_count": 36,
   "metadata": {
    "collapsed": false,
    "tags": [
     "worksheet-0"
    ]
   },
   "outputs": [
    {
     "data": {
      "text/plain": [
       "22.200401306152344"
      ]
     },
     "execution_count": 36,
     "metadata": {},
     "output_type": "execute_result"
    }
   ],
   "source": [
    "# Tell it to figure out where it is\n",
    "moon.compute()\n",
    "\n",
    "# pring out the phase\n",
    "moon.phase"
   ]
  },
  {
   "cell_type": "code",
   "execution_count": 37,
   "metadata": {
    "collapsed": false,
    "tags": [
     "worksheet-0"
    ]
   },
   "outputs": [],
   "source": [
    "def moon_orbitals(index):\n",
    "    \"\"\" Given an index of times create a DataFrame of moon orbitals\n",
    "    \n",
    "    For now, just Phase, geocentric latitude and geocentric longitude\n",
    "    \"\"\"\n",
    "    \n",
    "    # Create dataframe with index as the index\n",
    "    df = pandas.DataFrame(index=index)\n",
    "    \n",
    "    # Add three series\n",
    "    df['phase'] = pandas.Series()\n",
    "    df['glat'] = pandas.Series()\n",
    "    df['glon'] = pandas.Series()\n",
    "    \n",
    "    # Now generate the data\n",
    "    # NB this is slow, solpy might work out faster\n",
    "    moon = ephem.Moon()\n",
    "    for ix, timestamp in enumerate(index):\n",
    "        \n",
    "        # Compute the moon posigion\n",
    "        moon.compute(timestamp.strftime(\"%Y/%m/%d %H:%M:%S\"))\n",
    "        \n",
    "        df.phase[ix] = moon.phase\n",
    "        df.glat[ix] = moon.hlat\n",
    "        df.glon[ix] = moon.hlon\n",
    "        \n",
    "    return df\n",
    "        \n",
    "        "
   ]
  },
  {
   "cell_type": "code",
   "execution_count": 38,
   "metadata": {
    "collapsed": false,
    "tags": [
     "worksheet-0"
    ]
   },
   "outputs": [
    {
     "data": {
      "text/plain": [
       "              phase          glat          glon\ncount  22786.000000  22786.000000  22786.000000\nmean      75.640416      0.037898      3.768732\nstd       22.146771      0.045515      1.994235\nmin       22.200827     -0.066053      0.000126\n25%       62.990458      0.010521      3.465454\n50%       81.608940      0.050670      4.331935\n75%       94.936598      0.077578      5.289854\nmax       99.811104      0.087505      6.283139"
      ]
     },
     "execution_count": 38,
     "metadata": {},
     "output_type": "execute_result"
    }
   ],
   "source": [
    "# See what we got\n",
    "\n",
    "moon = moon_orbitals(data.index)\n",
    "moon.describe()"
   ]
  },
  {
   "cell_type": "code",
   "execution_count": 39,
   "metadata": {
    "collapsed": false,
    "tags": [
     "worksheet-0"
    ]
   },
   "outputs": [
    {
     "data": {
      "text/plain": [
       "<matplotlib.figure.Figure at 0x7fc3e3ded208>"
      ]
     },
     "metadata": {},
     "output_type": "display_data"
    },
    {
     "data": {
      "text/plain": [
       "array([<matplotlib.axes._subplots.AxesSubplot object at 0x7fc3e8040ba8>,\n       <matplotlib.axes._subplots.AxesSubplot object at 0x7fc3e3ff0160>,\n       <matplotlib.axes._subplots.AxesSubplot object at 0x7fc3e3f72be0>], dtype=object)"
      ]
     },
     "execution_count": 39,
     "metadata": {},
     "output_type": "execute_result"
    }
   ],
   "source": [
    "moon.plot(subplots=True)"
   ]
  },
  {
   "cell_type": "code",
   "execution_count": 40,
   "metadata": {
    "collapsed": false,
    "tags": [
     "worksheet-0"
    ]
   },
   "outputs": [],
   "source": [
    "# Try feeding in a longer time series\n",
    "days = pandas.date_range('7/7/2015', periods=560, freq='D')"
   ]
  },
  {
   "cell_type": "code",
   "execution_count": 41,
   "metadata": {
    "collapsed": false,
    "tags": [
     "worksheet-0"
    ]
   },
   "outputs": [
    {
     "data": {
      "text/plain": [
       "<matplotlib.figure.Figure at 0x7fc3e3bb61d0>"
      ]
     },
     "metadata": {},
     "output_type": "display_data"
    },
    {
     "data": {
      "text/plain": [
       "array([<matplotlib.axes._subplots.AxesSubplot object at 0x7fc3e3ebd5f8>,\n       <matplotlib.axes._subplots.AxesSubplot object at 0x7fc3e3cdfb70>,\n       <matplotlib.axes._subplots.AxesSubplot object at 0x7fc3e3d4cc18>], dtype=object)"
      ]
     },
     "execution_count": 41,
     "metadata": {},
     "output_type": "execute_result"
    }
   ],
   "source": [
    "moon_orbitals(days).plot(subplots=True)"
   ]
  },
  {
   "cell_type": "code",
   "execution_count": 42,
   "metadata": {
    "collapsed": false,
    "tags": [
     "worksheet-0"
    ]
   },
   "outputs": [],
   "source": [
    "sdata['moon_phase'] = moon.phase\n",
    "sdata['moon_glat'] = moon.glat\n",
    "sdata['moon_glon'] = moon.glon\n",
    "\n",
    "# FIXME -- must be a pandas one liner eg data += moon ?"
   ]
  },
  {
   "cell_type": "code",
   "execution_count": 43,
   "metadata": {
    "collapsed": false,
    "tags": [
     "worksheet-0"
    ]
   },
   "outputs": [
    {
     "data": {
      "text/plain": [
       "<matplotlib.figure.Figure at 0x7fc3e3c68e80>"
      ]
     },
     "metadata": {},
     "output_type": "display_data"
    },
    {
     "data": {
      "text/plain": [
       "array([<matplotlib.axes._subplots.AxesSubplot object at 0x7fc3e3c2b3c8>,\n       <matplotlib.axes._subplots.AxesSubplot object at 0x7fc3e3bf5518>,\n       <matplotlib.axes._subplots.AxesSubplot object at 0x7fc3e3ac04a8>,\n       <matplotlib.axes._subplots.AxesSubplot object at 0x7fc3e3afb5f8>,\n       <matplotlib.axes._subplots.AxesSubplot object at 0x7fc3e3a40da0>], dtype=object)"
      ]
     },
     "execution_count": 43,
     "metadata": {},
     "output_type": "execute_result"
    }
   ],
   "source": [
    "sdata[['temp', 'altitude', 'moon_phase', 'moon_glon', 'moon_glat']].plot(subplots=True)"
   ]
  },
  {
   "cell_type": "markdown",
   "metadata": {
    "collapsed": true,
    "tags": [
     "worksheet-0"
    ]
   },
   "source": [
    "### To be continued\n",
    "\n",
    "For now, it is interesting to see that the latitude is almost in phase with the phase.  \n",
    "\n",
    "Next job is to add these series to our data frame and then take a look at scikit-learn"
   ]
  },
  {
   "cell_type": "code",
   "execution_count": 44,
   "metadata": {
    "collapsed": false,
    "tags": [
     "worksheet-0"
    ]
   },
   "outputs": [
    {
     "data": {
      "text/plain": [
       "15.116666666666667"
      ]
     },
     "execution_count": 44,
     "metadata": {},
     "output_type": "execute_result"
    },
    {
     "name": "stdout",
     "output_type": "stream",
     "text": [
      "2015-06-25 15:07:37.174400\n"
     ]
    }
   ],
   "source": [
    "print(sdata.index[0])\n",
    "sdata.index[0].hour + (sdata.index[0].minute / 60.)"
   ]
  },
  {
   "cell_type": "code",
   "execution_count": 45,
   "metadata": {
    "collapsed": false,
    "tags": [
     "worksheet-0"
    ]
   },
   "outputs": [
    {
     "data": {
      "text/plain": [
       "           altitude  pressure  sealevel_pressure          temp    moon_phase  \\\ncount  22786.000000         0                  0  22786.000000  22786.000000   \nmean     -40.828572       NaN                NaN     29.238835     75.640416   \nstd       15.393952       NaN                NaN      0.825497     22.146771   \nmin      -69.792586       NaN                NaN     27.200000     22.200827   \n25%      -52.646716       NaN                NaN     28.600000     62.990458   \n50%      -43.857477       NaN                NaN     29.300000     81.608940   \n75%      -30.924791       NaN                NaN     29.900000     94.936598   \nmax        8.379000       NaN                NaN     31.100000     99.811104   \n\n          moon_glat     moon_glon  \ncount  22786.000000  22786.000000  \nmean       0.037898      3.768732  \nstd        0.045515      1.994235  \nmin       -0.066053      0.000126  \n25%        0.010521      3.465454  \n50%        0.050670      4.331935  \n75%        0.077578      5.289854  \nmax        0.087505      6.283139  "
      ]
     },
     "execution_count": 45,
     "metadata": {},
     "output_type": "execute_result"
    }
   ],
   "source": [
    "sdata.describe()"
   ]
  },
  {
   "cell_type": "code",
   "execution_count": 46,
   "metadata": {
    "collapsed": false,
    "tags": [
     "worksheet-0"
    ]
   },
   "outputs": [],
   "source": [
    "def tide_proxy(df):\n",
    "    # Create dataframe with index as the index\n",
    "    series = pandas.Series(index=df.index)\n",
    "    \n",
    "    for ix, timestamp in enumerate(df.index):\n",
    "        hour_min = timestamp.hour + (timestamp.minute / 60.)\n",
    "\t\n",
    "        hour_min += df.moon_glat[ix]\n",
    "\n",
    "        series[ix] = hour_min\n",
    "        \n",
    "    return series\n",
    "        \n"
   ]
  },
  {
   "cell_type": "code",
   "execution_count": 47,
   "metadata": {
    "collapsed": false,
    "tags": [
     "worksheet-0"
    ]
   },
   "outputs": [
    {
     "data": {
      "text/plain": [
       "<matplotlib.figure.Figure at 0x7fc3e3cfe780>"
      ]
     },
     "metadata": {},
     "output_type": "display_data"
    },
    {
     "data": {
      "text/plain": [
       "count    22786.000000\nmean        12.014175\nstd          6.959042\nmin         -0.058869\n25%          5.970544\n50%         11.934706\n75%         18.084583\nmax         24.070675\ndtype: float64"
      ]
     },
     "execution_count": 47,
     "metadata": {},
     "output_type": "execute_result"
    }
   ],
   "source": [
    "xx = tide_proxy(sdata)\n",
    "\n",
    "xx.plot()\n",
    "\n",
    "xx.describe()"
   ]
  },
  {
   "cell_type": "code",
   "execution_count": 48,
   "metadata": {
    "collapsed": false,
    "tags": [
     "worksheet-0"
    ]
   },
   "outputs": [
    {
     "data": {
      "text/plain": [
       "              phase          glat          glon\ncount  22786.000000  22786.000000  22786.000000\nmean      75.640416      0.037898      3.768732\nstd       22.146771      0.045515      1.994235\nmin       22.200827     -0.066053      0.000126\n25%       62.990458      0.010521      3.465454\n50%       81.608940      0.050670      4.331935\n75%       94.936598      0.077578      5.289854\nmax       99.811104      0.087505      6.283139"
      ]
     },
     "execution_count": 48,
     "metadata": {},
     "output_type": "execute_result"
    }
   ],
   "source": [
    "# See what we got\n",
    "moon = moon_orbitals(data.index)\n",
    "moon.describe()\n"
   ]
  },
  {
   "cell_type": "code",
   "execution_count": 49,
   "metadata": {
    "collapsed": false,
    "tags": [
     "worksheet-0"
    ]
   },
   "outputs": [],
   "source": [
    "sdata['tide'] = tide_proxy(sdata)"
   ]
  },
  {
   "cell_type": "code",
   "execution_count": 50,
   "metadata": {
    "collapsed": false,
    "tags": [
     "worksheet-0"
    ]
   },
   "outputs": [
    {
     "data": {
      "text/plain": [
       "<matplotlib.figure.Figure at 0x7fc3e3b084a8>"
      ]
     },
     "metadata": {},
     "output_type": "display_data"
    },
    {
     "data": {
      "text/plain": [
       "<matplotlib.axes._subplots.AxesSubplot at 0x7fc3e3bc3f60>"
      ]
     },
     "execution_count": 50,
     "metadata": {},
     "output_type": "execute_result"
    }
   ],
   "source": [
    "fields = ['altitude', 'temp', 'tide']\n",
    "\n",
    "sdata[fields].plot()"
   ]
  },
  {
   "cell_type": "code",
   "execution_count": 55,
   "metadata": {
    "collapsed": false,
    "tags": [
     "worksheet-0"
    ]
   },
   "outputs": [],
   "source": [
    "with open(\"../files/moon_weather.csv\", 'w') as outfile:\n",
    "     sdata.to_csv(outfile)"
   ]
  }
 ],
 "metadata": {
  "kernelspec": {
   "display_name": "Python 3",
   "language": "python",
   "name": "python3"
  },
  "language_info": {
   "codemirror_mode": {
    "name": "ipython",
    "version": 3
   },
   "file_extension": ".py",
   "mimetype": "text/x-python",
   "name": "python",
   "nbconvert_exporter": "python",
   "pygments_lexer": "ipython3",
   "version": "3.4.3"
  },
  "name": "air-pressure-and-the-tides.ipynb"
 },
 "nbformat": 4,
 "nbformat_minor": 0
}
