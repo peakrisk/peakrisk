{
 "cells": [
  {
   "cell_type": "code",
   "execution_count": 111,
   "metadata": {
    "collapsed": false,
    "tags": [
     "worksheet-0"
    ]
   },
   "outputs": [],
   "source": [
    "# Tell matplotlib to plot in line\n",
    "%matplotlib inline\n",
    "\n",
    "# import pandas\n",
    "import pandas\n",
    "\n",
    "# seaborn magically adds a layer of goodness on top of Matplotlib\n",
    "# mostly this is just changing matplotlib defaults, but it does also\n",
    "# provide some higher level plotting methods.\n",
    "import seaborn\n",
    "\n",
    "# Tell seaborn to set things up\n",
    "seaborn.set()\n"
   ]
  },
  {
   "cell_type": "code",
   "execution_count": 112,
   "metadata": {
    "collapsed": false,
    "tags": [
     "worksheet-0"
    ]
   },
   "outputs": [
    {
     "name": "stdout",
     "output_type": "stream",
     "text": [
      "weather.csv                                   100% 9711KB   9.5MB/s   00:01    \n"
     ]
    }
   ],
   "source": [
    "infile = \"../files/pijessie_weather.csv\"\n",
    "!scp 192.168.0.127:Adafruit_Python_BMP/weather.csv $infile"
   ]
  },
  {
   "cell_type": "code",
   "execution_count": 113,
   "metadata": {
    "collapsed": false,
    "tags": [
     "worksheet-0"
    ]
   },
   "outputs": [],
   "source": [
    "\"\"\" assume it is csv and let pandas do magic\n",
    "\n",
    "  index_col tells it to use the 'date' column in the data\n",
    "  as the row index, plotting picks up on this and uses the\n",
    "  date on the x-axis\n",
    "\n",
    "  The *parse_dates* bit just tells it to try and figure out\n",
    "  the date/time in the columne labeled 'date'.\n",
    "\"\"\"\n",
    "data = pandas.read_csv(infile, index_col='date', parse_dates=['date'])\n"
   ]
  },
  {
   "cell_type": "markdown",
   "metadata": {},
   "source": [
    "### See the pressure plummet as Joaquin approaches Bermuda\n",
    "\n",
    "Pressure is still dropping as of 17.50pm BDA time."
   ]
  },
  {
   "cell_type": "code",
   "execution_count": 114,
   "metadata": {
    "collapsed": false,
    "tags": [
     "worksheet-0"
    ]
   },
   "outputs": [
    {
     "data": {
      "text/plain": [
       "<matplotlib.axes._subplots.AxesSubplot at 0x7f85b1772d68>"
      ]
     },
     "execution_count": 114,
     "metadata": {},
     "output_type": "execute_result"
    },
    {
     "data": {
      "image/png": "[encoded data removed]",
      "text/plain": [
       "<matplotlib.figure.Figure at 0x7f85b1736a20>"
      ]
     },
     "metadata": {},
     "output_type": "display_data"
    }
   ],
   "source": [
    "data.pressure[-24*24:].plot()"
   ]
  },
  {
   "cell_type": "code",
   "execution_count": 115,
   "metadata": {
    "collapsed": false
   },
   "outputs": [
    {
     "data": {
      "text/html": [
       "<div>\n",
       "<table border=\"1\" class=\"dataframe\">\n",
       "  <thead>\n",
       "    <tr style=\"text-align: right;\">\n",
       "      <th></th>\n",
       "      <th>temp</th>\n",
       "      <th>pressure</th>\n",
       "      <th>altitude</th>\n",
       "      <th>sealevel_pressure</th>\n",
       "      <th>humidity</th>\n",
       "      <th>temp_dht</th>\n",
       "    </tr>\n",
       "    <tr>\n",
       "      <th>date</th>\n",
       "      <th></th>\n",
       "      <th></th>\n",
       "      <th></th>\n",
       "      <th></th>\n",
       "      <th></th>\n",
       "      <th></th>\n",
       "    </tr>\n",
       "  </thead>\n",
       "  <tbody>\n",
       "    <tr>\n",
       "      <th>2015-10-04 20:43:14.066491</th>\n",
       "      <td>26.8</td>\n",
       "      <td>98561</td>\n",
       "      <td>232.188960</td>\n",
       "      <td>98564</td>\n",
       "      <td>95.300003</td>\n",
       "      <td>26.299999</td>\n",
       "    </tr>\n",
       "    <tr>\n",
       "      <th>2015-10-04 20:44:14.673884</th>\n",
       "      <td>26.8</td>\n",
       "      <td>98588</td>\n",
       "      <td>230.826875</td>\n",
       "      <td>98585</td>\n",
       "      <td>95.300003</td>\n",
       "      <td>26.299999</td>\n",
       "    </tr>\n",
       "    <tr>\n",
       "      <th>2015-10-04 20:45:17.844555</th>\n",
       "      <td>26.8</td>\n",
       "      <td>98543</td>\n",
       "      <td>233.891818</td>\n",
       "      <td>98552</td>\n",
       "      <td>95.099998</td>\n",
       "      <td>26.299999</td>\n",
       "    </tr>\n",
       "    <tr>\n",
       "      <th>2015-10-04 20:46:33.653878</th>\n",
       "      <td>26.8</td>\n",
       "      <td>98577</td>\n",
       "      <td>231.337636</td>\n",
       "      <td>98573</td>\n",
       "      <td>95.000000</td>\n",
       "      <td>26.299999</td>\n",
       "    </tr>\n",
       "    <tr>\n",
       "      <th>2015-10-04 20:47:34.296156</th>\n",
       "      <td>26.8</td>\n",
       "      <td>98576</td>\n",
       "      <td>230.571504</td>\n",
       "      <td>98586</td>\n",
       "      <td>95.000000</td>\n",
       "      <td>26.299999</td>\n",
       "    </tr>\n",
       "  </tbody>\n",
       "</table>\n",
       "</div>"
      ],
      "text/plain": [
       "                            temp  pressure    altitude  sealevel_pressure  \\\n",
       "date                                                                        \n",
       "2015-10-04 20:43:14.066491  26.8     98561  232.188960              98564   \n",
       "2015-10-04 20:44:14.673884  26.8     98588  230.826875              98585   \n",
       "2015-10-04 20:45:17.844555  26.8     98543  233.891818              98552   \n",
       "2015-10-04 20:46:33.653878  26.8     98577  231.337636              98573   \n",
       "2015-10-04 20:47:34.296156  26.8     98576  230.571504              98586   \n",
       "\n",
       "                             humidity   temp_dht  \n",
       "date                                              \n",
       "2015-10-04 20:43:14.066491  95.300003  26.299999  \n",
       "2015-10-04 20:44:14.673884  95.300003  26.299999  \n",
       "2015-10-04 20:45:17.844555  95.099998  26.299999  \n",
       "2015-10-04 20:46:33.653878  95.000000  26.299999  \n",
       "2015-10-04 20:47:34.296156  95.000000  26.299999  "
      ]
     },
     "execution_count": 115,
     "metadata": {},
     "output_type": "execute_result"
    }
   ],
   "source": [
    "data.tail()"
   ]
  }
 ],
 "metadata": {
  "kernelspec": {
   "display_name": "Python 3",
   "language": "python",
   "name": "python3"
  },
  "language_info": {
   "codemirror_mode": {
    "name": "ipython",
    "version": 3
   },
   "file_extension": ".py",
   "mimetype": "text/x-python",
   "name": "python",
   "nbconvert_exporter": "python",
   "pygments_lexer": "ipython3",
   "version": "3.4.3"
  }
 },
 "nbformat": 4,
 "nbformat_minor": 0
}
