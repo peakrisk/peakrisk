{
 "cells": [
  {
   "cell_type": "code",
   "execution_count": 85,
   "metadata": {
    "collapsed": false,
    "tags": [
     "worksheet-0"
    ]
   },
   "outputs": [],
   "source": [
    "# Tell matplotlib to plot in line\n",
    "%matplotlib inline\n",
    "\n",
    "# import pandas\n",
    "import pandas\n",
    "\n",
    "# seaborn magically adds a layer of goodness on top of Matplotlib\n",
    "# mostly this is just changing matplotlib defaults, but it does also\n",
    "# provide some higher level plotting methods.\n",
    "import seaborn\n",
    "\n",
    "# Tell seaborn to set things up\n",
    "seaborn.set()\n"
   ]
  },
  {
   "cell_type": "code",
   "execution_count": 86,
   "metadata": {
    "collapsed": false,
    "tags": [
     "worksheet-0"
    ]
   },
   "outputs": [
    {
     "name": "stdout",
     "output_type": "stream",
     "text": [
      "weather.csv                                   100% 9704KB   4.7MB/s   00:02    \n"
     ]
    }
   ],
   "source": [
    "infile = \"../files/pijessie_weather.csv\"\n",
    "!scp 192.168.0.127:Adafruit_Python_BMP/weather.csv $infile"
   ]
  },
  {
   "cell_type": "code",
   "execution_count": 87,
   "metadata": {
    "collapsed": false,
    "tags": [
     "worksheet-0"
    ]
   },
   "outputs": [],
   "source": [
    "\"\"\" assume it is csv and let pandas do magic\n",
    "\n",
    "  index_col tells it to use the 'date' column in the data\n",
    "  as the row index, plotting picks up on this and uses the\n",
    "  date on the x-axis\n",
    "\n",
    "  The *parse_dates* bit just tells it to try and figure out\n",
    "  the date/time in the columne labeled 'date'.\n",
    "\"\"\"\n",
    "data = pandas.read_csv(infile, index_col='date', parse_dates=['date'])\n"
   ]
  },
  {
   "cell_type": "markdown",
   "metadata": {},
   "source": [
    "### See the pressure plummet as Joaquin approaches Bermuda"
   ]
  },
  {
   "cell_type": "code",
   "execution_count": 88,
   "metadata": {
    "collapsed": false,
    "tags": [
     "worksheet-0"
    ]
   },
   "outputs": [
    {
     "data": {
      "text/plain": [
       "<matplotlib.axes._subplots.AxesSubplot at 0x7f85b0d98550>"
      ]
     },
     "execution_count": 88,
     "metadata": {},
     "output_type": "execute_result"
    },
    {
     "data": {
      "image/png": "[encoded data removed]",
      "text/plain": [
       "<matplotlib.figure.Figure at 0x7f85b0e14780>"
      ]
     },
     "metadata": {},
     "output_type": "display_data"
    }
   ],
   "source": [
    "data.pressure[-4*24:].plot()"
   ]
  },
  {
   "cell_type": "code",
   "execution_count": 89,
   "metadata": {
    "collapsed": false
   },
   "outputs": [
    {
     "data": {
      "text/html": [
       "<div>\n",
       "<table border=\"1\" class=\"dataframe\">\n",
       "  <thead>\n",
       "    <tr style=\"text-align: right;\">\n",
       "      <th></th>\n",
       "      <th>temp</th>\n",
       "      <th>pressure</th>\n",
       "      <th>altitude</th>\n",
       "      <th>sealevel_pressure</th>\n",
       "      <th>humidity</th>\n",
       "      <th>temp_dht</th>\n",
       "    </tr>\n",
       "    <tr>\n",
       "      <th>date</th>\n",
       "      <th></th>\n",
       "      <th></th>\n",
       "      <th></th>\n",
       "      <th></th>\n",
       "      <th></th>\n",
       "      <th></th>\n",
       "    </tr>\n",
       "  </thead>\n",
       "  <tbody>\n",
       "    <tr>\n",
       "      <th>2015-10-04 19:25:29.932227</th>\n",
       "      <td>26.8</td>\n",
       "      <td>98747</td>\n",
       "      <td>216.535778</td>\n",
       "      <td>98751</td>\n",
       "      <td>97.000000</td>\n",
       "      <td>26.299999</td>\n",
       "    </tr>\n",
       "    <tr>\n",
       "      <th>2015-10-04 19:26:30.574524</th>\n",
       "      <td>26.8</td>\n",
       "      <td>98733</td>\n",
       "      <td>217.895987</td>\n",
       "      <td>98732</td>\n",
       "      <td>97.000000</td>\n",
       "      <td>26.299999</td>\n",
       "    </tr>\n",
       "    <tr>\n",
       "      <th>2015-10-04 19:27:31.216919</th>\n",
       "      <td>26.7</td>\n",
       "      <td>98751</td>\n",
       "      <td>216.875814</td>\n",
       "      <td>98762</td>\n",
       "      <td>96.900002</td>\n",
       "      <td>26.299999</td>\n",
       "    </tr>\n",
       "    <tr>\n",
       "      <th>2015-10-04 19:28:31.859169</th>\n",
       "      <td>26.7</td>\n",
       "      <td>98751</td>\n",
       "      <td>217.300873</td>\n",
       "      <td>98754</td>\n",
       "      <td>96.900002</td>\n",
       "      <td>26.299999</td>\n",
       "    </tr>\n",
       "    <tr>\n",
       "      <th>2015-10-04 19:29:32.485914</th>\n",
       "      <td>26.8</td>\n",
       "      <td>98744</td>\n",
       "      <td>216.535778</td>\n",
       "      <td>98744</td>\n",
       "      <td>96.699997</td>\n",
       "      <td>26.299999</td>\n",
       "    </tr>\n",
       "  </tbody>\n",
       "</table>\n",
       "</div>"
      ],
      "text/plain": [
       "                            temp  pressure    altitude  sealevel_pressure  \\\n",
       "date                                                                        \n",
       "2015-10-04 19:25:29.932227  26.8     98747  216.535778              98751   \n",
       "2015-10-04 19:26:30.574524  26.8     98733  217.895987              98732   \n",
       "2015-10-04 19:27:31.216919  26.7     98751  216.875814              98762   \n",
       "2015-10-04 19:28:31.859169  26.7     98751  217.300873              98754   \n",
       "2015-10-04 19:29:32.485914  26.8     98744  216.535778              98744   \n",
       "\n",
       "                             humidity   temp_dht  \n",
       "date                                              \n",
       "2015-10-04 19:25:29.932227  97.000000  26.299999  \n",
       "2015-10-04 19:26:30.574524  97.000000  26.299999  \n",
       "2015-10-04 19:27:31.216919  96.900002  26.299999  \n",
       "2015-10-04 19:28:31.859169  96.900002  26.299999  \n",
       "2015-10-04 19:29:32.485914  96.699997  26.299999  "
      ]
     },
     "execution_count": 89,
     "metadata": {},
     "output_type": "execute_result"
    }
   ],
   "source": [
    "data.tail()"
   ]
  }
 ],
 "metadata": {
  "kernelspec": {
   "display_name": "Python 3",
   "language": "python",
   "name": "python3"
  },
  "language_info": {
   "codemirror_mode": {
    "name": "ipython",
    "version": 3
   },
   "file_extension": ".py",
   "mimetype": "text/x-python",
   "name": "python",
   "nbconvert_exporter": "python",
   "pygments_lexer": "ipython3",
   "version": "3.4.3"
  }
 },
 "nbformat": 4,
 "nbformat_minor": 0
}
