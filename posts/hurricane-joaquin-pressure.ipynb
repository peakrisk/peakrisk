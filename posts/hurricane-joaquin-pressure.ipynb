{
 "cells": [
  {
   "cell_type": "code",
   "execution_count": 1,
   "metadata": {
    "collapsed": false,
    "tags": [
     "worksheet-0"
    ]
   },
   "outputs": [],
   "source": [
    "# Tell matplotlib to plot in line\n",
    "%matplotlib inline\n",
    "\n",
    "# import pandas\n",
    "import pandas\n",
    "\n",
    "# seaborn magically adds a layer of goodness on top of Matplotlib\n",
    "# mostly this is just changing matplotlib defaults, but it does also\n",
    "# provide some higher level plotting methods.\n",
    "import seaborn\n",
    "\n",
    "# Tell seaborn to set things up\n",
    "seaborn.set()\n"
   ]
  },
  {
   "cell_type": "code",
   "execution_count": 3,
   "metadata": {
    "collapsed": false,
    "tags": [
     "worksheet-0"
    ]
   },
   "outputs": [],
   "source": [
    "infile = \"../files/pijessie_weather.csv\"\n"
   ]
  },
  {
   "cell_type": "code",
   "execution_count": 8,
   "metadata": {
    "collapsed": false,
    "tags": [
     "worksheet-0"
    ]
   },
   "outputs": [],
   "source": [
    "\"\"\" assume it is csv and let pandas do magic\n",
    "\n",
    "  index_col tells it to use the 'date' column in the data\n",
    "  as the row index, plotting picks up on this and uses the\n",
    "  date on the x-axis\n",
    "\n",
    "  The *parse_dates* bit just tells it to try and figure out\n",
    "  the date/time in the columne labeled 'date'.\n",
    "\"\"\"\n",
    "data = pandas.read_csv(infile, index_col='date', parse_dates=['date'])\n"
   ]
  },
  {
   "cell_type": "code",
   "execution_count": 11,
   "metadata": {
    "collapsed": false,
    "tags": [
     "worksheet-0"
    ]
   },
   "outputs": [
    {
     "data": {
      "text/plain": [
       "<matplotlib.figure.Figure at 0x7fbce8d044e0>"
      ]
     },
     "metadata": {},
     "output_type": "display_data"
    },
    {
     "data": {
      "text/plain": [
       "<matplotlib.axes._subplots.AxesSubplot at 0x7fbce8cfd4a8>"
      ]
     },
     "execution_count": 11,
     "metadata": {},
     "output_type": "execute_result"
    }
   ],
   "source": [
    "data.pressure[-4*60*24:].plot()"
   ]
  }
 ],
 "metadata": {},
 "nbformat": 4,
 "nbformat_minor": 0
}
